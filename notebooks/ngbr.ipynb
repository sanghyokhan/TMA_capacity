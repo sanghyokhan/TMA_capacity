{
 "cells": [
  {
   "cell_type": "code",
   "execution_count": 1,
   "id": "2ca3c213",
   "metadata": {
    "ExecuteTime": {
     "end_time": "2021-07-29T05:31:01.070900Z",
     "start_time": "2021-07-29T05:30:56.551122Z"
    }
   },
   "outputs": [],
   "source": [
    "import warnings\n",
    "import numpy as np\n",
    "import pandas as pd\n",
    "import matplotlib.pyplot as plt\n",
    "import seaborn as sns\n",
    "from pathlib import Path\n",
    "from sklearn.datasets import load_boston\n",
    "from sklearn.model_selection import train_test_split\n",
    "from sklearn.metrics import mean_squared_error, r2_score\n",
    "\n",
    "from sklearn.tree import DecisionTreeRegressor\n",
    "from ngboost import NGBRegressor\n",
    "from ngboost.distns import Normal\n",
    "from ngboost.scores import CRPScore, MLE\n",
    "from ngboost.ngboost import NGBoost\n",
    "from sklearn.tree import DecisionTreeRegressor\n",
    "\n",
    "from hyperopt import hp, tpe, space_eval\n",
    "from hyperopt.pyll.base import scope\n",
    "from hyperopt.fmin import fmin\n",
    "from hyperopt import STATUS_OK, Trials\n",
    "\n",
    "import logging"
   ]
  },
  {
   "cell_type": "code",
   "execution_count": 2,
   "id": "ab1c6a7b",
   "metadata": {
    "ExecuteTime": {
     "end_time": "2021-07-29T05:31:01.118233Z",
     "start_time": "2021-07-29T05:31:01.108017Z"
    }
   },
   "outputs": [],
   "source": [
    "# options\n",
    "pd.set_option('max_columns',100)\n",
    "plt.style.use('fivethirtyeight')\n",
    "warnings.simplefilter('ignore')\n",
    "seed = 1"
   ]
  },
  {
   "cell_type": "code",
   "execution_count": 3,
   "id": "93f11730",
   "metadata": {
    "ExecuteTime": {
     "end_time": "2021-07-29T05:31:01.164747Z",
     "start_time": "2021-07-29T05:31:01.150674Z"
    }
   },
   "outputs": [],
   "source": [
    "# Data dirctory\n",
    "data_dir = Path('../data/')\n",
    "data_file = data_dir / 'data.csv'"
   ]
  },
  {
   "cell_type": "code",
   "execution_count": 4,
   "id": "a4917a61",
   "metadata": {
    "ExecuteTime": {
     "end_time": "2021-07-29T05:31:01.386227Z",
     "start_time": "2021-07-29T05:31:01.196934Z"
    }
   },
   "outputs": [],
   "source": [
    "# Data\n",
    "# 0:AAR / 1:EAD / 2:ADR / 3:EDD는 고정  , 나머지는 순서 상관 없음\n",
    "Data = pd.read_csv(data_file, index_col=0)"
   ]
  },
  {
   "cell_type": "markdown",
   "id": "ef731297",
   "metadata": {},
   "source": [
    "***\n",
    "***\n",
    "***"
   ]
  },
  {
   "cell_type": "markdown",
   "id": "67171ae7",
   "metadata": {},
   "source": [
    "# Data Selection"
   ]
  },
  {
   "cell_type": "code",
   "execution_count": 5,
   "id": "d675da2b",
   "metadata": {
    "ExecuteTime": {
     "end_time": "2021-07-29T05:31:01.761104Z",
     "start_time": "2021-07-29T05:31:01.512400Z"
    }
   },
   "outputs": [],
   "source": [
    "# 필요없는 것을 버리기\n",
    "Data_temp = Data.drop('TMP', axis=1)\n",
    "Data_temp = Data_temp.drop('TD', axis=1)\n",
    "Data_temp = Data_temp.drop('HM', axis=1)\n",
    "Data_temp = Data_temp.drop('PS', axis=1)\n",
    "Data_temp = Data_temp.drop('PA', axis=1)\n",
    "\n",
    "#고층바람 너무 높은 고도는 뺴자 \n",
    "Data_temp = Data_temp.drop('WD_400', axis=1)\n",
    "Data_temp = Data_temp.drop('WD_500', axis=1)\n",
    "Data_temp = Data_temp.drop('WD_700', axis=1)\n",
    "Data_temp = Data_temp.drop('WS_400', axis=1)\n",
    "Data_temp = Data_temp.drop('WS_500', axis=1)\n",
    "Data_temp = Data_temp.drop('WS_700', axis=1)\n",
    "\n",
    "# drop TAF\n",
    "for i in range(6,30,6):\n",
    "    Data_temp = Data_temp.drop(f'WDIR_t{i}', axis=1)\n",
    "    Data_temp = Data_temp.drop(f'WSPD_t{i}', axis=1)\n",
    "    Data_temp = Data_temp.drop(f'WG_t{i}', axis=1)\n",
    "    Data_temp = Data_temp.drop(f'VIS_t{i}', axis=1)\n",
    "    Data_temp = Data_temp.drop(f'WC_t{i}', axis=1)\n",
    "    Data_temp = Data_temp.drop(f'CLA_1LYR_t{i}', axis=1)\n",
    "    Data_temp = Data_temp.drop(f'BASE_1LYR_t{i}', axis=1)\n",
    "    Data_temp = Data_temp.drop(f'CLA_2LYR_t{i}', axis=1)\n",
    "    Data_temp = Data_temp.drop(f'BASE_2LYR_t{i}', axis=1)\n",
    "    Data_temp = Data_temp.drop(f'CLA_3LYR_t{i}', axis=1)\n",
    "    Data_temp = Data_temp.drop(f'BASE_3LYR_t{i}', axis=1)"
   ]
  },
  {
   "cell_type": "code",
   "execution_count": 6,
   "id": "979bf3e5",
   "metadata": {
    "ExecuteTime": {
     "end_time": "2021-07-29T05:31:02.072997Z",
     "start_time": "2021-07-29T05:31:01.918349Z"
    }
   },
   "outputs": [],
   "source": [
    "# 각 시간에 맞는 TAF로 나누기\n",
    "taf6 = [12,18,24]\n",
    "taf12 = [6,18,24]\n",
    "taf18 = [6,12,24]\n",
    "taf24 = [6,12,18]\n",
    "    \n",
    "# 각 시간에 맞는 taf 넣기\n",
    "data_taf = {}\n",
    "for i in range(6,30,6):\n",
    "    data_taf[f'Data_{i}'] = Data_temp    \n",
    "    data_taf[f'Data_{i}'] = data_taf[f'Data_{i}'].join(Data[f'WDIR_t{i}'])\n",
    "    data_taf[f'Data_{i}'] = data_taf[f'Data_{i}'].join(Data[f'WSPD_t{i}'])\n",
    "    data_taf[f'Data_{i}'] = data_taf[f'Data_{i}'].join(Data[f'WG_t{i}'])\n",
    "    data_taf[f'Data_{i}'] = data_taf[f'Data_{i}'].join(Data[f'VIS_t{i}'])\n",
    "    data_taf[f'Data_{i}'] = data_taf[f'Data_{i}'].join(Data[f'WC_t{i}'])\n",
    "    data_taf[f'Data_{i}'] = data_taf[f'Data_{i}'].join(Data[f'CLA_1LYR_t{i}'])\n",
    "    data_taf[f'Data_{i}'] = data_taf[f'Data_{i}'].join(Data[f'BASE_1LYR_t{i}'])\n",
    "    data_taf[f'Data_{i}'] = data_taf[f'Data_{i}'].join(Data[f'CLA_2LYR_t{i}'])\n",
    "    data_taf[f'Data_{i}'] = data_taf[f'Data_{i}'].join(Data[f'BASE_2LYR_t{i}'])\n",
    "    data_taf[f'Data_{i}'] = data_taf[f'Data_{i}'].join(Data[f'CLA_3LYR_t{i}'])\n",
    "    data_taf[f'Data_{i}'] = data_taf[f'Data_{i}'].join(Data[f'BASE_3LYR_t{i}'])\n",
    "    \n",
    "Data_6 = data_taf['Data_6']\n",
    "Data_12 = data_taf['Data_12']\n",
    "Data_18 = data_taf['Data_18']\n",
    "Data_24 = data_taf['Data_24']"
   ]
  },
  {
   "cell_type": "code",
   "execution_count": 7,
   "id": "037f31ce",
   "metadata": {
    "ExecuteTime": {
     "end_time": "2021-07-29T05:31:02.700119Z",
     "start_time": "2021-07-29T05:31:02.607179Z"
    }
   },
   "outputs": [
    {
     "name": "stdout",
     "output_type": "stream",
     "text": [
      "Training Data shape :  (17520, 46)\n"
     ]
    },
    {
     "data": {
      "text/html": [
       "<div>\n",
       "<style scoped>\n",
       "    .dataframe tbody tr th:only-of-type {\n",
       "        vertical-align: middle;\n",
       "    }\n",
       "\n",
       "    .dataframe tbody tr th {\n",
       "        vertical-align: top;\n",
       "    }\n",
       "\n",
       "    .dataframe thead th {\n",
       "        text-align: right;\n",
       "    }\n",
       "</style>\n",
       "<table border=\"1\" class=\"dataframe\">\n",
       "  <thead>\n",
       "    <tr style=\"text-align: right;\">\n",
       "      <th></th>\n",
       "      <th>EAD</th>\n",
       "      <th>EDD</th>\n",
       "      <th>year</th>\n",
       "      <th>month</th>\n",
       "      <th>day</th>\n",
       "      <th>hour</th>\n",
       "      <th>DayName</th>\n",
       "      <th>Arpt_cond</th>\n",
       "      <th>P_Airp</th>\n",
       "      <th>P_AAR</th>\n",
       "      <th>P_ADR</th>\n",
       "      <th>Arrival_remainder</th>\n",
       "      <th>Departure_remainder</th>\n",
       "      <th>WD_850</th>\n",
       "      <th>WD_925</th>\n",
       "      <th>WD_1000</th>\n",
       "      <th>WS_850</th>\n",
       "      <th>WS_925</th>\n",
       "      <th>WS_1000</th>\n",
       "      <th>WD</th>\n",
       "      <th>WSPD</th>\n",
       "      <th>WS_GST</th>\n",
       "      <th>VIS</th>\n",
       "      <th>WC</th>\n",
       "      <th>RN</th>\n",
       "      <th>CA_TOT</th>\n",
       "      <th>CLA_1LYR</th>\n",
       "      <th>BASE_1LYR</th>\n",
       "      <th>CLA_2LYR</th>\n",
       "      <th>BASE_2LYR</th>\n",
       "      <th>CLA_3LYR</th>\n",
       "      <th>BASE_3LYR</th>\n",
       "      <th>CLA_4LYR</th>\n",
       "      <th>BASE_4LYR</th>\n",
       "      <th>RVR</th>\n",
       "      <th>WDIR_t6</th>\n",
       "      <th>WSPD_t6</th>\n",
       "      <th>WG_t6</th>\n",
       "      <th>VIS_t6</th>\n",
       "      <th>WC_t6</th>\n",
       "      <th>CLA_1LYR_t6</th>\n",
       "      <th>BASE_1LYR_t6</th>\n",
       "      <th>CLA_2LYR_t6</th>\n",
       "      <th>BASE_2LYR_t6</th>\n",
       "      <th>CLA_3LYR_t6</th>\n",
       "      <th>BASE_3LYR_t6</th>\n",
       "    </tr>\n",
       "  </thead>\n",
       "  <tbody>\n",
       "    <tr>\n",
       "      <th>0</th>\n",
       "      <td>2.0</td>\n",
       "      <td>11.0</td>\n",
       "      <td>2018</td>\n",
       "      <td>1</td>\n",
       "      <td>1</td>\n",
       "      <td>0</td>\n",
       "      <td>1</td>\n",
       "      <td>1.0</td>\n",
       "      <td>1.0</td>\n",
       "      <td>0.0</td>\n",
       "      <td>0.0</td>\n",
       "      <td>0.0</td>\n",
       "      <td>0.0</td>\n",
       "      <td>320.0</td>\n",
       "      <td>325.0</td>\n",
       "      <td>245.0</td>\n",
       "      <td>28.0</td>\n",
       "      <td>19.0</td>\n",
       "      <td>3.0</td>\n",
       "      <td>34</td>\n",
       "      <td>5</td>\n",
       "      <td>0.0</td>\n",
       "      <td>1000</td>\n",
       "      <td>1</td>\n",
       "      <td>0.0</td>\n",
       "      <td>0</td>\n",
       "      <td>0.0</td>\n",
       "      <td>400.0</td>\n",
       "      <td>0.0</td>\n",
       "      <td>400.0</td>\n",
       "      <td>0.0</td>\n",
       "      <td>400.0</td>\n",
       "      <td>0.0</td>\n",
       "      <td>400.0</td>\n",
       "      <td>1000.0</td>\n",
       "      <td>0.0</td>\n",
       "      <td>0.0</td>\n",
       "      <td>0.0</td>\n",
       "      <td>9999.0</td>\n",
       "      <td>0</td>\n",
       "      <td>0</td>\n",
       "      <td>400.0</td>\n",
       "      <td>0</td>\n",
       "      <td>400.0</td>\n",
       "      <td>0</td>\n",
       "      <td>400.0</td>\n",
       "    </tr>\n",
       "    <tr>\n",
       "      <th>1</th>\n",
       "      <td>1.0</td>\n",
       "      <td>5.0</td>\n",
       "      <td>2018</td>\n",
       "      <td>1</td>\n",
       "      <td>1</td>\n",
       "      <td>1</td>\n",
       "      <td>1</td>\n",
       "      <td>1.0</td>\n",
       "      <td>1.0</td>\n",
       "      <td>3.0</td>\n",
       "      <td>11.0</td>\n",
       "      <td>0.0</td>\n",
       "      <td>0.0</td>\n",
       "      <td>320.0</td>\n",
       "      <td>325.0</td>\n",
       "      <td>245.0</td>\n",
       "      <td>28.0</td>\n",
       "      <td>19.0</td>\n",
       "      <td>3.0</td>\n",
       "      <td>3</td>\n",
       "      <td>1</td>\n",
       "      <td>0.0</td>\n",
       "      <td>1000</td>\n",
       "      <td>1</td>\n",
       "      <td>0.0</td>\n",
       "      <td>0</td>\n",
       "      <td>0.0</td>\n",
       "      <td>400.0</td>\n",
       "      <td>0.0</td>\n",
       "      <td>400.0</td>\n",
       "      <td>0.0</td>\n",
       "      <td>400.0</td>\n",
       "      <td>0.0</td>\n",
       "      <td>400.0</td>\n",
       "      <td>1000.0</td>\n",
       "      <td>0.0</td>\n",
       "      <td>0.0</td>\n",
       "      <td>0.0</td>\n",
       "      <td>9999.0</td>\n",
       "      <td>0</td>\n",
       "      <td>0</td>\n",
       "      <td>400.0</td>\n",
       "      <td>0</td>\n",
       "      <td>400.0</td>\n",
       "      <td>0</td>\n",
       "      <td>400.0</td>\n",
       "    </tr>\n",
       "    <tr>\n",
       "      <th>2</th>\n",
       "      <td>1.0</td>\n",
       "      <td>4.0</td>\n",
       "      <td>2018</td>\n",
       "      <td>1</td>\n",
       "      <td>1</td>\n",
       "      <td>2</td>\n",
       "      <td>1</td>\n",
       "      <td>1.0</td>\n",
       "      <td>1.0</td>\n",
       "      <td>0.0</td>\n",
       "      <td>4.0</td>\n",
       "      <td>1.0</td>\n",
       "      <td>1.0</td>\n",
       "      <td>320.0</td>\n",
       "      <td>325.0</td>\n",
       "      <td>245.0</td>\n",
       "      <td>28.0</td>\n",
       "      <td>19.0</td>\n",
       "      <td>3.0</td>\n",
       "      <td>35</td>\n",
       "      <td>1</td>\n",
       "      <td>0.0</td>\n",
       "      <td>1000</td>\n",
       "      <td>1</td>\n",
       "      <td>0.0</td>\n",
       "      <td>0</td>\n",
       "      <td>0.0</td>\n",
       "      <td>400.0</td>\n",
       "      <td>0.0</td>\n",
       "      <td>400.0</td>\n",
       "      <td>0.0</td>\n",
       "      <td>400.0</td>\n",
       "      <td>0.0</td>\n",
       "      <td>400.0</td>\n",
       "      <td>1000.0</td>\n",
       "      <td>0.0</td>\n",
       "      <td>0.0</td>\n",
       "      <td>0.0</td>\n",
       "      <td>9999.0</td>\n",
       "      <td>0</td>\n",
       "      <td>0</td>\n",
       "      <td>400.0</td>\n",
       "      <td>0</td>\n",
       "      <td>400.0</td>\n",
       "      <td>0</td>\n",
       "      <td>400.0</td>\n",
       "    </tr>\n",
       "    <tr>\n",
       "      <th>3</th>\n",
       "      <td>0.0</td>\n",
       "      <td>1.0</td>\n",
       "      <td>2018</td>\n",
       "      <td>1</td>\n",
       "      <td>1</td>\n",
       "      <td>3</td>\n",
       "      <td>1</td>\n",
       "      <td>1.0</td>\n",
       "      <td>1.0</td>\n",
       "      <td>0.0</td>\n",
       "      <td>4.0</td>\n",
       "      <td>1.0</td>\n",
       "      <td>0.0</td>\n",
       "      <td>320.0</td>\n",
       "      <td>325.0</td>\n",
       "      <td>245.0</td>\n",
       "      <td>28.0</td>\n",
       "      <td>19.0</td>\n",
       "      <td>3.0</td>\n",
       "      <td>0</td>\n",
       "      <td>0</td>\n",
       "      <td>0.0</td>\n",
       "      <td>1000</td>\n",
       "      <td>1</td>\n",
       "      <td>0.0</td>\n",
       "      <td>0</td>\n",
       "      <td>0.0</td>\n",
       "      <td>400.0</td>\n",
       "      <td>0.0</td>\n",
       "      <td>400.0</td>\n",
       "      <td>0.0</td>\n",
       "      <td>400.0</td>\n",
       "      <td>0.0</td>\n",
       "      <td>400.0</td>\n",
       "      <td>1000.0</td>\n",
       "      <td>0.0</td>\n",
       "      <td>0.0</td>\n",
       "      <td>0.0</td>\n",
       "      <td>9999.0</td>\n",
       "      <td>0</td>\n",
       "      <td>0</td>\n",
       "      <td>400.0</td>\n",
       "      <td>0</td>\n",
       "      <td>400.0</td>\n",
       "      <td>0</td>\n",
       "      <td>400.0</td>\n",
       "    </tr>\n",
       "    <tr>\n",
       "      <th>4</th>\n",
       "      <td>16.0</td>\n",
       "      <td>1.0</td>\n",
       "      <td>2018</td>\n",
       "      <td>1</td>\n",
       "      <td>1</td>\n",
       "      <td>4</td>\n",
       "      <td>1</td>\n",
       "      <td>1.0</td>\n",
       "      <td>1.0</td>\n",
       "      <td>2.0</td>\n",
       "      <td>1.0</td>\n",
       "      <td>0.0</td>\n",
       "      <td>0.0</td>\n",
       "      <td>320.0</td>\n",
       "      <td>325.0</td>\n",
       "      <td>245.0</td>\n",
       "      <td>28.0</td>\n",
       "      <td>19.0</td>\n",
       "      <td>3.0</td>\n",
       "      <td>19</td>\n",
       "      <td>1</td>\n",
       "      <td>0.0</td>\n",
       "      <td>1000</td>\n",
       "      <td>1</td>\n",
       "      <td>0.0</td>\n",
       "      <td>0</td>\n",
       "      <td>0.0</td>\n",
       "      <td>400.0</td>\n",
       "      <td>0.0</td>\n",
       "      <td>400.0</td>\n",
       "      <td>0.0</td>\n",
       "      <td>400.0</td>\n",
       "      <td>0.0</td>\n",
       "      <td>400.0</td>\n",
       "      <td>1000.0</td>\n",
       "      <td>0.0</td>\n",
       "      <td>0.0</td>\n",
       "      <td>0.0</td>\n",
       "      <td>9999.0</td>\n",
       "      <td>0</td>\n",
       "      <td>0</td>\n",
       "      <td>400.0</td>\n",
       "      <td>0</td>\n",
       "      <td>400.0</td>\n",
       "      <td>0</td>\n",
       "      <td>400.0</td>\n",
       "    </tr>\n",
       "  </tbody>\n",
       "</table>\n",
       "</div>"
      ],
      "text/plain": [
       "    EAD   EDD  year  month  day  hour  DayName  Arpt_cond  P_Airp  P_AAR  \\\n",
       "0   2.0  11.0  2018      1    1     0        1        1.0     1.0    0.0   \n",
       "1   1.0   5.0  2018      1    1     1        1        1.0     1.0    3.0   \n",
       "2   1.0   4.0  2018      1    1     2        1        1.0     1.0    0.0   \n",
       "3   0.0   1.0  2018      1    1     3        1        1.0     1.0    0.0   \n",
       "4  16.0   1.0  2018      1    1     4        1        1.0     1.0    2.0   \n",
       "\n",
       "   P_ADR  Arrival_remainder  Departure_remainder  WD_850  WD_925  WD_1000  \\\n",
       "0    0.0                0.0                  0.0   320.0   325.0    245.0   \n",
       "1   11.0                0.0                  0.0   320.0   325.0    245.0   \n",
       "2    4.0                1.0                  1.0   320.0   325.0    245.0   \n",
       "3    4.0                1.0                  0.0   320.0   325.0    245.0   \n",
       "4    1.0                0.0                  0.0   320.0   325.0    245.0   \n",
       "\n",
       "   WS_850  WS_925  WS_1000  WD  WSPD  WS_GST   VIS  WC   RN  CA_TOT  CLA_1LYR  \\\n",
       "0    28.0    19.0      3.0  34     5     0.0  1000   1  0.0       0       0.0   \n",
       "1    28.0    19.0      3.0   3     1     0.0  1000   1  0.0       0       0.0   \n",
       "2    28.0    19.0      3.0  35     1     0.0  1000   1  0.0       0       0.0   \n",
       "3    28.0    19.0      3.0   0     0     0.0  1000   1  0.0       0       0.0   \n",
       "4    28.0    19.0      3.0  19     1     0.0  1000   1  0.0       0       0.0   \n",
       "\n",
       "   BASE_1LYR  CLA_2LYR  BASE_2LYR  CLA_3LYR  BASE_3LYR  CLA_4LYR  BASE_4LYR  \\\n",
       "0      400.0       0.0      400.0       0.0      400.0       0.0      400.0   \n",
       "1      400.0       0.0      400.0       0.0      400.0       0.0      400.0   \n",
       "2      400.0       0.0      400.0       0.0      400.0       0.0      400.0   \n",
       "3      400.0       0.0      400.0       0.0      400.0       0.0      400.0   \n",
       "4      400.0       0.0      400.0       0.0      400.0       0.0      400.0   \n",
       "\n",
       "      RVR  WDIR_t6  WSPD_t6  WG_t6  VIS_t6  WC_t6  CLA_1LYR_t6  BASE_1LYR_t6  \\\n",
       "0  1000.0      0.0      0.0    0.0  9999.0      0            0         400.0   \n",
       "1  1000.0      0.0      0.0    0.0  9999.0      0            0         400.0   \n",
       "2  1000.0      0.0      0.0    0.0  9999.0      0            0         400.0   \n",
       "3  1000.0      0.0      0.0    0.0  9999.0      0            0         400.0   \n",
       "4  1000.0      0.0      0.0    0.0  9999.0      0            0         400.0   \n",
       "\n",
       "   CLA_2LYR_t6  BASE_2LYR_t6  CLA_3LYR_t6  BASE_3LYR_t6  \n",
       "0            0         400.0            0         400.0  \n",
       "1            0         400.0            0         400.0  \n",
       "2            0         400.0            0         400.0  \n",
       "3            0         400.0            0         400.0  \n",
       "4            0         400.0            0         400.0  "
      ]
     },
     "execution_count": 7,
     "metadata": {},
     "output_type": "execute_result"
    }
   ],
   "source": [
    "# 예측할 시간에 맞는 Data로 넣기\n",
    "# 0-6 : Data_6 / 6-12 : Data_12 / 12-18 : Data_18 / 18-24 : Data_24\n",
    "Data_raw = Data_6\n",
    "Data_m = Data_6\n",
    "Data_m = Data_m.drop('AAR', axis=1)\n",
    "Data_m = Data_m.drop('ADR', axis=1)\n",
    "\n",
    "\n",
    "# Arrival\n",
    "y_a = Data_raw.AAR.to_numpy()\n",
    "X_a = Data_m.to_numpy()\n",
    "X_train_a, X_test_a, y_train_a, y_test_a = train_test_split(X_a, y_a, test_size = 0.1, random_state = seed)\n",
    "X_train_a, X_val_a, y_train_a, y_val_a = train_test_split(X_train_a, y_train_a, test_size=0.11, random_state = 13) \n",
    "\n",
    "\n",
    "# Departure\n",
    "y_d = Data_raw.ADR.to_numpy()\n",
    "X_d = Data_m.to_numpy()\n",
    "X_train_d, X_test_d, y_train_d, y_test_d = train_test_split(X_d, y_d, test_size = 0.1, random_state = seed)\n",
    "X_train_d, X_val_d, y_train_d, y_val_d = train_test_split(X_train_d, y_train_d, test_size=0.11, random_state = 13) \n",
    "\n",
    "# val은 hyperparameter 검증에 사용\n",
    "# 0.11 x 0.9 = 0.099\n",
    "\n",
    "print('Training Data shape : ', Data_m.shape)\n",
    "Data_m.head()"
   ]
  },
  {
   "cell_type": "markdown",
   "id": "11cd0f9c",
   "metadata": {},
   "source": [
    "***\n",
    "***\n",
    "***"
   ]
  },
  {
   "cell_type": "markdown",
   "id": "46dc2b49",
   "metadata": {},
   "source": [
    "# NGBoost"
   ]
  },
  {
   "cell_type": "markdown",
   "id": "4021885e",
   "metadata": {},
   "source": [
    "## Hypteropt"
   ]
  },
  {
   "cell_type": "code",
   "execution_count": 8,
   "id": "cd860eac",
   "metadata": {
    "ExecuteTime": {
     "end_time": "2021-07-29T05:31:06.405740Z",
     "start_time": "2021-07-29T05:31:06.396742Z"
    }
   },
   "outputs": [],
   "source": [
    "logging.basicConfig(\n",
    "    # filename = \"errors.log\",\n",
    "    format='%(asctime)s %(levelname)-8s %(message)s',\n",
    "    level=logging.INFO,\n",
    "    datefmt='%Y-%m-%d %H:%M:%S')\n",
    "logger = logging.getLogger()"
   ]
  },
  {
   "cell_type": "code",
   "execution_count": 9,
   "id": "e2d36cb6",
   "metadata": {
    "ExecuteTime": {
     "end_time": "2021-07-29T05:31:07.453932Z",
     "start_time": "2021-07-29T05:31:07.432931Z"
    }
   },
   "outputs": [],
   "source": [
    "b1 = DecisionTreeRegressor(criterion = \"friedman_mse\",                 # “mse”, “friedman_mse”, “mae”, “poisson”\n",
    "                                     min_samples_split = 3,             # The minimum number of samples required to split an internal node\n",
    "                                     min_samples_leaf = 1,              # The minimum number of samples required to be at a leaf node\n",
    "                                     min_weight_fraction_leaf = 0.0,    # The minimum weighted fraction of the sum total of weights required to be at a leaf node\n",
    "                                     max_depth = None,                  # The maximum depth of the tree\n",
    "                                     max_leaf_nodes = 127,              # Grow a tree with 'max_leaf_nodes' in best-first fashion\n",
    "                                     splitter = \"best\",                 # The strategy used to choose the split at each node\n",
    "                                     random_state = seed)\n",
    "b2 = DecisionTreeRegressor(criterion = \"friedman_mse\",                 # “mse”, “friedman_mse”, “mae”, “poisson”\n",
    "                                     min_samples_split = 3,             # The minimum number of samples required to split an internal node\n",
    "                                     min_samples_leaf = 1,              # The minimum number of samples required to be at a leaf node\n",
    "                                     min_weight_fraction_leaf = 0.0,    # The minimum weighted fraction of the sum total of weights required to be at a leaf node\n",
    "                                     max_depth = None,                  # The maximum depth of the tree\n",
    "                                     max_leaf_nodes = 255,              # Grow a tree with 'max_leaf_nodes' in best-first fashion\n",
    "                                     splitter = \"best\",                 # The strategy used to choose the split at each node\n",
    "                                     random_state = seed)\n",
    "b3 = DecisionTreeRegressor(criterion = \"friedman_mse\",                 # “mse”, “friedman_mse”, “mae”, “poisson”\n",
    "                                     min_samples_split = 3,             # The minimum number of samples required to split an internal node\n",
    "                                     min_samples_leaf = 1,              # The minimum number of samples required to be at a leaf node\n",
    "                                     min_weight_fraction_leaf = 0.0,    # The minimum weighted fraction of the sum total of weights required to be at a leaf node\n",
    "                                     max_depth = None,                  # The maximum depth of the tree\n",
    "                                     max_leaf_nodes = 63,              # Grow a tree with 'max_leaf_nodes' in best-first fashion\n",
    "                                     splitter = \"best\",                 # The strategy used to choose the split at each node\n",
    "                                     random_state = seed)\n",
    "\n",
    "\n",
    "space = {\n",
    "    'learning_rate':hp.quniform('learning_rate', .0005, 0.01, 0.001),\n",
    "    'minibatch_frac':hp.quniform('minibatch_frac', 0.5, 1.0, 0.1),\n",
    "    'col_sample':hp.quniform('col_sample', 0.5, 1.0, 0.1),\n",
    "    'Base':hp.choice('Base', [b1, b2, b3])\n",
    "}\n",
    "\n",
    "default_params = {\"n_estimators\":10000000,\n",
    "                  \"verbose_eval\":100,\n",
    "                  \"random_state\":13}"
   ]
  },
  {
   "cell_type": "code",
   "execution_count": 27,
   "id": "433a31e1",
   "metadata": {
    "ExecuteTime": {
     "end_time": "2021-07-27T14:25:50.398711Z",
     "start_time": "2021-07-27T14:25:50.386119Z"
    }
   },
   "outputs": [],
   "source": [
    "def objective_a(params):\n",
    "    \n",
    "    params.update(default_params)\n",
    "    \n",
    "    print(params)\n",
    "    ngb_arrival = NGBRegressor(**params).fit(X_train_a, y_train_a,\n",
    "                                             X_val = X_val_a, \n",
    "                                             Y_val = y_val_a, \n",
    "                                             early_stopping_rounds = 10)\n",
    "    loss = ngb_arrival.evals_result['val']['LOGSCORE'][ngb_arrival.best_val_loss_itr]\n",
    "    logger.info(params)\n",
    "    results = {'loss':loss, 'status':STATUS_OK}\n",
    "    \n",
    "    return results"
   ]
  },
  {
   "cell_type": "code",
   "execution_count": 28,
   "id": "8668c43e",
   "metadata": {
    "ExecuteTime": {
     "end_time": "2021-07-27T14:25:51.331049Z",
     "start_time": "2021-07-27T14:25:51.317483Z"
    }
   },
   "outputs": [],
   "source": [
    "def objective_d(params):\n",
    "    \n",
    "    params.update(default_params)\n",
    "    \n",
    "    print(params)\n",
    "    ngb_departure = NGBRegressor(**params).fit(X_train_d, y_train_d,\n",
    "                                             X_val = X_val_d, \n",
    "                                             Y_val = y_val_d, \n",
    "                                             early_stopping_rounds = 10)\n",
    "    loss = ngb_departure.evals_result['val']['LOGSCORE'][ngb_departure.best_val_loss_itr]\n",
    "    logger.info(params)\n",
    "    results = {'loss':loss, 'status':STATUS_OK}\n",
    "    \n",
    "    return results"
   ]
  },
  {
   "cell_type": "code",
   "execution_count": 29,
   "id": "ee0a16f1",
   "metadata": {
    "ExecuteTime": {
     "end_time": "2021-07-27T17:45:48.684315Z",
     "start_time": "2021-07-27T14:25:52.222065Z"
    }
   },
   "outputs": [
    {
     "name": "stderr",
     "output_type": "stream",
     "text": [
      "2021-07-27 23:25:52 INFO     Start parameter optimization...\n"
     ]
    },
    {
     "name": "stdout",
     "output_type": "stream",
     "text": [
      "\r",
      "  0%|                                                                                                               | 0/100 [00:00<?, ?trial/s, best loss=?]"
     ]
    },
    {
     "name": "stderr",
     "output_type": "stream",
     "text": [
      "2021-07-27 23:25:52 INFO     build_posterior_wrapper took 0.001559 seconds\n",
      "2021-07-27 23:25:52 INFO     TPE using 0 trials\n"
     ]
    },
    {
     "name": "stdout",
     "output_type": "stream",
     "text": [
      "{'Base': DecisionTreeRegressor(criterion='friedman_mse', max_leaf_nodes=63,                                                                                 \n",
      "                      min_samples_split=3, random_state=1), 'col_sample': 0.6000000000000001, 'learning_rate': 0.009000000000000001, 'minibatch_frac': 0.5, 'n_estimators': 10000000, 'verbose_eval': 100, 'random_state': 13}\n",
      "[iter 0] loss=3.8284 val_loss=3.8174 scale=2.0000 norm=18.0475                                                                                              \n",
      "[iter 100] loss=2.9119 val_loss=2.9209 scale=2.0000 norm=5.7630                                                                                             \n",
      "[iter 200] loss=2.4331 val_loss=2.5089 scale=2.0000 norm=4.1815                                                                                             \n",
      "[iter 300] loss=2.2007 val_loss=2.4028 scale=2.0000 norm=3.8838                                                                                             \n",
      "== Early stopping achieved.                                                                                                                                 \n",
      "== Best iteration / VAL330 (val_loss=2.4012)                                                                                                                \n",
      "  0%|                                                                                                               | 0/100 [00:25<?, ?trial/s, best loss=?]"
     ]
    },
    {
     "name": "stderr",
     "output_type": "stream",
     "text": [
      "2021-07-27 23:26:17 INFO     {'Base': DecisionTreeRegressor(criterion='friedman_mse', max_leaf_nodes=63,\n",
      "                      min_samples_split=3, random_state=1), 'col_sample': 0.6000000000000001, 'learning_rate': 0.009000000000000001, 'minibatch_frac': 0.5, 'n_estimators': 10000000, 'verbose_eval': 100, 'random_state': 13}\n"
     ]
    },
    {
     "name": "stdout",
     "output_type": "stream",
     "text": [
      "\r",
      "  1%|▊                                                                                     | 1/100 [00:25<42:22, 25.68s/trial, best loss: 2.401218486295444]"
     ]
    },
    {
     "name": "stderr",
     "output_type": "stream",
     "text": [
      "2021-07-27 23:26:17 INFO     build_posterior_wrapper took 0.001035 seconds\n",
      "2021-07-27 23:26:17 INFO     TPE using 1/1 trials with best loss 2.401218\n"
     ]
    },
    {
     "name": "stdout",
     "output_type": "stream",
     "text": [
      "{'Base': DecisionTreeRegressor(criterion='friedman_mse', max_leaf_nodes=127,                                                                                \n",
      "                      min_samples_split=3, random_state=1), 'col_sample': 0.8, 'learning_rate': 0.006, 'minibatch_frac': 0.9, 'n_estimators': 10000000, 'verbose_eval': 100, 'random_state': 13}\n",
      "[iter 0] loss=3.8335 val_loss=3.8263 scale=2.0000 norm=18.1602                                                                                              \n",
      "[iter 100] loss=3.1051 val_loss=3.1176 scale=2.0000 norm=7.0536                                                                                             \n",
      "[iter 200] loss=2.6540 val_loss=2.7105 scale=2.0000 norm=4.3310                                                                                             \n",
      "[iter 300] loss=2.3201 val_loss=2.4792 scale=2.0000 norm=3.6585                                                                                             \n",
      "== Early stopping achieved.                                                                                                                                 \n",
      "== Best iteration / VAL381 (val_loss=2.4265)                                                                                                                \n",
      "  1%|▊                                                                                     | 1/100 [01:35<42:22, 25.68s/trial, best loss: 2.401218486295444]"
     ]
    },
    {
     "name": "stderr",
     "output_type": "stream",
     "text": [
      "2021-07-27 23:27:27 INFO     {'Base': DecisionTreeRegressor(criterion='friedman_mse', max_leaf_nodes=127,\n",
      "                      min_samples_split=3, random_state=1), 'col_sample': 0.8, 'learning_rate': 0.006, 'minibatch_frac': 0.9, 'n_estimators': 10000000, 'verbose_eval': 100, 'random_state': 13}\n"
     ]
    },
    {
     "name": "stdout",
     "output_type": "stream",
     "text": [
      "\r",
      "  2%|█▋                                                                                  | 2/100 [01:35<1:23:59, 51.42s/trial, best loss: 2.401218486295444]"
     ]
    },
    {
     "name": "stderr",
     "output_type": "stream",
     "text": [
      "2021-07-27 23:27:27 INFO     build_posterior_wrapper took 0.003008 seconds\n",
      "2021-07-27 23:27:27 INFO     TPE using 2/2 trials with best loss 2.401218\n"
     ]
    },
    {
     "name": "stdout",
     "output_type": "stream",
     "text": [
      "{'Base': DecisionTreeRegressor(criterion='friedman_mse', max_leaf_nodes=255,                                                                                \n",
      "                      min_samples_split=3, random_state=1), 'col_sample': 0.6000000000000001, 'learning_rate': 0.007, 'minibatch_frac': 1.0, 'n_estimators': 10000000, 'verbose_eval': 100, 'random_state': 13}\n",
      "[iter 0] loss=3.8345 val_loss=3.8235 scale=2.0000 norm=18.1911                                                                                              \n",
      "[iter 100] loss=3.0163 val_loss=3.0487 scale=2.0000 norm=6.2314                                                                                             \n",
      "[iter 200] loss=2.4701 val_loss=2.6077 scale=2.0000 norm=3.5814                                                                                             \n",
      "== Early stopping achieved.                                                                                                                                 \n",
      "== Best iteration / VAL287 (val_loss=2.4651)                                                                                                                \n",
      "  2%|█▋                                                                                  | 2/100 [02:26<1:23:59, 51.42s/trial, best loss: 2.401218486295444]"
     ]
    },
    {
     "name": "stderr",
     "output_type": "stream",
     "text": [
      "2021-07-27 23:28:18 INFO     {'Base': DecisionTreeRegressor(criterion='friedman_mse', max_leaf_nodes=255,\n",
      "                      min_samples_split=3, random_state=1), 'col_sample': 0.6000000000000001, 'learning_rate': 0.007, 'minibatch_frac': 1.0, 'n_estimators': 10000000, 'verbose_eval': 100, 'random_state': 13}\n"
     ]
    },
    {
     "name": "stdout",
     "output_type": "stream",
     "text": [
      "\r",
      "  3%|██▌                                                                                 | 3/100 [02:26<1:22:59, 51.34s/trial, best loss: 2.401218486295444]"
     ]
    },
    {
     "name": "stderr",
     "output_type": "stream",
     "text": [
      "2021-07-27 23:28:18 INFO     build_posterior_wrapper took 0.001979 seconds\n",
      "2021-07-27 23:28:18 INFO     TPE using 3/3 trials with best loss 2.401218\n"
     ]
    },
    {
     "name": "stdout",
     "output_type": "stream",
     "text": [
      "{'Base': DecisionTreeRegressor(criterion='friedman_mse', max_leaf_nodes=127,                                                                                \n",
      "                      min_samples_split=3, random_state=1), 'col_sample': 0.8, 'learning_rate': 0.003, 'minibatch_frac': 0.9, 'n_estimators': 10000000, 'verbose_eval': 100, 'random_state': 13}\n",
      "[iter 0] loss=3.8335 val_loss=3.8356 scale=2.0000 norm=18.1602                                                                                              \n",
      "[iter 100] loss=3.3805 val_loss=3.3863 scale=2.0000 norm=10.8150                                                                                            \n",
      "[iter 200] loss=3.1041 val_loss=3.1199 scale=2.0000 norm=7.0396                                                                                             \n",
      "[iter 300] loss=2.8658 val_loss=2.8962 scale=2.0000 norm=5.2438                                                                                             \n",
      "[iter 400] loss=2.6554 val_loss=2.7116 scale=2.0000 norm=4.3455                                                                                             \n",
      "[iter 500] loss=2.4741 val_loss=2.5717 scale=2.0000 norm=3.9166                                                                                             \n",
      "[iter 600] loss=2.3173 val_loss=2.4794 scale=2.0000 norm=3.6324                                                                                             \n",
      "[iter 700] loss=2.1924 val_loss=2.4333 scale=2.0000 norm=3.4812                                                                                             \n",
      "== Early stopping achieved.                                                                                                                                 \n",
      "== Best iteration / VAL756 (val_loss=2.4262)                                                                                                                \n",
      "  3%|██▌                                                                                 | 3/100 [04:45<1:22:59, 51.34s/trial, best loss: 2.401218486295444]"
     ]
    },
    {
     "name": "stderr",
     "output_type": "stream",
     "text": [
      "2021-07-27 23:30:37 INFO     {'Base': DecisionTreeRegressor(criterion='friedman_mse', max_leaf_nodes=127,\n",
      "                      min_samples_split=3, random_state=1), 'col_sample': 0.8, 'learning_rate': 0.003, 'minibatch_frac': 0.9, 'n_estimators': 10000000, 'verbose_eval': 100, 'random_state': 13}\n"
     ]
    },
    {
     "name": "stdout",
     "output_type": "stream",
     "text": [
      "\r",
      "  4%|███▎                                                                                | 4/100 [04:45<2:17:37, 86.01s/trial, best loss: 2.401218486295444]"
     ]
    },
    {
     "name": "stderr",
     "output_type": "stream",
     "text": [
      "2021-07-27 23:30:37 INFO     build_posterior_wrapper took 0.001999 seconds\n",
      "2021-07-27 23:30:37 INFO     TPE using 4/4 trials with best loss 2.401218\n"
     ]
    },
    {
     "name": "stdout",
     "output_type": "stream",
     "text": [
      "{'Base': DecisionTreeRegressor(criterion='friedman_mse', max_leaf_nodes=63,                                                                                 \n",
      "                      min_samples_split=3, random_state=1), 'col_sample': 1.0, 'learning_rate': 0.004, 'minibatch_frac': 0.7000000000000001, 'n_estimators': 10000000, 'verbose_eval': 100, 'random_state': 13}\n",
      "[iter 0] loss=3.8314 val_loss=3.8326 scale=2.0000 norm=18.1206                                                                                              \n",
      "[iter 100] loss=3.2895 val_loss=3.2927 scale=2.0000 norm=9.3456                                                                                             \n",
      "[iter 200] loss=2.9621 val_loss=2.9749 scale=2.0000 norm=5.9178                                                                                             \n",
      "[iter 300] loss=2.6998 val_loss=2.7286 scale=2.0000 norm=4.6780                                                                                             \n",
      "[iter 400] loss=2.4951 val_loss=2.5578 scale=2.0000 norm=4.2209                                                                                             \n",
      "[iter 500] loss=2.3448 val_loss=2.4569 scale=2.0000 norm=4.0100                                                                                             \n",
      "[iter 600] loss=2.2323 val_loss=2.4077 scale=2.0000 norm=3.8595                                                                                             \n",
      "== Early stopping achieved.                                                                                                                                 \n",
      "== Best iteration / VAL689 (val_loss=2.3956)                                                                                                                \n",
      "  4%|███▎                                                                                | 4/100 [06:33<2:17:37, 86.01s/trial, best loss: 2.401218486295444]"
     ]
    },
    {
     "name": "stderr",
     "output_type": "stream",
     "text": [
      "2021-07-27 23:32:25 INFO     {'Base': DecisionTreeRegressor(criterion='friedman_mse', max_leaf_nodes=63,\n",
      "                      min_samples_split=3, random_state=1), 'col_sample': 1.0, 'learning_rate': 0.004, 'minibatch_frac': 0.7000000000000001, 'n_estimators': 10000000, 'verbose_eval': 100, 'random_state': 13}\n"
     ]
    },
    {
     "name": "stdout",
     "output_type": "stream",
     "text": [
      "\r",
      "  5%|████▏                                                                               | 5/100 [06:33<2:28:32, 93.82s/trial, best loss: 2.395604079581136]"
     ]
    },
    {
     "name": "stderr",
     "output_type": "stream",
     "text": [
      "2021-07-27 23:32:25 INFO     build_posterior_wrapper took 0.003106 seconds\n",
      "2021-07-27 23:32:25 INFO     TPE using 5/5 trials with best loss 2.395604\n"
     ]
    },
    {
     "name": "stdout",
     "output_type": "stream",
     "text": [
      "{'Base': DecisionTreeRegressor(criterion='friedman_mse', max_leaf_nodes=255,                                                                                \n",
      "                      min_samples_split=3, random_state=1), 'col_sample': 0.8, 'learning_rate': 0.009000000000000001, 'minibatch_frac': 1.0, 'n_estimators': 10000000, 'verbose_eval': 100, 'random_state': 13}\n",
      "[iter 0] loss=3.8345 val_loss=3.8172 scale=2.0000 norm=18.1911                                                                                              \n",
      "[iter 100] loss=2.8324 val_loss=2.8836 scale=2.0000 norm=4.8588                                                                                             \n",
      "[iter 200] loss=2.1892 val_loss=2.4857 scale=2.0000 norm=3.0273                                                                                             \n",
      "== Early stopping achieved.                                                                                                                                 \n",
      "== Best iteration / VAL215 (val_loss=2.4771)                                                                                                                \n",
      "  5%|████▏                                                                               | 5/100 [07:27<2:28:32, 93.82s/trial, best loss: 2.395604079581136]"
     ]
    },
    {
     "name": "stderr",
     "output_type": "stream",
     "text": [
      "2021-07-27 23:33:19 INFO     {'Base': DecisionTreeRegressor(criterion='friedman_mse', max_leaf_nodes=255,\n",
      "                      min_samples_split=3, random_state=1), 'col_sample': 0.8, 'learning_rate': 0.009000000000000001, 'minibatch_frac': 1.0, 'n_estimators': 10000000, 'verbose_eval': 100, 'random_state': 13}\n"
     ]
    },
    {
     "name": "stdout",
     "output_type": "stream",
     "text": [
      "\r",
      "  6%|█████                                                                               | 6/100 [07:27<2:06:02, 80.46s/trial, best loss: 2.395604079581136]"
     ]
    },
    {
     "name": "stderr",
     "output_type": "stream",
     "text": [
      "2021-07-27 23:33:19 INFO     build_posterior_wrapper took 0.001061 seconds\n",
      "2021-07-27 23:33:19 INFO     TPE using 6/6 trials with best loss 2.395604\n"
     ]
    },
    {
     "name": "stdout",
     "output_type": "stream",
     "text": [
      "{'Base': DecisionTreeRegressor(criterion='friedman_mse', max_leaf_nodes=127,                                                                                \n",
      "                      min_samples_split=3, random_state=1), 'col_sample': 0.6000000000000001, 'learning_rate': 0.005, 'minibatch_frac': 0.6000000000000001, 'n_estimators': 10000000, 'verbose_eval': 100, 'random_state': 13}\n",
      "[iter 0] loss=3.8305 val_loss=3.8295 scale=2.0000 norm=18.0903                                                                                              \n",
      "[iter 100] loss=3.2157 val_loss=3.2227 scale=2.0000 norm=8.4542                                                                                             \n",
      "[iter 200] loss=2.8157 val_loss=2.8507 scale=2.0000 norm=5.0901                                                                                             \n",
      "[iter 300] loss=2.4980 val_loss=2.5898 scale=2.0000 norm=4.0232                                                                                             \n",
      "[iter 400] loss=2.2581 val_loss=2.4549 scale=2.0000 norm=3.6158                                                                                             \n",
      "== Early stopping achieved.                                                                                                                                 \n",
      "== Best iteration / VAL475 (val_loss=2.4294)                                                                                                                \n",
      "  6%|█████                                                                               | 6/100 [08:17<2:06:02, 80.46s/trial, best loss: 2.395604079581136]"
     ]
    },
    {
     "name": "stderr",
     "output_type": "stream",
     "text": [
      "2021-07-27 23:34:09 INFO     {'Base': DecisionTreeRegressor(criterion='friedman_mse', max_leaf_nodes=127,\n",
      "                      min_samples_split=3, random_state=1), 'col_sample': 0.6000000000000001, 'learning_rate': 0.005, 'minibatch_frac': 0.6000000000000001, 'n_estimators': 10000000, 'verbose_eval': 100, 'random_state': 13}\n"
     ]
    },
    {
     "name": "stdout",
     "output_type": "stream",
     "text": [
      "\r",
      "  7%|█████▉                                                                              | 7/100 [08:17<1:49:04, 70.37s/trial, best loss: 2.395604079581136]"
     ]
    },
    {
     "name": "stderr",
     "output_type": "stream",
     "text": [
      "2021-07-27 23:34:09 INFO     build_posterior_wrapper took 0.003021 seconds\n",
      "2021-07-27 23:34:09 INFO     TPE using 7/7 trials with best loss 2.395604\n"
     ]
    },
    {
     "name": "stdout",
     "output_type": "stream",
     "text": [
      "{'Base': DecisionTreeRegressor(criterion='friedman_mse', max_leaf_nodes=255,                                                                                \n",
      "                      min_samples_split=3, random_state=1), 'col_sample': 0.9, 'learning_rate': 0.009000000000000001, 'minibatch_frac': 0.7000000000000001, 'n_estimators': 10000000, 'verbose_eval': 100, 'random_state': 13}\n",
      "[iter 0] loss=3.8314 val_loss=3.8172 scale=2.0000 norm=18.1206                                                                                              \n",
      "[iter 100] loss=2.8322 val_loss=2.8819 scale=2.0000 norm=4.8520                                                                                             \n",
      "[iter 200] loss=2.1903 val_loss=2.4828 scale=2.0000 norm=3.0385                                                                                             \n",
      "== Early stopping achieved.                                                                                                                                 \n",
      "== Best iteration / VAL216 (val_loss=2.4729)                                                                                                                \n",
      "  7%|█████▉                                                                              | 7/100 [09:01<1:49:04, 70.37s/trial, best loss: 2.395604079581136]"
     ]
    },
    {
     "name": "stderr",
     "output_type": "stream",
     "text": [
      "2021-07-27 23:34:53 INFO     {'Base': DecisionTreeRegressor(criterion='friedman_mse', max_leaf_nodes=255,\n",
      "                      min_samples_split=3, random_state=1), 'col_sample': 0.9, 'learning_rate': 0.009000000000000001, 'minibatch_frac': 0.7000000000000001, 'n_estimators': 10000000, 'verbose_eval': 100, 'random_state': 13}\n"
     ]
    },
    {
     "name": "stdout",
     "output_type": "stream",
     "text": [
      "\r",
      "  8%|██████▋                                                                             | 8/100 [09:01<1:35:10, 62.07s/trial, best loss: 2.395604079581136]"
     ]
    },
    {
     "name": "stderr",
     "output_type": "stream",
     "text": [
      "2021-07-27 23:34:53 INFO     build_posterior_wrapper took 0.003041 seconds\n",
      "2021-07-27 23:34:53 INFO     TPE using 8/8 trials with best loss 2.395604\n"
     ]
    },
    {
     "name": "stdout",
     "output_type": "stream",
     "text": [
      "{'Base': DecisionTreeRegressor(criterion='friedman_mse', max_leaf_nodes=63,                                                                                 \n",
      "                      min_samples_split=3, random_state=1), 'col_sample': 0.8, 'learning_rate': 0.003, 'minibatch_frac': 0.8, 'n_estimators': 10000000, 'verbose_eval': 100, 'random_state': 13}\n",
      "[iter 0] loss=3.8347 val_loss=3.8357 scale=2.0000 norm=18.2020                                                                                              \n",
      "[iter 100] loss=3.3865 val_loss=3.3888 scale=2.0000 norm=10.8973                                                                                            \n",
      "[iter 200] loss=3.1178 val_loss=3.1257 scale=2.0000 norm=7.2257                                                                                             \n",
      "[iter 300] loss=2.8913 val_loss=2.9065 scale=2.0000 norm=5.4991                                                                                             \n",
      "[iter 400] loss=2.6989 val_loss=2.7269 scale=2.0000 norm=4.6657                                                                                             \n",
      "[iter 500] loss=2.5408 val_loss=2.5894 scale=2.0000 norm=4.2878                                                                                             \n",
      "[iter 600] loss=2.4115 val_loss=2.4934 scale=2.0000 norm=4.0682                                                                                             \n",
      "[iter 700] loss=2.3152 val_loss=2.4330 scale=2.0000 norm=3.9686                                                                                             \n",
      "[iter 800] loss=2.2361 val_loss=2.3998 scale=2.0000 norm=3.8768                                                                                             \n",
      "[iter 900] loss=2.1747 val_loss=2.3879 scale=2.0000 norm=3.8014                                                                                             \n",
      "== Early stopping achieved.                                                                                                                                 \n",
      "== Best iteration / VAL921 (val_loss=2.3871)                                                                                                                \n",
      "  8%|██████▋                                                                             | 8/100 [11:14<1:35:10, 62.07s/trial, best loss: 2.395604079581136]"
     ]
    },
    {
     "name": "stderr",
     "output_type": "stream",
     "text": [
      "2021-07-27 23:37:06 INFO     {'Base': DecisionTreeRegressor(criterion='friedman_mse', max_leaf_nodes=63,\n",
      "                      min_samples_split=3, random_state=1), 'col_sample': 0.8, 'learning_rate': 0.003, 'minibatch_frac': 0.8, 'n_estimators': 10000000, 'verbose_eval': 100, 'random_state': 13}\n"
     ]
    },
    {
     "name": "stdout",
     "output_type": "stream",
     "text": [
      "\r",
      "  9%|███████▍                                                                           | 9/100 [11:14<2:07:43, 84.21s/trial, best loss: 2.3871186335285532]"
     ]
    },
    {
     "name": "stderr",
     "output_type": "stream",
     "text": [
      "2021-07-27 23:37:06 INFO     build_posterior_wrapper took 0.001999 seconds\n",
      "2021-07-27 23:37:06 INFO     TPE using 9/9 trials with best loss 2.387119\n"
     ]
    },
    {
     "name": "stdout",
     "output_type": "stream",
     "text": [
      "{'Base': DecisionTreeRegressor(criterion='friedman_mse', max_leaf_nodes=127,                                                                                \n",
      "                      min_samples_split=3, random_state=1), 'col_sample': 0.9, 'learning_rate': 0.003, 'minibatch_frac': 0.7000000000000001, 'n_estimators': 10000000, 'verbose_eval': 100, 'random_state': 13}\n",
      "[iter 0] loss=3.8314 val_loss=3.8357 scale=2.0000 norm=18.1206                                                                                              \n",
      "[iter 100] loss=3.3799 val_loss=3.3857 scale=2.0000 norm=10.8068                                                                                            \n",
      "[iter 200] loss=3.1036 val_loss=3.1197 scale=2.0000 norm=7.0407                                                                                             \n",
      "[iter 300] loss=2.8656 val_loss=2.8967 scale=2.0000 norm=5.2436                                                                                             \n",
      "[iter 400] loss=2.6545 val_loss=2.7128 scale=2.0000 norm=4.3363                                                                                             \n",
      "[iter 500] loss=2.4734 val_loss=2.5741 scale=2.0000 norm=3.9027                                                                                             \n",
      "[iter 600] loss=2.3153 val_loss=2.4835 scale=2.0000 norm=3.6202                                                                                             \n",
      "[iter 700] loss=2.1904 val_loss=2.4385 scale=2.0000 norm=3.4725                                                                                             \n",
      "== Early stopping achieved.                                                                                                                                 \n",
      "== Best iteration / VAL769 (val_loss=2.4316)                                                                                                                \n",
      "  9%|███████▍                                                                           | 9/100 [13:23<2:07:43, 84.21s/trial, best loss: 2.3871186335285532]"
     ]
    },
    {
     "name": "stderr",
     "output_type": "stream",
     "text": [
      "2021-07-27 23:39:15 INFO     {'Base': DecisionTreeRegressor(criterion='friedman_mse', max_leaf_nodes=127,\n",
      "                      min_samples_split=3, random_state=1), 'col_sample': 0.9, 'learning_rate': 0.003, 'minibatch_frac': 0.7000000000000001, 'n_estimators': 10000000, 'verbose_eval': 100, 'random_state': 13}\n"
     ]
    },
    {
     "name": "stdout",
     "output_type": "stream",
     "text": [
      "\r",
      " 10%|████████▏                                                                         | 10/100 [13:23<2:27:08, 98.10s/trial, best loss: 2.3871186335285532]"
     ]
    },
    {
     "name": "stderr",
     "output_type": "stream",
     "text": [
      "2021-07-27 23:39:15 INFO     build_posterior_wrapper took 0.004007 seconds\n",
      "2021-07-27 23:39:15 INFO     TPE using 10/10 trials with best loss 2.387119\n"
     ]
    },
    {
     "name": "stdout",
     "output_type": "stream",
     "text": [
      "{'Base': DecisionTreeRegressor(criterion='friedman_mse', max_leaf_nodes=63,                                                                                 \n",
      "                      min_samples_split=3, random_state=1), 'col_sample': 0.7000000000000001, 'learning_rate': 0.002, 'minibatch_frac': 0.9, 'n_estimators': 10000000, 'verbose_eval': 100, 'random_state': 13}\n",
      "[iter 0] loss=3.8335 val_loss=3.8388 scale=2.0000 norm=18.1602                                                                                              \n",
      "[iter 100] loss=3.4960 val_loss=3.4983 scale=2.0000 norm=12.8661                                                                                            \n",
      "[iter 200] loss=3.2935 val_loss=3.2993 scale=2.0000 norm=9.4336                                                                                             \n",
      "[iter 300] loss=3.1229 val_loss=3.1307 scale=2.0000 norm=7.3214                                                                                             \n",
      "[iter 400] loss=2.9692 val_loss=2.9805 scale=2.0000 norm=6.0124                                                                                             \n",
      "[iter 500] loss=2.8297 val_loss=2.8471 scale=2.0000 norm=5.2263                                                                                             \n",
      "[iter 600] loss=2.7025 val_loss=2.7314 scale=2.0000 norm=4.6922                                                                                             \n",
      "[iter 700] loss=2.5951 val_loss=2.6346 scale=2.0000 norm=4.4195                                                                                             \n",
      "[iter 800] loss=2.4995 val_loss=2.5567 scale=2.0000 norm=4.2283                                                                                             \n",
      "[iter 900] loss=2.4203 val_loss=2.4963 scale=2.0000 norm=4.1178                                                                                             \n",
      "[iter 1000] loss=2.3524 val_loss=2.4516 scale=2.0000 norm=4.0387                                                                                            \n",
      "[iter 1100] loss=2.2900 val_loss=2.4206 scale=2.0000 norm=3.9390                                                                                            \n",
      "[iter 1200] loss=2.2412 val_loss=2.4009 scale=2.0000 norm=3.8908                                                                                            \n",
      "[iter 1300] loss=2.1986 val_loss=2.3897 scale=2.0000 norm=3.8390                                                                                            \n",
      "[iter 1400] loss=2.1630 val_loss=2.3857 scale=2.0000 norm=3.7961                                                                                            \n",
      "== Early stopping achieved.                                                                                                                                 \n",
      "== Best iteration / VAL1412 (val_loss=2.3856)                                                                                                               \n",
      " 10%|████████▏                                                                         | 10/100 [16:47<2:27:08, 98.10s/trial, best loss: 2.3871186335285532]"
     ]
    },
    {
     "name": "stderr",
     "output_type": "stream",
     "text": [
      "2021-07-27 23:42:39 INFO     {'Base': DecisionTreeRegressor(criterion='friedman_mse', max_leaf_nodes=63,\n",
      "                      min_samples_split=3, random_state=1), 'col_sample': 0.7000000000000001, 'learning_rate': 0.002, 'minibatch_frac': 0.9, 'n_estimators': 10000000, 'verbose_eval': 100, 'random_state': 13}\n"
     ]
    },
    {
     "name": "stdout",
     "output_type": "stream",
     "text": [
      "\r",
      " 11%|█████████                                                                         | 11/100 [16:47<3:13:32, 130.48s/trial, best loss: 2.385574057314728]"
     ]
    },
    {
     "name": "stderr",
     "output_type": "stream",
     "text": [
      "2021-07-27 23:42:39 INFO     build_posterior_wrapper took 0.000999 seconds\n",
      "2021-07-27 23:42:39 INFO     TPE using 11/11 trials with best loss 2.385574\n"
     ]
    },
    {
     "name": "stdout",
     "output_type": "stream",
     "text": [
      "{'Base': DecisionTreeRegressor(criterion='friedman_mse', max_leaf_nodes=127,                                                                                \n",
      "                      min_samples_split=3, random_state=1), 'col_sample': 0.9, 'learning_rate': 0.006, 'minibatch_frac': 0.7000000000000001, 'n_estimators': 10000000, 'verbose_eval': 100, 'random_state': 13}\n",
      "[iter 0] loss=3.8314 val_loss=3.8264 scale=2.0000 norm=18.1206                                                                                              \n",
      "[iter 100] loss=3.1045 val_loss=3.1169 scale=2.0000 norm=7.0460                                                                                             \n",
      "[iter 200] loss=2.6542 val_loss=2.7110 scale=2.0000 norm=4.3417                                                                                             \n",
      "[iter 300] loss=2.3217 val_loss=2.4826 scale=2.0000 norm=3.6734                                                                                             \n",
      "== Early stopping achieved.                                                                                                                                 \n",
      "== Best iteration / VAL379 (val_loss=2.4330)                                                                                                                \n",
      " 11%|█████████                                                                         | 11/100 [17:54<3:13:32, 130.48s/trial, best loss: 2.385574057314728]"
     ]
    },
    {
     "name": "stderr",
     "output_type": "stream",
     "text": [
      "2021-07-27 23:43:46 INFO     {'Base': DecisionTreeRegressor(criterion='friedman_mse', max_leaf_nodes=127,\n",
      "                      min_samples_split=3, random_state=1), 'col_sample': 0.9, 'learning_rate': 0.006, 'minibatch_frac': 0.7000000000000001, 'n_estimators': 10000000, 'verbose_eval': 100, 'random_state': 13}\n"
     ]
    },
    {
     "name": "stdout",
     "output_type": "stream",
     "text": [
      "\r",
      " 12%|█████████▊                                                                        | 12/100 [17:54<2:43:06, 111.22s/trial, best loss: 2.385574057314728]"
     ]
    },
    {
     "name": "stderr",
     "output_type": "stream",
     "text": [
      "2021-07-27 23:43:46 INFO     build_posterior_wrapper took 0.003008 seconds\n",
      "2021-07-27 23:43:46 INFO     TPE using 12/12 trials with best loss 2.385574\n"
     ]
    },
    {
     "name": "stdout",
     "output_type": "stream",
     "text": [
      "{'Base': DecisionTreeRegressor(criterion='friedman_mse', max_leaf_nodes=127,                                                                                \n",
      "                      min_samples_split=3, random_state=1), 'col_sample': 0.9, 'learning_rate': 0.007, 'minibatch_frac': 0.7000000000000001, 'n_estimators': 10000000, 'verbose_eval': 100, 'random_state': 13}\n",
      "[iter 0] loss=3.8314 val_loss=3.8233 scale=2.0000 norm=18.1206                                                                                              \n",
      "[iter 100] loss=3.0214 val_loss=3.0377 scale=2.0000 norm=6.2840                                                                                             \n",
      "[iter 200] loss=2.5297 val_loss=2.6126 scale=2.0000 norm=4.0170                                                                                             \n",
      "[iter 300] loss=2.1947 val_loss=2.4367 scale=2.0000 norm=3.5017                                                                                             \n",
      "== Early stopping achieved.                                                                                                                                 \n",
      "== Best iteration / VAL329 (val_loss=2.4303)                                                                                                                \n",
      " 12%|█████████▊                                                                        | 12/100 [18:51<2:43:06, 111.22s/trial, best loss: 2.385574057314728]"
     ]
    },
    {
     "name": "stderr",
     "output_type": "stream",
     "text": [
      "2021-07-27 23:44:44 INFO     {'Base': DecisionTreeRegressor(criterion='friedman_mse', max_leaf_nodes=127,\n",
      "                      min_samples_split=3, random_state=1), 'col_sample': 0.9, 'learning_rate': 0.007, 'minibatch_frac': 0.7000000000000001, 'n_estimators': 10000000, 'verbose_eval': 100, 'random_state': 13}\n"
     ]
    },
    {
     "name": "stdout",
     "output_type": "stream",
     "text": [
      "\r",
      " 13%|██████████▊                                                                        | 13/100 [18:51<2:17:29, 94.82s/trial, best loss: 2.385574057314728]"
     ]
    },
    {
     "name": "stderr",
     "output_type": "stream",
     "text": [
      "2021-07-27 23:44:44 INFO     build_posterior_wrapper took 0.001999 seconds\n",
      "2021-07-27 23:44:44 INFO     TPE using 13/13 trials with best loss 2.385574\n"
     ]
    },
    {
     "name": "stdout",
     "output_type": "stream",
     "text": [
      "{'Base': DecisionTreeRegressor(criterion='friedman_mse', max_leaf_nodes=127,                                                                                \n",
      "                      min_samples_split=3, random_state=1), 'col_sample': 0.7000000000000001, 'learning_rate': 0.001, 'minibatch_frac': 0.9, 'n_estimators': 10000000, 'verbose_eval': 100, 'random_state': 13}\n",
      "[iter 0] loss=3.8335 val_loss=3.8419 scale=2.0000 norm=18.1602                                                                                              \n",
      "[iter 100] loss=3.6268 val_loss=3.6318 scale=2.0000 norm=15.2491                                                                                            \n",
      "[iter 200] loss=3.4923 val_loss=3.5003 scale=2.0000 norm=12.8143                                                                                            \n",
      "[iter 300] loss=3.3846 val_loss=3.3934 scale=2.0000 norm=10.9017                                                                                            \n",
      "[iter 400] loss=3.2890 val_loss=3.2984 scale=2.0000 norm=9.3952                                                                                             \n",
      "[iter 500] loss=3.1977 val_loss=3.2105 scale=2.0000 norm=8.1554                                                                                             \n",
      "[iter 600] loss=3.1101 val_loss=3.1272 scale=2.0000 norm=7.1463                                                                                             \n",
      "[iter 700] loss=3.0280 val_loss=3.0484 scale=2.0000 norm=6.3872                                                                                             \n",
      "[iter 800] loss=2.9481 val_loss=2.9738 scale=2.0000 norm=5.7718                                                                                             \n",
      "[iter 900] loss=2.8725 val_loss=2.9034 scale=2.0000 norm=5.3104                                                                                             \n",
      "[iter 1000] loss=2.7997 val_loss=2.8368 scale=2.0000 norm=4.9486                                                                                            \n",
      "[iter 1100] loss=2.7279 val_loss=2.7748 scale=2.0000 norm=4.6188                                                                                            \n",
      "[iter 1200] loss=2.6614 val_loss=2.7175 scale=2.0000 norm=4.3914                                                                                            \n",
      "[iter 1300] loss=2.5969 val_loss=2.6652 scale=2.0000 norm=4.2017                                                                                            \n",
      "[iter 1400] loss=2.5367 val_loss=2.6180 scale=2.0000 norm=4.0574                                                                                            \n",
      "[iter 1500] loss=2.4797 val_loss=2.5760 scale=2.0000 norm=3.9331                                                                                            \n",
      "[iter 1600] loss=2.4253 val_loss=2.5392 scale=2.0000 norm=3.8240                                                                                            \n",
      "[iter 1700] loss=2.3730 val_loss=2.5078 scale=2.0000 norm=3.7370                                                                                            \n",
      "[iter 1800] loss=2.3270 val_loss=2.4815 scale=2.0000 norm=3.6762                                                                                            \n",
      "[iter 1900] loss=2.2803 val_loss=2.4605 scale=2.0000 norm=3.6018                                                                                            \n",
      "[iter 2000] loss=2.2386 val_loss=2.4445 scale=2.0000 norm=3.5494                                                                                            \n",
      "[iter 2100] loss=2.1993 val_loss=2.4330 scale=2.0000 norm=3.5017                                                                                            \n",
      "[iter 2200] loss=2.1612 val_loss=2.4260 scale=2.0000 norm=3.4471                                                                                            \n",
      "[iter 2300] loss=2.1282 val_loss=2.4233 scale=2.0000 norm=3.4156                                                                                            \n",
      "== Early stopping achieved.                                                                                                                                 \n",
      "== Best iteration / VAL2331 (val_loss=2.4231)                                                                                                               \n",
      " 13%|██████████▊                                                                        | 13/100 [25:09<2:17:29, 94.82s/trial, best loss: 2.385574057314728]"
     ]
    },
    {
     "name": "stderr",
     "output_type": "stream",
     "text": [
      "2021-07-27 23:51:01 INFO     {'Base': DecisionTreeRegressor(criterion='friedman_mse', max_leaf_nodes=127,\n",
      "                      min_samples_split=3, random_state=1), 'col_sample': 0.7000000000000001, 'learning_rate': 0.001, 'minibatch_frac': 0.9, 'n_estimators': 10000000, 'verbose_eval': 100, 'random_state': 13}\n"
     ]
    },
    {
     "name": "stdout",
     "output_type": "stream",
     "text": [
      "\r",
      " 14%|███████████▍                                                                      | 14/100 [25:09<4:18:20, 180.24s/trial, best loss: 2.385574057314728]"
     ]
    },
    {
     "name": "stderr",
     "output_type": "stream",
     "text": [
      "2021-07-27 23:51:01 INFO     build_posterior_wrapper took 0.001987 seconds\n",
      "2021-07-27 23:51:01 INFO     TPE using 14/14 trials with best loss 2.385574\n"
     ]
    },
    {
     "name": "stdout",
     "output_type": "stream",
     "text": [
      "{'Base': DecisionTreeRegressor(criterion='friedman_mse', max_leaf_nodes=63,                                                                                 \n",
      "                      min_samples_split=3, random_state=1), 'col_sample': 0.7000000000000001, 'learning_rate': 0.009000000000000001, 'minibatch_frac': 0.5, 'n_estimators': 10000000, 'verbose_eval': 100, 'random_state': 13}\n",
      "[iter 0] loss=3.8284 val_loss=3.8174 scale=2.0000 norm=18.0475                                                                                              \n",
      "[iter 100] loss=2.8983 val_loss=2.9066 scale=2.0000 norm=5.5918                                                                                             \n",
      "[iter 200] loss=2.4209 val_loss=2.4952 scale=2.0000 norm=4.1333                                                                                             \n",
      "[iter 300] loss=2.1867 val_loss=2.3838 scale=2.0000 norm=3.8516                                                                                             \n",
      "== Early stopping achieved.                                                                                                                                 \n",
      "== Best iteration / VAL318 (val_loss=2.3818)                                                                                                                \n",
      " 14%|███████████▍                                                                      | 14/100 [25:38<4:18:20, 180.24s/trial, best loss: 2.385574057314728]"
     ]
    },
    {
     "name": "stderr",
     "output_type": "stream",
     "text": [
      "2021-07-27 23:51:30 INFO     {'Base': DecisionTreeRegressor(criterion='friedman_mse', max_leaf_nodes=63,\n",
      "                      min_samples_split=3, random_state=1), 'col_sample': 0.7000000000000001, 'learning_rate': 0.009000000000000001, 'minibatch_frac': 0.5, 'n_estimators': 10000000, 'verbose_eval': 100, 'random_state': 13}\n"
     ]
    },
    {
     "name": "stdout",
     "output_type": "stream",
     "text": [
      "\r",
      " 15%|████████████▎                                                                     | 15/100 [25:38<3:10:52, 134.74s/trial, best loss: 2.381752374746717]"
     ]
    },
    {
     "name": "stderr",
     "output_type": "stream",
     "text": [
      "2021-07-27 23:51:30 INFO     build_posterior_wrapper took 0.003000 seconds\n",
      "2021-07-27 23:51:30 INFO     TPE using 15/15 trials with best loss 2.381752\n"
     ]
    },
    {
     "name": "stdout",
     "output_type": "stream",
     "text": [
      "{'Base': DecisionTreeRegressor(criterion='friedman_mse', max_leaf_nodes=255,                                                                                \n",
      "                      min_samples_split=3, random_state=1), 'col_sample': 0.6000000000000001, 'learning_rate': 0.003, 'minibatch_frac': 0.8, 'n_estimators': 10000000, 'verbose_eval': 100, 'random_state': 13}\n",
      "[iter 0] loss=3.8347 val_loss=3.8356 scale=2.0000 norm=18.2020                                                                                              \n",
      "[iter 100] loss=3.3924 val_loss=3.4038 scale=2.0000 norm=11.0782                                                                                            \n",
      "[iter 200] loss=3.1077 val_loss=3.1350 scale=2.0000 norm=7.1275                                                                                             \n",
      "[iter 300] loss=2.8541 val_loss=2.9061 scale=2.0000 norm=5.0983                                                                                             \n",
      "[iter 400] loss=2.6214 val_loss=2.7138 scale=2.0000 norm=4.0300                                                                                             \n",
      "[iter 500] loss=2.4091 val_loss=2.5690 scale=2.0000 norm=3.4649                                                                                             \n",
      "[iter 600] loss=2.2149 val_loss=2.4817 scale=2.0000 norm=3.1004                                                                                             \n",
      "== Early stopping achieved.                                                                                                                                 \n",
      "== Best iteration / VAL679 (val_loss=2.4612)                                                                                                                \n",
      " 15%|████████████▎                                                                     | 15/100 [27:19<3:10:52, 134.74s/trial, best loss: 2.381752374746717]"
     ]
    },
    {
     "name": "stderr",
     "output_type": "stream",
     "text": [
      "2021-07-27 23:53:11 INFO     {'Base': DecisionTreeRegressor(criterion='friedman_mse', max_leaf_nodes=255,\n",
      "                      min_samples_split=3, random_state=1), 'col_sample': 0.6000000000000001, 'learning_rate': 0.003, 'minibatch_frac': 0.8, 'n_estimators': 10000000, 'verbose_eval': 100, 'random_state': 13}\n"
     ]
    },
    {
     "name": "stdout",
     "output_type": "stream",
     "text": [
      "\r",
      " 16%|█████████████                                                                     | 16/100 [27:19<2:54:20, 124.53s/trial, best loss: 2.381752374746717]"
     ]
    },
    {
     "name": "stderr",
     "output_type": "stream",
     "text": [
      "2021-07-27 23:53:11 INFO     build_posterior_wrapper took 0.002025 seconds\n",
      "2021-07-27 23:53:11 INFO     TPE using 16/16 trials with best loss 2.381752\n"
     ]
    },
    {
     "name": "stdout",
     "output_type": "stream",
     "text": [
      "{'Base': DecisionTreeRegressor(criterion='friedman_mse', max_leaf_nodes=255,                                                                                \n",
      "                      min_samples_split=3, random_state=1), 'col_sample': 0.7000000000000001, 'learning_rate': 0.004, 'minibatch_frac': 0.5, 'n_estimators': 10000000, 'verbose_eval': 100, 'random_state': 13}\n",
      "[iter 0] loss=3.8284 val_loss=3.8325 scale=2.0000 norm=18.0475                                                                                              \n",
      "[iter 100] loss=3.2800 val_loss=3.2914 scale=2.0000 norm=9.2772                                                                                             \n",
      "[iter 200] loss=2.9233 val_loss=2.9630 scale=2.0000 norm=5.4843                                                                                             \n",
      "[iter 300] loss=2.6066 val_loss=2.7011 scale=2.0000 norm=3.9497                                                                                             \n",
      "[iter 400] loss=2.3297 val_loss=2.5254 scale=2.0000 norm=3.2964                                                                                             \n",
      "[iter 500] loss=2.0986 val_loss=2.4617 scale=2.0000 norm=2.9683                                                                                             \n",
      "== Early stopping achieved.                                                                                                                                 \n",
      "== Best iteration / VAL504 (val_loss=2.4614)                                                                                                                \n",
      " 16%|█████████████                                                                     | 16/100 [28:21<2:54:20, 124.53s/trial, best loss: 2.381752374746717]"
     ]
    },
    {
     "name": "stderr",
     "output_type": "stream",
     "text": [
      "2021-07-27 23:54:14 INFO     {'Base': DecisionTreeRegressor(criterion='friedman_mse', max_leaf_nodes=255,\n",
      "                      min_samples_split=3, random_state=1), 'col_sample': 0.7000000000000001, 'learning_rate': 0.004, 'minibatch_frac': 0.5, 'n_estimators': 10000000, 'verbose_eval': 100, 'random_state': 13}\n"
     ]
    },
    {
     "name": "stdout",
     "output_type": "stream",
     "text": [
      "\r",
      " 17%|█████████████▉                                                                    | 17/100 [28:21<2:26:24, 105.83s/trial, best loss: 2.381752374746717]"
     ]
    },
    {
     "name": "stderr",
     "output_type": "stream",
     "text": [
      "2021-07-27 23:54:14 INFO     build_posterior_wrapper took 0.003030 seconds\n",
      "2021-07-27 23:54:14 INFO     TPE using 17/17 trials with best loss 2.381752\n"
     ]
    },
    {
     "name": "stdout",
     "output_type": "stream",
     "text": [
      "{'Base': DecisionTreeRegressor(criterion='friedman_mse', max_leaf_nodes=127,                                                                                \n",
      "                      min_samples_split=3, random_state=1), 'col_sample': 0.8, 'learning_rate': 0.008, 'minibatch_frac': 0.8, 'n_estimators': 10000000, 'verbose_eval': 100, 'random_state': 13}\n",
      "[iter 0] loss=3.8347 val_loss=3.8203 scale=2.0000 norm=18.2020                                                                                              \n",
      "[iter 100] loss=2.9423 val_loss=2.9629 scale=2.0000 norm=5.6936                                                                                             \n",
      "[iter 200] loss=2.4182 val_loss=2.5338 scale=2.0000 norm=3.8018                                                                                             \n",
      "== Early stopping achieved.                                                                                                                                 \n",
      "== Best iteration / VAL288 (val_loss=2.4259)                                                                                                                \n",
      " 17%|█████████████▉                                                                    | 17/100 [29:10<2:26:24, 105.83s/trial, best loss: 2.381752374746717]"
     ]
    },
    {
     "name": "stderr",
     "output_type": "stream",
     "text": [
      "2021-07-27 23:55:02 INFO     {'Base': DecisionTreeRegressor(criterion='friedman_mse', max_leaf_nodes=127,\n",
      "                      min_samples_split=3, random_state=1), 'col_sample': 0.8, 'learning_rate': 0.008, 'minibatch_frac': 0.8, 'n_estimators': 10000000, 'verbose_eval': 100, 'random_state': 13}\n"
     ]
    },
    {
     "name": "stdout",
     "output_type": "stream",
     "text": [
      "\r",
      " 18%|██████████████▉                                                                    | 18/100 [29:10<2:01:06, 88.61s/trial, best loss: 2.381752374746717]"
     ]
    },
    {
     "name": "stderr",
     "output_type": "stream",
     "text": [
      "2021-07-27 23:55:02 INFO     build_posterior_wrapper took 0.002997 seconds\n",
      "2021-07-27 23:55:02 INFO     TPE using 18/18 trials with best loss 2.381752\n"
     ]
    },
    {
     "name": "stdout",
     "output_type": "stream",
     "text": [
      "{'Base': DecisionTreeRegressor(criterion='friedman_mse', max_leaf_nodes=63,                                                                                 \n",
      "                      min_samples_split=3, random_state=1), 'col_sample': 0.7000000000000001, 'learning_rate': 0.005, 'minibatch_frac': 1.0, 'n_estimators': 10000000, 'verbose_eval': 100, 'random_state': 13}\n",
      "[iter 0] loss=3.8345 val_loss=3.8295 scale=2.0000 norm=18.1911                                                                                              \n",
      "[iter 100] loss=3.2102 val_loss=3.2142 scale=2.0000 norm=8.3068                                                                                             \n",
      "[iter 200] loss=2.8323 val_loss=2.8494 scale=2.0000 norm=5.2220                                                                                             \n",
      "[iter 300] loss=2.5490 val_loss=2.5956 scale=2.0000 norm=4.3274                                                                                             \n",
      "[iter 400] loss=2.3541 val_loss=2.4550 scale=2.0000 norm=4.0333                                                                                             \n",
      "[iter 500] loss=2.2236 val_loss=2.3961 scale=2.0000 norm=3.8758                                                                                             \n",
      "== Early stopping achieved.                                                                                                                                 \n",
      "== Best iteration / VAL563 (val_loss=2.3866)                                                                                                                \n",
      " 18%|██████████████▉                                                                    | 18/100 [30:38<2:01:06, 88.61s/trial, best loss: 2.381752374746717]"
     ]
    },
    {
     "name": "stderr",
     "output_type": "stream",
     "text": [
      "2021-07-27 23:56:31 INFO     {'Base': DecisionTreeRegressor(criterion='friedman_mse', max_leaf_nodes=63,\n",
      "                      min_samples_split=3, random_state=1), 'col_sample': 0.7000000000000001, 'learning_rate': 0.005, 'minibatch_frac': 1.0, 'n_estimators': 10000000, 'verbose_eval': 100, 'random_state': 13}\n"
     ]
    },
    {
     "name": "stdout",
     "output_type": "stream",
     "text": [
      "\r",
      " 19%|███████████████▊                                                                   | 19/100 [30:38<1:59:35, 88.59s/trial, best loss: 2.381752374746717]"
     ]
    },
    {
     "name": "stderr",
     "output_type": "stream",
     "text": [
      "2021-07-27 23:56:31 INFO     build_posterior_wrapper took 0.002000 seconds\n",
      "2021-07-27 23:56:31 INFO     TPE using 19/19 trials with best loss 2.381752\n"
     ]
    },
    {
     "name": "stdout",
     "output_type": "stream",
     "text": [
      "{'Base': DecisionTreeRegressor(criterion='friedman_mse', max_leaf_nodes=255,                                                                                \n",
      "                      min_samples_split=3, random_state=1), 'col_sample': 0.5, 'learning_rate': 0.004, 'minibatch_frac': 1.0, 'n_estimators': 10000000, 'verbose_eval': 100, 'random_state': 13}\n",
      "[iter 0] loss=3.8345 val_loss=3.8327 scale=2.0000 norm=18.1911                                                                                              \n",
      "[iter 100] loss=3.3167 val_loss=3.3340 scale=2.0000 norm=9.9034                                                                                             \n",
      "[iter 200] loss=2.9607 val_loss=3.0023 scale=2.0000 norm=5.8728                                                                                             \n",
      "[iter 300] loss=2.6461 val_loss=2.7369 scale=2.0000 norm=4.1941                                                                                             \n",
      "[iter 400] loss=2.3658 val_loss=2.5503 scale=2.0000 norm=3.4116                                                                                             \n",
      "[iter 500] loss=2.1252 val_loss=2.4703 scale=2.0000 norm=3.0122                                                                                             \n",
      "== Early stopping achieved.                                                                                                                                 \n",
      "== Best iteration / VAL510 (val_loss=2.4690)                                                                                                                \n",
      " 19%|███████████████▊                                                                   | 19/100 [31:57<1:59:35, 88.59s/trial, best loss: 2.381752374746717]"
     ]
    },
    {
     "name": "stderr",
     "output_type": "stream",
     "text": [
      "2021-07-27 23:57:49 INFO     {'Base': DecisionTreeRegressor(criterion='friedman_mse', max_leaf_nodes=255,\n",
      "                      min_samples_split=3, random_state=1), 'col_sample': 0.5, 'learning_rate': 0.004, 'minibatch_frac': 1.0, 'n_estimators': 10000000, 'verbose_eval': 100, 'random_state': 13}\n"
     ]
    },
    {
     "name": "stdout",
     "output_type": "stream",
     "text": [
      "\r",
      " 20%|████████████████▌                                                                  | 20/100 [31:57<1:54:02, 85.54s/trial, best loss: 2.381752374746717]"
     ]
    },
    {
     "name": "stderr",
     "output_type": "stream",
     "text": [
      "2021-07-27 23:57:49 INFO     build_posterior_wrapper took 0.001985 seconds\n",
      "2021-07-27 23:57:49 INFO     TPE using 20/20 trials with best loss 2.381752\n"
     ]
    },
    {
     "name": "stdout",
     "output_type": "stream",
     "text": [
      "{'Base': DecisionTreeRegressor(criterion='friedman_mse', max_leaf_nodes=63,                                                                                 \n",
      "                      min_samples_split=3, random_state=1), 'col_sample': 0.5, 'learning_rate': 0.001, 'minibatch_frac': 0.6000000000000001, 'n_estimators': 10000000, 'verbose_eval': 100, 'random_state': 13}\n",
      "[iter 0] loss=3.8305 val_loss=3.8420 scale=2.0000 norm=18.0903                                                                                              \n",
      "[iter 100] loss=3.6462 val_loss=3.6461 scale=2.0000 norm=15.6174                                                                                            \n",
      "[iter 200] loss=3.5163 val_loss=3.5220 scale=1.0000 norm=6.6479                                                                                             \n",
      "[iter 300] loss=3.4116 val_loss=3.4193 scale=2.0000 norm=11.4088                                                                                            \n",
      "[iter 400] loss=3.3193 val_loss=3.3266 scale=2.0000 norm=9.9413                                                                                             \n",
      "[iter 500] loss=3.2346 val_loss=3.2420 scale=2.0000 norm=8.7900                                                                                             \n",
      "[iter 600] loss=3.1491 val_loss=3.1605 scale=2.0000 norm=7.7486                                                                                             \n",
      "[iter 700] loss=3.0727 val_loss=3.0836 scale=2.0000 norm=7.0028                                                                                             \n",
      "[iter 800] loss=2.9989 val_loss=3.0105 scale=2.0000 norm=6.3739                                                                                             \n",
      "[iter 900] loss=2.9274 val_loss=2.9423 scale=2.0000 norm=5.8972                                                                                             \n",
      "[iter 1000] loss=2.8591 val_loss=2.8774 scale=2.0000 norm=5.5006                                                                                            \n",
      "[iter 1100] loss=2.7972 val_loss=2.8168 scale=2.0000 norm=5.2399                                                                                            \n",
      "[iter 1200] loss=2.7314 val_loss=2.7607 scale=2.0000 norm=4.9085                                                                                            \n",
      "[iter 1300] loss=2.6780 val_loss=2.7094 scale=2.0000 norm=4.7672                                                                                            \n",
      "[iter 1400] loss=2.6219 val_loss=2.6630 scale=2.0000 norm=4.5725                                                                                            \n",
      "[iter 1500] loss=2.5731 val_loss=2.6209 scale=2.0000 norm=4.4447                                                                                            \n",
      "[iter 1600] loss=2.5301 val_loss=2.5831 scale=2.0000 norm=4.3656                                                                                            \n",
      "[iter 1700] loss=2.4844 val_loss=2.5495 scale=2.0000 norm=4.2646                                                                                            \n",
      "[iter 1800] loss=2.4494 val_loss=2.5201 scale=2.0000 norm=4.2266                                                                                            \n",
      "[iter 1900] loss=2.4137 val_loss=2.4952 scale=2.0000 norm=4.1767                                                                                            \n",
      "[iter 2000] loss=2.3772 val_loss=2.4735 scale=2.0000 norm=4.0984                                                                                            \n",
      "[iter 2100] loss=2.3521 val_loss=2.4553 scale=2.0000 norm=4.0995                                                                                            \n",
      "[iter 2200] loss=2.3188 val_loss=2.4398 scale=2.0000 norm=4.0142                                                                                            \n",
      "[iter 2300] loss=2.2929 val_loss=2.4273 scale=2.0000 norm=3.9911                                                                                            \n",
      "[iter 2400] loss=2.2732 val_loss=2.4174 scale=2.0000 norm=3.9841                                                                                            \n",
      "[iter 2500] loss=2.2528 val_loss=2.4101 scale=2.0000 norm=3.9636                                                                                            \n",
      "[iter 2600] loss=2.2283 val_loss=2.4037 scale=2.0000 norm=3.9161                                                                                            \n",
      "[iter 2700] loss=2.2072 val_loss=2.3996 scale=2.0000 norm=3.8775                                                                                            \n",
      "[iter 2800] loss=2.1880 val_loss=2.3973 scale=2.0000 norm=3.8413                                                                                            \n",
      "== Early stopping achieved.                                                                                                                                 \n",
      "== Best iteration / VAL2798 (val_loss=2.3973)                                                                                                               \n",
      " 20%|████████████████▌                                                                  | 20/100 [35:37<1:54:02, 85.54s/trial, best loss: 2.381752374746717]"
     ]
    },
    {
     "name": "stderr",
     "output_type": "stream",
     "text": [
      "2021-07-28 00:01:29 INFO     {'Base': DecisionTreeRegressor(criterion='friedman_mse', max_leaf_nodes=63,\n",
      "                      min_samples_split=3, random_state=1), 'col_sample': 0.5, 'learning_rate': 0.001, 'minibatch_frac': 0.6000000000000001, 'n_estimators': 10000000, 'verbose_eval': 100, 'random_state': 13}\n"
     ]
    },
    {
     "name": "stdout",
     "output_type": "stream",
     "text": [
      "\r",
      " 21%|█████████████████▏                                                                | 21/100 [35:37<2:45:51, 125.97s/trial, best loss: 2.381752374746717]"
     ]
    },
    {
     "name": "stderr",
     "output_type": "stream",
     "text": [
      "2021-07-28 00:01:29 INFO     build_posterior_wrapper took 0.002031 seconds\n",
      "2021-07-28 00:01:29 INFO     TPE using 21/21 trials with best loss 2.381752\n"
     ]
    },
    {
     "name": "stdout",
     "output_type": "stream",
     "text": [
      "{'Base': DecisionTreeRegressor(criterion='friedman_mse', max_leaf_nodes=63,                                                                                 \n",
      "                      min_samples_split=3, random_state=1), 'col_sample': 0.7000000000000001, 'learning_rate': 0.01, 'minibatch_frac': 0.6000000000000001, 'n_estimators': 10000000, 'verbose_eval': 100, 'random_state': 13}\n",
      "[iter 0] loss=3.8305 val_loss=3.8145 scale=2.0000 norm=18.0903                                                                                              \n",
      "[iter 100] loss=2.8290 val_loss=2.8407 scale=2.0000 norm=5.2087                                                                                             \n",
      "[iter 200] loss=2.3511 val_loss=2.4556 scale=2.0000 norm=4.0362                                                                                             \n",
      "== Early stopping achieved.                                                                                                                                 \n",
      "== Best iteration / VAL270 (val_loss=2.3973)                                                                                                                \n",
      " 21%|█████████████████▏                                                                | 21/100 [36:06<2:45:51, 125.97s/trial, best loss: 2.381752374746717]"
     ]
    },
    {
     "name": "stderr",
     "output_type": "stream",
     "text": [
      "2021-07-28 00:01:58 INFO     {'Base': DecisionTreeRegressor(criterion='friedman_mse', max_leaf_nodes=63,\n",
      "                      min_samples_split=3, random_state=1), 'col_sample': 0.7000000000000001, 'learning_rate': 0.01, 'minibatch_frac': 0.6000000000000001, 'n_estimators': 10000000, 'verbose_eval': 100, 'random_state': 13}\n"
     ]
    },
    {
     "name": "stdout",
     "output_type": "stream",
     "text": [
      "\r",
      " 22%|██████████████████▎                                                                | 22/100 [36:06<2:05:48, 96.77s/trial, best loss: 2.381752374746717]"
     ]
    },
    {
     "name": "stderr",
     "output_type": "stream",
     "text": [
      "2021-07-28 00:01:58 INFO     build_posterior_wrapper took 0.003030 seconds\n",
      "2021-07-28 00:01:58 INFO     TPE using 22/22 trials with best loss 2.381752\n"
     ]
    },
    {
     "name": "stdout",
     "output_type": "stream",
     "text": [
      "{'Base': DecisionTreeRegressor(criterion='friedman_mse', max_leaf_nodes=63,                                                                                 \n",
      "                      min_samples_split=3, random_state=1), 'col_sample': 0.7000000000000001, 'learning_rate': 0.002, 'minibatch_frac': 0.9, 'n_estimators': 10000000, 'verbose_eval': 100, 'random_state': 13}\n",
      "[iter 0] loss=3.8335 val_loss=3.8388 scale=2.0000 norm=18.1602                                                                                              \n",
      "[iter 100] loss=3.4960 val_loss=3.4983 scale=2.0000 norm=12.8661                                                                                            \n",
      "[iter 200] loss=3.2935 val_loss=3.2993 scale=2.0000 norm=9.4336                                                                                             \n",
      "[iter 300] loss=3.1229 val_loss=3.1307 scale=2.0000 norm=7.3214                                                                                             \n",
      "[iter 400] loss=2.9692 val_loss=2.9805 scale=2.0000 norm=6.0124                                                                                             \n",
      "[iter 500] loss=2.8297 val_loss=2.8471 scale=2.0000 norm=5.2263                                                                                             \n",
      "[iter 600] loss=2.7025 val_loss=2.7314 scale=2.0000 norm=4.6922                                                                                             \n",
      "[iter 700] loss=2.5951 val_loss=2.6346 scale=2.0000 norm=4.4195                                                                                             \n",
      "[iter 800] loss=2.4995 val_loss=2.5567 scale=2.0000 norm=4.2283                                                                                             \n",
      "[iter 900] loss=2.4203 val_loss=2.4963 scale=2.0000 norm=4.1178                                                                                             \n",
      "[iter 1000] loss=2.3524 val_loss=2.4516 scale=2.0000 norm=4.0387                                                                                            \n",
      "[iter 1100] loss=2.2900 val_loss=2.4206 scale=2.0000 norm=3.9390                                                                                            \n",
      "[iter 1200] loss=2.2412 val_loss=2.4009 scale=2.0000 norm=3.8908                                                                                            \n",
      "[iter 1300] loss=2.1986 val_loss=2.3897 scale=2.0000 norm=3.8390                                                                                            \n",
      "[iter 1400] loss=2.1630 val_loss=2.3857 scale=2.0000 norm=3.7961                                                                                            \n",
      "== Early stopping achieved.                                                                                                                                 \n",
      "== Best iteration / VAL1412 (val_loss=2.3856)                                                                                                               \n",
      " 22%|██████████████████▎                                                                | 22/100 [39:26<2:05:48, 96.77s/trial, best loss: 2.381752374746717]"
     ]
    },
    {
     "name": "stderr",
     "output_type": "stream",
     "text": [
      "2021-07-28 00:05:19 INFO     {'Base': DecisionTreeRegressor(criterion='friedman_mse', max_leaf_nodes=63,\n",
      "                      min_samples_split=3, random_state=1), 'col_sample': 0.7000000000000001, 'learning_rate': 0.002, 'minibatch_frac': 0.9, 'n_estimators': 10000000, 'verbose_eval': 100, 'random_state': 13}\n"
     ]
    },
    {
     "name": "stdout",
     "output_type": "stream",
     "text": [
      "\r",
      " 23%|██████████████████▊                                                               | 23/100 [39:26<2:44:11, 127.94s/trial, best loss: 2.381752374746717]"
     ]
    },
    {
     "name": "stderr",
     "output_type": "stream",
     "text": [
      "2021-07-28 00:05:19 INFO     build_posterior_wrapper took 0.002001 seconds\n",
      "2021-07-28 00:05:19 INFO     TPE using 23/23 trials with best loss 2.381752\n"
     ]
    },
    {
     "name": "stdout",
     "output_type": "stream",
     "text": [
      "{'Base': DecisionTreeRegressor(criterion='friedman_mse', max_leaf_nodes=63,                                                                                 \n",
      "                      min_samples_split=3, random_state=1), 'col_sample': 0.6000000000000001, 'learning_rate': 0.002, 'minibatch_frac': 0.8, 'n_estimators': 10000000, 'verbose_eval': 100, 'random_state': 13}\n",
      "[iter 0] loss=3.8347 val_loss=3.8388 scale=2.0000 norm=18.2020                                                                                              \n",
      "[iter 100] loss=3.5077 val_loss=3.5100 scale=2.0000 norm=13.1037                                                                                            \n",
      "[iter 200] loss=3.3061 val_loss=3.3119 scale=2.0000 norm=9.6913                                                                                             \n",
      "[iter 300] loss=3.1356 val_loss=3.1447 scale=2.0000 norm=7.5264                                                                                             \n",
      "[iter 400] loss=2.9829 val_loss=2.9946 scale=2.0000 norm=6.1824                                                                                             \n",
      "[iter 500] loss=2.8439 val_loss=2.8609 scale=2.0000 norm=5.3575                                                                                             \n",
      "[iter 600] loss=2.7155 val_loss=2.7435 scale=2.0000 norm=4.7817                                                                                             \n",
      "[iter 700] loss=2.6080 val_loss=2.6455 scale=2.0000 norm=4.4855                                                                                             \n",
      "[iter 800] loss=2.5116 val_loss=2.5655 scale=2.0000 norm=4.2768                                                                                             \n",
      "[iter 900] loss=2.4308 val_loss=2.5036 scale=2.0000 norm=4.1512                                                                                             \n",
      "[iter 1000] loss=2.3628 val_loss=2.4572 scale=2.0000 norm=4.0641                                                                                            \n",
      "[iter 1100] loss=2.3016 val_loss=2.4244 scale=2.0000 norm=3.9706                                                                                            \n",
      "[iter 1200] loss=2.2503 val_loss=2.4030 scale=2.0000 norm=3.9017                                                                                            \n",
      "[iter 1300] loss=2.2116 val_loss=2.3911 scale=2.0000 norm=3.8741                                                                                            \n",
      "[iter 1400] loss=2.1761 val_loss=2.3862 scale=2.0000 norm=3.8282                                                                                            \n",
      "== Early stopping achieved.                                                                                                                                 \n",
      "== Best iteration / VAL1414 (val_loss=2.3857)                                                                                                               \n",
      " 23%|██████████████████▊                                                               | 23/100 [42:05<2:44:11, 127.94s/trial, best loss: 2.381752374746717]"
     ]
    },
    {
     "name": "stderr",
     "output_type": "stream",
     "text": [
      "2021-07-28 00:07:57 INFO     {'Base': DecisionTreeRegressor(criterion='friedman_mse', max_leaf_nodes=63,\n",
      "                      min_samples_split=3, random_state=1), 'col_sample': 0.6000000000000001, 'learning_rate': 0.002, 'minibatch_frac': 0.8, 'n_estimators': 10000000, 'verbose_eval': 100, 'random_state': 13}\n"
     ]
    },
    {
     "name": "stdout",
     "output_type": "stream",
     "text": [
      "\r",
      " 24%|███████████████████▋                                                              | 24/100 [42:05<2:53:31, 136.99s/trial, best loss: 2.381752374746717]"
     ]
    },
    {
     "name": "stderr",
     "output_type": "stream",
     "text": [
      "2021-07-28 00:07:57 INFO     build_posterior_wrapper took 0.002037 seconds\n",
      "2021-07-28 00:07:57 INFO     TPE using 24/24 trials with best loss 2.381752\n"
     ]
    },
    {
     "name": "stdout",
     "output_type": "stream",
     "text": [
      "{'Base': DecisionTreeRegressor(criterion='friedman_mse', max_leaf_nodes=63,                                                                                 \n",
      "                      min_samples_split=3, random_state=1), 'col_sample': 0.5, 'learning_rate': 0.01, 'minibatch_frac': 0.5, 'n_estimators': 10000000, 'verbose_eval': 100, 'random_state': 13}\n",
      "[iter 0] loss=3.8284 val_loss=3.8144 scale=2.0000 norm=18.0475                                                                                              \n",
      "[iter 100] loss=2.8573 val_loss=2.8679 scale=2.0000 norm=5.5063                                                                                             \n",
      "[iter 200] loss=2.3791 val_loss=2.4725 scale=2.0000 norm=4.1349                                                                                             \n",
      "[iter 300] loss=2.1709 val_loss=2.4007 scale=2.0000 norm=3.8616                                                                                             \n",
      "== Early stopping achieved.                                                                                                                                 \n",
      "== Best iteration / VAL292 (val_loss=2.4005)                                                                                                                \n",
      " 24%|███████████████████▋                                                              | 24/100 [42:25<2:53:31, 136.99s/trial, best loss: 2.381752374746717]"
     ]
    },
    {
     "name": "stderr",
     "output_type": "stream",
     "text": [
      "2021-07-28 00:08:18 INFO     {'Base': DecisionTreeRegressor(criterion='friedman_mse', max_leaf_nodes=63,\n",
      "                      min_samples_split=3, random_state=1), 'col_sample': 0.5, 'learning_rate': 0.01, 'minibatch_frac': 0.5, 'n_estimators': 10000000, 'verbose_eval': 100, 'random_state': 13}\n"
     ]
    },
    {
     "name": "stdout",
     "output_type": "stream",
     "text": [
      "\r",
      " 25%|████████████████████▌                                                             | 25/100 [42:25<2:07:39, 102.12s/trial, best loss: 2.381752374746717]"
     ]
    },
    {
     "name": "stderr",
     "output_type": "stream",
     "text": [
      "2021-07-28 00:08:18 INFO     build_posterior_wrapper took 0.002002 seconds\n",
      "2021-07-28 00:08:18 INFO     TPE using 25/25 trials with best loss 2.381752\n"
     ]
    },
    {
     "name": "stdout",
     "output_type": "stream",
     "text": [
      "{'Base': DecisionTreeRegressor(criterion='friedman_mse', max_leaf_nodes=63,                                                                                 \n",
      "                      min_samples_split=3, random_state=1), 'col_sample': 0.7000000000000001, 'learning_rate': 0.008, 'minibatch_frac': 0.9, 'n_estimators': 10000000, 'verbose_eval': 100, 'random_state': 13}\n",
      "[iter 0] loss=3.8335 val_loss=3.8203 scale=2.0000 norm=18.1602                                                                                              \n",
      "[iter 100] loss=2.9668 val_loss=2.9751 scale=2.0000 norm=5.9736                                                                                             \n",
      "[iter 200] loss=2.4981 val_loss=2.5553 scale=2.0000 norm=4.2210                                                                                             \n",
      "[iter 300] loss=2.2419 val_loss=2.4025 scale=2.0000 norm=3.8975                                                                                             \n",
      "== Early stopping achieved.                                                                                                                                 \n",
      "== Best iteration / VAL359 (val_loss=2.3897)                                                                                                                \n",
      " 25%|████████████████████▌                                                             | 25/100 [43:17<2:07:39, 102.12s/trial, best loss: 2.381752374746717]"
     ]
    },
    {
     "name": "stderr",
     "output_type": "stream",
     "text": [
      "2021-07-28 00:09:09 INFO     {'Base': DecisionTreeRegressor(criterion='friedman_mse', max_leaf_nodes=63,\n",
      "                      min_samples_split=3, random_state=1), 'col_sample': 0.7000000000000001, 'learning_rate': 0.008, 'minibatch_frac': 0.9, 'n_estimators': 10000000, 'verbose_eval': 100, 'random_state': 13}\n"
     ]
    },
    {
     "name": "stdout",
     "output_type": "stream",
     "text": [
      "\r",
      " 26%|█████████████████████▌                                                             | 26/100 [43:17<1:47:19, 87.02s/trial, best loss: 2.381752374746717]"
     ]
    },
    {
     "name": "stderr",
     "output_type": "stream",
     "text": [
      "2021-07-28 00:09:09 INFO     build_posterior_wrapper took 0.003016 seconds\n",
      "2021-07-28 00:09:09 INFO     TPE using 26/26 trials with best loss 2.381752\n"
     ]
    },
    {
     "name": "stdout",
     "output_type": "stream",
     "text": [
      "{'Base': DecisionTreeRegressor(criterion='friedman_mse', max_leaf_nodes=63,                                                                                 \n",
      "                      min_samples_split=3, random_state=1), 'col_sample': 0.6000000000000001, 'learning_rate': 0.002, 'minibatch_frac': 0.6000000000000001, 'n_estimators': 10000000, 'verbose_eval': 100, 'random_state': 13}\n",
      "[iter 0] loss=3.8305 val_loss=3.8388 scale=2.0000 norm=18.0903                                                                                              \n",
      "[iter 100] loss=3.5110 val_loss=3.5104 scale=2.0000 norm=13.2040                                                                                            \n",
      "[iter 200] loss=3.3072 val_loss=3.3124 scale=2.0000 norm=9.7192                                                                                             \n",
      "[iter 300] loss=3.1354 val_loss=3.1455 scale=2.0000 norm=7.5122                                                                                             \n",
      "[iter 400] loss=2.9819 val_loss=2.9953 scale=2.0000 norm=6.1620                                                                                             \n",
      "[iter 500] loss=2.8436 val_loss=2.8620 scale=2.0000 norm=5.3583                                                                                             \n",
      "[iter 600] loss=2.7151 val_loss=2.7453 scale=2.0000 norm=4.7794                                                                                             \n",
      "[iter 700] loss=2.6078 val_loss=2.6473 scale=2.0000 norm=4.4905                                                                                             \n",
      "[iter 800] loss=2.5150 val_loss=2.5678 scale=2.0000 norm=4.3085                                                                                             \n",
      "[iter 900] loss=2.4318 val_loss=2.5062 scale=2.0000 norm=4.1620                                                                                             \n",
      "[iter 1000] loss=2.3612 val_loss=2.4606 scale=2.0000 norm=4.0542                                                                                            \n",
      "[iter 1100] loss=2.3068 val_loss=2.4283 scale=2.0000 norm=4.0077                                                                                            \n",
      "[iter 1200] loss=2.2501 val_loss=2.4078 scale=2.0000 norm=3.8994                                                                                            \n",
      "[iter 1300] loss=2.2147 val_loss=2.3956 scale=2.0000 norm=3.8928                                                                                            \n",
      "[iter 1400] loss=2.1753 val_loss=2.3905 scale=1.0000 norm=1.9093                                                                                            \n",
      "== Early stopping achieved.                                                                                                                                 \n",
      "== Best iteration / VAL1413 (val_loss=2.3902)                                                                                                               \n",
      " 26%|█████████████████████▌                                                             | 26/100 [45:23<1:47:19, 87.02s/trial, best loss: 2.381752374746717]"
     ]
    },
    {
     "name": "stderr",
     "output_type": "stream",
     "text": [
      "2021-07-28 00:11:16 INFO     {'Base': DecisionTreeRegressor(criterion='friedman_mse', max_leaf_nodes=63,\n",
      "                      min_samples_split=3, random_state=1), 'col_sample': 0.6000000000000001, 'learning_rate': 0.002, 'minibatch_frac': 0.6000000000000001, 'n_estimators': 10000000, 'verbose_eval': 100, 'random_state': 13}\n"
     ]
    },
    {
     "name": "stdout",
     "output_type": "stream",
     "text": [
      "\r",
      " 27%|██████████████████████▍                                                            | 27/100 [45:23<2:00:11, 98.79s/trial, best loss: 2.381752374746717]"
     ]
    },
    {
     "name": "stderr",
     "output_type": "stream",
     "text": [
      "2021-07-28 00:11:16 INFO     build_posterior_wrapper took 0.002039 seconds\n",
      "2021-07-28 00:11:16 INFO     TPE using 27/27 trials with best loss 2.381752\n"
     ]
    },
    {
     "name": "stdout",
     "output_type": "stream",
     "text": [
      "{'Base': DecisionTreeRegressor(criterion='friedman_mse', max_leaf_nodes=63,                                                                                 \n",
      "                      min_samples_split=3, random_state=1), 'col_sample': 0.7000000000000001, 'learning_rate': 0.006, 'minibatch_frac': 0.8, 'n_estimators': 10000000, 'verbose_eval': 100, 'random_state': 13}\n",
      "[iter 0] loss=3.8347 val_loss=3.8264 scale=2.0000 norm=18.2020                                                                                              \n",
      "[iter 100] loss=3.1218 val_loss=3.1262 scale=2.0000 norm=7.2842                                                                                             \n",
      "[iter 200] loss=2.7019 val_loss=2.7287 scale=2.0000 norm=4.7025                                                                                             \n",
      "[iter 300] loss=2.4195 val_loss=2.4950 scale=2.0000 norm=4.1248                                                                                             \n",
      "[iter 400] loss=2.2392 val_loss=2.4002 scale=2.0000 norm=3.8823                                                                                             \n",
      "== Early stopping achieved.                                                                                                                                 \n",
      "== Best iteration / VAL475 (val_loss=2.3847)                                                                                                                \n",
      " 27%|██████████████████████▍                                                            | 27/100 [46:25<2:00:11, 98.79s/trial, best loss: 2.381752374746717]"
     ]
    },
    {
     "name": "stderr",
     "output_type": "stream",
     "text": [
      "2021-07-28 00:12:18 INFO     {'Base': DecisionTreeRegressor(criterion='friedman_mse', max_leaf_nodes=63,\n",
      "                      min_samples_split=3, random_state=1), 'col_sample': 0.7000000000000001, 'learning_rate': 0.006, 'minibatch_frac': 0.8, 'n_estimators': 10000000, 'verbose_eval': 100, 'random_state': 13}\n"
     ]
    },
    {
     "name": "stdout",
     "output_type": "stream",
     "text": [
      "\r",
      " 28%|███████████████████████▏                                                           | 28/100 [46:25<1:45:19, 87.77s/trial, best loss: 2.381752374746717]"
     ]
    },
    {
     "name": "stderr",
     "output_type": "stream",
     "text": [
      "2021-07-28 00:12:18 INFO     build_posterior_wrapper took 0.003005 seconds\n",
      "2021-07-28 00:12:18 INFO     TPE using 28/28 trials with best loss 2.381752\n"
     ]
    },
    {
     "name": "stdout",
     "output_type": "stream",
     "text": [
      "{'Base': DecisionTreeRegressor(criterion='friedman_mse', max_leaf_nodes=63,                                                                                 \n",
      "                      min_samples_split=3, random_state=1), 'col_sample': 1.0, 'learning_rate': 0.008, 'minibatch_frac': 0.5, 'n_estimators': 10000000, 'verbose_eval': 100, 'random_state': 13}\n",
      "[iter 0] loss=3.8284 val_loss=3.8204 scale=2.0000 norm=18.0475                                                                                              \n",
      "[iter 100] loss=2.9646 val_loss=2.9728 scale=2.0000 norm=5.9419                                                                                             \n",
      "[iter 200] loss=2.4944 val_loss=2.5590 scale=2.0000 norm=4.2163                                                                                             \n",
      "[iter 300] loss=2.2305 val_loss=2.4122 scale=2.0000 norm=3.8510                                                                                             \n",
      "== Early stopping achieved.                                                                                                                                 \n",
      "== Best iteration / VAL350 (val_loss=2.4010)                                                                                                                \n",
      " 28%|███████████████████████▏                                                           | 28/100 [47:11<1:45:19, 87.77s/trial, best loss: 2.381752374746717]"
     ]
    },
    {
     "name": "stderr",
     "output_type": "stream",
     "text": [
      "2021-07-28 00:13:03 INFO     {'Base': DecisionTreeRegressor(criterion='friedman_mse', max_leaf_nodes=63,\n",
      "                      min_samples_split=3, random_state=1), 'col_sample': 1.0, 'learning_rate': 0.008, 'minibatch_frac': 0.5, 'n_estimators': 10000000, 'verbose_eval': 100, 'random_state': 13}\n"
     ]
    },
    {
     "name": "stdout",
     "output_type": "stream",
     "text": [
      "\r",
      " 29%|████████████████████████                                                           | 29/100 [47:11<1:28:50, 75.08s/trial, best loss: 2.381752374746717]"
     ]
    },
    {
     "name": "stderr",
     "output_type": "stream",
     "text": [
      "2021-07-28 00:13:03 INFO     build_posterior_wrapper took 0.002011 seconds\n",
      "2021-07-28 00:13:03 INFO     TPE using 29/29 trials with best loss 2.381752\n"
     ]
    },
    {
     "name": "stdout",
     "output_type": "stream",
     "text": [
      "{'Base': DecisionTreeRegressor(criterion='friedman_mse', max_leaf_nodes=63,                                                                                 \n",
      "                      min_samples_split=3, random_state=1), 'col_sample': 0.5, 'learning_rate': 0.007, 'minibatch_frac': 0.8, 'n_estimators': 10000000, 'verbose_eval': 100, 'random_state': 13}\n",
      "[iter 0] loss=3.8347 val_loss=3.8234 scale=2.0000 norm=18.2020                                                                                              \n",
      "[iter 100] loss=3.0655 val_loss=3.0715 scale=2.0000 norm=6.8998                                                                                             \n",
      "[iter 200] loss=2.6167 val_loss=2.6543 scale=2.0000 norm=4.5599                                                                                             \n",
      "[iter 300] loss=2.3457 val_loss=2.4511 scale=2.0000 norm=4.0701                                                                                             \n",
      "[iter 400] loss=2.1865 val_loss=2.3963 scale=2.0000 norm=3.8458                                                                                             \n",
      "== Early stopping achieved.                                                                                                                                 \n",
      "== Best iteration / VAL407 (val_loss=2.3955)                                                                                                                \n",
      " 29%|████████████████████████                                                           | 29/100 [47:52<1:28:50, 75.08s/trial, best loss: 2.381752374746717]"
     ]
    },
    {
     "name": "stderr",
     "output_type": "stream",
     "text": [
      "2021-07-28 00:13:44 INFO     {'Base': DecisionTreeRegressor(criterion='friedman_mse', max_leaf_nodes=63,\n",
      "                      min_samples_split=3, random_state=1), 'col_sample': 0.5, 'learning_rate': 0.007, 'minibatch_frac': 0.8, 'n_estimators': 10000000, 'verbose_eval': 100, 'random_state': 13}\n"
     ]
    },
    {
     "name": "stdout",
     "output_type": "stream",
     "text": [
      "\r",
      " 30%|████████████████████████▉                                                          | 30/100 [47:52<1:15:37, 64.82s/trial, best loss: 2.381752374746717]"
     ]
    },
    {
     "name": "stderr",
     "output_type": "stream",
     "text": [
      "2021-07-28 00:13:44 INFO     build_posterior_wrapper took 0.001999 seconds\n",
      "2021-07-28 00:13:44 INFO     TPE using 30/30 trials with best loss 2.381752\n"
     ]
    },
    {
     "name": "stdout",
     "output_type": "stream",
     "text": [
      "{'Base': DecisionTreeRegressor(criterion='friedman_mse', max_leaf_nodes=63,                                                                                 \n",
      "                      min_samples_split=3, random_state=1), 'col_sample': 0.6000000000000001, 'learning_rate': 0.006, 'minibatch_frac': 0.8, 'n_estimators': 10000000, 'verbose_eval': 100, 'random_state': 13}\n",
      "[iter 0] loss=3.8347 val_loss=3.8264 scale=2.0000 norm=18.2020                                                                                              \n",
      "[iter 100] loss=3.1346 val_loss=3.1390 scale=2.0000 norm=7.5128                                                                                             \n",
      "[iter 200] loss=2.7140 val_loss=2.7403 scale=2.0000 norm=4.7969                                                                                             \n",
      "[iter 300] loss=2.4313 val_loss=2.5049 scale=2.0000 norm=4.1633                                                                                             \n",
      "[iter 400] loss=2.2514 val_loss=2.4068 scale=2.0000 norm=3.9114                                                                                             \n",
      "== Early stopping achieved.                                                                                                                                 \n",
      "== Best iteration / VAL485 (val_loss=2.3901)                                                                                                                \n",
      " 30%|████████████████████████▉                                                          | 30/100 [48:47<1:15:37, 64.82s/trial, best loss: 2.381752374746717]"
     ]
    },
    {
     "name": "stderr",
     "output_type": "stream",
     "text": [
      "2021-07-28 00:14:39 INFO     {'Base': DecisionTreeRegressor(criterion='friedman_mse', max_leaf_nodes=63,\n",
      "                      min_samples_split=3, random_state=1), 'col_sample': 0.6000000000000001, 'learning_rate': 0.006, 'minibatch_frac': 0.8, 'n_estimators': 10000000, 'verbose_eval': 100, 'random_state': 13}\n"
     ]
    },
    {
     "name": "stdout",
     "output_type": "stream",
     "text": [
      "\r",
      " 31%|█████████████████████████▋                                                         | 31/100 [48:47<1:11:16, 61.97s/trial, best loss: 2.381752374746717]"
     ]
    },
    {
     "name": "stderr",
     "output_type": "stream",
     "text": [
      "2021-07-28 00:14:39 INFO     build_posterior_wrapper took 0.003002 seconds\n",
      "2021-07-28 00:14:39 INFO     TPE using 31/31 trials with best loss 2.381752\n"
     ]
    },
    {
     "name": "stdout",
     "output_type": "stream",
     "text": [
      "{'Base': DecisionTreeRegressor(criterion='friedman_mse', max_leaf_nodes=63,                                                                                 \n",
      "                      min_samples_split=3, random_state=1), 'col_sample': 0.8, 'learning_rate': 0.01, 'minibatch_frac': 0.6000000000000001, 'n_estimators': 10000000, 'verbose_eval': 100, 'random_state': 13}\n",
      "[iter 0] loss=3.8305 val_loss=3.8145 scale=2.0000 norm=18.0903                                                                                              \n",
      "[iter 100] loss=2.8259 val_loss=2.8378 scale=2.0000 norm=5.1766                                                                                             \n",
      "[iter 200] loss=2.3477 val_loss=2.4527 scale=2.0000 norm=4.0249                                                                                             \n",
      "== Early stopping achieved.                                                                                                                                 \n",
      "== Best iteration / VAL275 (val_loss=2.3933)                                                                                                                \n",
      " 31%|█████████████████████████▋                                                         | 31/100 [49:20<1:11:16, 61.97s/trial, best loss: 2.381752374746717]"
     ]
    },
    {
     "name": "stderr",
     "output_type": "stream",
     "text": [
      "2021-07-28 00:15:12 INFO     {'Base': DecisionTreeRegressor(criterion='friedman_mse', max_leaf_nodes=63,\n",
      "                      min_samples_split=3, random_state=1), 'col_sample': 0.8, 'learning_rate': 0.01, 'minibatch_frac': 0.6000000000000001, 'n_estimators': 10000000, 'verbose_eval': 100, 'random_state': 13}\n"
     ]
    },
    {
     "name": "stdout",
     "output_type": "stream",
     "text": [
      "\r",
      " 32%|██████████████████████████▌                                                        | 32/100 [49:20<1:00:15, 53.16s/trial, best loss: 2.381752374746717]"
     ]
    },
    {
     "name": "stderr",
     "output_type": "stream",
     "text": [
      "2021-07-28 00:15:12 INFO     build_posterior_wrapper took 0.001992 seconds\n",
      "2021-07-28 00:15:12 INFO     TPE using 32/32 trials with best loss 2.381752\n"
     ]
    },
    {
     "name": "stdout",
     "output_type": "stream",
     "text": [
      "{'Base': DecisionTreeRegressor(criterion='friedman_mse', max_leaf_nodes=63,                                                                                 \n",
      "                      min_samples_split=3, random_state=1), 'col_sample': 0.8, 'learning_rate': 0.006, 'minibatch_frac': 0.5, 'n_estimators': 10000000, 'verbose_eval': 100, 'random_state': 13}\n",
      "[iter 0] loss=3.8284 val_loss=3.8264 scale=2.0000 norm=18.0475                                                                                              \n",
      "[iter 100] loss=3.1216 val_loss=3.1235 scale=2.0000 norm=7.3064                                                                                             \n",
      "[iter 200] loss=2.7006 val_loss=2.7265 scale=2.0000 norm=4.7010                                                                                             \n",
      "[iter 300] loss=2.4163 val_loss=2.4947 scale=2.0000 norm=4.1156                                                                                             \n",
      "[iter 400] loss=2.2364 val_loss=2.4016 scale=2.0000 norm=3.8769                                                                                             \n",
      "== Early stopping achieved.                                                                                                                                 \n",
      "== Best iteration / VAL459 (val_loss=2.3874)                                                                                                                \n",
      " 32%|██████████████████████████▌                                                        | 32/100 [50:06<1:00:15, 53.16s/trial, best loss: 2.381752374746717]"
     ]
    },
    {
     "name": "stderr",
     "output_type": "stream",
     "text": [
      "2021-07-28 00:15:59 INFO     {'Base': DecisionTreeRegressor(criterion='friedman_mse', max_leaf_nodes=63,\n",
      "                      min_samples_split=3, random_state=1), 'col_sample': 0.8, 'learning_rate': 0.006, 'minibatch_frac': 0.5, 'n_estimators': 10000000, 'verbose_eval': 100, 'random_state': 13}\n"
     ]
    },
    {
     "name": "stdout",
     "output_type": "stream",
     "text": [
      "\r",
      " 33%|████████████████████████████                                                         | 33/100 [50:06<57:12, 51.23s/trial, best loss: 2.381752374746717]"
     ]
    },
    {
     "name": "stderr",
     "output_type": "stream",
     "text": [
      "2021-07-28 00:15:59 INFO     build_posterior_wrapper took 0.004009 seconds\n",
      "2021-07-28 00:15:59 INFO     TPE using 33/33 trials with best loss 2.381752\n"
     ]
    },
    {
     "name": "stdout",
     "output_type": "stream",
     "text": [
      "{'Base': DecisionTreeRegressor(criterion='friedman_mse', max_leaf_nodes=63,                                                                                 \n",
      "                      min_samples_split=3, random_state=1), 'col_sample': 0.7000000000000001, 'learning_rate': 0.007, 'minibatch_frac': 0.7000000000000001, 'n_estimators': 10000000, 'verbose_eval': 100, 'random_state': 13}\n",
      "[iter 0] loss=3.8314 val_loss=3.8234 scale=2.0000 norm=18.1206                                                                                              \n",
      "[iter 100] loss=3.0427 val_loss=3.0485 scale=2.0000 norm=6.5579                                                                                             \n",
      "[iter 200] loss=2.5928 val_loss=2.6328 scale=2.0000 norm=4.4140                                                                                             \n",
      "[iter 300] loss=2.3222 val_loss=2.4352 scale=2.0000 norm=4.0089                                                                                             \n",
      "[iter 400] loss=2.1613 val_loss=2.3885 scale=2.0000 norm=3.7949                                                                                             \n",
      "== Early stopping achieved.                                                                                                                                 \n",
      "== Best iteration / VAL397 (val_loss=2.3883)                                                                                                                \n",
      " 33%|████████████████████████████                                                         | 33/100 [50:54<57:12, 51.23s/trial, best loss: 2.381752374746717]"
     ]
    },
    {
     "name": "stderr",
     "output_type": "stream",
     "text": [
      "2021-07-28 00:16:47 INFO     {'Base': DecisionTreeRegressor(criterion='friedman_mse', max_leaf_nodes=63,\n",
      "                      min_samples_split=3, random_state=1), 'col_sample': 0.7000000000000001, 'learning_rate': 0.007, 'minibatch_frac': 0.7000000000000001, 'n_estimators': 10000000, 'verbose_eval': 100, 'random_state': 13}\n"
     ]
    },
    {
     "name": "stdout",
     "output_type": "stream",
     "text": [
      "\r",
      " 34%|████████████████████████████▉                                                        | 34/100 [50:54<55:15, 50.24s/trial, best loss: 2.381752374746717]"
     ]
    },
    {
     "name": "stderr",
     "output_type": "stream",
     "text": [
      "2021-07-28 00:16:47 INFO     build_posterior_wrapper took 0.001998 seconds\n",
      "2021-07-28 00:16:47 INFO     TPE using 34/34 trials with best loss 2.381752\n"
     ]
    },
    {
     "name": "stdout",
     "output_type": "stream",
     "text": [
      "{'Base': DecisionTreeRegressor(criterion='friedman_mse', max_leaf_nodes=63,                                                                                 \n",
      "                      min_samples_split=3, random_state=1), 'col_sample': 0.6000000000000001, 'learning_rate': 0.009000000000000001, 'minibatch_frac': 0.8, 'n_estimators': 10000000, 'verbose_eval': 100, 'random_state': 13}\n",
      "[iter 0] loss=3.8347 val_loss=3.8174 scale=2.0000 norm=18.2020                                                                                              \n",
      "[iter 100] loss=2.9075 val_loss=2.9183 scale=2.0000 norm=5.6852                                                                                             \n",
      "[iter 200] loss=2.4285 val_loss=2.5047 scale=2.0000 norm=4.1450                                                                                             \n",
      "[iter 300] loss=2.1957 val_loss=2.3964 scale=2.0000 norm=3.8635                                                                                             \n",
      "== Early stopping achieved.                                                                                                                                 \n",
      "== Best iteration / VAL312 (val_loss=2.3945)                                                                                                                \n",
      " 34%|████████████████████████████▉                                                        | 34/100 [51:30<55:15, 50.24s/trial, best loss: 2.381752374746717]"
     ]
    },
    {
     "name": "stderr",
     "output_type": "stream",
     "text": [
      "2021-07-28 00:17:22 INFO     {'Base': DecisionTreeRegressor(criterion='friedman_mse', max_leaf_nodes=63,\n",
      "                      min_samples_split=3, random_state=1), 'col_sample': 0.6000000000000001, 'learning_rate': 0.009000000000000001, 'minibatch_frac': 0.8, 'n_estimators': 10000000, 'verbose_eval': 100, 'random_state': 13}\n"
     ]
    },
    {
     "name": "stdout",
     "output_type": "stream",
     "text": [
      "\r",
      " 35%|█████████████████████████████▋                                                       | 35/100 [51:30<49:36, 45.79s/trial, best loss: 2.381752374746717]"
     ]
    },
    {
     "name": "stderr",
     "output_type": "stream",
     "text": [
      "2021-07-28 00:17:22 INFO     build_posterior_wrapper took 0.003996 seconds\n",
      "2021-07-28 00:17:22 INFO     TPE using 35/35 trials with best loss 2.381752\n"
     ]
    },
    {
     "name": "stdout",
     "output_type": "stream",
     "text": [
      "{'Base': DecisionTreeRegressor(criterion='friedman_mse', max_leaf_nodes=255,                                                                                \n",
      "                      min_samples_split=3, random_state=1), 'col_sample': 0.8, 'learning_rate': 0.008, 'minibatch_frac': 0.9, 'n_estimators': 10000000, 'verbose_eval': 100, 'random_state': 13}\n",
      "[iter 0] loss=3.8335 val_loss=3.8202 scale=2.0000 norm=18.1602                                                                                              \n",
      "[iter 100] loss=2.9142 val_loss=2.9539 scale=2.0000 norm=5.3505                                                                                             \n",
      "[iter 200] loss=2.3129 val_loss=2.5206 scale=2.0000 norm=3.2061                                                                                             \n",
      "== Early stopping achieved.                                                                                                                                 \n",
      "== Best iteration / VAL244 (val_loss=2.4655)                                                                                                                \n",
      " 35%|█████████████████████████████▋                                                       | 35/100 [52:23<49:36, 45.79s/trial, best loss: 2.381752374746717]"
     ]
    },
    {
     "name": "stderr",
     "output_type": "stream",
     "text": [
      "2021-07-28 00:18:15 INFO     {'Base': DecisionTreeRegressor(criterion='friedman_mse', max_leaf_nodes=255,\n",
      "                      min_samples_split=3, random_state=1), 'col_sample': 0.8, 'learning_rate': 0.008, 'minibatch_frac': 0.9, 'n_estimators': 10000000, 'verbose_eval': 100, 'random_state': 13}\n"
     ]
    },
    {
     "name": "stdout",
     "output_type": "stream",
     "text": [
      "\r",
      " 36%|██████████████████████████████▌                                                      | 36/100 [52:23<51:16, 48.06s/trial, best loss: 2.381752374746717]"
     ]
    },
    {
     "name": "stderr",
     "output_type": "stream",
     "text": [
      "2021-07-28 00:18:15 INFO     build_posterior_wrapper took 0.001996 seconds\n",
      "2021-07-28 00:18:15 INFO     TPE using 36/36 trials with best loss 2.381752\n"
     ]
    },
    {
     "name": "stdout",
     "output_type": "stream",
     "text": [
      "{'Base': DecisionTreeRegressor(criterion='friedman_mse', max_leaf_nodes=63,                                                                                 \n",
      "                      min_samples_split=3, random_state=1), 'col_sample': 0.7000000000000001, 'learning_rate': 0.006, 'minibatch_frac': 0.7000000000000001, 'n_estimators': 10000000, 'verbose_eval': 100, 'random_state': 13}\n",
      "[iter 0] loss=3.8314 val_loss=3.8264 scale=2.0000 norm=18.1206                                                                                              \n",
      "[iter 100] loss=3.1221 val_loss=3.1266 scale=2.0000 norm=7.2958                                                                                             \n",
      "[iter 200] loss=2.7023 val_loss=2.7290 scale=2.0000 norm=4.7082                                                                                             \n",
      "[iter 300] loss=2.4207 val_loss=2.4963 scale=2.0000 norm=4.1317                                                                                             \n",
      "[iter 400] loss=2.2409 val_loss=2.4000 scale=2.0000 norm=3.8935                                                                                             \n",
      "== Early stopping achieved.                                                                                                                                 \n",
      "== Best iteration / VAL475 (val_loss=2.3848)                                                                                                                \n",
      " 36%|██████████████████████████████▌                                                      | 36/100 [53:20<51:16, 48.06s/trial, best loss: 2.381752374746717]"
     ]
    },
    {
     "name": "stderr",
     "output_type": "stream",
     "text": [
      "2021-07-28 00:19:12 INFO     {'Base': DecisionTreeRegressor(criterion='friedman_mse', max_leaf_nodes=63,\n",
      "                      min_samples_split=3, random_state=1), 'col_sample': 0.7000000000000001, 'learning_rate': 0.006, 'minibatch_frac': 0.7000000000000001, 'n_estimators': 10000000, 'verbose_eval': 100, 'random_state': 13}\n"
     ]
    },
    {
     "name": "stdout",
     "output_type": "stream",
     "text": [
      "\r",
      " 37%|███████████████████████████████▍                                                     | 37/100 [53:20<53:07, 50.60s/trial, best loss: 2.381752374746717]"
     ]
    },
    {
     "name": "stderr",
     "output_type": "stream",
     "text": [
      "2021-07-28 00:19:12 INFO     build_posterior_wrapper took 0.003005 seconds\n",
      "2021-07-28 00:19:12 INFO     TPE using 37/37 trials with best loss 2.381752\n"
     ]
    },
    {
     "name": "stdout",
     "output_type": "stream",
     "text": [
      "{'Base': DecisionTreeRegressor(criterion='friedman_mse', max_leaf_nodes=63,                                                                                 \n",
      "                      min_samples_split=3, random_state=1), 'col_sample': 0.6000000000000001, 'learning_rate': 0.005, 'minibatch_frac': 1.0, 'n_estimators': 10000000, 'verbose_eval': 100, 'random_state': 13}\n",
      "[iter 0] loss=3.8345 val_loss=3.8297 scale=2.0000 norm=18.1911                                                                                              \n",
      "[iter 100] loss=3.2171 val_loss=3.2212 scale=2.0000 norm=8.4429                                                                                             \n",
      "[iter 200] loss=2.8406 val_loss=2.8568 scale=2.0000 norm=5.3131                                                                                             \n",
      "[iter 300] loss=2.5576 val_loss=2.6021 scale=2.0000 norm=4.3736                                                                                             \n",
      "[iter 400] loss=2.3619 val_loss=2.4573 scale=2.0000 norm=4.0583                                                                                             \n",
      "[iter 500] loss=2.2320 val_loss=2.3971 scale=2.0000 norm=3.8984                                                                                             \n",
      "== Early stopping achieved.                                                                                                                                 \n",
      "== Best iteration / VAL571 (val_loss=2.3855)                                                                                                                \n",
      " 37%|███████████████████████████████▍                                                     | 37/100 [54:37<53:07, 50.60s/trial, best loss: 2.381752374746717]"
     ]
    },
    {
     "name": "stderr",
     "output_type": "stream",
     "text": [
      "2021-07-28 00:20:29 INFO     {'Base': DecisionTreeRegressor(criterion='friedman_mse', max_leaf_nodes=63,\n",
      "                      min_samples_split=3, random_state=1), 'col_sample': 0.6000000000000001, 'learning_rate': 0.005, 'minibatch_frac': 1.0, 'n_estimators': 10000000, 'verbose_eval': 100, 'random_state': 13}\n"
     ]
    },
    {
     "name": "stdout",
     "output_type": "stream",
     "text": [
      "\r",
      " 38%|███████████████████████████████▌                                                   | 38/100 [54:37<1:00:32, 58.59s/trial, best loss: 2.381752374746717]"
     ]
    },
    {
     "name": "stderr",
     "output_type": "stream",
     "text": [
      "2021-07-28 00:20:29 INFO     build_posterior_wrapper took 0.002001 seconds\n",
      "2021-07-28 00:20:29 INFO     TPE using 38/38 trials with best loss 2.381752\n"
     ]
    },
    {
     "name": "stdout",
     "output_type": "stream",
     "text": [
      "{'Base': DecisionTreeRegressor(criterion='friedman_mse', max_leaf_nodes=255,                                                                                \n",
      "                      min_samples_split=3, random_state=1), 'col_sample': 0.8, 'learning_rate': 0.009000000000000001, 'minibatch_frac': 0.6000000000000001, 'n_estimators': 10000000, 'verbose_eval': 100, 'random_state': 13}\n",
      "[iter 0] loss=3.8305 val_loss=3.8173 scale=2.0000 norm=18.0903                                                                                              \n",
      "[iter 100] loss=2.8373 val_loss=2.8833 scale=2.0000 norm=4.9104                                                                                             \n",
      "[iter 200] loss=2.1993 val_loss=2.4787 scale=2.0000 norm=3.0779                                                                                             \n",
      "== Early stopping achieved.                                                                                                                                 \n",
      "== Best iteration / VAL221 (val_loss=2.4642)                                                                                                                \n",
      " 38%|███████████████████████████████▌                                                   | 38/100 [55:15<1:00:32, 58.59s/trial, best loss: 2.381752374746717]"
     ]
    },
    {
     "name": "stderr",
     "output_type": "stream",
     "text": [
      "2021-07-28 00:21:07 INFO     {'Base': DecisionTreeRegressor(criterion='friedman_mse', max_leaf_nodes=255,\n",
      "                      min_samples_split=3, random_state=1), 'col_sample': 0.8, 'learning_rate': 0.009000000000000001, 'minibatch_frac': 0.6000000000000001, 'n_estimators': 10000000, 'verbose_eval': 100, 'random_state': 13}\n"
     ]
    },
    {
     "name": "stdout",
     "output_type": "stream",
     "text": [
      "\r",
      " 39%|█████████████████████████████████▏                                                   | 39/100 [55:15<53:21, 52.49s/trial, best loss: 2.381752374746717]"
     ]
    },
    {
     "name": "stderr",
     "output_type": "stream",
     "text": [
      "2021-07-28 00:21:07 INFO     build_posterior_wrapper took 0.002026 seconds\n",
      "2021-07-28 00:21:07 INFO     TPE using 39/39 trials with best loss 2.381752\n"
     ]
    },
    {
     "name": "stdout",
     "output_type": "stream",
     "text": [
      "{'Base': DecisionTreeRegressor(criterion='friedman_mse', max_leaf_nodes=63,                                                                                 \n",
      "                      min_samples_split=3, random_state=1), 'col_sample': 1.0, 'learning_rate': 0.009000000000000001, 'minibatch_frac': 0.9, 'n_estimators': 10000000, 'verbose_eval': 100, 'random_state': 13}\n",
      "[iter 0] loss=3.8335 val_loss=3.8173 scale=2.0000 norm=18.1602                                                                                              \n",
      "[iter 100] loss=2.8926 val_loss=2.9037 scale=2.0000 norm=5.4981                                                                                             \n",
      "[iter 200] loss=2.4151 val_loss=2.5001 scale=2.0000 norm=4.1014                                                                                             \n",
      "[iter 300] loss=2.1722 val_loss=2.3985 scale=2.0000 norm=3.8025                                                                                             \n",
      "== Early stopping achieved.                                                                                                                                 \n",
      "== Best iteration / VAL309 (val_loss=2.3975)                                                                                                                \n",
      " 39%|█████████████████████████████████▏                                                   | 39/100 [56:22<53:21, 52.49s/trial, best loss: 2.381752374746717]"
     ]
    },
    {
     "name": "stderr",
     "output_type": "stream",
     "text": [
      "2021-07-28 00:22:14 INFO     {'Base': DecisionTreeRegressor(criterion='friedman_mse', max_leaf_nodes=63,\n",
      "                      min_samples_split=3, random_state=1), 'col_sample': 1.0, 'learning_rate': 0.009000000000000001, 'minibatch_frac': 0.9, 'n_estimators': 10000000, 'verbose_eval': 100, 'random_state': 13}\n"
     ]
    },
    {
     "name": "stdout",
     "output_type": "stream",
     "text": [
      "\r",
      " 40%|██████████████████████████████████                                                   | 40/100 [56:22<56:43, 56.73s/trial, best loss: 2.381752374746717]"
     ]
    },
    {
     "name": "stderr",
     "output_type": "stream",
     "text": [
      "2021-07-28 00:22:14 INFO     build_posterior_wrapper took 0.001027 seconds\n",
      "2021-07-28 00:22:14 INFO     TPE using 40/40 trials with best loss 2.381752\n"
     ]
    },
    {
     "name": "stdout",
     "output_type": "stream",
     "text": [
      "{'Base': DecisionTreeRegressor(criterion='friedman_mse', max_leaf_nodes=127,                                                                                \n",
      "                      min_samples_split=3, random_state=1), 'col_sample': 0.9, 'learning_rate': 0.004, 'minibatch_frac': 0.7000000000000001, 'n_estimators': 10000000, 'verbose_eval': 100, 'random_state': 13}\n",
      "[iter 0] loss=3.8314 val_loss=3.8325 scale=2.0000 norm=18.1206                                                                                              \n",
      "[iter 100] loss=3.2823 val_loss=3.2897 scale=2.0000 norm=9.2529                                                                                             \n",
      "[iter 200] loss=2.9413 val_loss=2.9660 scale=2.0000 norm=5.6912                                                                                             \n",
      "[iter 300] loss=2.6552 val_loss=2.7128 scale=2.0000 norm=4.3573                                                                                             \n",
      "[iter 400] loss=2.4181 val_loss=2.5392 scale=2.0000 norm=3.8031                                                                                             \n",
      "[iter 500] loss=2.2327 val_loss=2.4500 scale=2.0000 norm=3.5378                                                                                             \n",
      "== Early stopping achieved.                                                                                                                                 \n",
      "== Best iteration / VAL572 (val_loss=2.4333)                                                                                                                \n",
      " 40%|██████████████████████████████████                                                   | 40/100 [57:59<56:43, 56.73s/trial, best loss: 2.381752374746717]"
     ]
    },
    {
     "name": "stderr",
     "output_type": "stream",
     "text": [
      "2021-07-28 00:23:52 INFO     {'Base': DecisionTreeRegressor(criterion='friedman_mse', max_leaf_nodes=127,\n",
      "                      min_samples_split=3, random_state=1), 'col_sample': 0.9, 'learning_rate': 0.004, 'minibatch_frac': 0.7000000000000001, 'n_estimators': 10000000, 'verbose_eval': 100, 'random_state': 13}\n"
     ]
    },
    {
     "name": "stdout",
     "output_type": "stream",
     "text": [
      "\r",
      " 41%|██████████████████████████████████                                                 | 41/100 [57:59<1:07:49, 68.98s/trial, best loss: 2.381752374746717]"
     ]
    },
    {
     "name": "stderr",
     "output_type": "stream",
     "text": [
      "2021-07-28 00:23:52 INFO     build_posterior_wrapper took 0.002039 seconds\n",
      "2021-07-28 00:23:52 INFO     TPE using 41/41 trials with best loss 2.381752\n"
     ]
    },
    {
     "name": "stdout",
     "output_type": "stream",
     "text": [
      "{'Base': DecisionTreeRegressor(criterion='friedman_mse', max_leaf_nodes=63,                                                                                 \n",
      "                      min_samples_split=3, random_state=1), 'col_sample': 0.8, 'learning_rate': 0.005, 'minibatch_frac': 0.8, 'n_estimators': 10000000, 'verbose_eval': 100, 'random_state': 13}\n",
      "[iter 0] loss=3.8347 val_loss=3.8295 scale=2.0000 norm=18.2020                                                                                              \n",
      "[iter 100] loss=3.2023 val_loss=3.2058 scale=2.0000 norm=8.1697                                                                                             \n",
      "[iter 200] loss=2.8229 val_loss=2.8413 scale=2.0000 norm=5.1463                                                                                             \n",
      "[iter 300] loss=2.5412 val_loss=2.5902 scale=2.0000 norm=4.3035                                                                                             \n",
      "[iter 400] loss=2.3443 val_loss=2.4516 scale=2.0000 norm=3.9989                                                                                             \n",
      "[iter 500] loss=2.2131 val_loss=2.3973 scale=2.0000 norm=3.8457                                                                                             \n",
      "== Early stopping achieved.                                                                                                                                 \n",
      "== Best iteration / VAL558 (val_loss=2.3897)                                                                                                                \n",
      " 41%|██████████████████████████████████                                                 | 41/100 [59:21<1:07:49, 68.98s/trial, best loss: 2.381752374746717]"
     ]
    },
    {
     "name": "stderr",
     "output_type": "stream",
     "text": [
      "2021-07-28 00:25:13 INFO     {'Base': DecisionTreeRegressor(criterion='friedman_mse', max_leaf_nodes=63,\n",
      "                      min_samples_split=3, random_state=1), 'col_sample': 0.8, 'learning_rate': 0.005, 'minibatch_frac': 0.8, 'n_estimators': 10000000, 'verbose_eval': 100, 'random_state': 13}\n"
     ]
    },
    {
     "name": "stdout",
     "output_type": "stream",
     "text": [
      "\r",
      " 42%|██████████████████████████████████▊                                                | 42/100 [59:21<1:10:23, 72.81s/trial, best loss: 2.381752374746717]"
     ]
    },
    {
     "name": "stderr",
     "output_type": "stream",
     "text": [
      "2021-07-28 00:25:13 INFO     build_posterior_wrapper took 0.001037 seconds\n",
      "2021-07-28 00:25:13 INFO     TPE using 42/42 trials with best loss 2.381752\n"
     ]
    },
    {
     "name": "stdout",
     "output_type": "stream",
     "text": [
      "{'Base': DecisionTreeRegressor(criterion='friedman_mse', max_leaf_nodes=127,                                                                                \n",
      "                      min_samples_split=3, random_state=1), 'col_sample': 0.6000000000000001, 'learning_rate': 0.008, 'minibatch_frac': 0.7000000000000001, 'n_estimators': 10000000, 'verbose_eval': 100, 'random_state': 13}\n",
      "[iter 0] loss=3.8314 val_loss=3.8203 scale=2.0000 norm=18.1206                                                                                              \n",
      "[iter 100] loss=2.9611 val_loss=2.9820 scale=2.0000 norm=5.9453                                                                                             \n",
      "[iter 200] loss=2.4390 val_loss=2.5504 scale=2.0000 norm=3.8963                                                                                             \n",
      "[iter 300] loss=2.1177 val_loss=2.4358 scale=2.0000 norm=3.4450                                                                                             \n",
      "== Early stopping achieved.                                                                                                                                 \n",
      "== Best iteration / VAL295 (val_loss=2.4355)                                                                                                                \n",
      " 42%|██████████████████████████████████▊                                                | 42/100 [59:58<1:10:23, 72.81s/trial, best loss: 2.381752374746717]"
     ]
    },
    {
     "name": "stderr",
     "output_type": "stream",
     "text": [
      "2021-07-28 00:25:50 INFO     {'Base': DecisionTreeRegressor(criterion='friedman_mse', max_leaf_nodes=127,\n",
      "                      min_samples_split=3, random_state=1), 'col_sample': 0.6000000000000001, 'learning_rate': 0.008, 'minibatch_frac': 0.7000000000000001, 'n_estimators': 10000000, 'verbose_eval': 100, 'random_state': 13}\n"
     ]
    },
    {
     "name": "stdout",
     "output_type": "stream",
     "text": [
      "\r",
      " 43%|████████████████████████████████████▌                                                | 43/100 [59:58<58:54, 62.00s/trial, best loss: 2.381752374746717]"
     ]
    },
    {
     "name": "stderr",
     "output_type": "stream",
     "text": [
      "2021-07-28 00:25:50 INFO     build_posterior_wrapper took 0.001036 seconds\n",
      "2021-07-28 00:25:50 INFO     TPE using 43/43 trials with best loss 2.381752\n"
     ]
    },
    {
     "name": "stdout",
     "output_type": "stream",
     "text": [
      "{'Base': DecisionTreeRegressor(criterion='friedman_mse', max_leaf_nodes=255,                                                                                \n",
      "                      min_samples_split=3, random_state=1), 'col_sample': 0.5, 'learning_rate': 0.007, 'minibatch_frac': 0.5, 'n_estimators': 10000000, 'verbose_eval': 100, 'random_state': 13}\n",
      "[iter 0] loss=3.8284 val_loss=3.8233 scale=2.0000 norm=18.0475                                                                                              \n",
      "[iter 100] loss=3.0440 val_loss=3.0692 scale=2.0000 norm=6.5934                                                                                             \n",
      "[iter 200] loss=2.5060 val_loss=2.6294 scale=2.0000 norm=3.8022                                                                                             \n",
      "[iter 300] loss=2.0934 val_loss=2.4747 scale=2.0000 norm=3.0449                                                                                             \n",
      "== Early stopping achieved.                                                                                                                                 \n",
      "== Best iteration / VAL297 (val_loss=2.4741)                                                                                                                \n",
      " 43%|███████████████████████████████████▋                                               | 43/100 [1:00:26<58:54, 62.00s/trial, best loss: 2.381752374746717]"
     ]
    },
    {
     "name": "stderr",
     "output_type": "stream",
     "text": [
      "2021-07-28 00:26:18 INFO     {'Base': DecisionTreeRegressor(criterion='friedman_mse', max_leaf_nodes=255,\n",
      "                      min_samples_split=3, random_state=1), 'col_sample': 0.5, 'learning_rate': 0.007, 'minibatch_frac': 0.5, 'n_estimators': 10000000, 'verbose_eval': 100, 'random_state': 13}\n"
     ]
    },
    {
     "name": "stdout",
     "output_type": "stream",
     "text": [
      "\r",
      " 44%|████████████████████████████████████▌                                              | 44/100 [1:00:26<48:25, 51.89s/trial, best loss: 2.381752374746717]"
     ]
    },
    {
     "name": "stderr",
     "output_type": "stream",
     "text": [
      "2021-07-28 00:26:18 INFO     build_posterior_wrapper took 0.002038 seconds\n",
      "2021-07-28 00:26:18 INFO     TPE using 44/44 trials with best loss 2.381752\n"
     ]
    },
    {
     "name": "stdout",
     "output_type": "stream",
     "text": [
      "{'Base': DecisionTreeRegressor(criterion='friedman_mse', max_leaf_nodes=63,                                                                                 \n",
      "                      min_samples_split=3, random_state=1), 'col_sample': 0.9, 'learning_rate': 0.009000000000000001, 'minibatch_frac': 0.8, 'n_estimators': 10000000, 'verbose_eval': 100, 'random_state': 13}\n",
      "[iter 0] loss=3.8347 val_loss=3.8174 scale=2.0000 norm=18.2020                                                                                              \n",
      "[iter 100] loss=2.8907 val_loss=2.9019 scale=2.0000 norm=5.4764                                                                                             \n",
      "[iter 200] loss=2.4125 val_loss=2.4962 scale=2.0000 norm=4.0900                                                                                             \n",
      "[iter 300] loss=2.1754 val_loss=2.3925 scale=2.0000 norm=3.8190                                                                                             \n",
      "== Early stopping achieved.                                                                                                                                 \n",
      "== Best iteration / VAL310 (val_loss=2.3918)                                                                                                                \n",
      " 44%|████████████████████████████████████▌                                              | 44/100 [1:01:19<48:25, 51.89s/trial, best loss: 2.381752374746717]"
     ]
    },
    {
     "name": "stderr",
     "output_type": "stream",
     "text": [
      "2021-07-28 00:27:12 INFO     {'Base': DecisionTreeRegressor(criterion='friedman_mse', max_leaf_nodes=63,\n",
      "                      min_samples_split=3, random_state=1), 'col_sample': 0.9, 'learning_rate': 0.009000000000000001, 'minibatch_frac': 0.8, 'n_estimators': 10000000, 'verbose_eval': 100, 'random_state': 13}\n"
     ]
    },
    {
     "name": "stdout",
     "output_type": "stream",
     "text": [
      "\r",
      " 45%|█████████████████████████████████████▎                                             | 45/100 [1:01:19<47:56, 52.30s/trial, best loss: 2.381752374746717]"
     ]
    },
    {
     "name": "stderr",
     "output_type": "stream",
     "text": [
      "2021-07-28 00:27:12 INFO     build_posterior_wrapper took 0.002001 seconds\n",
      "2021-07-28 00:27:12 INFO     TPE using 45/45 trials with best loss 2.381752\n"
     ]
    },
    {
     "name": "stdout",
     "output_type": "stream",
     "text": [
      "{'Base': DecisionTreeRegressor(criterion='friedman_mse', max_leaf_nodes=127,                                                                                \n",
      "                      min_samples_split=3, random_state=1), 'col_sample': 0.7000000000000001, 'learning_rate': 0.006, 'minibatch_frac': 0.9, 'n_estimators': 10000000, 'verbose_eval': 100, 'random_state': 13}\n",
      "[iter 0] loss=3.8335 val_loss=3.8263 scale=2.0000 norm=18.1602                                                                                              \n",
      "[iter 100] loss=3.1080 val_loss=3.1204 scale=2.0000 norm=7.1066                                                                                             \n",
      "[iter 200] loss=2.6575 val_loss=2.7133 scale=2.0000 norm=4.3626                                                                                             \n",
      "[iter 300] loss=2.3242 val_loss=2.4813 scale=2.0000 norm=3.6745                                                                                             \n",
      "== Early stopping achieved.                                                                                                                                 \n",
      "== Best iteration / VAL378 (val_loss=2.4279)                                                                                                                \n",
      " 45%|█████████████████████████████████████▎                                             | 45/100 [1:02:26<47:56, 52.30s/trial, best loss: 2.381752374746717]"
     ]
    },
    {
     "name": "stderr",
     "output_type": "stream",
     "text": [
      "2021-07-28 00:28:18 INFO     {'Base': DecisionTreeRegressor(criterion='friedman_mse', max_leaf_nodes=127,\n",
      "                      min_samples_split=3, random_state=1), 'col_sample': 0.7000000000000001, 'learning_rate': 0.006, 'minibatch_frac': 0.9, 'n_estimators': 10000000, 'verbose_eval': 100, 'random_state': 13}\n"
     ]
    },
    {
     "name": "stdout",
     "output_type": "stream",
     "text": [
      "\r",
      " 46%|██████████████████████████████████████▏                                            | 46/100 [1:02:26<50:54, 56.57s/trial, best loss: 2.381752374746717]"
     ]
    },
    {
     "name": "stderr",
     "output_type": "stream",
     "text": [
      "2021-07-28 00:28:18 INFO     build_posterior_wrapper took 0.002028 seconds\n",
      "2021-07-28 00:28:18 INFO     TPE using 46/46 trials with best loss 2.381752\n"
     ]
    },
    {
     "name": "stdout",
     "output_type": "stream",
     "text": [
      "{'Base': DecisionTreeRegressor(criterion='friedman_mse', max_leaf_nodes=63,                                                                                 \n",
      "                      min_samples_split=3, random_state=1), 'col_sample': 0.6000000000000001, 'learning_rate': 0.01, 'minibatch_frac': 0.7000000000000001, 'n_estimators': 10000000, 'verbose_eval': 100, 'random_state': 13}\n",
      "[iter 0] loss=3.8314 val_loss=3.8144 scale=2.0000 norm=18.1206                                                                                              \n",
      "[iter 100] loss=2.8397 val_loss=2.8540 scale=2.0000 norm=5.3275                                                                                             \n",
      "[iter 200] loss=2.3607 val_loss=2.4638 scale=2.0000 norm=4.0614                                                                                             \n",
      "== Early stopping achieved.                                                                                                                                 \n",
      "== Best iteration / VAL281 (val_loss=2.4002)                                                                                                                \n",
      " 46%|██████████████████████████████████████▏                                            | 46/100 [1:02:57<50:54, 56.57s/trial, best loss: 2.381752374746717]"
     ]
    },
    {
     "name": "stderr",
     "output_type": "stream",
     "text": [
      "2021-07-28 00:28:49 INFO     {'Base': DecisionTreeRegressor(criterion='friedman_mse', max_leaf_nodes=63,\n",
      "                      min_samples_split=3, random_state=1), 'col_sample': 0.6000000000000001, 'learning_rate': 0.01, 'minibatch_frac': 0.7000000000000001, 'n_estimators': 10000000, 'verbose_eval': 100, 'random_state': 13}\n"
     ]
    },
    {
     "name": "stdout",
     "output_type": "stream",
     "text": [
      "\r",
      " 47%|███████████████████████████████████████                                            | 47/100 [1:02:57<43:15, 48.97s/trial, best loss: 2.381752374746717]"
     ]
    },
    {
     "name": "stderr",
     "output_type": "stream",
     "text": [
      "2021-07-28 00:28:49 INFO     build_posterior_wrapper took 0.001999 seconds\n",
      "2021-07-28 00:28:49 INFO     TPE using 47/47 trials with best loss 2.381752\n"
     ]
    },
    {
     "name": "stdout",
     "output_type": "stream",
     "text": [
      "{'Base': DecisionTreeRegressor(criterion='friedman_mse', max_leaf_nodes=255,                                                                                \n",
      "                      min_samples_split=3, random_state=1), 'col_sample': 0.7000000000000001, 'learning_rate': 0.007, 'minibatch_frac': 0.6000000000000001, 'n_estimators': 10000000, 'verbose_eval': 100, 'random_state': 13}\n",
      "[iter 0] loss=3.8305 val_loss=3.8233 scale=2.0000 norm=18.0903                                                                                              \n",
      "[iter 100] loss=3.0077 val_loss=3.0351 scale=2.0000 norm=6.1138                                                                                             \n",
      "[iter 200] loss=2.4617 val_loss=2.5979 scale=2.0000 norm=3.5547                                                                                             \n",
      "== Early stopping achieved.                                                                                                                                 \n",
      "== Best iteration / VAL286 (val_loss=2.4591)                                                                                                                \n",
      " 47%|███████████████████████████████████████                                            | 47/100 [1:03:47<43:15, 48.97s/trial, best loss: 2.381752374746717]"
     ]
    },
    {
     "name": "stderr",
     "output_type": "stream",
     "text": [
      "2021-07-28 00:29:39 INFO     {'Base': DecisionTreeRegressor(criterion='friedman_mse', max_leaf_nodes=255,\n",
      "                      min_samples_split=3, random_state=1), 'col_sample': 0.7000000000000001, 'learning_rate': 0.007, 'minibatch_frac': 0.6000000000000001, 'n_estimators': 10000000, 'verbose_eval': 100, 'random_state': 13}\n"
     ]
    },
    {
     "name": "stdout",
     "output_type": "stream",
     "text": [
      "\r",
      " 48%|███████████████████████████████████████▊                                           | 48/100 [1:03:47<42:40, 49.25s/trial, best loss: 2.381752374746717]"
     ]
    },
    {
     "name": "stderr",
     "output_type": "stream",
     "text": [
      "2021-07-28 00:29:39 INFO     build_posterior_wrapper took 0.002056 seconds\n",
      "2021-07-28 00:29:39 INFO     TPE using 48/48 trials with best loss 2.381752\n"
     ]
    },
    {
     "name": "stdout",
     "output_type": "stream",
     "text": [
      "{'Base': DecisionTreeRegressor(criterion='friedman_mse', max_leaf_nodes=127,                                                                                \n",
      "                      min_samples_split=3, random_state=1), 'col_sample': 0.8, 'learning_rate': 0.004, 'minibatch_frac': 1.0, 'n_estimators': 10000000, 'verbose_eval': 100, 'random_state': 13}\n",
      "[iter 0] loss=3.8345 val_loss=3.8325 scale=2.0000 norm=18.1911                                                                                              \n",
      "[iter 100] loss=3.2833 val_loss=3.2913 scale=2.0000 norm=9.2716                                                                                             \n",
      "[iter 200] loss=2.9441 val_loss=2.9683 scale=2.0000 norm=5.7250                                                                                             \n",
      "[iter 300] loss=2.6573 val_loss=2.7145 scale=2.0000 norm=4.3647                                                                                             \n",
      "[iter 400] loss=2.4213 val_loss=2.5392 scale=2.0000 norm=3.8166                                                                                             \n",
      "[iter 500] loss=2.2352 val_loss=2.4495 scale=2.0000 norm=3.5461                                                                                             \n",
      "== Early stopping achieved.                                                                                                                                 \n",
      "== Best iteration / VAL568 (val_loss=2.4330)                                                                                                                \n",
      " 48%|███████████████████████████████████████▊                                           | 48/100 [1:05:57<42:40, 49.25s/trial, best loss: 2.381752374746717]"
     ]
    },
    {
     "name": "stderr",
     "output_type": "stream",
     "text": [
      "2021-07-28 00:31:49 INFO     {'Base': DecisionTreeRegressor(criterion='friedman_mse', max_leaf_nodes=127,\n",
      "                      min_samples_split=3, random_state=1), 'col_sample': 0.8, 'learning_rate': 0.004, 'minibatch_frac': 1.0, 'n_estimators': 10000000, 'verbose_eval': 100, 'random_state': 13}\n"
     ]
    },
    {
     "name": "stdout",
     "output_type": "stream",
     "text": [
      "\r",
      " 49%|███████████████████████████████████████▋                                         | 49/100 [1:05:57<1:02:28, 73.49s/trial, best loss: 2.381752374746717]"
     ]
    },
    {
     "name": "stderr",
     "output_type": "stream",
     "text": [
      "2021-07-28 00:31:49 INFO     build_posterior_wrapper took 0.003001 seconds\n",
      "2021-07-28 00:31:49 INFO     TPE using 49/49 trials with best loss 2.381752\n"
     ]
    },
    {
     "name": "stdout",
     "output_type": "stream",
     "text": [
      "{'Base': DecisionTreeRegressor(criterion='friedman_mse', max_leaf_nodes=63,                                                                                 \n",
      "                      min_samples_split=3, random_state=1), 'col_sample': 0.7000000000000001, 'learning_rate': 0.003, 'minibatch_frac': 0.8, 'n_estimators': 10000000, 'verbose_eval': 100, 'random_state': 13}\n",
      "[iter 0] loss=3.8347 val_loss=3.8357 scale=2.0000 norm=18.2020                                                                                              \n",
      "[iter 100] loss=3.3905 val_loss=3.3926 scale=2.0000 norm=10.9749                                                                                            \n",
      "[iter 200] loss=3.1228 val_loss=3.1305 scale=2.0000 norm=7.3080                                                                                             \n",
      "[iter 300] loss=2.8965 val_loss=2.9113 scale=2.0000 norm=5.5535                                                                                             \n",
      "[iter 400] loss=2.7039 val_loss=2.7309 scale=2.0000 norm=4.7002                                                                                             \n",
      "[iter 500] loss=2.5455 val_loss=2.5928 scale=2.0000 norm=4.3103                                                                                             \n",
      "[iter 600] loss=2.4160 val_loss=2.4955 scale=2.0000 norm=4.0832                                                                                             \n",
      "[iter 700] loss=2.3198 val_loss=2.4336 scale=2.0000 norm=3.9813                                                                                             \n",
      "[iter 800] loss=2.2415 val_loss=2.3996 scale=2.0000 norm=3.8912                                                                                             \n",
      "[iter 900] loss=2.1803 val_loss=2.3855 scale=2.0000 norm=3.8153                                                                                             \n",
      "== Early stopping achieved.                                                                                                                                 \n",
      "== Best iteration / VAL941 (val_loss=2.3840)                                                                                                                \n",
      " 49%|███████████████████████████████████████▋                                         | 49/100 [1:08:16<1:02:28, 73.49s/trial, best loss: 2.381752374746717]"
     ]
    },
    {
     "name": "stderr",
     "output_type": "stream",
     "text": [
      "2021-07-28 00:34:08 INFO     {'Base': DecisionTreeRegressor(criterion='friedman_mse', max_leaf_nodes=63,\n",
      "                      min_samples_split=3, random_state=1), 'col_sample': 0.7000000000000001, 'learning_rate': 0.003, 'minibatch_frac': 0.8, 'n_estimators': 10000000, 'verbose_eval': 100, 'random_state': 13}\n"
     ]
    },
    {
     "name": "stdout",
     "output_type": "stream",
     "text": [
      "\r",
      " 50%|████████████████████████████████████████▌                                        | 50/100 [1:08:16<1:17:32, 93.05s/trial, best loss: 2.381752374746717]"
     ]
    },
    {
     "name": "stderr",
     "output_type": "stream",
     "text": [
      "2021-07-28 00:34:08 INFO     build_posterior_wrapper took 0.003000 seconds\n",
      "2021-07-28 00:34:08 INFO     TPE using 50/50 trials with best loss 2.381752\n"
     ]
    },
    {
     "name": "stdout",
     "output_type": "stream",
     "text": [
      "{'Base': DecisionTreeRegressor(criterion='friedman_mse', max_leaf_nodes=255,                                                                                \n",
      "                      min_samples_split=3, random_state=1), 'col_sample': 0.9, 'learning_rate': 0.003, 'minibatch_frac': 0.9, 'n_estimators': 10000000, 'verbose_eval': 100, 'random_state': 13}\n",
      "[iter 0] loss=3.8335 val_loss=3.8356 scale=2.0000 norm=18.1602                                                                                              \n",
      "[iter 100] loss=3.3719 val_loss=3.3833 scale=2.0000 norm=10.6818                                                                                            \n",
      "[iter 200] loss=3.0851 val_loss=3.1135 scale=2.0000 norm=6.7727                                                                                             \n",
      "[iter 300] loss=2.8300 val_loss=2.8849 scale=2.0000 norm=4.8483                                                                                             \n",
      "[iter 400] loss=2.5948 val_loss=2.6965 scale=2.0000 norm=3.8505                                                                                             \n",
      "[iter 500] loss=2.3795 val_loss=2.5581 scale=2.0000 norm=3.3340                                                                                             \n",
      "[iter 600] loss=2.1829 val_loss=2.4833 scale=2.0000 norm=2.9951                                                                                             \n",
      "== Early stopping achieved.                                                                                                                                 \n",
      "== Best iteration / VAL652 (val_loss=2.4736)                                                                                                                \n",
      " 50%|████████████████████████████████████████▌                                        | 50/100 [1:11:18<1:17:32, 93.05s/trial, best loss: 2.381752374746717]"
     ]
    },
    {
     "name": "stderr",
     "output_type": "stream",
     "text": [
      "2021-07-28 00:37:10 INFO     {'Base': DecisionTreeRegressor(criterion='friedman_mse', max_leaf_nodes=255,\n",
      "                      min_samples_split=3, random_state=1), 'col_sample': 0.9, 'learning_rate': 0.003, 'minibatch_frac': 0.9, 'n_estimators': 10000000, 'verbose_eval': 100, 'random_state': 13}\n"
     ]
    },
    {
     "name": "stdout",
     "output_type": "stream",
     "text": [
      "\r",
      " 51%|████████████████████████████████████████▊                                       | 51/100 [1:11:18<1:37:47, 119.75s/trial, best loss: 2.381752374746717]"
     ]
    },
    {
     "name": "stderr",
     "output_type": "stream",
     "text": [
      "2021-07-28 00:37:10 INFO     build_posterior_wrapper took 0.001001 seconds\n",
      "2021-07-28 00:37:10 INFO     TPE using 51/51 trials with best loss 2.381752\n"
     ]
    },
    {
     "name": "stdout",
     "output_type": "stream",
     "text": [
      "{'Base': DecisionTreeRegressor(criterion='friedman_mse', max_leaf_nodes=63,                                                                                 \n",
      "                      min_samples_split=3, random_state=1), 'col_sample': 0.8, 'learning_rate': 0.001, 'minibatch_frac': 0.7000000000000001, 'n_estimators': 10000000, 'verbose_eval': 100, 'random_state': 13}\n",
      "[iter 0] loss=3.8314 val_loss=3.8420 scale=2.0000 norm=18.1206                                                                                              \n",
      "[iter 100] loss=3.6262 val_loss=3.6294 scale=2.0000 norm=15.2360                                                                                            \n",
      "[iter 200] loss=3.4925 val_loss=3.4976 scale=2.0000 norm=12.8087                                                                                            \n",
      "[iter 300] loss=3.3863 val_loss=3.3915 scale=2.0000 norm=10.8930                                                                                            \n",
      "[iter 400] loss=3.2920 val_loss=3.2973 scale=2.0000 norm=9.3994                                                                                             \n",
      "[iter 500] loss=3.2045 val_loss=3.2104 scale=2.0000 norm=8.2363                                                                                             \n",
      "[iter 600] loss=3.1173 val_loss=3.1284 scale=2.0000 norm=7.2278                                                                                             \n",
      "[iter 700] loss=3.0387 val_loss=3.0510 scale=2.0000 norm=6.5140                                                                                             \n",
      "[iter 800] loss=2.9657 val_loss=2.9780 scale=2.0000 norm=5.9686                                                                                             \n",
      "[iter 900] loss=2.8924 val_loss=2.9091 scale=2.0000 norm=5.4989                                                                                             \n",
      "[iter 1000] loss=2.8271 val_loss=2.8445 scale=2.0000 norm=5.1962                                                                                            \n",
      "[iter 1100] loss=2.7624 val_loss=2.7844 scale=2.0000 norm=4.9398                                                                                            \n",
      "[iter 1200] loss=2.6978 val_loss=2.7291 scale=2.0000 norm=4.6624                                                                                            \n",
      "[iter 1300] loss=2.6441 val_loss=2.6785 scale=2.0000 norm=4.5441                                                                                            \n",
      "[iter 1400] loss=2.5890 val_loss=2.6327 scale=2.0000 norm=4.3972                                                                                            \n",
      "[iter 1500] loss=2.5406 val_loss=2.5917 scale=2.0000 norm=4.2934                                                                                            \n",
      "[iter 1600] loss=2.4959 val_loss=2.5550 scale=2.0000 norm=4.2065                                                                                            \n",
      "[iter 1700] loss=2.4519 val_loss=2.5229 scale=2.0000 norm=4.1321                                                                                            \n",
      "[iter 1800] loss=2.4156 val_loss=2.4949 scale=2.0000 norm=4.0958                                                                                            \n",
      "[iter 1900] loss=2.3799 val_loss=2.4710 scale=2.0000 norm=4.0573                                                                                            \n",
      "[iter 2000] loss=2.3443 val_loss=2.4508 scale=2.0000 norm=3.9943                                                                                            \n",
      "[iter 2100] loss=2.3170 val_loss=2.4337 scale=2.0000 norm=3.9810                                                                                            \n",
      "[iter 2200] loss=2.2857 val_loss=2.4199 scale=2.0000 norm=3.9256                                                                                            \n",
      "[iter 2300] loss=2.2595 val_loss=2.4087 scale=2.0000 norm=3.9007                                                                                            \n",
      "[iter 2400] loss=2.2388 val_loss=2.4002 scale=2.0000 norm=3.8945                                                                                            \n",
      "[iter 2500] loss=2.2132 val_loss=2.3939 scale=2.0000 norm=3.8444                                                                                            \n",
      "[iter 2600] loss=2.1938 val_loss=2.3895 scale=2.0000 norm=3.8290                                                                                            \n",
      "[iter 2700] loss=2.1726 val_loss=2.3872 scale=2.0000 norm=3.7971                                                                                            \n",
      "== Early stopping achieved.                                                                                                                                 \n",
      "== Best iteration / VAL2759 (val_loss=2.3865)                                                                                                               \n",
      " 51%|████████████████████████████████████████▊                                       | 51/100 [1:18:01<1:37:47, 119.75s/trial, best loss: 2.381752374746717]"
     ]
    },
    {
     "name": "stderr",
     "output_type": "stream",
     "text": [
      "2021-07-28 00:43:53 INFO     {'Base': DecisionTreeRegressor(criterion='friedman_mse', max_leaf_nodes=63,\n",
      "                      min_samples_split=3, random_state=1), 'col_sample': 0.8, 'learning_rate': 0.001, 'minibatch_frac': 0.7000000000000001, 'n_estimators': 10000000, 'verbose_eval': 100, 'random_state': 13}\n"
     ]
    },
    {
     "name": "stdout",
     "output_type": "stream",
     "text": [
      "\r",
      " 52%|█████████████████████████████████████████▌                                      | 52/100 [1:18:01<2:43:46, 204.71s/trial, best loss: 2.381752374746717]"
     ]
    },
    {
     "name": "stderr",
     "output_type": "stream",
     "text": [
      "2021-07-28 00:43:53 INFO     build_posterior_wrapper took 0.002033 seconds\n",
      "2021-07-28 00:43:53 INFO     TPE using 52/52 trials with best loss 2.381752\n"
     ]
    },
    {
     "name": "stdout",
     "output_type": "stream",
     "text": [
      "{'Base': DecisionTreeRegressor(criterion='friedman_mse', max_leaf_nodes=63,                                                                                 \n",
      "                      min_samples_split=3, random_state=1), 'col_sample': 0.7000000000000001, 'learning_rate': 0.002, 'minibatch_frac': 0.6000000000000001, 'n_estimators': 10000000, 'verbose_eval': 100, 'random_state': 13}\n",
      "[iter 0] loss=3.8305 val_loss=3.8388 scale=2.0000 norm=18.0903                                                                                              \n",
      "[iter 100] loss=3.5002 val_loss=3.4995 scale=2.0000 norm=12.9785                                                                                            \n",
      "[iter 200] loss=3.2953 val_loss=3.3005 scale=2.0000 norm=9.4789                                                                                             \n",
      "[iter 300] loss=3.1222 val_loss=3.1320 scale=2.0000 norm=7.2902                                                                                             \n",
      "[iter 400] loss=2.9681 val_loss=2.9814 scale=2.0000 norm=5.9768                                                                                             \n",
      "[iter 500] loss=2.8295 val_loss=2.8479 scale=2.0000 norm=5.2150                                                                                             \n",
      "[iter 600] loss=2.7013 val_loss=2.7319 scale=2.0000 norm=4.6791                                                                                             \n",
      "[iter 700] loss=2.5944 val_loss=2.6350 scale=2.0000 norm=4.4179                                                                                             \n",
      "[iter 800] loss=2.5022 val_loss=2.5567 scale=2.0000 norm=4.2553                                                                                             \n",
      "[iter 900] loss=2.4196 val_loss=2.4959 scale=2.0000 norm=4.1202                                                                                             \n",
      "[iter 1000] loss=2.3486 val_loss=2.4509 scale=2.0000 norm=4.0164                                                                                            \n",
      "[iter 1100] loss=2.2943 val_loss=2.4196 scale=2.0000 norm=3.9725                                                                                            \n",
      "[iter 1200] loss=2.2375 val_loss=2.4000 scale=2.0000 norm=3.8654                                                                                            \n",
      "[iter 1300] loss=2.2025 val_loss=2.3885 scale=2.0000 norm=3.8621                                                                                            \n",
      "[iter 1400] loss=2.1621 val_loss=2.3848 scale=1.0000 norm=1.8922                                                                                            \n",
      "== Early stopping achieved.                                                                                                                                 \n",
      "== Best iteration / VAL1409 (val_loss=2.3846)                                                                                                               \n",
      " 52%|█████████████████████████████████████████▌                                      | 52/100 [1:20:46<2:43:46, 204.71s/trial, best loss: 2.381752374746717]"
     ]
    },
    {
     "name": "stderr",
     "output_type": "stream",
     "text": [
      "2021-07-28 00:46:38 INFO     {'Base': DecisionTreeRegressor(criterion='friedman_mse', max_leaf_nodes=63,\n",
      "                      min_samples_split=3, random_state=1), 'col_sample': 0.7000000000000001, 'learning_rate': 0.002, 'minibatch_frac': 0.6000000000000001, 'n_estimators': 10000000, 'verbose_eval': 100, 'random_state': 13}\n"
     ]
    },
    {
     "name": "stdout",
     "output_type": "stream",
     "text": [
      "\r",
      " 53%|██████████████████████████████████████████▍                                     | 53/100 [1:20:46<2:31:01, 192.79s/trial, best loss: 2.381752374746717]"
     ]
    },
    {
     "name": "stderr",
     "output_type": "stream",
     "text": [
      "2021-07-28 00:46:38 INFO     build_posterior_wrapper took 0.002001 seconds\n",
      "2021-07-28 00:46:38 INFO     TPE using 53/53 trials with best loss 2.381752\n"
     ]
    },
    {
     "name": "stdout",
     "output_type": "stream",
     "text": [
      "{'Base': DecisionTreeRegressor(criterion='friedman_mse', max_leaf_nodes=127,                                                                                \n",
      "                      min_samples_split=3, random_state=1), 'col_sample': 0.7000000000000001, 'learning_rate': 0.003, 'minibatch_frac': 0.8, 'n_estimators': 10000000, 'verbose_eval': 100, 'random_state': 13}\n",
      "[iter 0] loss=3.8347 val_loss=3.8357 scale=2.0000 norm=18.2020                                                                                              \n",
      "[iter 100] loss=3.3845 val_loss=3.3902 scale=2.0000 norm=10.8888                                                                                            \n",
      "[iter 200] loss=3.1090 val_loss=3.1248 scale=2.0000 norm=7.1265                                                                                             \n",
      "[iter 300] loss=2.8700 val_loss=2.9009 scale=2.0000 norm=5.2832                                                                                             \n",
      "[iter 400] loss=2.6597 val_loss=2.7159 scale=2.0000 norm=4.3676                                                                                             \n",
      "[iter 500] loss=2.4783 val_loss=2.5751 scale=2.0000 norm=3.9213                                                                                             \n",
      "[iter 600] loss=2.3221 val_loss=2.4807 scale=2.0000 norm=3.6439                                                                                             \n",
      "[iter 700] loss=2.1974 val_loss=2.4325 scale=2.0000 norm=3.4917                                                                                             \n",
      "== Early stopping achieved.                                                                                                                                 \n",
      "== Best iteration / VAL772 (val_loss=2.4230)                                                                                                                \n",
      " 53%|██████████████████████████████████████████▍                                     | 53/100 [1:22:42<2:31:01, 192.79s/trial, best loss: 2.381752374746717]"
     ]
    },
    {
     "name": "stderr",
     "output_type": "stream",
     "text": [
      "2021-07-28 00:48:34 INFO     {'Base': DecisionTreeRegressor(criterion='friedman_mse', max_leaf_nodes=127,\n",
      "                      min_samples_split=3, random_state=1), 'col_sample': 0.7000000000000001, 'learning_rate': 0.003, 'minibatch_frac': 0.8, 'n_estimators': 10000000, 'verbose_eval': 100, 'random_state': 13}\n"
     ]
    },
    {
     "name": "stdout",
     "output_type": "stream",
     "text": [
      "\r",
      " 54%|███████████████████████████████████████████▏                                    | 54/100 [1:22:42<2:10:13, 169.86s/trial, best loss: 2.381752374746717]"
     ]
    },
    {
     "name": "stderr",
     "output_type": "stream",
     "text": [
      "2021-07-28 00:48:34 INFO     build_posterior_wrapper took 0.002999 seconds\n",
      "2021-07-28 00:48:34 INFO     TPE using 54/54 trials with best loss 2.381752\n"
     ]
    },
    {
     "name": "stdout",
     "output_type": "stream",
     "text": [
      "{'Base': DecisionTreeRegressor(criterion='friedman_mse', max_leaf_nodes=63,                                                                                 \n",
      "                      min_samples_split=3, random_state=1), 'col_sample': 0.5, 'learning_rate': 0.003, 'minibatch_frac': 1.0, 'n_estimators': 10000000, 'verbose_eval': 100, 'random_state': 13}\n",
      "[iter 0] loss=3.8345 val_loss=3.8358 scale=2.0000 norm=18.1911                                                                                              \n",
      "[iter 100] loss=3.4211 val_loss=3.4243 scale=2.0000 norm=11.5984                                                                                            \n",
      "[iter 200] loss=3.1552 val_loss=3.1626 scale=2.0000 norm=7.8042                                                                                             \n",
      "[iter 300] loss=2.9318 val_loss=2.9450 scale=2.0000 norm=5.9421                                                                                             \n",
      "[iter 400] loss=2.7379 val_loss=2.7624 scale=2.0000 norm=4.9526                                                                                             \n",
      "[iter 500] loss=2.5779 val_loss=2.6207 scale=2.0000 norm=4.4685                                                                                             \n",
      "[iter 600] loss=2.4499 val_loss=2.5191 scale=2.0000 norm=4.2196                                                                                             \n",
      "[iter 700] loss=2.3489 val_loss=2.4521 scale=2.0000 norm=4.0695                                                                                             \n",
      "[iter 800] loss=2.2712 val_loss=2.4145 scale=2.0000 norm=3.9698                                                                                             \n",
      "[iter 900] loss=2.2090 val_loss=2.3961 scale=2.0000 norm=3.8869                                                                                             \n",
      "== Early stopping achieved.                                                                                                                                 \n",
      "== Best iteration / VAL983 (val_loss=2.3909)                                                                                                                \n",
      " 54%|███████████████████████████████████████████▏                                    | 54/100 [1:24:37<2:10:13, 169.86s/trial, best loss: 2.381752374746717]"
     ]
    },
    {
     "name": "stderr",
     "output_type": "stream",
     "text": [
      "2021-07-28 00:50:29 INFO     {'Base': DecisionTreeRegressor(criterion='friedman_mse', max_leaf_nodes=63,\n",
      "                      min_samples_split=3, random_state=1), 'col_sample': 0.5, 'learning_rate': 0.003, 'minibatch_frac': 1.0, 'n_estimators': 10000000, 'verbose_eval': 100, 'random_state': 13}\n"
     ]
    },
    {
     "name": "stdout",
     "output_type": "stream",
     "text": [
      "\r",
      " 55%|████████████████████████████████████████████                                    | 55/100 [1:24:37<1:55:01, 153.38s/trial, best loss: 2.381752374746717]"
     ]
    },
    {
     "name": "stderr",
     "output_type": "stream",
     "text": [
      "2021-07-28 00:50:29 INFO     build_posterior_wrapper took 0.003003 seconds\n",
      "2021-07-28 00:50:29 INFO     TPE using 55/55 trials with best loss 2.381752\n"
     ]
    },
    {
     "name": "stdout",
     "output_type": "stream",
     "text": [
      "{'Base': DecisionTreeRegressor(criterion='friedman_mse', max_leaf_nodes=255,                                                                                \n",
      "                      min_samples_split=3, random_state=1), 'col_sample': 0.6000000000000001, 'learning_rate': 0.004, 'minibatch_frac': 0.5, 'n_estimators': 10000000, 'verbose_eval': 100, 'random_state': 13}\n",
      "[iter 0] loss=3.8284 val_loss=3.8325 scale=2.0000 norm=18.0475                                                                                              \n",
      "[iter 100] loss=3.3001 val_loss=3.3114 scale=2.0000 norm=9.6284                                                                                             \n",
      "[iter 200] loss=2.9441 val_loss=2.9821 scale=2.0000 norm=5.7126                                                                                             \n",
      "[iter 300] loss=2.6291 val_loss=2.7188 scale=2.0000 norm=4.0900                                                                                             \n",
      "[iter 400] loss=2.3527 val_loss=2.5376 scale=2.0000 norm=3.3850                                                                                             \n",
      "[iter 500] loss=2.1233 val_loss=2.4640 scale=2.0000 norm=3.0381                                                                                             \n",
      "== Early stopping achieved.                                                                                                                                 \n",
      "== Best iteration / VAL515 (val_loss=2.4631)                                                                                                                \n",
      " 55%|████████████████████████████████████████████                                    | 55/100 [1:25:32<1:55:01, 153.38s/trial, best loss: 2.381752374746717]"
     ]
    },
    {
     "name": "stderr",
     "output_type": "stream",
     "text": [
      "2021-07-28 00:51:25 INFO     {'Base': DecisionTreeRegressor(criterion='friedman_mse', max_leaf_nodes=255,\n",
      "                      min_samples_split=3, random_state=1), 'col_sample': 0.6000000000000001, 'learning_rate': 0.004, 'minibatch_frac': 0.5, 'n_estimators': 10000000, 'verbose_eval': 100, 'random_state': 13}\n"
     ]
    },
    {
     "name": "stdout",
     "output_type": "stream",
     "text": [
      "\r",
      " 56%|████████████████████████████████████████████▊                                   | 56/100 [1:25:32<1:30:55, 123.98s/trial, best loss: 2.381752374746717]"
     ]
    },
    {
     "name": "stderr",
     "output_type": "stream",
     "text": [
      "2021-07-28 00:51:25 INFO     build_posterior_wrapper took 0.002002 seconds\n",
      "2021-07-28 00:51:25 INFO     TPE using 56/56 trials with best loss 2.381752\n"
     ]
    },
    {
     "name": "stdout",
     "output_type": "stream",
     "text": [
      "{'Base': DecisionTreeRegressor(criterion='friedman_mse', max_leaf_nodes=63,                                                                                 \n",
      "                      min_samples_split=3, random_state=1), 'col_sample': 0.9, 'learning_rate': 0.001, 'minibatch_frac': 0.9, 'n_estimators': 10000000, 'verbose_eval': 100, 'random_state': 13}\n",
      "[iter 0] loss=3.8335 val_loss=3.8420 scale=2.0000 norm=18.1602                                                                                              \n",
      "[iter 100] loss=3.6249 val_loss=3.6287 scale=2.0000 norm=15.2004                                                                                            \n",
      "[iter 200] loss=3.4908 val_loss=3.4967 scale=2.0000 norm=12.7543                                                                                            \n",
      "[iter 300] loss=3.3848 val_loss=3.3904 scale=2.0000 norm=10.8682                                                                                            \n",
      "[iter 400] loss=3.2909 val_loss=3.2961 scale=2.0000 norm=9.3881                                                                                             \n",
      "[iter 500] loss=3.2018 val_loss=3.2090 scale=2.0000 norm=8.1834                                                                                             \n",
      "[iter 600] loss=3.1172 val_loss=3.1271 scale=2.0000 norm=7.2218                                                                                             \n",
      "[iter 700] loss=3.0390 val_loss=3.0501 scale=2.0000 norm=6.5136                                                                                             \n",
      "[iter 800] loss=2.9629 val_loss=2.9772 scale=2.0000 norm=5.9305                                                                                             \n",
      "[iter 900] loss=2.8922 val_loss=2.9085 scale=2.0000 norm=5.5049                                                                                             \n",
      "[iter 1000] loss=2.8250 val_loss=2.8443 scale=2.0000 norm=5.1836                                                                                            \n",
      "[iter 1100] loss=2.7595 val_loss=2.7845 scale=2.0000 norm=4.8860                                                                                            \n",
      "[iter 1200] loss=2.6999 val_loss=2.7295 scale=2.0000 norm=4.6889                                                                                            \n",
      "[iter 1300] loss=2.6425 val_loss=2.6792 scale=2.0000 norm=4.5219                                                                                            \n",
      "[iter 1400] loss=2.5904 val_loss=2.6337 scale=2.0000 norm=4.4045                                                                                            \n",
      "[iter 1500] loss=2.5419 val_loss=2.5931 scale=2.0000 norm=4.3038                                                                                            \n",
      "[iter 1600] loss=2.4960 val_loss=2.5568 scale=2.0000 norm=4.2134                                                                                            \n",
      "[iter 1700] loss=2.4524 val_loss=2.5249 scale=2.0000 norm=4.1437                                                                                            \n",
      "[iter 1800] loss=2.4159 val_loss=2.4975 scale=2.0000 norm=4.1051                                                                                            \n",
      "[iter 1900] loss=2.3778 val_loss=2.4739 scale=2.0000 norm=4.0415                                                                                            \n",
      "[iter 2000] loss=2.3455 val_loss=2.4541 scale=2.0000 norm=4.0080                                                                                            \n",
      "[iter 2100] loss=2.3155 val_loss=2.4374 scale=2.0000 norm=3.9774                                                                                            \n",
      "[iter 2200] loss=2.2856 val_loss=2.4236 scale=2.0000 norm=3.9336                                                                                            \n",
      "[iter 2300] loss=2.2612 val_loss=2.4127 scale=2.0000 norm=3.9189                                                                                            \n",
      "[iter 2400] loss=2.2339 val_loss=2.4040 scale=2.0000 norm=3.8710                                                                                            \n",
      "[iter 2500] loss=2.2119 val_loss=2.3977 scale=2.0000 norm=3.8441                                                                                            \n",
      "[iter 2600] loss=2.1918 val_loss=2.3932 scale=2.0000 norm=3.8249                                                                                            \n",
      "[iter 2700] loss=2.1701 val_loss=2.3907 scale=2.0000 norm=3.7894                                                                                            \n",
      "[iter 2800] loss=2.1543 val_loss=2.3897 scale=2.0000 norm=3.7786                                                                                            \n",
      "== Early stopping achieved.                                                                                                                                 \n",
      "== Best iteration / VAL2820 (val_loss=2.3895)                                                                                                               \n",
      " 56%|████████████████████████████████████████████▊                                   | 56/100 [1:33:46<1:30:55, 123.98s/trial, best loss: 2.381752374746717]"
     ]
    },
    {
     "name": "stderr",
     "output_type": "stream",
     "text": [
      "2021-07-28 00:59:38 INFO     {'Base': DecisionTreeRegressor(criterion='friedman_mse', max_leaf_nodes=63,\n",
      "                      min_samples_split=3, random_state=1), 'col_sample': 0.9, 'learning_rate': 0.001, 'minibatch_frac': 0.9, 'n_estimators': 10000000, 'verbose_eval': 100, 'random_state': 13}\n"
     ]
    },
    {
     "name": "stdout",
     "output_type": "stream",
     "text": [
      "\r",
      " 57%|█████████████████████████████████████████████▌                                  | 57/100 [1:33:46<2:48:21, 234.91s/trial, best loss: 2.381752374746717]"
     ]
    },
    {
     "name": "stderr",
     "output_type": "stream",
     "text": [
      "2021-07-28 00:59:38 INFO     build_posterior_wrapper took 0.003036 seconds\n",
      "2021-07-28 00:59:38 INFO     TPE using 57/57 trials with best loss 2.381752\n"
     ]
    },
    {
     "name": "stdout",
     "output_type": "stream",
     "text": [
      "{'Base': DecisionTreeRegressor(criterion='friedman_mse', max_leaf_nodes=63,                                                                                 \n",
      "                      min_samples_split=3, random_state=1), 'col_sample': 0.8, 'learning_rate': 0.005, 'minibatch_frac': 0.7000000000000001, 'n_estimators': 10000000, 'verbose_eval': 100, 'random_state': 13}\n",
      "[iter 0] loss=3.8314 val_loss=3.8295 scale=2.0000 norm=18.1206                                                                                              \n",
      "[iter 100] loss=3.2027 val_loss=3.2062 scale=2.0000 norm=8.1856                                                                                             \n",
      "[iter 200] loss=2.8235 val_loss=2.8415 scale=2.0000 norm=5.1535                                                                                             \n",
      "[iter 300] loss=2.5422 val_loss=2.5900 scale=2.0000 norm=4.3116                                                                                             \n",
      "[iter 400] loss=2.3445 val_loss=2.4504 scale=2.0000 norm=4.0058                                                                                             \n",
      "[iter 500] loss=2.2144 val_loss=2.3943 scale=2.0000 norm=3.8519                                                                                             \n",
      "== Early stopping achieved.                                                                                                                                 \n",
      "== Best iteration / VAL565 (val_loss=2.3858)                                                                                                                \n",
      " 57%|█████████████████████████████████████████████▌                                  | 57/100 [1:34:59<2:48:21, 234.91s/trial, best loss: 2.381752374746717]"
     ]
    },
    {
     "name": "stderr",
     "output_type": "stream",
     "text": [
      "2021-07-28 01:00:52 INFO     {'Base': DecisionTreeRegressor(criterion='friedman_mse', max_leaf_nodes=63,\n",
      "                      min_samples_split=3, random_state=1), 'col_sample': 0.8, 'learning_rate': 0.005, 'minibatch_frac': 0.7000000000000001, 'n_estimators': 10000000, 'verbose_eval': 100, 'random_state': 13}\n"
     ]
    },
    {
     "name": "stdout",
     "output_type": "stream",
     "text": [
      "\r",
      " 58%|██████████████████████████████████████████████▍                                 | 58/100 [1:34:59<2:10:27, 186.37s/trial, best loss: 2.381752374746717]"
     ]
    },
    {
     "name": "stderr",
     "output_type": "stream",
     "text": [
      "2021-07-28 01:00:52 INFO     build_posterior_wrapper took 0.003096 seconds\n",
      "2021-07-28 01:00:52 INFO     TPE using 58/58 trials with best loss 2.381752\n"
     ]
    },
    {
     "name": "stdout",
     "output_type": "stream",
     "text": [
      "{'Base': DecisionTreeRegressor(criterion='friedman_mse', max_leaf_nodes=127,                                                                                \n",
      "                      min_samples_split=3, random_state=1), 'col_sample': 0.7000000000000001, 'learning_rate': 0.002, 'minibatch_frac': 0.6000000000000001, 'n_estimators': 10000000, 'verbose_eval': 100, 'random_state': 13}\n",
      "[iter 0] loss=3.8305 val_loss=3.8388 scale=2.0000 norm=18.0903                                                                                              \n",
      "[iter 100] loss=3.4980 val_loss=3.4998 scale=2.0000 norm=12.9577                                                                                            \n",
      "[iter 200] loss=3.2890 val_loss=3.2986 scale=2.0000 norm=9.3873                                                                                             \n",
      "[iter 300] loss=3.1103 val_loss=3.1277 scale=2.0000 norm=7.1305                                                                                             \n",
      "[iter 400] loss=2.9487 val_loss=2.9742 scale=2.0000 norm=5.7584                                                                                             \n",
      "[iter 500] loss=2.8002 val_loss=2.8374 scale=2.0000 norm=4.9397                                                                                             \n",
      "[iter 600] loss=2.6603 val_loss=2.7181 scale=2.0000 norm=4.3641                                                                                             \n",
      "[iter 700] loss=2.5380 val_loss=2.6184 scale=2.0000 norm=4.0558                                                                                             \n",
      "[iter 800] loss=2.4300 val_loss=2.5396 scale=2.0000 norm=3.8616                                                                                             \n",
      "[iter 900] loss=2.3297 val_loss=2.4822 scale=2.0000 norm=3.6935                                                                                             \n",
      "[iter 1000] loss=2.2414 val_loss=2.4442 scale=2.0000 norm=3.5631                                                                                            \n",
      "[iter 1100] loss=2.1691 val_loss=2.4252 scale=2.0000 norm=3.4845                                                                                            \n",
      "== Early stopping achieved.                                                                                                                                 \n",
      "== Best iteration / VAL1153 (val_loss=2.4217)                                                                                                               \n",
      " 58%|██████████████████████████████████████████████▍                                 | 58/100 [1:37:17<2:10:27, 186.37s/trial, best loss: 2.381752374746717]"
     ]
    },
    {
     "name": "stderr",
     "output_type": "stream",
     "text": [
      "2021-07-28 01:03:09 INFO     {'Base': DecisionTreeRegressor(criterion='friedman_mse', max_leaf_nodes=127,\n",
      "                      min_samples_split=3, random_state=1), 'col_sample': 0.7000000000000001, 'learning_rate': 0.002, 'minibatch_frac': 0.6000000000000001, 'n_estimators': 10000000, 'verbose_eval': 100, 'random_state': 13}\n"
     ]
    },
    {
     "name": "stdout",
     "output_type": "stream",
     "text": [
      "\r",
      " 59%|███████████████████████████████████████████████▏                                | 59/100 [1:37:17<1:57:19, 171.69s/trial, best loss: 2.381752374746717]"
     ]
    },
    {
     "name": "stderr",
     "output_type": "stream",
     "text": [
      "2021-07-28 01:03:09 INFO     build_posterior_wrapper took 0.004010 seconds\n",
      "2021-07-28 01:03:09 INFO     TPE using 59/59 trials with best loss 2.381752\n"
     ]
    },
    {
     "name": "stdout",
     "output_type": "stream",
     "text": [
      "{'Base': DecisionTreeRegressor(criterion='friedman_mse', max_leaf_nodes=63,                                                                                 \n",
      "                      min_samples_split=3, random_state=1), 'col_sample': 0.6000000000000001, 'learning_rate': 0.004, 'minibatch_frac': 0.8, 'n_estimators': 10000000, 'verbose_eval': 100, 'random_state': 13}\n",
      "[iter 0] loss=3.8347 val_loss=3.8326 scale=2.0000 norm=18.2020                                                                                              \n",
      "[iter 100] loss=3.3063 val_loss=3.3089 scale=2.0000 norm=9.6927                                                                                             \n",
      "[iter 200] loss=2.9797 val_loss=2.9914 scale=2.0000 norm=6.1610                                                                                             \n",
      "[iter 300] loss=2.7164 val_loss=2.7428 scale=2.0000 norm=4.8181                                                                                             \n",
      "[iter 400] loss=2.5109 val_loss=2.5663 scale=2.0000 norm=4.2706                                                                                             \n",
      "[iter 500] loss=2.3610 val_loss=2.4606 scale=2.0000 norm=4.0478                                                                                             \n",
      "[iter 600] loss=2.2494 val_loss=2.4066 scale=2.0000 norm=3.8952                                                                                             \n",
      "[iter 700] loss=2.1720 val_loss=2.3900 scale=2.0000 norm=3.8087                                                                                             \n",
      "== Early stopping achieved.                                                                                                                                 \n",
      "== Best iteration / VAL710 (val_loss=2.3896)                                                                                                                \n",
      " 59%|███████████████████████████████████████████████▏                                | 59/100 [1:38:36<1:57:19, 171.69s/trial, best loss: 2.381752374746717]"
     ]
    },
    {
     "name": "stderr",
     "output_type": "stream",
     "text": [
      "2021-07-28 01:04:28 INFO     {'Base': DecisionTreeRegressor(criterion='friedman_mse', max_leaf_nodes=63,\n",
      "                      min_samples_split=3, random_state=1), 'col_sample': 0.6000000000000001, 'learning_rate': 0.004, 'minibatch_frac': 0.8, 'n_estimators': 10000000, 'verbose_eval': 100, 'random_state': 13}\n"
     ]
    },
    {
     "name": "stdout",
     "output_type": "stream",
     "text": [
      "\r",
      " 60%|████████████████████████████████████████████████                                | 60/100 [1:38:36<1:35:55, 143.89s/trial, best loss: 2.381752374746717]"
     ]
    },
    {
     "name": "stderr",
     "output_type": "stream",
     "text": [
      "2021-07-28 01:04:28 INFO     build_posterior_wrapper took 0.002005 seconds\n",
      "2021-07-28 01:04:28 INFO     TPE using 60/60 trials with best loss 2.381752\n"
     ]
    },
    {
     "name": "stdout",
     "output_type": "stream",
     "text": [
      "{'Base': DecisionTreeRegressor(criterion='friedman_mse', max_leaf_nodes=63,                                                                                 \n",
      "                      min_samples_split=3, random_state=1), 'col_sample': 0.6000000000000001, 'learning_rate': 0.003, 'minibatch_frac': 0.5, 'n_estimators': 10000000, 'verbose_eval': 100, 'random_state': 13}\n",
      "[iter 0] loss=3.8284 val_loss=3.8357 scale=2.0000 norm=18.0475                                                                                              \n",
      "[iter 100] loss=3.4064 val_loss=3.4062 scale=2.0000 norm=11.3456                                                                                            \n",
      "[iter 200] loss=3.1387 val_loss=3.1450 scale=2.0000 norm=7.5760                                                                                             \n",
      "[iter 300] loss=2.9100 val_loss=2.9269 scale=2.0000 norm=5.6977                                                                                             \n",
      "[iter 400] loss=2.7156 val_loss=2.7455 scale=2.0000 norm=4.7919                                                                                             \n",
      "[iter 500] loss=2.5612 val_loss=2.6060 scale=2.0000 norm=4.3917                                                                                             \n",
      "[iter 600] loss=2.4310 val_loss=2.5067 scale=2.0000 norm=4.1433                                                                                             \n",
      "[iter 700] loss=2.3292 val_loss=2.4435 scale=2.0000 norm=3.9888                                                                                             \n",
      "[iter 800] loss=2.2584 val_loss=2.4074 scale=2.0000 norm=3.9466                                                                                             \n",
      "[iter 900] loss=2.1932 val_loss=2.3915 scale=2.0000 norm=3.8457                                                                                             \n",
      "== Early stopping achieved.                                                                                                                                 \n",
      "== Best iteration / VAL949 (val_loss=2.3894)                                                                                                                \n",
      " 60%|████████████████████████████████████████████████                                | 60/100 [1:39:50<1:35:55, 143.89s/trial, best loss: 2.381752374746717]"
     ]
    },
    {
     "name": "stderr",
     "output_type": "stream",
     "text": [
      "2021-07-28 01:05:42 INFO     {'Base': DecisionTreeRegressor(criterion='friedman_mse', max_leaf_nodes=63,\n",
      "                      min_samples_split=3, random_state=1), 'col_sample': 0.6000000000000001, 'learning_rate': 0.003, 'minibatch_frac': 0.5, 'n_estimators': 10000000, 'verbose_eval': 100, 'random_state': 13}\n"
     ]
    },
    {
     "name": "stdout",
     "output_type": "stream",
     "text": [
      "\r",
      " 61%|████████████████████████████████████████████████▊                               | 61/100 [1:39:50<1:19:58, 123.03s/trial, best loss: 2.381752374746717]"
     ]
    },
    {
     "name": "stderr",
     "output_type": "stream",
     "text": [
      "2021-07-28 01:05:42 INFO     build_posterior_wrapper took 0.003036 seconds\n",
      "2021-07-28 01:05:42 INFO     TPE using 61/61 trials with best loss 2.381752\n"
     ]
    },
    {
     "name": "stdout",
     "output_type": "stream",
     "text": [
      "{'Base': DecisionTreeRegressor(criterion='friedman_mse', max_leaf_nodes=255,                                                                                \n",
      "                      min_samples_split=3, random_state=1), 'col_sample': 0.5, 'learning_rate': 0.002, 'minibatch_frac': 1.0, 'n_estimators': 10000000, 'verbose_eval': 100, 'random_state': 13}\n",
      "[iter 0] loss=3.8345 val_loss=3.8389 scale=2.0000 norm=18.1911                                                                                              \n",
      "[iter 100] loss=3.5190 val_loss=3.5304 scale=2.0000 norm=13.3563                                                                                            \n",
      "[iter 200] loss=3.3081 val_loss=3.3273 scale=2.0000 norm=9.7520                                                                                             \n",
      "[iter 300] loss=3.1273 val_loss=3.1566 scale=2.0000 norm=7.4358                                                                                             \n",
      "[iter 400] loss=2.9559 val_loss=2.9993 scale=2.0000 norm=5.8546                                                                                             \n",
      "[iter 500] loss=2.7940 val_loss=2.8578 scale=2.0000 norm=4.8354                                                                                             \n",
      "[iter 600] loss=2.6405 val_loss=2.7332 scale=2.0000 norm=4.1590                                                                                             \n",
      "[iter 700] loss=2.4957 val_loss=2.6284 scale=2.0000 norm=3.7026                                                                                             \n",
      "[iter 800] loss=2.3613 val_loss=2.5485 scale=2.0000 norm=3.4040                                                                                             \n",
      "[iter 900] loss=2.2362 val_loss=2.4951 scale=2.0000 norm=3.1794                                                                                             \n",
      "[iter 1000] loss=2.1211 val_loss=2.4703 scale=2.0000 norm=3.0057                                                                                            \n",
      "== Early stopping achieved.                                                                                                                                 \n",
      "== Best iteration / VAL1021 (val_loss=2.4693)                                                                                                               \n",
      " 61%|████████████████████████████████████████████████▊                               | 61/100 [1:42:26<1:19:58, 123.03s/trial, best loss: 2.381752374746717]"
     ]
    },
    {
     "name": "stderr",
     "output_type": "stream",
     "text": [
      "2021-07-28 01:08:19 INFO     {'Base': DecisionTreeRegressor(criterion='friedman_mse', max_leaf_nodes=255,\n",
      "                      min_samples_split=3, random_state=1), 'col_sample': 0.5, 'learning_rate': 0.002, 'minibatch_frac': 1.0, 'n_estimators': 10000000, 'verbose_eval': 100, 'random_state': 13}\n"
     ]
    },
    {
     "name": "stdout",
     "output_type": "stream",
     "text": [
      "\r",
      " 62%|█████████████████████████████████████████████████▌                              | 62/100 [1:42:26<1:24:14, 133.00s/trial, best loss: 2.381752374746717]"
     ]
    },
    {
     "name": "stderr",
     "output_type": "stream",
     "text": [
      "2021-07-28 01:08:19 INFO     build_posterior_wrapper took 0.001025 seconds\n",
      "2021-07-28 01:08:19 INFO     TPE using 62/62 trials with best loss 2.381752\n"
     ]
    },
    {
     "name": "stdout",
     "output_type": "stream",
     "text": [
      "{'Base': DecisionTreeRegressor(criterion='friedman_mse', max_leaf_nodes=63,                                                                                 \n",
      "                      min_samples_split=3, random_state=1), 'col_sample': 0.7000000000000001, 'learning_rate': 0.005, 'minibatch_frac': 0.7000000000000001, 'n_estimators': 10000000, 'verbose_eval': 100, 'random_state': 13}\n",
      "[iter 0] loss=3.8314 val_loss=3.8295 scale=2.0000 norm=18.1206                                                                                              \n",
      "[iter 100] loss=3.2058 val_loss=3.2089 scale=2.0000 norm=8.2450                                                                                             \n",
      "[iter 200] loss=2.8274 val_loss=2.8443 scale=2.0000 norm=5.1962                                                                                             \n",
      "[iter 300] loss=2.5465 val_loss=2.5921 scale=2.0000 norm=4.3353                                                                                             \n",
      "[iter 400] loss=2.3493 val_loss=2.4523 scale=2.0000 norm=4.0222                                                                                             \n",
      "[iter 500] loss=2.2204 val_loss=2.3953 scale=2.0000 norm=3.8700                                                                                             \n",
      "== Early stopping achieved.                                                                                                                                 \n",
      "== Best iteration / VAL571 (val_loss=2.3858)                                                                                                                \n",
      " 62%|█████████████████████████████████████████████████▌                              | 62/100 [1:43:33<1:24:14, 133.00s/trial, best loss: 2.381752374746717]"
     ]
    },
    {
     "name": "stderr",
     "output_type": "stream",
     "text": [
      "2021-07-28 01:09:26 INFO     {'Base': DecisionTreeRegressor(criterion='friedman_mse', max_leaf_nodes=63,\n",
      "                      min_samples_split=3, random_state=1), 'col_sample': 0.7000000000000001, 'learning_rate': 0.005, 'minibatch_frac': 0.7000000000000001, 'n_estimators': 10000000, 'verbose_eval': 100, 'random_state': 13}\n"
     ]
    },
    {
     "name": "stdout",
     "output_type": "stream",
     "text": [
      "\r",
      " 63%|██████████████████████████████████████████████████▍                             | 63/100 [1:43:33<1:09:47, 113.18s/trial, best loss: 2.381752374746717]"
     ]
    },
    {
     "name": "stderr",
     "output_type": "stream",
     "text": [
      "2021-07-28 01:09:26 INFO     build_posterior_wrapper took 0.002001 seconds\n",
      "2021-07-28 01:09:26 INFO     TPE using 63/63 trials with best loss 2.381752\n"
     ]
    },
    {
     "name": "stdout",
     "output_type": "stream",
     "text": [
      "{'Base': DecisionTreeRegressor(criterion='friedman_mse', max_leaf_nodes=127,                                                                                \n",
      "                      min_samples_split=3, random_state=1), 'col_sample': 1.0, 'learning_rate': 0.003, 'minibatch_frac': 0.9, 'n_estimators': 10000000, 'verbose_eval': 100, 'random_state': 13}\n",
      "[iter 0] loss=3.8335 val_loss=3.8356 scale=2.0000 norm=18.1602                                                                                              \n",
      "[iter 100] loss=3.3788 val_loss=3.3853 scale=2.0000 norm=10.7766                                                                                            \n",
      "[iter 200] loss=3.1039 val_loss=3.1197 scale=2.0000 norm=7.0329                                                                                             \n",
      "[iter 300] loss=2.8650 val_loss=2.8976 scale=2.0000 norm=5.2286                                                                                             \n",
      "[iter 400] loss=2.6547 val_loss=2.7153 scale=2.0000 norm=4.3466                                                                                             \n",
      "[iter 500] loss=2.4732 val_loss=2.5780 scale=2.0000 norm=3.9120                                                                                             \n",
      "[iter 600] loss=2.3193 val_loss=2.4894 scale=2.0000 norm=3.6585                                                                                             \n",
      "[iter 700] loss=2.1915 val_loss=2.4475 scale=2.0000 norm=3.4882                                                                                             \n",
      "== Early stopping achieved.                                                                                                                                 \n",
      "== Best iteration / VAL761 (val_loss=2.4422)                                                                                                                \n",
      " 63%|██████████████████████████████████████████████████▍                             | 63/100 [1:46:24<1:09:47, 113.18s/trial, best loss: 2.381752374746717]"
     ]
    },
    {
     "name": "stderr",
     "output_type": "stream",
     "text": [
      "2021-07-28 01:12:16 INFO     {'Base': DecisionTreeRegressor(criterion='friedman_mse', max_leaf_nodes=127,\n",
      "                      min_samples_split=3, random_state=1), 'col_sample': 1.0, 'learning_rate': 0.003, 'minibatch_frac': 0.9, 'n_estimators': 10000000, 'verbose_eval': 100, 'random_state': 13}\n"
     ]
    },
    {
     "name": "stdout",
     "output_type": "stream",
     "text": [
      "\r",
      " 64%|███████████████████████████████████████████████████▏                            | 64/100 [1:46:24<1:18:17, 130.49s/trial, best loss: 2.381752374746717]"
     ]
    },
    {
     "name": "stderr",
     "output_type": "stream",
     "text": [
      "2021-07-28 01:12:16 INFO     build_posterior_wrapper took 0.003004 seconds\n",
      "2021-07-28 01:12:16 INFO     TPE using 64/64 trials with best loss 2.381752\n"
     ]
    },
    {
     "name": "stdout",
     "output_type": "stream",
     "text": [
      "{'Base': DecisionTreeRegressor(criterion='friedman_mse', max_leaf_nodes=63,                                                                                 \n",
      "                      min_samples_split=3, random_state=1), 'col_sample': 0.8, 'learning_rate': 0.001, 'minibatch_frac': 0.8, 'n_estimators': 10000000, 'verbose_eval': 100, 'random_state': 13}\n",
      "[iter 0] loss=3.8347 val_loss=3.8420 scale=2.0000 norm=18.2020                                                                                              \n",
      "[iter 100] loss=3.6259 val_loss=3.6293 scale=2.0000 norm=15.2158                                                                                            \n",
      "[iter 200] loss=3.4921 val_loss=3.4975 scale=2.0000 norm=12.7860                                                                                            \n",
      "[iter 300] loss=3.3846 val_loss=3.3913 scale=2.0000 norm=10.8498                                                                                            \n",
      "[iter 400] loss=3.2918 val_loss=3.2972 scale=2.0000 norm=9.3998                                                                                             \n",
      "[iter 500] loss=3.2046 val_loss=3.2103 scale=2.0000 norm=8.2408                                                                                             \n",
      "[iter 600] loss=3.1181 val_loss=3.1283 scale=2.0000 norm=7.2416                                                                                             \n",
      "[iter 700] loss=3.0404 val_loss=3.0509 scale=2.0000 norm=6.5395                                                                                             \n",
      "[iter 800] loss=2.9639 val_loss=2.9778 scale=2.0000 norm=5.9397                                                                                             \n",
      "[iter 900] loss=2.8925 val_loss=2.9088 scale=2.0000 norm=5.5109                                                                                             \n",
      "[iter 1000] loss=2.8255 val_loss=2.8441 scale=2.0000 norm=5.1783                                                                                            \n",
      "[iter 1100] loss=2.7608 val_loss=2.7839 scale=2.0000 norm=4.9024                                                                                            \n",
      "[iter 1200] loss=2.6996 val_loss=2.7285 scale=2.0000 norm=4.6706                                                                                            \n",
      "[iter 1300] loss=2.6428 val_loss=2.6778 scale=2.0000 norm=4.5300                                                                                            \n",
      "[iter 1400] loss=2.5901 val_loss=2.6318 scale=2.0000 norm=4.4069                                                                                            \n",
      "[iter 1500] loss=2.5418 val_loss=2.5906 scale=2.0000 norm=4.2950                                                                                            \n",
      "[iter 1600] loss=2.4964 val_loss=2.5539 scale=2.0000 norm=4.2135                                                                                            \n",
      "[iter 1700] loss=2.4528 val_loss=2.5219 scale=2.0000 norm=4.1411                                                                                            \n",
      "[iter 1800] loss=2.4147 val_loss=2.4938 scale=2.0000 norm=4.0914                                                                                            \n",
      "[iter 1900] loss=2.3793 val_loss=2.4699 scale=2.0000 norm=4.0513                                                                                            \n",
      "[iter 2000] loss=2.3456 val_loss=2.4495 scale=2.0000 norm=4.0053                                                                                            \n",
      "[iter 2100] loss=2.3145 val_loss=2.4321 scale=2.0000 norm=3.9609                                                                                            \n",
      "[iter 2200] loss=2.2861 val_loss=2.4181 scale=2.0000 norm=3.9285                                                                                            \n",
      "[iter 2300] loss=2.2590 val_loss=2.4069 scale=2.0000 norm=3.8979                                                                                            \n",
      "[iter 2400] loss=2.2360 val_loss=2.3982 scale=2.0000 norm=3.8779                                                                                            \n",
      "[iter 2500] loss=2.2133 val_loss=2.3915 scale=2.0000 norm=3.8440                                                                                            \n",
      "[iter 2600] loss=2.1938 val_loss=2.3869 scale=2.0000 norm=3.8319                                                                                            \n",
      "[iter 2700] loss=2.1715 val_loss=2.3842 scale=2.0000 norm=3.7929                                                                                            \n",
      "[iter 2800] loss=2.1565 val_loss=2.3832 scale=2.0000 norm=3.7833                                                                                            \n",
      "== Early stopping achieved.                                                                                                                                 \n",
      "== Best iteration / VAL2805 (val_loss=2.3831)                                                                                                               \n",
      " 64%|███████████████████████████████████████████████████▏                            | 64/100 [1:53:00<1:18:17, 130.49s/trial, best loss: 2.381752374746717]"
     ]
    },
    {
     "name": "stderr",
     "output_type": "stream",
     "text": [
      "2021-07-28 01:18:53 INFO     {'Base': DecisionTreeRegressor(criterion='friedman_mse', max_leaf_nodes=63,\n",
      "                      min_samples_split=3, random_state=1), 'col_sample': 0.8, 'learning_rate': 0.001, 'minibatch_frac': 0.8, 'n_estimators': 10000000, 'verbose_eval': 100, 'random_state': 13}\n"
     ]
    },
    {
     "name": "stdout",
     "output_type": "stream",
     "text": [
      "\r",
      " 65%|████████████████████████████████████████████████████                            | 65/100 [1:53:00<2:02:37, 210.21s/trial, best loss: 2.381752374746717]"
     ]
    },
    {
     "name": "stderr",
     "output_type": "stream",
     "text": [
      "2021-07-28 01:18:53 INFO     build_posterior_wrapper took 0.002998 seconds\n",
      "2021-07-28 01:18:53 INFO     TPE using 65/65 trials with best loss 2.381752\n"
     ]
    },
    {
     "name": "stdout",
     "output_type": "stream",
     "text": [
      "{'Base': DecisionTreeRegressor(criterion='friedman_mse', max_leaf_nodes=63,                                                                                 \n",
      "                      min_samples_split=3, random_state=1), 'col_sample': 0.8, 'learning_rate': 0.001, 'minibatch_frac': 0.8, 'n_estimators': 10000000, 'verbose_eval': 100, 'random_state': 13}\n",
      "[iter 0] loss=3.8347 val_loss=3.8420 scale=2.0000 norm=18.2020                                                                                              \n",
      "[iter 100] loss=3.6259 val_loss=3.6293 scale=2.0000 norm=15.2158                                                                                            \n",
      "[iter 200] loss=3.4921 val_loss=3.4975 scale=2.0000 norm=12.7860                                                                                            \n",
      "[iter 300] loss=3.3846 val_loss=3.3913 scale=2.0000 norm=10.8498                                                                                            \n",
      "[iter 400] loss=3.2918 val_loss=3.2972 scale=2.0000 norm=9.3998                                                                                             \n",
      "[iter 500] loss=3.2046 val_loss=3.2103 scale=2.0000 norm=8.2408                                                                                             \n",
      "[iter 600] loss=3.1181 val_loss=3.1283 scale=2.0000 norm=7.2416                                                                                             \n",
      "[iter 700] loss=3.0404 val_loss=3.0509 scale=2.0000 norm=6.5395                                                                                             \n",
      "[iter 800] loss=2.9639 val_loss=2.9778 scale=2.0000 norm=5.9397                                                                                             \n",
      "[iter 900] loss=2.8925 val_loss=2.9088 scale=2.0000 norm=5.5109                                                                                             \n",
      "[iter 1000] loss=2.8255 val_loss=2.8441 scale=2.0000 norm=5.1783                                                                                            \n",
      "[iter 1100] loss=2.7608 val_loss=2.7839 scale=2.0000 norm=4.9024                                                                                            \n",
      "[iter 1200] loss=2.6996 val_loss=2.7285 scale=2.0000 norm=4.6706                                                                                            \n",
      "[iter 1300] loss=2.6428 val_loss=2.6778 scale=2.0000 norm=4.5300                                                                                            \n",
      "[iter 1400] loss=2.5901 val_loss=2.6318 scale=2.0000 norm=4.4069                                                                                            \n",
      "[iter 1500] loss=2.5418 val_loss=2.5906 scale=2.0000 norm=4.2950                                                                                            \n",
      "[iter 1600] loss=2.4964 val_loss=2.5539 scale=2.0000 norm=4.2135                                                                                            \n",
      "[iter 1700] loss=2.4528 val_loss=2.5219 scale=2.0000 norm=4.1411                                                                                            \n",
      "[iter 1800] loss=2.4147 val_loss=2.4938 scale=2.0000 norm=4.0914                                                                                            \n",
      "[iter 1900] loss=2.3793 val_loss=2.4699 scale=2.0000 norm=4.0513                                                                                            \n",
      "[iter 2000] loss=2.3456 val_loss=2.4495 scale=2.0000 norm=4.0053                                                                                            \n",
      "[iter 2100] loss=2.3145 val_loss=2.4321 scale=2.0000 norm=3.9609                                                                                            \n",
      "[iter 2200] loss=2.2861 val_loss=2.4181 scale=2.0000 norm=3.9285                                                                                            \n",
      "[iter 2300] loss=2.2590 val_loss=2.4069 scale=2.0000 norm=3.8979                                                                                            \n",
      "[iter 2400] loss=2.2360 val_loss=2.3982 scale=2.0000 norm=3.8779                                                                                            \n",
      "[iter 2500] loss=2.2133 val_loss=2.3915 scale=2.0000 norm=3.8440                                                                                            \n",
      "[iter 2600] loss=2.1938 val_loss=2.3869 scale=2.0000 norm=3.8319                                                                                            \n",
      "[iter 2700] loss=2.1715 val_loss=2.3842 scale=2.0000 norm=3.7929                                                                                            \n",
      "[iter 2800] loss=2.1565 val_loss=2.3832 scale=2.0000 norm=3.7833                                                                                            \n",
      "== Early stopping achieved.                                                                                                                                 \n",
      "== Best iteration / VAL2805 (val_loss=2.3831)                                                                                                               \n",
      " 65%|████████████████████████████████████████████████████                            | 65/100 [1:59:36<2:02:37, 210.21s/trial, best loss: 2.381752374746717]"
     ]
    },
    {
     "name": "stderr",
     "output_type": "stream",
     "text": [
      "2021-07-28 01:25:28 INFO     {'Base': DecisionTreeRegressor(criterion='friedman_mse', max_leaf_nodes=63,\n",
      "                      min_samples_split=3, random_state=1), 'col_sample': 0.8, 'learning_rate': 0.001, 'minibatch_frac': 0.8, 'n_estimators': 10000000, 'verbose_eval': 100, 'random_state': 13}\n"
     ]
    },
    {
     "name": "stdout",
     "output_type": "stream",
     "text": [
      "\r",
      " 66%|████████████████████████████████████████████████████▊                           | 66/100 [1:59:36<2:30:39, 265.86s/trial, best loss: 2.381752374746717]"
     ]
    },
    {
     "name": "stderr",
     "output_type": "stream",
     "text": [
      "2021-07-28 01:25:28 INFO     build_posterior_wrapper took 0.001999 seconds\n",
      "2021-07-28 01:25:28 INFO     TPE using 66/66 trials with best loss 2.381752\n"
     ]
    },
    {
     "name": "stdout",
     "output_type": "stream",
     "text": [
      "{'Base': DecisionTreeRegressor(criterion='friedman_mse', max_leaf_nodes=63,                                                                                 \n",
      "                      min_samples_split=3, random_state=1), 'col_sample': 0.9, 'learning_rate': 0.001, 'minibatch_frac': 0.8, 'n_estimators': 10000000, 'verbose_eval': 100, 'random_state': 13}\n",
      "[iter 0] loss=3.8347 val_loss=3.8420 scale=2.0000 norm=18.2020                                                                                              \n",
      "[iter 100] loss=3.6251 val_loss=3.6287 scale=2.0000 norm=15.2003                                                                                            \n",
      "[iter 200] loss=3.4910 val_loss=3.4967 scale=2.0000 norm=12.7612                                                                                            \n",
      "[iter 300] loss=3.3834 val_loss=3.3905 scale=2.0000 norm=10.8241                                                                                            \n",
      "[iter 400] loss=3.2903 val_loss=3.2960 scale=2.0000 norm=9.3665                                                                                             \n",
      "[iter 500] loss=3.2028 val_loss=3.2090 scale=2.0000 norm=8.2038                                                                                             \n",
      "[iter 600] loss=3.1165 val_loss=3.1271 scale=2.0000 norm=7.2134                                                                                             \n",
      "[iter 700] loss=3.0389 val_loss=3.0500 scale=2.0000 norm=6.5181                                                                                             \n",
      "[iter 800] loss=2.9623 val_loss=2.9770 scale=2.0000 norm=5.9197                                                                                             \n",
      "[iter 900] loss=2.8909 val_loss=2.9082 scale=2.0000 norm=5.4935                                                                                             \n",
      "[iter 1000] loss=2.8242 val_loss=2.8439 scale=2.0000 norm=5.1668                                                                                            \n",
      "[iter 1100] loss=2.7596 val_loss=2.7841 scale=2.0000 norm=4.8944                                                                                            \n",
      "[iter 1200] loss=2.6986 val_loss=2.7291 scale=2.0000 norm=4.6655                                                                                            \n",
      "[iter 1300] loss=2.6419 val_loss=2.6788 scale=2.0000 norm=4.5264                                                                                            \n",
      "[iter 1400] loss=2.5894 val_loss=2.6332 scale=2.0000 norm=4.4060                                                                                            \n",
      "[iter 1500] loss=2.5410 val_loss=2.5925 scale=2.0000 norm=4.2929                                                                                            \n",
      "[iter 1600] loss=2.4955 val_loss=2.5562 scale=2.0000 norm=4.2110                                                                                            \n",
      "[iter 1700] loss=2.4518 val_loss=2.5244 scale=2.0000 norm=4.1394                                                                                            \n",
      "[iter 1800] loss=2.4138 val_loss=2.4968 scale=2.0000 norm=4.0906                                                                                            \n",
      "[iter 1900] loss=2.3781 val_loss=2.4730 scale=2.0000 norm=4.0488                                                                                            \n",
      "[iter 2000] loss=2.3442 val_loss=2.4530 scale=2.0000 norm=4.0024                                                                                            \n",
      "[iter 2100] loss=2.3131 val_loss=2.4364 scale=2.0000 norm=3.9588                                                                                            \n",
      "[iter 2200] loss=2.2843 val_loss=2.4225 scale=2.0000 norm=3.9249                                                                                            \n",
      "[iter 2300] loss=2.2571 val_loss=2.4118 scale=2.0000 norm=3.8946                                                                                            \n",
      "[iter 2400] loss=2.2340 val_loss=2.4034 scale=2.0000 norm=3.8749                                                                                            \n",
      "[iter 2500] loss=2.2115 val_loss=2.3972 scale=2.0000 norm=3.8423                                                                                            \n",
      "[iter 2600] loss=2.1917 val_loss=2.3928 scale=2.0000 norm=3.8289                                                                                            \n",
      "[iter 2700] loss=2.1692 val_loss=2.3902 scale=2.0000 norm=3.7890                                                                                            \n",
      "== Early stopping achieved.                                                                                                                                 \n",
      "== Best iteration / VAL2771 (val_loss=2.3895)                                                                                                               \n",
      " 66%|████████████████████████████████████████████████████▊                           | 66/100 [2:06:53<2:30:39, 265.86s/trial, best loss: 2.381752374746717]"
     ]
    },
    {
     "name": "stderr",
     "output_type": "stream",
     "text": [
      "2021-07-28 01:32:45 INFO     {'Base': DecisionTreeRegressor(criterion='friedman_mse', max_leaf_nodes=63,\n",
      "                      min_samples_split=3, random_state=1), 'col_sample': 0.9, 'learning_rate': 0.001, 'minibatch_frac': 0.8, 'n_estimators': 10000000, 'verbose_eval': 100, 'random_state': 13}\n"
     ]
    },
    {
     "name": "stdout",
     "output_type": "stream",
     "text": [
      "\r",
      " 67%|█████████████████████████████████████████████████████▌                          | 67/100 [2:06:53<2:54:27, 317.20s/trial, best loss: 2.381752374746717]"
     ]
    },
    {
     "name": "stderr",
     "output_type": "stream",
     "text": [
      "2021-07-28 01:32:45 INFO     build_posterior_wrapper took 0.003032 seconds\n",
      "2021-07-28 01:32:45 INFO     TPE using 67/67 trials with best loss 2.381752\n"
     ]
    },
    {
     "name": "stdout",
     "output_type": "stream",
     "text": [
      "{'Base': DecisionTreeRegressor(criterion='friedman_mse', max_leaf_nodes=63,                                                                                 \n",
      "                      min_samples_split=3, random_state=1), 'col_sample': 0.8, 'learning_rate': 0.001, 'minibatch_frac': 0.8, 'n_estimators': 10000000, 'verbose_eval': 100, 'random_state': 13}\n",
      "[iter 0] loss=3.8347 val_loss=3.8420 scale=2.0000 norm=18.2020                                                                                              \n",
      "[iter 100] loss=3.6259 val_loss=3.6293 scale=2.0000 norm=15.2158                                                                                            \n",
      "[iter 200] loss=3.4921 val_loss=3.4975 scale=2.0000 norm=12.7860                                                                                            \n",
      "[iter 300] loss=3.3846 val_loss=3.3913 scale=2.0000 norm=10.8498                                                                                            \n",
      "[iter 400] loss=3.2918 val_loss=3.2972 scale=2.0000 norm=9.3998                                                                                             \n",
      "[iter 500] loss=3.2046 val_loss=3.2103 scale=2.0000 norm=8.2408                                                                                             \n",
      "[iter 600] loss=3.1181 val_loss=3.1283 scale=2.0000 norm=7.2416                                                                                             \n",
      "[iter 700] loss=3.0404 val_loss=3.0509 scale=2.0000 norm=6.5395                                                                                             \n",
      "[iter 800] loss=2.9639 val_loss=2.9778 scale=2.0000 norm=5.9397                                                                                             \n",
      "[iter 900] loss=2.8925 val_loss=2.9088 scale=2.0000 norm=5.5109                                                                                             \n",
      "[iter 1000] loss=2.8255 val_loss=2.8441 scale=2.0000 norm=5.1783                                                                                            \n",
      "[iter 1100] loss=2.7608 val_loss=2.7839 scale=2.0000 norm=4.9024                                                                                            \n",
      "[iter 1200] loss=2.6996 val_loss=2.7285 scale=2.0000 norm=4.6706                                                                                            \n",
      "[iter 1300] loss=2.6428 val_loss=2.6778 scale=2.0000 norm=4.5300                                                                                            \n",
      "[iter 1400] loss=2.5901 val_loss=2.6318 scale=2.0000 norm=4.4069                                                                                            \n",
      "[iter 1500] loss=2.5418 val_loss=2.5906 scale=2.0000 norm=4.2950                                                                                            \n",
      "[iter 1600] loss=2.4964 val_loss=2.5539 scale=2.0000 norm=4.2135                                                                                            \n",
      "[iter 1700] loss=2.4528 val_loss=2.5219 scale=2.0000 norm=4.1411                                                                                            \n",
      "[iter 1800] loss=2.4147 val_loss=2.4938 scale=2.0000 norm=4.0914                                                                                            \n",
      "[iter 1900] loss=2.3793 val_loss=2.4699 scale=2.0000 norm=4.0513                                                                                            \n",
      "[iter 2000] loss=2.3456 val_loss=2.4495 scale=2.0000 norm=4.0053                                                                                            \n",
      "[iter 2100] loss=2.3145 val_loss=2.4321 scale=2.0000 norm=3.9609                                                                                            \n",
      "[iter 2200] loss=2.2861 val_loss=2.4181 scale=2.0000 norm=3.9285                                                                                            \n",
      "[iter 2300] loss=2.2590 val_loss=2.4069 scale=2.0000 norm=3.8979                                                                                            \n",
      "[iter 2400] loss=2.2360 val_loss=2.3982 scale=2.0000 norm=3.8779                                                                                            \n",
      "[iter 2500] loss=2.2133 val_loss=2.3915 scale=2.0000 norm=3.8440                                                                                            \n",
      "[iter 2600] loss=2.1938 val_loss=2.3869 scale=2.0000 norm=3.8319                                                                                            \n",
      "[iter 2700] loss=2.1715 val_loss=2.3842 scale=2.0000 norm=3.7929                                                                                            \n",
      "[iter 2800] loss=2.1565 val_loss=2.3832 scale=2.0000 norm=3.7833                                                                                            \n",
      "== Early stopping achieved.                                                                                                                                 \n",
      "== Best iteration / VAL2805 (val_loss=2.3831)                                                                                                               \n",
      " 67%|█████████████████████████████████████████████████████▌                          | 67/100 [2:13:28<2:54:27, 317.20s/trial, best loss: 2.381752374746717]"
     ]
    },
    {
     "name": "stderr",
     "output_type": "stream",
     "text": [
      "2021-07-28 01:39:20 INFO     {'Base': DecisionTreeRegressor(criterion='friedman_mse', max_leaf_nodes=63,\n",
      "                      min_samples_split=3, random_state=1), 'col_sample': 0.8, 'learning_rate': 0.001, 'minibatch_frac': 0.8, 'n_estimators': 10000000, 'verbose_eval': 100, 'random_state': 13}\n"
     ]
    },
    {
     "name": "stdout",
     "output_type": "stream",
     "text": [
      "\r",
      " 68%|██████████████████████████████████████████████████████▍                         | 68/100 [2:13:28<3:01:37, 340.55s/trial, best loss: 2.381752374746717]"
     ]
    },
    {
     "name": "stderr",
     "output_type": "stream",
     "text": [
      "2021-07-28 01:39:20 INFO     build_posterior_wrapper took 0.001999 seconds\n",
      "2021-07-28 01:39:20 INFO     TPE using 68/68 trials with best loss 2.381752\n"
     ]
    },
    {
     "name": "stdout",
     "output_type": "stream",
     "text": [
      "{'Base': DecisionTreeRegressor(criterion='friedman_mse', max_leaf_nodes=63,                                                                                 \n",
      "                      min_samples_split=3, random_state=1), 'col_sample': 0.9, 'learning_rate': 0.001, 'minibatch_frac': 0.9, 'n_estimators': 10000000, 'verbose_eval': 100, 'random_state': 13}\n",
      "[iter 0] loss=3.8335 val_loss=3.8420 scale=2.0000 norm=18.1602                                                                                              \n",
      "[iter 100] loss=3.6249 val_loss=3.6287 scale=2.0000 norm=15.2004                                                                                            \n",
      "[iter 200] loss=3.4908 val_loss=3.4967 scale=2.0000 norm=12.7543                                                                                            \n",
      "[iter 300] loss=3.3848 val_loss=3.3904 scale=2.0000 norm=10.8682                                                                                            \n",
      "[iter 400] loss=3.2909 val_loss=3.2961 scale=2.0000 norm=9.3881                                                                                             \n",
      "[iter 500] loss=3.2018 val_loss=3.2090 scale=2.0000 norm=8.1834                                                                                             \n",
      "[iter 600] loss=3.1172 val_loss=3.1271 scale=2.0000 norm=7.2218                                                                                             \n",
      "[iter 700] loss=3.0390 val_loss=3.0501 scale=2.0000 norm=6.5136                                                                                             \n",
      "[iter 800] loss=2.9629 val_loss=2.9772 scale=2.0000 norm=5.9305                                                                                             \n",
      "[iter 900] loss=2.8922 val_loss=2.9085 scale=2.0000 norm=5.5049                                                                                             \n",
      "[iter 1000] loss=2.8250 val_loss=2.8443 scale=2.0000 norm=5.1836                                                                                            \n",
      "[iter 1100] loss=2.7595 val_loss=2.7845 scale=2.0000 norm=4.8860                                                                                            \n",
      "[iter 1200] loss=2.6999 val_loss=2.7295 scale=2.0000 norm=4.6889                                                                                            \n",
      "[iter 1300] loss=2.6425 val_loss=2.6792 scale=2.0000 norm=4.5219                                                                                            \n",
      "[iter 1400] loss=2.5904 val_loss=2.6337 scale=2.0000 norm=4.4045                                                                                            \n",
      "[iter 1500] loss=2.5419 val_loss=2.5931 scale=2.0000 norm=4.3038                                                                                            \n",
      "[iter 1600] loss=2.4960 val_loss=2.5568 scale=2.0000 norm=4.2134                                                                                            \n",
      "[iter 1700] loss=2.4524 val_loss=2.5249 scale=2.0000 norm=4.1437                                                                                            \n",
      "[iter 1800] loss=2.4159 val_loss=2.4975 scale=2.0000 norm=4.1051                                                                                            \n",
      "[iter 1900] loss=2.3778 val_loss=2.4739 scale=2.0000 norm=4.0415                                                                                            \n",
      "[iter 2000] loss=2.3455 val_loss=2.4541 scale=2.0000 norm=4.0080                                                                                            \n",
      "[iter 2100] loss=2.3155 val_loss=2.4374 scale=2.0000 norm=3.9774                                                                                            \n",
      "[iter 2200] loss=2.2856 val_loss=2.4236 scale=2.0000 norm=3.9336                                                                                            \n",
      "[iter 2300] loss=2.2612 val_loss=2.4127 scale=2.0000 norm=3.9189                                                                                            \n",
      "[iter 2400] loss=2.2339 val_loss=2.4040 scale=2.0000 norm=3.8710                                                                                            \n",
      "[iter 2500] loss=2.2119 val_loss=2.3977 scale=2.0000 norm=3.8441                                                                                            \n",
      "[iter 2600] loss=2.1918 val_loss=2.3932 scale=2.0000 norm=3.8249                                                                                            \n",
      "[iter 2700] loss=2.1701 val_loss=2.3907 scale=2.0000 norm=3.7894                                                                                            \n",
      "[iter 2800] loss=2.1543 val_loss=2.3897 scale=2.0000 norm=3.7786                                                                                            \n",
      "== Early stopping achieved.                                                                                                                                 \n",
      "== Best iteration / VAL2820 (val_loss=2.3895)                                                                                                               \n",
      " 68%|██████████████████████████████████████████████████████▍                         | 68/100 [2:21:48<3:01:37, 340.55s/trial, best loss: 2.381752374746717]"
     ]
    },
    {
     "name": "stderr",
     "output_type": "stream",
     "text": [
      "2021-07-28 01:47:40 INFO     {'Base': DecisionTreeRegressor(criterion='friedman_mse', max_leaf_nodes=63,\n",
      "                      min_samples_split=3, random_state=1), 'col_sample': 0.9, 'learning_rate': 0.001, 'minibatch_frac': 0.9, 'n_estimators': 10000000, 'verbose_eval': 100, 'random_state': 13}\n"
     ]
    },
    {
     "name": "stdout",
     "output_type": "stream",
     "text": [
      "\r",
      " 69%|███████████████████████████████████████████████████████▏                        | 69/100 [2:21:48<3:20:36, 388.26s/trial, best loss: 2.381752374746717]"
     ]
    },
    {
     "name": "stderr",
     "output_type": "stream",
     "text": [
      "2021-07-28 01:47:40 INFO     build_posterior_wrapper took 0.002985 seconds\n",
      "2021-07-28 01:47:40 INFO     TPE using 69/69 trials with best loss 2.381752\n"
     ]
    },
    {
     "name": "stdout",
     "output_type": "stream",
     "text": [
      "{'Base': DecisionTreeRegressor(criterion='friedman_mse', max_leaf_nodes=63,                                                                                 \n",
      "                      min_samples_split=3, random_state=1), 'col_sample': 0.8, 'learning_rate': 0.002, 'minibatch_frac': 0.8, 'n_estimators': 10000000, 'verbose_eval': 100, 'random_state': 13}\n",
      "[iter 0] loss=3.8347 val_loss=3.8388 scale=2.0000 norm=18.2020                                                                                              \n",
      "[iter 100] loss=3.4937 val_loss=3.4961 scale=2.0000 norm=12.8145                                                                                            \n",
      "[iter 200] loss=3.2899 val_loss=3.2958 scale=2.0000 norm=9.3592                                                                                             \n",
      "[iter 300] loss=3.1177 val_loss=3.1268 scale=2.0000 norm=7.2245                                                                                             \n",
      "[iter 400] loss=2.9642 val_loss=2.9765 scale=2.0000 norm=5.9385                                                                                             \n",
      "[iter 500] loss=2.8251 val_loss=2.8431 scale=2.0000 norm=5.1691                                                                                             \n",
      "[iter 600] loss=2.6975 val_loss=2.7275 scale=2.0000 norm=4.6552                                                                                             \n",
      "[iter 700] loss=2.5906 val_loss=2.6309 scale=2.0000 norm=4.3953                                                                                             \n",
      "[iter 800] loss=2.4945 val_loss=2.5528 scale=2.0000 norm=4.2086                                                                                             \n",
      "[iter 900] loss=2.4143 val_loss=2.4928 scale=2.0000 norm=4.0960                                                                                             \n",
      "[iter 1000] loss=2.3464 val_loss=2.4482 scale=2.0000 norm=4.0165                                                                                            \n",
      "[iter 1100] loss=2.2852 val_loss=2.4175 scale=2.0000 norm=3.9283                                                                                            \n",
      "[iter 1200] loss=2.2335 val_loss=2.3979 scale=2.0000 norm=3.8609                                                                                            \n",
      "[iter 1300] loss=2.1941 val_loss=2.3869 scale=2.0000 norm=3.8326                                                                                            \n",
      "[iter 1400] loss=2.1584 val_loss=2.3832 scale=2.0000 norm=3.7864                                                                                            \n",
      "== Early stopping achieved.                                                                                                                                 \n",
      "== Best iteration / VAL1408 (val_loss=2.3831)                                                                                                               \n",
      " 69%|███████████████████████████████████████████████████████▏                        | 69/100 [2:25:08<3:20:36, 388.26s/trial, best loss: 2.381752374746717]"
     ]
    },
    {
     "name": "stderr",
     "output_type": "stream",
     "text": [
      "2021-07-28 01:51:00 INFO     {'Base': DecisionTreeRegressor(criterion='friedman_mse', max_leaf_nodes=63,\n",
      "                      min_samples_split=3, random_state=1), 'col_sample': 0.8, 'learning_rate': 0.002, 'minibatch_frac': 0.8, 'n_estimators': 10000000, 'verbose_eval': 100, 'random_state': 13}\n"
     ]
    },
    {
     "name": "stdout",
     "output_type": "stream",
     "text": [
      "\r",
      " 70%|████████████████████████████████████████████████████████                        | 70/100 [2:25:08<2:45:52, 331.76s/trial, best loss: 2.381752374746717]"
     ]
    },
    {
     "name": "stderr",
     "output_type": "stream",
     "text": [
      "2021-07-28 01:51:00 INFO     build_posterior_wrapper took 0.001963 seconds\n",
      "2021-07-28 01:51:00 INFO     TPE using 70/70 trials with best loss 2.381752\n"
     ]
    },
    {
     "name": "stdout",
     "output_type": "stream",
     "text": [
      "{'Base': DecisionTreeRegressor(criterion='friedman_mse', max_leaf_nodes=63,                                                                                 \n",
      "                      min_samples_split=3, random_state=1), 'col_sample': 0.8, 'learning_rate': 0.002, 'minibatch_frac': 0.7000000000000001, 'n_estimators': 10000000, 'verbose_eval': 100, 'random_state': 13}\n",
      "[iter 0] loss=3.8314 val_loss=3.8388 scale=2.0000 norm=18.1206                                                                                              \n",
      "[iter 100] loss=3.4941 val_loss=3.4962 scale=2.0000 norm=12.8343                                                                                            \n",
      "[iter 200] loss=3.2903 val_loss=3.2959 scale=2.0000 norm=9.3761                                                                                             \n",
      "[iter 300] loss=3.1191 val_loss=3.1272 scale=2.0000 norm=7.2496                                                                                             \n",
      "[iter 400] loss=2.9644 val_loss=2.9769 scale=2.0000 norm=5.9418                                                                                             \n",
      "[iter 500] loss=2.8254 val_loss=2.8437 scale=2.0000 norm=5.1748                                                                                             \n",
      "[iter 600] loss=2.6961 val_loss=2.7281 scale=2.0000 norm=4.6418                                                                                             \n",
      "[iter 700] loss=2.5895 val_loss=2.6317 scale=2.0000 norm=4.3926                                                                                             \n",
      "[iter 800] loss=2.4974 val_loss=2.5543 scale=2.0000 norm=4.2335                                                                                             \n",
      "[iter 900] loss=2.4133 val_loss=2.4945 scale=2.0000 norm=4.0870                                                                                             \n",
      "[iter 1000] loss=2.3469 val_loss=2.4499 scale=2.0000 norm=4.0203                                                                                            \n",
      "[iter 1100] loss=2.2889 val_loss=2.4186 scale=2.0000 norm=3.9552                                                                                            \n",
      "[iter 1200] loss=2.2335 val_loss=2.3990 scale=2.0000 norm=3.8600                                                                                            \n",
      "[iter 1300] loss=2.1968 val_loss=2.3887 scale=2.0000 norm=3.8480                                                                                            \n",
      "[iter 1400] loss=2.1578 val_loss=2.3854 scale=2.0000 norm=3.7848                                                                                            \n",
      "== Early stopping achieved.                                                                                                                                 \n",
      "== Best iteration / VAL1416 (val_loss=2.3852)                                                                                                               \n",
      " 70%|████████████████████████████████████████████████████████                        | 70/100 [2:28:10<2:45:52, 331.76s/trial, best loss: 2.381752374746717]"
     ]
    },
    {
     "name": "stderr",
     "output_type": "stream",
     "text": [
      "2021-07-28 01:54:02 INFO     {'Base': DecisionTreeRegressor(criterion='friedman_mse', max_leaf_nodes=63,\n",
      "                      min_samples_split=3, random_state=1), 'col_sample': 0.8, 'learning_rate': 0.002, 'minibatch_frac': 0.7000000000000001, 'n_estimators': 10000000, 'verbose_eval': 100, 'random_state': 13}\n"
     ]
    },
    {
     "name": "stdout",
     "output_type": "stream",
     "text": [
      "\r",
      " 71%|████████████████████████████████████████████████████████▊                       | 71/100 [2:28:10<2:18:37, 286.81s/trial, best loss: 2.381752374746717]"
     ]
    },
    {
     "name": "stderr",
     "output_type": "stream",
     "text": [
      "2021-07-28 01:54:02 INFO     build_posterior_wrapper took 0.002033 seconds\n",
      "2021-07-28 01:54:02 INFO     TPE using 71/71 trials with best loss 2.381752\n"
     ]
    },
    {
     "name": "stdout",
     "output_type": "stream",
     "text": [
      "{'Base': DecisionTreeRegressor(criterion='friedman_mse', max_leaf_nodes=63,                                                                                 \n",
      "                      min_samples_split=3, random_state=1), 'col_sample': 0.8, 'learning_rate': 0.002, 'minibatch_frac': 0.9, 'n_estimators': 10000000, 'verbose_eval': 100, 'random_state': 13}\n",
      "[iter 0] loss=3.8335 val_loss=3.8388 scale=2.0000 norm=18.1602                                                                                              \n",
      "[iter 100] loss=3.4936 val_loss=3.4960 scale=2.0000 norm=12.8155                                                                                            \n",
      "[iter 200] loss=3.2898 val_loss=3.2958 scale=2.0000 norm=9.3514                                                                                             \n",
      "[iter 300] loss=3.1188 val_loss=3.1269 scale=2.0000 norm=7.2506                                                                                             \n",
      "[iter 400] loss=2.9650 val_loss=2.9767 scale=2.0000 norm=5.9566                                                                                             \n",
      "[iter 500] loss=2.8253 val_loss=2.8434 scale=2.0000 norm=5.1822                                                                                             \n",
      "[iter 600] loss=2.6982 val_loss=2.7279 scale=2.0000 norm=4.6608                                                                                             \n",
      "[iter 700] loss=2.5908 val_loss=2.6314 scale=2.0000 norm=4.3972                                                                                             \n",
      "[iter 800] loss=2.4951 val_loss=2.5537 scale=2.0000 norm=4.2098                                                                                             \n",
      "[iter 900] loss=2.4157 val_loss=2.4937 scale=2.0000 norm=4.1009                                                                                             \n",
      "[iter 1000] loss=2.3480 val_loss=2.4494 scale=2.0000 norm=4.0255                                                                                            \n",
      "[iter 1100] loss=2.2854 val_loss=2.4187 scale=2.0000 norm=3.9263                                                                                            \n",
      "[iter 1200] loss=2.2360 val_loss=2.3990 scale=2.0000 norm=3.8777                                                                                            \n",
      "[iter 1300] loss=2.1932 val_loss=2.3879 scale=2.0000 norm=3.8259                                                                                            \n",
      "[iter 1400] loss=2.1572 val_loss=2.3837 scale=2.0000 norm=3.7824                                                                                            \n",
      "== Early stopping achieved.                                                                                                                                 \n",
      "== Best iteration / VAL1410 (val_loss=2.3836)                                                                                                               \n",
      " 71%|████████████████████████████████████████████████████████▊                       | 71/100 [2:31:50<2:18:37, 286.81s/trial, best loss: 2.381752374746717]"
     ]
    },
    {
     "name": "stderr",
     "output_type": "stream",
     "text": [
      "2021-07-28 01:57:43 INFO     {'Base': DecisionTreeRegressor(criterion='friedman_mse', max_leaf_nodes=63,\n",
      "                      min_samples_split=3, random_state=1), 'col_sample': 0.8, 'learning_rate': 0.002, 'minibatch_frac': 0.9, 'n_estimators': 10000000, 'verbose_eval': 100, 'random_state': 13}\n"
     ]
    },
    {
     "name": "stdout",
     "output_type": "stream",
     "text": [
      "\r",
      " 72%|█████████████████████████████████████████████████████████▌                      | 72/100 [2:31:50<2:04:36, 267.02s/trial, best loss: 2.381752374746717]"
     ]
    },
    {
     "name": "stderr",
     "output_type": "stream",
     "text": [
      "2021-07-28 01:57:43 INFO     build_posterior_wrapper took 0.002002 seconds\n",
      "2021-07-28 01:57:43 INFO     TPE using 72/72 trials with best loss 2.381752\n"
     ]
    },
    {
     "name": "stdout",
     "output_type": "stream",
     "text": [
      "{'Base': DecisionTreeRegressor(criterion='friedman_mse', max_leaf_nodes=63,                                                                                 \n",
      "                      min_samples_split=3, random_state=1), 'col_sample': 0.8, 'learning_rate': 0.002, 'minibatch_frac': 0.8, 'n_estimators': 10000000, 'verbose_eval': 100, 'random_state': 13}\n",
      "[iter 0] loss=3.8347 val_loss=3.8388 scale=2.0000 norm=18.2020                                                                                              \n",
      "[iter 100] loss=3.4937 val_loss=3.4961 scale=2.0000 norm=12.8145                                                                                            \n",
      "[iter 200] loss=3.2899 val_loss=3.2958 scale=2.0000 norm=9.3592                                                                                             \n",
      "[iter 300] loss=3.1177 val_loss=3.1268 scale=2.0000 norm=7.2245                                                                                             \n",
      "[iter 400] loss=2.9642 val_loss=2.9765 scale=2.0000 norm=5.9385                                                                                             \n",
      "[iter 500] loss=2.8251 val_loss=2.8431 scale=2.0000 norm=5.1691                                                                                             \n",
      "[iter 600] loss=2.6975 val_loss=2.7275 scale=2.0000 norm=4.6552                                                                                             \n",
      "[iter 700] loss=2.5906 val_loss=2.6309 scale=2.0000 norm=4.3953                                                                                             \n",
      "[iter 800] loss=2.4945 val_loss=2.5528 scale=2.0000 norm=4.2086                                                                                             \n",
      "[iter 900] loss=2.4143 val_loss=2.4928 scale=2.0000 norm=4.0960                                                                                             \n",
      "[iter 1000] loss=2.3464 val_loss=2.4482 scale=2.0000 norm=4.0165                                                                                            \n",
      "[iter 1100] loss=2.2852 val_loss=2.4175 scale=2.0000 norm=3.9283                                                                                            \n",
      "[iter 1200] loss=2.2335 val_loss=2.3979 scale=2.0000 norm=3.8609                                                                                            \n",
      "[iter 1300] loss=2.1941 val_loss=2.3869 scale=2.0000 norm=3.8326                                                                                            \n",
      "[iter 1400] loss=2.1584 val_loss=2.3832 scale=2.0000 norm=3.7864                                                                                            \n",
      "== Early stopping achieved.                                                                                                                                 \n",
      "== Best iteration / VAL1408 (val_loss=2.3831)                                                                                                               \n",
      " 72%|█████████████████████████████████████████████████████████▌                      | 72/100 [2:35:08<2:04:36, 267.02s/trial, best loss: 2.381752374746717]"
     ]
    },
    {
     "name": "stderr",
     "output_type": "stream",
     "text": [
      "2021-07-28 02:01:00 INFO     {'Base': DecisionTreeRegressor(criterion='friedman_mse', max_leaf_nodes=63,\n",
      "                      min_samples_split=3, random_state=1), 'col_sample': 0.8, 'learning_rate': 0.002, 'minibatch_frac': 0.8, 'n_estimators': 10000000, 'verbose_eval': 100, 'random_state': 13}\n"
     ]
    },
    {
     "name": "stdout",
     "output_type": "stream",
     "text": [
      "\r",
      " 73%|██████████████████████████████████████████████████████████▍                     | 73/100 [2:35:08<1:50:43, 246.06s/trial, best loss: 2.381752374746717]"
     ]
    },
    {
     "name": "stderr",
     "output_type": "stream",
     "text": [
      "2021-07-28 02:01:00 INFO     build_posterior_wrapper took 0.002005 seconds\n",
      "2021-07-28 02:01:00 INFO     TPE using 73/73 trials with best loss 2.381752\n"
     ]
    },
    {
     "name": "stdout",
     "output_type": "stream",
     "text": [
      "{'Base': DecisionTreeRegressor(criterion='friedman_mse', max_leaf_nodes=63,                                                                                 \n",
      "                      min_samples_split=3, random_state=1), 'col_sample': 0.9, 'learning_rate': 0.004, 'minibatch_frac': 0.7000000000000001, 'n_estimators': 10000000, 'verbose_eval': 100, 'random_state': 13}\n",
      "[iter 0] loss=3.8314 val_loss=3.8326 scale=2.0000 norm=18.1206                                                                                              \n",
      "[iter 100] loss=3.2903 val_loss=3.2929 scale=2.0000 norm=9.3657                                                                                             \n",
      "[iter 200] loss=2.9624 val_loss=2.9743 scale=2.0000 norm=5.9273                                                                                             \n",
      "[iter 300] loss=2.6996 val_loss=2.7270 scale=2.0000 norm=4.6934                                                                                             \n",
      "[iter 400] loss=2.4939 val_loss=2.5549 scale=2.0000 norm=4.2099                                                                                             \n",
      "[iter 500] loss=2.3452 val_loss=2.4517 scale=2.0000 norm=4.0115                                                                                             \n",
      "[iter 600] loss=2.2297 val_loss=2.4023 scale=2.0000 norm=3.8454                                                                                             \n",
      "[iter 700] loss=2.1529 val_loss=2.3881 scale=2.0000 norm=3.7645                                                                                             \n",
      "== Early stopping achieved.                                                                                                                                 \n",
      "== Best iteration / VAL704 (val_loss=2.3879)                                                                                                                \n",
      " 73%|██████████████████████████████████████████████████████████▍                     | 73/100 [2:36:47<1:50:43, 246.06s/trial, best loss: 2.381752374746717]"
     ]
    },
    {
     "name": "stderr",
     "output_type": "stream",
     "text": [
      "2021-07-28 02:02:39 INFO     {'Base': DecisionTreeRegressor(criterion='friedman_mse', max_leaf_nodes=63,\n",
      "                      min_samples_split=3, random_state=1), 'col_sample': 0.9, 'learning_rate': 0.004, 'minibatch_frac': 0.7000000000000001, 'n_estimators': 10000000, 'verbose_eval': 100, 'random_state': 13}\n"
     ]
    },
    {
     "name": "stdout",
     "output_type": "stream",
     "text": [
      "\r",
      " 74%|███████████████████████████████████████████████████████████▏                    | 74/100 [2:36:47<1:27:33, 202.07s/trial, best loss: 2.381752374746717]"
     ]
    },
    {
     "name": "stderr",
     "output_type": "stream",
     "text": [
      "2021-07-28 02:02:39 INFO     build_posterior_wrapper took 0.002035 seconds\n",
      "2021-07-28 02:02:39 INFO     TPE using 74/74 trials with best loss 2.381752\n"
     ]
    },
    {
     "name": "stdout",
     "output_type": "stream",
     "text": [
      "{'Base': DecisionTreeRegressor(criterion='friedman_mse', max_leaf_nodes=63,                                                                                 \n",
      "                      min_samples_split=3, random_state=1), 'col_sample': 0.8, 'learning_rate': 0.002, 'minibatch_frac': 0.8, 'n_estimators': 10000000, 'verbose_eval': 100, 'random_state': 13}\n",
      "[iter 0] loss=3.8347 val_loss=3.8388 scale=2.0000 norm=18.2020                                                                                              \n",
      "[iter 100] loss=3.4937 val_loss=3.4961 scale=2.0000 norm=12.8145                                                                                            \n",
      "[iter 200] loss=3.2899 val_loss=3.2958 scale=2.0000 norm=9.3592                                                                                             \n",
      "[iter 300] loss=3.1177 val_loss=3.1268 scale=2.0000 norm=7.2245                                                                                             \n",
      "[iter 400] loss=2.9642 val_loss=2.9765 scale=2.0000 norm=5.9385                                                                                             \n",
      "[iter 500] loss=2.8251 val_loss=2.8431 scale=2.0000 norm=5.1691                                                                                             \n",
      "[iter 600] loss=2.6975 val_loss=2.7275 scale=2.0000 norm=4.6552                                                                                             \n",
      "[iter 700] loss=2.5906 val_loss=2.6309 scale=2.0000 norm=4.3953                                                                                             \n",
      "[iter 800] loss=2.4945 val_loss=2.5528 scale=2.0000 norm=4.2086                                                                                             \n",
      "[iter 900] loss=2.4143 val_loss=2.4928 scale=2.0000 norm=4.0960                                                                                             \n",
      "[iter 1000] loss=2.3464 val_loss=2.4482 scale=2.0000 norm=4.0165                                                                                            \n",
      "[iter 1100] loss=2.2852 val_loss=2.4175 scale=2.0000 norm=3.9283                                                                                            \n",
      "[iter 1200] loss=2.2335 val_loss=2.3979 scale=2.0000 norm=3.8609                                                                                            \n",
      "[iter 1300] loss=2.1941 val_loss=2.3869 scale=2.0000 norm=3.8326                                                                                            \n",
      "[iter 1400] loss=2.1584 val_loss=2.3832 scale=2.0000 norm=3.7864                                                                                            \n",
      "== Early stopping achieved.                                                                                                                                 \n",
      "== Best iteration / VAL1408 (val_loss=2.3831)                                                                                                               \n",
      " 74%|███████████████████████████████████████████████████████████▏                    | 74/100 [2:40:03<1:27:33, 202.07s/trial, best loss: 2.381752374746717]"
     ]
    },
    {
     "name": "stderr",
     "output_type": "stream",
     "text": [
      "2021-07-28 02:05:56 INFO     {'Base': DecisionTreeRegressor(criterion='friedman_mse', max_leaf_nodes=63,\n",
      "                      min_samples_split=3, random_state=1), 'col_sample': 0.8, 'learning_rate': 0.002, 'minibatch_frac': 0.8, 'n_estimators': 10000000, 'verbose_eval': 100, 'random_state': 13}\n"
     ]
    },
    {
     "name": "stdout",
     "output_type": "stream",
     "text": [
      "\r",
      " 75%|████████████████████████████████████████████████████████████                    | 75/100 [2:40:03<1:23:28, 200.33s/trial, best loss: 2.381752374746717]"
     ]
    },
    {
     "name": "stderr",
     "output_type": "stream",
     "text": [
      "2021-07-28 02:05:56 INFO     build_posterior_wrapper took 0.002989 seconds\n",
      "2021-07-28 02:05:56 INFO     TPE using 75/75 trials with best loss 2.381752\n"
     ]
    },
    {
     "name": "stdout",
     "output_type": "stream",
     "text": [
      "{'Base': DecisionTreeRegressor(criterion='friedman_mse', max_leaf_nodes=63,                                                                                 \n",
      "                      min_samples_split=3, random_state=1), 'col_sample': 0.9, 'learning_rate': 0.005, 'minibatch_frac': 0.9, 'n_estimators': 10000000, 'verbose_eval': 100, 'random_state': 13}\n",
      "[iter 0] loss=3.8335 val_loss=3.8295 scale=2.0000 norm=18.1602                                                                                              \n",
      "[iter 100] loss=3.2014 val_loss=3.2051 scale=2.0000 norm=8.1511                                                                                             \n",
      "[iter 200] loss=2.8225 val_loss=2.8412 scale=2.0000 norm=5.1344                                                                                             \n",
      "[iter 300] loss=2.5409 val_loss=2.5911 scale=2.0000 norm=4.3016                                                                                             \n",
      "[iter 400] loss=2.3448 val_loss=2.4533 scale=2.0000 norm=4.0059                                                                                             \n",
      "[iter 500] loss=2.2148 val_loss=2.3989 scale=2.0000 norm=3.8654                                                                                             \n",
      "== Early stopping achieved.                                                                                                                                 \n",
      "== Best iteration / VAL553 (val_loss=2.3914)                                                                                                                \n",
      " 75%|████████████████████████████████████████████████████████████                    | 75/100 [2:41:40<1:23:28, 200.33s/trial, best loss: 2.381752374746717]"
     ]
    },
    {
     "name": "stderr",
     "output_type": "stream",
     "text": [
      "2021-07-28 02:07:32 INFO     {'Base': DecisionTreeRegressor(criterion='friedman_mse', max_leaf_nodes=63,\n",
      "                      min_samples_split=3, random_state=1), 'col_sample': 0.9, 'learning_rate': 0.005, 'minibatch_frac': 0.9, 'n_estimators': 10000000, 'verbose_eval': 100, 'random_state': 13}\n"
     ]
    },
    {
     "name": "stdout",
     "output_type": "stream",
     "text": [
      "\r",
      " 76%|████████████████████████████████████████████████████████████▊                   | 76/100 [2:41:40<1:07:40, 169.20s/trial, best loss: 2.381752374746717]"
     ]
    },
    {
     "name": "stderr",
     "output_type": "stream",
     "text": [
      "2021-07-28 02:07:32 INFO     build_posterior_wrapper took 0.002997 seconds\n",
      "2021-07-28 02:07:32 INFO     TPE using 76/76 trials with best loss 2.381752\n"
     ]
    },
    {
     "name": "stdout",
     "output_type": "stream",
     "text": [
      "{'Base': DecisionTreeRegressor(criterion='friedman_mse', max_leaf_nodes=63,                                                                                 \n",
      "                      min_samples_split=3, random_state=1), 'col_sample': 1.0, 'learning_rate': 0.004, 'minibatch_frac': 0.8, 'n_estimators': 10000000, 'verbose_eval': 100, 'random_state': 13}\n",
      "[iter 0] loss=3.8347 val_loss=3.8326 scale=2.0000 norm=18.2020                                                                                              \n",
      "[iter 100] loss=3.2893 val_loss=3.2927 scale=2.0000 norm=9.3421                                                                                             \n",
      "[iter 200] loss=2.9617 val_loss=2.9751 scale=2.0000 norm=5.8992                                                                                             \n",
      "[iter 300] loss=2.7002 val_loss=2.7288 scale=2.0000 norm=4.6892                                                                                             \n",
      "[iter 400] loss=2.4952 val_loss=2.5581 scale=2.0000 norm=4.2161                                                                                             \n",
      "[iter 500] loss=2.3452 val_loss=2.4566 scale=2.0000 norm=4.0126                                                                                             \n",
      "[iter 600] loss=2.2344 val_loss=2.4083 scale=2.0000 norm=3.8744                                                                                             \n",
      "[iter 700] loss=2.1517 val_loss=2.3958 scale=2.0000 norm=3.7724                                                                                             \n",
      "== Early stopping achieved.                                                                                                                                 \n",
      "== Best iteration / VAL707 (val_loss=2.3955)                                                                                                                \n",
      " 76%|████████████████████████████████████████████████████████████▊                   | 76/100 [2:43:42<1:07:40, 169.20s/trial, best loss: 2.381752374746717]"
     ]
    },
    {
     "name": "stderr",
     "output_type": "stream",
     "text": [
      "2021-07-28 02:09:34 INFO     {'Base': DecisionTreeRegressor(criterion='friedman_mse', max_leaf_nodes=63,\n",
      "                      min_samples_split=3, random_state=1), 'col_sample': 1.0, 'learning_rate': 0.004, 'minibatch_frac': 0.8, 'n_estimators': 10000000, 'verbose_eval': 100, 'random_state': 13}\n"
     ]
    },
    {
     "name": "stdout",
     "output_type": "stream",
     "text": [
      "\r",
      " 77%|███████████████████████████████████████████████████████████████▏                  | 77/100 [2:43:42<59:27, 155.10s/trial, best loss: 2.381752374746717]"
     ]
    },
    {
     "name": "stderr",
     "output_type": "stream",
     "text": [
      "2021-07-28 02:09:34 INFO     build_posterior_wrapper took 0.002002 seconds\n",
      "2021-07-28 02:09:34 INFO     TPE using 77/77 trials with best loss 2.381752\n"
     ]
    },
    {
     "name": "stdout",
     "output_type": "stream",
     "text": [
      "{'Base': DecisionTreeRegressor(criterion='friedman_mse', max_leaf_nodes=255,                                                                                \n",
      "                      min_samples_split=3, random_state=1), 'col_sample': 0.7000000000000001, 'learning_rate': 0.01, 'minibatch_frac': 0.7000000000000001, 'n_estimators': 10000000, 'verbose_eval': 100, 'random_state': 13}\n",
      "[iter 0] loss=3.8314 val_loss=3.8142 scale=2.0000 norm=18.1206                                                                                              \n",
      "[iter 100] loss=2.7560 val_loss=2.8166 scale=2.0000 norm=4.4960                                                                                             \n",
      "[iter 200] loss=2.0848 val_loss=2.4642 scale=2.0000 norm=2.9201                                                                                             \n",
      "== Early stopping achieved.                                                                                                                                 \n",
      "== Best iteration / VAL200 (val_loss=2.4642)                                                                                                                \n",
      " 77%|███████████████████████████████████████████████████████████████▏                  | 77/100 [2:44:14<59:27, 155.10s/trial, best loss: 2.381752374746717]"
     ]
    },
    {
     "name": "stderr",
     "output_type": "stream",
     "text": [
      "2021-07-28 02:10:06 INFO     {'Base': DecisionTreeRegressor(criterion='friedman_mse', max_leaf_nodes=255,\n",
      "                      min_samples_split=3, random_state=1), 'col_sample': 0.7000000000000001, 'learning_rate': 0.01, 'minibatch_frac': 0.7000000000000001, 'n_estimators': 10000000, 'verbose_eval': 100, 'random_state': 13}\n"
     ]
    },
    {
     "name": "stdout",
     "output_type": "stream",
     "text": [
      "\r",
      " 78%|███████████████████████████████████████████████████████████████▉                  | 78/100 [2:44:14<43:18, 118.13s/trial, best loss: 2.381752374746717]"
     ]
    },
    {
     "name": "stderr",
     "output_type": "stream",
     "text": [
      "2021-07-28 02:10:06 INFO     build_posterior_wrapper took 0.000982 seconds\n",
      "2021-07-28 02:10:06 INFO     TPE using 78/78 trials with best loss 2.381752\n"
     ]
    },
    {
     "name": "stdout",
     "output_type": "stream",
     "text": [
      "{'Base': DecisionTreeRegressor(criterion='friedman_mse', max_leaf_nodes=63,                                                                                 \n",
      "                      min_samples_split=3, random_state=1), 'col_sample': 0.8, 'learning_rate': 0.007, 'minibatch_frac': 0.8, 'n_estimators': 10000000, 'verbose_eval': 100, 'random_state': 13}\n",
      "[iter 0] loss=3.8347 val_loss=3.8234 scale=2.0000 norm=18.2020                                                                                              \n",
      "[iter 100] loss=3.0391 val_loss=3.0452 scale=2.0000 norm=6.4987                                                                                             \n",
      "[iter 200] loss=2.5889 val_loss=2.6304 scale=2.0000 norm=4.3854                                                                                             \n",
      "[iter 300] loss=2.3173 val_loss=2.4354 scale=2.0000 norm=3.9924                                                                                             \n",
      "== Early stopping achieved.                                                                                                                                 \n",
      "== Best iteration / VAL390 (val_loss=2.3901)                                                                                                                \n",
      " 78%|███████████████████████████████████████████████████████████████▉                  | 78/100 [2:45:09<43:18, 118.13s/trial, best loss: 2.381752374746717]"
     ]
    },
    {
     "name": "stderr",
     "output_type": "stream",
     "text": [
      "2021-07-28 02:11:02 INFO     {'Base': DecisionTreeRegressor(criterion='friedman_mse', max_leaf_nodes=63,\n",
      "                      min_samples_split=3, random_state=1), 'col_sample': 0.8, 'learning_rate': 0.007, 'minibatch_frac': 0.8, 'n_estimators': 10000000, 'verbose_eval': 100, 'random_state': 13}\n"
     ]
    },
    {
     "name": "stdout",
     "output_type": "stream",
     "text": [
      "\r",
      " 79%|█████████████████████████████████████████████████████████████████▌                 | 79/100 [2:45:09<34:45, 99.29s/trial, best loss: 2.381752374746717]"
     ]
    },
    {
     "name": "stderr",
     "output_type": "stream",
     "text": [
      "2021-07-28 02:11:02 INFO     build_posterior_wrapper took 0.003989 seconds\n",
      "2021-07-28 02:11:02 INFO     TPE using 79/79 trials with best loss 2.381752\n"
     ]
    },
    {
     "name": "stdout",
     "output_type": "stream",
     "text": [
      "{'Base': DecisionTreeRegressor(criterion='friedman_mse', max_leaf_nodes=63,                                                                                 \n",
      "                      min_samples_split=3, random_state=1), 'col_sample': 0.7000000000000001, 'learning_rate': 0.006, 'minibatch_frac': 0.7000000000000001, 'n_estimators': 10000000, 'verbose_eval': 100, 'random_state': 13}\n",
      "[iter 0] loss=3.8314 val_loss=3.8264 scale=2.0000 norm=18.1206                                                                                              \n",
      "[iter 100] loss=3.1221 val_loss=3.1266 scale=2.0000 norm=7.2958                                                                                             \n",
      "[iter 200] loss=2.7023 val_loss=2.7290 scale=2.0000 norm=4.7082                                                                                             \n",
      "[iter 300] loss=2.4207 val_loss=2.4963 scale=2.0000 norm=4.1317                                                                                             \n",
      "[iter 400] loss=2.2409 val_loss=2.4000 scale=2.0000 norm=3.8935                                                                                             \n",
      "== Early stopping achieved.                                                                                                                                 \n",
      "== Best iteration / VAL475 (val_loss=2.3848)                                                                                                                \n",
      " 79%|█████████████████████████████████████████████████████████████████▌                 | 79/100 [2:46:04<34:45, 99.29s/trial, best loss: 2.381752374746717]"
     ]
    },
    {
     "name": "stderr",
     "output_type": "stream",
     "text": [
      "2021-07-28 02:11:56 INFO     {'Base': DecisionTreeRegressor(criterion='friedman_mse', max_leaf_nodes=63,\n",
      "                      min_samples_split=3, random_state=1), 'col_sample': 0.7000000000000001, 'learning_rate': 0.006, 'minibatch_frac': 0.7000000000000001, 'n_estimators': 10000000, 'verbose_eval': 100, 'random_state': 13}\n"
     ]
    },
    {
     "name": "stdout",
     "output_type": "stream",
     "text": [
      "\r",
      " 80%|██████████████████████████████████████████████████████████████████▍                | 80/100 [2:46:04<28:38, 85.95s/trial, best loss: 2.381752374746717]"
     ]
    },
    {
     "name": "stderr",
     "output_type": "stream",
     "text": [
      "2021-07-28 02:11:56 INFO     build_posterior_wrapper took 0.002001 seconds\n",
      "2021-07-28 02:11:56 INFO     TPE using 80/80 trials with best loss 2.381752\n"
     ]
    },
    {
     "name": "stdout",
     "output_type": "stream",
     "text": [
      "{'Base': DecisionTreeRegressor(criterion='friedman_mse', max_leaf_nodes=127,                                                                                \n",
      "                      min_samples_split=3, random_state=1), 'col_sample': 0.9, 'learning_rate': 0.008, 'minibatch_frac': 0.9, 'n_estimators': 10000000, 'verbose_eval': 100, 'random_state': 13}\n",
      "[iter 0] loss=3.8335 val_loss=3.8202 scale=2.0000 norm=18.1602                                                                                              \n",
      "[iter 100] loss=2.9418 val_loss=2.9629 scale=2.0000 norm=5.6825                                                                                             \n",
      "[iter 200] loss=2.4172 val_loss=2.5373 scale=2.0000 norm=3.7955                                                                                             \n",
      "== Early stopping achieved.                                                                                                                                 \n",
      "== Best iteration / VAL284 (val_loss=2.4333)                                                                                                                \n",
      " 80%|██████████████████████████████████████████████████████████████████▍                | 80/100 [2:47:02<28:38, 85.95s/trial, best loss: 2.381752374746717]"
     ]
    },
    {
     "name": "stderr",
     "output_type": "stream",
     "text": [
      "2021-07-28 02:12:54 INFO     {'Base': DecisionTreeRegressor(criterion='friedman_mse', max_leaf_nodes=127,\n",
      "                      min_samples_split=3, random_state=1), 'col_sample': 0.9, 'learning_rate': 0.008, 'minibatch_frac': 0.9, 'n_estimators': 10000000, 'verbose_eval': 100, 'random_state': 13}\n"
     ]
    },
    {
     "name": "stdout",
     "output_type": "stream",
     "text": [
      "\r",
      " 81%|███████████████████████████████████████████████████████████████████▏               | 81/100 [2:47:02<24:33, 77.56s/trial, best loss: 2.381752374746717]"
     ]
    },
    {
     "name": "stderr",
     "output_type": "stream",
     "text": [
      "2021-07-28 02:12:54 INFO     build_posterior_wrapper took 0.001997 seconds\n",
      "2021-07-28 02:12:54 INFO     TPE using 81/81 trials with best loss 2.381752\n"
     ]
    },
    {
     "name": "stdout",
     "output_type": "stream",
     "text": [
      "{'Base': DecisionTreeRegressor(criterion='friedman_mse', max_leaf_nodes=63,                                                                                 \n",
      "                      min_samples_split=3, random_state=1), 'col_sample': 0.8, 'learning_rate': 0.003, 'minibatch_frac': 0.6000000000000001, 'n_estimators': 10000000, 'verbose_eval': 100, 'random_state': 13}\n",
      "[iter 0] loss=3.8305 val_loss=3.8357 scale=2.0000 norm=18.0903                                                                                              \n",
      "[iter 100] loss=3.3895 val_loss=3.3892 scale=2.0000 norm=10.9850                                                                                            \n",
      "[iter 200] loss=3.1189 val_loss=3.1262 scale=2.0000 norm=7.2504                                                                                             \n",
      "[iter 300] loss=2.8911 val_loss=2.9070 scale=2.0000 norm=5.4898                                                                                             \n",
      "[iter 400] loss=2.6978 val_loss=2.7272 scale=2.0000 norm=4.6591                                                                                             \n",
      "[iter 500] loss=2.5413 val_loss=2.5904 scale=2.0000 norm=4.2993                                                                                             \n",
      "[iter 600] loss=2.4111 val_loss=2.4944 scale=2.0000 norm=4.0671                                                                                             \n",
      "[iter 700] loss=2.3146 val_loss=2.4341 scale=2.0000 norm=3.9669                                                                                             \n",
      "[iter 800] loss=2.2416 val_loss=2.4013 scale=2.0000 norm=3.9095                                                                                             \n",
      "[iter 900] loss=2.1763 val_loss=2.3874 scale=2.0000 norm=3.8127                                                                                             \n",
      "== Early stopping achieved.                                                                                                                                 \n",
      "== Best iteration / VAL944 (val_loss=2.3859)                                                                                                                \n",
      " 81%|███████████████████████████████████████████████████████████████████▏               | 81/100 [2:48:48<24:33, 77.56s/trial, best loss: 2.381752374746717]"
     ]
    },
    {
     "name": "stderr",
     "output_type": "stream",
     "text": [
      "2021-07-28 02:14:40 INFO     {'Base': DecisionTreeRegressor(criterion='friedman_mse', max_leaf_nodes=63,\n",
      "                      min_samples_split=3, random_state=1), 'col_sample': 0.8, 'learning_rate': 0.003, 'minibatch_frac': 0.6000000000000001, 'n_estimators': 10000000, 'verbose_eval': 100, 'random_state': 13}\n"
     ]
    },
    {
     "name": "stdout",
     "output_type": "stream",
     "text": [
      "\r",
      " 82%|████████████████████████████████████████████████████████████████████               | 82/100 [2:48:48<25:48, 86.02s/trial, best loss: 2.381752374746717]"
     ]
    },
    {
     "name": "stderr",
     "output_type": "stream",
     "text": [
      "2021-07-28 02:14:40 INFO     build_posterior_wrapper took 0.001000 seconds\n",
      "2021-07-28 02:14:40 INFO     TPE using 82/82 trials with best loss 2.381752\n"
     ]
    },
    {
     "name": "stdout",
     "output_type": "stream",
     "text": [
      "{'Base': DecisionTreeRegressor(criterion='friedman_mse', max_leaf_nodes=63,                                                                                 \n",
      "                      min_samples_split=3, random_state=1), 'col_sample': 0.7000000000000001, 'learning_rate': 0.002, 'minibatch_frac': 0.8, 'n_estimators': 10000000, 'verbose_eval': 100, 'random_state': 13}\n",
      "[iter 0] loss=3.8347 val_loss=3.8388 scale=2.0000 norm=18.2020                                                                                              \n",
      "[iter 100] loss=3.4970 val_loss=3.4992 scale=2.0000 norm=12.8803                                                                                            \n",
      "[iter 200] loss=3.2944 val_loss=3.3001 scale=2.0000 norm=9.4516                                                                                             \n",
      "[iter 300] loss=3.1225 val_loss=3.1314 scale=2.0000 norm=7.3024                                                                                             \n",
      "[iter 400] loss=2.9691 val_loss=2.9810 scale=2.0000 norm=5.9996                                                                                             \n",
      "[iter 500] loss=2.8301 val_loss=2.8477 scale=2.0000 norm=5.2165                                                                                             \n",
      "[iter 600] loss=2.7024 val_loss=2.7316 scale=2.0000 norm=4.6887                                                                                             \n",
      "[iter 700] loss=2.5954 val_loss=2.6346 scale=2.0000 norm=4.4196                                                                                             \n",
      "[iter 800] loss=2.4995 val_loss=2.5562 scale=2.0000 norm=4.2289                                                                                             \n",
      "[iter 900] loss=2.4191 val_loss=2.4955 scale=2.0000 norm=4.1129                                                                                             \n",
      "[iter 1000] loss=2.3514 val_loss=2.4505 scale=2.0000 norm=4.0311                                                                                            \n",
      "[iter 1100] loss=2.2900 val_loss=2.4190 scale=2.0000 norm=3.9405                                                                                            \n",
      "[iter 1200] loss=2.2386 val_loss=2.3987 scale=2.0000 norm=3.8733                                                                                            \n",
      "[iter 1300] loss=2.1995 val_loss=2.3877 scale=2.0000 norm=3.8445                                                                                            \n",
      "[iter 1400] loss=2.1639 val_loss=2.3837 scale=2.0000 norm=3.7996                                                                                            \n",
      "== Early stopping achieved.                                                                                                                                 \n",
      "== Best iteration / VAL1413 (val_loss=2.3834)                                                                                                               \n",
      " 82%|████████████████████████████████████████████████████████████████████               | 82/100 [2:51:45<25:48, 86.02s/trial, best loss: 2.381752374746717]"
     ]
    },
    {
     "name": "stderr",
     "output_type": "stream",
     "text": [
      "2021-07-28 02:17:37 INFO     {'Base': DecisionTreeRegressor(criterion='friedman_mse', max_leaf_nodes=63,\n",
      "                      min_samples_split=3, random_state=1), 'col_sample': 0.7000000000000001, 'learning_rate': 0.002, 'minibatch_frac': 0.8, 'n_estimators': 10000000, 'verbose_eval': 100, 'random_state': 13}\n"
     ]
    },
    {
     "name": "stdout",
     "output_type": "stream",
     "text": [
      "\r",
      " 83%|████████████████████████████████████████████████████████████████████              | 83/100 [2:51:45<32:07, 113.39s/trial, best loss: 2.381752374746717]"
     ]
    },
    {
     "name": "stderr",
     "output_type": "stream",
     "text": [
      "2021-07-28 02:17:37 INFO     build_posterior_wrapper took 0.003027 seconds\n",
      "2021-07-28 02:17:37 INFO     TPE using 83/83 trials with best loss 2.381752\n"
     ]
    },
    {
     "name": "stdout",
     "output_type": "stream",
     "text": [
      "{'Base': DecisionTreeRegressor(criterion='friedman_mse', max_leaf_nodes=255,                                                                                \n",
      "                      min_samples_split=3, random_state=1), 'col_sample': 1.0, 'learning_rate': 0.003, 'minibatch_frac': 0.7000000000000001, 'n_estimators': 10000000, 'verbose_eval': 100, 'random_state': 13}\n",
      "[iter 0] loss=3.8314 val_loss=3.8356 scale=2.0000 norm=18.1206                                                                                              \n",
      "[iter 100] loss=3.3717 val_loss=3.3836 scale=2.0000 norm=10.6755                                                                                            \n",
      "[iter 200] loss=3.0859 val_loss=3.1139 scale=2.0000 norm=6.7812                                                                                             \n",
      "[iter 300] loss=2.8319 val_loss=2.8860 scale=2.0000 norm=4.8595                                                                                             \n",
      "[iter 400] loss=2.5935 val_loss=2.6978 scale=2.0000 norm=3.8447                                                                                             \n",
      "[iter 500] loss=2.3816 val_loss=2.5604 scale=2.0000 norm=3.3360                                                                                             \n",
      "[iter 600] loss=2.1868 val_loss=2.4861 scale=2.0000 norm=3.0078                                                                                             \n",
      "== Early stopping achieved.                                                                                                                                 \n",
      "== Best iteration / VAL651 (val_loss=2.4766)                                                                                                                \n",
      " 83%|████████████████████████████████████████████████████████████████████              | 83/100 [2:54:03<32:07, 113.39s/trial, best loss: 2.381752374746717]"
     ]
    },
    {
     "name": "stderr",
     "output_type": "stream",
     "text": [
      "2021-07-28 02:19:56 INFO     {'Base': DecisionTreeRegressor(criterion='friedman_mse', max_leaf_nodes=255,\n",
      "                      min_samples_split=3, random_state=1), 'col_sample': 1.0, 'learning_rate': 0.003, 'minibatch_frac': 0.7000000000000001, 'n_estimators': 10000000, 'verbose_eval': 100, 'random_state': 13}\n"
     ]
    },
    {
     "name": "stdout",
     "output_type": "stream",
     "text": [
      "\r",
      " 84%|████████████████████████████████████████████████████████████████████▉             | 84/100 [2:54:03<32:13, 120.83s/trial, best loss: 2.381752374746717]"
     ]
    },
    {
     "name": "stderr",
     "output_type": "stream",
     "text": [
      "2021-07-28 02:19:56 INFO     build_posterior_wrapper took 0.002999 seconds\n",
      "2021-07-28 02:19:56 INFO     TPE using 84/84 trials with best loss 2.381752\n"
     ]
    },
    {
     "name": "stdout",
     "output_type": "stream",
     "text": [
      "{'Base': DecisionTreeRegressor(criterion='friedman_mse', max_leaf_nodes=63,                                                                                 \n",
      "                      min_samples_split=3, random_state=1), 'col_sample': 0.9, 'learning_rate': 0.007, 'minibatch_frac': 0.9, 'n_estimators': 10000000, 'verbose_eval': 100, 'random_state': 13}\n",
      "[iter 0] loss=3.8335 val_loss=3.8233 scale=2.0000 norm=18.1602                                                                                              \n",
      "[iter 100] loss=3.0387 val_loss=3.0451 scale=2.0000 norm=6.4884                                                                                             \n",
      "[iter 200] loss=2.5895 val_loss=2.6306 scale=2.0000 norm=4.3849                                                                                             \n",
      "[iter 300] loss=2.3162 val_loss=2.4364 scale=2.0000 norm=3.9835                                                                                             \n",
      "[iter 400] loss=2.1543 val_loss=2.3916 scale=2.0000 norm=3.7759                                                                                             \n",
      "== Early stopping achieved.                                                                                                                                 \n",
      "== Best iteration / VAL399 (val_loss=2.3915)                                                                                                                \n",
      " 84%|████████████████████████████████████████████████████████████████████▉             | 84/100 [2:55:13<32:13, 120.83s/trial, best loss: 2.381752374746717]"
     ]
    },
    {
     "name": "stderr",
     "output_type": "stream",
     "text": [
      "2021-07-28 02:21:06 INFO     {'Base': DecisionTreeRegressor(criterion='friedman_mse', max_leaf_nodes=63,\n",
      "                      min_samples_split=3, random_state=1), 'col_sample': 0.9, 'learning_rate': 0.007, 'minibatch_frac': 0.9, 'n_estimators': 10000000, 'verbose_eval': 100, 'random_state': 13}\n"
     ]
    },
    {
     "name": "stdout",
     "output_type": "stream",
     "text": [
      "\r",
      " 85%|█████████████████████████████████████████████████████████████████████▋            | 85/100 [2:55:13<26:23, 105.58s/trial, best loss: 2.381752374746717]"
     ]
    },
    {
     "name": "stderr",
     "output_type": "stream",
     "text": [
      "2021-07-28 02:21:06 INFO     build_posterior_wrapper took 0.004035 seconds\n",
      "2021-07-28 02:21:06 INFO     TPE using 85/85 trials with best loss 2.381752\n"
     ]
    },
    {
     "name": "stdout",
     "output_type": "stream",
     "text": [
      "{'Base': DecisionTreeRegressor(criterion='friedman_mse', max_leaf_nodes=127,                                                                                \n",
      "                      min_samples_split=3, random_state=1), 'col_sample': 0.8, 'learning_rate': 0.009000000000000001, 'minibatch_frac': 0.6000000000000001, 'n_estimators': 10000000, 'verbose_eval': 100, 'random_state': 13}\n",
      "[iter 0] loss=3.8305 val_loss=3.8173 scale=2.0000 norm=18.0903                                                                                              \n",
      "[iter 100] loss=2.8694 val_loss=2.8932 scale=2.0000 norm=5.2733                                                                                             \n",
      "[iter 200] loss=2.3242 val_loss=2.4793 scale=2.0000 norm=3.6784                                                                                             \n",
      "== Early stopping achieved.                                                                                                                                 \n",
      "== Best iteration / VAL252 (val_loss=2.4243)                                                                                                                \n",
      " 85%|█████████████████████████████████████████████████████████████████████▋            | 85/100 [2:55:47<26:23, 105.58s/trial, best loss: 2.381752374746717]"
     ]
    },
    {
     "name": "stderr",
     "output_type": "stream",
     "text": [
      "2021-07-28 02:21:39 INFO     {'Base': DecisionTreeRegressor(criterion='friedman_mse', max_leaf_nodes=127,\n",
      "                      min_samples_split=3, random_state=1), 'col_sample': 0.8, 'learning_rate': 0.009000000000000001, 'minibatch_frac': 0.6000000000000001, 'n_estimators': 10000000, 'verbose_eval': 100, 'random_state': 13}\n"
     ]
    },
    {
     "name": "stdout",
     "output_type": "stream",
     "text": [
      "\r",
      " 86%|███████████████████████████████████████████████████████████████████████▍           | 86/100 [2:55:47<19:36, 84.02s/trial, best loss: 2.381752374746717]"
     ]
    },
    {
     "name": "stderr",
     "output_type": "stream",
     "text": [
      "2021-07-28 02:21:39 INFO     build_posterior_wrapper took 0.002009 seconds\n",
      "2021-07-28 02:21:39 INFO     TPE using 86/86 trials with best loss 2.381752\n"
     ]
    },
    {
     "name": "stdout",
     "output_type": "stream",
     "text": [
      "{'Base': DecisionTreeRegressor(criterion='friedman_mse', max_leaf_nodes=63,                                                                                 \n",
      "                      min_samples_split=3, random_state=1), 'col_sample': 0.7000000000000001, 'learning_rate': 0.006, 'minibatch_frac': 1.0, 'n_estimators': 10000000, 'verbose_eval': 100, 'random_state': 13}\n",
      "[iter 0] loss=3.8345 val_loss=3.8265 scale=2.0000 norm=18.1911                                                                                              \n",
      "[iter 100] loss=3.1273 val_loss=3.1322 scale=2.0000 norm=7.3588                                                                                             \n",
      "[iter 200] loss=2.7078 val_loss=2.7334 scale=2.0000 norm=4.7274                                                                                             \n",
      "[iter 300] loss=2.4229 val_loss=2.4990 scale=2.0000 norm=4.1237                                                                                             \n",
      "[iter 400] loss=2.2458 val_loss=2.4031 scale=2.0000 norm=3.9032                                                                                             \n",
      "== Early stopping achieved.                                                                                                                                 \n",
      "== Best iteration / VAL472 (val_loss=2.3870)                                                                                                                \n",
      " 86%|███████████████████████████████████████████████████████████████████████▍           | 86/100 [2:56:58<19:36, 84.02s/trial, best loss: 2.381752374746717]"
     ]
    },
    {
     "name": "stderr",
     "output_type": "stream",
     "text": [
      "2021-07-28 02:22:50 INFO     {'Base': DecisionTreeRegressor(criterion='friedman_mse', max_leaf_nodes=63,\n",
      "                      min_samples_split=3, random_state=1), 'col_sample': 0.7000000000000001, 'learning_rate': 0.006, 'minibatch_frac': 1.0, 'n_estimators': 10000000, 'verbose_eval': 100, 'random_state': 13}\n"
     ]
    },
    {
     "name": "stdout",
     "output_type": "stream",
     "text": [
      "\r",
      " 87%|████████████████████████████████████████████████████████████████████████▏          | 87/100 [2:56:58<17:22, 80.18s/trial, best loss: 2.381752374746717]"
     ]
    },
    {
     "name": "stderr",
     "output_type": "stream",
     "text": [
      "2021-07-28 02:22:50 INFO     build_posterior_wrapper took 0.002003 seconds\n",
      "2021-07-28 02:22:50 INFO     TPE using 87/87 trials with best loss 2.381752\n"
     ]
    },
    {
     "name": "stdout",
     "output_type": "stream",
     "text": [
      "{'Base': DecisionTreeRegressor(criterion='friedman_mse', max_leaf_nodes=63,                                                                                 \n",
      "                      min_samples_split=3, random_state=1), 'col_sample': 0.8, 'learning_rate': 0.008, 'minibatch_frac': 0.8, 'n_estimators': 10000000, 'verbose_eval': 100, 'random_state': 13}\n",
      "[iter 0] loss=3.8347 val_loss=3.8204 scale=2.0000 norm=18.2020                                                                                              \n",
      "[iter 100] loss=2.9635 val_loss=2.9720 scale=2.0000 norm=5.9303                                                                                             \n",
      "[iter 200] loss=2.4942 val_loss=2.5535 scale=2.0000 norm=4.2067                                                                                             \n",
      "[iter 300] loss=2.2396 val_loss=2.4034 scale=2.0000 norm=3.8995                                                                                             \n",
      "== Early stopping achieved.                                                                                                                                 \n",
      "== Best iteration / VAL342 (val_loss=2.3897)                                                                                                                \n",
      " 87%|████████████████████████████████████████████████████████████████████████▏          | 87/100 [2:57:47<17:22, 80.18s/trial, best loss: 2.381752374746717]"
     ]
    },
    {
     "name": "stderr",
     "output_type": "stream",
     "text": [
      "2021-07-28 02:23:39 INFO     {'Base': DecisionTreeRegressor(criterion='friedman_mse', max_leaf_nodes=63,\n",
      "                      min_samples_split=3, random_state=1), 'col_sample': 0.8, 'learning_rate': 0.008, 'minibatch_frac': 0.8, 'n_estimators': 10000000, 'verbose_eval': 100, 'random_state': 13}\n"
     ]
    },
    {
     "name": "stdout",
     "output_type": "stream",
     "text": [
      "\r",
      " 88%|█████████████████████████████████████████████████████████████████████████          | 88/100 [2:57:47<14:09, 70.78s/trial, best loss: 2.381752374746717]"
     ]
    },
    {
     "name": "stderr",
     "output_type": "stream",
     "text": [
      "2021-07-28 02:23:39 INFO     build_posterior_wrapper took 0.002991 seconds\n",
      "2021-07-28 02:23:39 INFO     TPE using 88/88 trials with best loss 2.381752\n"
     ]
    },
    {
     "name": "stdout",
     "output_type": "stream",
     "text": [
      "{'Base': DecisionTreeRegressor(criterion='friedman_mse', max_leaf_nodes=255,                                                                                \n",
      "                      min_samples_split=3, random_state=1), 'col_sample': 0.7000000000000001, 'learning_rate': 0.005, 'minibatch_frac': 0.7000000000000001, 'n_estimators': 10000000, 'verbose_eval': 100, 'random_state': 13}\n",
      "[iter 0] loss=3.8314 val_loss=3.8294 scale=2.0000 norm=18.1206                                                                                              \n",
      "[iter 100] loss=3.1819 val_loss=3.1997 scale=2.0000 norm=7.9019                                                                                             \n",
      "[iter 200] loss=2.7563 val_loss=2.8183 scale=2.0000 norm=4.5103                                                                                             \n",
      "[iter 300] loss=2.3903 val_loss=2.5552 scale=2.0000 norm=3.3934                                                                                             \n",
      "[iter 400] loss=2.0839 val_loss=2.4599 scale=2.0000 norm=2.9120                                                                                             \n",
      "== Early stopping achieved.                                                                                                                                 \n",
      "== Best iteration / VAL397 (val_loss=2.4596)                                                                                                                \n",
      " 88%|█████████████████████████████████████████████████████████████████████████          | 88/100 [2:58:49<14:09, 70.78s/trial, best loss: 2.381752374746717]"
     ]
    },
    {
     "name": "stderr",
     "output_type": "stream",
     "text": [
      "2021-07-28 02:24:41 INFO     {'Base': DecisionTreeRegressor(criterion='friedman_mse', max_leaf_nodes=255,\n",
      "                      min_samples_split=3, random_state=1), 'col_sample': 0.7000000000000001, 'learning_rate': 0.005, 'minibatch_frac': 0.7000000000000001, 'n_estimators': 10000000, 'verbose_eval': 100, 'random_state': 13}\n"
     ]
    },
    {
     "name": "stdout",
     "output_type": "stream",
     "text": [
      "\r",
      " 89%|█████████████████████████████████████████████████████████████████████████▊         | 89/100 [2:58:49<12:27, 67.99s/trial, best loss: 2.381752374746717]"
     ]
    },
    {
     "name": "stderr",
     "output_type": "stream",
     "text": [
      "2021-07-28 02:24:41 INFO     build_posterior_wrapper took 0.001990 seconds\n",
      "2021-07-28 02:24:41 INFO     TPE using 89/89 trials with best loss 2.381752\n"
     ]
    },
    {
     "name": "stdout",
     "output_type": "stream",
     "text": [
      "{'Base': DecisionTreeRegressor(criterion='friedman_mse', max_leaf_nodes=63,                                                                                 \n",
      "                      min_samples_split=3, random_state=1), 'col_sample': 0.8, 'learning_rate': 0.004, 'minibatch_frac': 0.5, 'n_estimators': 10000000, 'verbose_eval': 100, 'random_state': 13}\n",
      "[iter 0] loss=3.8284 val_loss=3.8326 scale=2.0000 norm=18.0475                                                                                              \n",
      "[iter 100] loss=3.2938 val_loss=3.2941 scale=2.0000 norm=9.4666                                                                                             \n",
      "[iter 200] loss=2.9650 val_loss=2.9754 scale=2.0000 norm=5.9628                                                                                             \n",
      "[iter 300] loss=2.6980 val_loss=2.7275 scale=2.0000 norm=4.6751                                                                                             \n",
      "[iter 400] loss=2.4916 val_loss=2.5547 scale=2.0000 norm=4.1944                                                                                             \n",
      "[iter 500] loss=2.3473 val_loss=2.4508 scale=2.0000 norm=4.0147                                                                                             \n",
      "[iter 600] loss=2.2356 val_loss=2.4011 scale=2.0000 norm=3.8637                                                                                             \n",
      "[iter 700] loss=2.1550 val_loss=2.3871 scale=2.0000 norm=3.7480                                                                                             \n",
      "== Early stopping achieved.                                                                                                                                 \n",
      "== Best iteration / VAL710 (val_loss=2.3867)                                                                                                                \n",
      " 89%|█████████████████████████████████████████████████████████████████████████▊         | 89/100 [2:59:58<12:27, 67.99s/trial, best loss: 2.381752374746717]"
     ]
    },
    {
     "name": "stderr",
     "output_type": "stream",
     "text": [
      "2021-07-28 02:25:50 INFO     {'Base': DecisionTreeRegressor(criterion='friedman_mse', max_leaf_nodes=63,\n",
      "                      min_samples_split=3, random_state=1), 'col_sample': 0.8, 'learning_rate': 0.004, 'minibatch_frac': 0.5, 'n_estimators': 10000000, 'verbose_eval': 100, 'random_state': 13}\n"
     ]
    },
    {
     "name": "stdout",
     "output_type": "stream",
     "text": [
      "\r",
      " 90%|██████████████████████████████████████████████████████████████████████████▋        | 90/100 [2:59:58<11:23, 68.38s/trial, best loss: 2.381752374746717]"
     ]
    },
    {
     "name": "stderr",
     "output_type": "stream",
     "text": [
      "2021-07-28 02:25:50 INFO     build_posterior_wrapper took 0.002987 seconds\n",
      "2021-07-28 02:25:50 INFO     TPE using 90/90 trials with best loss 2.381752\n"
     ]
    },
    {
     "name": "stdout",
     "output_type": "stream",
     "text": [
      "{'Base': DecisionTreeRegressor(criterion='friedman_mse', max_leaf_nodes=63,                                                                                 \n",
      "                      min_samples_split=3, random_state=1), 'col_sample': 0.9, 'learning_rate': 0.002, 'minibatch_frac': 0.8, 'n_estimators': 10000000, 'verbose_eval': 100, 'random_state': 13}\n",
      "[iter 0] loss=3.8347 val_loss=3.8388 scale=2.0000 norm=18.2020                                                                                              \n",
      "[iter 100] loss=3.4927 val_loss=3.4953 scale=2.0000 norm=12.7910                                                                                            \n",
      "[iter 200] loss=3.2887 val_loss=3.2949 scale=2.0000 norm=9.3339                                                                                             \n",
      "[iter 300] loss=3.1166 val_loss=3.1261 scale=2.0000 norm=7.2089                                                                                             \n",
      "[iter 400] loss=2.9631 val_loss=2.9761 scale=2.0000 norm=5.9231                                                                                             \n",
      "[iter 500] loss=2.8241 val_loss=2.8432 scale=2.0000 norm=5.1560                                                                                             \n",
      "[iter 600] loss=2.6967 val_loss=2.7284 scale=2.0000 norm=4.6507                                                                                             \n",
      "[iter 700] loss=2.5903 val_loss=2.6326 scale=2.0000 norm=4.3966                                                                                             \n",
      "[iter 800] loss=2.4939 val_loss=2.5554 scale=2.0000 norm=4.2072                                                                                             \n",
      "[iter 900] loss=2.4133 val_loss=2.4961 scale=2.0000 norm=4.0945                                                                                             \n",
      "[iter 1000] loss=2.3454 val_loss=2.4525 scale=2.0000 norm=4.0156                                                                                            \n",
      "[iter 1100] loss=2.2839 val_loss=2.4221 scale=2.0000 norm=3.9278                                                                                            \n",
      "[iter 1200] loss=2.2320 val_loss=2.4027 scale=2.0000 norm=3.8608                                                                                            \n",
      "[iter 1300] loss=2.1924 val_loss=2.3924 scale=2.0000 norm=3.8318                                                                                            \n",
      "[iter 1400] loss=2.1562 val_loss=2.3886 scale=2.0000 norm=3.7848                                                                                            \n",
      "== Early stopping achieved.                                                                                                                                 \n",
      "== Best iteration / VAL1409 (val_loss=2.3885)                                                                                                               \n",
      " 90%|██████████████████████████████████████████████████████████████████████████▋        | 90/100 [3:03:38<11:23, 68.38s/trial, best loss: 2.381752374746717]"
     ]
    },
    {
     "name": "stderr",
     "output_type": "stream",
     "text": [
      "2021-07-28 02:29:30 INFO     {'Base': DecisionTreeRegressor(criterion='friedman_mse', max_leaf_nodes=63,\n",
      "                      min_samples_split=3, random_state=1), 'col_sample': 0.9, 'learning_rate': 0.002, 'minibatch_frac': 0.8, 'n_estimators': 10000000, 'verbose_eval': 100, 'random_state': 13}\n"
     ]
    },
    {
     "name": "stdout",
     "output_type": "stream",
     "text": [
      "\r",
      " 91%|██████████████████████████████████████████████████████████████████████████▌       | 91/100 [3:03:38<17:04, 113.84s/trial, best loss: 2.381752374746717]"
     ]
    },
    {
     "name": "stderr",
     "output_type": "stream",
     "text": [
      "2021-07-28 02:29:30 INFO     build_posterior_wrapper took 0.001991 seconds\n",
      "2021-07-28 02:29:30 INFO     TPE using 91/91 trials with best loss 2.381752\n"
     ]
    },
    {
     "name": "stdout",
     "output_type": "stream",
     "text": [
      "{'Base': DecisionTreeRegressor(criterion='friedman_mse', max_leaf_nodes=127,                                                                                \n",
      "                      min_samples_split=3, random_state=1), 'col_sample': 0.7000000000000001, 'learning_rate': 0.004, 'minibatch_frac': 0.9, 'n_estimators': 10000000, 'verbose_eval': 100, 'random_state': 13}\n",
      "[iter 0] loss=3.8335 val_loss=3.8325 scale=2.0000 norm=18.1602                                                                                              \n",
      "[iter 100] loss=3.2856 val_loss=3.2927 scale=2.0000 norm=9.3201                                                                                             \n",
      "[iter 200] loss=2.9452 val_loss=2.9693 scale=2.0000 norm=5.7417                                                                                             \n",
      "[iter 300] loss=2.6590 val_loss=2.7134 scale=2.0000 norm=4.3843                                                                                             \n",
      "[iter 400] loss=2.4231 val_loss=2.5364 scale=2.0000 norm=3.8196                                                                                             \n",
      "[iter 500] loss=2.2386 val_loss=2.4433 scale=2.0000 norm=3.5627                                                                                             \n",
      "== Early stopping achieved.                                                                                                                                 \n",
      "== Best iteration / VAL576 (val_loss=2.4219)                                                                                                                \n",
      " 91%|██████████████████████████████████████████████████████████████████████████▌       | 91/100 [3:05:10<17:04, 113.84s/trial, best loss: 2.381752374746717]"
     ]
    },
    {
     "name": "stderr",
     "output_type": "stream",
     "text": [
      "2021-07-28 02:31:02 INFO     {'Base': DecisionTreeRegressor(criterion='friedman_mse', max_leaf_nodes=127,\n",
      "                      min_samples_split=3, random_state=1), 'col_sample': 0.7000000000000001, 'learning_rate': 0.004, 'minibatch_frac': 0.9, 'n_estimators': 10000000, 'verbose_eval': 100, 'random_state': 13}\n"
     ]
    },
    {
     "name": "stdout",
     "output_type": "stream",
     "text": [
      "\r",
      " 92%|███████████████████████████████████████████████████████████████████████████▍      | 92/100 [3:05:10<14:18, 107.27s/trial, best loss: 2.381752374746717]"
     ]
    },
    {
     "name": "stderr",
     "output_type": "stream",
     "text": [
      "2021-07-28 02:31:02 INFO     build_posterior_wrapper took 0.001998 seconds\n",
      "2021-07-28 02:31:02 INFO     TPE using 92/92 trials with best loss 2.381752\n"
     ]
    },
    {
     "name": "stdout",
     "output_type": "stream",
     "text": [
      "{'Base': DecisionTreeRegressor(criterion='friedman_mse', max_leaf_nodes=63,                                                                                 \n",
      "                      min_samples_split=3, random_state=1), 'col_sample': 0.8, 'learning_rate': 0.002, 'minibatch_frac': 0.8, 'n_estimators': 10000000, 'verbose_eval': 100, 'random_state': 13}\n",
      "[iter 0] loss=3.8347 val_loss=3.8388 scale=2.0000 norm=18.2020                                                                                              \n",
      "[iter 100] loss=3.4937 val_loss=3.4961 scale=2.0000 norm=12.8145                                                                                            \n",
      "[iter 200] loss=3.2899 val_loss=3.2958 scale=2.0000 norm=9.3592                                                                                             \n",
      "[iter 300] loss=3.1177 val_loss=3.1268 scale=2.0000 norm=7.2245                                                                                             \n",
      "[iter 400] loss=2.9642 val_loss=2.9765 scale=2.0000 norm=5.9385                                                                                             \n",
      "[iter 500] loss=2.8251 val_loss=2.8431 scale=2.0000 norm=5.1691                                                                                             \n",
      "[iter 600] loss=2.6975 val_loss=2.7275 scale=2.0000 norm=4.6552                                                                                             \n",
      "[iter 700] loss=2.5906 val_loss=2.6309 scale=2.0000 norm=4.3953                                                                                             \n",
      "[iter 800] loss=2.4945 val_loss=2.5528 scale=2.0000 norm=4.2086                                                                                             \n",
      "[iter 900] loss=2.4143 val_loss=2.4928 scale=2.0000 norm=4.0960                                                                                             \n",
      "[iter 1000] loss=2.3464 val_loss=2.4482 scale=2.0000 norm=4.0165                                                                                            \n",
      "[iter 1100] loss=2.2852 val_loss=2.4175 scale=2.0000 norm=3.9283                                                                                            \n",
      "[iter 1200] loss=2.2335 val_loss=2.3979 scale=2.0000 norm=3.8609                                                                                            \n",
      "[iter 1300] loss=2.1941 val_loss=2.3869 scale=2.0000 norm=3.8326                                                                                            \n",
      "[iter 1400] loss=2.1584 val_loss=2.3832 scale=2.0000 norm=3.7864                                                                                            \n",
      "== Early stopping achieved.                                                                                                                                 \n",
      "== Best iteration / VAL1408 (val_loss=2.3831)                                                                                                               \n",
      " 92%|███████████████████████████████████████████████████████████████████████████▍      | 92/100 [3:08:26<14:18, 107.27s/trial, best loss: 2.381752374746717]"
     ]
    },
    {
     "name": "stderr",
     "output_type": "stream",
     "text": [
      "2021-07-28 02:34:18 INFO     {'Base': DecisionTreeRegressor(criterion='friedman_mse', max_leaf_nodes=63,\n",
      "                      min_samples_split=3, random_state=1), 'col_sample': 0.8, 'learning_rate': 0.002, 'minibatch_frac': 0.8, 'n_estimators': 10000000, 'verbose_eval': 100, 'random_state': 13}\n"
     ]
    },
    {
     "name": "stdout",
     "output_type": "stream",
     "text": [
      "\r",
      " 93%|████████████████████████████████████████████████████████████████████████████▎     | 93/100 [3:08:26<15:37, 133.94s/trial, best loss: 2.381752374746717]"
     ]
    },
    {
     "name": "stderr",
     "output_type": "stream",
     "text": [
      "2021-07-28 02:34:18 INFO     build_posterior_wrapper took 0.003011 seconds\n",
      "2021-07-28 02:34:18 INFO     TPE using 93/93 trials with best loss 2.381752\n"
     ]
    },
    {
     "name": "stdout",
     "output_type": "stream",
     "text": [
      "{'Base': DecisionTreeRegressor(criterion='friedman_mse', max_leaf_nodes=255,                                                                                \n",
      "                      min_samples_split=3, random_state=1), 'col_sample': 0.7000000000000001, 'learning_rate': 0.003, 'minibatch_frac': 0.9, 'n_estimators': 10000000, 'verbose_eval': 100, 'random_state': 13}\n",
      "[iter 0] loss=3.8335 val_loss=3.8356 scale=2.0000 norm=18.1602                                                                                              \n",
      "[iter 100] loss=3.3765 val_loss=3.3877 scale=2.0000 norm=10.7731                                                                                            \n",
      "[iter 200] loss=3.0909 val_loss=3.1184 scale=2.0000 norm=6.8713                                                                                             \n",
      "[iter 300] loss=2.8364 val_loss=2.8894 scale=2.0000 norm=4.9186                                                                                             \n",
      "[iter 400] loss=2.6019 val_loss=2.6984 scale=2.0000 norm=3.9015                                                                                             \n",
      "[iter 500] loss=2.3873 val_loss=2.5567 scale=2.0000 norm=3.3728                                                                                             \n",
      "[iter 600] loss=2.1923 val_loss=2.4757 scale=2.0000 norm=3.0291                                                                                             \n",
      "== Early stopping achieved.                                                                                                                                 \n",
      "== Best iteration / VAL661 (val_loss=2.4611)                                                                                                                \n",
      " 93%|████████████████████████████████████████████████████████████████████████████▎     | 93/100 [3:10:29<15:37, 133.94s/trial, best loss: 2.381752374746717]"
     ]
    },
    {
     "name": "stderr",
     "output_type": "stream",
     "text": [
      "2021-07-28 02:36:21 INFO     {'Base': DecisionTreeRegressor(criterion='friedman_mse', max_leaf_nodes=255,\n",
      "                      min_samples_split=3, random_state=1), 'col_sample': 0.7000000000000001, 'learning_rate': 0.003, 'minibatch_frac': 0.9, 'n_estimators': 10000000, 'verbose_eval': 100, 'random_state': 13}\n"
     ]
    },
    {
     "name": "stdout",
     "output_type": "stream",
     "text": [
      "\r",
      " 94%|█████████████████████████████████████████████████████████████████████████████     | 94/100 [3:10:29<13:03, 130.61s/trial, best loss: 2.381752374746717]"
     ]
    },
    {
     "name": "stderr",
     "output_type": "stream",
     "text": [
      "2021-07-28 02:36:21 INFO     build_posterior_wrapper took 0.002016 seconds\n",
      "2021-07-28 02:36:21 INFO     TPE using 94/94 trials with best loss 2.381752\n"
     ]
    },
    {
     "name": "stdout",
     "output_type": "stream",
     "text": [
      "{'Base': DecisionTreeRegressor(criterion='friedman_mse', max_leaf_nodes=63,                                                                                 \n",
      "                      min_samples_split=3, random_state=1), 'col_sample': 0.6000000000000001, 'learning_rate': 0.001, 'minibatch_frac': 0.6000000000000001, 'n_estimators': 10000000, 'verbose_eval': 100, 'random_state': 13}\n",
      "[iter 0] loss=3.8305 val_loss=3.8420 scale=2.0000 norm=18.0903                                                                                              \n",
      "[iter 100] loss=3.6407 val_loss=3.6406 scale=2.0000 norm=15.5258                                                                                            \n",
      "[iter 200] loss=3.5076 val_loss=3.5124 scale=2.0000 norm=13.1145                                                                                            \n",
      "[iter 300] loss=3.4004 val_loss=3.4080 scale=2.0000 norm=11.1731                                                                                            \n",
      "[iter 400] loss=3.3075 val_loss=3.3146 scale=2.0000 norm=9.7006                                                                                             \n",
      "[iter 500] loss=3.2212 val_loss=3.2286 scale=2.0000 norm=8.5343                                                                                             \n",
      "[iter 600] loss=3.1350 val_loss=3.1463 scale=2.0000 norm=7.5012                                                                                             \n",
      "[iter 700] loss=3.0583 val_loss=3.0692 scale=2.0000 norm=6.7814                                                                                             \n",
      "[iter 800] loss=2.9842 val_loss=2.9959 scale=2.0000 norm=6.1765                                                                                             \n",
      "[iter 900] loss=2.9120 val_loss=2.9269 scale=2.0000 norm=5.7063                                                                                             \n",
      "[iter 1000] loss=2.8432 val_loss=2.8618 scale=2.0000 norm=5.3304                                                                                            \n",
      "[iter 1100] loss=2.7812 val_loss=2.8014 scale=2.0000 norm=5.0894                                                                                            \n",
      "[iter 1200] loss=2.7154 val_loss=2.7454 scale=2.0000 norm=4.7787                                                                                            \n",
      "[iter 1300] loss=2.6619 val_loss=2.6943 scale=2.0000 norm=4.6528                                                                                            \n",
      "[iter 1400] loss=2.6057 val_loss=2.6480 scale=2.0000 norm=4.4712                                                                                            \n",
      "[iter 1500] loss=2.5565 val_loss=2.6060 scale=2.0000 norm=4.3523                                                                                            \n",
      "[iter 1600] loss=2.5136 val_loss=2.5688 scale=2.0000 norm=4.2814                                                                                            \n",
      "[iter 1700] loss=2.4684 val_loss=2.5358 scale=2.0000 norm=4.1973                                                                                            \n",
      "[iter 1800] loss=2.4336 val_loss=2.5072 scale=2.0000 norm=4.1654                                                                                            \n",
      "[iter 1900] loss=2.3979 val_loss=2.4829 scale=2.0000 norm=4.1205                                                                                            \n",
      "[iter 2000] loss=2.3614 val_loss=2.4615 scale=2.0000 norm=4.0454                                                                                            \n",
      "[iter 2100] loss=2.3366 val_loss=2.4438 scale=2.0000 norm=4.0518                                                                                            \n",
      "[iter 2200] loss=2.3030 val_loss=2.4289 scale=2.0000 norm=3.9672                                                                                            \n",
      "[iter 2300] loss=2.2771 val_loss=2.4168 scale=2.0000 norm=3.9470                                                                                            \n",
      "[iter 2400] loss=2.2582 val_loss=2.4076 scale=2.0000 norm=3.9449                                                                                            \n",
      "[iter 2500] loss=2.2379 val_loss=2.4004 scale=2.0000 norm=3.9263                                                                                            \n",
      "[iter 2600] loss=2.2130 val_loss=2.3950 scale=2.0000 norm=3.8765                                                                                            \n",
      "[iter 2700] loss=2.1915 val_loss=2.3915 scale=2.0000 norm=3.8371                                                                                            \n",
      "[iter 2800] loss=2.1724 val_loss=2.3896 scale=2.0000 norm=3.8019                                                                                            \n",
      "== Early stopping achieved.                                                                                                                                 \n",
      "== Best iteration / VAL2802 (val_loss=2.3895)                                                                                                               \n",
      " 94%|█████████████████████████████████████████████████████████████████████████████     | 94/100 [3:14:32<13:03, 130.61s/trial, best loss: 2.381752374746717]"
     ]
    },
    {
     "name": "stderr",
     "output_type": "stream",
     "text": [
      "2021-07-28 02:40:25 INFO     {'Base': DecisionTreeRegressor(criterion='friedman_mse', max_leaf_nodes=63,\n",
      "                      min_samples_split=3, random_state=1), 'col_sample': 0.6000000000000001, 'learning_rate': 0.001, 'minibatch_frac': 0.6000000000000001, 'n_estimators': 10000000, 'verbose_eval': 100, 'random_state': 13}\n"
     ]
    },
    {
     "name": "stdout",
     "output_type": "stream",
     "text": [
      "\r",
      " 95%|█████████████████████████████████████████████████████████████████████████████▉    | 95/100 [3:14:32<13:42, 164.53s/trial, best loss: 2.381752374746717]"
     ]
    },
    {
     "name": "stderr",
     "output_type": "stream",
     "text": [
      "2021-07-28 02:40:25 INFO     build_posterior_wrapper took 0.002001 seconds\n",
      "2021-07-28 02:40:25 INFO     TPE using 95/95 trials with best loss 2.381752\n"
     ]
    },
    {
     "name": "stdout",
     "output_type": "stream",
     "text": [
      "{'Base': DecisionTreeRegressor(criterion='friedman_mse', max_leaf_nodes=63,                                                                                 \n",
      "                      min_samples_split=3, random_state=1), 'col_sample': 0.8, 'learning_rate': 0.01, 'minibatch_frac': 1.0, 'n_estimators': 10000000, 'verbose_eval': 100, 'random_state': 13}\n",
      "[iter 0] loss=3.8345 val_loss=3.8144 scale=2.0000 norm=18.1911                                                                                              \n",
      "[iter 100] loss=2.8253 val_loss=2.8391 scale=2.0000 norm=5.1594                                                                                             \n",
      "[iter 200] loss=2.3488 val_loss=2.4527 scale=2.0000 norm=4.0224                                                                                             \n",
      "== Early stopping achieved.                                                                                                                                 \n",
      "== Best iteration / VAL281 (val_loss=2.3885)                                                                                                                \n",
      " 95%|█████████████████████████████████████████████████████████████████████████████▉    | 95/100 [3:15:24<13:42, 164.53s/trial, best loss: 2.381752374746717]"
     ]
    },
    {
     "name": "stderr",
     "output_type": "stream",
     "text": [
      "2021-07-28 02:41:16 INFO     {'Base': DecisionTreeRegressor(criterion='friedman_mse', max_leaf_nodes=63,\n",
      "                      min_samples_split=3, random_state=1), 'col_sample': 0.8, 'learning_rate': 0.01, 'minibatch_frac': 1.0, 'n_estimators': 10000000, 'verbose_eval': 100, 'random_state': 13}\n"
     ]
    },
    {
     "name": "stdout",
     "output_type": "stream",
     "text": [
      "\r",
      " 96%|██████████████████████████████████████████████████████████████████████████████▋   | 96/100 [3:15:24<08:42, 130.55s/trial, best loss: 2.381752374746717]"
     ]
    },
    {
     "name": "stderr",
     "output_type": "stream",
     "text": [
      "2021-07-28 02:41:16 INFO     build_posterior_wrapper took 0.004002 seconds\n",
      "2021-07-28 02:41:16 INFO     TPE using 96/96 trials with best loss 2.381752\n"
     ]
    },
    {
     "name": "stdout",
     "output_type": "stream",
     "text": [
      "{'Base': DecisionTreeRegressor(criterion='friedman_mse', max_leaf_nodes=127,                                                                                \n",
      "                      min_samples_split=3, random_state=1), 'col_sample': 0.6000000000000001, 'learning_rate': 0.007, 'minibatch_frac': 0.7000000000000001, 'n_estimators': 10000000, 'verbose_eval': 100, 'random_state': 13}\n",
      "[iter 0] loss=3.8314 val_loss=3.8233 scale=2.0000 norm=18.1206                                                                                              \n",
      "[iter 100] loss=3.0404 val_loss=3.0567 scale=2.0000 norm=6.5694                                                                                             \n",
      "[iter 200] loss=2.5500 val_loss=2.6287 scale=2.0000 norm=4.1323                                                                                             \n",
      "[iter 300] loss=2.2196 val_loss=2.4435 scale=2.0000 norm=3.5769                                                                                             \n",
      "== Early stopping achieved.                                                                                                                                 \n",
      "== Best iteration / VAL338 (val_loss=2.4310)                                                                                                                \n",
      " 96%|██████████████████████████████████████████████████████████████████████████████▋   | 96/100 [3:16:03<08:42, 130.55s/trial, best loss: 2.381752374746717]"
     ]
    },
    {
     "name": "stderr",
     "output_type": "stream",
     "text": [
      "2021-07-28 02:41:55 INFO     {'Base': DecisionTreeRegressor(criterion='friedman_mse', max_leaf_nodes=127,\n",
      "                      min_samples_split=3, random_state=1), 'col_sample': 0.6000000000000001, 'learning_rate': 0.007, 'minibatch_frac': 0.7000000000000001, 'n_estimators': 10000000, 'verbose_eval': 100, 'random_state': 13}\n"
     ]
    },
    {
     "name": "stdout",
     "output_type": "stream",
     "text": [
      "\r",
      " 97%|███████████████████████████████████████████████████████████████████████████████▌  | 97/100 [3:16:03<05:09, 103.19s/trial, best loss: 2.381752374746717]"
     ]
    },
    {
     "name": "stderr",
     "output_type": "stream",
     "text": [
      "2021-07-28 02:41:55 INFO     build_posterior_wrapper took 0.002000 seconds\n",
      "2021-07-28 02:41:55 INFO     TPE using 97/97 trials with best loss 2.381752\n"
     ]
    },
    {
     "name": "stdout",
     "output_type": "stream",
     "text": [
      "{'Base': DecisionTreeRegressor(criterion='friedman_mse', max_leaf_nodes=63,                                                                                 \n",
      "                      min_samples_split=3, random_state=1), 'col_sample': 1.0, 'learning_rate': 0.009000000000000001, 'minibatch_frac': 0.5, 'n_estimators': 10000000, 'verbose_eval': 100, 'random_state': 13}\n",
      "[iter 0] loss=3.8284 val_loss=3.8174 scale=2.0000 norm=18.0475                                                                                              \n",
      "[iter 100] loss=2.8934 val_loss=2.9038 scale=2.0000 norm=5.5072                                                                                             \n",
      "[iter 200] loss=2.4139 val_loss=2.4999 scale=2.0000 norm=4.1044                                                                                             \n",
      "[iter 300] loss=2.1686 val_loss=2.4021 scale=2.0000 norm=3.7759                                                                                             \n",
      "== Early stopping achieved.                                                                                                                                 \n",
      "== Best iteration / VAL296 (val_loss=2.4019)                                                                                                                \n",
      " 97%|███████████████████████████████████████████████████████████████████████████████▌  | 97/100 [3:16:40<05:09, 103.19s/trial, best loss: 2.381752374746717]"
     ]
    },
    {
     "name": "stderr",
     "output_type": "stream",
     "text": [
      "2021-07-28 02:42:32 INFO     {'Base': DecisionTreeRegressor(criterion='friedman_mse', max_leaf_nodes=63,\n",
      "                      min_samples_split=3, random_state=1), 'col_sample': 1.0, 'learning_rate': 0.009000000000000001, 'minibatch_frac': 0.5, 'n_estimators': 10000000, 'verbose_eval': 100, 'random_state': 13}\n"
     ]
    },
    {
     "name": "stdout",
     "output_type": "stream",
     "text": [
      "\r",
      " 98%|█████████████████████████████████████████████████████████████████████████████████▎ | 98/100 [3:16:40<02:46, 83.18s/trial, best loss: 2.381752374746717]"
     ]
    },
    {
     "name": "stderr",
     "output_type": "stream",
     "text": [
      "2021-07-28 02:42:32 INFO     build_posterior_wrapper took 0.000998 seconds\n",
      "2021-07-28 02:42:32 INFO     TPE using 98/98 trials with best loss 2.381752\n"
     ]
    },
    {
     "name": "stdout",
     "output_type": "stream",
     "text": [
      "{'Base': DecisionTreeRegressor(criterion='friedman_mse', max_leaf_nodes=63,                                                                                 \n",
      "                      min_samples_split=3, random_state=1), 'col_sample': 0.9, 'learning_rate': 0.003, 'minibatch_frac': 0.8, 'n_estimators': 10000000, 'verbose_eval': 100, 'random_state': 13}\n",
      "[iter 0] loss=3.8347 val_loss=3.8357 scale=2.0000 norm=18.2020                                                                                              \n",
      "[iter 100] loss=3.3855 val_loss=3.3879 scale=2.0000 norm=10.8710                                                                                            \n",
      "[iter 200] loss=3.1168 val_loss=3.1250 scale=2.0000 norm=7.2078                                                                                             \n",
      "[iter 300] loss=2.8905 val_loss=2.9064 scale=2.0000 norm=5.4905                                                                                             \n",
      "[iter 400] loss=2.6981 val_loss=2.7274 scale=2.0000 norm=4.6589                                                                                             \n",
      "[iter 500] loss=2.5399 val_loss=2.5909 scale=2.0000 norm=4.2837                                                                                             \n",
      "[iter 600] loss=2.4105 val_loss=2.4953 scale=2.0000 norm=4.0675                                                                                             \n",
      "[iter 700] loss=2.3138 val_loss=2.4352 scale=2.0000 norm=3.9674                                                                                             \n",
      "[iter 800] loss=2.2339 val_loss=2.4032 scale=2.0000 norm=3.8738                                                                                             \n",
      "[iter 900] loss=2.1713 val_loss=2.3909 scale=2.0000 norm=3.7954                                                                                             \n",
      "== Early stopping achieved.                                                                                                                                 \n",
      "== Best iteration / VAL929 (val_loss=2.3905)                                                                                                                \n",
      " 98%|█████████████████████████████████████████████████████████████████████████████████▎ | 98/100 [3:19:05<02:46, 83.18s/trial, best loss: 2.381752374746717]"
     ]
    },
    {
     "name": "stderr",
     "output_type": "stream",
     "text": [
      "2021-07-28 02:44:57 INFO     {'Base': DecisionTreeRegressor(criterion='friedman_mse', max_leaf_nodes=63,\n",
      "                      min_samples_split=3, random_state=1), 'col_sample': 0.9, 'learning_rate': 0.003, 'minibatch_frac': 0.8, 'n_estimators': 10000000, 'verbose_eval': 100, 'random_state': 13}\n"
     ]
    },
    {
     "name": "stdout",
     "output_type": "stream",
     "text": [
      "\r",
      " 99%|█████████████████████████████████████████████████████████████████████████████████▏| 99/100 [3:19:05<01:41, 101.86s/trial, best loss: 2.381752374746717]"
     ]
    },
    {
     "name": "stderr",
     "output_type": "stream",
     "text": [
      "2021-07-28 02:44:57 INFO     build_posterior_wrapper took 0.003000 seconds\n",
      "2021-07-28 02:44:57 INFO     TPE using 99/99 trials with best loss 2.381752\n"
     ]
    },
    {
     "name": "stdout",
     "output_type": "stream",
     "text": [
      "{'Base': DecisionTreeRegressor(criterion='friedman_mse', max_leaf_nodes=255,                                                                                \n",
      "                      min_samples_split=3, random_state=1), 'col_sample': 0.7000000000000001, 'learning_rate': 0.006, 'minibatch_frac': 0.7000000000000001, 'n_estimators': 10000000, 'verbose_eval': 100, 'random_state': 13}\n",
      "[iter 0] loss=3.8314 val_loss=3.8264 scale=2.0000 norm=18.1206                                                                                              \n",
      "[iter 100] loss=3.0915 val_loss=3.1145 scale=2.0000 norm=6.8758                                                                                             \n",
      "[iter 200] loss=2.6023 val_loss=2.6967 scale=2.0000 norm=3.9166                                                                                             \n",
      "[iter 300] loss=2.2006 val_loss=2.4771 scale=2.0000 norm=3.0821                                                                                             \n",
      "== Early stopping achieved.                                                                                                                                 \n",
      "== Best iteration / VAL328 (val_loss=2.4634)                                                                                                                \n",
      " 99%|█████████████████████████████████████████████████████████████████████████████████▏| 99/100 [3:19:56<01:41, 101.86s/trial, best loss: 2.381752374746717]"
     ]
    },
    {
     "name": "stderr",
     "output_type": "stream",
     "text": [
      "2021-07-28 02:45:48 INFO     {'Base': DecisionTreeRegressor(criterion='friedman_mse', max_leaf_nodes=255,\n",
      "                      min_samples_split=3, random_state=1), 'col_sample': 0.7000000000000001, 'learning_rate': 0.006, 'minibatch_frac': 0.7000000000000001, 'n_estimators': 10000000, 'verbose_eval': 100, 'random_state': 13}\n"
     ]
    },
    {
     "name": "stdout",
     "output_type": "stream",
     "text": [
      "100%|█████████████████████████████████████████████████████████████████████████████████| 100/100 [3:19:56<00:00, 119.96s/trial, best loss: 2.381752374746717]"
     ]
    },
    {
     "name": "stderr",
     "output_type": "stream",
     "text": [
      "2021-07-28 02:45:48 INFO     ...done\n"
     ]
    },
    {
     "name": "stdout",
     "output_type": "stream",
     "text": [
      "\n"
     ]
    }
   ],
   "source": [
    "# Arrival \n",
    "\n",
    "TRIALS = Trials()\n",
    "logger.info(\"Start parameter optimization...\")\n",
    "\n",
    "\n",
    "with warnings.catch_warnings():\n",
    "    warnings.simplefilter(\"ignore\")\n",
    "    best = fmin(fn=objective_a,\n",
    "                space=space,\n",
    "                algo=tpe.suggest,\n",
    "                max_evals=100,\n",
    "                trials=TRIALS)\n",
    "logger.info(\"...done\")"
   ]
  },
  {
   "cell_type": "code",
   "execution_count": 30,
   "id": "f000ada0",
   "metadata": {
    "ExecuteTime": {
     "end_time": "2021-07-27T17:45:49.713756Z",
     "start_time": "2021-07-27T17:45:49.702768Z"
    }
   },
   "outputs": [
    {
     "data": {
      "text/plain": [
       "{'Base': DecisionTreeRegressor(criterion='friedman_mse', max_leaf_nodes=63,\n",
       "                       min_samples_split=3, random_state=1),\n",
       " 'col_sample': 0.7000000000000001,\n",
       " 'learning_rate': 0.009000000000000001,\n",
       " 'minibatch_frac': 0.5}"
      ]
     },
     "execution_count": 30,
     "metadata": {},
     "output_type": "execute_result"
    }
   ],
   "source": [
    "best_params = space_eval(space, best)\n",
    "best_params"
   ]
  },
  {
   "cell_type": "code",
   "execution_count": 32,
   "id": "61eeaade",
   "metadata": {
    "ExecuteTime": {
     "end_time": "2021-07-28T02:39:44.613937Z",
     "start_time": "2021-07-27T22:37:27.639958Z"
    }
   },
   "outputs": [
    {
     "name": "stderr",
     "output_type": "stream",
     "text": [
      "2021-07-28 07:37:27 INFO     Start parameter optimization...\n"
     ]
    },
    {
     "name": "stdout",
     "output_type": "stream",
     "text": [
      "\r",
      "  0%|                                                                                                               | 0/100 [00:00<?, ?trial/s, best loss=?]"
     ]
    },
    {
     "name": "stderr",
     "output_type": "stream",
     "text": [
      "2021-07-28 07:37:27 INFO     build_posterior_wrapper took 0.001003 seconds\n",
      "2021-07-28 07:37:27 INFO     TPE using 0 trials\n"
     ]
    },
    {
     "name": "stdout",
     "output_type": "stream",
     "text": [
      "{'Base': DecisionTreeRegressor(criterion='friedman_mse', max_leaf_nodes=255,                                                                                \n",
      "                      min_samples_split=3, random_state=1), 'col_sample': 0.6000000000000001, 'learning_rate': 0.009000000000000001, 'minibatch_frac': 0.6000000000000001, 'n_estimators': 10000000, 'verbose_eval': 100, 'random_state': 13}\n",
      "[iter 0] loss=3.8305 val_loss=3.8172 scale=2.0000 norm=18.0903                                                                                              \n",
      "[iter 100] loss=2.8622 val_loss=2.9054 scale=2.0000 norm=5.1573                                                                                             \n",
      "[iter 200] loss=2.2288 val_loss=2.4882 scale=2.0000 norm=3.1797                                                                                             \n",
      "== Early stopping achieved.                                                                                                                                 \n",
      "== Best iteration / VAL221 (val_loss=2.4700)                                                                                                                \n",
      "  0%|                                                                                                               | 0/100 [00:26<?, ?trial/s, best loss=?]"
     ]
    },
    {
     "name": "stderr",
     "output_type": "stream",
     "text": [
      "2021-07-28 07:37:54 INFO     {'Base': DecisionTreeRegressor(criterion='friedman_mse', max_leaf_nodes=255,\n",
      "                      min_samples_split=3, random_state=1), 'col_sample': 0.6000000000000001, 'learning_rate': 0.009000000000000001, 'minibatch_frac': 0.6000000000000001, 'n_estimators': 10000000, 'verbose_eval': 100, 'random_state': 13}\n"
     ]
    },
    {
     "name": "stdout",
     "output_type": "stream",
     "text": [
      "\r",
      "  1%|▊                                                                                     | 1/100 [00:26<44:26, 26.93s/trial, best loss: 2.469990279251017]"
     ]
    },
    {
     "name": "stderr",
     "output_type": "stream",
     "text": [
      "2021-07-28 07:37:54 INFO     build_posterior_wrapper took 0.001991 seconds\n",
      "2021-07-28 07:37:54 INFO     TPE using 1/1 trials with best loss 2.469990\n"
     ]
    },
    {
     "name": "stdout",
     "output_type": "stream",
     "text": [
      "{'Base': DecisionTreeRegressor(criterion='friedman_mse', max_leaf_nodes=255,                                                                                \n",
      "                      min_samples_split=3, random_state=1), 'col_sample': 0.9, 'learning_rate': 0.004, 'minibatch_frac': 0.7000000000000001, 'n_estimators': 10000000, 'verbose_eval': 100, 'random_state': 13}\n",
      "[iter 0] loss=3.8314 val_loss=3.8325 scale=2.0000 norm=18.1206                                                                                              \n",
      "[iter 100] loss=3.2723 val_loss=3.2869 scale=2.0000 norm=9.1033                                                                                             \n",
      "[iter 200] loss=2.9138 val_loss=2.9573 scale=2.0000 norm=5.3569                                                                                             \n",
      "[iter 300] loss=2.5968 val_loss=2.6963 scale=2.0000 norm=3.8773                                                                                             \n",
      "[iter 400] loss=2.3149 val_loss=2.5240 scale=2.0000 norm=3.2193                                                                                             \n",
      "[iter 500] loss=2.0736 val_loss=2.4702 scale=2.0000 norm=2.8760                                                                                             \n",
      "== Early stopping achieved.                                                                                                                                 \n",
      "== Best iteration / VAL494 (val_loss=2.4694)                                                                                                                \n",
      "  1%|▊                                                                                     | 1/100 [02:05<44:26, 26.93s/trial, best loss: 2.469990279251017]"
     ]
    },
    {
     "name": "stderr",
     "output_type": "stream",
     "text": [
      "2021-07-28 07:39:32 INFO     {'Base': DecisionTreeRegressor(criterion='friedman_mse', max_leaf_nodes=255,\n",
      "                      min_samples_split=3, random_state=1), 'col_sample': 0.9, 'learning_rate': 0.004, 'minibatch_frac': 0.7000000000000001, 'n_estimators': 10000000, 'verbose_eval': 100, 'random_state': 13}\n"
     ]
    },
    {
     "name": "stdout",
     "output_type": "stream",
     "text": [
      "\r",
      "  2%|█▋                                                                                 | 2/100 [02:05<1:52:26, 68.84s/trial, best loss: 2.4694144110853338]"
     ]
    },
    {
     "name": "stderr",
     "output_type": "stream",
     "text": [
      "2021-07-28 07:39:32 INFO     build_posterior_wrapper took 0.001966 seconds\n",
      "2021-07-28 07:39:32 INFO     TPE using 2/2 trials with best loss 2.469414\n"
     ]
    },
    {
     "name": "stdout",
     "output_type": "stream",
     "text": [
      "{'Base': DecisionTreeRegressor(criterion='friedman_mse', max_leaf_nodes=127,                                                                                \n",
      "                      min_samples_split=3, random_state=1), 'col_sample': 0.7000000000000001, 'learning_rate': 0.003, 'minibatch_frac': 1.0, 'n_estimators': 10000000, 'verbose_eval': 100, 'random_state': 13}\n",
      "[iter 0] loss=3.8345 val_loss=3.8357 scale=2.0000 norm=18.1911                                                                                              \n",
      "[iter 100] loss=3.3884 val_loss=3.3950 scale=2.0000 norm=10.9650                                                                                            \n",
      "[iter 200] loss=3.1137 val_loss=3.1291 scale=2.0000 norm=7.1843                                                                                             \n",
      "[iter 300] loss=2.8750 val_loss=2.9052 scale=2.0000 norm=5.3204                                                                                             \n",
      "[iter 400] loss=2.6640 val_loss=2.7201 scale=2.0000 norm=4.4009                                                                                             \n",
      "[iter 500] loss=2.4820 val_loss=2.5790 scale=2.0000 norm=3.9375                                                                                             \n",
      "[iter 600] loss=2.3288 val_loss=2.4847 scale=2.0000 norm=3.6816                                                                                             \n",
      "[iter 700] loss=2.2018 val_loss=2.4364 scale=2.0000 norm=3.5093                                                                                             \n",
      "== Early stopping achieved.                                                                                                                                 \n",
      "== Best iteration / VAL774 (val_loss=2.4269)                                                                                                                \n",
      "  2%|█▋                                                                                 | 2/100 [04:21<1:52:26, 68.84s/trial, best loss: 2.4694144110853338]"
     ]
    },
    {
     "name": "stderr",
     "output_type": "stream",
     "text": [
      "2021-07-28 07:41:49 INFO     {'Base': DecisionTreeRegressor(criterion='friedman_mse', max_leaf_nodes=127,\n",
      "                      min_samples_split=3, random_state=1), 'col_sample': 0.7000000000000001, 'learning_rate': 0.003, 'minibatch_frac': 1.0, 'n_estimators': 10000000, 'verbose_eval': 100, 'random_state': 13}\n"
     ]
    },
    {
     "name": "stdout",
     "output_type": "stream",
     "text": [
      "\r",
      "  3%|██▌                                                                                 | 3/100 [04:21<2:41:10, 99.70s/trial, best loss: 2.426864153182845]"
     ]
    },
    {
     "name": "stderr",
     "output_type": "stream",
     "text": [
      "2021-07-28 07:41:49 INFO     build_posterior_wrapper took 0.002005 seconds\n",
      "2021-07-28 07:41:49 INFO     TPE using 3/3 trials with best loss 2.426864\n"
     ]
    },
    {
     "name": "stdout",
     "output_type": "stream",
     "text": [
      "{'Base': DecisionTreeRegressor(criterion='friedman_mse', max_leaf_nodes=63,                                                                                 \n",
      "                      min_samples_split=3, random_state=1), 'col_sample': 1.0, 'learning_rate': 0.007, 'minibatch_frac': 0.6000000000000001, 'n_estimators': 10000000, 'verbose_eval': 100, 'random_state': 13}\n",
      "[iter 0] loss=3.8305 val_loss=3.8235 scale=2.0000 norm=18.0903                                                                                              \n",
      "[iter 100] loss=3.0380 val_loss=3.0456 scale=2.0000 norm=6.4698                                                                                             \n",
      "[iter 200] loss=2.5895 val_loss=2.6326 scale=2.0000 norm=4.3988                                                                                             \n",
      "[iter 300] loss=2.3104 val_loss=2.4420 scale=2.0000 norm=3.9503                                                                                             \n",
      "== Early stopping achieved.                                                                                                                                 \n",
      "== Best iteration / VAL379 (val_loss=2.4018)                                                                                                                \n",
      "  3%|██▌                                                                                 | 3/100 [05:15<2:41:10, 99.70s/trial, best loss: 2.426864153182845]"
     ]
    },
    {
     "name": "stderr",
     "output_type": "stream",
     "text": [
      "2021-07-28 07:42:43 INFO     {'Base': DecisionTreeRegressor(criterion='friedman_mse', max_leaf_nodes=63,\n",
      "                      min_samples_split=3, random_state=1), 'col_sample': 1.0, 'learning_rate': 0.007, 'minibatch_frac': 0.6000000000000001, 'n_estimators': 10000000, 'verbose_eval': 100, 'random_state': 13}\n"
     ]
    },
    {
     "name": "stdout",
     "output_type": "stream",
     "text": [
      "\r",
      "  4%|███▎                                                                                | 4/100 [05:15<2:10:42, 81.69s/trial, best loss: 2.401837496339472]"
     ]
    },
    {
     "name": "stderr",
     "output_type": "stream",
     "text": [
      "2021-07-28 07:42:43 INFO     build_posterior_wrapper took 0.003002 seconds\n",
      "2021-07-28 07:42:43 INFO     TPE using 4/4 trials with best loss 2.401837\n"
     ]
    },
    {
     "name": "stdout",
     "output_type": "stream",
     "text": [
      "{'Base': DecisionTreeRegressor(criterion='friedman_mse', max_leaf_nodes=127,                                                                                \n",
      "                      min_samples_split=3, random_state=1), 'col_sample': 0.8, 'learning_rate': 0.006, 'minibatch_frac': 0.8, 'n_estimators': 10000000, 'verbose_eval': 100, 'random_state': 13}\n",
      "[iter 0] loss=3.8347 val_loss=3.8264 scale=2.0000 norm=18.2020                                                                                              \n",
      "[iter 100] loss=3.1051 val_loss=3.1180 scale=2.0000 norm=7.0515                                                                                             \n",
      "[iter 200] loss=2.6538 val_loss=2.7113 scale=2.0000 norm=4.3377                                                                                             \n",
      "[iter 300] loss=2.3207 val_loss=2.4812 scale=2.0000 norm=3.6662                                                                                             \n",
      "== Early stopping achieved.                                                                                                                                 \n",
      "== Best iteration / VAL381 (val_loss=2.4298)                                                                                                                \n",
      "  4%|███▎                                                                                | 4/100 [06:20<2:10:42, 81.69s/trial, best loss: 2.401837496339472]"
     ]
    },
    {
     "name": "stderr",
     "output_type": "stream",
     "text": [
      "2021-07-28 07:43:47 INFO     {'Base': DecisionTreeRegressor(criterion='friedman_mse', max_leaf_nodes=127,\n",
      "                      min_samples_split=3, random_state=1), 'col_sample': 0.8, 'learning_rate': 0.006, 'minibatch_frac': 0.8, 'n_estimators': 10000000, 'verbose_eval': 100, 'random_state': 13}\n"
     ]
    },
    {
     "name": "stdout",
     "output_type": "stream",
     "text": [
      "\r",
      "  5%|████▏                                                                               | 5/100 [06:20<1:59:35, 75.53s/trial, best loss: 2.401837496339472]"
     ]
    },
    {
     "name": "stderr",
     "output_type": "stream",
     "text": [
      "2021-07-28 07:43:47 INFO     build_posterior_wrapper took 0.002033 seconds\n",
      "2021-07-28 07:43:47 INFO     TPE using 5/5 trials with best loss 2.401837\n"
     ]
    },
    {
     "name": "stdout",
     "output_type": "stream",
     "text": [
      "{'Base': DecisionTreeRegressor(criterion='friedman_mse', max_leaf_nodes=255,                                                                                \n",
      "                      min_samples_split=3, random_state=1), 'col_sample': 0.6000000000000001, 'learning_rate': 0.006, 'minibatch_frac': 0.7000000000000001, 'n_estimators': 10000000, 'verbose_eval': 100, 'random_state': 13}\n",
      "[iter 0] loss=3.8314 val_loss=3.8264 scale=2.0000 norm=18.1206                                                                                              \n",
      "[iter 100] loss=3.1130 val_loss=3.1357 scale=2.0000 norm=7.1750                                                                                             \n",
      "[iter 200] loss=2.6246 val_loss=2.7140 scale=2.0000 norm=4.0527                                                                                             \n",
      "[iter 300] loss=2.2243 val_loss=2.4836 scale=2.0000 norm=3.1544                                                                                             \n",
      "== Early stopping achieved.                                                                                                                                 \n",
      "== Best iteration / VAL340 (val_loss=2.4612)                                                                                                                \n",
      "  5%|████▏                                                                               | 5/100 [07:08<1:59:35, 75.53s/trial, best loss: 2.401837496339472]"
     ]
    },
    {
     "name": "stderr",
     "output_type": "stream",
     "text": [
      "2021-07-28 07:44:36 INFO     {'Base': DecisionTreeRegressor(criterion='friedman_mse', max_leaf_nodes=255,\n",
      "                      min_samples_split=3, random_state=1), 'col_sample': 0.6000000000000001, 'learning_rate': 0.006, 'minibatch_frac': 0.7000000000000001, 'n_estimators': 10000000, 'verbose_eval': 100, 'random_state': 13}\n"
     ]
    },
    {
     "name": "stdout",
     "output_type": "stream",
     "text": [
      "\r",
      "  6%|█████                                                                               | 6/100 [07:08<1:43:44, 66.22s/trial, best loss: 2.401837496339472]"
     ]
    },
    {
     "name": "stderr",
     "output_type": "stream",
     "text": [
      "2021-07-28 07:44:36 INFO     build_posterior_wrapper took 0.003004 seconds\n",
      "2021-07-28 07:44:36 INFO     TPE using 6/6 trials with best loss 2.401837\n"
     ]
    },
    {
     "name": "stdout",
     "output_type": "stream",
     "text": [
      "{'Base': DecisionTreeRegressor(criterion='friedman_mse', max_leaf_nodes=63,                                                                                 \n",
      "                      min_samples_split=3, random_state=1), 'col_sample': 0.6000000000000001, 'learning_rate': 0.004, 'minibatch_frac': 0.7000000000000001, 'n_estimators': 10000000, 'verbose_eval': 100, 'random_state': 13}\n",
      "[iter 0] loss=3.8314 val_loss=3.8326 scale=2.0000 norm=18.1206                                                                                              \n",
      "[iter 100] loss=3.3091 val_loss=3.3114 scale=2.0000 norm=9.7401                                                                                             \n",
      "[iter 200] loss=2.9822 val_loss=2.9933 scale=2.0000 norm=6.1841                                                                                             \n",
      "[iter 300] loss=2.7191 val_loss=2.7441 scale=2.0000 norm=4.8347                                                                                             \n",
      "[iter 400] loss=2.5126 val_loss=2.5670 scale=2.0000 norm=4.2837                                                                                             \n",
      "[iter 500] loss=2.3639 val_loss=2.4605 scale=2.0000 norm=4.0635                                                                                             \n",
      "[iter 600] loss=2.2487 val_loss=2.4078 scale=2.0000 norm=3.8882                                                                                             \n",
      "[iter 700] loss=2.1730 val_loss=2.3917 scale=2.0000 norm=3.8089                                                                                             \n",
      "== Early stopping achieved.                                                                                                                                 \n",
      "== Best iteration / VAL713 (val_loss=2.3913)                                                                                                                \n",
      "  6%|█████                                                                               | 6/100 [08:21<1:43:44, 66.22s/trial, best loss: 2.401837496339472]"
     ]
    },
    {
     "name": "stderr",
     "output_type": "stream",
     "text": [
      "2021-07-28 07:45:48 INFO     {'Base': DecisionTreeRegressor(criterion='friedman_mse', max_leaf_nodes=63,\n",
      "                      min_samples_split=3, random_state=1), 'col_sample': 0.6000000000000001, 'learning_rate': 0.004, 'minibatch_frac': 0.7000000000000001, 'n_estimators': 10000000, 'verbose_eval': 100, 'random_state': 13}\n"
     ]
    },
    {
     "name": "stdout",
     "output_type": "stream",
     "text": [
      "\r",
      "  7%|█████▊                                                                             | 7/100 [08:21<1:46:03, 68.43s/trial, best loss: 2.3913455673974653]"
     ]
    },
    {
     "name": "stderr",
     "output_type": "stream",
     "text": [
      "2021-07-28 07:45:48 INFO     build_posterior_wrapper took 0.003017 seconds\n",
      "2021-07-28 07:45:48 INFO     TPE using 7/7 trials with best loss 2.391346\n"
     ]
    },
    {
     "name": "stdout",
     "output_type": "stream",
     "text": [
      "{'Base': DecisionTreeRegressor(criterion='friedman_mse', max_leaf_nodes=127,                                                                                \n",
      "                      min_samples_split=3, random_state=1), 'col_sample': 0.6000000000000001, 'learning_rate': 0.006, 'minibatch_frac': 1.0, 'n_estimators': 10000000, 'verbose_eval': 100, 'random_state': 13}\n",
      "[iter 0] loss=3.8345 val_loss=3.8266 scale=2.0000 norm=18.1911                                                                                              \n",
      "[iter 100] loss=3.1216 val_loss=3.1351 scale=2.0000 norm=7.3145                                                                                             \n",
      "[iter 200] loss=2.6728 val_loss=2.7267 scale=2.0000 norm=4.4656                                                                                             \n",
      "[iter 300] loss=2.3383 val_loss=2.4892 scale=2.0000 norm=3.7167                                                                                             \n",
      "[iter 400] loss=2.1080 val_loss=2.4258 scale=2.0000 norm=3.4029                                                                                             \n",
      "== Early stopping achieved.                                                                                                                                 \n",
      "== Best iteration / VAL395 (val_loss=2.4255)                                                                                                                \n",
      "  7%|█████▊                                                                             | 7/100 [09:22<1:46:03, 68.43s/trial, best loss: 2.3913455673974653]"
     ]
    },
    {
     "name": "stderr",
     "output_type": "stream",
     "text": [
      "2021-07-28 07:46:50 INFO     {'Base': DecisionTreeRegressor(criterion='friedman_mse', max_leaf_nodes=127,\n",
      "                      min_samples_split=3, random_state=1), 'col_sample': 0.6000000000000001, 'learning_rate': 0.006, 'minibatch_frac': 1.0, 'n_estimators': 10000000, 'verbose_eval': 100, 'random_state': 13}\n"
     ]
    },
    {
     "name": "stdout",
     "output_type": "stream",
     "text": [
      "\r",
      "  8%|██████▋                                                                            | 8/100 [09:22<1:41:29, 66.19s/trial, best loss: 2.3913455673974653]"
     ]
    },
    {
     "name": "stderr",
     "output_type": "stream",
     "text": [
      "2021-07-28 07:46:50 INFO     build_posterior_wrapper took 0.000997 seconds\n",
      "2021-07-28 07:46:50 INFO     TPE using 8/8 trials with best loss 2.391346\n"
     ]
    },
    {
     "name": "stdout",
     "output_type": "stream",
     "text": [
      "{'Base': DecisionTreeRegressor(criterion='friedman_mse', max_leaf_nodes=255,                                                                                \n",
      "                      min_samples_split=3, random_state=1), 'col_sample': 1.0, 'learning_rate': 0.003, 'minibatch_frac': 0.9, 'n_estimators': 10000000, 'verbose_eval': 100, 'random_state': 13}\n",
      "[iter 0] loss=3.8335 val_loss=3.8356 scale=2.0000 norm=18.1602                                                                                              \n",
      "[iter 100] loss=3.3712 val_loss=3.3833 scale=2.0000 norm=10.6669                                                                                            \n",
      "[iter 200] loss=3.0858 val_loss=3.1139 scale=2.0000 norm=6.7821                                                                                             \n",
      "[iter 300] loss=2.8297 val_loss=2.8861 scale=2.0000 norm=4.8405                                                                                             \n",
      "[iter 400] loss=2.5939 val_loss=2.6982 scale=2.0000 norm=3.8481                                                                                             \n",
      "[iter 500] loss=2.3785 val_loss=2.5621 scale=2.0000 norm=3.3282                                                                                             \n",
      "[iter 600] loss=2.1840 val_loss=2.4901 scale=2.0000 norm=3.0103                                                                                             \n",
      "== Early stopping achieved.                                                                                                                                 \n",
      "== Best iteration / VAL648 (val_loss=2.4814)                                                                                                                \n",
      "  8%|██████▋                                                                            | 8/100 [12:13<1:41:29, 66.19s/trial, best loss: 2.3913455673974653]"
     ]
    },
    {
     "name": "stderr",
     "output_type": "stream",
     "text": [
      "2021-07-28 07:49:41 INFO     {'Base': DecisionTreeRegressor(criterion='friedman_mse', max_leaf_nodes=255,\n",
      "                      min_samples_split=3, random_state=1), 'col_sample': 1.0, 'learning_rate': 0.003, 'minibatch_frac': 0.9, 'n_estimators': 10000000, 'verbose_eval': 100, 'random_state': 13}\n"
     ]
    },
    {
     "name": "stdout",
     "output_type": "stream",
     "text": [
      "\r",
      "  9%|███████▍                                                                           | 9/100 [12:13<2:30:05, 98.96s/trial, best loss: 2.3913455673974653]"
     ]
    },
    {
     "name": "stderr",
     "output_type": "stream",
     "text": [
      "2021-07-28 07:49:41 INFO     build_posterior_wrapper took 0.002034 seconds\n",
      "2021-07-28 07:49:41 INFO     TPE using 9/9 trials with best loss 2.391346\n"
     ]
    },
    {
     "name": "stdout",
     "output_type": "stream",
     "text": [
      "{'Base': DecisionTreeRegressor(criterion='friedman_mse', max_leaf_nodes=255,                                                                                \n",
      "                      min_samples_split=3, random_state=1), 'col_sample': 0.7000000000000001, 'learning_rate': 0.01, 'minibatch_frac': 1.0, 'n_estimators': 10000000, 'verbose_eval': 100, 'random_state': 13}\n",
      "[iter 0] loss=3.8345 val_loss=3.8143 scale=2.0000 norm=18.1911                                                                                              \n",
      "[iter 100] loss=2.7609 val_loss=2.8236 scale=2.0000 norm=4.5202                                                                                             \n",
      "[iter 200] loss=2.0839 val_loss=2.4698 scale=2.0000 norm=2.9030                                                                                             \n",
      "== Early stopping achieved.                                                                                                                                 \n",
      "== Best iteration / VAL199 (val_loss=2.4695)                                                                                                                \n",
      "  9%|███████▍                                                                           | 9/100 [12:56<2:30:05, 98.96s/trial, best loss: 2.3913455673974653]"
     ]
    },
    {
     "name": "stderr",
     "output_type": "stream",
     "text": [
      "2021-07-28 07:50:24 INFO     {'Base': DecisionTreeRegressor(criterion='friedman_mse', max_leaf_nodes=255,\n",
      "                      min_samples_split=3, random_state=1), 'col_sample': 0.7000000000000001, 'learning_rate': 0.01, 'minibatch_frac': 1.0, 'n_estimators': 10000000, 'verbose_eval': 100, 'random_state': 13}\n"
     ]
    },
    {
     "name": "stdout",
     "output_type": "stream",
     "text": [
      "\r",
      " 10%|████████▏                                                                         | 10/100 [12:56<2:02:35, 81.73s/trial, best loss: 2.3913455673974653]"
     ]
    },
    {
     "name": "stderr",
     "output_type": "stream",
     "text": [
      "2021-07-28 07:50:24 INFO     build_posterior_wrapper took 0.002002 seconds\n",
      "2021-07-28 07:50:24 INFO     TPE using 10/10 trials with best loss 2.391346\n"
     ]
    },
    {
     "name": "stdout",
     "output_type": "stream",
     "text": [
      "{'Base': DecisionTreeRegressor(criterion='friedman_mse', max_leaf_nodes=63,                                                                                 \n",
      "                      min_samples_split=3, random_state=1), 'col_sample': 0.9, 'learning_rate': 0.008, 'minibatch_frac': 0.8, 'n_estimators': 10000000, 'verbose_eval': 100, 'random_state': 13}\n",
      "[iter 0] loss=3.8347 val_loss=3.8204 scale=2.0000 norm=18.2020                                                                                              \n",
      "[iter 100] loss=2.9625 val_loss=2.9713 scale=2.0000 norm=5.9160                                                                                             \n",
      "[iter 200] loss=2.4939 val_loss=2.5562 scale=2.0000 norm=4.2081                                                                                             \n",
      "[iter 300] loss=2.2384 val_loss=2.4080 scale=2.0000 norm=3.8979                                                                                             \n",
      "== Early stopping achieved.                                                                                                                                 \n",
      "== Best iteration / VAL357 (val_loss=2.3938)                                                                                                                \n",
      " 10%|████████▏                                                                         | 10/100 [13:55<2:02:35, 81.73s/trial, best loss: 2.3913455673974653]"
     ]
    },
    {
     "name": "stderr",
     "output_type": "stream",
     "text": [
      "2021-07-28 07:51:23 INFO     {'Base': DecisionTreeRegressor(criterion='friedman_mse', max_leaf_nodes=63,\n",
      "                      min_samples_split=3, random_state=1), 'col_sample': 0.9, 'learning_rate': 0.008, 'minibatch_frac': 0.8, 'n_estimators': 10000000, 'verbose_eval': 100, 'random_state': 13}\n"
     ]
    },
    {
     "name": "stdout",
     "output_type": "stream",
     "text": [
      "\r",
      " 11%|█████████                                                                         | 11/100 [13:55<1:50:53, 74.76s/trial, best loss: 2.3913455673974653]"
     ]
    },
    {
     "name": "stderr",
     "output_type": "stream",
     "text": [
      "2021-07-28 07:51:23 INFO     build_posterior_wrapper took 0.003006 seconds\n",
      "2021-07-28 07:51:23 INFO     TPE using 11/11 trials with best loss 2.391346\n"
     ]
    },
    {
     "name": "stdout",
     "output_type": "stream",
     "text": [
      "{'Base': DecisionTreeRegressor(criterion='friedman_mse', max_leaf_nodes=63,                                                                                 \n",
      "                      min_samples_split=3, random_state=1), 'col_sample': 1.0, 'learning_rate': 0.008, 'minibatch_frac': 0.7000000000000001, 'n_estimators': 10000000, 'verbose_eval': 100, 'random_state': 13}\n",
      "[iter 0] loss=3.8314 val_loss=3.8203 scale=2.0000 norm=18.1206                                                                                              \n",
      "[iter 100] loss=2.9639 val_loss=2.9722 scale=2.0000 norm=5.9299                                                                                             \n",
      "[iter 200] loss=2.4949 val_loss=2.5567 scale=2.0000 norm=4.2208                                                                                             \n",
      "[iter 300] loss=2.2348 val_loss=2.4091 scale=2.0000 norm=3.8802                                                                                             \n",
      "== Early stopping achieved.                                                                                                                                 \n",
      "== Best iteration / VAL341 (val_loss=2.3969)                                                                                                                \n",
      " 11%|█████████                                                                         | 11/100 [14:50<1:50:53, 74.76s/trial, best loss: 2.3913455673974653]"
     ]
    },
    {
     "name": "stderr",
     "output_type": "stream",
     "text": [
      "2021-07-28 07:52:18 INFO     {'Base': DecisionTreeRegressor(criterion='friedman_mse', max_leaf_nodes=63,\n",
      "                      min_samples_split=3, random_state=1), 'col_sample': 1.0, 'learning_rate': 0.008, 'minibatch_frac': 0.7000000000000001, 'n_estimators': 10000000, 'verbose_eval': 100, 'random_state': 13}\n"
     ]
    },
    {
     "name": "stdout",
     "output_type": "stream",
     "text": [
      "\r",
      " 12%|█████████▊                                                                        | 12/100 [14:50<1:40:50, 68.75s/trial, best loss: 2.3913455673974653]"
     ]
    },
    {
     "name": "stderr",
     "output_type": "stream",
     "text": [
      "2021-07-28 07:52:18 INFO     build_posterior_wrapper took 0.003999 seconds\n",
      "2021-07-28 07:52:18 INFO     TPE using 12/12 trials with best loss 2.391346\n"
     ]
    },
    {
     "name": "stdout",
     "output_type": "stream",
     "text": [
      "{'Base': DecisionTreeRegressor(criterion='friedman_mse', max_leaf_nodes=127,                                                                                \n",
      "                      min_samples_split=3, random_state=1), 'col_sample': 0.9, 'learning_rate': 0.003, 'minibatch_frac': 1.0, 'n_estimators': 10000000, 'verbose_eval': 100, 'random_state': 13}\n",
      "[iter 0] loss=3.8345 val_loss=3.8356 scale=2.0000 norm=18.1911                                                                                              \n",
      "[iter 100] loss=3.3791 val_loss=3.3856 scale=2.0000 norm=10.7836                                                                                            \n",
      "[iter 200] loss=3.1044 val_loss=3.1201 scale=2.0000 norm=7.0493                                                                                             \n",
      "[iter 300] loss=2.8659 val_loss=2.8974 scale=2.0000 norm=5.2389                                                                                             \n",
      "[iter 400] loss=2.6553 val_loss=2.7136 scale=2.0000 norm=4.3498                                                                                             \n",
      "[iter 500] loss=2.4734 val_loss=2.5748 scale=2.0000 norm=3.9055                                                                                             \n",
      "[iter 600] loss=2.3204 val_loss=2.4840 scale=2.0000 norm=3.6577                                                                                             \n",
      "[iter 700] loss=2.1933 val_loss=2.4409 scale=2.0000 norm=3.4881                                                                                             \n",
      "== Early stopping achieved.                                                                                                                                 \n",
      "== Best iteration / VAL764 (val_loss=2.4344)                                                                                                                \n",
      " 12%|█████████▊                                                                        | 12/100 [17:46<1:40:50, 68.75s/trial, best loss: 2.3913455673974653]"
     ]
    },
    {
     "name": "stderr",
     "output_type": "stream",
     "text": [
      "2021-07-28 07:55:13 INFO     {'Base': DecisionTreeRegressor(criterion='friedman_mse', max_leaf_nodes=127,\n",
      "                      min_samples_split=3, random_state=1), 'col_sample': 0.9, 'learning_rate': 0.003, 'minibatch_frac': 1.0, 'n_estimators': 10000000, 'verbose_eval': 100, 'random_state': 13}\n"
     ]
    },
    {
     "name": "stdout",
     "output_type": "stream",
     "text": [
      "\r",
      " 13%|██████████▌                                                                      | 13/100 [17:46<2:26:25, 100.99s/trial, best loss: 2.3913455673974653]"
     ]
    },
    {
     "name": "stderr",
     "output_type": "stream",
     "text": [
      "2021-07-28 07:55:13 INFO     build_posterior_wrapper took 0.001999 seconds\n",
      "2021-07-28 07:55:13 INFO     TPE using 13/13 trials with best loss 2.391346\n"
     ]
    },
    {
     "name": "stdout",
     "output_type": "stream",
     "text": [
      "{'Base': DecisionTreeRegressor(criterion='friedman_mse', max_leaf_nodes=63,                                                                                 \n",
      "                      min_samples_split=3, random_state=1), 'col_sample': 1.0, 'learning_rate': 0.009000000000000001, 'minibatch_frac': 0.6000000000000001, 'n_estimators': 10000000, 'verbose_eval': 100, 'random_state': 13}\n",
      "[iter 0] loss=3.8305 val_loss=3.8174 scale=2.0000 norm=18.0903                                                                                              \n",
      "[iter 100] loss=2.8911 val_loss=2.9044 scale=2.0000 norm=5.4674                                                                                             \n",
      "[iter 200] loss=2.4148 val_loss=2.5013 scale=2.0000 norm=4.1069                                                                                             \n",
      "[iter 300] loss=2.1672 val_loss=2.4040 scale=2.0000 norm=3.7769                                                                                             \n",
      "== Early stopping achieved.                                                                                                                                 \n",
      "== Best iteration / VAL310 (val_loss=2.4029)                                                                                                                \n",
      " 13%|██████████▌                                                                      | 13/100 [18:30<2:26:25, 100.99s/trial, best loss: 2.3913455673974653]"
     ]
    },
    {
     "name": "stderr",
     "output_type": "stream",
     "text": [
      "2021-07-28 07:55:58 INFO     {'Base': DecisionTreeRegressor(criterion='friedman_mse', max_leaf_nodes=63,\n",
      "                      min_samples_split=3, random_state=1), 'col_sample': 1.0, 'learning_rate': 0.009000000000000001, 'minibatch_frac': 0.6000000000000001, 'n_estimators': 10000000, 'verbose_eval': 100, 'random_state': 13}\n"
     ]
    },
    {
     "name": "stdout",
     "output_type": "stream",
     "text": [
      "\r",
      " 14%|███████████▍                                                                      | 14/100 [18:30<2:00:28, 84.06s/trial, best loss: 2.3913455673974653]"
     ]
    },
    {
     "name": "stderr",
     "output_type": "stream",
     "text": [
      "2021-07-28 07:55:58 INFO     build_posterior_wrapper took 0.001995 seconds\n",
      "2021-07-28 07:55:58 INFO     TPE using 14/14 trials with best loss 2.391346\n"
     ]
    },
    {
     "name": "stdout",
     "output_type": "stream",
     "text": [
      "{'Base': DecisionTreeRegressor(criterion='friedman_mse', max_leaf_nodes=255,                                                                                \n",
      "                      min_samples_split=3, random_state=1), 'col_sample': 0.7000000000000001, 'learning_rate': 0.002, 'minibatch_frac': 0.5, 'n_estimators': 10000000, 'verbose_eval': 100, 'random_state': 13}\n",
      "[iter 0] loss=3.8284 val_loss=3.8388 scale=2.0000 norm=18.0475                                                                                              \n",
      "[iter 100] loss=3.4935 val_loss=3.4989 scale=2.0000 norm=12.8915                                                                                            \n",
      "[iter 200] loss=3.2821 val_loss=3.2973 scale=2.0000 norm=9.2757                                                                                             \n",
      "[iter 300] loss=3.0950 val_loss=3.1238 scale=2.0000 norm=6.9029                                                                                             \n",
      "[iter 400] loss=2.9232 val_loss=2.9670 scale=2.0000 norm=5.4534                                                                                             \n",
      "[iter 500] loss=2.7663 val_loss=2.8263 scale=2.0000 norm=4.5808                                                                                             \n",
      "[iter 600] loss=2.6101 val_loss=2.7030 scale=2.0000 norm=3.9494                                                                                             \n",
      "[iter 700] loss=2.4671 val_loss=2.6010 scale=2.0000 norm=3.5523                                                                                             \n",
      "[iter 800] loss=2.3357 val_loss=2.5235 scale=2.0000 norm=3.3115                                                                                             \n",
      "[iter 900] loss=2.2131 val_loss=2.4734 scale=2.0000 norm=3.1196                                                                                             \n",
      "[iter 1000] loss=2.0996 val_loss=2.4531 scale=2.0000 norm=2.9601                                                                                            \n",
      "== Early stopping achieved.                                                                                                                                 \n",
      "== Best iteration / VAL1015 (val_loss=2.4525)                                                                                                               \n",
      " 14%|███████████▍                                                                      | 14/100 [20:37<2:00:28, 84.06s/trial, best loss: 2.3913455673974653]"
     ]
    },
    {
     "name": "stderr",
     "output_type": "stream",
     "text": [
      "2021-07-28 07:58:05 INFO     {'Base': DecisionTreeRegressor(criterion='friedman_mse', max_leaf_nodes=255,\n",
      "                      min_samples_split=3, random_state=1), 'col_sample': 0.7000000000000001, 'learning_rate': 0.002, 'minibatch_frac': 0.5, 'n_estimators': 10000000, 'verbose_eval': 100, 'random_state': 13}\n"
     ]
    },
    {
     "name": "stdout",
     "output_type": "stream",
     "text": [
      "\r",
      " 15%|████████████▎                                                                     | 15/100 [20:37<2:17:22, 96.97s/trial, best loss: 2.3913455673974653]"
     ]
    },
    {
     "name": "stderr",
     "output_type": "stream",
     "text": [
      "2021-07-28 07:58:05 INFO     build_posterior_wrapper took 0.001036 seconds\n",
      "2021-07-28 07:58:05 INFO     TPE using 15/15 trials with best loss 2.391346\n"
     ]
    },
    {
     "name": "stdout",
     "output_type": "stream",
     "text": [
      "{'Base': DecisionTreeRegressor(criterion='friedman_mse', max_leaf_nodes=255,                                                                                \n",
      "                      min_samples_split=3, random_state=1), 'col_sample': 0.7000000000000001, 'learning_rate': 0.007, 'minibatch_frac': 0.9, 'n_estimators': 10000000, 'verbose_eval': 100, 'random_state': 13}\n",
      "[iter 0] loss=3.8335 val_loss=3.8233 scale=2.0000 norm=18.1602                                                                                              \n",
      "[iter 100] loss=3.0025 val_loss=3.0330 scale=2.0000 norm=6.0408                                                                                             \n",
      "[iter 200] loss=2.4532 val_loss=2.5953 scale=2.0000 norm=3.4935                                                                                             \n",
      "== Early stopping achieved.                                                                                                                                 \n",
      "== Best iteration / VAL281 (val_loss=2.4648)                                                                                                                \n",
      " 15%|████████████▎                                                                     | 15/100 [21:32<2:17:22, 96.97s/trial, best loss: 2.3913455673974653]"
     ]
    },
    {
     "name": "stderr",
     "output_type": "stream",
     "text": [
      "2021-07-28 07:59:00 INFO     {'Base': DecisionTreeRegressor(criterion='friedman_mse', max_leaf_nodes=255,\n",
      "                      min_samples_split=3, random_state=1), 'col_sample': 0.7000000000000001, 'learning_rate': 0.007, 'minibatch_frac': 0.9, 'n_estimators': 10000000, 'verbose_eval': 100, 'random_state': 13}\n"
     ]
    },
    {
     "name": "stdout",
     "output_type": "stream",
     "text": [
      "\r",
      " 16%|█████████████                                                                     | 16/100 [21:32<1:57:55, 84.23s/trial, best loss: 2.3913455673974653]"
     ]
    },
    {
     "name": "stderr",
     "output_type": "stream",
     "text": [
      "2021-07-28 07:59:00 INFO     build_posterior_wrapper took 0.002985 seconds\n",
      "2021-07-28 07:59:00 INFO     TPE using 16/16 trials with best loss 2.391346\n"
     ]
    },
    {
     "name": "stdout",
     "output_type": "stream",
     "text": [
      "{'Base': DecisionTreeRegressor(criterion='friedman_mse', max_leaf_nodes=127,                                                                                \n",
      "                      min_samples_split=3, random_state=1), 'col_sample': 1.0, 'learning_rate': 0.003, 'minibatch_frac': 0.8, 'n_estimators': 10000000, 'verbose_eval': 100, 'random_state': 13}\n",
      "[iter 0] loss=3.8347 val_loss=3.8357 scale=2.0000 norm=18.2020                                                                                              \n",
      "[iter 100] loss=3.3787 val_loss=3.3854 scale=2.0000 norm=10.7729                                                                                            \n",
      "[iter 200] loss=3.1025 val_loss=3.1197 scale=2.0000 norm=7.0054                                                                                             \n",
      "[iter 300] loss=2.8654 val_loss=2.8974 scale=2.0000 norm=5.2316                                                                                             \n",
      "[iter 400] loss=2.6530 val_loss=2.7146 scale=2.0000 norm=4.3298                                                                                             \n",
      "[iter 500] loss=2.4721 val_loss=2.5766 scale=2.0000 norm=3.8968                                                                                             \n",
      "[iter 600] loss=2.3174 val_loss=2.4867 scale=2.0000 norm=3.6399                                                                                             \n",
      "[iter 700] loss=2.1896 val_loss=2.4441 scale=2.0000 norm=3.4780                                                                                             \n",
      "== Early stopping achieved.                                                                                                                                 \n",
      "== Best iteration / VAL754 (val_loss=2.4378)                                                                                                                \n",
      " 16%|█████████████                                                                     | 16/100 [24:07<1:57:55, 84.23s/trial, best loss: 2.3913455673974653]"
     ]
    },
    {
     "name": "stderr",
     "output_type": "stream",
     "text": [
      "2021-07-28 08:01:35 INFO     {'Base': DecisionTreeRegressor(criterion='friedman_mse', max_leaf_nodes=127,\n",
      "                      min_samples_split=3, random_state=1), 'col_sample': 1.0, 'learning_rate': 0.003, 'minibatch_frac': 0.8, 'n_estimators': 10000000, 'verbose_eval': 100, 'random_state': 13}\n"
     ]
    },
    {
     "name": "stdout",
     "output_type": "stream",
     "text": [
      "\r",
      " 17%|█████████████▊                                                                   | 17/100 [24:07<2:26:08, 105.64s/trial, best loss: 2.3913455673974653]"
     ]
    },
    {
     "name": "stderr",
     "output_type": "stream",
     "text": [
      "2021-07-28 08:01:35 INFO     build_posterior_wrapper took 0.002996 seconds\n",
      "2021-07-28 08:01:35 INFO     TPE using 17/17 trials with best loss 2.391346\n"
     ]
    },
    {
     "name": "stdout",
     "output_type": "stream",
     "text": [
      "{'Base': DecisionTreeRegressor(criterion='friedman_mse', max_leaf_nodes=127,                                                                                \n",
      "                      min_samples_split=3, random_state=1), 'col_sample': 0.9, 'learning_rate': 0.001, 'minibatch_frac': 0.6000000000000001, 'n_estimators': 10000000, 'verbose_eval': 100, 'random_state': 13}\n",
      "[iter 0] loss=3.8305 val_loss=3.8420 scale=2.0000 norm=18.0903                                                                                              \n",
      "[iter 100] loss=3.6263 val_loss=3.6279 scale=2.0000 norm=15.2846                                                                                            \n",
      "[iter 200] loss=3.4880 val_loss=3.4952 scale=2.0000 norm=12.7416                                                                                            \n",
      "[iter 300] loss=3.3774 val_loss=3.3882 scale=2.0000 norm=10.7373                                                                                            \n",
      "[iter 400] loss=3.2808 val_loss=3.2928 scale=2.0000 norm=9.2126                                                                                             \n",
      "[iter 500] loss=3.1910 val_loss=3.2046 scale=2.0000 norm=8.0287                                                                                             \n",
      "[iter 600] loss=3.1019 val_loss=3.1216 scale=2.0000 norm=7.0135                                                                                             \n",
      "[iter 700] loss=3.0216 val_loss=3.0430 scale=2.0000 norm=6.3019                                                                                             \n",
      "[iter 800] loss=2.9434 val_loss=2.9685 scale=2.0000 norm=5.7091                                                                                             \n",
      "[iter 900] loss=2.8660 val_loss=2.8981 scale=2.0000 norm=5.2356                                                                                             \n",
      "[iter 1000] loss=2.7924 val_loss=2.8322 scale=2.0000 norm=4.8708                                                                                            \n",
      "[iter 1100] loss=2.7240 val_loss=2.7705 scale=2.0000 norm=4.6213                                                                                            \n",
      "[iter 1200] loss=2.6526 val_loss=2.7138 scale=2.0000 norm=4.3223                                                                                            \n",
      "[iter 1300] loss=2.5917 val_loss=2.6620 scale=2.0000 norm=4.1912                                                                                            \n",
      "[iter 1400] loss=2.5285 val_loss=2.6155 scale=2.0000 norm=4.0084                                                                                            \n",
      "[iter 1500] loss=2.4714 val_loss=2.5743 scale=2.0000 norm=3.8830                                                                                            \n",
      "[iter 1600] loss=2.4188 val_loss=2.5383 scale=2.0000 norm=3.7887                                                                                            \n",
      "[iter 1700] loss=2.3658 val_loss=2.5080 scale=2.0000 norm=3.7076                                                                                            \n",
      "[iter 1800] loss=2.3220 val_loss=2.4828 scale=2.0000 norm=3.6645                                                                                            \n",
      "[iter 1900] loss=2.2768 val_loss=2.4627 scale=2.0000 norm=3.6079                                                                                            \n",
      "[iter 2000] loss=2.2314 val_loss=2.4475 scale=2.0000 norm=3.5264                                                                                            \n",
      "[iter 2100] loss=2.1961 val_loss=2.4369 scale=2.0000 norm=3.5123                                                                                            \n",
      "[iter 2200] loss=2.1543 val_loss=2.4310 scale=2.0000 norm=3.4220                                                                                            \n",
      "[iter 2300] loss=2.1197 val_loss=2.4290 scale=2.0000 norm=3.3858                                                                                            \n",
      "== Early stopping achieved.                                                                                                                                 \n",
      "== Best iteration / VAL2305 (val_loss=2.4290)                                                                                                               \n",
      " 17%|█████████████▊                                                                   | 17/100 [29:47<2:26:08, 105.64s/trial, best loss: 2.3913455673974653]"
     ]
    },
    {
     "name": "stderr",
     "output_type": "stream",
     "text": [
      "2021-07-28 08:07:14 INFO     {'Base': DecisionTreeRegressor(criterion='friedman_mse', max_leaf_nodes=127,\n",
      "                      min_samples_split=3, random_state=1), 'col_sample': 0.9, 'learning_rate': 0.001, 'minibatch_frac': 0.6000000000000001, 'n_estimators': 10000000, 'verbose_eval': 100, 'random_state': 13}\n"
     ]
    },
    {
     "name": "stdout",
     "output_type": "stream",
     "text": [
      "\r",
      " 18%|██████████████▌                                                                  | 18/100 [29:47<4:00:20, 175.86s/trial, best loss: 2.3913455673974653]"
     ]
    },
    {
     "name": "stderr",
     "output_type": "stream",
     "text": [
      "2021-07-28 08:07:14 INFO     build_posterior_wrapper took 0.001985 seconds\n",
      "2021-07-28 08:07:14 INFO     TPE using 18/18 trials with best loss 2.391346\n"
     ]
    },
    {
     "name": "stdout",
     "output_type": "stream",
     "text": [
      "{'Base': DecisionTreeRegressor(criterion='friedman_mse', max_leaf_nodes=63,                                                                                 \n",
      "                      min_samples_split=3, random_state=1), 'col_sample': 0.7000000000000001, 'learning_rate': 0.01, 'minibatch_frac': 0.5, 'n_estimators': 10000000, 'verbose_eval': 100, 'random_state': 13}\n",
      "[iter 0] loss=3.8284 val_loss=3.8144 scale=2.0000 norm=18.0475                                                                                              \n",
      "[iter 100] loss=2.8302 val_loss=2.8417 scale=2.0000 norm=5.2414                                                                                             \n",
      "[iter 200] loss=2.3524 val_loss=2.4526 scale=2.0000 norm=4.0422                                                                                             \n",
      "== Early stopping achieved.                                                                                                                                 \n",
      "== Best iteration / VAL278 (val_loss=2.3860)                                                                                                                \n",
      " 18%|██████████████▌                                                                  | 18/100 [30:13<4:00:20, 175.86s/trial, best loss: 2.3913455673974653]"
     ]
    },
    {
     "name": "stderr",
     "output_type": "stream",
     "text": [
      "2021-07-28 08:07:41 INFO     {'Base': DecisionTreeRegressor(criterion='friedman_mse', max_leaf_nodes=63,\n",
      "                      min_samples_split=3, random_state=1), 'col_sample': 0.7000000000000001, 'learning_rate': 0.01, 'minibatch_frac': 0.5, 'n_estimators': 10000000, 'verbose_eval': 100, 'random_state': 13}\n"
     ]
    },
    {
     "name": "stdout",
     "output_type": "stream",
     "text": [
      "\r",
      " 19%|███████████████▍                                                                 | 19/100 [30:13<2:56:42, 130.90s/trial, best loss: 2.3859982377215285]"
     ]
    },
    {
     "name": "stderr",
     "output_type": "stream",
     "text": [
      "2021-07-28 08:07:41 INFO     build_posterior_wrapper took 0.001999 seconds\n",
      "2021-07-28 08:07:41 INFO     TPE using 19/19 trials with best loss 2.385998\n"
     ]
    },
    {
     "name": "stdout",
     "output_type": "stream",
     "text": [
      "{'Base': DecisionTreeRegressor(criterion='friedman_mse', max_leaf_nodes=255,                                                                                \n",
      "                      min_samples_split=3, random_state=1), 'col_sample': 0.8, 'learning_rate': 0.003, 'minibatch_frac': 0.6000000000000001, 'n_estimators': 10000000, 'verbose_eval': 100, 'random_state': 13}\n",
      "[iter 0] loss=3.8305 val_loss=3.8357 scale=2.0000 norm=18.0903                                                                                              \n",
      "[iter 100] loss=3.3767 val_loss=3.3844 scale=2.0000 norm=10.7963                                                                                            \n",
      "[iter 200] loss=3.0887 val_loss=3.1147 scale=2.0000 norm=6.8357                                                                                             \n",
      "[iter 300] loss=2.8329 val_loss=2.8858 scale=2.0000 norm=4.8714                                                                                             \n",
      "[iter 400] loss=2.5988 val_loss=2.6958 scale=2.0000 norm=3.8750                                                                                             \n",
      "[iter 500] loss=2.3870 val_loss=2.5550 scale=2.0000 norm=3.3722                                                                                             \n",
      "[iter 600] loss=2.1929 val_loss=2.4752 scale=2.0000 norm=3.0329                                                                                             \n",
      "== Early stopping achieved.                                                                                                                                 \n",
      "== Best iteration / VAL662 (val_loss=2.4605)                                                                                                                \n",
      " 19%|███████████████▍                                                                 | 19/100 [31:57<2:56:42, 130.90s/trial, best loss: 2.3859982377215285]"
     ]
    },
    {
     "name": "stderr",
     "output_type": "stream",
     "text": [
      "2021-07-28 08:09:24 INFO     {'Base': DecisionTreeRegressor(criterion='friedman_mse', max_leaf_nodes=255,\n",
      "                      min_samples_split=3, random_state=1), 'col_sample': 0.8, 'learning_rate': 0.003, 'minibatch_frac': 0.6000000000000001, 'n_estimators': 10000000, 'verbose_eval': 100, 'random_state': 13}\n"
     ]
    },
    {
     "name": "stdout",
     "output_type": "stream",
     "text": [
      "\r",
      " 20%|████████████████▏                                                                | 20/100 [31:57<2:43:37, 122.72s/trial, best loss: 2.3859982377215285]"
     ]
    },
    {
     "name": "stderr",
     "output_type": "stream",
     "text": [
      "2021-07-28 08:09:24 INFO     build_posterior_wrapper took 0.002003 seconds\n",
      "2021-07-28 08:09:24 INFO     TPE using 20/20 trials with best loss 2.385998\n"
     ]
    },
    {
     "name": "stdout",
     "output_type": "stream",
     "text": [
      "{'Base': DecisionTreeRegressor(criterion='friedman_mse', max_leaf_nodes=63,                                                                                 \n",
      "                      min_samples_split=3, random_state=1), 'col_sample': 0.5, 'learning_rate': 0.005, 'minibatch_frac': 0.5, 'n_estimators': 10000000, 'verbose_eval': 100, 'random_state': 13}\n",
      "[iter 0] loss=3.8284 val_loss=3.8295 scale=2.0000 norm=18.0475                                                                                              \n",
      "[iter 100] loss=3.2356 val_loss=3.2360 scale=2.0000 norm=8.7849                                                                                             \n",
      "[iter 200] loss=2.8586 val_loss=2.8737 scale=2.0000 norm=5.5271                                                                                             \n",
      "[iter 300] loss=2.5739 val_loss=2.6181 scale=2.0000 norm=4.4673                                                                                             \n",
      "[iter 400] loss=2.3752 val_loss=2.4718 scale=2.0000 norm=4.0937                                                                                             \n",
      "[iter 500] loss=2.2499 val_loss=2.4111 scale=2.0000 norm=3.9452                                                                                             \n",
      "== Early stopping achieved.                                                                                                                                 \n",
      "== Best iteration / VAL585 (val_loss=2.3963)                                                                                                                \n",
      " 20%|████████████████▏                                                                | 20/100 [32:37<2:43:37, 122.72s/trial, best loss: 2.3859982377215285]"
     ]
    },
    {
     "name": "stderr",
     "output_type": "stream",
     "text": [
      "2021-07-28 08:10:05 INFO     {'Base': DecisionTreeRegressor(criterion='friedman_mse', max_leaf_nodes=63,\n",
      "                      min_samples_split=3, random_state=1), 'col_sample': 0.5, 'learning_rate': 0.005, 'minibatch_frac': 0.5, 'n_estimators': 10000000, 'verbose_eval': 100, 'random_state': 13}\n"
     ]
    },
    {
     "name": "stdout",
     "output_type": "stream",
     "text": [
      "\r",
      " 21%|█████████████████▏                                                                | 21/100 [32:37<2:09:05, 98.05s/trial, best loss: 2.3859982377215285]"
     ]
    },
    {
     "name": "stderr",
     "output_type": "stream",
     "text": [
      "2021-07-28 08:10:05 INFO     build_posterior_wrapper took 0.003021 seconds\n",
      "2021-07-28 08:10:05 INFO     TPE using 21/21 trials with best loss 2.385998\n"
     ]
    },
    {
     "name": "stdout",
     "output_type": "stream",
     "text": [
      "{'Base': DecisionTreeRegressor(criterion='friedman_mse', max_leaf_nodes=63,                                                                                 \n",
      "                      min_samples_split=3, random_state=1), 'col_sample': 0.5, 'learning_rate': 0.001, 'minibatch_frac': 0.5, 'n_estimators': 10000000, 'verbose_eval': 100, 'random_state': 13}\n",
      "[iter 0] loss=3.8284 val_loss=3.8420 scale=2.0000 norm=18.0475                                                                                              \n",
      "[iter 100] loss=3.6453 val_loss=3.6458 scale=2.0000 norm=15.5955                                                                                            \n",
      "[iter 200] loss=3.5171 val_loss=3.5218 scale=1.0000 norm=6.6584                                                                                             \n",
      "[iter 300] loss=3.4107 val_loss=3.4200 scale=2.0000 norm=11.3824                                                                                            \n",
      "[iter 400] loss=3.3172 val_loss=3.3273 scale=2.0000 norm=9.8994                                                                                             \n",
      "[iter 500] loss=3.2373 val_loss=3.2427 scale=2.0000 norm=8.8421                                                                                             \n",
      "[iter 600] loss=3.1505 val_loss=3.1612 scale=2.0000 norm=7.7749                                                                                             \n",
      "[iter 700] loss=3.0734 val_loss=3.0843 scale=2.0000 norm=6.9952                                                                                             \n",
      "[iter 800] loss=2.9979 val_loss=3.0113 scale=2.0000 norm=6.3305                                                                                             \n",
      "[iter 900] loss=2.9288 val_loss=2.9429 scale=2.0000 norm=5.9024                                                                                             \n",
      "[iter 1000] loss=2.8598 val_loss=2.8781 scale=2.0000 norm=5.4904                                                                                            \n",
      "[iter 1100] loss=2.7953 val_loss=2.8175 scale=2.0000 norm=5.2294                                                                                            \n",
      "[iter 1200] loss=2.7312 val_loss=2.7614 scale=2.0000 norm=4.8987                                                                                            \n",
      "[iter 1300] loss=2.6773 val_loss=2.7101 scale=2.0000 norm=4.7387                                                                                            \n",
      "[iter 1400] loss=2.6218 val_loss=2.6637 scale=2.0000 norm=4.5730                                                                                            \n",
      "[iter 1500] loss=2.5755 val_loss=2.6216 scale=2.0000 norm=4.4669                                                                                            \n",
      "[iter 1600] loss=2.5339 val_loss=2.5838 scale=2.0000 norm=4.3990                                                                                            \n",
      "[iter 1700] loss=2.4864 val_loss=2.5501 scale=2.0000 norm=4.2889                                                                                            \n",
      "[iter 1800] loss=2.4496 val_loss=2.5209 scale=2.0000 norm=4.2204                                                                                            \n",
      "[iter 1900] loss=2.4169 val_loss=2.4958 scale=2.0000 norm=4.2012                                                                                            \n",
      "[iter 2000] loss=2.3765 val_loss=2.4741 scale=2.0000 norm=4.0919                                                                                            \n",
      "[iter 2100] loss=2.3543 val_loss=2.4558 scale=2.0000 norm=4.1094                                                                                            \n",
      "[iter 2200] loss=2.3241 val_loss=2.4405 scale=2.0000 norm=4.0503                                                                                            \n",
      "[iter 2300] loss=2.2917 val_loss=2.4282 scale=2.0000 norm=3.9780                                                                                            \n",
      "[iter 2400] loss=2.2752 val_loss=2.4182 scale=2.0000 norm=3.9927                                                                                            \n",
      "[iter 2500] loss=2.2543 val_loss=2.4108 scale=2.0000 norm=3.9679                                                                                            \n",
      "[iter 2600] loss=2.2311 val_loss=2.4046 scale=2.0000 norm=3.9321                                                                                            \n",
      "[iter 2700] loss=2.2125 val_loss=2.4007 scale=2.0000 norm=3.9034                                                                                            \n",
      "[iter 2800] loss=2.1893 val_loss=2.3985 scale=2.0000 norm=3.8427                                                                                            \n",
      "[iter 2900] loss=2.1757 val_loss=2.3967 scale=2.0000 norm=3.8420                                                                                            \n",
      "== Early stopping achieved.                                                                                                                                 \n",
      "== Best iteration / VAL2902 (val_loss=2.3966)                                                                                                               \n",
      " 21%|█████████████████▏                                                                | 21/100 [35:56<2:09:05, 98.05s/trial, best loss: 2.3859982377215285]"
     ]
    },
    {
     "name": "stderr",
     "output_type": "stream",
     "text": [
      "2021-07-28 08:13:24 INFO     {'Base': DecisionTreeRegressor(criterion='friedman_mse', max_leaf_nodes=63,\n",
      "                      min_samples_split=3, random_state=1), 'col_sample': 0.5, 'learning_rate': 0.001, 'minibatch_frac': 0.5, 'n_estimators': 10000000, 'verbose_eval': 100, 'random_state': 13}\n"
     ]
    },
    {
     "name": "stdout",
     "output_type": "stream",
     "text": [
      "\r",
      " 22%|█████████████████▊                                                               | 22/100 [35:56<2:46:50, 128.34s/trial, best loss: 2.3859982377215285]"
     ]
    },
    {
     "name": "stderr",
     "output_type": "stream",
     "text": [
      "2021-07-28 08:13:24 INFO     build_posterior_wrapper took 0.002001 seconds\n",
      "2021-07-28 08:13:24 INFO     TPE using 22/22 trials with best loss 2.385998\n"
     ]
    },
    {
     "name": "stdout",
     "output_type": "stream",
     "text": [
      "{'Base': DecisionTreeRegressor(criterion='friedman_mse', max_leaf_nodes=63,                                                                                 \n",
      "                      min_samples_split=3, random_state=1), 'col_sample': 0.6000000000000001, 'learning_rate': 0.005, 'minibatch_frac': 0.9, 'n_estimators': 10000000, 'verbose_eval': 100, 'random_state': 13}\n",
      "[iter 0] loss=3.8335 val_loss=3.8295 scale=2.0000 norm=18.1602                                                                                              \n",
      "[iter 100] loss=3.2187 val_loss=3.2220 scale=2.0000 norm=8.4858                                                                                             \n",
      "[iter 200] loss=2.8400 val_loss=2.8572 scale=2.0000 norm=5.3153                                                                                             \n",
      "[iter 300] loss=2.5579 val_loss=2.6030 scale=2.0000 norm=4.3820                                                                                             \n",
      "[iter 400] loss=2.3613 val_loss=2.4596 scale=2.0000 norm=4.0504                                                                                             \n",
      "[iter 500] loss=2.2330 val_loss=2.4019 scale=2.0000 norm=3.9065                                                                                             \n",
      "== Early stopping achieved.                                                                                                                                 \n",
      "== Best iteration / VAL569 (val_loss=2.3910)                                                                                                                \n",
      " 22%|█████████████████▊                                                               | 22/100 [37:06<2:46:50, 128.34s/trial, best loss: 2.3859982377215285]"
     ]
    },
    {
     "name": "stderr",
     "output_type": "stream",
     "text": [
      "2021-07-28 08:14:34 INFO     {'Base': DecisionTreeRegressor(criterion='friedman_mse', max_leaf_nodes=63,\n",
      "                      min_samples_split=3, random_state=1), 'col_sample': 0.6000000000000001, 'learning_rate': 0.005, 'minibatch_frac': 0.9, 'n_estimators': 10000000, 'verbose_eval': 100, 'random_state': 13}\n"
     ]
    },
    {
     "name": "stdout",
     "output_type": "stream",
     "text": [
      "\r",
      " 23%|██████████████████▋                                                              | 23/100 [37:06<2:22:12, 110.81s/trial, best loss: 2.3859982377215285]"
     ]
    },
    {
     "name": "stderr",
     "output_type": "stream",
     "text": [
      "2021-07-28 08:14:34 INFO     build_posterior_wrapper took 0.003994 seconds\n",
      "2021-07-28 08:14:34 INFO     TPE using 23/23 trials with best loss 2.385998\n"
     ]
    },
    {
     "name": "stdout",
     "output_type": "stream",
     "text": [
      "{'Base': DecisionTreeRegressor(criterion='friedman_mse', max_leaf_nodes=63,                                                                                 \n",
      "                      min_samples_split=3, random_state=1), 'col_sample': 0.5, 'learning_rate': 0.005, 'minibatch_frac': 0.9, 'n_estimators': 10000000, 'verbose_eval': 100, 'random_state': 13}\n",
      "[iter 0] loss=3.8335 val_loss=3.8295 scale=2.0000 norm=18.1602                                                                                              \n",
      "[iter 100] loss=3.2288 val_loss=3.2317 scale=2.0000 norm=8.6606                                                                                             \n",
      "[iter 200] loss=2.8530 val_loss=2.8697 scale=2.0000 norm=5.4667                                                                                             \n",
      "[iter 300] loss=2.5715 val_loss=2.6144 scale=2.0000 norm=4.4580                                                                                             \n",
      "[iter 400] loss=2.3746 val_loss=2.4680 scale=2.0000 norm=4.0921                                                                                             \n",
      "[iter 500] loss=2.2469 val_loss=2.4075 scale=2.0000 norm=3.9421                                                                                             \n",
      "== Early stopping achieved.                                                                                                                                 \n",
      "== Best iteration / VAL588 (val_loss=2.3944)                                                                                                                \n",
      " 23%|██████████████████▋                                                              | 23/100 [38:10<2:22:12, 110.81s/trial, best loss: 2.3859982377215285]"
     ]
    },
    {
     "name": "stderr",
     "output_type": "stream",
     "text": [
      "2021-07-28 08:15:38 INFO     {'Base': DecisionTreeRegressor(criterion='friedman_mse', max_leaf_nodes=63,\n",
      "                      min_samples_split=3, random_state=1), 'col_sample': 0.5, 'learning_rate': 0.005, 'minibatch_frac': 0.9, 'n_estimators': 10000000, 'verbose_eval': 100, 'random_state': 13}\n"
     ]
    },
    {
     "name": "stdout",
     "output_type": "stream",
     "text": [
      "\r",
      " 24%|███████████████████▋                                                              | 24/100 [38:10<2:02:39, 96.84s/trial, best loss: 2.3859982377215285]"
     ]
    },
    {
     "name": "stderr",
     "output_type": "stream",
     "text": [
      "2021-07-28 08:15:38 INFO     build_posterior_wrapper took 0.002044 seconds\n",
      "2021-07-28 08:15:38 INFO     TPE using 24/24 trials with best loss 2.385998\n"
     ]
    },
    {
     "name": "stdout",
     "output_type": "stream",
     "text": [
      "{'Base': DecisionTreeRegressor(criterion='friedman_mse', max_leaf_nodes=63,                                                                                 \n",
      "                      min_samples_split=3, random_state=1), 'col_sample': 0.8, 'learning_rate': 0.004, 'minibatch_frac': 0.9, 'n_estimators': 10000000, 'verbose_eval': 100, 'random_state': 13}\n",
      "[iter 0] loss=3.8335 val_loss=3.8326 scale=2.0000 norm=18.1602                                                                                              \n",
      "[iter 100] loss=3.2910 val_loss=3.2938 scale=2.0000 norm=9.3763                                                                                             \n",
      "[iter 200] loss=2.9629 val_loss=2.9751 scale=2.0000 norm=5.9242                                                                                             \n",
      "[iter 300] loss=2.6994 val_loss=2.7267 scale=2.0000 norm=4.6858                                                                                             \n",
      "[iter 400] loss=2.4952 val_loss=2.5530 scale=2.0000 norm=4.2081                                                                                             \n",
      "[iter 500] loss=2.3469 val_loss=2.4501 scale=2.0000 norm=4.0222                                                                                             \n",
      "[iter 600] loss=2.2328 val_loss=2.4002 scale=2.0000 norm=3.8577                                                                                             \n",
      "[iter 700] loss=2.1553 val_loss=2.3856 scale=2.0000 norm=3.7726                                                                                             \n",
      "== Early stopping achieved.                                                                                                                                 \n",
      "== Best iteration / VAL712 (val_loss=2.3848)                                                                                                                \n",
      " 24%|███████████████████▋                                                              | 24/100 [40:02<2:02:39, 96.84s/trial, best loss: 2.3859982377215285]"
     ]
    },
    {
     "name": "stderr",
     "output_type": "stream",
     "text": [
      "2021-07-28 08:17:29 INFO     {'Base': DecisionTreeRegressor(criterion='friedman_mse', max_leaf_nodes=63,\n",
      "                      min_samples_split=3, random_state=1), 'col_sample': 0.8, 'learning_rate': 0.004, 'minibatch_frac': 0.9, 'n_estimators': 10000000, 'verbose_eval': 100, 'random_state': 13}\n"
     ]
    },
    {
     "name": "stdout",
     "output_type": "stream",
     "text": [
      "\r",
      " 25%|████████████████████▌                                                             | 25/100 [40:02<2:06:30, 101.21s/trial, best loss: 2.384789600389933]"
     ]
    },
    {
     "name": "stderr",
     "output_type": "stream",
     "text": [
      "2021-07-28 08:17:29 INFO     build_posterior_wrapper took 0.003992 seconds\n",
      "2021-07-28 08:17:29 INFO     TPE using 25/25 trials with best loss 2.384790\n"
     ]
    },
    {
     "name": "stdout",
     "output_type": "stream",
     "text": [
      "{'Base': DecisionTreeRegressor(criterion='friedman_mse', max_leaf_nodes=63,                                                                                 \n",
      "                      min_samples_split=3, random_state=1), 'col_sample': 0.8, 'learning_rate': 0.004, 'minibatch_frac': 0.8, 'n_estimators': 10000000, 'verbose_eval': 100, 'random_state': 13}\n",
      "[iter 0] loss=3.8347 val_loss=3.8326 scale=2.0000 norm=18.2020                                                                                              \n",
      "[iter 100] loss=3.2911 val_loss=3.2937 scale=2.0000 norm=9.3749                                                                                             \n",
      "[iter 200] loss=2.9628 val_loss=2.9748 scale=2.0000 norm=5.9314                                                                                             \n",
      "[iter 300] loss=2.6989 val_loss=2.7267 scale=2.0000 norm=4.6852                                                                                             \n",
      "[iter 400] loss=2.4941 val_loss=2.5534 scale=2.0000 norm=4.1992                                                                                             \n",
      "[iter 500] loss=2.3441 val_loss=2.4504 scale=2.0000 norm=3.9960                                                                                             \n",
      "[iter 600] loss=2.2326 val_loss=2.4010 scale=2.0000 norm=3.8540                                                                                             \n",
      "[iter 700] loss=2.1550 val_loss=2.3866 scale=2.0000 norm=3.7704                                                                                             \n",
      "== Early stopping achieved.                                                                                                                                 \n",
      "== Best iteration / VAL700 (val_loss=2.3866)                                                                                                                \n",
      " 25%|████████████████████▌                                                             | 25/100 [41:41<2:06:30, 101.21s/trial, best loss: 2.384789600389933]"
     ]
    },
    {
     "name": "stderr",
     "output_type": "stream",
     "text": [
      "2021-07-28 08:19:09 INFO     {'Base': DecisionTreeRegressor(criterion='friedman_mse', max_leaf_nodes=63,\n",
      "                      min_samples_split=3, random_state=1), 'col_sample': 0.8, 'learning_rate': 0.004, 'minibatch_frac': 0.8, 'n_estimators': 10000000, 'verbose_eval': 100, 'random_state': 13}\n"
     ]
    },
    {
     "name": "stdout",
     "output_type": "stream",
     "text": [
      "\r",
      " 26%|█████████████████████▎                                                            | 26/100 [41:41<2:04:12, 100.71s/trial, best loss: 2.384789600389933]"
     ]
    },
    {
     "name": "stderr",
     "output_type": "stream",
     "text": [
      "2021-07-28 08:19:09 INFO     build_posterior_wrapper took 0.002003 seconds\n",
      "2021-07-28 08:19:09 INFO     TPE using 26/26 trials with best loss 2.384790\n"
     ]
    },
    {
     "name": "stdout",
     "output_type": "stream",
     "text": [
      "{'Base': DecisionTreeRegressor(criterion='friedman_mse', max_leaf_nodes=63,                                                                                 \n",
      "                      min_samples_split=3, random_state=1), 'col_sample': 0.8, 'learning_rate': 0.002, 'minibatch_frac': 0.9, 'n_estimators': 10000000, 'verbose_eval': 100, 'random_state': 13}\n",
      "[iter 0] loss=3.8335 val_loss=3.8388 scale=2.0000 norm=18.1602                                                                                              \n",
      "[iter 100] loss=3.4936 val_loss=3.4960 scale=2.0000 norm=12.8155                                                                                            \n",
      "[iter 200] loss=3.2898 val_loss=3.2958 scale=2.0000 norm=9.3514                                                                                             \n",
      "[iter 300] loss=3.1188 val_loss=3.1269 scale=2.0000 norm=7.2506                                                                                             \n",
      "[iter 400] loss=2.9650 val_loss=2.9767 scale=2.0000 norm=5.9566                                                                                             \n",
      "[iter 500] loss=2.8253 val_loss=2.8434 scale=2.0000 norm=5.1822                                                                                             \n",
      "[iter 600] loss=2.6982 val_loss=2.7279 scale=2.0000 norm=4.6608                                                                                             \n",
      "[iter 700] loss=2.5908 val_loss=2.6314 scale=2.0000 norm=4.3972                                                                                             \n",
      "[iter 800] loss=2.4951 val_loss=2.5537 scale=2.0000 norm=4.2098                                                                                             \n",
      "[iter 900] loss=2.4157 val_loss=2.4937 scale=2.0000 norm=4.1009                                                                                             \n",
      "[iter 1000] loss=2.3480 val_loss=2.4494 scale=2.0000 norm=4.0255                                                                                            \n",
      "[iter 1100] loss=2.2854 val_loss=2.4187 scale=2.0000 norm=3.9263                                                                                            \n",
      "[iter 1200] loss=2.2360 val_loss=2.3990 scale=2.0000 norm=3.8777                                                                                            \n",
      "[iter 1300] loss=2.1932 val_loss=2.3879 scale=2.0000 norm=3.8259                                                                                            \n",
      "[iter 1400] loss=2.1572 val_loss=2.3837 scale=2.0000 norm=3.7824                                                                                            \n",
      "== Early stopping achieved.                                                                                                                                 \n",
      "== Best iteration / VAL1410 (val_loss=2.3836)                                                                                                               \n",
      " 26%|█████████████████████▎                                                            | 26/100 [45:37<2:04:12, 100.71s/trial, best loss: 2.384789600389933]"
     ]
    },
    {
     "name": "stderr",
     "output_type": "stream",
     "text": [
      "2021-07-28 08:23:05 INFO     {'Base': DecisionTreeRegressor(criterion='friedman_mse', max_leaf_nodes=63,\n",
      "                      min_samples_split=3, random_state=1), 'col_sample': 0.8, 'learning_rate': 0.002, 'minibatch_frac': 0.9, 'n_estimators': 10000000, 'verbose_eval': 100, 'random_state': 13}\n"
     ]
    },
    {
     "name": "stdout",
     "output_type": "stream",
     "text": [
      "\r",
      " 27%|██████████████████████▏                                                           | 27/100 [45:37<2:51:54, 141.30s/trial, best loss: 2.383622961155419]"
     ]
    },
    {
     "name": "stderr",
     "output_type": "stream",
     "text": [
      "2021-07-28 08:23:05 INFO     build_posterior_wrapper took 0.001999 seconds\n",
      "2021-07-28 08:23:05 INFO     TPE using 27/27 trials with best loss 2.383623\n"
     ]
    },
    {
     "name": "stdout",
     "output_type": "stream",
     "text": [
      "{'Base': DecisionTreeRegressor(criterion='friedman_mse', max_leaf_nodes=63,                                                                                 \n",
      "                      min_samples_split=3, random_state=1), 'col_sample': 0.8, 'learning_rate': 0.002, 'minibatch_frac': 0.9, 'n_estimators': 10000000, 'verbose_eval': 100, 'random_state': 13}\n",
      "[iter 0] loss=3.8335 val_loss=3.8388 scale=2.0000 norm=18.1602                                                                                              \n",
      "[iter 100] loss=3.4936 val_loss=3.4960 scale=2.0000 norm=12.8155                                                                                            \n",
      "[iter 200] loss=3.2898 val_loss=3.2958 scale=2.0000 norm=9.3514                                                                                             \n",
      "[iter 300] loss=3.1188 val_loss=3.1269 scale=2.0000 norm=7.2506                                                                                             \n",
      "[iter 400] loss=2.9650 val_loss=2.9767 scale=2.0000 norm=5.9566                                                                                             \n",
      "[iter 500] loss=2.8253 val_loss=2.8434 scale=2.0000 norm=5.1822                                                                                             \n",
      "[iter 600] loss=2.6982 val_loss=2.7279 scale=2.0000 norm=4.6608                                                                                             \n",
      "[iter 700] loss=2.5908 val_loss=2.6314 scale=2.0000 norm=4.3972                                                                                             \n",
      "[iter 800] loss=2.4951 val_loss=2.5537 scale=2.0000 norm=4.2098                                                                                             \n",
      "[iter 900] loss=2.4157 val_loss=2.4937 scale=2.0000 norm=4.1009                                                                                             \n",
      "[iter 1000] loss=2.3480 val_loss=2.4494 scale=2.0000 norm=4.0255                                                                                            \n",
      "[iter 1100] loss=2.2854 val_loss=2.4187 scale=2.0000 norm=3.9263                                                                                            \n",
      "[iter 1200] loss=2.2360 val_loss=2.3990 scale=2.0000 norm=3.8777                                                                                            \n",
      "[iter 1300] loss=2.1932 val_loss=2.3879 scale=2.0000 norm=3.8259                                                                                            \n",
      "[iter 1400] loss=2.1572 val_loss=2.3837 scale=2.0000 norm=3.7824                                                                                            \n",
      "== Early stopping achieved.                                                                                                                                 \n",
      "== Best iteration / VAL1410 (val_loss=2.3836)                                                                                                               \n",
      " 27%|██████████████████████▏                                                           | 27/100 [50:00<2:51:54, 141.30s/trial, best loss: 2.383622961155419]"
     ]
    },
    {
     "name": "stderr",
     "output_type": "stream",
     "text": [
      "2021-07-28 08:27:28 INFO     {'Base': DecisionTreeRegressor(criterion='friedman_mse', max_leaf_nodes=63,\n",
      "                      min_samples_split=3, random_state=1), 'col_sample': 0.8, 'learning_rate': 0.002, 'minibatch_frac': 0.9, 'n_estimators': 10000000, 'verbose_eval': 100, 'random_state': 13}\n"
     ]
    },
    {
     "name": "stdout",
     "output_type": "stream",
     "text": [
      "\r",
      " 28%|██████████████████████▉                                                           | 28/100 [50:00<3:33:24, 177.84s/trial, best loss: 2.383622961155419]"
     ]
    },
    {
     "name": "stderr",
     "output_type": "stream",
     "text": [
      "2021-07-28 08:27:28 INFO     build_posterior_wrapper took 0.004039 seconds\n",
      "2021-07-28 08:27:28 INFO     TPE using 28/28 trials with best loss 2.383623\n"
     ]
    },
    {
     "name": "stdout",
     "output_type": "stream",
     "text": [
      "{'Base': DecisionTreeRegressor(criterion='friedman_mse', max_leaf_nodes=63,                                                                                 \n",
      "                      min_samples_split=3, random_state=1), 'col_sample': 0.8, 'learning_rate': 0.002, 'minibatch_frac': 0.9, 'n_estimators': 10000000, 'verbose_eval': 100, 'random_state': 13}\n",
      "[iter 0] loss=3.8335 val_loss=3.8388 scale=2.0000 norm=18.1602                                                                                              \n",
      "[iter 100] loss=3.4936 val_loss=3.4960 scale=2.0000 norm=12.8155                                                                                            \n",
      "[iter 200] loss=3.2898 val_loss=3.2958 scale=2.0000 norm=9.3514                                                                                             \n",
      "[iter 300] loss=3.1188 val_loss=3.1269 scale=2.0000 norm=7.2506                                                                                             \n",
      "[iter 400] loss=2.9650 val_loss=2.9767 scale=2.0000 norm=5.9566                                                                                             \n",
      "[iter 500] loss=2.8253 val_loss=2.8434 scale=2.0000 norm=5.1822                                                                                             \n",
      "[iter 600] loss=2.6982 val_loss=2.7279 scale=2.0000 norm=4.6608                                                                                             \n",
      "[iter 700] loss=2.5908 val_loss=2.6314 scale=2.0000 norm=4.3972                                                                                             \n",
      "[iter 800] loss=2.4951 val_loss=2.5537 scale=2.0000 norm=4.2098                                                                                             \n",
      "[iter 900] loss=2.4157 val_loss=2.4937 scale=2.0000 norm=4.1009                                                                                             \n",
      "[iter 1000] loss=2.3480 val_loss=2.4494 scale=2.0000 norm=4.0255                                                                                            \n",
      "[iter 1100] loss=2.2854 val_loss=2.4187 scale=2.0000 norm=3.9263                                                                                            \n",
      "[iter 1200] loss=2.2360 val_loss=2.3990 scale=2.0000 norm=3.8777                                                                                            \n",
      "[iter 1300] loss=2.1932 val_loss=2.3879 scale=2.0000 norm=3.8259                                                                                            \n",
      "[iter 1400] loss=2.1572 val_loss=2.3837 scale=2.0000 norm=3.7824                                                                                            \n",
      "== Early stopping achieved.                                                                                                                                 \n",
      "== Best iteration / VAL1410 (val_loss=2.3836)                                                                                                               \n",
      " 28%|██████████████████████▉                                                           | 28/100 [54:01<3:33:24, 177.84s/trial, best loss: 2.383622961155419]"
     ]
    },
    {
     "name": "stderr",
     "output_type": "stream",
     "text": [
      "2021-07-28 08:31:29 INFO     {'Base': DecisionTreeRegressor(criterion='friedman_mse', max_leaf_nodes=63,\n",
      "                      min_samples_split=3, random_state=1), 'col_sample': 0.8, 'learning_rate': 0.002, 'minibatch_frac': 0.9, 'n_estimators': 10000000, 'verbose_eval': 100, 'random_state': 13}\n"
     ]
    },
    {
     "name": "stdout",
     "output_type": "stream",
     "text": [
      "\r",
      " 29%|███████████████████████▊                                                          | 29/100 [54:01<3:52:52, 196.79s/trial, best loss: 2.383622961155419]"
     ]
    },
    {
     "name": "stderr",
     "output_type": "stream",
     "text": [
      "2021-07-28 08:31:29 INFO     build_posterior_wrapper took 0.002012 seconds\n",
      "2021-07-28 08:31:29 INFO     TPE using 29/29 trials with best loss 2.383623\n"
     ]
    },
    {
     "name": "stdout",
     "output_type": "stream",
     "text": [
      "{'Base': DecisionTreeRegressor(criterion='friedman_mse', max_leaf_nodes=63,                                                                                 \n",
      "                      min_samples_split=3, random_state=1), 'col_sample': 0.9, 'learning_rate': 0.002, 'minibatch_frac': 1.0, 'n_estimators': 10000000, 'verbose_eval': 100, 'random_state': 13}\n",
      "[iter 0] loss=3.8345 val_loss=3.8388 scale=2.0000 norm=18.1911                                                                                              \n",
      "[iter 100] loss=3.4920 val_loss=3.4955 scale=2.0000 norm=12.7832                                                                                            \n",
      "[iter 200] loss=3.2899 val_loss=3.2954 scale=2.0000 norm=9.3593                                                                                             \n",
      "[iter 300] loss=3.1184 val_loss=3.1269 scale=2.0000 norm=7.2394                                                                                             \n",
      "[iter 400] loss=2.9639 val_loss=2.9770 scale=2.0000 norm=5.9469                                                                                             \n",
      "[iter 500] loss=2.8246 val_loss=2.8442 scale=2.0000 norm=5.1640                                                                                             \n",
      "[iter 600] loss=2.7003 val_loss=2.7297 scale=2.0000 norm=4.6879                                                                                             \n",
      "[iter 700] loss=2.5912 val_loss=2.6342 scale=2.0000 norm=4.4002                                                                                             \n",
      "[iter 800] loss=2.4970 val_loss=2.5581 scale=2.0000 norm=4.2214                                                                                             \n",
      "[iter 900] loss=2.4161 val_loss=2.4994 scale=2.0000 norm=4.1021                                                                                             \n",
      "[iter 1000] loss=2.3472 val_loss=2.4560 scale=2.0000 norm=4.0158                                                                                            \n",
      "[iter 1100] loss=2.2884 val_loss=2.4263 scale=2.0000 norm=3.9457                                                                                            \n",
      "[iter 1200] loss=2.2378 val_loss=2.4069 scale=2.0000 norm=3.8865                                                                                            \n",
      "[iter 1300] loss=2.1943 val_loss=2.3959 scale=2.0000 norm=3.8330                                                                                            \n",
      "== Early stopping achieved.                                                                                                                                 \n",
      "== Best iteration / VAL1382 (val_loss=2.3924)                                                                                                               \n",
      " 29%|███████████████████████▊                                                          | 29/100 [58:32<3:52:52, 196.79s/trial, best loss: 2.383622961155419]"
     ]
    },
    {
     "name": "stderr",
     "output_type": "stream",
     "text": [
      "2021-07-28 08:36:00 INFO     {'Base': DecisionTreeRegressor(criterion='friedman_mse', max_leaf_nodes=63,\n",
      "                      min_samples_split=3, random_state=1), 'col_sample': 0.9, 'learning_rate': 0.002, 'minibatch_frac': 1.0, 'n_estimators': 10000000, 'verbose_eval': 100, 'random_state': 13}\n"
     ]
    },
    {
     "name": "stdout",
     "output_type": "stream",
     "text": [
      "\r",
      " 30%|████████████████████████▌                                                         | 30/100 [58:32<4:15:25, 218.94s/trial, best loss: 2.383622961155419]"
     ]
    },
    {
     "name": "stderr",
     "output_type": "stream",
     "text": [
      "2021-07-28 08:36:00 INFO     build_posterior_wrapper took 0.001999 seconds\n",
      "2021-07-28 08:36:00 INFO     TPE using 30/30 trials with best loss 2.383623\n"
     ]
    },
    {
     "name": "stdout",
     "output_type": "stream",
     "text": [
      "{'Base': DecisionTreeRegressor(criterion='friedman_mse', max_leaf_nodes=63,                                                                                 \n",
      "                      min_samples_split=3, random_state=1), 'col_sample': 0.8, 'learning_rate': 0.001, 'minibatch_frac': 0.8, 'n_estimators': 10000000, 'verbose_eval': 100, 'random_state': 13}\n",
      "[iter 0] loss=3.8347 val_loss=3.8420 scale=2.0000 norm=18.2020                                                                                              \n",
      "[iter 100] loss=3.6259 val_loss=3.6293 scale=2.0000 norm=15.2158                                                                                            \n",
      "[iter 200] loss=3.4921 val_loss=3.4975 scale=2.0000 norm=12.7860                                                                                            \n",
      "[iter 300] loss=3.3846 val_loss=3.3913 scale=2.0000 norm=10.8498                                                                                            \n",
      "[iter 400] loss=3.2918 val_loss=3.2972 scale=2.0000 norm=9.3998                                                                                             \n",
      "[iter 500] loss=3.2046 val_loss=3.2103 scale=2.0000 norm=8.2408                                                                                             \n",
      "[iter 600] loss=3.1181 val_loss=3.1283 scale=2.0000 norm=7.2416                                                                                             \n",
      "[iter 700] loss=3.0404 val_loss=3.0509 scale=2.0000 norm=6.5395                                                                                             \n",
      "[iter 800] loss=2.9639 val_loss=2.9778 scale=2.0000 norm=5.9397                                                                                             \n",
      "[iter 900] loss=2.8925 val_loss=2.9088 scale=2.0000 norm=5.5109                                                                                             \n",
      "[iter 1000] loss=2.8255 val_loss=2.8441 scale=2.0000 norm=5.1783                                                                                            \n",
      "[iter 1100] loss=2.7608 val_loss=2.7839 scale=2.0000 norm=4.9024                                                                                            \n",
      "[iter 1200] loss=2.6996 val_loss=2.7285 scale=2.0000 norm=4.6706                                                                                            \n",
      "[iter 1300] loss=2.6428 val_loss=2.6778 scale=2.0000 norm=4.5300                                                                                            \n",
      "[iter 1400] loss=2.5901 val_loss=2.6318 scale=2.0000 norm=4.4069                                                                                            \n",
      "[iter 1500] loss=2.5418 val_loss=2.5906 scale=2.0000 norm=4.2950                                                                                            \n",
      "[iter 1600] loss=2.4964 val_loss=2.5539 scale=2.0000 norm=4.2135                                                                                            \n",
      "[iter 1700] loss=2.4528 val_loss=2.5219 scale=2.0000 norm=4.1411                                                                                            \n",
      "[iter 1800] loss=2.4147 val_loss=2.4938 scale=2.0000 norm=4.0914                                                                                            \n",
      "[iter 1900] loss=2.3793 val_loss=2.4699 scale=2.0000 norm=4.0513                                                                                            \n",
      "[iter 2000] loss=2.3456 val_loss=2.4495 scale=2.0000 norm=4.0053                                                                                            \n",
      "[iter 2100] loss=2.3145 val_loss=2.4321 scale=2.0000 norm=3.9609                                                                                            \n",
      "[iter 2200] loss=2.2861 val_loss=2.4181 scale=2.0000 norm=3.9285                                                                                            \n",
      "[iter 2300] loss=2.2590 val_loss=2.4069 scale=2.0000 norm=3.8979                                                                                            \n",
      "[iter 2400] loss=2.2360 val_loss=2.3982 scale=2.0000 norm=3.8779                                                                                            \n",
      "[iter 2500] loss=2.2133 val_loss=2.3915 scale=2.0000 norm=3.8440                                                                                            \n",
      "[iter 2600] loss=2.1938 val_loss=2.3869 scale=2.0000 norm=3.8319                                                                                            \n",
      "[iter 2700] loss=2.1715 val_loss=2.3842 scale=2.0000 norm=3.7929                                                                                            \n",
      "[iter 2800] loss=2.1565 val_loss=2.3832 scale=2.0000 norm=3.7833                                                                                            \n",
      "== Early stopping achieved.                                                                                                                                 \n",
      "== Best iteration / VAL2805 (val_loss=2.3831)                                                                                                               \n",
      " 30%|████████████████████████                                                        | 30/100 [1:05:16<4:15:25, 218.94s/trial, best loss: 2.383622961155419]"
     ]
    },
    {
     "name": "stderr",
     "output_type": "stream",
     "text": [
      "2021-07-28 08:42:44 INFO     {'Base': DecisionTreeRegressor(criterion='friedman_mse', max_leaf_nodes=63,\n",
      "                      min_samples_split=3, random_state=1), 'col_sample': 0.8, 'learning_rate': 0.001, 'minibatch_frac': 0.8, 'n_estimators': 10000000, 'verbose_eval': 100, 'random_state': 13}\n"
     ]
    },
    {
     "name": "stdout",
     "output_type": "stream",
     "text": [
      "\r",
      " 31%|████████████████████████▊                                                       | 31/100 [1:05:16<5:15:46, 274.59s/trial, best loss: 2.383142683075522]"
     ]
    },
    {
     "name": "stderr",
     "output_type": "stream",
     "text": [
      "2021-07-28 08:42:44 INFO     build_posterior_wrapper took 0.001928 seconds\n",
      "2021-07-28 08:42:44 INFO     TPE using 31/31 trials with best loss 2.383143\n"
     ]
    },
    {
     "name": "stdout",
     "output_type": "stream",
     "text": [
      "{'Base': DecisionTreeRegressor(criterion='friedman_mse', max_leaf_nodes=63,                                                                                 \n",
      "                      min_samples_split=3, random_state=1), 'col_sample': 0.9, 'learning_rate': 0.001, 'minibatch_frac': 0.8, 'n_estimators': 10000000, 'verbose_eval': 100, 'random_state': 13}\n",
      "[iter 0] loss=3.8347 val_loss=3.8420 scale=2.0000 norm=18.2020                                                                                              \n",
      "[iter 100] loss=3.6251 val_loss=3.6287 scale=2.0000 norm=15.2003                                                                                            \n",
      "[iter 200] loss=3.4910 val_loss=3.4967 scale=2.0000 norm=12.7612                                                                                            \n",
      "[iter 300] loss=3.3834 val_loss=3.3905 scale=2.0000 norm=10.8241                                                                                            \n",
      "[iter 400] loss=3.2903 val_loss=3.2960 scale=2.0000 norm=9.3665                                                                                             \n",
      "[iter 500] loss=3.2028 val_loss=3.2090 scale=2.0000 norm=8.2038                                                                                             \n",
      "[iter 600] loss=3.1165 val_loss=3.1271 scale=2.0000 norm=7.2134                                                                                             \n",
      "[iter 700] loss=3.0389 val_loss=3.0500 scale=2.0000 norm=6.5181                                                                                             \n",
      "[iter 800] loss=2.9623 val_loss=2.9770 scale=2.0000 norm=5.9197                                                                                             \n",
      "[iter 900] loss=2.8909 val_loss=2.9082 scale=2.0000 norm=5.4935                                                                                             \n",
      "[iter 1000] loss=2.8242 val_loss=2.8439 scale=2.0000 norm=5.1668                                                                                            \n",
      "[iter 1100] loss=2.7596 val_loss=2.7841 scale=2.0000 norm=4.8944                                                                                            \n",
      "[iter 1200] loss=2.6986 val_loss=2.7291 scale=2.0000 norm=4.6655                                                                                            \n",
      "[iter 1300] loss=2.6419 val_loss=2.6788 scale=2.0000 norm=4.5264                                                                                            \n",
      "[iter 1400] loss=2.5894 val_loss=2.6332 scale=2.0000 norm=4.4060                                                                                            \n",
      "[iter 1500] loss=2.5410 val_loss=2.5925 scale=2.0000 norm=4.2929                                                                                            \n",
      "[iter 1600] loss=2.4955 val_loss=2.5562 scale=2.0000 norm=4.2110                                                                                            \n",
      "[iter 1700] loss=2.4518 val_loss=2.5244 scale=2.0000 norm=4.1394                                                                                            \n",
      "[iter 1800] loss=2.4138 val_loss=2.4968 scale=2.0000 norm=4.0906                                                                                            \n",
      "[iter 1900] loss=2.3781 val_loss=2.4730 scale=2.0000 norm=4.0488                                                                                            \n",
      "[iter 2000] loss=2.3442 val_loss=2.4530 scale=2.0000 norm=4.0024                                                                                            \n",
      "[iter 2100] loss=2.3131 val_loss=2.4364 scale=2.0000 norm=3.9588                                                                                            \n",
      "[iter 2200] loss=2.2843 val_loss=2.4225 scale=2.0000 norm=3.9249                                                                                            \n",
      "[iter 2300] loss=2.2571 val_loss=2.4118 scale=2.0000 norm=3.8946                                                                                            \n",
      "[iter 2400] loss=2.2340 val_loss=2.4034 scale=2.0000 norm=3.8749                                                                                            \n",
      "[iter 2500] loss=2.2115 val_loss=2.3972 scale=2.0000 norm=3.8423                                                                                            \n",
      "[iter 2600] loss=2.1917 val_loss=2.3928 scale=2.0000 norm=3.8289                                                                                            \n",
      "[iter 2700] loss=2.1692 val_loss=2.3902 scale=2.0000 norm=3.7890                                                                                            \n",
      "== Early stopping achieved.                                                                                                                                 \n",
      "== Best iteration / VAL2771 (val_loss=2.3895)                                                                                                               \n",
      " 31%|████████████████████████▊                                                       | 31/100 [1:12:44<5:15:46, 274.59s/trial, best loss: 2.383142683075522]"
     ]
    },
    {
     "name": "stderr",
     "output_type": "stream",
     "text": [
      "2021-07-28 08:50:12 INFO     {'Base': DecisionTreeRegressor(criterion='friedman_mse', max_leaf_nodes=63,\n",
      "                      min_samples_split=3, random_state=1), 'col_sample': 0.9, 'learning_rate': 0.001, 'minibatch_frac': 0.8, 'n_estimators': 10000000, 'verbose_eval': 100, 'random_state': 13}\n"
     ]
    },
    {
     "name": "stdout",
     "output_type": "stream",
     "text": [
      "\r",
      " 32%|█████████████████████████▌                                                      | 32/100 [1:12:44<6:10:05, 326.55s/trial, best loss: 2.383142683075522]"
     ]
    },
    {
     "name": "stderr",
     "output_type": "stream",
     "text": [
      "2021-07-28 08:50:12 INFO     build_posterior_wrapper took 0.001997 seconds\n",
      "2021-07-28 08:50:12 INFO     TPE using 32/32 trials with best loss 2.383143\n"
     ]
    },
    {
     "name": "stdout",
     "output_type": "stream",
     "text": [
      "{'Base': DecisionTreeRegressor(criterion='friedman_mse', max_leaf_nodes=63,                                                                                 \n",
      "                      min_samples_split=3, random_state=1), 'col_sample': 0.8, 'learning_rate': 0.001, 'minibatch_frac': 0.8, 'n_estimators': 10000000, 'verbose_eval': 100, 'random_state': 13}\n",
      "[iter 0] loss=3.8347 val_loss=3.8420 scale=2.0000 norm=18.2020                                                                                              \n",
      "[iter 100] loss=3.6259 val_loss=3.6293 scale=2.0000 norm=15.2158                                                                                            \n",
      "[iter 200] loss=3.4921 val_loss=3.4975 scale=2.0000 norm=12.7860                                                                                            \n",
      "[iter 300] loss=3.3846 val_loss=3.3913 scale=2.0000 norm=10.8498                                                                                            \n",
      "[iter 400] loss=3.2918 val_loss=3.2972 scale=2.0000 norm=9.3998                                                                                             \n",
      "[iter 500] loss=3.2046 val_loss=3.2103 scale=2.0000 norm=8.2408                                                                                             \n",
      "[iter 600] loss=3.1181 val_loss=3.1283 scale=2.0000 norm=7.2416                                                                                             \n",
      "[iter 700] loss=3.0404 val_loss=3.0509 scale=2.0000 norm=6.5395                                                                                             \n",
      "[iter 800] loss=2.9639 val_loss=2.9778 scale=2.0000 norm=5.9397                                                                                             \n",
      "[iter 900] loss=2.8925 val_loss=2.9088 scale=2.0000 norm=5.5109                                                                                             \n",
      "[iter 1000] loss=2.8255 val_loss=2.8441 scale=2.0000 norm=5.1783                                                                                            \n",
      "[iter 1100] loss=2.7608 val_loss=2.7839 scale=2.0000 norm=4.9024                                                                                            \n",
      "[iter 1200] loss=2.6996 val_loss=2.7285 scale=2.0000 norm=4.6706                                                                                            \n",
      "[iter 1300] loss=2.6428 val_loss=2.6778 scale=2.0000 norm=4.5300                                                                                            \n",
      "[iter 1400] loss=2.5901 val_loss=2.6318 scale=2.0000 norm=4.4069                                                                                            \n",
      "[iter 1500] loss=2.5418 val_loss=2.5906 scale=2.0000 norm=4.2950                                                                                            \n",
      "[iter 1600] loss=2.4964 val_loss=2.5539 scale=2.0000 norm=4.2135                                                                                            \n",
      "[iter 1700] loss=2.4528 val_loss=2.5219 scale=2.0000 norm=4.1411                                                                                            \n",
      "[iter 1800] loss=2.4147 val_loss=2.4938 scale=2.0000 norm=4.0914                                                                                            \n",
      "[iter 1900] loss=2.3793 val_loss=2.4699 scale=2.0000 norm=4.0513                                                                                            \n",
      "[iter 2000] loss=2.3456 val_loss=2.4495 scale=2.0000 norm=4.0053                                                                                            \n",
      "[iter 2100] loss=2.3145 val_loss=2.4321 scale=2.0000 norm=3.9609                                                                                            \n",
      "[iter 2200] loss=2.2861 val_loss=2.4181 scale=2.0000 norm=3.9285                                                                                            \n",
      "[iter 2300] loss=2.2590 val_loss=2.4069 scale=2.0000 norm=3.8979                                                                                            \n",
      "[iter 2400] loss=2.2360 val_loss=2.3982 scale=2.0000 norm=3.8779                                                                                            \n",
      "[iter 2500] loss=2.2133 val_loss=2.3915 scale=2.0000 norm=3.8440                                                                                            \n",
      "[iter 2600] loss=2.1938 val_loss=2.3869 scale=2.0000 norm=3.8319                                                                                            \n",
      "[iter 2700] loss=2.1715 val_loss=2.3842 scale=2.0000 norm=3.7929                                                                                            \n",
      "[iter 2800] loss=2.1565 val_loss=2.3832 scale=2.0000 norm=3.7833                                                                                            \n",
      "== Early stopping achieved.                                                                                                                                 \n",
      "== Best iteration / VAL2805 (val_loss=2.3831)                                                                                                               \n",
      " 32%|█████████████████████████▌                                                      | 32/100 [1:19:51<6:10:05, 326.55s/trial, best loss: 2.383142683075522]"
     ]
    },
    {
     "name": "stderr",
     "output_type": "stream",
     "text": [
      "2021-07-28 08:57:19 INFO     {'Base': DecisionTreeRegressor(criterion='friedman_mse', max_leaf_nodes=63,\n",
      "                      min_samples_split=3, random_state=1), 'col_sample': 0.8, 'learning_rate': 0.001, 'minibatch_frac': 0.8, 'n_estimators': 10000000, 'verbose_eval': 100, 'random_state': 13}\n"
     ]
    },
    {
     "name": "stdout",
     "output_type": "stream",
     "text": [
      "\r",
      " 33%|██████████████████████████▍                                                     | 33/100 [1:19:51<6:38:22, 356.75s/trial, best loss: 2.383142683075522]"
     ]
    },
    {
     "name": "stderr",
     "output_type": "stream",
     "text": [
      "2021-07-28 08:57:19 INFO     build_posterior_wrapper took 0.001931 seconds\n",
      "2021-07-28 08:57:19 INFO     TPE using 33/33 trials with best loss 2.383143\n"
     ]
    },
    {
     "name": "stdout",
     "output_type": "stream",
     "text": [
      "{'Base': DecisionTreeRegressor(criterion='friedman_mse', max_leaf_nodes=63,                                                                                 \n",
      "                      min_samples_split=3, random_state=1), 'col_sample': 0.7000000000000001, 'learning_rate': 0.001, 'minibatch_frac': 0.7000000000000001, 'n_estimators': 10000000, 'verbose_eval': 100, 'random_state': 13}\n",
      "[iter 0] loss=3.8314 val_loss=3.8420 scale=2.0000 norm=18.1206                                                                                              \n",
      "[iter 100] loss=3.6292 val_loss=3.6323 scale=2.0000 norm=15.2882                                                                                            \n",
      "[iter 200] loss=3.4967 val_loss=3.5018 scale=2.0000 norm=12.8949                                                                                            \n",
      "[iter 300] loss=3.3908 val_loss=3.3960 scale=2.0000 norm=10.9841                                                                                            \n",
      "[iter 400] loss=3.2967 val_loss=3.3019 scale=2.0000 norm=9.4918                                                                                             \n",
      "[iter 500] loss=3.2095 val_loss=3.2153 scale=2.0000 norm=8.3239                                                                                             \n",
      "[iter 600] loss=3.1223 val_loss=3.1332 scale=2.0000 norm=7.3042                                                                                             \n",
      "[iter 700] loss=3.0437 val_loss=3.0558 scale=2.0000 norm=6.5778                                                                                             \n",
      "[iter 800] loss=2.9709 val_loss=2.9828 scale=2.0000 norm=6.0282                                                                                             \n",
      "[iter 900] loss=2.8977 val_loss=2.9140 scale=2.0000 norm=5.5557                                                                                             \n",
      "[iter 1000] loss=2.8323 val_loss=2.8491 scale=2.0000 norm=5.2429                                                                                            \n",
      "[iter 1100] loss=2.7676 val_loss=2.7889 scale=2.0000 norm=4.9800                                                                                            \n",
      "[iter 1200] loss=2.7028 val_loss=2.7332 scale=2.0000 norm=4.6954                                                                                            \n",
      "[iter 1300] loss=2.6490 val_loss=2.6824 scale=2.0000 norm=4.5713                                                                                            \n",
      "[iter 1400] loss=2.5940 val_loss=2.6364 scale=2.0000 norm=4.4217                                                                                            \n",
      "[iter 1500] loss=2.5456 val_loss=2.5950 scale=2.0000 norm=4.3162                                                                                            \n",
      "[iter 1600] loss=2.5013 val_loss=2.5582 scale=2.0000 norm=4.2309                                                                                            \n",
      "[iter 1700] loss=2.4571 val_loss=2.5257 scale=2.0000 norm=4.1515                                                                                            \n",
      "[iter 1800] loss=2.4205 val_loss=2.4973 scale=2.0000 norm=4.1118                                                                                            \n",
      "[iter 1900] loss=2.3851 val_loss=2.4732 scale=2.0000 norm=4.0743                                                                                            \n",
      "[iter 2000] loss=2.3497 val_loss=2.4528 scale=2.0000 norm=4.0116                                                                                            \n",
      "[iter 2100] loss=2.3222 val_loss=2.4357 scale=2.0000 norm=3.9955                                                                                            \n",
      "[iter 2200] loss=2.2910 val_loss=2.4214 scale=2.0000 norm=3.9398                                                                                            \n",
      "[iter 2300] loss=2.2650 val_loss=2.4101 scale=2.0000 norm=3.9157                                                                                            \n",
      "[iter 2400] loss=2.2447 val_loss=2.4014 scale=2.0000 norm=3.9108                                                                                            \n",
      "[iter 2500] loss=2.2187 val_loss=2.3945 scale=2.0000 norm=3.8576                                                                                            \n",
      "[iter 2600] loss=2.1993 val_loss=2.3896 scale=2.0000 norm=3.8411                                                                                            \n",
      "[iter 2700] loss=2.1783 val_loss=2.3867 scale=2.0000 norm=3.8100                                                                                            \n",
      "== Early stopping achieved.                                                                                                                                 \n",
      "== Best iteration / VAL2762 (val_loss=2.3855)                                                                                                               \n",
      " 33%|██████████████████████████▍                                                     | 33/100 [1:26:00<6:38:22, 356.75s/trial, best loss: 2.383142683075522]"
     ]
    },
    {
     "name": "stderr",
     "output_type": "stream",
     "text": [
      "2021-07-28 09:03:28 INFO     {'Base': DecisionTreeRegressor(criterion='friedman_mse', max_leaf_nodes=63,\n",
      "                      min_samples_split=3, random_state=1), 'col_sample': 0.7000000000000001, 'learning_rate': 0.001, 'minibatch_frac': 0.7000000000000001, 'n_estimators': 10000000, 'verbose_eval': 100, 'random_state': 13}\n"
     ]
    },
    {
     "name": "stdout",
     "output_type": "stream",
     "text": [
      "\r",
      " 34%|███████████████████████████▏                                                    | 34/100 [1:26:00<6:36:21, 360.32s/trial, best loss: 2.383142683075522]"
     ]
    },
    {
     "name": "stderr",
     "output_type": "stream",
     "text": [
      "2021-07-28 09:03:28 INFO     build_posterior_wrapper took 0.000999 seconds\n",
      "2021-07-28 09:03:28 INFO     TPE using 34/34 trials with best loss 2.383143\n"
     ]
    },
    {
     "name": "stdout",
     "output_type": "stream",
     "text": [
      "{'Base': DecisionTreeRegressor(criterion='friedman_mse', max_leaf_nodes=127,                                                                                \n",
      "                      min_samples_split=3, random_state=1), 'col_sample': 0.8, 'learning_rate': 0.001, 'minibatch_frac': 0.8, 'n_estimators': 10000000, 'verbose_eval': 100, 'random_state': 13}\n",
      "[iter 0] loss=3.8347 val_loss=3.8420 scale=2.0000 norm=18.2020                                                                                              \n",
      "[iter 100] loss=3.6235 val_loss=3.6285 scale=2.0000 norm=15.1905                                                                                            \n",
      "[iter 200] loss=3.4880 val_loss=3.4959 scale=2.0000 norm=12.7322                                                                                            \n",
      "[iter 300] loss=3.3786 val_loss=3.3888 scale=2.0000 norm=10.7651                                                                                            \n",
      "[iter 400] loss=3.2837 val_loss=3.2936 scale=2.0000 norm=9.2872                                                                                             \n",
      "[iter 500] loss=3.1939 val_loss=3.2056 scale=2.0000 norm=8.0929                                                                                             \n",
      "[iter 600] loss=3.1045 val_loss=3.1224 scale=2.0000 norm=7.0648                                                                                             \n",
      "[iter 700] loss=3.0231 val_loss=3.0437 scale=2.0000 norm=6.3304                                                                                             \n",
      "[iter 800] loss=2.9425 val_loss=2.9691 scale=2.0000 norm=5.7035                                                                                             \n",
      "[iter 900] loss=2.8662 val_loss=2.8985 scale=2.0000 norm=5.2475                                                                                             \n",
      "[iter 1000] loss=2.7938 val_loss=2.8321 scale=2.0000 norm=4.8883                                                                                            \n",
      "[iter 1100] loss=2.7230 val_loss=2.7702 scale=2.0000 norm=4.5895                                                                                            \n",
      "[iter 1200] loss=2.6553 val_loss=2.7129 scale=2.0000 norm=4.3377                                                                                            \n",
      "[iter 1300] loss=2.5911 val_loss=2.6607 scale=2.0000 norm=4.1761                                                                                            \n",
      "[iter 1400] loss=2.5303 val_loss=2.6138 scale=2.0000 norm=4.0313                                                                                            \n",
      "[iter 1500] loss=2.4741 val_loss=2.5721 scale=2.0000 norm=3.9046                                                                                            \n",
      "[iter 1600] loss=2.4199 val_loss=2.5357 scale=2.0000 norm=3.8038                                                                                            \n",
      "[iter 1700] loss=2.3676 val_loss=2.5048 scale=2.0000 norm=3.7153                                                                                            \n",
      "[iter 1800] loss=2.3201 val_loss=2.4791 scale=2.0000 norm=3.6481                                                                                            \n",
      "[iter 1900] loss=2.2754 val_loss=2.4584 scale=2.0000 norm=3.5936                                                                                            \n",
      "[iter 2000] loss=2.2325 val_loss=2.4428 scale=2.0000 norm=3.5336                                                                                            \n",
      "[iter 2100] loss=2.1924 val_loss=2.4317 scale=2.0000 norm=3.4763                                                                                            \n",
      "[iter 2200] loss=2.1546 val_loss=2.4253 scale=2.0000 norm=3.4248                                                                                            \n",
      "[iter 2300] loss=2.1193 val_loss=2.4230 scale=2.0000 norm=3.3840                                                                                            \n",
      "== Early stopping achieved.                                                                                                                                 \n",
      "== Best iteration / VAL2291 (val_loss=2.4229)                                                                                                               \n",
      " 34%|███████████████████████████▏                                                    | 34/100 [1:32:34<6:36:21, 360.32s/trial, best loss: 2.383142683075522]"
     ]
    },
    {
     "name": "stderr",
     "output_type": "stream",
     "text": [
      "2021-07-28 09:10:01 INFO     {'Base': DecisionTreeRegressor(criterion='friedman_mse', max_leaf_nodes=127,\n",
      "                      min_samples_split=3, random_state=1), 'col_sample': 0.8, 'learning_rate': 0.001, 'minibatch_frac': 0.8, 'n_estimators': 10000000, 'verbose_eval': 100, 'random_state': 13}\n"
     ]
    },
    {
     "name": "stdout",
     "output_type": "stream",
     "text": [
      "\r",
      " 35%|████████████████████████████                                                    | 35/100 [1:32:34<6:41:07, 370.28s/trial, best loss: 2.383142683075522]"
     ]
    },
    {
     "name": "stderr",
     "output_type": "stream",
     "text": [
      "2021-07-28 09:10:01 INFO     build_posterior_wrapper took 0.001999 seconds\n",
      "2021-07-28 09:10:01 INFO     TPE using 35/35 trials with best loss 2.383143\n"
     ]
    },
    {
     "name": "stdout",
     "output_type": "stream",
     "text": [
      "{'Base': DecisionTreeRegressor(criterion='friedman_mse', max_leaf_nodes=63,                                                                                 \n",
      "                      min_samples_split=3, random_state=1), 'col_sample': 0.9, 'learning_rate': 0.002, 'minibatch_frac': 0.7000000000000001, 'n_estimators': 10000000, 'verbose_eval': 100, 'random_state': 13}\n",
      "[iter 0] loss=3.8314 val_loss=3.8388 scale=2.0000 norm=18.1206                                                                                              \n",
      "[iter 100] loss=3.4930 val_loss=3.4953 scale=2.0000 norm=12.8104                                                                                            \n",
      "[iter 200] loss=3.2891 val_loss=3.2950 scale=2.0000 norm=9.3500                                                                                             \n",
      "[iter 300] loss=3.1180 val_loss=3.1263 scale=2.0000 norm=7.2340                                                                                             \n",
      "[iter 400] loss=2.9633 val_loss=2.9763 scale=2.0000 norm=5.9260                                                                                             \n",
      "[iter 500] loss=2.8245 val_loss=2.8432 scale=2.0000 norm=5.1624                                                                                             \n",
      "[iter 600] loss=2.6955 val_loss=2.7284 scale=2.0000 norm=4.6391                                                                                             \n",
      "[iter 700] loss=2.5892 val_loss=2.6324 scale=2.0000 norm=4.3933                                                                                             \n",
      "[iter 800] loss=2.4967 val_loss=2.5557 scale=2.0000 norm=4.2319                                                                                             \n",
      "[iter 900] loss=2.4122 val_loss=2.4962 scale=2.0000 norm=4.0848                                                                                             \n",
      "[iter 1000] loss=2.3455 val_loss=2.4530 scale=2.0000 norm=4.0170                                                                                            \n",
      "[iter 1100] loss=2.2875 val_loss=2.4232 scale=2.0000 norm=3.9532                                                                                            \n",
      "[iter 1200] loss=2.2320 val_loss=2.4041 scale=2.0000 norm=3.8597                                                                                            \n",
      "[iter 1300] loss=2.1948 val_loss=2.3944 scale=2.0000 norm=3.8454                                                                                            \n",
      "== Early stopping achieved.                                                                                                                                 \n",
      "== Best iteration / VAL1371 (val_loss=2.3923)                                                                                                               \n",
      " 35%|████████████████████████████                                                    | 35/100 [1:35:50<6:41:07, 370.28s/trial, best loss: 2.383142683075522]"
     ]
    },
    {
     "name": "stderr",
     "output_type": "stream",
     "text": [
      "2021-07-28 09:13:18 INFO     {'Base': DecisionTreeRegressor(criterion='friedman_mse', max_leaf_nodes=63,\n",
      "                      min_samples_split=3, random_state=1), 'col_sample': 0.9, 'learning_rate': 0.002, 'minibatch_frac': 0.7000000000000001, 'n_estimators': 10000000, 'verbose_eval': 100, 'random_state': 13}\n"
     ]
    },
    {
     "name": "stdout",
     "output_type": "stream",
     "text": [
      "\r",
      " 36%|████████████████████████████▊                                                   | 36/100 [1:35:50<5:39:24, 318.19s/trial, best loss: 2.383142683075522]"
     ]
    },
    {
     "name": "stderr",
     "output_type": "stream",
     "text": [
      "2021-07-28 09:13:18 INFO     build_posterior_wrapper took 0.000997 seconds\n",
      "2021-07-28 09:13:18 INFO     TPE using 36/36 trials with best loss 2.383143\n"
     ]
    },
    {
     "name": "stdout",
     "output_type": "stream",
     "text": [
      "{'Base': DecisionTreeRegressor(criterion='friedman_mse', max_leaf_nodes=63,                                                                                 \n",
      "                      min_samples_split=3, random_state=1), 'col_sample': 0.7000000000000001, 'learning_rate': 0.004, 'minibatch_frac': 0.8, 'n_estimators': 10000000, 'verbose_eval': 100, 'random_state': 13}\n",
      "[iter 0] loss=3.8347 val_loss=3.8326 scale=2.0000 norm=18.2020                                                                                              \n",
      "[iter 100] loss=3.2940 val_loss=3.2965 scale=2.0000 norm=9.4362                                                                                             \n",
      "[iter 200] loss=2.9668 val_loss=2.9785 scale=2.0000 norm=5.9879                                                                                             \n",
      "[iter 300] loss=2.7030 val_loss=2.7298 scale=2.0000 norm=4.7164                                                                                             \n",
      "[iter 400] loss=2.4979 val_loss=2.5551 scale=2.0000 norm=4.2157                                                                                             \n",
      "[iter 500] loss=2.3480 val_loss=2.4506 scale=2.0000 norm=4.0093                                                                                             \n",
      "[iter 600] loss=2.2364 val_loss=2.3997 scale=2.0000 norm=3.8614                                                                                             \n",
      "[iter 700] loss=2.1595 val_loss=2.3852 scale=2.0000 norm=3.7786                                                                                             \n",
      "== Early stopping achieved.                                                                                                                                 \n",
      "== Best iteration / VAL707 (val_loss=2.3848)                                                                                                                \n",
      " 36%|████████████████████████████▊                                                   | 36/100 [1:37:26<5:39:24, 318.19s/trial, best loss: 2.383142683075522]"
     ]
    },
    {
     "name": "stderr",
     "output_type": "stream",
     "text": [
      "2021-07-28 09:14:54 INFO     {'Base': DecisionTreeRegressor(criterion='friedman_mse', max_leaf_nodes=63,\n",
      "                      min_samples_split=3, random_state=1), 'col_sample': 0.7000000000000001, 'learning_rate': 0.004, 'minibatch_frac': 0.8, 'n_estimators': 10000000, 'verbose_eval': 100, 'random_state': 13}\n"
     ]
    },
    {
     "name": "stdout",
     "output_type": "stream",
     "text": [
      "\r",
      " 37%|█████████████████████████████▌                                                  | 37/100 [1:37:26<4:24:04, 251.50s/trial, best loss: 2.383142683075522]"
     ]
    },
    {
     "name": "stderr",
     "output_type": "stream",
     "text": [
      "2021-07-28 09:14:54 INFO     build_posterior_wrapper took 0.002041 seconds\n",
      "2021-07-28 09:14:54 INFO     TPE using 37/37 trials with best loss 2.383143\n"
     ]
    },
    {
     "name": "stdout",
     "output_type": "stream",
     "text": [
      "{'Base': DecisionTreeRegressor(criterion='friedman_mse', max_leaf_nodes=127,                                                                                \n",
      "                      min_samples_split=3, random_state=1), 'col_sample': 0.8, 'learning_rate': 0.003, 'minibatch_frac': 0.7000000000000001, 'n_estimators': 10000000, 'verbose_eval': 100, 'random_state': 13}\n",
      "[iter 0] loss=3.8314 val_loss=3.8357 scale=2.0000 norm=18.1206                                                                                              \n",
      "[iter 100] loss=3.3811 val_loss=3.3867 scale=2.0000 norm=10.8332                                                                                            \n",
      "[iter 200] loss=3.1048 val_loss=3.1205 scale=2.0000 norm=7.0610                                                                                             \n",
      "[iter 300] loss=2.8666 val_loss=2.8970 scale=2.0000 norm=5.2517                                                                                             \n",
      "[iter 400] loss=2.6555 val_loss=2.7129 scale=2.0000 norm=4.3428                                                                                             \n",
      "[iter 500] loss=2.4744 val_loss=2.5734 scale=2.0000 norm=3.9064                                                                                             \n",
      "[iter 600] loss=2.3166 val_loss=2.4822 scale=2.0000 norm=3.6227                                                                                             \n",
      "[iter 700] loss=2.1925 val_loss=2.4366 scale=2.0000 norm=3.4773                                                                                             \n",
      "== Early stopping achieved.                                                                                                                                 \n",
      "== Best iteration / VAL768 (val_loss=2.4291)                                                                                                                \n",
      " 37%|█████████████████████████████▌                                                  | 37/100 [1:39:20<4:24:04, 251.50s/trial, best loss: 2.383142683075522]"
     ]
    },
    {
     "name": "stderr",
     "output_type": "stream",
     "text": [
      "2021-07-28 09:16:48 INFO     {'Base': DecisionTreeRegressor(criterion='friedman_mse', max_leaf_nodes=127,\n",
      "                      min_samples_split=3, random_state=1), 'col_sample': 0.8, 'learning_rate': 0.003, 'minibatch_frac': 0.7000000000000001, 'n_estimators': 10000000, 'verbose_eval': 100, 'random_state': 13}\n"
     ]
    },
    {
     "name": "stdout",
     "output_type": "stream",
     "text": [
      "\r",
      " 38%|██████████████████████████████▍                                                 | 38/100 [1:39:20<3:37:20, 210.33s/trial, best loss: 2.383142683075522]"
     ]
    },
    {
     "name": "stderr",
     "output_type": "stream",
     "text": [
      "2021-07-28 09:16:48 INFO     build_posterior_wrapper took 0.002999 seconds\n",
      "2021-07-28 09:16:48 INFO     TPE using 38/38 trials with best loss 2.383143\n"
     ]
    },
    {
     "name": "stdout",
     "output_type": "stream",
     "text": [
      "{'Base': DecisionTreeRegressor(criterion='friedman_mse', max_leaf_nodes=255,                                                                                \n",
      "                      min_samples_split=3, random_state=1), 'col_sample': 0.6000000000000001, 'learning_rate': 0.001, 'minibatch_frac': 0.8, 'n_estimators': 10000000, 'verbose_eval': 100, 'random_state': 13}\n",
      "[iter 0] loss=3.8347 val_loss=3.8419 scale=2.0000 norm=18.2020                                                                                              \n",
      "[iter 100] loss=3.6327 val_loss=3.6402 scale=2.0000 norm=15.3692                                                                                            \n",
      "[iter 200] loss=3.4982 val_loss=3.5104 scale=2.0000 norm=12.9612                                                                                            \n",
      "[iter 300] loss=3.3896 val_loss=3.4058 scale=2.0000 norm=11.0105                                                                                            \n",
      "[iter 400] loss=3.2925 val_loss=3.3102 scale=2.0000 norm=9.4869                                                                                             \n",
      "[iter 500] loss=3.2003 val_loss=3.2216 scale=2.0000 norm=8.2328                                                                                             \n",
      "[iter 600] loss=3.1070 val_loss=3.1365 scale=2.0000 norm=7.1174                                                                                             \n",
      "[iter 700] loss=3.0212 val_loss=3.0563 scale=2.0000 norm=6.3023                                                                                             \n",
      "[iter 800] loss=2.9357 val_loss=2.9794 scale=2.0000 norm=5.6018                                                                                             \n",
      "[iter 900] loss=2.8536 val_loss=2.9068 scale=2.0000 norm=5.0803                                                                                             \n",
      "[iter 1000] loss=2.7744 val_loss=2.8379 scale=2.0000 norm=4.6587                                                                                            \n",
      "[iter 1100] loss=2.6962 val_loss=2.7737 scale=2.0000 norm=4.3104                                                                                            \n",
      "[iter 1200] loss=2.6201 val_loss=2.7141 scale=2.0000 norm=4.0088                                                                                            \n",
      "[iter 1300] loss=2.5463 val_loss=2.6600 scale=2.0000 norm=3.8018                                                                                            \n",
      "[iter 1400] loss=2.4746 val_loss=2.6117 scale=2.0000 norm=3.6139                                                                                            \n",
      "[iter 1500] loss=2.4079 val_loss=2.5691 scale=2.0000 norm=3.4563                                                                                            \n",
      "[iter 1600] loss=2.3420 val_loss=2.5334 scale=2.0000 norm=3.3282                                                                                            \n",
      "[iter 1700] loss=2.2771 val_loss=2.5039 scale=2.0000 norm=3.2060                                                                                            \n",
      "[iter 1800] loss=2.2164 val_loss=2.4821 scale=2.0000 norm=3.1128                                                                                            \n",
      "[iter 1900] loss=2.1580 val_loss=2.4682 scale=2.0000 norm=3.0365                                                                                            \n",
      "[iter 2000] loss=2.1013 val_loss=2.4619 scale=2.0000 norm=2.9560                                                                                            \n",
      "== Early stopping achieved.                                                                                                                                 \n",
      "== Best iteration / VAL2031 (val_loss=2.4615)                                                                                                               \n",
      " 38%|██████████████████████████████▍                                                 | 38/100 [1:44:23<3:37:20, 210.33s/trial, best loss: 2.383142683075522]"
     ]
    },
    {
     "name": "stderr",
     "output_type": "stream",
     "text": [
      "2021-07-28 09:21:50 INFO     {'Base': DecisionTreeRegressor(criterion='friedman_mse', max_leaf_nodes=255,\n",
      "                      min_samples_split=3, random_state=1), 'col_sample': 0.6000000000000001, 'learning_rate': 0.001, 'minibatch_frac': 0.8, 'n_estimators': 10000000, 'verbose_eval': 100, 'random_state': 13}\n"
     ]
    },
    {
     "name": "stdout",
     "output_type": "stream",
     "text": [
      "\r",
      " 39%|███████████████████████████████▏                                                | 39/100 [1:44:23<4:01:54, 237.94s/trial, best loss: 2.383142683075522]"
     ]
    },
    {
     "name": "stderr",
     "output_type": "stream",
     "text": [
      "2021-07-28 09:21:50 INFO     build_posterior_wrapper took 0.004008 seconds\n",
      "2021-07-28 09:21:50 INFO     TPE using 39/39 trials with best loss 2.383143\n"
     ]
    },
    {
     "name": "stdout",
     "output_type": "stream",
     "text": [
      "{'Base': DecisionTreeRegressor(criterion='friedman_mse', max_leaf_nodes=63,                                                                                 \n",
      "                      min_samples_split=3, random_state=1), 'col_sample': 0.9, 'learning_rate': 0.007, 'minibatch_frac': 0.8, 'n_estimators': 10000000, 'verbose_eval': 100, 'random_state': 13}\n",
      "[iter 0] loss=3.8347 val_loss=3.8234 scale=2.0000 norm=18.2020                                                                                              \n",
      "[iter 100] loss=3.0382 val_loss=3.0444 scale=2.0000 norm=6.4819                                                                                             \n",
      "[iter 200] loss=2.5886 val_loss=2.6307 scale=2.0000 norm=4.3838                                                                                             \n",
      "[iter 300] loss=2.3164 val_loss=2.4371 scale=2.0000 norm=3.9884                                                                                             \n",
      "[iter 400] loss=2.1513 val_loss=2.3911 scale=2.0000 norm=3.7640                                                                                             \n",
      "== Early stopping achieved.                                                                                                                                 \n",
      "== Best iteration / VAL409 (val_loss=2.3907)                                                                                                                \n",
      " 39%|███████████████████████████████▏                                                | 39/100 [1:45:30<4:01:54, 237.94s/trial, best loss: 2.383142683075522]"
     ]
    },
    {
     "name": "stderr",
     "output_type": "stream",
     "text": [
      "2021-07-28 09:22:58 INFO     {'Base': DecisionTreeRegressor(criterion='friedman_mse', max_leaf_nodes=63,\n",
      "                      min_samples_split=3, random_state=1), 'col_sample': 0.9, 'learning_rate': 0.007, 'minibatch_frac': 0.8, 'n_estimators': 10000000, 'verbose_eval': 100, 'random_state': 13}\n"
     ]
    },
    {
     "name": "stdout",
     "output_type": "stream",
     "text": [
      "\r",
      " 40%|████████████████████████████████                                                | 40/100 [1:45:30<3:06:42, 186.71s/trial, best loss: 2.383142683075522]"
     ]
    },
    {
     "name": "stderr",
     "output_type": "stream",
     "text": [
      "2021-07-28 09:22:58 INFO     build_posterior_wrapper took 0.004000 seconds\n",
      "2021-07-28 09:22:58 INFO     TPE using 40/40 trials with best loss 2.383143\n"
     ]
    },
    {
     "name": "stdout",
     "output_type": "stream",
     "text": [
      "{'Base': DecisionTreeRegressor(criterion='friedman_mse', max_leaf_nodes=63,                                                                                 \n",
      "                      min_samples_split=3, random_state=1), 'col_sample': 0.7000000000000001, 'learning_rate': 0.006, 'minibatch_frac': 0.7000000000000001, 'n_estimators': 10000000, 'verbose_eval': 100, 'random_state': 13}\n",
      "[iter 0] loss=3.8314 val_loss=3.8264 scale=2.0000 norm=18.1206                                                                                              \n",
      "[iter 100] loss=3.1221 val_loss=3.1266 scale=2.0000 norm=7.2958                                                                                             \n",
      "[iter 200] loss=2.7023 val_loss=2.7290 scale=2.0000 norm=4.7082                                                                                             \n",
      "[iter 300] loss=2.4207 val_loss=2.4963 scale=2.0000 norm=4.1317                                                                                             \n",
      "[iter 400] loss=2.2409 val_loss=2.4000 scale=2.0000 norm=3.8935                                                                                             \n",
      "== Early stopping achieved.                                                                                                                                 \n",
      "== Best iteration / VAL475 (val_loss=2.3848)                                                                                                                \n",
      " 40%|████████████████████████████████                                                | 40/100 [1:46:26<3:06:42, 186.71s/trial, best loss: 2.383142683075522]"
     ]
    },
    {
     "name": "stderr",
     "output_type": "stream",
     "text": [
      "2021-07-28 09:23:54 INFO     {'Base': DecisionTreeRegressor(criterion='friedman_mse', max_leaf_nodes=63,\n",
      "                      min_samples_split=3, random_state=1), 'col_sample': 0.7000000000000001, 'learning_rate': 0.006, 'minibatch_frac': 0.7000000000000001, 'n_estimators': 10000000, 'verbose_eval': 100, 'random_state': 13}\n"
     ]
    },
    {
     "name": "stdout",
     "output_type": "stream",
     "text": [
      "\r",
      " 41%|████████████████████████████████▊                                               | 41/100 [1:46:26<2:25:07, 147.59s/trial, best loss: 2.383142683075522]"
     ]
    },
    {
     "name": "stderr",
     "output_type": "stream",
     "text": [
      "2021-07-28 09:23:54 INFO     build_posterior_wrapper took 0.002000 seconds\n",
      "2021-07-28 09:23:54 INFO     TPE using 41/41 trials with best loss 2.383143\n"
     ]
    },
    {
     "name": "stdout",
     "output_type": "stream",
     "text": [
      "{'Base': DecisionTreeRegressor(criterion='friedman_mse', max_leaf_nodes=255,                                                                                \n",
      "                      min_samples_split=3, random_state=1), 'col_sample': 0.9, 'learning_rate': 0.004, 'minibatch_frac': 0.7000000000000001, 'n_estimators': 10000000, 'verbose_eval': 100, 'random_state': 13}\n",
      "[iter 0] loss=3.8314 val_loss=3.8325 scale=2.0000 norm=18.1206                                                                                              \n",
      "[iter 100] loss=3.2723 val_loss=3.2869 scale=2.0000 norm=9.1033                                                                                             \n",
      "[iter 200] loss=2.9138 val_loss=2.9573 scale=2.0000 norm=5.3569                                                                                             \n",
      "[iter 300] loss=2.5968 val_loss=2.6963 scale=2.0000 norm=3.8773                                                                                             \n",
      "[iter 400] loss=2.3149 val_loss=2.5240 scale=2.0000 norm=3.2193                                                                                             \n",
      "[iter 500] loss=2.0736 val_loss=2.4702 scale=2.0000 norm=2.8760                                                                                             \n",
      "== Early stopping achieved.                                                                                                                                 \n",
      "== Best iteration / VAL494 (val_loss=2.4694)                                                                                                                \n",
      " 41%|████████████████████████████████▊                                               | 41/100 [1:48:04<2:25:07, 147.59s/trial, best loss: 2.383142683075522]"
     ]
    },
    {
     "name": "stderr",
     "output_type": "stream",
     "text": [
      "2021-07-28 09:25:32 INFO     {'Base': DecisionTreeRegressor(criterion='friedman_mse', max_leaf_nodes=255,\n",
      "                      min_samples_split=3, random_state=1), 'col_sample': 0.9, 'learning_rate': 0.004, 'minibatch_frac': 0.7000000000000001, 'n_estimators': 10000000, 'verbose_eval': 100, 'random_state': 13}\n"
     ]
    },
    {
     "name": "stdout",
     "output_type": "stream",
     "text": [
      "\r",
      " 42%|█████████████████████████████████▌                                              | 42/100 [1:48:04<2:08:13, 132.64s/trial, best loss: 2.383142683075522]"
     ]
    },
    {
     "name": "stderr",
     "output_type": "stream",
     "text": [
      "2021-07-28 09:25:32 INFO     build_posterior_wrapper took 0.003016 seconds\n",
      "2021-07-28 09:25:32 INFO     TPE using 42/42 trials with best loss 2.383143\n"
     ]
    },
    {
     "name": "stdout",
     "output_type": "stream",
     "text": [
      "{'Base': DecisionTreeRegressor(criterion='friedman_mse', max_leaf_nodes=127,                                                                                \n",
      "                      min_samples_split=3, random_state=1), 'col_sample': 1.0, 'learning_rate': 0.003, 'minibatch_frac': 1.0, 'n_estimators': 10000000, 'verbose_eval': 100, 'random_state': 13}\n",
      "[iter 0] loss=3.8345 val_loss=3.8356 scale=2.0000 norm=18.1911                                                                                              \n",
      "[iter 100] loss=3.3788 val_loss=3.3853 scale=2.0000 norm=10.7746                                                                                            \n",
      "[iter 200] loss=3.1044 val_loss=3.1205 scale=2.0000 norm=7.0502                                                                                             \n",
      "[iter 300] loss=2.8664 val_loss=2.8985 scale=2.0000 norm=5.2474                                                                                             \n",
      "[iter 400] loss=2.6568 val_loss=2.7163 scale=2.0000 norm=4.3658                                                                                             \n",
      "[iter 500] loss=2.4757 val_loss=2.5794 scale=2.0000 norm=3.9218                                                                                             \n",
      "[iter 600] loss=2.3235 val_loss=2.4916 scale=2.0000 norm=3.6745                                                                                             \n",
      "[iter 700] loss=2.1961 val_loss=2.4491 scale=2.0000 norm=3.5005                                                                                             \n",
      "== Early stopping achieved.                                                                                                                                 \n",
      "== Best iteration / VAL752 (val_loss=2.4420)                                                                                                                \n",
      " 42%|█████████████████████████████████▌                                              | 42/100 [1:51:08<2:08:13, 132.64s/trial, best loss: 2.383142683075522]"
     ]
    },
    {
     "name": "stderr",
     "output_type": "stream",
     "text": [
      "2021-07-28 09:28:35 INFO     {'Base': DecisionTreeRegressor(criterion='friedman_mse', max_leaf_nodes=127,\n",
      "                      min_samples_split=3, random_state=1), 'col_sample': 1.0, 'learning_rate': 0.003, 'minibatch_frac': 1.0, 'n_estimators': 10000000, 'verbose_eval': 100, 'random_state': 13}\n"
     ]
    },
    {
     "name": "stdout",
     "output_type": "stream",
     "text": [
      "\r",
      " 43%|██████████████████████████████████▍                                             | 43/100 [1:51:08<2:20:34, 147.98s/trial, best loss: 2.383142683075522]"
     ]
    },
    {
     "name": "stderr",
     "output_type": "stream",
     "text": [
      "2021-07-28 09:28:35 INFO     build_posterior_wrapper took 0.003999 seconds\n",
      "2021-07-28 09:28:35 INFO     TPE using 43/43 trials with best loss 2.383143\n"
     ]
    },
    {
     "name": "stdout",
     "output_type": "stream",
     "text": [
      "{'Base': DecisionTreeRegressor(criterion='friedman_mse', max_leaf_nodes=63,                                                                                 \n",
      "                      min_samples_split=3, random_state=1), 'col_sample': 0.8, 'learning_rate': 0.002, 'minibatch_frac': 0.6000000000000001, 'n_estimators': 10000000, 'verbose_eval': 100, 'random_state': 13}\n",
      "[iter 0] loss=3.8305 val_loss=3.8388 scale=2.0000 norm=18.0903                                                                                              \n",
      "[iter 100] loss=3.4968 val_loss=3.4963 scale=2.0000 norm=12.9109                                                                                            \n",
      "[iter 200] loss=3.2908 val_loss=3.2962 scale=2.0000 norm=9.3849                                                                                             \n",
      "[iter 300] loss=3.1173 val_loss=3.1273 scale=2.0000 norm=7.2137                                                                                             \n",
      "[iter 400] loss=2.9630 val_loss=2.9769 scale=2.0000 norm=5.9161                                                                                             \n",
      "[iter 500] loss=2.8245 val_loss=2.8435 scale=2.0000 norm=5.1678                                                                                             \n",
      "[iter 600] loss=2.6964 val_loss=2.7279 scale=2.0000 norm=4.6448                                                                                             \n",
      "[iter 700] loss=2.5898 val_loss=2.6313 scale=2.0000 norm=4.3952                                                                                             \n",
      "[iter 800] loss=2.4975 val_loss=2.5541 scale=2.0000 norm=4.2354                                                                                             \n",
      "[iter 900] loss=2.4151 val_loss=2.4941 scale=2.0000 norm=4.1053                                                                                             \n",
      "[iter 1000] loss=2.3439 val_loss=2.4500 scale=2.0000 norm=4.0007                                                                                            \n",
      "[iter 1100] loss=2.2897 val_loss=2.4189 scale=2.0000 norm=3.9606                                                                                            \n",
      "[iter 1200] loss=2.2329 val_loss=2.4001 scale=2.0000 norm=3.8565                                                                                            \n",
      "[iter 1300] loss=2.1972 val_loss=2.3892 scale=2.0000 norm=3.8512                                                                                            \n",
      "[iter 1400] loss=2.1572 val_loss=2.3861 scale=2.0000 norm=3.7741                                                                                            \n",
      "== Early stopping achieved.                                                                                                                                 \n",
      "== Best iteration / VAL1396 (val_loss=2.3860)                                                                                                               \n",
      " 43%|██████████████████████████████████▍                                             | 43/100 [1:53:45<2:20:34, 147.98s/trial, best loss: 2.383142683075522]"
     ]
    },
    {
     "name": "stderr",
     "output_type": "stream",
     "text": [
      "2021-07-28 09:31:13 INFO     {'Base': DecisionTreeRegressor(criterion='friedman_mse', max_leaf_nodes=63,\n",
      "                      min_samples_split=3, random_state=1), 'col_sample': 0.8, 'learning_rate': 0.002, 'minibatch_frac': 0.6000000000000001, 'n_estimators': 10000000, 'verbose_eval': 100, 'random_state': 13}\n"
     ]
    },
    {
     "name": "stdout",
     "output_type": "stream",
     "text": [
      "\r",
      " 44%|███████████████████████████████████▏                                            | 44/100 [1:53:45<2:20:51, 150.91s/trial, best loss: 2.383142683075522]"
     ]
    },
    {
     "name": "stderr",
     "output_type": "stream",
     "text": [
      "2021-07-28 09:31:13 INFO     build_posterior_wrapper took 0.003002 seconds\n",
      "2021-07-28 09:31:13 INFO     TPE using 44/44 trials with best loss 2.383143\n"
     ]
    },
    {
     "name": "stdout",
     "output_type": "stream",
     "text": [
      "{'Base': DecisionTreeRegressor(criterion='friedman_mse', max_leaf_nodes=63,                                                                                 \n",
      "                      min_samples_split=3, random_state=1), 'col_sample': 0.6000000000000001, 'learning_rate': 0.008, 'minibatch_frac': 0.8, 'n_estimators': 10000000, 'verbose_eval': 100, 'random_state': 13}\n",
      "[iter 0] loss=3.8347 val_loss=3.8204 scale=2.0000 norm=18.2020                                                                                              \n",
      "[iter 100] loss=2.9813 val_loss=2.9893 scale=2.0000 norm=6.1644                                                                                             \n",
      "[iter 200] loss=2.5107 val_loss=2.5662 scale=2.0000 norm=4.2770                                                                                             \n",
      "[iter 300] loss=2.2568 val_loss=2.4100 scale=2.0000 norm=3.9412                                                                                             \n",
      "== Early stopping achieved.                                                                                                                                 \n",
      "== Best iteration / VAL357 (val_loss=2.3957)                                                                                                                \n",
      " 44%|███████████████████████████████████▏                                            | 44/100 [1:54:26<2:20:51, 150.91s/trial, best loss: 2.383142683075522]"
     ]
    },
    {
     "name": "stderr",
     "output_type": "stream",
     "text": [
      "2021-07-28 09:31:53 INFO     {'Base': DecisionTreeRegressor(criterion='friedman_mse', max_leaf_nodes=63,\n",
      "                      min_samples_split=3, random_state=1), 'col_sample': 0.6000000000000001, 'learning_rate': 0.008, 'minibatch_frac': 0.8, 'n_estimators': 10000000, 'verbose_eval': 100, 'random_state': 13}\n"
     ]
    },
    {
     "name": "stdout",
     "output_type": "stream",
     "text": [
      "\r",
      " 45%|████████████████████████████████████                                            | 45/100 [1:54:26<1:47:55, 117.73s/trial, best loss: 2.383142683075522]"
     ]
    },
    {
     "name": "stderr",
     "output_type": "stream",
     "text": [
      "2021-07-28 09:31:53 INFO     build_posterior_wrapper took 0.002981 seconds\n",
      "2021-07-28 09:31:53 INFO     TPE using 45/45 trials with best loss 2.383143\n"
     ]
    },
    {
     "name": "stdout",
     "output_type": "stream",
     "text": [
      "{'Base': DecisionTreeRegressor(criterion='friedman_mse', max_leaf_nodes=255,                                                                                \n",
      "                      min_samples_split=3, random_state=1), 'col_sample': 0.7000000000000001, 'learning_rate': 0.001, 'minibatch_frac': 0.7000000000000001, 'n_estimators': 10000000, 'verbose_eval': 100, 'random_state': 13}\n",
      "[iter 0] loss=3.8314 val_loss=3.8420 scale=2.0000 norm=18.1206                                                                                              \n",
      "[iter 100] loss=3.6245 val_loss=3.6313 scale=2.0000 norm=15.2385                                                                                            \n",
      "[iter 200] loss=3.4884 val_loss=3.4995 scale=2.0000 norm=12.7831                                                                                            \n",
      "[iter 300] loss=3.3784 val_loss=3.3922 scale=2.0000 norm=10.8053                                                                                            \n",
      "[iter 400] loss=3.2795 val_loss=3.2961 scale=2.0000 norm=9.2389                                                                                             \n",
      "[iter 500] loss=3.1864 val_loss=3.2070 scale=2.0000 norm=7.9878                                                                                             \n",
      "[iter 600] loss=3.0928 val_loss=3.1222 scale=2.0000 norm=6.9013                                                                                             \n",
      "[iter 700] loss=3.0055 val_loss=3.0418 scale=2.0000 norm=6.0910                                                                                             \n",
      "[iter 800] loss=2.9234 val_loss=2.9653 scale=2.0000 norm=5.4725                                                                                             \n",
      "[iter 900] loss=2.8397 val_loss=2.8928 scale=2.0000 norm=4.9390                                                                                             \n",
      "[iter 1000] loss=2.7620 val_loss=2.8241 scale=2.0000 norm=4.5605                                                                                            \n",
      "[iter 1100] loss=2.6829 val_loss=2.7601 scale=2.0000 norm=4.2325                                                                                            \n",
      "[iter 1200] loss=2.6035 val_loss=2.7010 scale=2.0000 norm=3.9095                                                                                            \n",
      "[iter 1300] loss=2.5325 val_loss=2.6474 scale=2.0000 norm=3.7301                                                                                            \n",
      "[iter 1400] loss=2.4596 val_loss=2.5996 scale=2.0000 norm=3.5372                                                                                            \n",
      "[iter 1500] loss=2.3920 val_loss=2.5580 scale=2.0000 norm=3.3919                                                                                            \n",
      "[iter 1600] loss=2.3268 val_loss=2.5232 scale=2.0000 norm=3.2646                                                                                            \n",
      "[iter 1700] loss=2.2612 val_loss=2.4951 scale=2.0000 norm=3.1467                                                                                            \n",
      "[iter 1800] loss=2.2014 val_loss=2.4747 scale=2.0000 norm=3.0676                                                                                            \n",
      "[iter 1900] loss=2.1428 val_loss=2.4620 scale=2.0000 norm=2.9940                                                                                            \n",
      "[iter 2000] loss=2.0856 val_loss=2.4576 scale=2.0000 norm=2.9109                                                                                            \n",
      "== Early stopping achieved.                                                                                                                                 \n",
      "== Best iteration / VAL2005 (val_loss=2.4576)                                                                                                               \n",
      " 45%|████████████████████████████████████                                            | 45/100 [1:59:34<1:47:55, 117.73s/trial, best loss: 2.383142683075522]"
     ]
    },
    {
     "name": "stderr",
     "output_type": "stream",
     "text": [
      "2021-07-28 09:37:02 INFO     {'Base': DecisionTreeRegressor(criterion='friedman_mse', max_leaf_nodes=255,\n",
      "                      min_samples_split=3, random_state=1), 'col_sample': 0.7000000000000001, 'learning_rate': 0.001, 'minibatch_frac': 0.7000000000000001, 'n_estimators': 10000000, 'verbose_eval': 100, 'random_state': 13}\n"
     ]
    },
    {
     "name": "stdout",
     "output_type": "stream",
     "text": [
      "\r",
      " 46%|████████████████████████████████████▊                                           | 46/100 [1:59:34<2:37:30, 175.02s/trial, best loss: 2.383142683075522]"
     ]
    },
    {
     "name": "stderr",
     "output_type": "stream",
     "text": [
      "2021-07-28 09:37:02 INFO     build_posterior_wrapper took 0.001999 seconds\n",
      "2021-07-28 09:37:02 INFO     TPE using 46/46 trials with best loss 2.383143\n"
     ]
    },
    {
     "name": "stdout",
     "output_type": "stream",
     "text": [
      "{'Base': DecisionTreeRegressor(criterion='friedman_mse', max_leaf_nodes=127,                                                                                \n",
      "                      min_samples_split=3, random_state=1), 'col_sample': 0.9, 'learning_rate': 0.009000000000000001, 'minibatch_frac': 0.8, 'n_estimators': 10000000, 'verbose_eval': 100, 'random_state': 13}\n",
      "[iter 0] loss=3.8347 val_loss=3.8172 scale=2.0000 norm=18.2020                                                                                              \n",
      "[iter 100] loss=2.8647 val_loss=2.8925 scale=2.0000 norm=5.2123                                                                                             \n",
      "[iter 200] loss=2.3177 val_loss=2.4844 scale=2.0000 norm=3.6475                                                                                             \n",
      "== Early stopping achieved.                                                                                                                                 \n",
      "== Best iteration / VAL255 (val_loss=2.4350)                                                                                                                \n",
      " 46%|████████████████████████████████████▊                                           | 46/100 [2:00:23<2:37:30, 175.02s/trial, best loss: 2.383142683075522]"
     ]
    },
    {
     "name": "stderr",
     "output_type": "stream",
     "text": [
      "2021-07-28 09:37:51 INFO     {'Base': DecisionTreeRegressor(criterion='friedman_mse', max_leaf_nodes=127,\n",
      "                      min_samples_split=3, random_state=1), 'col_sample': 0.9, 'learning_rate': 0.009000000000000001, 'minibatch_frac': 0.8, 'n_estimators': 10000000, 'verbose_eval': 100, 'random_state': 13}\n"
     ]
    },
    {
     "name": "stdout",
     "output_type": "stream",
     "text": [
      "\r",
      " 47%|█████████████████████████████████████▌                                          | 47/100 [2:00:23<2:01:04, 137.06s/trial, best loss: 2.383142683075522]"
     ]
    },
    {
     "name": "stderr",
     "output_type": "stream",
     "text": [
      "2021-07-28 09:37:51 INFO     build_posterior_wrapper took 0.001998 seconds\n",
      "2021-07-28 09:37:51 INFO     TPE using 47/47 trials with best loss 2.383143\n"
     ]
    },
    {
     "name": "stdout",
     "output_type": "stream",
     "text": [
      "{'Base': DecisionTreeRegressor(criterion='friedman_mse', max_leaf_nodes=63,                                                                                 \n",
      "                      min_samples_split=3, random_state=1), 'col_sample': 0.8, 'learning_rate': 0.003, 'minibatch_frac': 0.9, 'n_estimators': 10000000, 'verbose_eval': 100, 'random_state': 13}\n",
      "[iter 0] loss=3.8335 val_loss=3.8357 scale=2.0000 norm=18.1602                                                                                              \n",
      "[iter 100] loss=3.3865 val_loss=3.3888 scale=2.0000 norm=10.8991                                                                                            \n",
      "[iter 200] loss=3.1178 val_loss=3.1257 scale=2.0000 norm=7.2171                                                                                             \n",
      "[iter 300] loss=2.8921 val_loss=2.9065 scale=2.0000 norm=5.5093                                                                                             \n",
      "[iter 400] loss=2.6998 val_loss=2.7269 scale=2.0000 norm=4.6765                                                                                             \n",
      "[iter 500] loss=2.5424 val_loss=2.5902 scale=2.0000 norm=4.3104                                                                                             \n",
      "[iter 600] loss=2.4119 val_loss=2.4937 scale=2.0000 norm=4.0725                                                                                             \n",
      "[iter 700] loss=2.3155 val_loss=2.4327 scale=2.0000 norm=3.9716                                                                                             \n",
      "[iter 800] loss=2.2362 val_loss=2.3994 scale=2.0000 norm=3.8768                                                                                             \n",
      "[iter 900] loss=2.1757 val_loss=2.3861 scale=2.0000 norm=3.8073                                                                                             \n",
      "== Early stopping achieved.                                                                                                                                 \n",
      "== Best iteration / VAL940 (val_loss=2.3846)                                                                                                                \n",
      " 47%|█████████████████████████████████████▌                                          | 47/100 [2:02:48<2:01:04, 137.06s/trial, best loss: 2.383142683075522]"
     ]
    },
    {
     "name": "stderr",
     "output_type": "stream",
     "text": [
      "2021-07-28 09:40:16 INFO     {'Base': DecisionTreeRegressor(criterion='friedman_mse', max_leaf_nodes=63,\n",
      "                      min_samples_split=3, random_state=1), 'col_sample': 0.8, 'learning_rate': 0.003, 'minibatch_frac': 0.9, 'n_estimators': 10000000, 'verbose_eval': 100, 'random_state': 13}\n"
     ]
    },
    {
     "name": "stdout",
     "output_type": "stream",
     "text": [
      "\r",
      " 48%|██████████████████████████████████████▍                                         | 48/100 [2:02:48<2:00:54, 139.50s/trial, best loss: 2.383142683075522]"
     ]
    },
    {
     "name": "stderr",
     "output_type": "stream",
     "text": [
      "2021-07-28 09:40:16 INFO     build_posterior_wrapper took 0.002002 seconds\n",
      "2021-07-28 09:40:16 INFO     TPE using 48/48 trials with best loss 2.383143\n"
     ]
    },
    {
     "name": "stdout",
     "output_type": "stream",
     "text": [
      "{'Base': DecisionTreeRegressor(criterion='friedman_mse', max_leaf_nodes=255,                                                                                \n",
      "                      min_samples_split=3, random_state=1), 'col_sample': 0.7000000000000001, 'learning_rate': 0.007, 'minibatch_frac': 1.0, 'n_estimators': 10000000, 'verbose_eval': 100, 'random_state': 13}\n",
      "[iter 0] loss=3.8345 val_loss=3.8234 scale=2.0000 norm=18.1911                                                                                              \n",
      "[iter 100] loss=3.0081 val_loss=3.0403 scale=2.0000 norm=6.1076                                                                                             \n",
      "[iter 200] loss=2.4594 val_loss=2.6013 scale=2.0000 norm=3.5165                                                                                             \n",
      "== Early stopping achieved.                                                                                                                                 \n",
      "== Best iteration / VAL281 (val_loss=2.4688)                                                                                                                \n",
      " 48%|██████████████████████████████████████▍                                         | 48/100 [2:03:46<2:00:54, 139.50s/trial, best loss: 2.383142683075522]"
     ]
    },
    {
     "name": "stderr",
     "output_type": "stream",
     "text": [
      "2021-07-28 09:41:14 INFO     {'Base': DecisionTreeRegressor(criterion='friedman_mse', max_leaf_nodes=255,\n",
      "                      min_samples_split=3, random_state=1), 'col_sample': 0.7000000000000001, 'learning_rate': 0.007, 'minibatch_frac': 1.0, 'n_estimators': 10000000, 'verbose_eval': 100, 'random_state': 13}\n"
     ]
    },
    {
     "name": "stdout",
     "output_type": "stream",
     "text": [
      "\r",
      " 49%|███████████████████████████████████████▏                                        | 49/100 [2:03:46<1:37:50, 115.10s/trial, best loss: 2.383142683075522]"
     ]
    },
    {
     "name": "stderr",
     "output_type": "stream",
     "text": [
      "2021-07-28 09:41:14 INFO     build_posterior_wrapper took 0.002998 seconds\n",
      "2021-07-28 09:41:14 INFO     TPE using 49/49 trials with best loss 2.383143\n"
     ]
    },
    {
     "name": "stdout",
     "output_type": "stream",
     "text": [
      "{'Base': DecisionTreeRegressor(criterion='friedman_mse', max_leaf_nodes=63,                                                                                 \n",
      "                      min_samples_split=3, random_state=1), 'col_sample': 1.0, 'learning_rate': 0.006, 'minibatch_frac': 0.7000000000000001, 'n_estimators': 10000000, 'verbose_eval': 100, 'random_state': 13}\n",
      "[iter 0] loss=3.8314 val_loss=3.8264 scale=2.0000 norm=18.1206                                                                                              \n",
      "[iter 100] loss=3.1180 val_loss=3.1230 scale=2.0000 norm=7.2149                                                                                             \n",
      "[iter 200] loss=2.6982 val_loss=2.7280 scale=2.0000 norm=4.6770                                                                                             \n",
      "[iter 300] loss=2.4152 val_loss=2.4988 scale=2.0000 norm=4.1015                                                                                             \n",
      "[iter 400] loss=2.2343 val_loss=2.4096 scale=2.0000 norm=3.8807                                                                                             \n",
      "== Early stopping achieved.                                                                                                                                 \n",
      "== Best iteration / VAL456 (val_loss=2.3982)                                                                                                                \n",
      " 49%|███████████████████████████████████████▏                                        | 49/100 [2:04:59<1:37:50, 115.10s/trial, best loss: 2.383142683075522]"
     ]
    },
    {
     "name": "stderr",
     "output_type": "stream",
     "text": [
      "2021-07-28 09:42:26 INFO     {'Base': DecisionTreeRegressor(criterion='friedman_mse', max_leaf_nodes=63,\n",
      "                      min_samples_split=3, random_state=1), 'col_sample': 1.0, 'learning_rate': 0.006, 'minibatch_frac': 0.7000000000000001, 'n_estimators': 10000000, 'verbose_eval': 100, 'random_state': 13}\n"
     ]
    },
    {
     "name": "stdout",
     "output_type": "stream",
     "text": [
      "\r",
      " 50%|████████████████████████████████████████                                        | 50/100 [2:04:59<1:25:13, 102.26s/trial, best loss: 2.383142683075522]"
     ]
    },
    {
     "name": "stderr",
     "output_type": "stream",
     "text": [
      "2021-07-28 09:42:26 INFO     build_posterior_wrapper took 0.002001 seconds\n",
      "2021-07-28 09:42:26 INFO     TPE using 50/50 trials with best loss 2.383143\n"
     ]
    },
    {
     "name": "stdout",
     "output_type": "stream",
     "text": [
      "{'Base': DecisionTreeRegressor(criterion='friedman_mse', max_leaf_nodes=127,                                                                                \n",
      "                      min_samples_split=3, random_state=1), 'col_sample': 0.9, 'learning_rate': 0.005, 'minibatch_frac': 0.6000000000000001, 'n_estimators': 10000000, 'verbose_eval': 100, 'random_state': 13}\n",
      "[iter 0] loss=3.8305 val_loss=3.8295 scale=2.0000 norm=18.0903                                                                                              \n",
      "[iter 100] loss=3.1938 val_loss=3.2012 scale=2.0000 norm=8.0713                                                                                             \n",
      "[iter 200] loss=2.7927 val_loss=2.8299 scale=2.0000 norm=4.8782                                                                                             \n",
      "[iter 300] loss=2.4739 val_loss=2.5737 scale=2.0000 norm=3.9150                                                                                             \n",
      "[iter 400] loss=2.2314 val_loss=2.4477 scale=2.0000 norm=3.5344                                                                                             \n",
      "== Early stopping achieved.                                                                                                                                 \n",
      "== Best iteration / VAL457 (val_loss=2.4299)                                                                                                                \n",
      " 50%|████████████████████████████████████████                                        | 50/100 [2:30:13<1:25:13, 102.26s/trial, best loss: 2.383142683075522]"
     ]
    },
    {
     "name": "stderr",
     "output_type": "stream",
     "text": [
      "2021-07-28 10:07:41 INFO     {'Base': DecisionTreeRegressor(criterion='friedman_mse', max_leaf_nodes=127,\n",
      "                      min_samples_split=3, random_state=1), 'col_sample': 0.9, 'learning_rate': 0.005, 'minibatch_frac': 0.6000000000000001, 'n_estimators': 10000000, 'verbose_eval': 100, 'random_state': 13}\n"
     ]
    },
    {
     "name": "stdout",
     "output_type": "stream",
     "text": [
      "\r",
      " 51%|████████████████████████████████████████▊                                       | 51/100 [2:30:13<7:09:29, 525.91s/trial, best loss: 2.383142683075522]"
     ]
    },
    {
     "name": "stderr",
     "output_type": "stream",
     "text": [
      "2021-07-28 10:07:41 INFO     build_posterior_wrapper took 0.001000 seconds\n",
      "2021-07-28 10:07:41 INFO     TPE using 51/51 trials with best loss 2.383143\n"
     ]
    },
    {
     "name": "stdout",
     "output_type": "stream",
     "text": [
      "{'Base': DecisionTreeRegressor(criterion='friedman_mse', max_leaf_nodes=63,                                                                                 \n",
      "                      min_samples_split=3, random_state=1), 'col_sample': 0.7000000000000001, 'learning_rate': 0.004, 'minibatch_frac': 1.0, 'n_estimators': 10000000, 'verbose_eval': 100, 'random_state': 13}\n",
      "[iter 0] loss=3.8345 val_loss=3.8326 scale=2.0000 norm=18.1911                                                                                              \n",
      "[iter 100] loss=3.2980 val_loss=3.3014 scale=2.0000 norm=9.5102                                                                                             \n",
      "[iter 200] loss=2.9717 val_loss=2.9831 scale=2.0000 norm=6.0322                                                                                             \n",
      "[iter 300] loss=2.7071 val_loss=2.7344 scale=2.0000 norm=4.7291                                                                                             \n",
      "[iter 400] loss=2.5030 val_loss=2.5597 scale=2.0000 norm=4.2440                                                                                             \n",
      "[iter 500] loss=2.3536 val_loss=2.4557 scale=2.0000 norm=4.0330                                                                                             \n",
      "[iter 600] loss=2.2451 val_loss=2.4059 scale=2.0000 norm=3.9021                                                                                             \n",
      "[iter 700] loss=2.1649 val_loss=2.3892 scale=2.0000 norm=3.7992                                                                                             \n",
      "== Early stopping achieved.                                                                                                                                 \n",
      "== Best iteration / VAL716 (val_loss=2.3884)                                                                                                                \n",
      " 51%|████████████████████████████████████████▊                                       | 51/100 [2:32:11<7:09:29, 525.91s/trial, best loss: 2.383142683075522]"
     ]
    },
    {
     "name": "stderr",
     "output_type": "stream",
     "text": [
      "2021-07-28 10:09:39 INFO     {'Base': DecisionTreeRegressor(criterion='friedman_mse', max_leaf_nodes=63,\n",
      "                      min_samples_split=3, random_state=1), 'col_sample': 0.7000000000000001, 'learning_rate': 0.004, 'minibatch_frac': 1.0, 'n_estimators': 10000000, 'verbose_eval': 100, 'random_state': 13}\n"
     ]
    },
    {
     "name": "stdout",
     "output_type": "stream",
     "text": [
      "\r",
      " 52%|█████████████████████████████████████████▌                                      | 52/100 [2:32:11<5:22:47, 403.49s/trial, best loss: 2.383142683075522]"
     ]
    },
    {
     "name": "stderr",
     "output_type": "stream",
     "text": [
      "2021-07-28 10:09:39 INFO     build_posterior_wrapper took 0.000995 seconds\n",
      "2021-07-28 10:09:39 INFO     TPE using 52/52 trials with best loss 2.383143\n"
     ]
    },
    {
     "name": "stdout",
     "output_type": "stream",
     "text": [
      "{'Base': DecisionTreeRegressor(criterion='friedman_mse', max_leaf_nodes=255,                                                                                \n",
      "                      min_samples_split=3, random_state=1), 'col_sample': 0.8, 'learning_rate': 0.003, 'minibatch_frac': 0.8, 'n_estimators': 10000000, 'verbose_eval': 100, 'random_state': 13}\n",
      "[iter 0] loss=3.8347 val_loss=3.8357 scale=2.0000 norm=18.2020                                                                                              \n",
      "[iter 100] loss=3.3732 val_loss=3.3843 scale=2.0000 norm=10.7071                                                                                            \n",
      "[iter 200] loss=3.0867 val_loss=3.1141 scale=2.0000 norm=6.8014                                                                                             \n",
      "[iter 300] loss=2.8308 val_loss=2.8846 scale=2.0000 norm=4.8538                                                                                             \n",
      "[iter 400] loss=2.5964 val_loss=2.6944 scale=2.0000 norm=3.8575                                                                                             \n",
      "[iter 500] loss=2.3824 val_loss=2.5536 scale=2.0000 norm=3.3400                                                                                             \n",
      "[iter 600] loss=2.1868 val_loss=2.4751 scale=2.0000 norm=3.0069                                                                                             \n",
      "== Early stopping achieved.                                                                                                                                 \n",
      "== Best iteration / VAL658 (val_loss=2.4621)                                                                                                                \n",
      " 52%|█████████████████████████████████████████▌                                      | 52/100 [2:34:30<5:22:47, 403.49s/trial, best loss: 2.383142683075522]"
     ]
    },
    {
     "name": "stderr",
     "output_type": "stream",
     "text": [
      "2021-07-28 10:11:58 INFO     {'Base': DecisionTreeRegressor(criterion='friedman_mse', max_leaf_nodes=255,\n",
      "                      min_samples_split=3, random_state=1), 'col_sample': 0.8, 'learning_rate': 0.003, 'minibatch_frac': 0.8, 'n_estimators': 10000000, 'verbose_eval': 100, 'random_state': 13}\n"
     ]
    },
    {
     "name": "stdout",
     "output_type": "stream",
     "text": [
      "\r",
      " 53%|██████████████████████████████████████████▍                                     | 53/100 [2:34:30<4:14:01, 324.29s/trial, best loss: 2.383142683075522]"
     ]
    },
    {
     "name": "stderr",
     "output_type": "stream",
     "text": [
      "2021-07-28 10:11:58 INFO     build_posterior_wrapper took 0.001000 seconds\n",
      "2021-07-28 10:11:58 INFO     TPE using 53/53 trials with best loss 2.383143\n"
     ]
    },
    {
     "name": "stdout",
     "output_type": "stream",
     "text": [
      "{'Base': DecisionTreeRegressor(criterion='friedman_mse', max_leaf_nodes=63,                                                                                 \n",
      "                      min_samples_split=3, random_state=1), 'col_sample': 0.6000000000000001, 'learning_rate': 0.001, 'minibatch_frac': 0.9, 'n_estimators': 10000000, 'verbose_eval': 100, 'random_state': 13}\n",
      "[iter 0] loss=3.8335 val_loss=3.8420 scale=2.0000 norm=18.1602                                                                                              \n",
      "[iter 100] loss=3.6365 val_loss=3.6401 scale=2.0000 norm=15.4102                                                                                            \n",
      "[iter 200] loss=3.5050 val_loss=3.5108 scale=2.0000 norm=13.0521                                                                                            \n",
      "[iter 300] loss=3.4009 val_loss=3.4063 scale=2.0000 norm=11.2089                                                                                            \n",
      "[iter 400] loss=3.3082 val_loss=3.3131 scale=2.0000 norm=9.7424                                                                                             \n",
      "[iter 500] loss=3.2201 val_loss=3.2269 scale=2.0000 norm=8.5287                                                                                             \n",
      "[iter 600] loss=3.1353 val_loss=3.1446 scale=2.0000 norm=7.5179                                                                                             \n",
      "[iter 700] loss=3.0573 val_loss=3.0675 scale=2.0000 norm=6.7706                                                                                             \n",
      "[iter 800] loss=2.9811 val_loss=2.9942 scale=2.0000 norm=6.1520                                                                                             \n",
      "[iter 900] loss=2.9104 val_loss=2.9252 scale=2.0000 norm=5.6989                                                                                             \n",
      "[iter 1000] loss=2.8429 val_loss=2.8602 scale=2.0000 norm=5.3448                                                                                            \n",
      "[iter 1100] loss=2.7771 val_loss=2.7998 scale=2.0000 norm=5.0254                                                                                            \n",
      "[iter 1200] loss=2.7172 val_loss=2.7439 scale=2.0000 norm=4.8058                                                                                            \n",
      "[iter 1300] loss=2.6599 val_loss=2.6927 scale=2.0000 norm=4.6236                                                                                            \n",
      "[iter 1400] loss=2.6076 val_loss=2.6463 scale=2.0000 norm=4.4950                                                                                            \n",
      "[iter 1500] loss=2.5587 val_loss=2.6042 scale=2.0000 norm=4.3809                                                                                            \n",
      "[iter 1600] loss=2.5129 val_loss=2.5669 scale=2.0000 norm=4.2827                                                                                            \n",
      "[iter 1700] loss=2.4691 val_loss=2.5338 scale=2.0000 norm=4.2037                                                                                            \n",
      "[iter 1800] loss=2.4324 val_loss=2.5049 scale=2.0000 norm=4.1589                                                                                            \n",
      "[iter 1900] loss=2.3948 val_loss=2.4803 scale=2.0000 norm=4.0946                                                                                            \n",
      "[iter 2000] loss=2.3621 val_loss=2.4589 scale=2.0000 norm=4.0542                                                                                            \n",
      "[iter 2100] loss=2.3320 val_loss=2.4410 scale=2.0000 norm=4.0198                                                                                            \n",
      "[iter 2200] loss=2.3027 val_loss=2.4262 scale=2.0000 norm=3.9783                                                                                            \n",
      "[iter 2300] loss=2.2790 val_loss=2.4144 scale=2.0000 norm=3.9628                                                                                            \n",
      "[iter 2400] loss=2.2521 val_loss=2.4048 scale=2.0000 norm=3.9149                                                                                            \n",
      "[iter 2500] loss=2.2301 val_loss=2.3978 scale=2.0000 norm=3.8869                                                                                            \n",
      "[iter 2600] loss=2.2106 val_loss=2.3925 scale=2.0000 norm=3.8680                                                                                            \n",
      "[iter 2700] loss=2.1892 val_loss=2.3894 scale=2.0000 norm=3.8324                                                                                            \n",
      "[iter 2800] loss=2.1742 val_loss=2.3874 scale=2.0000 norm=3.8253                                                                                            \n",
      "== Early stopping achieved.                                                                                                                                 \n",
      "== Best iteration / VAL2801 (val_loss=2.3874)                                                                                                               \n",
      " 53%|██████████████████████████████████████████▍                                     | 53/100 [2:40:39<4:14:01, 324.29s/trial, best loss: 2.383142683075522]"
     ]
    },
    {
     "name": "stderr",
     "output_type": "stream",
     "text": [
      "2021-07-28 10:18:07 INFO     {'Base': DecisionTreeRegressor(criterion='friedman_mse', max_leaf_nodes=63,\n",
      "                      min_samples_split=3, random_state=1), 'col_sample': 0.6000000000000001, 'learning_rate': 0.001, 'minibatch_frac': 0.9, 'n_estimators': 10000000, 'verbose_eval': 100, 'random_state': 13}\n"
     ]
    },
    {
     "name": "stdout",
     "output_type": "stream",
     "text": [
      "\r",
      " 54%|███████████████████████████████████████████▏                                    | 54/100 [2:40:39<4:18:51, 337.64s/trial, best loss: 2.383142683075522]"
     ]
    },
    {
     "name": "stderr",
     "output_type": "stream",
     "text": [
      "2021-07-28 10:18:07 INFO     build_posterior_wrapper took 0.002059 seconds\n",
      "2021-07-28 10:18:07 INFO     TPE using 54/54 trials with best loss 2.383143\n"
     ]
    },
    {
     "name": "stdout",
     "output_type": "stream",
     "text": [
      "{'Base': DecisionTreeRegressor(criterion='friedman_mse', max_leaf_nodes=63,                                                                                 \n",
      "                      min_samples_split=3, random_state=1), 'col_sample': 1.0, 'learning_rate': 0.002, 'minibatch_frac': 0.6000000000000001, 'n_estimators': 10000000, 'verbose_eval': 100, 'random_state': 13}\n",
      "[iter 0] loss=3.8305 val_loss=3.8388 scale=2.0000 norm=18.0903                                                                                              \n",
      "[iter 100] loss=3.4907 val_loss=3.4953 scale=2.0000 norm=12.7472                                                                                            \n",
      "[iter 200] loss=3.2884 val_loss=3.2949 scale=2.0000 norm=9.3127                                                                                             \n",
      "[iter 300] loss=3.1155 val_loss=3.1264 scale=2.0000 norm=7.2013                                                                                             \n",
      "[iter 400] loss=2.9621 val_loss=2.9766 scale=2.0000 norm=5.9252                                                                                             \n",
      "[iter 500] loss=2.8236 val_loss=2.8441 scale=2.0000 norm=5.1498                                                                                             \n",
      "[iter 600] loss=2.6978 val_loss=2.7298 scale=2.0000 norm=4.6538                                                                                             \n",
      "[iter 700] loss=2.5873 val_loss=2.6345 scale=2.0000 norm=4.3765                                                                                             \n",
      "[iter 800] loss=2.4973 val_loss=2.5581 scale=2.0000 norm=4.2495                                                                                             \n",
      "[iter 900] loss=2.4152 val_loss=2.4993 scale=2.0000 norm=4.1222                                                                                             \n",
      "[iter 1000] loss=2.3473 val_loss=2.4561 scale=2.0000 norm=4.0267                                                                                            \n",
      "[iter 1100] loss=2.2865 val_loss=2.4267 scale=2.0000 norm=3.9546                                                                                            \n",
      "[iter 1200] loss=2.2397 val_loss=2.4082 scale=2.0000 norm=3.9106                                                                                            \n",
      "[iter 1300] loss=2.1932 val_loss=2.3982 scale=2.0000 norm=3.8418                                                                                            \n",
      "== Early stopping achieved.                                                                                                                                 \n",
      "== Best iteration / VAL1347 (val_loss=2.3961)                                                                                                               \n",
      " 54%|███████████████████████████████████████████▏                                    | 54/100 [2:44:11<4:18:51, 337.64s/trial, best loss: 2.383142683075522]"
     ]
    },
    {
     "name": "stderr",
     "output_type": "stream",
     "text": [
      "2021-07-28 10:21:38 INFO     {'Base': DecisionTreeRegressor(criterion='friedman_mse', max_leaf_nodes=63,\n",
      "                      min_samples_split=3, random_state=1), 'col_sample': 1.0, 'learning_rate': 0.002, 'minibatch_frac': 0.6000000000000001, 'n_estimators': 10000000, 'verbose_eval': 100, 'random_state': 13}\n"
     ]
    },
    {
     "name": "stdout",
     "output_type": "stream",
     "text": [
      "\r",
      " 55%|████████████████████████████████████████████                                    | 55/100 [2:44:11<3:44:53, 299.85s/trial, best loss: 2.383142683075522]"
     ]
    },
    {
     "name": "stderr",
     "output_type": "stream",
     "text": [
      "2021-07-28 10:21:39 INFO     build_posterior_wrapper took 0.002002 seconds\n",
      "2021-07-28 10:21:39 INFO     TPE using 55/55 trials with best loss 2.383143\n"
     ]
    },
    {
     "name": "stdout",
     "output_type": "stream",
     "text": [
      "{'Base': DecisionTreeRegressor(criterion='friedman_mse', max_leaf_nodes=127,                                                                                \n",
      "                      min_samples_split=3, random_state=1), 'col_sample': 0.9, 'learning_rate': 0.008, 'minibatch_frac': 0.8, 'n_estimators': 10000000, 'verbose_eval': 100, 'random_state': 13}\n",
      "[iter 0] loss=3.8347 val_loss=3.8203 scale=2.0000 norm=18.2020                                                                                              \n",
      "[iter 100] loss=2.9415 val_loss=2.9635 scale=2.0000 norm=5.6805                                                                                             \n",
      "[iter 200] loss=2.4177 val_loss=2.5398 scale=2.0000 norm=3.8032                                                                                             \n",
      "== Early stopping achieved.                                                                                                                                 \n",
      "== Best iteration / VAL285 (val_loss=2.4367)                                                                                                                \n",
      " 55%|████████████████████████████████████████████                                    | 55/100 [2:45:15<3:44:53, 299.85s/trial, best loss: 2.383142683075522]"
     ]
    },
    {
     "name": "stderr",
     "output_type": "stream",
     "text": [
      "2021-07-28 10:22:42 INFO     {'Base': DecisionTreeRegressor(criterion='friedman_mse', max_leaf_nodes=127,\n",
      "                      min_samples_split=3, random_state=1), 'col_sample': 0.9, 'learning_rate': 0.008, 'minibatch_frac': 0.8, 'n_estimators': 10000000, 'verbose_eval': 100, 'random_state': 13}\n"
     ]
    },
    {
     "name": "stdout",
     "output_type": "stream",
     "text": [
      "\r",
      " 56%|████████████████████████████████████████████▊                                   | 56/100 [2:45:15<2:47:58, 229.06s/trial, best loss: 2.383142683075522]"
     ]
    },
    {
     "name": "stderr",
     "output_type": "stream",
     "text": [
      "2021-07-28 10:22:42 INFO     build_posterior_wrapper took 0.001992 seconds\n",
      "2021-07-28 10:22:42 INFO     TPE using 56/56 trials with best loss 2.383143\n"
     ]
    },
    {
     "name": "stdout",
     "output_type": "stream",
     "text": [
      "{'Base': DecisionTreeRegressor(criterion='friedman_mse', max_leaf_nodes=63,                                                                                 \n",
      "                      min_samples_split=3, random_state=1), 'col_sample': 0.7000000000000001, 'learning_rate': 0.01, 'minibatch_frac': 0.7000000000000001, 'n_estimators': 10000000, 'verbose_eval': 100, 'random_state': 13}\n",
      "[iter 0] loss=3.8314 val_loss=3.8144 scale=2.0000 norm=18.1206                                                                                              \n",
      "[iter 100] loss=2.8265 val_loss=2.8406 scale=2.0000 norm=5.1830                                                                                             \n",
      "[iter 200] loss=2.3485 val_loss=2.4522 scale=2.0000 norm=4.0247                                                                                             \n",
      "== Early stopping achieved.                                                                                                                                 \n",
      "== Best iteration / VAL278 (val_loss=2.3906)                                                                                                                \n",
      " 56%|████████████████████████████████████████████▊                                   | 56/100 [2:45:53<2:47:58, 229.06s/trial, best loss: 2.383142683075522]"
     ]
    },
    {
     "name": "stderr",
     "output_type": "stream",
     "text": [
      "2021-07-28 10:23:21 INFO     {'Base': DecisionTreeRegressor(criterion='friedman_mse', max_leaf_nodes=63,\n",
      "                      min_samples_split=3, random_state=1), 'col_sample': 0.7000000000000001, 'learning_rate': 0.01, 'minibatch_frac': 0.7000000000000001, 'n_estimators': 10000000, 'verbose_eval': 100, 'random_state': 13}\n"
     ]
    },
    {
     "name": "stdout",
     "output_type": "stream",
     "text": [
      "\r",
      " 57%|█████████████████████████████████████████████▌                                  | 57/100 [2:45:53<2:03:10, 171.87s/trial, best loss: 2.383142683075522]"
     ]
    },
    {
     "name": "stderr",
     "output_type": "stream",
     "text": [
      "2021-07-28 10:23:21 INFO     build_posterior_wrapper took 0.001000 seconds\n",
      "2021-07-28 10:23:21 INFO     TPE using 57/57 trials with best loss 2.383143\n"
     ]
    },
    {
     "name": "stdout",
     "output_type": "stream",
     "text": [
      "{'Base': DecisionTreeRegressor(criterion='friedman_mse', max_leaf_nodes=255,                                                                                \n",
      "                      min_samples_split=3, random_state=1), 'col_sample': 0.8, 'learning_rate': 0.002, 'minibatch_frac': 0.9, 'n_estimators': 10000000, 'verbose_eval': 100, 'random_state': 13}\n",
      "[iter 0] loss=3.8335 val_loss=3.8388 scale=2.0000 norm=18.1602                                                                                              \n",
      "[iter 100] loss=3.4842 val_loss=3.4931 scale=2.0000 norm=12.6908                                                                                            \n",
      "[iter 200] loss=3.2712 val_loss=3.2890 scale=2.0000 norm=9.0827                                                                                             \n",
      "[iter 300] loss=3.0870 val_loss=3.1148 scale=2.0000 norm=6.8176                                                                                             \n",
      "[iter 400] loss=2.9153 val_loss=2.9578 scale=2.0000 norm=5.3806                                                                                             \n",
      "[iter 500] loss=2.7514 val_loss=2.8172 scale=2.0000 norm=4.4692                                                                                             \n",
      "[iter 600] loss=2.5947 val_loss=2.6952 scale=2.0000 norm=3.8469                                                                                             \n",
      "[iter 700] loss=2.4498 val_loss=2.5951 scale=2.0000 norm=3.4744                                                                                             \n",
      "[iter 800] loss=2.3134 val_loss=2.5204 scale=2.0000 norm=3.2110                                                                                             \n",
      "[iter 900] loss=2.1877 val_loss=2.4752 scale=2.0000 norm=3.0215                                                                                             \n",
      "== Early stopping achieved.                                                                                                                                 \n",
      "== Best iteration / VAL985 (val_loss=2.4627)                                                                                                                \n",
      " 57%|█████████████████████████████████████████████▌                                  | 57/100 [2:50:06<2:03:10, 171.87s/trial, best loss: 2.383142683075522]"
     ]
    },
    {
     "name": "stderr",
     "output_type": "stream",
     "text": [
      "2021-07-28 10:27:34 INFO     {'Base': DecisionTreeRegressor(criterion='friedman_mse', max_leaf_nodes=255,\n",
      "                      min_samples_split=3, random_state=1), 'col_sample': 0.8, 'learning_rate': 0.002, 'minibatch_frac': 0.9, 'n_estimators': 10000000, 'verbose_eval': 100, 'random_state': 13}\n"
     ]
    },
    {
     "name": "stdout",
     "output_type": "stream",
     "text": [
      "\r",
      " 58%|██████████████████████████████████████████████▍                                 | 58/100 [2:50:06<2:17:18, 196.16s/trial, best loss: 2.383142683075522]"
     ]
    },
    {
     "name": "stderr",
     "output_type": "stream",
     "text": [
      "2021-07-28 10:27:34 INFO     build_posterior_wrapper took 0.002000 seconds\n",
      "2021-07-28 10:27:34 INFO     TPE using 58/58 trials with best loss 2.383143\n"
     ]
    },
    {
     "name": "stdout",
     "output_type": "stream",
     "text": [
      "{'Base': DecisionTreeRegressor(criterion='friedman_mse', max_leaf_nodes=63,                                                                                 \n",
      "                      min_samples_split=3, random_state=1), 'col_sample': 1.0, 'learning_rate': 0.005, 'minibatch_frac': 0.9, 'n_estimators': 10000000, 'verbose_eval': 100, 'random_state': 13}\n",
      "[iter 0] loss=3.8335 val_loss=3.8295 scale=2.0000 norm=18.1602                                                                                              \n",
      "[iter 100] loss=3.2013 val_loss=3.2051 scale=2.0000 norm=8.1500                                                                                             \n",
      "[iter 200] loss=2.8239 val_loss=2.8424 scale=2.0000 norm=5.1418                                                                                             \n",
      "[iter 300] loss=2.5420 val_loss=2.5934 scale=2.0000 norm=4.3027                                                                                             \n",
      "[iter 400] loss=2.3454 val_loss=2.4567 scale=2.0000 norm=4.0137                                                                                             \n",
      "[iter 500] loss=2.2144 val_loss=2.4025 scale=2.0000 norm=3.8663                                                                                             \n",
      "== Early stopping achieved.                                                                                                                                 \n",
      "== Best iteration / VAL555 (val_loss=2.3963)                                                                                                                \n",
      " 58%|██████████████████████████████████████████████▍                                 | 58/100 [2:52:25<2:17:18, 196.16s/trial, best loss: 2.383142683075522]"
     ]
    },
    {
     "name": "stderr",
     "output_type": "stream",
     "text": [
      "2021-07-28 10:29:53 INFO     {'Base': DecisionTreeRegressor(criterion='friedman_mse', max_leaf_nodes=63,\n",
      "                      min_samples_split=3, random_state=1), 'col_sample': 1.0, 'learning_rate': 0.005, 'minibatch_frac': 0.9, 'n_estimators': 10000000, 'verbose_eval': 100, 'random_state': 13}\n"
     ]
    },
    {
     "name": "stdout",
     "output_type": "stream",
     "text": [
      "\r",
      " 59%|███████████████████████████████████████████████▏                                | 59/100 [2:52:25<2:02:25, 179.16s/trial, best loss: 2.383142683075522]"
     ]
    },
    {
     "name": "stderr",
     "output_type": "stream",
     "text": [
      "2021-07-28 10:29:53 INFO     build_posterior_wrapper took 0.002943 seconds\n",
      "2021-07-28 10:29:53 INFO     TPE using 59/59 trials with best loss 2.383143\n"
     ]
    },
    {
     "name": "stdout",
     "output_type": "stream",
     "text": [
      "{'Base': DecisionTreeRegressor(criterion='friedman_mse', max_leaf_nodes=63,                                                                                 \n",
      "                      min_samples_split=3, random_state=1), 'col_sample': 0.8, 'learning_rate': 0.006, 'minibatch_frac': 0.8, 'n_estimators': 10000000, 'verbose_eval': 100, 'random_state': 13}\n",
      "[iter 0] loss=3.8347 val_loss=3.8264 scale=2.0000 norm=18.2020                                                                                              \n",
      "[iter 100] loss=3.1187 val_loss=3.1234 scale=2.0000 norm=7.2289                                                                                             \n",
      "[iter 200] loss=2.6982 val_loss=2.7261 scale=2.0000 norm=4.6701                                                                                             \n",
      "[iter 300] loss=2.4155 val_loss=2.4944 scale=2.0000 norm=4.1097                                                                                             \n",
      "[iter 400] loss=2.2349 val_loss=2.4020 scale=2.0000 norm=3.8704                                                                                             \n",
      "== Early stopping achieved.                                                                                                                                 \n",
      "== Best iteration / VAL472 (val_loss=2.3882)                                                                                                                \n",
      " 59%|███████████████████████████████████████████████▏                                | 59/100 [2:53:52<2:02:25, 179.16s/trial, best loss: 2.383142683075522]"
     ]
    },
    {
     "name": "stderr",
     "output_type": "stream",
     "text": [
      "2021-07-28 10:31:20 INFO     {'Base': DecisionTreeRegressor(criterion='friedman_mse', max_leaf_nodes=63,\n",
      "                      min_samples_split=3, random_state=1), 'col_sample': 0.8, 'learning_rate': 0.006, 'minibatch_frac': 0.8, 'n_estimators': 10000000, 'verbose_eval': 100, 'random_state': 13}\n"
     ]
    },
    {
     "name": "stdout",
     "output_type": "stream",
     "text": [
      "\r",
      " 60%|████████████████████████████████████████████████                                | 60/100 [2:53:52<1:40:56, 151.42s/trial, best loss: 2.383142683075522]"
     ]
    },
    {
     "name": "stderr",
     "output_type": "stream",
     "text": [
      "2021-07-28 10:31:20 INFO     build_posterior_wrapper took 0.002029 seconds\n",
      "2021-07-28 10:31:20 INFO     TPE using 60/60 trials with best loss 2.383143\n"
     ]
    },
    {
     "name": "stdout",
     "output_type": "stream",
     "text": [
      "{'Base': DecisionTreeRegressor(criterion='friedman_mse', max_leaf_nodes=63,                                                                                 \n",
      "                      min_samples_split=3, random_state=1), 'col_sample': 0.7000000000000001, 'learning_rate': 0.003, 'minibatch_frac': 0.7000000000000001, 'n_estimators': 10000000, 'verbose_eval': 100, 'random_state': 13}\n",
      "[iter 0] loss=3.8314 val_loss=3.8357 scale=2.0000 norm=18.1206                                                                                              \n",
      "[iter 100] loss=3.3897 val_loss=3.3917 scale=2.0000 norm=10.9750                                                                                            \n",
      "[iter 200] loss=3.1223 val_loss=3.1297 scale=2.0000 norm=7.3109                                                                                             \n",
      "[iter 300] loss=2.8967 val_loss=2.9103 scale=2.0000 norm=5.5636                                                                                             \n",
      "[iter 400] loss=2.7031 val_loss=2.7302 scale=2.0000 norm=4.7031                                                                                             \n",
      "[iter 500] loss=2.5453 val_loss=2.5921 scale=2.0000 norm=4.3136                                                                                             \n",
      "[iter 600] loss=2.4135 val_loss=2.4951 scale=2.0000 norm=4.0679                                                                                             \n",
      "[iter 700] loss=2.3184 val_loss=2.4337 scale=2.0000 norm=3.9729                                                                                             \n",
      "[iter 800] loss=2.2450 val_loss=2.3998 scale=2.0000 norm=3.9102                                                                                             \n",
      "[iter 900] loss=2.1774 val_loss=2.3855 scale=2.0000 norm=3.8001                                                                                             \n",
      "== Early stopping achieved.                                                                                                                                 \n",
      "== Best iteration / VAL935 (val_loss=2.3844)                                                                                                                \n",
      " 60%|████████████████████████████████████████████████                                | 60/100 [2:56:26<1:40:56, 151.42s/trial, best loss: 2.383142683075522]"
     ]
    },
    {
     "name": "stderr",
     "output_type": "stream",
     "text": [
      "2021-07-28 10:33:54 INFO     {'Base': DecisionTreeRegressor(criterion='friedman_mse', max_leaf_nodes=63,\n",
      "                      min_samples_split=3, random_state=1), 'col_sample': 0.7000000000000001, 'learning_rate': 0.003, 'minibatch_frac': 0.7000000000000001, 'n_estimators': 10000000, 'verbose_eval': 100, 'random_state': 13}\n"
     ]
    },
    {
     "name": "stdout",
     "output_type": "stream",
     "text": [
      "\r",
      " 61%|████████████████████████████████████████████████▊                               | 61/100 [2:56:26<1:38:54, 152.17s/trial, best loss: 2.383142683075522]"
     ]
    },
    {
     "name": "stderr",
     "output_type": "stream",
     "text": [
      "2021-07-28 10:33:54 INFO     build_posterior_wrapper took 0.001995 seconds\n",
      "2021-07-28 10:33:54 INFO     TPE using 61/61 trials with best loss 2.383143\n"
     ]
    },
    {
     "name": "stdout",
     "output_type": "stream",
     "text": [
      "{'Base': DecisionTreeRegressor(criterion='friedman_mse', max_leaf_nodes=127,                                                                                \n",
      "                      min_samples_split=3, random_state=1), 'col_sample': 0.9, 'learning_rate': 0.001, 'minibatch_frac': 0.9, 'n_estimators': 10000000, 'verbose_eval': 100, 'random_state': 13}\n",
      "[iter 0] loss=3.8335 val_loss=3.8419 scale=2.0000 norm=18.1602                                                                                              \n",
      "[iter 100] loss=3.6225 val_loss=3.6277 scale=2.0000 norm=15.1754                                                                                            \n",
      "[iter 200] loss=3.4868 val_loss=3.4949 scale=2.0000 norm=12.7017                                                                                            \n",
      "[iter 300] loss=3.3788 val_loss=3.3878 scale=2.0000 norm=10.7833                                                                                            \n",
      "[iter 400] loss=3.2828 val_loss=3.2924 scale=2.0000 norm=9.2744                                                                                             \n",
      "[iter 500] loss=3.1910 val_loss=3.2042 scale=2.0000 norm=8.0336                                                                                             \n",
      "[iter 600] loss=3.1035 val_loss=3.1212 scale=2.0000 norm=7.0432                                                                                             \n",
      "[iter 700] loss=3.0214 val_loss=3.0427 scale=2.0000 norm=6.2995                                                                                             \n",
      "[iter 800] loss=2.9414 val_loss=2.9683 scale=2.0000 norm=5.6928                                                                                             \n",
      "[iter 900] loss=2.8656 val_loss=2.8980 scale=2.0000 norm=5.2379                                                                                             \n",
      "[iter 1000] loss=2.7928 val_loss=2.8320 scale=2.0000 norm=4.8902                                                                                            \n",
      "[iter 1100] loss=2.7212 val_loss=2.7707 scale=2.0000 norm=4.5703                                                                                            \n",
      "[iter 1200] loss=2.6548 val_loss=2.7139 scale=2.0000 norm=4.3505                                                                                            \n",
      "[iter 1300] loss=2.5902 val_loss=2.6622 scale=2.0000 norm=4.1665                                                                                            \n",
      "[iter 1400] loss=2.5299 val_loss=2.6158 scale=2.0000 norm=4.0257                                                                                            \n",
      "[iter 1500] loss=2.4728 val_loss=2.5747 scale=2.0000 norm=3.9055                                                                                            \n",
      "[iter 1600] loss=2.4184 val_loss=2.5389 scale=2.0000 norm=3.7991                                                                                            \n",
      "[iter 1700] loss=2.3658 val_loss=2.5085 scale=2.0000 norm=3.7135                                                                                            \n",
      "[iter 1800] loss=2.3197 val_loss=2.4834 scale=2.0000 norm=3.6543                                                                                            \n",
      "[iter 1900] loss=2.2724 val_loss=2.4637 scale=2.0000 norm=3.5786                                                                                            \n",
      "[iter 2000] loss=2.2308 val_loss=2.4489 scale=2.0000 norm=3.5294                                                                                            \n",
      "[iter 2100] loss=2.1912 val_loss=2.4388 scale=2.0000 norm=3.4819                                                                                            \n",
      "[iter 2200] loss=2.1526 val_loss=2.4331 scale=2.0000 norm=3.4255                                                                                            \n",
      "== Early stopping achieved.                                                                                                                                 \n",
      "== Best iteration / VAL2281 (val_loss=2.4317)                                                                                                               \n",
      " 61%|████████████████████████████████████████████████▊                               | 61/100 [3:08:50<1:38:54, 152.17s/trial, best loss: 2.383142683075522]"
     ]
    },
    {
     "name": "stderr",
     "output_type": "stream",
     "text": [
      "2021-07-28 10:46:17 INFO     {'Base': DecisionTreeRegressor(criterion='friedman_mse', max_leaf_nodes=127,\n",
      "                      min_samples_split=3, random_state=1), 'col_sample': 0.9, 'learning_rate': 0.001, 'minibatch_frac': 0.9, 'n_estimators': 10000000, 'verbose_eval': 100, 'random_state': 13}\n"
     ]
    },
    {
     "name": "stdout",
     "output_type": "stream",
     "text": [
      "\r",
      " 62%|█████████████████████████████████████████████████▌                              | 62/100 [3:08:50<3:28:45, 329.61s/trial, best loss: 2.383142683075522]"
     ]
    },
    {
     "name": "stderr",
     "output_type": "stream",
     "text": [
      "2021-07-28 10:46:17 INFO     build_posterior_wrapper took 0.003999 seconds\n",
      "2021-07-28 10:46:17 INFO     TPE using 62/62 trials with best loss 2.383143\n"
     ]
    },
    {
     "name": "stdout",
     "output_type": "stream",
     "text": [
      "{'Base': DecisionTreeRegressor(criterion='friedman_mse', max_leaf_nodes=63,                                                                                 \n",
      "                      min_samples_split=3, random_state=1), 'col_sample': 0.6000000000000001, 'learning_rate': 0.009000000000000001, 'minibatch_frac': 1.0, 'n_estimators': 10000000, 'verbose_eval': 100, 'random_state': 13}\n",
      "[iter 0] loss=3.8345 val_loss=3.8177 scale=2.0000 norm=18.1911                                                                                              \n",
      "[iter 100] loss=2.9095 val_loss=2.9191 scale=2.0000 norm=5.6777                                                                                             \n",
      "[iter 200] loss=2.4307 val_loss=2.5016 scale=2.0000 norm=4.1524                                                                                             \n",
      "[iter 300] loss=2.1925 val_loss=2.3850 scale=2.0000 norm=3.8472                                                                                             \n",
      "== Early stopping achieved.                                                                                                                                 \n",
      "== Best iteration / VAL329 (val_loss=2.3806)                                                                                                                \n",
      " 62%|█████████████████████████████████████████████████▌                              | 62/100 [3:09:37<3:28:45, 329.61s/trial, best loss: 2.383142683075522]"
     ]
    },
    {
     "name": "stderr",
     "output_type": "stream",
     "text": [
      "2021-07-28 10:47:05 INFO     {'Base': DecisionTreeRegressor(criterion='friedman_mse', max_leaf_nodes=63,\n",
      "                      min_samples_split=3, random_state=1), 'col_sample': 0.6000000000000001, 'learning_rate': 0.009000000000000001, 'minibatch_frac': 1.0, 'n_estimators': 10000000, 'verbose_eval': 100, 'random_state': 13}\n"
     ]
    },
    {
     "name": "stdout",
     "output_type": "stream",
     "text": [
      "\r",
      " 63%|██████████████████████████████████████████████████▍                             | 63/100 [3:09:37<2:31:06, 245.03s/trial, best loss: 2.380576009400627]"
     ]
    },
    {
     "name": "stderr",
     "output_type": "stream",
     "text": [
      "2021-07-28 10:47:05 INFO     build_posterior_wrapper took 0.002002 seconds\n",
      "2021-07-28 10:47:05 INFO     TPE using 63/63 trials with best loss 2.380576\n"
     ]
    },
    {
     "name": "stdout",
     "output_type": "stream",
     "text": [
      "{'Base': DecisionTreeRegressor(criterion='friedman_mse', max_leaf_nodes=255,                                                                                \n",
      "                      min_samples_split=3, random_state=1), 'col_sample': 0.6000000000000001, 'learning_rate': 0.009000000000000001, 'minibatch_frac': 1.0, 'n_estimators': 10000000, 'verbose_eval': 100, 'random_state': 13}\n",
      "[iter 0] loss=3.8345 val_loss=3.8175 scale=2.0000 norm=18.1911                                                                                              \n",
      "[iter 100] loss=2.8504 val_loss=2.9000 scale=2.0000 norm=5.0439                                                                                             \n",
      "[iter 200] loss=2.2112 val_loss=2.4851 scale=2.0000 norm=3.1027                                                                                             \n",
      "== Early stopping achieved.                                                                                                                                 \n",
      "== Best iteration / VAL220 (val_loss=2.4688)                                                                                                                \n",
      " 63%|██████████████████████████████████████████████████▍                             | 63/100 [3:10:29<2:31:06, 245.03s/trial, best loss: 2.380576009400627]"
     ]
    },
    {
     "name": "stderr",
     "output_type": "stream",
     "text": [
      "2021-07-28 10:47:56 INFO     {'Base': DecisionTreeRegressor(criterion='friedman_mse', max_leaf_nodes=255,\n",
      "                      min_samples_split=3, random_state=1), 'col_sample': 0.6000000000000001, 'learning_rate': 0.009000000000000001, 'minibatch_frac': 1.0, 'n_estimators': 10000000, 'verbose_eval': 100, 'random_state': 13}\n"
     ]
    },
    {
     "name": "stdout",
     "output_type": "stream",
     "text": [
      "\r",
      " 64%|███████████████████████████████████████████████████▏                            | 64/100 [3:10:29<1:52:08, 186.92s/trial, best loss: 2.380576009400627]"
     ]
    },
    {
     "name": "stderr",
     "output_type": "stream",
     "text": [
      "2021-07-28 10:47:56 INFO     build_posterior_wrapper took 0.001998 seconds\n",
      "2021-07-28 10:47:56 INFO     TPE using 64/64 trials with best loss 2.380576\n"
     ]
    },
    {
     "name": "stdout",
     "output_type": "stream",
     "text": [
      "{'Base': DecisionTreeRegressor(criterion='friedman_mse', max_leaf_nodes=63,                                                                                 \n",
      "                      min_samples_split=3, random_state=1), 'col_sample': 0.5, 'learning_rate': 0.01, 'minibatch_frac': 0.5, 'n_estimators': 10000000, 'verbose_eval': 100, 'random_state': 13}\n",
      "[iter 0] loss=3.8284 val_loss=3.8144 scale=2.0000 norm=18.0475                                                                                              \n",
      "[iter 100] loss=2.8573 val_loss=2.8679 scale=2.0000 norm=5.5063                                                                                             \n",
      "[iter 200] loss=2.3791 val_loss=2.4725 scale=2.0000 norm=4.1349                                                                                             \n",
      "[iter 300] loss=2.1709 val_loss=2.4007 scale=2.0000 norm=3.8616                                                                                             \n",
      "== Early stopping achieved.                                                                                                                                 \n",
      "== Best iteration / VAL292 (val_loss=2.4005)                                                                                                                \n",
      " 64%|███████████████████████████████████████████████████▏                            | 64/100 [3:10:50<1:52:08, 186.92s/trial, best loss: 2.380576009400627]"
     ]
    },
    {
     "name": "stderr",
     "output_type": "stream",
     "text": [
      "2021-07-28 10:48:18 INFO     {'Base': DecisionTreeRegressor(criterion='friedman_mse', max_leaf_nodes=63,\n",
      "                      min_samples_split=3, random_state=1), 'col_sample': 0.5, 'learning_rate': 0.01, 'minibatch_frac': 0.5, 'n_estimators': 10000000, 'verbose_eval': 100, 'random_state': 13}\n"
     ]
    },
    {
     "name": "stdout",
     "output_type": "stream",
     "text": [
      "\r",
      " 65%|████████████████████████████████████████████████████                            | 65/100 [3:10:50<1:20:04, 137.26s/trial, best loss: 2.380576009400627]"
     ]
    },
    {
     "name": "stderr",
     "output_type": "stream",
     "text": [
      "2021-07-28 10:48:18 INFO     build_posterior_wrapper took 0.003004 seconds\n",
      "2021-07-28 10:48:18 INFO     TPE using 65/65 trials with best loss 2.380576\n"
     ]
    },
    {
     "name": "stdout",
     "output_type": "stream",
     "text": [
      "{'Base': DecisionTreeRegressor(criterion='friedman_mse', max_leaf_nodes=63,                                                                                 \n",
      "                      min_samples_split=3, random_state=1), 'col_sample': 0.5, 'learning_rate': 0.008, 'minibatch_frac': 1.0, 'n_estimators': 10000000, 'verbose_eval': 100, 'random_state': 13}\n",
      "[iter 0] loss=3.8345 val_loss=3.8207 scale=2.0000 norm=18.1911                                                                                              \n",
      "[iter 100] loss=3.0055 val_loss=3.0122 scale=2.0000 norm=6.4807                                                                                             \n",
      "[iter 200] loss=2.5331 val_loss=2.5816 scale=2.0000 norm=4.3771                                                                                             \n",
      "[iter 300] loss=2.2734 val_loss=2.4155 scale=2.0000 norm=3.9784                                                                                             \n",
      "== Early stopping achieved.                                                                                                                                 \n",
      "== Best iteration / VAL363 (val_loss=2.3921)                                                                                                                \n",
      " 65%|████████████████████████████████████████████████████                            | 65/100 [3:11:42<1:20:04, 137.26s/trial, best loss: 2.380576009400627]"
     ]
    },
    {
     "name": "stderr",
     "output_type": "stream",
     "text": [
      "2021-07-28 10:49:09 INFO     {'Base': DecisionTreeRegressor(criterion='friedman_mse', max_leaf_nodes=63,\n",
      "                      min_samples_split=3, random_state=1), 'col_sample': 0.5, 'learning_rate': 0.008, 'minibatch_frac': 1.0, 'n_estimators': 10000000, 'verbose_eval': 100, 'random_state': 13}\n"
     ]
    },
    {
     "name": "stdout",
     "output_type": "stream",
     "text": [
      "\r",
      " 66%|████████████████████████████████████████████████████▊                           | 66/100 [3:11:42<1:03:12, 111.55s/trial, best loss: 2.380576009400627]"
     ]
    },
    {
     "name": "stderr",
     "output_type": "stream",
     "text": [
      "2021-07-28 10:49:09 INFO     build_posterior_wrapper took 0.001985 seconds\n",
      "2021-07-28 10:49:09 INFO     TPE using 66/66 trials with best loss 2.380576\n"
     ]
    },
    {
     "name": "stdout",
     "output_type": "stream",
     "text": [
      "{'Base': DecisionTreeRegressor(criterion='friedman_mse', max_leaf_nodes=63,                                                                                 \n",
      "                      min_samples_split=3, random_state=1), 'col_sample': 0.6000000000000001, 'learning_rate': 0.007, 'minibatch_frac': 0.9, 'n_estimators': 10000000, 'verbose_eval': 100, 'random_state': 13}\n",
      "[iter 0] loss=3.8335 val_loss=3.8233 scale=2.0000 norm=18.1602                                                                                              \n",
      "[iter 100] loss=3.0554 val_loss=3.0615 scale=2.0000 norm=6.7579                                                                                             \n",
      "[iter 200] loss=2.6044 val_loss=2.6429 scale=2.0000 norm=4.4686                                                                                             \n",
      "[iter 300] loss=2.3314 val_loss=2.4433 scale=2.0000 norm=4.0215                                                                                             \n",
      "== Early stopping achieved.                                                                                                                                 \n",
      "== Best iteration / VAL383 (val_loss=2.3936)                                                                                                                \n",
      " 66%|████████████████████████████████████████████████████▊                           | 66/100 [3:12:42<1:03:12, 111.55s/trial, best loss: 2.380576009400627]"
     ]
    },
    {
     "name": "stderr",
     "output_type": "stream",
     "text": [
      "2021-07-28 10:50:09 INFO     {'Base': DecisionTreeRegressor(criterion='friedman_mse', max_leaf_nodes=63,\n",
      "                      min_samples_split=3, random_state=1), 'col_sample': 0.6000000000000001, 'learning_rate': 0.007, 'minibatch_frac': 0.9, 'n_estimators': 10000000, 'verbose_eval': 100, 'random_state': 13}\n"
     ]
    },
    {
     "name": "stdout",
     "output_type": "stream",
     "text": [
      "\r",
      " 67%|███████████████████████████████████████████████████████▌                           | 67/100 [3:12:42<52:52, 96.13s/trial, best loss: 2.380576009400627]"
     ]
    },
    {
     "name": "stderr",
     "output_type": "stream",
     "text": [
      "2021-07-28 10:50:09 INFO     build_posterior_wrapper took 0.000998 seconds\n",
      "2021-07-28 10:50:09 INFO     TPE using 67/67 trials with best loss 2.380576\n"
     ]
    },
    {
     "name": "stdout",
     "output_type": "stream",
     "text": [
      "{'Base': DecisionTreeRegressor(criterion='friedman_mse', max_leaf_nodes=63,                                                                                 \n",
      "                      min_samples_split=3, random_state=1), 'col_sample': 0.5, 'learning_rate': 0.007, 'minibatch_frac': 1.0, 'n_estimators': 10000000, 'verbose_eval': 100, 'random_state': 13}\n",
      "[iter 0] loss=3.8345 val_loss=3.8236 scale=2.0000 norm=18.1911                                                                                              \n",
      "[iter 100] loss=3.0795 val_loss=3.0851 scale=2.0000 norm=7.1021                                                                                             \n",
      "[iter 200] loss=2.6277 val_loss=2.6624 scale=2.0000 norm=4.5981                                                                                             \n",
      "[iter 300] loss=2.3513 val_loss=2.4536 scale=2.0000 norm=4.0804                                                                                             \n",
      "[iter 400] loss=2.1923 val_loss=2.3937 scale=2.0000 norm=3.8660                                                                                             \n",
      "== Early stopping achieved.                                                                                                                                 \n",
      "== Best iteration / VAL428 (val_loss=2.3923)                                                                                                                \n",
      " 67%|███████████████████████████████████████████████████████▌                           | 67/100 [3:13:41<52:52, 96.13s/trial, best loss: 2.380576009400627]"
     ]
    },
    {
     "name": "stderr",
     "output_type": "stream",
     "text": [
      "2021-07-28 10:51:09 INFO     {'Base': DecisionTreeRegressor(criterion='friedman_mse', max_leaf_nodes=63,\n",
      "                      min_samples_split=3, random_state=1), 'col_sample': 0.5, 'learning_rate': 0.007, 'minibatch_frac': 1.0, 'n_estimators': 10000000, 'verbose_eval': 100, 'random_state': 13}\n"
     ]
    },
    {
     "name": "stdout",
     "output_type": "stream",
     "text": [
      "\r",
      " 68%|████████████████████████████████████████████████████████▍                          | 68/100 [3:13:41<45:24, 85.13s/trial, best loss: 2.380576009400627]"
     ]
    },
    {
     "name": "stderr",
     "output_type": "stream",
     "text": [
      "2021-07-28 10:51:09 INFO     build_posterior_wrapper took 0.001005 seconds\n",
      "2021-07-28 10:51:09 INFO     TPE using 68/68 trials with best loss 2.380576\n"
     ]
    },
    {
     "name": "stdout",
     "output_type": "stream",
     "text": [
      "{'Base': DecisionTreeRegressor(criterion='friedman_mse', max_leaf_nodes=63,                                                                                 \n",
      "                      min_samples_split=3, random_state=1), 'col_sample': 0.8, 'learning_rate': 0.009000000000000001, 'minibatch_frac': 0.8, 'n_estimators': 10000000, 'verbose_eval': 100, 'random_state': 13}\n",
      "[iter 0] loss=3.8347 val_loss=3.8174 scale=2.0000 norm=18.2020                                                                                              \n",
      "[iter 100] loss=2.8912 val_loss=2.9024 scale=2.0000 norm=5.4836                                                                                             \n",
      "[iter 200] loss=2.4131 val_loss=2.4936 scale=2.0000 norm=4.0902                                                                                             \n",
      "[iter 300] loss=2.1781 val_loss=2.3887 scale=2.0000 norm=3.8243                                                                                             \n",
      "== Early stopping achieved.                                                                                                                                 \n",
      "== Best iteration / VAL313 (val_loss=2.3868)                                                                                                                \n",
      " 68%|████████████████████████████████████████████████████████▍                          | 68/100 [3:14:29<45:24, 85.13s/trial, best loss: 2.380576009400627]"
     ]
    },
    {
     "name": "stderr",
     "output_type": "stream",
     "text": [
      "2021-07-28 10:51:56 INFO     {'Base': DecisionTreeRegressor(criterion='friedman_mse', max_leaf_nodes=63,\n",
      "                      min_samples_split=3, random_state=1), 'col_sample': 0.8, 'learning_rate': 0.009000000000000001, 'minibatch_frac': 0.8, 'n_estimators': 10000000, 'verbose_eval': 100, 'random_state': 13}\n"
     ]
    },
    {
     "name": "stdout",
     "output_type": "stream",
     "text": [
      "\r",
      " 69%|█████████████████████████████████████████████████████████▎                         | 69/100 [3:14:29<38:09, 73.85s/trial, best loss: 2.380576009400627]"
     ]
    },
    {
     "name": "stderr",
     "output_type": "stream",
     "text": [
      "2021-07-28 10:51:56 INFO     build_posterior_wrapper took 0.002033 seconds\n",
      "2021-07-28 10:51:56 INFO     TPE using 69/69 trials with best loss 2.380576\n"
     ]
    },
    {
     "name": "stdout",
     "output_type": "stream",
     "text": [
      "{'Base': DecisionTreeRegressor(criterion='friedman_mse', max_leaf_nodes=63,                                                                                 \n",
      "                      min_samples_split=3, random_state=1), 'col_sample': 0.7000000000000001, 'learning_rate': 0.009000000000000001, 'minibatch_frac': 0.8, 'n_estimators': 10000000, 'verbose_eval': 100, 'random_state': 13}\n",
      "[iter 0] loss=3.8347 val_loss=3.8174 scale=2.0000 norm=18.2020                                                                                              \n",
      "[iter 100] loss=2.8944 val_loss=2.9045 scale=2.0000 norm=5.5223                                                                                             \n",
      "[iter 200] loss=2.4169 val_loss=2.4955 scale=2.0000 norm=4.1033                                                                                             \n",
      "[iter 300] loss=2.1828 val_loss=2.3913 scale=2.0000 norm=3.8336                                                                                             \n",
      "== Early stopping achieved.                                                                                                                                 \n",
      "== Best iteration / VAL321 (val_loss=2.3900)                                                                                                                \n",
      " 69%|█████████████████████████████████████████████████████████▎                         | 69/100 [3:15:11<38:09, 73.85s/trial, best loss: 2.380576009400627]"
     ]
    },
    {
     "name": "stderr",
     "output_type": "stream",
     "text": [
      "2021-07-28 10:52:39 INFO     {'Base': DecisionTreeRegressor(criterion='friedman_mse', max_leaf_nodes=63,\n",
      "                      min_samples_split=3, random_state=1), 'col_sample': 0.7000000000000001, 'learning_rate': 0.009000000000000001, 'minibatch_frac': 0.8, 'n_estimators': 10000000, 'verbose_eval': 100, 'random_state': 13}\n"
     ]
    },
    {
     "name": "stdout",
     "output_type": "stream",
     "text": [
      "\r",
      " 70%|██████████████████████████████████████████████████████████                         | 70/100 [3:15:11<32:11, 64.38s/trial, best loss: 2.380576009400627]"
     ]
    },
    {
     "name": "stderr",
     "output_type": "stream",
     "text": [
      "2021-07-28 10:52:39 INFO     build_posterior_wrapper took 0.002036 seconds\n",
      "2021-07-28 10:52:39 INFO     TPE using 70/70 trials with best loss 2.380576\n"
     ]
    },
    {
     "name": "stdout",
     "output_type": "stream",
     "text": [
      "{'Base': DecisionTreeRegressor(criterion='friedman_mse', max_leaf_nodes=63,                                                                                 \n",
      "                      min_samples_split=3, random_state=1), 'col_sample': 0.6000000000000001, 'learning_rate': 0.01, 'minibatch_frac': 0.9, 'n_estimators': 10000000, 'verbose_eval': 100, 'random_state': 13}\n",
      "[iter 0] loss=3.8335 val_loss=3.8143 scale=2.0000 norm=18.1602                                                                                              \n",
      "[iter 100] loss=2.8395 val_loss=2.8523 scale=2.0000 norm=5.3127                                                                                             \n",
      "[iter 200] loss=2.3602 val_loss=2.4580 scale=2.0000 norm=4.0513                                                                                             \n",
      "== Early stopping achieved.                                                                                                                                 \n",
      "== Best iteration / VAL287 (val_loss=2.3901)                                                                                                                \n",
      " 70%|██████████████████████████████████████████████████████████                         | 70/100 [3:15:48<32:11, 64.38s/trial, best loss: 2.380576009400627]"
     ]
    },
    {
     "name": "stderr",
     "output_type": "stream",
     "text": [
      "2021-07-28 10:53:16 INFO     {'Base': DecisionTreeRegressor(criterion='friedman_mse', max_leaf_nodes=63,\n",
      "                      min_samples_split=3, random_state=1), 'col_sample': 0.6000000000000001, 'learning_rate': 0.01, 'minibatch_frac': 0.9, 'n_estimators': 10000000, 'verbose_eval': 100, 'random_state': 13}\n"
     ]
    },
    {
     "name": "stdout",
     "output_type": "stream",
     "text": [
      "\r",
      " 71%|██████████████████████████████████████████████████████████▉                        | 71/100 [3:15:48<27:06, 56.09s/trial, best loss: 2.380576009400627]"
     ]
    },
    {
     "name": "stderr",
     "output_type": "stream",
     "text": [
      "2021-07-28 10:53:16 INFO     build_posterior_wrapper took 0.002001 seconds\n",
      "2021-07-28 10:53:16 INFO     TPE using 71/71 trials with best loss 2.380576\n"
     ]
    },
    {
     "name": "stdout",
     "output_type": "stream",
     "text": [
      "{'Base': DecisionTreeRegressor(criterion='friedman_mse', max_leaf_nodes=63,                                                                                 \n",
      "                      min_samples_split=3, random_state=1), 'col_sample': 0.8, 'learning_rate': 0.006, 'minibatch_frac': 1.0, 'n_estimators': 10000000, 'verbose_eval': 100, 'random_state': 13}\n",
      "[iter 0] loss=3.8345 val_loss=3.8264 scale=2.0000 norm=18.1911                                                                                              \n",
      "[iter 100] loss=3.1198 val_loss=3.1247 scale=2.0000 norm=7.2502                                                                                             \n",
      "[iter 200] loss=2.7016 val_loss=2.7287 scale=2.0000 norm=4.6920                                                                                             \n",
      "[iter 300] loss=2.4173 val_loss=2.4976 scale=2.0000 norm=4.1061                                                                                             \n",
      "[iter 400] loss=2.2401 val_loss=2.4053 scale=2.0000 norm=3.8906                                                                                             \n",
      "== Early stopping achieved.                                                                                                                                 \n",
      "== Best iteration / VAL473 (val_loss=2.3894)                                                                                                                \n",
      " 71%|██████████████████████████████████████████████████████████▉                        | 71/100 [3:17:13<27:06, 56.09s/trial, best loss: 2.380576009400627]"
     ]
    },
    {
     "name": "stderr",
     "output_type": "stream",
     "text": [
      "2021-07-28 10:54:41 INFO     {'Base': DecisionTreeRegressor(criterion='friedman_mse', max_leaf_nodes=63,\n",
      "                      min_samples_split=3, random_state=1), 'col_sample': 0.8, 'learning_rate': 0.006, 'minibatch_frac': 1.0, 'n_estimators': 10000000, 'verbose_eval': 100, 'random_state': 13}\n"
     ]
    },
    {
     "name": "stdout",
     "output_type": "stream",
     "text": [
      "\r",
      " 72%|███████████████████████████████████████████████████████████▊                       | 72/100 [3:17:13<30:13, 64.78s/trial, best loss: 2.380576009400627]"
     ]
    },
    {
     "name": "stderr",
     "output_type": "stream",
     "text": [
      "2021-07-28 10:54:41 INFO     build_posterior_wrapper took 0.002025 seconds\n",
      "2021-07-28 10:54:41 INFO     TPE using 72/72 trials with best loss 2.380576\n"
     ]
    },
    {
     "name": "stdout",
     "output_type": "stream",
     "text": [
      "{'Base': DecisionTreeRegressor(criterion='friedman_mse', max_leaf_nodes=63,                                                                                 \n",
      "                      min_samples_split=3, random_state=1), 'col_sample': 0.7000000000000001, 'learning_rate': 0.004, 'minibatch_frac': 0.7000000000000001, 'n_estimators': 10000000, 'verbose_eval': 100, 'random_state': 13}\n",
      "[iter 0] loss=3.8314 val_loss=3.8326 scale=2.0000 norm=18.1206                                                                                              \n",
      "[iter 100] loss=3.2944 val_loss=3.2967 scale=2.0000 norm=9.4532                                                                                             \n",
      "[iter 200] loss=2.9673 val_loss=2.9785 scale=2.0000 norm=5.9964                                                                                             \n",
      "[iter 300] loss=2.7042 val_loss=2.7299 scale=2.0000 norm=4.7285                                                                                             \n",
      "[iter 400] loss=2.4985 val_loss=2.5552 scale=2.0000 norm=4.2260                                                                                             \n",
      "[iter 500] loss=2.3503 val_loss=2.4509 scale=2.0000 norm=4.0226                                                                                             \n",
      "[iter 600] loss=2.2355 val_loss=2.3997 scale=2.0000 norm=3.8560                                                                                             \n",
      "[iter 700] loss=2.1601 val_loss=2.3861 scale=2.0000 norm=3.7793                                                                                             \n",
      "== Early stopping achieved.                                                                                                                                 \n",
      "== Best iteration / VAL692 (val_loss=2.3857)                                                                                                                \n",
      " 72%|███████████████████████████████████████████████████████████▊                       | 72/100 [3:18:34<30:13, 64.78s/trial, best loss: 2.380576009400627]"
     ]
    },
    {
     "name": "stderr",
     "output_type": "stream",
     "text": [
      "2021-07-28 10:56:02 INFO     {'Base': DecisionTreeRegressor(criterion='friedman_mse', max_leaf_nodes=63,\n",
      "                      min_samples_split=3, random_state=1), 'col_sample': 0.7000000000000001, 'learning_rate': 0.004, 'minibatch_frac': 0.7000000000000001, 'n_estimators': 10000000, 'verbose_eval': 100, 'random_state': 13}\n"
     ]
    },
    {
     "name": "stdout",
     "output_type": "stream",
     "text": [
      "\r",
      " 73%|████████████████████████████████████████████████████████████▌                      | 73/100 [3:18:34<31:23, 69.77s/trial, best loss: 2.380576009400627]"
     ]
    },
    {
     "name": "stderr",
     "output_type": "stream",
     "text": [
      "2021-07-28 10:56:02 INFO     build_posterior_wrapper took 0.002025 seconds\n",
      "2021-07-28 10:56:02 INFO     TPE using 73/73 trials with best loss 2.380576\n"
     ]
    },
    {
     "name": "stdout",
     "output_type": "stream",
     "text": [
      "{'Base': DecisionTreeRegressor(criterion='friedman_mse', max_leaf_nodes=63,                                                                                 \n",
      "                      min_samples_split=3, random_state=1), 'col_sample': 0.8, 'learning_rate': 0.002, 'minibatch_frac': 0.6000000000000001, 'n_estimators': 10000000, 'verbose_eval': 100, 'random_state': 13}\n",
      "[iter 0] loss=3.8305 val_loss=3.8388 scale=2.0000 norm=18.0903                                                                                              \n",
      "[iter 100] loss=3.4968 val_loss=3.4963 scale=2.0000 norm=12.9109                                                                                            \n",
      "[iter 200] loss=3.2908 val_loss=3.2962 scale=2.0000 norm=9.3849                                                                                             \n",
      "[iter 300] loss=3.1173 val_loss=3.1273 scale=2.0000 norm=7.2137                                                                                             \n",
      "[iter 400] loss=2.9630 val_loss=2.9769 scale=2.0000 norm=5.9161                                                                                             \n",
      "[iter 500] loss=2.8245 val_loss=2.8435 scale=2.0000 norm=5.1678                                                                                             \n",
      "[iter 600] loss=2.6964 val_loss=2.7279 scale=2.0000 norm=4.6448                                                                                             \n",
      "[iter 700] loss=2.5898 val_loss=2.6313 scale=2.0000 norm=4.3952                                                                                             \n",
      "[iter 800] loss=2.4975 val_loss=2.5541 scale=2.0000 norm=4.2354                                                                                             \n",
      "[iter 900] loss=2.4151 val_loss=2.4941 scale=2.0000 norm=4.1053                                                                                             \n",
      "[iter 1000] loss=2.3439 val_loss=2.4500 scale=2.0000 norm=4.0007                                                                                            \n",
      "[iter 1100] loss=2.2897 val_loss=2.4189 scale=2.0000 norm=3.9606                                                                                            \n",
      "[iter 1200] loss=2.2329 val_loss=2.4001 scale=2.0000 norm=3.8565                                                                                            \n",
      "[iter 1300] loss=2.1972 val_loss=2.3892 scale=2.0000 norm=3.8512                                                                                            \n",
      "[iter 1400] loss=2.1572 val_loss=2.3861 scale=2.0000 norm=3.7741                                                                                            \n",
      "== Early stopping achieved.                                                                                                                                 \n",
      "== Best iteration / VAL1396 (val_loss=2.3860)                                                                                                               \n",
      " 73%|████████████████████████████████████████████████████████████▌                      | 73/100 [3:21:14<31:23, 69.77s/trial, best loss: 2.380576009400627]"
     ]
    },
    {
     "name": "stderr",
     "output_type": "stream",
     "text": [
      "2021-07-28 10:58:42 INFO     {'Base': DecisionTreeRegressor(criterion='friedman_mse', max_leaf_nodes=63,\n",
      "                      min_samples_split=3, random_state=1), 'col_sample': 0.8, 'learning_rate': 0.002, 'minibatch_frac': 0.6000000000000001, 'n_estimators': 10000000, 'verbose_eval': 100, 'random_state': 13}\n"
     ]
    },
    {
     "name": "stdout",
     "output_type": "stream",
     "text": [
      "\r",
      " 74%|█████████████████████████████████████████████████████████████▍                     | 74/100 [3:21:14<41:55, 96.74s/trial, best loss: 2.380576009400627]"
     ]
    },
    {
     "name": "stderr",
     "output_type": "stream",
     "text": [
      "2021-07-28 10:58:42 INFO     build_posterior_wrapper took 0.001997 seconds\n",
      "2021-07-28 10:58:42 INFO     TPE using 74/74 trials with best loss 2.380576\n"
     ]
    },
    {
     "name": "stdout",
     "output_type": "stream",
     "text": [
      "{'Base': DecisionTreeRegressor(criterion='friedman_mse', max_leaf_nodes=63,                                                                                 \n",
      "                      min_samples_split=3, random_state=1), 'col_sample': 0.6000000000000001, 'learning_rate': 0.001, 'minibatch_frac': 0.8, 'n_estimators': 10000000, 'verbose_eval': 100, 'random_state': 13}\n",
      "[iter 0] loss=3.8347 val_loss=3.8420 scale=2.0000 norm=18.2020                                                                                              \n",
      "[iter 100] loss=3.6361 val_loss=3.6395 scale=2.0000 norm=15.4012                                                                                            \n",
      "[iter 200] loss=3.5055 val_loss=3.5110 scale=2.0000 norm=13.0627                                                                                            \n",
      "[iter 300] loss=3.3998 val_loss=3.4065 scale=2.0000 norm=11.1667                                                                                            \n",
      "[iter 400] loss=3.3079 val_loss=3.3133 scale=2.0000 norm=9.7263                                                                                             \n",
      "[iter 500] loss=3.2216 val_loss=3.2272 scale=2.0000 norm=8.5570                                                                                             \n",
      "[iter 600] loss=3.1350 val_loss=3.1449 scale=2.0000 norm=7.5133                                                                                             \n",
      "[iter 700] loss=3.0575 val_loss=3.0678 scale=2.0000 norm=6.7767                                                                                             \n",
      "[iter 800] loss=2.9810 val_loss=2.9944 scale=2.0000 norm=6.1440                                                                                             \n",
      "[iter 900] loss=2.9098 val_loss=2.9254 scale=2.0000 norm=5.6916                                                                                             \n",
      "[iter 1000] loss=2.8426 val_loss=2.8603 scale=2.0000 norm=5.3323                                                                                            \n",
      "[iter 1100] loss=2.7778 val_loss=2.7999 scale=2.0000 norm=5.0382                                                                                            \n",
      "[iter 1200] loss=2.7164 val_loss=2.7440 scale=2.0000 norm=4.7845                                                                                            \n",
      "[iter 1300] loss=2.6597 val_loss=2.6928 scale=2.0000 norm=4.6313                                                                                            \n",
      "[iter 1400] loss=2.6068 val_loss=2.6464 scale=2.0000 norm=4.4948                                                                                            \n",
      "[iter 1500] loss=2.5587 val_loss=2.6045 scale=2.0000 norm=4.3755                                                                                            \n",
      "[iter 1600] loss=2.5134 val_loss=2.5671 scale=2.0000 norm=4.2885                                                                                            \n",
      "[iter 1700] loss=2.4696 val_loss=2.5341 scale=2.0000 norm=4.2045                                                                                            \n",
      "[iter 1800] loss=2.4312 val_loss=2.5051 scale=2.0000 norm=4.1474                                                                                            \n",
      "[iter 1900] loss=2.3958 val_loss=2.4804 scale=2.0000 norm=4.1041                                                                                            \n",
      "[iter 2000] loss=2.3621 val_loss=2.4591 scale=2.0000 norm=4.0559                                                                                            \n",
      "[iter 2100] loss=2.3314 val_loss=2.4415 scale=2.0000 norm=4.0101                                                                                            \n",
      "[iter 2200] loss=2.3032 val_loss=2.4268 scale=2.0000 norm=3.9768                                                                                            \n",
      "[iter 2300] loss=2.2764 val_loss=2.4152 scale=2.0000 norm=3.9450                                                                                            \n",
      "[iter 2400] loss=2.2536 val_loss=2.4059 scale=2.0000 norm=3.9230                                                                                            \n",
      "[iter 2500] loss=2.2305 val_loss=2.3985 scale=2.0000 norm=3.8856                                                                                            \n",
      "[iter 2600] loss=2.2115 val_loss=2.3934 scale=2.0000 norm=3.8741                                                                                            \n",
      "[iter 2700] loss=2.1892 val_loss=2.3898 scale=2.0000 norm=3.8342                                                                                            \n",
      "[iter 2800] loss=2.1754 val_loss=2.3879 scale=2.0000 norm=3.8295                                                                                            \n",
      "== Early stopping achieved.                                                                                                                                 \n",
      "== Best iteration / VAL2792 (val_loss=2.3879)                                                                                                               \n",
      " 74%|█████████████████████████████████████████████████████████████▍                     | 74/100 [3:27:12<41:55, 96.74s/trial, best loss: 2.380576009400627]"
     ]
    },
    {
     "name": "stderr",
     "output_type": "stream",
     "text": [
      "2021-07-28 11:04:39 INFO     {'Base': DecisionTreeRegressor(criterion='friedman_mse', max_leaf_nodes=63,\n",
      "                      min_samples_split=3, random_state=1), 'col_sample': 0.6000000000000001, 'learning_rate': 0.001, 'minibatch_frac': 0.8, 'n_estimators': 10000000, 'verbose_eval': 100, 'random_state': 13}\n"
     ]
    },
    {
     "name": "stdout",
     "output_type": "stream",
     "text": [
      "\r",
      " 75%|████████████████████████████████████████████████████████████                    | 75/100 [3:27:12<1:12:54, 174.99s/trial, best loss: 2.380576009400627]"
     ]
    },
    {
     "name": "stderr",
     "output_type": "stream",
     "text": [
      "2021-07-28 11:04:39 INFO     build_posterior_wrapper took 0.004004 seconds\n",
      "2021-07-28 11:04:39 INFO     TPE using 75/75 trials with best loss 2.380576\n"
     ]
    },
    {
     "name": "stdout",
     "output_type": "stream",
     "text": [
      "{'Base': DecisionTreeRegressor(criterion='friedman_mse', max_leaf_nodes=63,                                                                                 \n",
      "                      min_samples_split=3, random_state=1), 'col_sample': 0.8, 'learning_rate': 0.008, 'minibatch_frac': 0.5, 'n_estimators': 10000000, 'verbose_eval': 100, 'random_state': 13}\n",
      "[iter 0] loss=3.8284 val_loss=3.8204 scale=2.0000 norm=18.0475                                                                                              \n",
      "[iter 100] loss=2.9664 val_loss=2.9722 scale=2.0000 norm=5.9910                                                                                             \n",
      "[iter 200] loss=2.4970 val_loss=2.5543 scale=2.0000 norm=4.2336                                                                                             \n",
      "[iter 300] loss=2.2428 val_loss=2.4036 scale=2.0000 norm=3.9134                                                                                             \n",
      "== Early stopping achieved.                                                                                                                                 \n",
      "== Best iteration / VAL358 (val_loss=2.3895)                                                                                                                \n",
      " 75%|████████████████████████████████████████████████████████████                    | 75/100 [3:27:48<1:12:54, 174.99s/trial, best loss: 2.380576009400627]"
     ]
    },
    {
     "name": "stderr",
     "output_type": "stream",
     "text": [
      "2021-07-28 11:05:16 INFO     {'Base': DecisionTreeRegressor(criterion='friedman_mse', max_leaf_nodes=63,\n",
      "                      min_samples_split=3, random_state=1), 'col_sample': 0.8, 'learning_rate': 0.008, 'minibatch_frac': 0.5, 'n_estimators': 10000000, 'verbose_eval': 100, 'random_state': 13}\n"
     ]
    },
    {
     "name": "stdout",
     "output_type": "stream",
     "text": [
      "\r",
      " 76%|██████████████████████████████████████████████████████████████▎                   | 76/100 [3:27:48<53:21, 133.41s/trial, best loss: 2.380576009400627]"
     ]
    },
    {
     "name": "stderr",
     "output_type": "stream",
     "text": [
      "2021-07-28 11:05:16 INFO     build_posterior_wrapper took 0.001996 seconds\n",
      "2021-07-28 11:05:16 INFO     TPE using 76/76 trials with best loss 2.380576\n"
     ]
    },
    {
     "name": "stdout",
     "output_type": "stream",
     "text": [
      "{'Base': DecisionTreeRegressor(criterion='friedman_mse', max_leaf_nodes=127,                                                                                \n",
      "                      min_samples_split=3, random_state=1), 'col_sample': 0.9, 'learning_rate': 0.005, 'minibatch_frac': 0.9, 'n_estimators': 10000000, 'verbose_eval': 100, 'random_state': 13}\n",
      "[iter 0] loss=3.8335 val_loss=3.8294 scale=2.0000 norm=18.1602                                                                                              \n",
      "[iter 100] loss=3.1908 val_loss=3.2007 scale=2.0000 norm=8.0050                                                                                             \n",
      "[iter 200] loss=2.7906 val_loss=2.8294 scale=2.0000 norm=4.8446                                                                                             \n",
      "[iter 300] loss=2.4719 val_loss=2.5729 scale=2.0000 norm=3.9016                                                                                             \n",
      "[iter 400] loss=2.2302 val_loss=2.4486 scale=2.0000 norm=3.5271                                                                                             \n",
      "== Early stopping achieved.                                                                                                                                 \n",
      "== Best iteration / VAL459 (val_loss=2.4316)                                                                                                                \n",
      " 76%|██████████████████████████████████████████████████████████████▎                   | 76/100 [3:29:25<53:21, 133.41s/trial, best loss: 2.380576009400627]"
     ]
    },
    {
     "name": "stderr",
     "output_type": "stream",
     "text": [
      "2021-07-28 11:06:52 INFO     {'Base': DecisionTreeRegressor(criterion='friedman_mse', max_leaf_nodes=127,\n",
      "                      min_samples_split=3, random_state=1), 'col_sample': 0.9, 'learning_rate': 0.005, 'minibatch_frac': 0.9, 'n_estimators': 10000000, 'verbose_eval': 100, 'random_state': 13}\n"
     ]
    },
    {
     "name": "stdout",
     "output_type": "stream",
     "text": [
      "\r",
      " 77%|███████████████████████████████████████████████████████████████▏                  | 77/100 [3:29:25<46:56, 122.46s/trial, best loss: 2.380576009400627]"
     ]
    },
    {
     "name": "stderr",
     "output_type": "stream",
     "text": [
      "2021-07-28 11:06:53 INFO     build_posterior_wrapper took 0.002995 seconds\n",
      "2021-07-28 11:06:53 INFO     TPE using 77/77 trials with best loss 2.380576\n"
     ]
    },
    {
     "name": "stdout",
     "output_type": "stream",
     "text": [
      "{'Base': DecisionTreeRegressor(criterion='friedman_mse', max_leaf_nodes=63,                                                                                 \n",
      "                      min_samples_split=3, random_state=1), 'col_sample': 0.7000000000000001, 'learning_rate': 0.002, 'minibatch_frac': 0.9, 'n_estimators': 10000000, 'verbose_eval': 100, 'random_state': 13}\n",
      "[iter 0] loss=3.8335 val_loss=3.8388 scale=2.0000 norm=18.1602                                                                                              \n",
      "[iter 100] loss=3.4960 val_loss=3.4983 scale=2.0000 norm=12.8661                                                                                            \n",
      "[iter 200] loss=3.2935 val_loss=3.2993 scale=2.0000 norm=9.4336                                                                                             \n",
      "[iter 300] loss=3.1229 val_loss=3.1307 scale=2.0000 norm=7.3214                                                                                             \n",
      "[iter 400] loss=2.9692 val_loss=2.9805 scale=2.0000 norm=6.0124                                                                                             \n",
      "[iter 500] loss=2.8297 val_loss=2.8471 scale=2.0000 norm=5.2263                                                                                             \n",
      "[iter 600] loss=2.7025 val_loss=2.7314 scale=2.0000 norm=4.6922                                                                                             \n",
      "[iter 700] loss=2.5951 val_loss=2.6346 scale=2.0000 norm=4.4195                                                                                             \n",
      "[iter 800] loss=2.4995 val_loss=2.5567 scale=2.0000 norm=4.2283                                                                                             \n",
      "[iter 900] loss=2.4203 val_loss=2.4963 scale=2.0000 norm=4.1178                                                                                             \n",
      "[iter 1000] loss=2.3524 val_loss=2.4516 scale=2.0000 norm=4.0387                                                                                            \n",
      "[iter 1100] loss=2.2900 val_loss=2.4206 scale=2.0000 norm=3.9390                                                                                            \n",
      "[iter 1200] loss=2.2412 val_loss=2.4009 scale=2.0000 norm=3.8908                                                                                            \n",
      "[iter 1300] loss=2.1986 val_loss=2.3897 scale=2.0000 norm=3.8390                                                                                            \n",
      "[iter 1400] loss=2.1630 val_loss=2.3857 scale=2.0000 norm=3.7961                                                                                            \n",
      "== Early stopping achieved.                                                                                                                                 \n",
      "== Best iteration / VAL1412 (val_loss=2.3856)                                                                                                               \n",
      " 77%|███████████████████████████████████████████████████████████████▏                  | 77/100 [3:33:05<46:56, 122.46s/trial, best loss: 2.380576009400627]"
     ]
    },
    {
     "name": "stderr",
     "output_type": "stream",
     "text": [
      "2021-07-28 11:10:32 INFO     {'Base': DecisionTreeRegressor(criterion='friedman_mse', max_leaf_nodes=63,\n",
      "                      min_samples_split=3, random_state=1), 'col_sample': 0.7000000000000001, 'learning_rate': 0.002, 'minibatch_frac': 0.9, 'n_estimators': 10000000, 'verbose_eval': 100, 'random_state': 13}\n"
     ]
    },
    {
     "name": "stdout",
     "output_type": "stream",
     "text": [
      "\r",
      " 78%|███████████████████████████████████████████████████████████████▉                  | 78/100 [3:33:05<55:37, 151.69s/trial, best loss: 2.380576009400627]"
     ]
    },
    {
     "name": "stderr",
     "output_type": "stream",
     "text": [
      "2021-07-28 11:10:32 INFO     build_posterior_wrapper took 0.000998 seconds\n",
      "2021-07-28 11:10:32 INFO     TPE using 78/78 trials with best loss 2.380576\n"
     ]
    },
    {
     "name": "stdout",
     "output_type": "stream",
     "text": [
      "{'Base': DecisionTreeRegressor(criterion='friedman_mse', max_leaf_nodes=63,                                                                                 \n",
      "                      min_samples_split=3, random_state=1), 'col_sample': 0.8, 'learning_rate': 0.004, 'minibatch_frac': 0.6000000000000001, 'n_estimators': 10000000, 'verbose_eval': 100, 'random_state': 13}\n",
      "[iter 0] loss=3.8305 val_loss=3.8326 scale=2.0000 norm=18.0903                                                                                              \n",
      "[iter 100] loss=3.2938 val_loss=3.2940 scale=2.0000 norm=9.4508                                                                                             \n",
      "[iter 200] loss=2.9640 val_loss=2.9751 scale=2.0000 norm=5.9557                                                                                             \n",
      "[iter 300] loss=2.6988 val_loss=2.7267 scale=2.0000 norm=4.6796                                                                                             \n",
      "[iter 400] loss=2.4936 val_loss=2.5527 scale=2.0000 norm=4.2036                                                                                             \n",
      "[iter 500] loss=2.3467 val_loss=2.4489 scale=2.0000 norm=4.0137                                                                                             \n",
      "[iter 600] loss=2.2340 val_loss=2.3985 scale=2.0000 norm=3.8599                                                                                             \n",
      "[iter 700] loss=2.1559 val_loss=2.3835 scale=2.0000 norm=3.7709                                                                                             \n",
      "== Early stopping achieved.                                                                                                                                 \n",
      "== Best iteration / VAL715 (val_loss=2.3829)                                                                                                                \n",
      " 78%|███████████████████████████████████████████████████████████████▉                  | 78/100 [3:34:38<55:37, 151.69s/trial, best loss: 2.380576009400627]"
     ]
    },
    {
     "name": "stderr",
     "output_type": "stream",
     "text": [
      "2021-07-28 11:12:06 INFO     {'Base': DecisionTreeRegressor(criterion='friedman_mse', max_leaf_nodes=63,\n",
      "                      min_samples_split=3, random_state=1), 'col_sample': 0.8, 'learning_rate': 0.004, 'minibatch_frac': 0.6000000000000001, 'n_estimators': 10000000, 'verbose_eval': 100, 'random_state': 13}\n"
     ]
    },
    {
     "name": "stdout",
     "output_type": "stream",
     "text": [
      "\r",
      " 79%|████████████████████████████████████████████████████████████████▊                 | 79/100 [3:34:38<46:58, 134.21s/trial, best loss: 2.380576009400627]"
     ]
    },
    {
     "name": "stderr",
     "output_type": "stream",
     "text": [
      "2021-07-28 11:12:06 INFO     build_posterior_wrapper took 0.001040 seconds\n",
      "2021-07-28 11:12:06 INFO     TPE using 79/79 trials with best loss 2.380576\n"
     ]
    },
    {
     "name": "stdout",
     "output_type": "stream",
     "text": [
      "{'Base': DecisionTreeRegressor(criterion='friedman_mse', max_leaf_nodes=255,                                                                                \n",
      "                      min_samples_split=3, random_state=1), 'col_sample': 0.5, 'learning_rate': 0.004, 'minibatch_frac': 0.6000000000000001, 'n_estimators': 10000000, 'verbose_eval': 100, 'random_state': 13}\n",
      "[iter 0] loss=3.8305 val_loss=3.8325 scale=2.0000 norm=18.0903                                                                                              \n",
      "[iter 100] loss=3.3101 val_loss=3.3213 scale=2.0000 norm=9.7902                                                                                             \n",
      "[iter 200] loss=2.9562 val_loss=2.9959 scale=2.0000 norm=5.8859                                                                                             \n",
      "[iter 300] loss=2.6438 val_loss=2.7335 scale=2.0000 norm=4.2055                                                                                             \n",
      "[iter 400] loss=2.3684 val_loss=2.5506 scale=2.0000 norm=3.4459                                                                                             \n",
      "[iter 500] loss=2.1361 val_loss=2.4744 scale=2.0000 norm=3.0727                                                                                             \n",
      "== Early stopping achieved.                                                                                                                                 \n",
      "== Best iteration / VAL517 (val_loss=2.4728)                                                                                                                \n",
      " 79%|████████████████████████████████████████████████████████████████▊                 | 79/100 [3:35:38<46:58, 134.21s/trial, best loss: 2.380576009400627]"
     ]
    },
    {
     "name": "stderr",
     "output_type": "stream",
     "text": [
      "2021-07-28 11:13:06 INFO     {'Base': DecisionTreeRegressor(criterion='friedman_mse', max_leaf_nodes=255,\n",
      "                      min_samples_split=3, random_state=1), 'col_sample': 0.5, 'learning_rate': 0.004, 'minibatch_frac': 0.6000000000000001, 'n_estimators': 10000000, 'verbose_eval': 100, 'random_state': 13}\n"
     ]
    },
    {
     "name": "stdout",
     "output_type": "stream",
     "text": [
      "\r",
      " 80%|█████████████████████████████████████████████████████████████████▌                | 80/100 [3:35:38<37:19, 112.00s/trial, best loss: 2.380576009400627]"
     ]
    },
    {
     "name": "stderr",
     "output_type": "stream",
     "text": [
      "2021-07-28 11:13:06 INFO     build_posterior_wrapper took 0.001002 seconds\n",
      "2021-07-28 11:13:06 INFO     TPE using 80/80 trials with best loss 2.380576\n"
     ]
    },
    {
     "name": "stdout",
     "output_type": "stream",
     "text": [
      "{'Base': DecisionTreeRegressor(criterion='friedman_mse', max_leaf_nodes=63,                                                                                 \n",
      "                      min_samples_split=3, random_state=1), 'col_sample': 0.7000000000000001, 'learning_rate': 0.005, 'minibatch_frac': 0.6000000000000001, 'n_estimators': 10000000, 'verbose_eval': 100, 'random_state': 13}\n",
      "[iter 0] loss=3.8305 val_loss=3.8296 scale=2.0000 norm=18.0903                                                                                              \n",
      "[iter 100] loss=3.2083 val_loss=3.2092 scale=2.0000 norm=8.2984                                                                                             \n",
      "[iter 200] loss=2.8282 val_loss=2.8449 scale=2.0000 norm=5.2142                                                                                             \n",
      "[iter 300] loss=2.5452 val_loss=2.5932 scale=2.0000 norm=4.3220                                                                                             \n",
      "[iter 400] loss=2.3486 val_loss=2.4526 scale=2.0000 norm=4.0182                                                                                             \n",
      "[iter 500] loss=2.2227 val_loss=2.3957 scale=2.0000 norm=3.8804                                                                                             \n",
      "== Early stopping achieved.                                                                                                                                 \n",
      "== Best iteration / VAL561 (val_loss=2.3872)                                                                                                                \n",
      " 80%|█████████████████████████████████████████████████████████████████▌                | 80/100 [3:36:38<37:19, 112.00s/trial, best loss: 2.380576009400627]"
     ]
    },
    {
     "name": "stderr",
     "output_type": "stream",
     "text": [
      "2021-07-28 11:14:06 INFO     {'Base': DecisionTreeRegressor(criterion='friedman_mse', max_leaf_nodes=63,\n",
      "                      min_samples_split=3, random_state=1), 'col_sample': 0.7000000000000001, 'learning_rate': 0.005, 'minibatch_frac': 0.6000000000000001, 'n_estimators': 10000000, 'verbose_eval': 100, 'random_state': 13}\n"
     ]
    },
    {
     "name": "stdout",
     "output_type": "stream",
     "text": [
      "\r",
      " 81%|███████████████████████████████████████████████████████████████████▏               | 81/100 [3:36:38<30:32, 96.43s/trial, best loss: 2.380576009400627]"
     ]
    },
    {
     "name": "stderr",
     "output_type": "stream",
     "text": [
      "2021-07-28 11:14:06 INFO     build_posterior_wrapper took 0.004000 seconds\n",
      "2021-07-28 11:14:06 INFO     TPE using 81/81 trials with best loss 2.380576\n"
     ]
    },
    {
     "name": "stdout",
     "output_type": "stream",
     "text": [
      "{'Base': DecisionTreeRegressor(criterion='friedman_mse', max_leaf_nodes=63,                                                                                 \n",
      "                      min_samples_split=3, random_state=1), 'col_sample': 0.8, 'learning_rate': 0.006, 'minibatch_frac': 0.5, 'n_estimators': 10000000, 'verbose_eval': 100, 'random_state': 13}\n",
      "[iter 0] loss=3.8284 val_loss=3.8264 scale=2.0000 norm=18.0475                                                                                              \n",
      "[iter 100] loss=3.1216 val_loss=3.1235 scale=2.0000 norm=7.3064                                                                                             \n",
      "[iter 200] loss=2.7006 val_loss=2.7265 scale=2.0000 norm=4.7010                                                                                             \n",
      "[iter 300] loss=2.4163 val_loss=2.4947 scale=2.0000 norm=4.1156                                                                                             \n",
      "[iter 400] loss=2.2364 val_loss=2.4016 scale=2.0000 norm=3.8769                                                                                             \n",
      "== Early stopping achieved.                                                                                                                                 \n",
      "== Best iteration / VAL459 (val_loss=2.3874)                                                                                                                \n",
      " 81%|███████████████████████████████████████████████████████████████████▏               | 81/100 [3:37:25<30:32, 96.43s/trial, best loss: 2.380576009400627]"
     ]
    },
    {
     "name": "stderr",
     "output_type": "stream",
     "text": [
      "2021-07-28 11:14:53 INFO     {'Base': DecisionTreeRegressor(criterion='friedman_mse', max_leaf_nodes=63,\n",
      "                      min_samples_split=3, random_state=1), 'col_sample': 0.8, 'learning_rate': 0.006, 'minibatch_frac': 0.5, 'n_estimators': 10000000, 'verbose_eval': 100, 'random_state': 13}\n"
     ]
    },
    {
     "name": "stdout",
     "output_type": "stream",
     "text": [
      "\r",
      " 82%|████████████████████████████████████████████████████████████████████               | 82/100 [3:37:25<24:26, 81.49s/trial, best loss: 2.380576009400627]"
     ]
    },
    {
     "name": "stderr",
     "output_type": "stream",
     "text": [
      "2021-07-28 11:14:53 INFO     build_posterior_wrapper took 0.002001 seconds\n",
      "2021-07-28 11:14:53 INFO     TPE using 82/82 trials with best loss 2.380576\n"
     ]
    },
    {
     "name": "stdout",
     "output_type": "stream",
     "text": [
      "{'Base': DecisionTreeRegressor(criterion='friedman_mse', max_leaf_nodes=127,                                                                                \n",
      "                      min_samples_split=3, random_state=1), 'col_sample': 0.9, 'learning_rate': 0.007, 'minibatch_frac': 0.5, 'n_estimators': 10000000, 'verbose_eval': 100, 'random_state': 13}\n",
      "[iter 0] loss=3.8284 val_loss=3.8233 scale=2.0000 norm=18.0475                                                                                              \n",
      "[iter 100] loss=3.0249 val_loss=3.0387 scale=2.0000 norm=6.3512                                                                                             \n",
      "[iter 200] loss=2.5333 val_loss=2.6146 scale=2.0000 norm=4.0446                                                                                             \n",
      "[iter 300] loss=2.2008 val_loss=2.4390 scale=2.0000 norm=3.5308                                                                                             \n",
      "== Early stopping achieved.                                                                                                                                 \n",
      "== Best iteration / VAL330 (val_loss=2.4321)                                                                                                                \n",
      " 82%|████████████████████████████████████████████████████████████████████               | 82/100 [3:38:10<24:26, 81.49s/trial, best loss: 2.380576009400627]"
     ]
    },
    {
     "name": "stderr",
     "output_type": "stream",
     "text": [
      "2021-07-28 11:15:38 INFO     {'Base': DecisionTreeRegressor(criterion='friedman_mse', max_leaf_nodes=127,\n",
      "                      min_samples_split=3, random_state=1), 'col_sample': 0.9, 'learning_rate': 0.007, 'minibatch_frac': 0.5, 'n_estimators': 10000000, 'verbose_eval': 100, 'random_state': 13}\n"
     ]
    },
    {
     "name": "stdout",
     "output_type": "stream",
     "text": [
      "\r",
      " 83%|████████████████████████████████████████████████████████████████████▉              | 83/100 [3:38:10<20:00, 70.61s/trial, best loss: 2.380576009400627]"
     ]
    },
    {
     "name": "stderr",
     "output_type": "stream",
     "text": [
      "2021-07-28 11:15:38 INFO     build_posterior_wrapper took 0.002965 seconds\n",
      "2021-07-28 11:15:38 INFO     TPE using 83/83 trials with best loss 2.380576\n"
     ]
    },
    {
     "name": "stdout",
     "output_type": "stream",
     "text": [
      "{'Base': DecisionTreeRegressor(criterion='friedman_mse', max_leaf_nodes=63,                                                                                 \n",
      "                      min_samples_split=3, random_state=1), 'col_sample': 0.8, 'learning_rate': 0.003, 'minibatch_frac': 0.6000000000000001, 'n_estimators': 10000000, 'verbose_eval': 100, 'random_state': 13}\n",
      "[iter 0] loss=3.8305 val_loss=3.8357 scale=2.0000 norm=18.0903                                                                                              \n",
      "[iter 100] loss=3.3895 val_loss=3.3892 scale=2.0000 norm=10.9850                                                                                            \n",
      "[iter 200] loss=3.1189 val_loss=3.1262 scale=2.0000 norm=7.2504                                                                                             \n",
      "[iter 300] loss=2.8911 val_loss=2.9070 scale=2.0000 norm=5.4898                                                                                             \n",
      "[iter 400] loss=2.6978 val_loss=2.7272 scale=2.0000 norm=4.6591                                                                                             \n",
      "[iter 500] loss=2.5413 val_loss=2.5904 scale=2.0000 norm=4.2993                                                                                             \n",
      "[iter 600] loss=2.4111 val_loss=2.4944 scale=2.0000 norm=4.0671                                                                                             \n",
      "[iter 700] loss=2.3146 val_loss=2.4341 scale=2.0000 norm=3.9669                                                                                             \n",
      "[iter 800] loss=2.2416 val_loss=2.4013 scale=2.0000 norm=3.9095                                                                                             \n",
      "[iter 900] loss=2.1763 val_loss=2.3874 scale=2.0000 norm=3.8127                                                                                             \n",
      "== Early stopping achieved.                                                                                                                                 \n",
      "== Best iteration / VAL944 (val_loss=2.3859)                                                                                                                \n",
      " 83%|████████████████████████████████████████████████████████████████████▉              | 83/100 [3:40:04<20:00, 70.61s/trial, best loss: 2.380576009400627]"
     ]
    },
    {
     "name": "stderr",
     "output_type": "stream",
     "text": [
      "2021-07-28 11:17:31 INFO     {'Base': DecisionTreeRegressor(criterion='friedman_mse', max_leaf_nodes=63,\n",
      "                      min_samples_split=3, random_state=1), 'col_sample': 0.8, 'learning_rate': 0.003, 'minibatch_frac': 0.6000000000000001, 'n_estimators': 10000000, 'verbose_eval': 100, 'random_state': 13}\n"
     ]
    },
    {
     "name": "stdout",
     "output_type": "stream",
     "text": [
      "\r",
      " 84%|█████████████████████████████████████████████████████████████████████▋             | 84/100 [3:40:04<22:15, 83.49s/trial, best loss: 2.380576009400627]"
     ]
    },
    {
     "name": "stderr",
     "output_type": "stream",
     "text": [
      "2021-07-28 11:17:31 INFO     build_posterior_wrapper took 0.001002 seconds\n",
      "2021-07-28 11:17:31 INFO     TPE using 84/84 trials with best loss 2.380576\n"
     ]
    },
    {
     "name": "stdout",
     "output_type": "stream",
     "text": [
      "{'Base': DecisionTreeRegressor(criterion='friedman_mse', max_leaf_nodes=63,                                                                                 \n",
      "                      min_samples_split=3, random_state=1), 'col_sample': 0.7000000000000001, 'learning_rate': 0.004, 'minibatch_frac': 0.5, 'n_estimators': 10000000, 'verbose_eval': 100, 'random_state': 13}\n",
      "[iter 0] loss=3.8284 val_loss=3.8326 scale=2.0000 norm=18.0475                                                                                              \n",
      "[iter 100] loss=3.2969 val_loss=3.2970 scale=2.0000 norm=9.5335                                                                                             \n",
      "[iter 200] loss=2.9690 val_loss=2.9790 scale=2.0000 norm=6.0277                                                                                             \n",
      "[iter 300] loss=2.7025 val_loss=2.7310 scale=2.0000 norm=4.7110                                                                                             \n",
      "[iter 400] loss=2.4963 val_loss=2.5572 scale=2.0000 norm=4.2141                                                                                             \n",
      "[iter 500] loss=2.3516 val_loss=2.4532 scale=2.0000 norm=4.0275                                                                                             \n",
      "[iter 600] loss=2.2422 val_loss=2.4023 scale=2.0000 norm=3.8843                                                                                             \n",
      "[iter 700] loss=2.1616 val_loss=2.3878 scale=2.0000 norm=3.7650                                                                                             \n",
      "== Early stopping achieved.                                                                                                                                 \n",
      "== Best iteration / VAL714 (val_loss=2.3871)                                                                                                                \n",
      " 84%|█████████████████████████████████████████████████████████████████████▋             | 84/100 [3:41:18<22:15, 83.49s/trial, best loss: 2.380576009400627]"
     ]
    },
    {
     "name": "stderr",
     "output_type": "stream",
     "text": [
      "2021-07-28 11:18:46 INFO     {'Base': DecisionTreeRegressor(criterion='friedman_mse', max_leaf_nodes=63,\n",
      "                      min_samples_split=3, random_state=1), 'col_sample': 0.7000000000000001, 'learning_rate': 0.004, 'minibatch_frac': 0.5, 'n_estimators': 10000000, 'verbose_eval': 100, 'random_state': 13}\n"
     ]
    },
    {
     "name": "stdout",
     "output_type": "stream",
     "text": [
      "\r",
      " 85%|██████████████████████████████████████████████████████████████████████▌            | 85/100 [3:41:18<20:12, 80.80s/trial, best loss: 2.380576009400627]"
     ]
    },
    {
     "name": "stderr",
     "output_type": "stream",
     "text": [
      "2021-07-28 11:18:46 INFO     build_posterior_wrapper took 0.002013 seconds\n",
      "2021-07-28 11:18:46 INFO     TPE using 85/85 trials with best loss 2.380576\n"
     ]
    },
    {
     "name": "stdout",
     "output_type": "stream",
     "text": [
      "{'Base': DecisionTreeRegressor(criterion='friedman_mse', max_leaf_nodes=255,                                                                                \n",
      "                      min_samples_split=3, random_state=1), 'col_sample': 0.9, 'learning_rate': 0.005, 'minibatch_frac': 0.6000000000000001, 'n_estimators': 10000000, 'verbose_eval': 100, 'random_state': 13}\n",
      "[iter 0] loss=3.8305 val_loss=3.8294 scale=2.0000 norm=18.0903                                                                                              \n",
      "[iter 100] loss=3.1808 val_loss=3.1965 scale=2.0000 norm=7.8791                                                                                             \n",
      "[iter 200] loss=2.7523 val_loss=2.8167 scale=2.0000 norm=4.4699                                                                                             \n",
      "[iter 300] loss=2.3846 val_loss=2.5555 scale=2.0000 norm=3.3611                                                                                             \n",
      "[iter 400] loss=2.0760 val_loss=2.4653 scale=2.0000 norm=2.8859                                                                                             \n",
      "== Early stopping achieved.                                                                                                                                 \n",
      "== Best iteration / VAL395 (val_loss=2.4647)                                                                                                                \n",
      " 85%|██████████████████████████████████████████████████████████████████████▌            | 85/100 [3:42:37<20:12, 80.80s/trial, best loss: 2.380576009400627]"
     ]
    },
    {
     "name": "stderr",
     "output_type": "stream",
     "text": [
      "2021-07-28 11:20:05 INFO     {'Base': DecisionTreeRegressor(criterion='friedman_mse', max_leaf_nodes=255,\n",
      "                      min_samples_split=3, random_state=1), 'col_sample': 0.9, 'learning_rate': 0.005, 'minibatch_frac': 0.6000000000000001, 'n_estimators': 10000000, 'verbose_eval': 100, 'random_state': 13}\n"
     ]
    },
    {
     "name": "stdout",
     "output_type": "stream",
     "text": [
      "\r",
      " 86%|███████████████████████████████████████████████████████████████████████▍           | 86/100 [3:42:37<18:42, 80.21s/trial, best loss: 2.380576009400627]"
     ]
    },
    {
     "name": "stderr",
     "output_type": "stream",
     "text": [
      "2021-07-28 11:20:05 INFO     build_posterior_wrapper took 0.002709 seconds\n",
      "2021-07-28 11:20:05 INFO     TPE using 86/86 trials with best loss 2.380576\n"
     ]
    },
    {
     "name": "stdout",
     "output_type": "stream",
     "text": [
      "{'Base': DecisionTreeRegressor(criterion='friedman_mse', max_leaf_nodes=63,                                                                                 \n",
      "                      min_samples_split=3, random_state=1), 'col_sample': 0.6000000000000001, 'learning_rate': 0.006, 'minibatch_frac': 0.7000000000000001, 'n_estimators': 10000000, 'verbose_eval': 100, 'random_state': 13}\n",
      "[iter 0] loss=3.8314 val_loss=3.8264 scale=2.0000 norm=18.1206                                                                                              \n",
      "[iter 100] loss=3.1349 val_loss=3.1395 scale=2.0000 norm=7.5272                                                                                             \n",
      "[iter 200] loss=2.7146 val_loss=2.7410 scale=2.0000 norm=4.8071                                                                                             \n",
      "[iter 300] loss=2.4326 val_loss=2.5065 scale=2.0000 norm=4.1728                                                                                             \n",
      "[iter 400] loss=2.2532 val_loss=2.4085 scale=2.0000 norm=3.9230                                                                                             \n",
      "== Early stopping achieved.                                                                                                                                 \n",
      "== Best iteration / VAL469 (val_loss=2.3918)                                                                                                                \n",
      " 86%|███████████████████████████████████████████████████████████████████████▍           | 86/100 [3:43:32<18:42, 80.21s/trial, best loss: 2.380576009400627]"
     ]
    },
    {
     "name": "stderr",
     "output_type": "stream",
     "text": [
      "2021-07-28 11:21:00 INFO     {'Base': DecisionTreeRegressor(criterion='friedman_mse', max_leaf_nodes=63,\n",
      "                      min_samples_split=3, random_state=1), 'col_sample': 0.6000000000000001, 'learning_rate': 0.006, 'minibatch_frac': 0.7000000000000001, 'n_estimators': 10000000, 'verbose_eval': 100, 'random_state': 13}\n"
     ]
    },
    {
     "name": "stdout",
     "output_type": "stream",
     "text": [
      "\r",
      " 87%|████████████████████████████████████████████████████████████████████████▏          | 87/100 [3:43:32<15:43, 72.60s/trial, best loss: 2.380576009400627]"
     ]
    },
    {
     "name": "stderr",
     "output_type": "stream",
     "text": [
      "2021-07-28 11:21:00 INFO     build_posterior_wrapper took 0.001960 seconds\n",
      "2021-07-28 11:21:00 INFO     TPE using 87/87 trials with best loss 2.380576\n"
     ]
    },
    {
     "name": "stdout",
     "output_type": "stream",
     "text": [
      "{'Base': DecisionTreeRegressor(criterion='friedman_mse', max_leaf_nodes=127,                                                                                \n",
      "                      min_samples_split=3, random_state=1), 'col_sample': 0.7000000000000001, 'learning_rate': 0.008, 'minibatch_frac': 0.5, 'n_estimators': 10000000, 'verbose_eval': 100, 'random_state': 13}\n",
      "[iter 0] loss=3.8284 val_loss=3.8203 scale=2.0000 norm=18.0475                                                                                              \n",
      "[iter 100] loss=2.9499 val_loss=2.9674 scale=2.0000 norm=5.8199                                                                                             \n",
      "[iter 200] loss=2.4282 val_loss=2.5375 scale=2.0000 norm=3.8592                                                                                             \n",
      "== Early stopping achieved.                                                                                                                                 \n",
      "== Best iteration / VAL289 (val_loss=2.4271)                                                                                                                \n",
      " 87%|████████████████████████████████████████████████████████████████████████▏          | 87/100 [3:44:08<15:43, 72.60s/trial, best loss: 2.380576009400627]"
     ]
    },
    {
     "name": "stderr",
     "output_type": "stream",
     "text": [
      "2021-07-28 11:21:35 INFO     {'Base': DecisionTreeRegressor(criterion='friedman_mse', max_leaf_nodes=127,\n",
      "                      min_samples_split=3, random_state=1), 'col_sample': 0.7000000000000001, 'learning_rate': 0.008, 'minibatch_frac': 0.5, 'n_estimators': 10000000, 'verbose_eval': 100, 'random_state': 13}\n"
     ]
    },
    {
     "name": "stdout",
     "output_type": "stream",
     "text": [
      "\r",
      " 88%|█████████████████████████████████████████████████████████████████████████          | 88/100 [3:44:08<12:18, 61.53s/trial, best loss: 2.380576009400627]"
     ]
    },
    {
     "name": "stderr",
     "output_type": "stream",
     "text": [
      "2021-07-28 11:21:35 INFO     build_posterior_wrapper took 0.001999 seconds\n",
      "2021-07-28 11:21:35 INFO     TPE using 88/88 trials with best loss 2.380576\n"
     ]
    },
    {
     "name": "stdout",
     "output_type": "stream",
     "text": [
      "{'Base': DecisionTreeRegressor(criterion='friedman_mse', max_leaf_nodes=63,                                                                                 \n",
      "                      min_samples_split=3, random_state=1), 'col_sample': 0.8, 'learning_rate': 0.007, 'minibatch_frac': 0.7000000000000001, 'n_estimators': 10000000, 'verbose_eval': 100, 'random_state': 13}\n",
      "[iter 0] loss=3.8314 val_loss=3.8234 scale=2.0000 norm=18.1206                                                                                              \n",
      "[iter 100] loss=3.0395 val_loss=3.0455 scale=2.0000 norm=6.5101                                                                                             \n",
      "[iter 200] loss=2.5894 val_loss=2.6293 scale=2.0000 norm=4.3896                                                                                             \n",
      "[iter 300] loss=2.3180 val_loss=2.4339 scale=2.0000 norm=3.9952                                                                                             \n",
      "[iter 400] loss=2.1560 val_loss=2.3877 scale=2.0000 norm=3.7802                                                                                             \n",
      "== Early stopping achieved.                                                                                                                                 \n",
      "== Best iteration / VAL398 (val_loss=2.3875)                                                                                                                \n",
      " 88%|█████████████████████████████████████████████████████████████████████████          | 88/100 [3:45:06<12:18, 61.53s/trial, best loss: 2.380576009400627]"
     ]
    },
    {
     "name": "stderr",
     "output_type": "stream",
     "text": [
      "2021-07-28 11:22:34 INFO     {'Base': DecisionTreeRegressor(criterion='friedman_mse', max_leaf_nodes=63,\n",
      "                      min_samples_split=3, random_state=1), 'col_sample': 0.8, 'learning_rate': 0.007, 'minibatch_frac': 0.7000000000000001, 'n_estimators': 10000000, 'verbose_eval': 100, 'random_state': 13}\n"
     ]
    },
    {
     "name": "stdout",
     "output_type": "stream",
     "text": [
      "\r",
      " 89%|█████████████████████████████████████████████████████████████████████████▊         | 89/100 [3:45:06<11:07, 60.64s/trial, best loss: 2.380576009400627]"
     ]
    },
    {
     "name": "stderr",
     "output_type": "stream",
     "text": [
      "2021-07-28 11:22:34 INFO     build_posterior_wrapper took 0.003702 seconds\n",
      "2021-07-28 11:22:34 INFO     TPE using 89/89 trials with best loss 2.380576\n"
     ]
    },
    {
     "name": "stdout",
     "output_type": "stream",
     "text": [
      "{'Base': DecisionTreeRegressor(criterion='friedman_mse', max_leaf_nodes=63,                                                                                 \n",
      "                      min_samples_split=3, random_state=1), 'col_sample': 0.5, 'learning_rate': 0.005, 'minibatch_frac': 0.6000000000000001, 'n_estimators': 10000000, 'verbose_eval': 100, 'random_state': 13}\n",
      "[iter 0] loss=3.8305 val_loss=3.8295 scale=2.0000 norm=18.0903                                                                                              \n",
      "[iter 100] loss=3.2344 val_loss=3.2350 scale=2.0000 norm=8.7562                                                                                             \n",
      "[iter 200] loss=2.8568 val_loss=2.8733 scale=2.0000 norm=5.5092                                                                                             \n",
      "[iter 300] loss=2.5734 val_loss=2.6189 scale=2.0000 norm=4.4619                                                                                             \n",
      "[iter 400] loss=2.3758 val_loss=2.4725 scale=2.0000 norm=4.1001                                                                                             \n",
      "[iter 500] loss=2.2492 val_loss=2.4103 scale=2.0000 norm=3.9427                                                                                             \n",
      "[iter 600] loss=2.1571 val_loss=2.3964 scale=2.0000 norm=3.8029                                                                                             \n",
      "== Early stopping achieved.                                                                                                                                 \n",
      "== Best iteration / VAL596 (val_loss=2.3963)                                                                                                                \n",
      " 89%|█████████████████████████████████████████████████████████████████████████▊         | 89/100 [3:46:00<11:07, 60.64s/trial, best loss: 2.380576009400627]"
     ]
    },
    {
     "name": "stderr",
     "output_type": "stream",
     "text": [
      "2021-07-28 11:23:28 INFO     {'Base': DecisionTreeRegressor(criterion='friedman_mse', max_leaf_nodes=63,\n",
      "                      min_samples_split=3, random_state=1), 'col_sample': 0.5, 'learning_rate': 0.005, 'minibatch_frac': 0.6000000000000001, 'n_estimators': 10000000, 'verbose_eval': 100, 'random_state': 13}\n"
     ]
    },
    {
     "name": "stdout",
     "output_type": "stream",
     "text": [
      "\r",
      " 90%|██████████████████████████████████████████████████████████████████████████▋        | 90/100 [3:46:00<09:45, 58.55s/trial, best loss: 2.380576009400627]"
     ]
    },
    {
     "name": "stderr",
     "output_type": "stream",
     "text": [
      "2021-07-28 11:23:28 INFO     build_posterior_wrapper took 0.001000 seconds\n",
      "2021-07-28 11:23:28 INFO     TPE using 90/90 trials with best loss 2.380576\n"
     ]
    },
    {
     "name": "stdout",
     "output_type": "stream",
     "text": [
      "{'Base': DecisionTreeRegressor(criterion='friedman_mse', max_leaf_nodes=255,                                                                                \n",
      "                      min_samples_split=3, random_state=1), 'col_sample': 0.9, 'learning_rate': 0.003, 'minibatch_frac': 1.0, 'n_estimators': 10000000, 'verbose_eval': 100, 'random_state': 13}\n",
      "[iter 0] loss=3.8345 val_loss=3.8356 scale=2.0000 norm=18.1911                                                                                              \n",
      "[iter 100] loss=3.3715 val_loss=3.3839 scale=2.0000 norm=10.6736                                                                                            \n",
      "[iter 200] loss=3.0864 val_loss=3.1144 scale=2.0000 norm=6.7996                                                                                             \n",
      "[iter 300] loss=2.8310 val_loss=2.8865 scale=2.0000 norm=4.8576                                                                                             \n",
      "[iter 400] loss=2.5955 val_loss=2.6980 scale=2.0000 norm=3.8637                                                                                             \n",
      "[iter 500] loss=2.3805 val_loss=2.5612 scale=2.0000 norm=3.3358                                                                                             \n",
      "[iter 600] loss=2.1871 val_loss=2.4887 scale=2.0000 norm=3.0211                                                                                             \n",
      "== Early stopping achieved.                                                                                                                                 \n",
      "== Best iteration / VAL652 (val_loss=2.4787)                                                                                                                \n",
      " 90%|██████████████████████████████████████████████████████████████████████████▋        | 90/100 [3:49:11<09:45, 58.55s/trial, best loss: 2.380576009400627]"
     ]
    },
    {
     "name": "stderr",
     "output_type": "stream",
     "text": [
      "2021-07-28 11:26:39 INFO     {'Base': DecisionTreeRegressor(criterion='friedman_mse', max_leaf_nodes=255,\n",
      "                      min_samples_split=3, random_state=1), 'col_sample': 0.9, 'learning_rate': 0.003, 'minibatch_frac': 1.0, 'n_estimators': 10000000, 'verbose_eval': 100, 'random_state': 13}\n"
     ]
    },
    {
     "name": "stdout",
     "output_type": "stream",
     "text": [
      "\r",
      " 91%|███████████████████████████████████████████████████████████████████████████▌       | 91/100 [3:49:11<14:45, 98.44s/trial, best loss: 2.380576009400627]"
     ]
    },
    {
     "name": "stderr",
     "output_type": "stream",
     "text": [
      "2021-07-28 11:26:39 INFO     build_posterior_wrapper took 0.002001 seconds\n",
      "2021-07-28 11:26:39 INFO     TPE using 91/91 trials with best loss 2.380576\n"
     ]
    },
    {
     "name": "stdout",
     "output_type": "stream",
     "text": [
      "{'Base': DecisionTreeRegressor(criterion='friedman_mse', max_leaf_nodes=63,                                                                                 \n",
      "                      min_samples_split=3, random_state=1), 'col_sample': 0.8, 'learning_rate': 0.004, 'minibatch_frac': 0.5, 'n_estimators': 10000000, 'verbose_eval': 100, 'random_state': 13}\n",
      "[iter 0] loss=3.8284 val_loss=3.8326 scale=2.0000 norm=18.0475                                                                                              \n",
      "[iter 100] loss=3.2938 val_loss=3.2941 scale=2.0000 norm=9.4666                                                                                             \n",
      "[iter 200] loss=2.9650 val_loss=2.9754 scale=2.0000 norm=5.9628                                                                                             \n",
      "[iter 300] loss=2.6980 val_loss=2.7275 scale=2.0000 norm=4.6751                                                                                             \n",
      "[iter 400] loss=2.4916 val_loss=2.5547 scale=2.0000 norm=4.1944                                                                                             \n",
      "[iter 500] loss=2.3473 val_loss=2.4508 scale=2.0000 norm=4.0147                                                                                             \n",
      "[iter 600] loss=2.2356 val_loss=2.4011 scale=2.0000 norm=3.8637                                                                                             \n",
      "[iter 700] loss=2.1550 val_loss=2.3871 scale=2.0000 norm=3.7480                                                                                             \n",
      "== Early stopping achieved.                                                                                                                                 \n",
      "== Best iteration / VAL710 (val_loss=2.3867)                                                                                                                \n",
      " 91%|███████████████████████████████████████████████████████████████████████████▌       | 91/100 [3:50:33<14:45, 98.44s/trial, best loss: 2.380576009400627]"
     ]
    },
    {
     "name": "stderr",
     "output_type": "stream",
     "text": [
      "2021-07-28 11:28:00 INFO     {'Base': DecisionTreeRegressor(criterion='friedman_mse', max_leaf_nodes=63,\n",
      "                      min_samples_split=3, random_state=1), 'col_sample': 0.8, 'learning_rate': 0.004, 'minibatch_frac': 0.5, 'n_estimators': 10000000, 'verbose_eval': 100, 'random_state': 13}\n"
     ]
    },
    {
     "name": "stdout",
     "output_type": "stream",
     "text": [
      "\r",
      " 92%|████████████████████████████████████████████████████████████████████████████▎      | 92/100 [3:50:33<12:26, 93.28s/trial, best loss: 2.380576009400627]"
     ]
    },
    {
     "name": "stderr",
     "output_type": "stream",
     "text": [
      "2021-07-28 11:28:00 INFO     build_posterior_wrapper took 0.001999 seconds\n",
      "2021-07-28 11:28:00 INFO     TPE using 92/92 trials with best loss 2.380576\n"
     ]
    },
    {
     "name": "stdout",
     "output_type": "stream",
     "text": [
      "{'Base': DecisionTreeRegressor(criterion='friedman_mse', max_leaf_nodes=63,                                                                                 \n",
      "                      min_samples_split=3, random_state=1), 'col_sample': 0.7000000000000001, 'learning_rate': 0.006, 'minibatch_frac': 0.6000000000000001, 'n_estimators': 10000000, 'verbose_eval': 100, 'random_state': 13}\n",
      "[iter 0] loss=3.8305 val_loss=3.8265 scale=2.0000 norm=18.0903                                                                                              \n",
      "[iter 100] loss=3.1247 val_loss=3.1268 scale=2.0000 norm=7.3425                                                                                             \n",
      "[iter 200] loss=2.7033 val_loss=2.7298 scale=2.0000 norm=4.7238                                                                                             \n",
      "[iter 300] loss=2.4199 val_loss=2.4976 scale=2.0000 norm=4.1229                                                                                             \n",
      "[iter 400] loss=2.2413 val_loss=2.4034 scale=2.0000 norm=3.8926                                                                                             \n",
      "== Early stopping achieved.                                                                                                                                 \n",
      "== Best iteration / VAL477 (val_loss=2.3891)                                                                                                                \n",
      " 92%|████████████████████████████████████████████████████████████████████████████▎      | 92/100 [3:51:31<12:26, 93.28s/trial, best loss: 2.380576009400627]"
     ]
    },
    {
     "name": "stderr",
     "output_type": "stream",
     "text": [
      "2021-07-28 11:28:58 INFO     {'Base': DecisionTreeRegressor(criterion='friedman_mse', max_leaf_nodes=63,\n",
      "                      min_samples_split=3, random_state=1), 'col_sample': 0.7000000000000001, 'learning_rate': 0.006, 'minibatch_frac': 0.6000000000000001, 'n_estimators': 10000000, 'verbose_eval': 100, 'random_state': 13}\n"
     ]
    },
    {
     "name": "stdout",
     "output_type": "stream",
     "text": [
      "\r",
      " 93%|█████████████████████████████████████████████████████████████████████████████▏     | 93/100 [3:51:31<09:38, 82.67s/trial, best loss: 2.380576009400627]"
     ]
    },
    {
     "name": "stderr",
     "output_type": "stream",
     "text": [
      "2021-07-28 11:28:58 INFO     build_posterior_wrapper took 0.001999 seconds\n",
      "2021-07-28 11:28:58 INFO     TPE using 93/93 trials with best loss 2.380576\n"
     ]
    },
    {
     "name": "stdout",
     "output_type": "stream",
     "text": [
      "{'Base': DecisionTreeRegressor(criterion='friedman_mse', max_leaf_nodes=127,                                                                                \n",
      "                      min_samples_split=3, random_state=1), 'col_sample': 0.8, 'learning_rate': 0.01, 'minibatch_frac': 0.7000000000000001, 'n_estimators': 10000000, 'verbose_eval': 100, 'random_state': 13}\n",
      "[iter 0] loss=3.8314 val_loss=3.8143 scale=2.0000 norm=18.1206                                                                                              \n",
      "[iter 100] loss=2.7925 val_loss=2.8269 scale=2.0000 norm=4.8670                                                                                             \n",
      "[iter 200] loss=2.2350 val_loss=2.4507 scale=2.0000 norm=3.5506                                                                                             \n",
      "== Early stopping achieved.                                                                                                                                 \n",
      "== Best iteration / VAL228 (val_loss=2.4357)                                                                                                                \n",
      " 93%|█████████████████████████████████████████████████████████████████████████████▏     | 93/100 [3:52:15<09:38, 82.67s/trial, best loss: 2.380576009400627]"
     ]
    },
    {
     "name": "stderr",
     "output_type": "stream",
     "text": [
      "2021-07-28 11:29:43 INFO     {'Base': DecisionTreeRegressor(criterion='friedman_mse', max_leaf_nodes=127,\n",
      "                      min_samples_split=3, random_state=1), 'col_sample': 0.8, 'learning_rate': 0.01, 'minibatch_frac': 0.7000000000000001, 'n_estimators': 10000000, 'verbose_eval': 100, 'random_state': 13}\n"
     ]
    },
    {
     "name": "stdout",
     "output_type": "stream",
     "text": [
      "\r",
      " 94%|██████████████████████████████████████████████████████████████████████████████     | 94/100 [3:52:15<07:07, 71.19s/trial, best loss: 2.380576009400627]"
     ]
    },
    {
     "name": "stderr",
     "output_type": "stream",
     "text": [
      "2021-07-28 11:29:43 INFO     build_posterior_wrapper took 0.000984 seconds\n",
      "2021-07-28 11:29:43 INFO     TPE using 94/94 trials with best loss 2.380576\n"
     ]
    },
    {
     "name": "stdout",
     "output_type": "stream",
     "text": [
      "{'Base': DecisionTreeRegressor(criterion='friedman_mse', max_leaf_nodes=63,                                                                                 \n",
      "                      min_samples_split=3, random_state=1), 'col_sample': 1.0, 'learning_rate': 0.004, 'minibatch_frac': 1.0, 'n_estimators': 10000000, 'verbose_eval': 100, 'random_state': 13}\n",
      "[iter 0] loss=3.8345 val_loss=3.8326 scale=2.0000 norm=18.1911                                                                                              \n",
      "[iter 100] loss=3.2895 val_loss=3.2934 scale=2.0000 norm=9.3422                                                                                             \n",
      "[iter 200] loss=2.9640 val_loss=2.9758 scale=2.0000 norm=5.9432                                                                                             \n",
      "[iter 300] loss=2.7016 val_loss=2.7311 scale=2.0000 norm=4.6957                                                                                             \n",
      "[iter 400] loss=2.4991 val_loss=2.5615 scale=2.0000 norm=4.2353                                                                                             \n",
      "[iter 500] loss=2.3498 val_loss=2.4611 scale=2.0000 norm=4.0294                                                                                             \n",
      "[iter 600] loss=2.2402 val_loss=2.4128 scale=2.0000 norm=3.8997                                                                                             \n",
      "== Early stopping achieved.                                                                                                                                 \n",
      "== Best iteration / VAL689 (val_loss=2.3996)                                                                                                                \n",
      " 94%|██████████████████████████████████████████████████████████████████████████████     | 94/100 [3:55:07<07:07, 71.19s/trial, best loss: 2.380576009400627]"
     ]
    },
    {
     "name": "stderr",
     "output_type": "stream",
     "text": [
      "2021-07-28 11:32:35 INFO     {'Base': DecisionTreeRegressor(criterion='friedman_mse', max_leaf_nodes=63,\n",
      "                      min_samples_split=3, random_state=1), 'col_sample': 1.0, 'learning_rate': 0.004, 'minibatch_frac': 1.0, 'n_estimators': 10000000, 'verbose_eval': 100, 'random_state': 13}\n"
     ]
    },
    {
     "name": "stdout",
     "output_type": "stream",
     "text": [
      "\r",
      " 95%|█████████████████████████████████████████████████████████████████████████████▉    | 95/100 [3:55:07<08:27, 101.50s/trial, best loss: 2.380576009400627]"
     ]
    },
    {
     "name": "stderr",
     "output_type": "stream",
     "text": [
      "2021-07-28 11:32:35 INFO     build_posterior_wrapper took 0.000999 seconds\n",
      "2021-07-28 11:32:35 INFO     TPE using 95/95 trials with best loss 2.380576\n"
     ]
    },
    {
     "name": "stdout",
     "output_type": "stream",
     "text": [
      "{'Base': DecisionTreeRegressor(criterion='friedman_mse', max_leaf_nodes=63,                                                                                 \n",
      "                      min_samples_split=3, random_state=1), 'col_sample': 0.7000000000000001, 'learning_rate': 0.003, 'minibatch_frac': 0.7000000000000001, 'n_estimators': 10000000, 'verbose_eval': 100, 'random_state': 13}\n",
      "[iter 0] loss=3.8314 val_loss=3.8357 scale=2.0000 norm=18.1206                                                                                              \n",
      "[iter 100] loss=3.3897 val_loss=3.3917 scale=2.0000 norm=10.9750                                                                                            \n",
      "[iter 200] loss=3.1223 val_loss=3.1297 scale=2.0000 norm=7.3109                                                                                             \n",
      "[iter 300] loss=2.8967 val_loss=2.9103 scale=2.0000 norm=5.5636                                                                                             \n",
      "[iter 400] loss=2.7031 val_loss=2.7302 scale=2.0000 norm=4.7031                                                                                             \n",
      "[iter 500] loss=2.5453 val_loss=2.5921 scale=2.0000 norm=4.3136                                                                                             \n",
      "[iter 600] loss=2.4135 val_loss=2.4951 scale=2.0000 norm=4.0679                                                                                             \n",
      "[iter 700] loss=2.3184 val_loss=2.4337 scale=2.0000 norm=3.9729                                                                                             \n",
      "[iter 800] loss=2.2450 val_loss=2.3998 scale=2.0000 norm=3.9102                                                                                             \n",
      "[iter 900] loss=2.1774 val_loss=2.3855 scale=2.0000 norm=3.8001                                                                                             \n",
      "== Early stopping achieved.                                                                                                                                 \n",
      "== Best iteration / VAL935 (val_loss=2.3844)                                                                                                                \n",
      " 95%|█████████████████████████████████████████████████████████████████████████████▉    | 95/100 [3:57:08<08:27, 101.50s/trial, best loss: 2.380576009400627]"
     ]
    },
    {
     "name": "stderr",
     "output_type": "stream",
     "text": [
      "2021-07-28 11:34:35 INFO     {'Base': DecisionTreeRegressor(criterion='friedman_mse', max_leaf_nodes=63,\n",
      "                      min_samples_split=3, random_state=1), 'col_sample': 0.7000000000000001, 'learning_rate': 0.003, 'minibatch_frac': 0.7000000000000001, 'n_estimators': 10000000, 'verbose_eval': 100, 'random_state': 13}\n"
     ]
    },
    {
     "name": "stdout",
     "output_type": "stream",
     "text": [
      "\r",
      " 96%|██████████████████████████████████████████████████████████████████████████████▋   | 96/100 [3:57:08<07:08, 107.17s/trial, best loss: 2.380576009400627]"
     ]
    },
    {
     "name": "stderr",
     "output_type": "stream",
     "text": [
      "2021-07-28 11:34:35 INFO     build_posterior_wrapper took 0.002033 seconds\n",
      "2021-07-28 11:34:35 INFO     TPE using 96/96 trials with best loss 2.380576\n"
     ]
    },
    {
     "name": "stdout",
     "output_type": "stream",
     "text": [
      "{'Base': DecisionTreeRegressor(criterion='friedman_mse', max_leaf_nodes=255,                                                                                \n",
      "                      min_samples_split=3, random_state=1), 'col_sample': 0.6000000000000001, 'learning_rate': 0.008, 'minibatch_frac': 0.5, 'n_estimators': 10000000, 'verbose_eval': 100, 'random_state': 13}\n",
      "[iter 0] loss=3.8284 val_loss=3.8202 scale=2.0000 norm=18.0475                                                                                              \n",
      "[iter 100] loss=2.9432 val_loss=2.9778 scale=2.0000 norm=5.7340                                                                                             \n",
      "[iter 200] loss=2.3541 val_loss=2.5391 scale=2.0000 norm=3.4097                                                                                             \n",
      "== Early stopping achieved.                                                                                                                                 \n",
      "== Best iteration / VAL253 (val_loss=2.4713)                                                                                                                \n",
      " 96%|██████████████████████████████████████████████████████████████████████████████▋   | 96/100 [3:57:35<07:08, 107.17s/trial, best loss: 2.380576009400627]"
     ]
    },
    {
     "name": "stderr",
     "output_type": "stream",
     "text": [
      "2021-07-28 11:35:02 INFO     {'Base': DecisionTreeRegressor(criterion='friedman_mse', max_leaf_nodes=255,\n",
      "                      min_samples_split=3, random_state=1), 'col_sample': 0.6000000000000001, 'learning_rate': 0.008, 'minibatch_frac': 0.5, 'n_estimators': 10000000, 'verbose_eval': 100, 'random_state': 13}\n"
     ]
    },
    {
     "name": "stdout",
     "output_type": "stream",
     "text": [
      "\r",
      " 97%|████████████████████████████████████████████████████████████████████████████████▌  | 97/100 [3:57:35<04:09, 83.17s/trial, best loss: 2.380576009400627]"
     ]
    },
    {
     "name": "stderr",
     "output_type": "stream",
     "text": [
      "2021-07-28 11:35:02 INFO     build_posterior_wrapper took 0.001950 seconds\n",
      "2021-07-28 11:35:02 INFO     TPE using 97/97 trials with best loss 2.380576\n"
     ]
    },
    {
     "name": "stdout",
     "output_type": "stream",
     "text": [
      "{'Base': DecisionTreeRegressor(criterion='friedman_mse', max_leaf_nodes=63,                                                                                 \n",
      "                      min_samples_split=3, random_state=1), 'col_sample': 0.9, 'learning_rate': 0.009000000000000001, 'minibatch_frac': 0.8, 'n_estimators': 10000000, 'verbose_eval': 100, 'random_state': 13}\n",
      "[iter 0] loss=3.8347 val_loss=3.8174 scale=2.0000 norm=18.2020                                                                                              \n",
      "[iter 100] loss=2.8907 val_loss=2.9019 scale=2.0000 norm=5.4764                                                                                             \n",
      "[iter 200] loss=2.4125 val_loss=2.4962 scale=2.0000 norm=4.0900                                                                                             \n",
      "[iter 300] loss=2.1754 val_loss=2.3925 scale=2.0000 norm=3.8190                                                                                             \n",
      "== Early stopping achieved.                                                                                                                                 \n",
      "== Best iteration / VAL310 (val_loss=2.3918)                                                                                                                \n",
      " 97%|████████████████████████████████████████████████████████████████████████████████▌  | 97/100 [3:58:33<04:09, 83.17s/trial, best loss: 2.380576009400627]"
     ]
    },
    {
     "name": "stderr",
     "output_type": "stream",
     "text": [
      "2021-07-28 11:36:01 INFO     {'Base': DecisionTreeRegressor(criterion='friedman_mse', max_leaf_nodes=63,\n",
      "                      min_samples_split=3, random_state=1), 'col_sample': 0.9, 'learning_rate': 0.009000000000000001, 'minibatch_frac': 0.8, 'n_estimators': 10000000, 'verbose_eval': 100, 'random_state': 13}\n"
     ]
    },
    {
     "name": "stdout",
     "output_type": "stream",
     "text": [
      "\r",
      " 98%|█████████████████████████████████████████████████████████████████████████████████▎ | 98/100 [3:58:33<02:31, 75.66s/trial, best loss: 2.380576009400627]"
     ]
    },
    {
     "name": "stderr",
     "output_type": "stream",
     "text": [
      "2021-07-28 11:36:01 INFO     build_posterior_wrapper took 0.002004 seconds\n",
      "2021-07-28 11:36:01 INFO     TPE using 98/98 trials with best loss 2.380576\n"
     ]
    },
    {
     "name": "stdout",
     "output_type": "stream",
     "text": [
      "{'Base': DecisionTreeRegressor(criterion='friedman_mse', max_leaf_nodes=63,                                                                                 \n",
      "                      min_samples_split=3, random_state=1), 'col_sample': 0.8, 'learning_rate': 0.002, 'minibatch_frac': 0.6000000000000001, 'n_estimators': 10000000, 'verbose_eval': 100, 'random_state': 13}\n",
      "[iter 0] loss=3.8305 val_loss=3.8388 scale=2.0000 norm=18.0903                                                                                              \n",
      "[iter 100] loss=3.4968 val_loss=3.4963 scale=2.0000 norm=12.9109                                                                                            \n",
      "[iter 200] loss=3.2908 val_loss=3.2962 scale=2.0000 norm=9.3849                                                                                             \n",
      "[iter 300] loss=3.1173 val_loss=3.1273 scale=2.0000 norm=7.2137                                                                                             \n",
      "[iter 400] loss=2.9630 val_loss=2.9769 scale=2.0000 norm=5.9161                                                                                             \n",
      "[iter 500] loss=2.8245 val_loss=2.8435 scale=2.0000 norm=5.1678                                                                                             \n",
      "[iter 600] loss=2.6964 val_loss=2.7279 scale=2.0000 norm=4.6448                                                                                             \n",
      "[iter 700] loss=2.5898 val_loss=2.6313 scale=2.0000 norm=4.3952                                                                                             \n",
      "[iter 800] loss=2.4975 val_loss=2.5541 scale=2.0000 norm=4.2354                                                                                             \n",
      "[iter 900] loss=2.4151 val_loss=2.4941 scale=2.0000 norm=4.1053                                                                                             \n",
      "[iter 1000] loss=2.3439 val_loss=2.4500 scale=2.0000 norm=4.0007                                                                                            \n",
      "[iter 1100] loss=2.2897 val_loss=2.4189 scale=2.0000 norm=3.9606                                                                                            \n",
      "[iter 1200] loss=2.2329 val_loss=2.4001 scale=2.0000 norm=3.8565                                                                                            \n",
      "[iter 1300] loss=2.1972 val_loss=2.3892 scale=2.0000 norm=3.8512                                                                                            \n",
      "[iter 1400] loss=2.1572 val_loss=2.3861 scale=2.0000 norm=3.7741                                                                                            \n",
      "== Early stopping achieved.                                                                                                                                 \n",
      "== Best iteration / VAL1396 (val_loss=2.3860)                                                                                                               \n",
      " 98%|█████████████████████████████████████████████████████████████████████████████████▎ | 98/100 [4:01:35<02:31, 75.66s/trial, best loss: 2.380576009400627]"
     ]
    },
    {
     "name": "stderr",
     "output_type": "stream",
     "text": [
      "2021-07-28 11:39:02 INFO     {'Base': DecisionTreeRegressor(criterion='friedman_mse', max_leaf_nodes=63,\n",
      "                      min_samples_split=3, random_state=1), 'col_sample': 0.8, 'learning_rate': 0.002, 'minibatch_frac': 0.6000000000000001, 'n_estimators': 10000000, 'verbose_eval': 100, 'random_state': 13}\n"
     ]
    },
    {
     "name": "stdout",
     "output_type": "stream",
     "text": [
      "\r",
      " 99%|█████████████████████████████████████████████████████████████████████████████████▏| 99/100 [4:01:35<01:47, 107.50s/trial, best loss: 2.380576009400627]"
     ]
    },
    {
     "name": "stderr",
     "output_type": "stream",
     "text": [
      "2021-07-28 11:39:02 INFO     build_posterior_wrapper took 0.002924 seconds\n",
      "2021-07-28 11:39:02 INFO     TPE using 99/99 trials with best loss 2.380576\n"
     ]
    },
    {
     "name": "stdout",
     "output_type": "stream",
     "text": [
      "{'Base': DecisionTreeRegressor(criterion='friedman_mse', max_leaf_nodes=127,                                                                                \n",
      "                      min_samples_split=3, random_state=1), 'col_sample': 0.5, 'learning_rate': 0.007, 'minibatch_frac': 0.7000000000000001, 'n_estimators': 10000000, 'verbose_eval': 100, 'random_state': 13}\n",
      "[iter 0] loss=3.8314 val_loss=3.8233 scale=2.0000 norm=18.1206                                                                                              \n",
      "[iter 100] loss=3.0576 val_loss=3.0725 scale=2.0000 norm=6.7581                                                                                             \n",
      "[iter 200] loss=2.5686 val_loss=2.6427 scale=2.0000 norm=4.2353                                                                                             \n",
      "[iter 300] loss=2.2379 val_loss=2.4518 scale=2.0000 norm=3.6266                                                                                             \n",
      "== Early stopping achieved.                                                                                                                                 \n",
      "== Best iteration / VAL344 (val_loss=2.4355)                                                                                                                \n",
      " 99%|█████████████████████████████████████████████████████████████████████████████████▏| 99/100 [4:02:16<01:47, 107.50s/trial, best loss: 2.380576009400627]"
     ]
    },
    {
     "name": "stderr",
     "output_type": "stream",
     "text": [
      "2021-07-28 11:39:44 INFO     {'Base': DecisionTreeRegressor(criterion='friedman_mse', max_leaf_nodes=127,\n",
      "                      min_samples_split=3, random_state=1), 'col_sample': 0.5, 'learning_rate': 0.007, 'minibatch_frac': 0.7000000000000001, 'n_estimators': 10000000, 'verbose_eval': 100, 'random_state': 13}\n"
     ]
    },
    {
     "name": "stdout",
     "output_type": "stream",
     "text": [
      "100%|█████████████████████████████████████████████████████████████████████████████████| 100/100 [4:02:16<00:00, 145.37s/trial, best loss: 2.380576009400627]"
     ]
    },
    {
     "name": "stderr",
     "output_type": "stream",
     "text": [
      "2021-07-28 11:39:44 INFO     ...done\n"
     ]
    },
    {
     "name": "stdout",
     "output_type": "stream",
     "text": [
      "\n"
     ]
    }
   ],
   "source": [
    "# Departure \n",
    "\n",
    "TRIALS = Trials()\n",
    "logger.info(\"Start parameter optimization...\")\n",
    "\n",
    "\n",
    "with warnings.catch_warnings():\n",
    "    warnings.simplefilter(\"ignore\")\n",
    "    best = fmin(fn=objective_a,\n",
    "                space=space,\n",
    "                algo=tpe.suggest,\n",
    "                max_evals=100,\n",
    "                trials=TRIALS)\n",
    "logger.info(\"...done\")"
   ]
  },
  {
   "cell_type": "code",
   "execution_count": 33,
   "id": "9ca9932c",
   "metadata": {
    "ExecuteTime": {
     "end_time": "2021-07-28T02:42:00.984772Z",
     "start_time": "2021-07-28T02:42:00.961548Z"
    }
   },
   "outputs": [
    {
     "data": {
      "text/plain": [
       "{'Base': DecisionTreeRegressor(criterion='friedman_mse', max_leaf_nodes=63,\n",
       "                       min_samples_split=3, random_state=1),\n",
       " 'col_sample': 0.6000000000000001,\n",
       " 'learning_rate': 0.009000000000000001,\n",
       " 'minibatch_frac': 1.0}"
      ]
     },
     "execution_count": 33,
     "metadata": {},
     "output_type": "execute_result"
    }
   ],
   "source": [
    "best_params = space_eval(space, best)\n",
    "best_params"
   ]
  },
  {
   "cell_type": "markdown",
   "id": "d1fc4e39",
   "metadata": {},
   "source": [
    "## NGBoost"
   ]
  },
  {
   "cell_type": "code",
   "execution_count": 10,
   "id": "439b3d6f",
   "metadata": {
    "ExecuteTime": {
     "end_time": "2021-07-29T05:38:56.075631Z",
     "start_time": "2021-07-29T05:31:16.295531Z"
    }
   },
   "outputs": [
    {
     "name": "stdout",
     "output_type": "stream",
     "text": [
      "[iter 0] loss=3.8347 val_loss=3.8420 scale=2.0000 norm=18.2020\n",
      "[iter 100] loss=3.6235 val_loss=3.6285 scale=2.0000 norm=15.1905\n",
      "[iter 200] loss=3.4880 val_loss=3.4959 scale=2.0000 norm=12.7322\n",
      "[iter 300] loss=3.3786 val_loss=3.3888 scale=2.0000 norm=10.7651\n",
      "[iter 400] loss=3.2837 val_loss=3.2936 scale=2.0000 norm=9.2872\n",
      "[iter 500] loss=3.1939 val_loss=3.2056 scale=2.0000 norm=8.0929\n",
      "[iter 600] loss=3.1045 val_loss=3.1224 scale=2.0000 norm=7.0648\n",
      "[iter 700] loss=3.0231 val_loss=3.0437 scale=2.0000 norm=6.3304\n",
      "[iter 800] loss=2.9425 val_loss=2.9691 scale=2.0000 norm=5.7035\n",
      "[iter 900] loss=2.8662 val_loss=2.8985 scale=2.0000 norm=5.2475\n",
      "[iter 1000] loss=2.7938 val_loss=2.8321 scale=2.0000 norm=4.8883\n",
      "[iter 1100] loss=2.7230 val_loss=2.7702 scale=2.0000 norm=4.5895\n",
      "[iter 1200] loss=2.6553 val_loss=2.7129 scale=2.0000 norm=4.3377\n",
      "[iter 1300] loss=2.5911 val_loss=2.6607 scale=2.0000 norm=4.1761\n",
      "[iter 1400] loss=2.5303 val_loss=2.6138 scale=2.0000 norm=4.0313\n",
      "[iter 1500] loss=2.4741 val_loss=2.5721 scale=2.0000 norm=3.9046\n",
      "[iter 1600] loss=2.4199 val_loss=2.5357 scale=2.0000 norm=3.8038\n",
      "[iter 1700] loss=2.3676 val_loss=2.5048 scale=2.0000 norm=3.7153\n",
      "[iter 1800] loss=2.3201 val_loss=2.4791 scale=2.0000 norm=3.6481\n",
      "[iter 1900] loss=2.2754 val_loss=2.4584 scale=2.0000 norm=3.5936\n",
      "[iter 2000] loss=2.2325 val_loss=2.4428 scale=2.0000 norm=3.5336\n",
      "[iter 2100] loss=2.1924 val_loss=2.4317 scale=2.0000 norm=3.4763\n",
      "[iter 2200] loss=2.1546 val_loss=2.4253 scale=2.0000 norm=3.4248\n",
      "== Early stopping achieved.\n",
      "== Best iteration / VAL2270 (val_loss=2.4232)\n"
     ]
    },
    {
     "data": {
      "text/plain": [
       "NGBRegressor(Base=DecisionTreeRegressor(criterion='friedman_mse',\n",
       "                                        max_leaf_nodes=127, min_samples_split=3,\n",
       "                                        random_state=1),\n",
       "             col_sample=0.8, learning_rate=0.001, minibatch_frac=0.8,\n",
       "             n_estimators=10000000,\n",
       "             random_state=RandomState(MT19937) at 0x2E5B376CA40, tol=1e-05)"
      ]
     },
     "execution_count": 10,
     "metadata": {},
     "output_type": "execute_result"
    }
   ],
   "source": [
    "# Arrival\n",
    "\n",
    "tree_learner = DecisionTreeRegressor(criterion = \"friedman_mse\",                 # “mse”, “friedman_mse”, “mae”, “poisson”\n",
    "                                     min_samples_split = 3,             # The minimum number of samples required to split an internal node\n",
    "                                     min_samples_leaf = 1,              # The minimum number of samples required to be at a leaf node\n",
    "                                     min_weight_fraction_leaf = 0.0,    # The minimum weighted fraction of the sum total of weights required to be at a leaf node\n",
    "                                     max_depth = None,                  # The maximum depth of the tree\n",
    "                                     max_leaf_nodes = 127,              # Grow a tree with 'max_leaf_nodes' in best-first fashion\n",
    "                                     splitter = \"best\",                 # The strategy used to choose the split at each node\n",
    "                                     random_state = seed)\n",
    "\n",
    "\n",
    "ngb_arrival = NGBRegressor(Dist = Normal,               # A distribution from ngboost.distns : Normal, LogNormal, Exponential...\n",
    "                           Score = MLE,            # rule to compare probabilistic predictions P̂ to the observed data y, from ngboost.scores : LogScore, CRPScore...\n",
    "                           Base = tree_learner,         # base learner to use in the boosting algorithm\n",
    "                           natural_gradient = True,     # logical flag indicating whether the natural gradient should be used\n",
    "                           verbose = True,\n",
    "                           n_estimators = 10000000, \n",
    "                           learning_rate = 0.001,\n",
    "                           minibatch_frac = 0.8,        # the percent subsample of rows to use in each boosting iteration\n",
    "                           col_sample = 0.8,            \n",
    "                           tol = 1e-5,                  # numerical tolerance to be used in optimization\n",
    "                           random_state = 13)\n",
    "\n",
    "ngb_arrival.fit(X_train_a, y_train_a,\n",
    "                X_val = X_val_a,\n",
    "                Y_val = y_val_a,\n",
    "                sample_weight = None,                   # Weights of training data\n",
    "                val_sample_weight = None,               # Weights of eval data\n",
    "                train_loss_monitor = None,              # custom score or set of scores to track on the training set during training\n",
    "                val_loss_monitor = None,                # custom score or set of scores to track on the validation set during training\n",
    "                early_stopping_rounds = 2)"
   ]
  },
  {
   "cell_type": "code",
   "execution_count": 9,
   "id": "d55ad61f",
   "metadata": {
    "ExecuteTime": {
     "end_time": "2021-07-26T05:28:13.761809Z",
     "start_time": "2021-07-26T05:24:57.398709Z"
    }
   },
   "outputs": [
    {
     "name": "stdout",
     "output_type": "stream",
     "text": [
      "[iter 0] loss=3.9479 val_loss=3.9350 scale=2.0000 norm=20.8821\n",
      "[iter 100] loss=3.7300 val_loss=3.7299 scale=2.0000 norm=17.1325\n",
      "[iter 200] loss=3.5941 val_loss=3.5947 scale=2.0000 norm=14.3145\n",
      "[iter 300] loss=3.4794 val_loss=3.4836 scale=2.0000 norm=11.9403\n",
      "[iter 400] loss=3.3748 val_loss=3.3821 scale=2.0000 norm=10.0322\n",
      "[iter 500] loss=3.2743 val_loss=3.2871 scale=2.0000 norm=8.4558\n",
      "[iter 600] loss=3.1806 val_loss=3.1965 scale=2.0000 norm=7.2549\n",
      "[iter 700] loss=3.0898 val_loss=3.1093 scale=2.0000 norm=6.3017\n",
      "[iter 800] loss=2.9978 val_loss=3.0256 scale=2.0000 norm=5.4791\n",
      "[iter 900] loss=2.9094 val_loss=2.9450 scale=2.0000 norm=4.8926\n",
      "[iter 1000] loss=2.8282 val_loss=2.8680 scale=2.0000 norm=4.4429\n",
      "[iter 1100] loss=2.7422 val_loss=2.7947 scale=2.0000 norm=4.0576\n",
      "[iter 1200] loss=2.6576 val_loss=2.7255 scale=2.0000 norm=3.7433\n",
      "[iter 1300] loss=2.5787 val_loss=2.6611 scale=2.0000 norm=3.5249\n",
      "[iter 1400] loss=2.4975 val_loss=2.6016 scale=2.0000 norm=3.3067\n",
      "[iter 1500] loss=2.4243 val_loss=2.5478 scale=2.0000 norm=3.1704\n",
      "[iter 1600] loss=2.3481 val_loss=2.5003 scale=2.0000 norm=3.0231\n",
      "[iter 1700] loss=2.2767 val_loss=2.4596 scale=2.0000 norm=2.9179\n",
      "[iter 1800] loss=2.2075 val_loss=2.4259 scale=2.0000 norm=2.8264\n",
      "[iter 1900] loss=2.1442 val_loss=2.4000 scale=2.0000 norm=2.7695\n",
      "[iter 2000] loss=2.0814 val_loss=2.3821 scale=2.0000 norm=2.6944\n",
      "[iter 2100] loss=2.0180 val_loss=2.3731 scale=2.0000 norm=2.6143\n",
      "== Early stopping achieved.\n",
      "== Best iteration / VAL2146 (val_loss=2.3719)\n"
     ]
    },
    {
     "data": {
      "text/plain": [
       "NGBRegressor(Base=DecisionTreeRegressor(criterion='friedman_mse',\n",
       "                                        max_leaf_nodes=127, min_samples_split=3,\n",
       "                                        random_state=1),\n",
       "             col_sample=0.8, learning_rate=0.001, minibatch_frac=0.8,\n",
       "             n_estimators=10000000,\n",
       "             random_state=RandomState(MT19937) at 0x25D3D0C0840, tol=1e-05)"
      ]
     },
     "execution_count": 9,
     "metadata": {},
     "output_type": "execute_result"
    }
   ],
   "source": [
    "# Departure\n",
    "\n",
    "tree_learner = DecisionTreeRegressor(criterion = \"friedman_mse\",                 # “mse”, “friedman_mse”, “mae”, “poisson”\n",
    "                                     min_samples_split = 3,             # The minimum number of samples required to split an internal node\n",
    "                                     min_samples_leaf = 1,              # The minimum number of samples required to be at a leaf node\n",
    "                                     min_weight_fraction_leaf = 0.0,    # The minimum weighted fraction of the sum total of weights required to be at a leaf node\n",
    "                                     max_depth = None,                  # The maximum depth of the tree\n",
    "                                     max_leaf_nodes = 127,              # Grow a tree with 'max_leaf_nodes' in best-first fashion\n",
    "                                     splitter = \"best\",                 # The strategy used to choose the split at each node\n",
    "                                     random_state = seed)\n",
    "\n",
    "\n",
    "ngb_departure = NGBRegressor(Dist = Normal,               # A distribution from ngboost.distns : Normal, LogNormal, Exponential...\n",
    "                             Score = MLE,            # rule to compare probabilistic predictions P̂ to the observed data y, from ngboost.scores : LogScore, CRPScore...\n",
    "                             Base = tree_learner,         # base learner to use in the boosting algorithm\n",
    "                             natural_gradient = True,     # logical flag indicating whether the natural gradient should be used\n",
    "                             verbose = True,\n",
    "                             n_estimators = 10000000, \n",
    "                             learning_rate = 0.001,\n",
    "                             minibatch_frac = 0.8,        # the percent subsample of rows to use in each boosting iteration\n",
    "                             col_sample = 0.8,            \n",
    "                             tol = 1e-5,                  # numerical tolerance to be used in optimization\n",
    "                             random_state = 13)\n",
    "\n",
    "\n",
    "ngb_departure.fit(X_train_d, y_train_d,\n",
    "                X_val = X_val_d,\n",
    "                Y_val = y_val_d,\n",
    "                sample_weight = None,                   # Weights of training data\n",
    "                val_sample_weight = None,               # Weights of eval data\n",
    "                train_loss_monitor = None,              # custom score or set of scores to track on the training set during training\n",
    "                val_loss_monitor = None,                # custom score or set of scores to track on the validation set during training\n",
    "                early_stopping_rounds = 10)"
   ]
  },
  {
   "cell_type": "code",
   "execution_count": 10,
   "id": "4a784943",
   "metadata": {
    "ExecuteTime": {
     "end_time": "2021-07-26T05:28:33.127905Z",
     "start_time": "2021-07-26T05:28:13.764298Z"
    }
   },
   "outputs": [
    {
     "name": "stdout",
     "output_type": "stream",
     "text": [
      "Train set RMSE :  1.668103108250137\n",
      "Test set RMSE :  2.711712704987977\n",
      "Train set R^2 :  0.9776415087323574\n",
      "Test set R^2 :  0.9391631861609595\n"
     ]
    }
   ],
   "source": [
    "# Arrival\n",
    "\n",
    "print(\"Train set RMSE : \" , np.sqrt(mean_squared_error(y_train_a, ngb_arrival.pred_dist(X_train_a).loc)))\n",
    "print(\"Test set RMSE : \" , np.sqrt(mean_squared_error(y_test_a, ngb_arrival.pred_dist(X_test_a).loc)))\n",
    "\n",
    "print(\"Train set R^2 : \" , r2_score(y_train_a, ngb_arrival.pred_dist(X_train_a).loc))\n",
    "print(\"Test set R^2 : \" , r2_score(y_test_a, ngb_arrival.pred_dist(X_test_a).loc))"
   ]
  },
  {
   "cell_type": "code",
   "execution_count": 11,
   "id": "14b14166",
   "metadata": {
    "ExecuteTime": {
     "end_time": "2021-07-26T05:28:53.538733Z",
     "start_time": "2021-07-26T05:28:33.129891Z"
    }
   },
   "outputs": [
    {
     "name": "stdout",
     "output_type": "stream",
     "text": [
      "Train set RMSE :  1.4508842206469068\n",
      "Test set RMSE :  2.6205980459942544\n",
      "Train set R^2 :  0.9864475680404998\n",
      "Test set R^2 :  0.9536169941521409\n"
     ]
    }
   ],
   "source": [
    "# Departure\n",
    "\n",
    "print(\"Train set RMSE : \" , np.sqrt(mean_squared_error(y_train_d, ngb_departure.pred_dist(X_train_d).loc)))\n",
    "print(\"Test set RMSE : \" , np.sqrt(mean_squared_error(y_test_d, ngb_departure.pred_dist(X_test_d).loc)))\n",
    "\n",
    "print(\"Train set R^2 : \" , r2_score(y_train_d, ngb_departure.pred_dist(X_train_d).loc))\n",
    "print(\"Test set R^2 : \" , r2_score(y_test_d, ngb_departure.pred_dist(X_test_d).loc))"
   ]
  },
  {
   "cell_type": "code",
   "execution_count": 11,
   "id": "9e159385",
   "metadata": {
    "ExecuteTime": {
     "end_time": "2021-07-29T05:39:20.651733Z",
     "start_time": "2021-07-29T05:38:57.060973Z"
    }
   },
   "outputs": [],
   "source": [
    "y_a_pred = ngb_arrival.pred_dist(X_a)\n",
    "predictions = pd.DataFrame(y_a_pred.loc, columns=['Predictions'])\n",
    "predictions_sd = pd.DataFrame(y_a_pred.scale, columns=['Standard Deviation'])\n",
    "predictions_upper = pd.DataFrame(y_a_pred.dist.interval(0.95)[1], columns=['95% Predictions_upper'])    # 95% prediction interval\n",
    "predictions_lower = pd.DataFrame(y_a_pred.dist.interval(0.95)[0], columns=['95% Predictions_lower'])\n",
    "Actual_AAR = pd.DataFrame({'Actual AAR':y_a})\n",
    "Date = pd.date_range(start='1/1/2019', end='12/31/2019 23:00', freq = '1H')\n",
    "\n",
    "prediction =  pd.concat([pd.DataFrame({'Date':Date}), Actual_AAR, predictions, predictions_sd, \n",
    "                         predictions_upper, predictions_lower], axis = 1)"
   ]
  },
  {
   "cell_type": "code",
   "execution_count": 13,
   "id": "bdd8f22a",
   "metadata": {
    "ExecuteTime": {
     "end_time": "2021-07-26T05:29:03.328631Z",
     "start_time": "2021-07-26T05:29:03.313642Z"
    }
   },
   "outputs": [
    {
     "data": {
      "text/html": [
       "<div>\n",
       "<style scoped>\n",
       "    .dataframe tbody tr th:only-of-type {\n",
       "        vertical-align: middle;\n",
       "    }\n",
       "\n",
       "    .dataframe tbody tr th {\n",
       "        vertical-align: top;\n",
       "    }\n",
       "\n",
       "    .dataframe thead th {\n",
       "        text-align: right;\n",
       "    }\n",
       "</style>\n",
       "<table border=\"1\" class=\"dataframe\">\n",
       "  <thead>\n",
       "    <tr style=\"text-align: right;\">\n",
       "      <th></th>\n",
       "      <th>Date</th>\n",
       "      <th>Actual AAR</th>\n",
       "      <th>Predictions</th>\n",
       "      <th>Standard Deviation</th>\n",
       "      <th>95% Predictions_upper</th>\n",
       "      <th>95% Predictions_lower</th>\n",
       "    </tr>\n",
       "  </thead>\n",
       "  <tbody>\n",
       "    <tr>\n",
       "      <th>0</th>\n",
       "      <td>2019-01-01 00:00:00</td>\n",
       "      <td>4.0</td>\n",
       "      <td>4.474189</td>\n",
       "      <td>2.913600</td>\n",
       "      <td>10.184741</td>\n",
       "      <td>-1.236363</td>\n",
       "    </tr>\n",
       "    <tr>\n",
       "      <th>1</th>\n",
       "      <td>2019-01-01 01:00:00</td>\n",
       "      <td>2.0</td>\n",
       "      <td>2.225787</td>\n",
       "      <td>3.097105</td>\n",
       "      <td>8.296000</td>\n",
       "      <td>-3.844426</td>\n",
       "    </tr>\n",
       "    <tr>\n",
       "      <th>2</th>\n",
       "      <td>2019-01-01 02:00:00</td>\n",
       "      <td>0.0</td>\n",
       "      <td>1.784956</td>\n",
       "      <td>3.161070</td>\n",
       "      <td>7.980540</td>\n",
       "      <td>-4.410629</td>\n",
       "    </tr>\n",
       "    <tr>\n",
       "      <th>3</th>\n",
       "      <td>2019-01-01 03:00:00</td>\n",
       "      <td>6.0</td>\n",
       "      <td>5.682507</td>\n",
       "      <td>3.049627</td>\n",
       "      <td>11.659667</td>\n",
       "      <td>-0.294652</td>\n",
       "    </tr>\n",
       "    <tr>\n",
       "      <th>4</th>\n",
       "      <td>2019-01-01 04:00:00</td>\n",
       "      <td>20.0</td>\n",
       "      <td>20.936671</td>\n",
       "      <td>2.103743</td>\n",
       "      <td>25.059932</td>\n",
       "      <td>16.813410</td>\n",
       "    </tr>\n",
       "    <tr>\n",
       "      <th>...</th>\n",
       "      <td>...</td>\n",
       "      <td>...</td>\n",
       "      <td>...</td>\n",
       "      <td>...</td>\n",
       "      <td>...</td>\n",
       "      <td>...</td>\n",
       "    </tr>\n",
       "    <tr>\n",
       "      <th>8755</th>\n",
       "      <td>2019-12-31 19:00:00</td>\n",
       "      <td>26.0</td>\n",
       "      <td>28.490084</td>\n",
       "      <td>2.584104</td>\n",
       "      <td>33.554834</td>\n",
       "      <td>23.425334</td>\n",
       "    </tr>\n",
       "    <tr>\n",
       "      <th>8756</th>\n",
       "      <td>2019-12-31 20:00:00</td>\n",
       "      <td>39.0</td>\n",
       "      <td>35.986559</td>\n",
       "      <td>3.638105</td>\n",
       "      <td>43.117115</td>\n",
       "      <td>28.856004</td>\n",
       "    </tr>\n",
       "    <tr>\n",
       "      <th>8757</th>\n",
       "      <td>2019-12-31 21:00:00</td>\n",
       "      <td>23.0</td>\n",
       "      <td>23.292020</td>\n",
       "      <td>2.240638</td>\n",
       "      <td>27.683590</td>\n",
       "      <td>18.900450</td>\n",
       "    </tr>\n",
       "    <tr>\n",
       "      <th>8758</th>\n",
       "      <td>2019-12-31 22:00:00</td>\n",
       "      <td>20.0</td>\n",
       "      <td>20.232461</td>\n",
       "      <td>2.245879</td>\n",
       "      <td>24.634304</td>\n",
       "      <td>15.830618</td>\n",
       "    </tr>\n",
       "    <tr>\n",
       "      <th>8759</th>\n",
       "      <td>2019-12-31 23:00:00</td>\n",
       "      <td>9.0</td>\n",
       "      <td>9.360592</td>\n",
       "      <td>2.610558</td>\n",
       "      <td>14.477191</td>\n",
       "      <td>4.243993</td>\n",
       "    </tr>\n",
       "  </tbody>\n",
       "</table>\n",
       "<p>8760 rows × 6 columns</p>\n",
       "</div>"
      ],
      "text/plain": [
       "                    Date  Actual AAR  Predictions  Standard Deviation  \\\n",
       "0    2019-01-01 00:00:00         4.0     4.474189            2.913600   \n",
       "1    2019-01-01 01:00:00         2.0     2.225787            3.097105   \n",
       "2    2019-01-01 02:00:00         0.0     1.784956            3.161070   \n",
       "3    2019-01-01 03:00:00         6.0     5.682507            3.049627   \n",
       "4    2019-01-01 04:00:00        20.0    20.936671            2.103743   \n",
       "...                  ...         ...          ...                 ...   \n",
       "8755 2019-12-31 19:00:00        26.0    28.490084            2.584104   \n",
       "8756 2019-12-31 20:00:00        39.0    35.986559            3.638105   \n",
       "8757 2019-12-31 21:00:00        23.0    23.292020            2.240638   \n",
       "8758 2019-12-31 22:00:00        20.0    20.232461            2.245879   \n",
       "8759 2019-12-31 23:00:00         9.0     9.360592            2.610558   \n",
       "\n",
       "      95% Predictions_upper  95% Predictions_lower  \n",
       "0                 10.184741              -1.236363  \n",
       "1                  8.296000              -3.844426  \n",
       "2                  7.980540              -4.410629  \n",
       "3                 11.659667              -0.294652  \n",
       "4                 25.059932              16.813410  \n",
       "...                     ...                    ...  \n",
       "8755              33.554834              23.425334  \n",
       "8756              43.117115              28.856004  \n",
       "8757              27.683590              18.900450  \n",
       "8758              24.634304              15.830618  \n",
       "8759              14.477191               4.243993  \n",
       "\n",
       "[8760 rows x 6 columns]"
      ]
     },
     "execution_count": 13,
     "metadata": {},
     "output_type": "execute_result"
    }
   ],
   "source": [
    "prediction"
   ]
  },
  {
   "cell_type": "code",
   "execution_count": null,
   "id": "232134b0",
   "metadata": {
    "ExecuteTime": {
     "end_time": "2021-07-15T06:03:57.711980Z",
     "start_time": "2021-07-15T06:03:57.684460Z"
    }
   },
   "outputs": [],
   "source": [
    "def plot_result(prediction, start=0, end=10):   \n",
    "\n",
    "    fig, ax = plt.subplots(figsize=(22, 10))\n",
    "    plt.fill_between(prediction['Date'][start:end], prediction['95% Predictions_lower'][start:end],  prediction['95% Predictions_upper'][start:end], \n",
    "                     label = '95% Prediction Interval', color='gray', alpha=0.5)\n",
    "    plt.plot(prediction['Date'][start:end], prediction['Predictions'][start:end], label = 'Predictions', lw=2)\n",
    "    plt.scatter(prediction['Date'][start:end], prediction['Predictions'][start:end], lw=3)\n",
    "    plt.scatter(prediction['Date'][start:end], prediction['Actual AAR'][start:end], label = 'Actual AAR', color='r', lw=3)\n",
    "\n",
    "    ax.legend(fontsize = 15)\n",
    "    #plt.title('Hourly Power Consumption Actual vs. Predicted Values with Prediction Intervals')\n",
    "    plt.xlabel('Time')\n",
    "    plt.ylabel('Arrivals per hour')\n",
    "    plt.show()"
   ]
  },
  {
   "cell_type": "code",
   "execution_count": null,
   "id": "f21152d9",
   "metadata": {
    "ExecuteTime": {
     "end_time": "2021-07-15T06:03:58.938008Z",
     "start_time": "2021-07-15T06:03:58.685943Z"
    }
   },
   "outputs": [],
   "source": [
    "plot_result(prediction, start = 8230, end = 8300)"
   ]
  },
  {
   "cell_type": "code",
   "execution_count": null,
   "id": "9cd241a1",
   "metadata": {},
   "outputs": [],
   "source": []
  },
  {
   "cell_type": "code",
   "execution_count": null,
   "id": "4a9e5e16",
   "metadata": {},
   "outputs": [],
   "source": []
  },
  {
   "cell_type": "code",
   "execution_count": null,
   "id": "9fe50bd8",
   "metadata": {},
   "outputs": [],
   "source": []
  },
  {
   "cell_type": "code",
   "execution_count": null,
   "id": "53e21330",
   "metadata": {},
   "outputs": [],
   "source": []
  },
  {
   "cell_type": "markdown",
   "id": "4b423fc3",
   "metadata": {},
   "source": [
    "# NGBoost - example"
   ]
  },
  {
   "cell_type": "markdown",
   "id": "75a8a268",
   "metadata": {},
   "source": [
    "## NGBoost"
   ]
  },
  {
   "cell_type": "code",
   "execution_count": null,
   "id": "635e08c1",
   "metadata": {
    "ExecuteTime": {
     "end_time": "2021-07-14T11:25:42.621308Z",
     "start_time": "2021-07-14T11:25:42.591003Z"
    }
   },
   "outputs": [],
   "source": [
    "X, Y = load_boston(True)\n",
    "X_train, X_test, Y_train, Y_test = train_test_split(X, Y, test_size=0.2)"
   ]
  },
  {
   "cell_type": "code",
   "execution_count": null,
   "id": "370f60c8",
   "metadata": {
    "ExecuteTime": {
     "end_time": "2021-07-14T13:13:17.860090Z",
     "start_time": "2021-07-14T13:13:17.783899Z"
    }
   },
   "outputs": [],
   "source": [
    "# prediction\n",
    "Y_preds = ngb.predict(X_test)"
   ]
  },
  {
   "cell_type": "code",
   "execution_count": null,
   "id": "e8f98b50",
   "metadata": {
    "ExecuteTime": {
     "end_time": "2021-07-14T13:13:53.299599Z",
     "start_time": "2021-07-14T13:13:53.284600Z"
    }
   },
   "outputs": [],
   "source": [
    "# estimated distributional parameters at a set of point\n",
    "Y_dists = ngb.pred_dist(X_test)\n",
    "\n",
    "Y_dists[0:5].params    \n",
    "\n",
    "# loc : mean\n",
    "# scale : standard deviation"
   ]
  },
  {
   "cell_type": "code",
   "execution_count": null,
   "id": "0b15ecec",
   "metadata": {
    "ExecuteTime": {
     "end_time": "2021-07-14T11:25:59.538442Z",
     "start_time": "2021-07-14T11:25:59.526411Z"
    }
   },
   "outputs": [],
   "source": [
    "# test Mean Squared Error\n",
    "test_MSE = mean_squared_error(Y_preds, Y_test)\n",
    "print('Test MSE', test_MSE)\n",
    "\n",
    "# test Negative Log Likelihood\n",
    "test_NLL = -Y_dists.logpdf(Y_test).mean()\n",
    "print('Test NLL', test_NLL)"
   ]
  },
  {
   "cell_type": "markdown",
   "id": "65258c05",
   "metadata": {},
   "source": [
    "## Survival Regression"
   ]
  },
  {
   "cell_type": "code",
   "execution_count": null,
   "id": "d91f86cf",
   "metadata": {},
   "outputs": [],
   "source": [
    "import numpy as np\n",
    "from ngboost import NGBSurvival\n",
    "from ngboost.distns import LogNormal"
   ]
  },
  {
   "cell_type": "code",
   "execution_count": null,
   "id": "000b121c",
   "metadata": {},
   "outputs": [],
   "source": []
  },
  {
   "cell_type": "code",
   "execution_count": null,
   "id": "159c16eb",
   "metadata": {},
   "outputs": [],
   "source": []
  },
  {
   "cell_type": "code",
   "execution_count": null,
   "id": "b673d0a9",
   "metadata": {},
   "outputs": [],
   "source": []
  },
  {
   "cell_type": "code",
   "execution_count": null,
   "id": "7c768413",
   "metadata": {},
   "outputs": [],
   "source": []
  },
  {
   "cell_type": "code",
   "execution_count": null,
   "id": "3b651557",
   "metadata": {},
   "outputs": [],
   "source": []
  },
  {
   "cell_type": "code",
   "execution_count": null,
   "id": "23c4eabf",
   "metadata": {},
   "outputs": [],
   "source": []
  },
  {
   "cell_type": "code",
   "execution_count": null,
   "id": "a15917e8",
   "metadata": {},
   "outputs": [],
   "source": []
  },
  {
   "cell_type": "markdown",
   "id": "a0d591c9",
   "metadata": {},
   "source": [
    "# Distribution Estimator"
   ]
  },
  {
   "cell_type": "code",
   "execution_count": null,
   "id": "c51debc4",
   "metadata": {},
   "outputs": [],
   "source": []
  }
 ],
 "metadata": {
  "kernelspec": {
   "display_name": "Python 3",
   "language": "python",
   "name": "python3"
  },
  "language_info": {
   "codemirror_mode": {
    "name": "ipython",
    "version": 3
   },
   "file_extension": ".py",
   "mimetype": "text/x-python",
   "name": "python",
   "nbconvert_exporter": "python",
   "pygments_lexer": "ipython3",
   "version": "3.8.10"
  },
  "toc": {
   "base_numbering": 1,
   "nav_menu": {},
   "number_sections": true,
   "sideBar": true,
   "skip_h1_title": false,
   "title_cell": "Table of Contents",
   "title_sidebar": "Contents",
   "toc_cell": false,
   "toc_position": {
    "height": "calc(100% - 180px)",
    "left": "10px",
    "top": "150px",
    "width": "214.475px"
   },
   "toc_section_display": true,
   "toc_window_display": true
  },
  "varInspector": {
   "cols": {
    "lenName": 16,
    "lenType": 16,
    "lenVar": 40
   },
   "kernels_config": {
    "python": {
     "delete_cmd_postfix": "",
     "delete_cmd_prefix": "del ",
     "library": "var_list.py",
     "varRefreshCmd": "print(var_dic_list())"
    },
    "r": {
     "delete_cmd_postfix": ") ",
     "delete_cmd_prefix": "rm(",
     "library": "var_list.r",
     "varRefreshCmd": "cat(var_dic_list()) "
    }
   },
   "types_to_exclude": [
    "module",
    "function",
    "builtin_function_or_method",
    "instance",
    "_Feature"
   ],
   "window_display": false
  }
 },
 "nbformat": 4,
 "nbformat_minor": 5
}
