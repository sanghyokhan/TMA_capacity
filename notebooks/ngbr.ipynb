{
 "cells": [
  {
   "cell_type": "code",
   "execution_count": 9,
   "id": "2ca3c213",
   "metadata": {
    "ExecuteTime": {
     "end_time": "2021-07-30T00:21:37.335961Z",
     "start_time": "2021-07-30T00:21:37.319917Z"
    }
   },
   "outputs": [],
   "source": [
    "import warnings\n",
    "import numpy as np\n",
    "import pandas as pd\n",
    "import matplotlib.pyplot as plt\n",
    "import seaborn as sns\n",
    "from pathlib import Path\n",
    "from sklearn.datasets import load_boston\n",
    "from sklearn.model_selection import train_test_split\n",
    "from sklearn.metrics import mean_squared_error, r2_score\n",
    "\n",
    "from sklearn.tree import DecisionTreeRegressor\n",
    "from ngboost import NGBRegressor\n",
    "from ngboost.distns import Normal, Poisson\n",
    "from ngboost.scores import CRPScore, MLE\n",
    "from ngboost.ngboost import NGBoost\n",
    "from sklearn.tree import DecisionTreeRegressor\n",
    "\n",
    "from hyperopt import hp, tpe, space_eval\n",
    "from hyperopt.pyll.base import scope\n",
    "from hyperopt.fmin import fmin\n",
    "from hyperopt import STATUS_OK, Trials\n",
    "\n",
    "import logging"
   ]
  },
  {
   "cell_type": "code",
   "execution_count": 2,
   "id": "ab1c6a7b",
   "metadata": {
    "ExecuteTime": {
     "end_time": "2021-07-30T00:20:41.647341Z",
     "start_time": "2021-07-30T00:20:41.638342Z"
    }
   },
   "outputs": [],
   "source": [
    "# options\n",
    "pd.set_option('max_columns',100)\n",
    "plt.style.use('fivethirtyeight')\n",
    "warnings.simplefilter('ignore')\n",
    "seed = 1"
   ]
  },
  {
   "cell_type": "code",
   "execution_count": 3,
   "id": "93f11730",
   "metadata": {
    "ExecuteTime": {
     "end_time": "2021-07-30T00:20:41.694366Z",
     "start_time": "2021-07-30T00:20:41.680337Z"
    }
   },
   "outputs": [],
   "source": [
    "# Data dirctory\n",
    "data_dir = Path('../data/')\n",
    "data_file = data_dir / 'data.csv'"
   ]
  },
  {
   "cell_type": "code",
   "execution_count": 4,
   "id": "a4917a61",
   "metadata": {
    "ExecuteTime": {
     "end_time": "2021-07-30T00:20:44.102096Z",
     "start_time": "2021-07-30T00:20:43.883933Z"
    }
   },
   "outputs": [],
   "source": [
    "# Data\n",
    "# 0:AAR / 1:EAD / 2:ADR / 3:EDD는 고정  , 나머지는 순서 상관 없음\n",
    "Data = pd.read_csv(data_file, index_col=0)"
   ]
  },
  {
   "cell_type": "markdown",
   "id": "ef731297",
   "metadata": {},
   "source": [
    "***\n",
    "***\n",
    "***"
   ]
  },
  {
   "cell_type": "markdown",
   "id": "67171ae7",
   "metadata": {},
   "source": [
    "# Data Selection"
   ]
  },
  {
   "cell_type": "code",
   "execution_count": 5,
   "id": "d675da2b",
   "metadata": {
    "ExecuteTime": {
     "end_time": "2021-07-30T00:20:47.334175Z",
     "start_time": "2021-07-30T00:20:46.998979Z"
    }
   },
   "outputs": [],
   "source": [
    "# 필요없는 것을 버리기\n",
    "Data_temp = Data.drop('TMP', axis=1)\n",
    "Data_temp = Data_temp.drop('TD', axis=1)\n",
    "Data_temp = Data_temp.drop('HM', axis=1)\n",
    "Data_temp = Data_temp.drop('PS', axis=1)\n",
    "Data_temp = Data_temp.drop('PA', axis=1)\n",
    "\n",
    "#고층바람 너무 높은 고도는 뺴자 \n",
    "Data_temp = Data_temp.drop('WD_400', axis=1)\n",
    "Data_temp = Data_temp.drop('WD_500', axis=1)\n",
    "Data_temp = Data_temp.drop('WD_700', axis=1)\n",
    "Data_temp = Data_temp.drop('WS_400', axis=1)\n",
    "Data_temp = Data_temp.drop('WS_500', axis=1)\n",
    "Data_temp = Data_temp.drop('WS_700', axis=1)\n",
    "\n",
    "# drop TAF\n",
    "for i in range(6,30,6):\n",
    "    Data_temp = Data_temp.drop(f'WDIR_t{i}', axis=1)\n",
    "    Data_temp = Data_temp.drop(f'WSPD_t{i}', axis=1)\n",
    "    Data_temp = Data_temp.drop(f'WG_t{i}', axis=1)\n",
    "    Data_temp = Data_temp.drop(f'VIS_t{i}', axis=1)\n",
    "    Data_temp = Data_temp.drop(f'WC_t{i}', axis=1)\n",
    "    Data_temp = Data_temp.drop(f'CLA_1LYR_t{i}', axis=1)\n",
    "    Data_temp = Data_temp.drop(f'BASE_1LYR_t{i}', axis=1)\n",
    "    Data_temp = Data_temp.drop(f'CLA_2LYR_t{i}', axis=1)\n",
    "    Data_temp = Data_temp.drop(f'BASE_2LYR_t{i}', axis=1)\n",
    "    Data_temp = Data_temp.drop(f'CLA_3LYR_t{i}', axis=1)\n",
    "    Data_temp = Data_temp.drop(f'BASE_3LYR_t{i}', axis=1)"
   ]
  },
  {
   "cell_type": "code",
   "execution_count": 6,
   "id": "979bf3e5",
   "metadata": {
    "ExecuteTime": {
     "end_time": "2021-07-30T00:20:47.699634Z",
     "start_time": "2021-07-30T00:20:47.509637Z"
    }
   },
   "outputs": [],
   "source": [
    "# 각 시간에 맞는 TAF로 나누기\n",
    "taf6 = [12,18,24]\n",
    "taf12 = [6,18,24]\n",
    "taf18 = [6,12,24]\n",
    "taf24 = [6,12,18]\n",
    "    \n",
    "# 각 시간에 맞는 taf 넣기\n",
    "data_taf = {}\n",
    "for i in range(6,30,6):\n",
    "    data_taf[f'Data_{i}'] = Data_temp    \n",
    "    data_taf[f'Data_{i}'] = data_taf[f'Data_{i}'].join(Data[f'WDIR_t{i}'])\n",
    "    data_taf[f'Data_{i}'] = data_taf[f'Data_{i}'].join(Data[f'WSPD_t{i}'])\n",
    "    data_taf[f'Data_{i}'] = data_taf[f'Data_{i}'].join(Data[f'WG_t{i}'])\n",
    "    data_taf[f'Data_{i}'] = data_taf[f'Data_{i}'].join(Data[f'VIS_t{i}'])\n",
    "    data_taf[f'Data_{i}'] = data_taf[f'Data_{i}'].join(Data[f'WC_t{i}'])\n",
    "    data_taf[f'Data_{i}'] = data_taf[f'Data_{i}'].join(Data[f'CLA_1LYR_t{i}'])\n",
    "    data_taf[f'Data_{i}'] = data_taf[f'Data_{i}'].join(Data[f'BASE_1LYR_t{i}'])\n",
    "    data_taf[f'Data_{i}'] = data_taf[f'Data_{i}'].join(Data[f'CLA_2LYR_t{i}'])\n",
    "    data_taf[f'Data_{i}'] = data_taf[f'Data_{i}'].join(Data[f'BASE_2LYR_t{i}'])\n",
    "    data_taf[f'Data_{i}'] = data_taf[f'Data_{i}'].join(Data[f'CLA_3LYR_t{i}'])\n",
    "    data_taf[f'Data_{i}'] = data_taf[f'Data_{i}'].join(Data[f'BASE_3LYR_t{i}'])\n",
    "    \n",
    "Data_6 = data_taf['Data_6']\n",
    "Data_12 = data_taf['Data_12']\n",
    "Data_18 = data_taf['Data_18']\n",
    "Data_24 = data_taf['Data_24']"
   ]
  },
  {
   "cell_type": "code",
   "execution_count": 34,
   "id": "037f31ce",
   "metadata": {
    "ExecuteTime": {
     "end_time": "2021-07-30T00:43:08.249171Z",
     "start_time": "2021-07-30T00:43:08.152017Z"
    }
   },
   "outputs": [
    {
     "name": "stdout",
     "output_type": "stream",
     "text": [
      "Training Data shape :  (26304, 46)\n"
     ]
    },
    {
     "data": {
      "text/html": [
       "<div>\n",
       "<style scoped>\n",
       "    .dataframe tbody tr th:only-of-type {\n",
       "        vertical-align: middle;\n",
       "    }\n",
       "\n",
       "    .dataframe tbody tr th {\n",
       "        vertical-align: top;\n",
       "    }\n",
       "\n",
       "    .dataframe thead th {\n",
       "        text-align: right;\n",
       "    }\n",
       "</style>\n",
       "<table border=\"1\" class=\"dataframe\">\n",
       "  <thead>\n",
       "    <tr style=\"text-align: right;\">\n",
       "      <th></th>\n",
       "      <th>EAD</th>\n",
       "      <th>EDD</th>\n",
       "      <th>year</th>\n",
       "      <th>month</th>\n",
       "      <th>day</th>\n",
       "      <th>hour</th>\n",
       "      <th>DayName</th>\n",
       "      <th>Arpt_cond</th>\n",
       "      <th>P_Airp</th>\n",
       "      <th>P_AAR</th>\n",
       "      <th>P_ADR</th>\n",
       "      <th>Arrival_remainder</th>\n",
       "      <th>Departure_remainder</th>\n",
       "      <th>WD_850</th>\n",
       "      <th>WD_925</th>\n",
       "      <th>WD_1000</th>\n",
       "      <th>WS_850</th>\n",
       "      <th>WS_925</th>\n",
       "      <th>WS_1000</th>\n",
       "      <th>WD</th>\n",
       "      <th>WSPD</th>\n",
       "      <th>WS_GST</th>\n",
       "      <th>VIS</th>\n",
       "      <th>WC</th>\n",
       "      <th>RN</th>\n",
       "      <th>CA_TOT</th>\n",
       "      <th>CLA_1LYR</th>\n",
       "      <th>BASE_1LYR</th>\n",
       "      <th>CLA_2LYR</th>\n",
       "      <th>BASE_2LYR</th>\n",
       "      <th>CLA_3LYR</th>\n",
       "      <th>BASE_3LYR</th>\n",
       "      <th>CLA_4LYR</th>\n",
       "      <th>BASE_4LYR</th>\n",
       "      <th>RVR</th>\n",
       "      <th>WDIR_t6</th>\n",
       "      <th>WSPD_t6</th>\n",
       "      <th>WG_t6</th>\n",
       "      <th>VIS_t6</th>\n",
       "      <th>WC_t6</th>\n",
       "      <th>CLA_1LYR_t6</th>\n",
       "      <th>BASE_1LYR_t6</th>\n",
       "      <th>CLA_2LYR_t6</th>\n",
       "      <th>BASE_2LYR_t6</th>\n",
       "      <th>CLA_3LYR_t6</th>\n",
       "      <th>BASE_3LYR_t6</th>\n",
       "    </tr>\n",
       "  </thead>\n",
       "  <tbody>\n",
       "    <tr>\n",
       "      <th>26299</th>\n",
       "      <td>9.0</td>\n",
       "      <td>8.0</td>\n",
       "      <td>2020</td>\n",
       "      <td>12</td>\n",
       "      <td>31</td>\n",
       "      <td>19</td>\n",
       "      <td>4</td>\n",
       "      <td>1.0</td>\n",
       "      <td>1.0</td>\n",
       "      <td>5.0</td>\n",
       "      <td>13.0</td>\n",
       "      <td>9.0</td>\n",
       "      <td>0.0</td>\n",
       "      <td>270.0</td>\n",
       "      <td>280.0</td>\n",
       "      <td>325.0</td>\n",
       "      <td>39.0</td>\n",
       "      <td>29.0</td>\n",
       "      <td>16.0</td>\n",
       "      <td>32</td>\n",
       "      <td>6</td>\n",
       "      <td>0.0</td>\n",
       "      <td>1000</td>\n",
       "      <td>1</td>\n",
       "      <td>0.0</td>\n",
       "      <td>0</td>\n",
       "      <td>0.0</td>\n",
       "      <td>400.0</td>\n",
       "      <td>0.0</td>\n",
       "      <td>400.0</td>\n",
       "      <td>0.0</td>\n",
       "      <td>400.0</td>\n",
       "      <td>0.0</td>\n",
       "      <td>400.0</td>\n",
       "      <td>1000.0</td>\n",
       "      <td>0.0</td>\n",
       "      <td>0.0</td>\n",
       "      <td>0.0</td>\n",
       "      <td>9999.0</td>\n",
       "      <td>0</td>\n",
       "      <td>0</td>\n",
       "      <td>400.0</td>\n",
       "      <td>0</td>\n",
       "      <td>400.0</td>\n",
       "      <td>0</td>\n",
       "      <td>400.0</td>\n",
       "    </tr>\n",
       "    <tr>\n",
       "      <th>26300</th>\n",
       "      <td>6.0</td>\n",
       "      <td>6.0</td>\n",
       "      <td>2020</td>\n",
       "      <td>12</td>\n",
       "      <td>31</td>\n",
       "      <td>20</td>\n",
       "      <td>4</td>\n",
       "      <td>1.0</td>\n",
       "      <td>1.0</td>\n",
       "      <td>11.0</td>\n",
       "      <td>11.0</td>\n",
       "      <td>0.0</td>\n",
       "      <td>0.0</td>\n",
       "      <td>270.0</td>\n",
       "      <td>280.0</td>\n",
       "      <td>325.0</td>\n",
       "      <td>39.0</td>\n",
       "      <td>29.0</td>\n",
       "      <td>16.0</td>\n",
       "      <td>31</td>\n",
       "      <td>11</td>\n",
       "      <td>0.0</td>\n",
       "      <td>1000</td>\n",
       "      <td>1</td>\n",
       "      <td>0.0</td>\n",
       "      <td>1</td>\n",
       "      <td>1.0</td>\n",
       "      <td>30.0</td>\n",
       "      <td>0.0</td>\n",
       "      <td>400.0</td>\n",
       "      <td>0.0</td>\n",
       "      <td>400.0</td>\n",
       "      <td>0.0</td>\n",
       "      <td>400.0</td>\n",
       "      <td>1000.0</td>\n",
       "      <td>0.0</td>\n",
       "      <td>0.0</td>\n",
       "      <td>0.0</td>\n",
       "      <td>9999.0</td>\n",
       "      <td>0</td>\n",
       "      <td>0</td>\n",
       "      <td>400.0</td>\n",
       "      <td>0</td>\n",
       "      <td>400.0</td>\n",
       "      <td>0</td>\n",
       "      <td>400.0</td>\n",
       "    </tr>\n",
       "    <tr>\n",
       "      <th>26301</th>\n",
       "      <td>3.0</td>\n",
       "      <td>8.0</td>\n",
       "      <td>2020</td>\n",
       "      <td>12</td>\n",
       "      <td>31</td>\n",
       "      <td>21</td>\n",
       "      <td>4</td>\n",
       "      <td>1.0</td>\n",
       "      <td>1.0</td>\n",
       "      <td>7.0</td>\n",
       "      <td>5.0</td>\n",
       "      <td>0.0</td>\n",
       "      <td>1.0</td>\n",
       "      <td>270.0</td>\n",
       "      <td>280.0</td>\n",
       "      <td>325.0</td>\n",
       "      <td>39.0</td>\n",
       "      <td>29.0</td>\n",
       "      <td>16.0</td>\n",
       "      <td>32</td>\n",
       "      <td>11</td>\n",
       "      <td>0.0</td>\n",
       "      <td>1000</td>\n",
       "      <td>1</td>\n",
       "      <td>0.0</td>\n",
       "      <td>2</td>\n",
       "      <td>2.0</td>\n",
       "      <td>30.0</td>\n",
       "      <td>0.0</td>\n",
       "      <td>400.0</td>\n",
       "      <td>0.0</td>\n",
       "      <td>400.0</td>\n",
       "      <td>0.0</td>\n",
       "      <td>400.0</td>\n",
       "      <td>1000.0</td>\n",
       "      <td>0.0</td>\n",
       "      <td>0.0</td>\n",
       "      <td>0.0</td>\n",
       "      <td>9999.0</td>\n",
       "      <td>0</td>\n",
       "      <td>0</td>\n",
       "      <td>400.0</td>\n",
       "      <td>0</td>\n",
       "      <td>400.0</td>\n",
       "      <td>0</td>\n",
       "      <td>400.0</td>\n",
       "    </tr>\n",
       "    <tr>\n",
       "      <th>26302</th>\n",
       "      <td>4.0</td>\n",
       "      <td>13.0</td>\n",
       "      <td>2020</td>\n",
       "      <td>12</td>\n",
       "      <td>31</td>\n",
       "      <td>22</td>\n",
       "      <td>4</td>\n",
       "      <td>1.0</td>\n",
       "      <td>1.0</td>\n",
       "      <td>3.0</td>\n",
       "      <td>9.0</td>\n",
       "      <td>0.0</td>\n",
       "      <td>0.0</td>\n",
       "      <td>270.0</td>\n",
       "      <td>280.0</td>\n",
       "      <td>325.0</td>\n",
       "      <td>39.0</td>\n",
       "      <td>29.0</td>\n",
       "      <td>16.0</td>\n",
       "      <td>34</td>\n",
       "      <td>9</td>\n",
       "      <td>0.0</td>\n",
       "      <td>1000</td>\n",
       "      <td>1</td>\n",
       "      <td>0.0</td>\n",
       "      <td>1</td>\n",
       "      <td>1.0</td>\n",
       "      <td>30.0</td>\n",
       "      <td>0.0</td>\n",
       "      <td>400.0</td>\n",
       "      <td>0.0</td>\n",
       "      <td>400.0</td>\n",
       "      <td>0.0</td>\n",
       "      <td>400.0</td>\n",
       "      <td>1000.0</td>\n",
       "      <td>0.0</td>\n",
       "      <td>0.0</td>\n",
       "      <td>0.0</td>\n",
       "      <td>9999.0</td>\n",
       "      <td>0</td>\n",
       "      <td>0</td>\n",
       "      <td>400.0</td>\n",
       "      <td>0</td>\n",
       "      <td>400.0</td>\n",
       "      <td>0</td>\n",
       "      <td>400.0</td>\n",
       "    </tr>\n",
       "    <tr>\n",
       "      <th>26303</th>\n",
       "      <td>1.0</td>\n",
       "      <td>15.0</td>\n",
       "      <td>2020</td>\n",
       "      <td>12</td>\n",
       "      <td>31</td>\n",
       "      <td>23</td>\n",
       "      <td>4</td>\n",
       "      <td>1.0</td>\n",
       "      <td>1.0</td>\n",
       "      <td>6.0</td>\n",
       "      <td>11.0</td>\n",
       "      <td>0.0</td>\n",
       "      <td>2.0</td>\n",
       "      <td>270.0</td>\n",
       "      <td>280.0</td>\n",
       "      <td>325.0</td>\n",
       "      <td>39.0</td>\n",
       "      <td>29.0</td>\n",
       "      <td>16.0</td>\n",
       "      <td>2</td>\n",
       "      <td>6</td>\n",
       "      <td>0.0</td>\n",
       "      <td>1000</td>\n",
       "      <td>1</td>\n",
       "      <td>0.0</td>\n",
       "      <td>0</td>\n",
       "      <td>0.0</td>\n",
       "      <td>400.0</td>\n",
       "      <td>0.0</td>\n",
       "      <td>400.0</td>\n",
       "      <td>0.0</td>\n",
       "      <td>400.0</td>\n",
       "      <td>0.0</td>\n",
       "      <td>400.0</td>\n",
       "      <td>1000.0</td>\n",
       "      <td>0.0</td>\n",
       "      <td>0.0</td>\n",
       "      <td>0.0</td>\n",
       "      <td>9999.0</td>\n",
       "      <td>0</td>\n",
       "      <td>0</td>\n",
       "      <td>400.0</td>\n",
       "      <td>0</td>\n",
       "      <td>400.0</td>\n",
       "      <td>0</td>\n",
       "      <td>400.0</td>\n",
       "    </tr>\n",
       "  </tbody>\n",
       "</table>\n",
       "</div>"
      ],
      "text/plain": [
       "       EAD   EDD  year  month  day  hour  DayName  Arpt_cond  P_Airp  P_AAR  \\\n",
       "26299  9.0   8.0  2020     12   31    19        4        1.0     1.0    5.0   \n",
       "26300  6.0   6.0  2020     12   31    20        4        1.0     1.0   11.0   \n",
       "26301  3.0   8.0  2020     12   31    21        4        1.0     1.0    7.0   \n",
       "26302  4.0  13.0  2020     12   31    22        4        1.0     1.0    3.0   \n",
       "26303  1.0  15.0  2020     12   31    23        4        1.0     1.0    6.0   \n",
       "\n",
       "       P_ADR  Arrival_remainder  Departure_remainder  WD_850  WD_925  WD_1000  \\\n",
       "26299   13.0                9.0                  0.0   270.0   280.0    325.0   \n",
       "26300   11.0                0.0                  0.0   270.0   280.0    325.0   \n",
       "26301    5.0                0.0                  1.0   270.0   280.0    325.0   \n",
       "26302    9.0                0.0                  0.0   270.0   280.0    325.0   \n",
       "26303   11.0                0.0                  2.0   270.0   280.0    325.0   \n",
       "\n",
       "       WS_850  WS_925  WS_1000  WD  WSPD  WS_GST   VIS  WC   RN  CA_TOT  \\\n",
       "26299    39.0    29.0     16.0  32     6     0.0  1000   1  0.0       0   \n",
       "26300    39.0    29.0     16.0  31    11     0.0  1000   1  0.0       1   \n",
       "26301    39.0    29.0     16.0  32    11     0.0  1000   1  0.0       2   \n",
       "26302    39.0    29.0     16.0  34     9     0.0  1000   1  0.0       1   \n",
       "26303    39.0    29.0     16.0   2     6     0.0  1000   1  0.0       0   \n",
       "\n",
       "       CLA_1LYR  BASE_1LYR  CLA_2LYR  BASE_2LYR  CLA_3LYR  BASE_3LYR  \\\n",
       "26299       0.0      400.0       0.0      400.0       0.0      400.0   \n",
       "26300       1.0       30.0       0.0      400.0       0.0      400.0   \n",
       "26301       2.0       30.0       0.0      400.0       0.0      400.0   \n",
       "26302       1.0       30.0       0.0      400.0       0.0      400.0   \n",
       "26303       0.0      400.0       0.0      400.0       0.0      400.0   \n",
       "\n",
       "       CLA_4LYR  BASE_4LYR     RVR  WDIR_t6  WSPD_t6  WG_t6  VIS_t6  WC_t6  \\\n",
       "26299       0.0      400.0  1000.0      0.0      0.0    0.0  9999.0      0   \n",
       "26300       0.0      400.0  1000.0      0.0      0.0    0.0  9999.0      0   \n",
       "26301       0.0      400.0  1000.0      0.0      0.0    0.0  9999.0      0   \n",
       "26302       0.0      400.0  1000.0      0.0      0.0    0.0  9999.0      0   \n",
       "26303       0.0      400.0  1000.0      0.0      0.0    0.0  9999.0      0   \n",
       "\n",
       "       CLA_1LYR_t6  BASE_1LYR_t6  CLA_2LYR_t6  BASE_2LYR_t6  CLA_3LYR_t6  \\\n",
       "26299            0         400.0            0         400.0            0   \n",
       "26300            0         400.0            0         400.0            0   \n",
       "26301            0         400.0            0         400.0            0   \n",
       "26302            0         400.0            0         400.0            0   \n",
       "26303            0         400.0            0         400.0            0   \n",
       "\n",
       "       BASE_3LYR_t6  \n",
       "26299         400.0  \n",
       "26300         400.0  \n",
       "26301         400.0  \n",
       "26302         400.0  \n",
       "26303         400.0  "
      ]
     },
     "execution_count": 34,
     "metadata": {},
     "output_type": "execute_result"
    }
   ],
   "source": [
    "# 예측할 시간에 맞는 Data로 넣기\n",
    "# 0-6 : Data_6 / 6-12 : Data_12 / 12-18 : Data_18 / 18-24 : Data_24\n",
    "Data_raw = Data_6\n",
    "Data_m = Data_6\n",
    "Data_m = Data_m.drop('AAR', axis=1)\n",
    "Data_m = Data_m.drop('ADR', axis=1)\n",
    "\n",
    "\n",
    "# Arrival\n",
    "y_a = Data_raw.AAR.to_numpy()\n",
    "X_a = Data_m.to_numpy()\n",
    "X_train_a, X_test_a, y_train_a, y_test_a = train_test_split(X_a, y_a, test_size = 0.1, random_state = seed)\n",
    "#X_train_a, X_val_a, y_train_a, y_val_a = train_test_split(X_train_a, y_train_a, test_size=0.11, random_state = 13) \n",
    "\n",
    "\n",
    "# Departure\n",
    "y_d = Data_raw.ADR.to_numpy()\n",
    "X_d = Data_m.to_numpy()\n",
    "X_train_d, X_test_d, y_train_d, y_test_d = train_test_split(X_d, y_d, test_size = 0.1, random_state = seed)\n",
    "#X_train_d, X_val_d, y_train_d, y_val_d = train_test_split(X_train_d, y_train_d, test_size=0.11, random_state = 13) \n",
    "\n",
    "# val은 hyperparameter 검증에 사용\n",
    "# 0.11 x 0.9 = 0.099\n",
    "\n",
    "print('Training Data shape : ', Data_m.shape)\n",
    "Data_m.tail()"
   ]
  },
  {
   "cell_type": "markdown",
   "id": "11cd0f9c",
   "metadata": {},
   "source": [
    "***\n",
    "***\n",
    "***"
   ]
  },
  {
   "cell_type": "markdown",
   "id": "46dc2b49",
   "metadata": {},
   "source": [
    "# NGBoost"
   ]
  },
  {
   "cell_type": "markdown",
   "id": "4021885e",
   "metadata": {},
   "source": [
    "## Hypteropt"
   ]
  },
  {
   "cell_type": "code",
   "execution_count": 36,
   "id": "cd860eac",
   "metadata": {
    "ExecuteTime": {
     "end_time": "2021-07-30T00:43:50.166625Z",
     "start_time": "2021-07-30T00:43:50.151990Z"
    }
   },
   "outputs": [],
   "source": [
    "logging.basicConfig(\n",
    "    # filename = \"errors.log\",\n",
    "    format='%(asctime)s %(levelname)-8s %(message)s',\n",
    "    level=logging.INFO,\n",
    "    datefmt='%Y-%m-%d %H:%M:%S')\n",
    "logger = logging.getLogger()"
   ]
  },
  {
   "cell_type": "code",
   "execution_count": 37,
   "id": "e2d36cb6",
   "metadata": {
    "ExecuteTime": {
     "end_time": "2021-07-30T00:43:50.835337Z",
     "start_time": "2021-07-30T00:43:50.822297Z"
    }
   },
   "outputs": [],
   "source": [
    "b1 = DecisionTreeRegressor(criterion = \"friedman_mse\",                 # “mse”, “friedman_mse”, “mae”, “poisson”\n",
    "                                     min_samples_split = 3,             # The minimum number of samples required to split an internal node\n",
    "                                     min_samples_leaf = 1,              # The minimum number of samples required to be at a leaf node\n",
    "                                     min_weight_fraction_leaf = 0.0,    # The minimum weighted fraction of the sum total of weights required to be at a leaf node\n",
    "                                     max_depth = None,                  # The maximum depth of the tree\n",
    "                                     max_leaf_nodes = 127,              # Grow a tree with 'max_leaf_nodes' in best-first fashion\n",
    "                                     splitter = \"best\",                 # The strategy used to choose the split at each node\n",
    "                                     random_state = seed)\n",
    "b2 = DecisionTreeRegressor(criterion = \"friedman_mse\",                 # “mse”, “friedman_mse”, “mae”, “poisson”\n",
    "                                     min_samples_split = 3,             # The minimum number of samples required to split an internal node\n",
    "                                     min_samples_leaf = 1,              # The minimum number of samples required to be at a leaf node\n",
    "                                     min_weight_fraction_leaf = 0.0,    # The minimum weighted fraction of the sum total of weights required to be at a leaf node\n",
    "                                     max_depth = None,                  # The maximum depth of the tree\n",
    "                                     max_leaf_nodes = 255,              # Grow a tree with 'max_leaf_nodes' in best-first fashion\n",
    "                                     splitter = \"best\",                 # The strategy used to choose the split at each node\n",
    "                                     random_state = seed)\n",
    "b3 = DecisionTreeRegressor(criterion = \"friedman_mse\",                 # “mse”, “friedman_mse”, “mae”, “poisson”\n",
    "                                     min_samples_split = 3,             # The minimum number of samples required to split an internal node\n",
    "                                     min_samples_leaf = 1,              # The minimum number of samples required to be at a leaf node\n",
    "                                     min_weight_fraction_leaf = 0.0,    # The minimum weighted fraction of the sum total of weights required to be at a leaf node\n",
    "                                     max_depth = None,                  # The maximum depth of the tree\n",
    "                                     max_leaf_nodes = 63,              # Grow a tree with 'max_leaf_nodes' in best-first fashion\n",
    "                                     splitter = \"best\",                 # The strategy used to choose the split at each node\n",
    "                                     random_state = seed)\n",
    "\n",
    "\n",
    "space = {\n",
    "    'learning_rate':hp.quniform('learning_rate', .0005, 0.01, 0.001),\n",
    "    'minibatch_frac':hp.quniform('minibatch_frac', 0.5, 1.0, 0.1),\n",
    "    'col_sample':hp.quniform('col_sample', 0.5, 1.0, 0.1),\n",
    "    'Base':hp.choice('Base', [b1, b2, b3])\n",
    "}\n",
    "\n",
    "default_params = {\"Dist\" : Poisson,\n",
    "                  \"Score\" : MLE,\n",
    "                  \"n_estimators\":10000000,\n",
    "                  \"verbose_eval\":100,\n",
    "                  \"random_state\":13}"
   ]
  },
  {
   "cell_type": "code",
   "execution_count": 38,
   "id": "433a31e1",
   "metadata": {
    "ExecuteTime": {
     "end_time": "2021-07-30T00:43:51.515598Z",
     "start_time": "2021-07-30T00:43:51.501481Z"
    }
   },
   "outputs": [],
   "source": [
    "def objective_a(params):\n",
    "    \n",
    "    params.update(default_params)\n",
    "    \n",
    "    print(params)\n",
    "    ngb_arrival = NGBRegressor(**params).fit(X_train_a, y_train_a,\n",
    "                                             X_val = X_test_a, \n",
    "                                             Y_val = y_test_a, \n",
    "                                             early_stopping_rounds = 10)\n",
    "    loss = ngb_arrival.evals_result['val']['LOGSCORE'][ngb_arrival.best_val_loss_itr]\n",
    "    logger.info(params)\n",
    "    results = {'loss':loss, 'status':STATUS_OK}\n",
    "    \n",
    "    return results"
   ]
  },
  {
   "cell_type": "code",
   "execution_count": 39,
   "id": "8668c43e",
   "metadata": {
    "ExecuteTime": {
     "end_time": "2021-07-30T00:43:52.182343Z",
     "start_time": "2021-07-30T00:43:52.169449Z"
    }
   },
   "outputs": [],
   "source": [
    "def objective_d(params):\n",
    "    \n",
    "    params.update(default_params)\n",
    "    \n",
    "    print(params)\n",
    "    ngb_departure = NGBRegressor(**params).fit(X_train_d, y_train_d,\n",
    "                                             X_val = X_test_d, \n",
    "                                             Y_val = y_test_d, \n",
    "                                             early_stopping_rounds = 10)\n",
    "    loss = ngb_departure.evals_result['val']['LOGSCORE'][ngb_departure.best_val_loss_itr]\n",
    "    logger.info(params)\n",
    "    results = {'loss':loss, 'status':STATUS_OK}\n",
    "    \n",
    "    return results"
   ]
  },
  {
   "cell_type": "code",
   "execution_count": null,
   "id": "ee0a16f1",
   "metadata": {
    "ExecuteTime": {
     "start_time": "2021-07-30T00:43:52.386Z"
    }
   },
   "outputs": [
    {
     "name": "stderr",
     "output_type": "stream",
     "text": [
      "2021-07-30 09:43:52 INFO     Start parameter optimization...\n"
     ]
    },
    {
     "name": "stdout",
     "output_type": "stream",
     "text": [
      "\r",
      "  0%|                                                                          | 0/100 [00:00<?, ?trial/s, best loss=?]"
     ]
    },
    {
     "name": "stderr",
     "output_type": "stream",
     "text": [
      "2021-07-30 09:43:52 INFO     build_posterior_wrapper took 0.001034 seconds\n",
      "2021-07-30 09:43:52 INFO     TPE using 0 trials\n"
     ]
    },
    {
     "name": "stdout",
     "output_type": "stream",
     "text": [
      "{'Base': DecisionTreeRegressor(criterion='friedman_mse', max_leaf_nodes=63,                                            \n",
      "                      min_samples_split=3, random_state=1), 'col_sample': 0.6000000000000001, 'learning_rate': 0.003, 'minibatch_frac': 0.8, 'Dist': <class 'ngboost.distns.poisson.Poisson'>, 'Score': <class 'ngboost.scores.LogScore'>, 'n_estimators': 10000000, 'verbose_eval': 100, 'random_state': 13}\n",
      "[iter 0] loss=6.7165 val_loss=6.7114 scale=1.0000 norm=0.5892                                                          \n",
      "[iter 100] loss=4.8510 val_loss=4.8314 scale=2.0000 norm=0.8873                                                        \n",
      "[iter 200] loss=3.4006 val_loss=3.4222 scale=2.0000 norm=0.6228                                                        \n",
      "[iter 300] loss=2.8314 val_loss=2.8671 scale=2.0000 norm=0.4850                                                        \n",
      "[iter 400] loss=2.5953 val_loss=2.6353 scale=2.0000 norm=0.4069                                                        \n",
      "[iter 500] loss=2.4985 val_loss=2.5425 scale=2.0000 norm=0.3668                                                        \n",
      "[iter 600] loss=2.4549 val_loss=2.5050 scale=2.0000 norm=0.3497                                                        \n",
      "[iter 700] loss=2.4392 val_loss=2.4865 scale=0.5000 norm=0.0855                                                        \n",
      "[iter 800] loss=2.4302 val_loss=2.4784 scale=2.0000 norm=0.3414                                                        \n",
      "[iter 900] loss=2.4255 val_loss=2.4738 scale=2.0000 norm=0.3389                                                        \n",
      "[iter 1000] loss=2.4162 val_loss=2.4712 scale=2.0000 norm=0.3410                                                       \n",
      "[iter 1100] loss=2.4175 val_loss=2.4694 scale=1.0000 norm=0.1689                                                       \n",
      "[iter 1200] loss=2.4127 val_loss=2.4684 scale=1.0000 norm=0.1675                                                       \n",
      "[iter 1300] loss=2.4142 val_loss=2.4679 scale=1.0000 norm=0.1682                                                       \n",
      "== Early stopping achieved.                                                                                            \n",
      "== Best iteration / VAL1293 (val_loss=2.4679)                                                                          \n",
      "  0%|                                                                          | 0/100 [02:22<?, ?trial/s, best loss=?]"
     ]
    },
    {
     "name": "stderr",
     "output_type": "stream",
     "text": [
      "2021-07-30 09:46:15 INFO     {'Base': DecisionTreeRegressor(criterion='friedman_mse', max_leaf_nodes=63,\n",
      "                      min_samples_split=3, random_state=1), 'col_sample': 0.6000000000000001, 'learning_rate': 0.003, 'minibatch_frac': 0.8, 'Dist': <class 'ngboost.distns.poisson.Poisson'>, 'Score': <class 'ngboost.scores.LogScore'>, 'n_estimators': 10000000, 'verbose_eval': 100, 'random_state': 13}\n"
     ]
    },
    {
     "name": "stdout",
     "output_type": "stream",
     "text": [
      "\r",
      "  1%|▍                                            | 1/100 [02:22<3:55:56, 142.99s/trial, best loss: 2.4678881485073005]"
     ]
    },
    {
     "name": "stderr",
     "output_type": "stream",
     "text": [
      "2021-07-30 09:46:15 INFO     build_posterior_wrapper took 0.003017 seconds\n",
      "2021-07-30 09:46:15 INFO     TPE using 1/1 trials with best loss 2.467888\n"
     ]
    },
    {
     "name": "stdout",
     "output_type": "stream",
     "text": [
      "{'Base': DecisionTreeRegressor(criterion='friedman_mse', max_leaf_nodes=127,                                           \n",
      "                      min_samples_split=3, random_state=1), 'col_sample': 0.9, 'learning_rate': 0.005, 'minibatch_frac': 0.7000000000000001, 'Dist': <class 'ngboost.distns.poisson.Poisson'>, 'Score': <class 'ngboost.scores.LogScore'>, 'n_estimators': 10000000, 'verbose_eval': 100, 'random_state': 13}\n",
      "[iter 0] loss=6.7087 val_loss=6.6957 scale=1.0000 norm=0.5893                                                          \n",
      "[iter 100] loss=3.6621 val_loss=3.6671 scale=2.0000 norm=0.6794                                                        \n",
      "[iter 200] loss=2.6632 val_loss=2.7056 scale=2.0000 norm=0.4306                                                        \n",
      "[iter 300] loss=2.4500 val_loss=2.5060 scale=2.0000 norm=0.3435                                                        \n",
      "[iter 400] loss=2.4029 val_loss=2.4652 scale=2.0000 norm=0.3181                                                        \n",
      "[iter 500] loss=2.3881 val_loss=2.4564 scale=2.0000 norm=0.3130                                                        \n",
      "[iter 600] loss=2.3792 val_loss=2.4544 scale=2.0000 norm=0.3100                                                        \n",
      "== Early stopping achieved.                                                                                            \n",
      "== Best iteration / VAL591 (val_loss=2.4544)                                                                           \n",
      "  1%|▍                                            | 1/100 [03:49<3:55:56, 142.99s/trial, best loss: 2.4678881485073005]"
     ]
    },
    {
     "name": "stderr",
     "output_type": "stream",
     "text": [
      "2021-07-30 09:47:42 INFO     {'Base': DecisionTreeRegressor(criterion='friedman_mse', max_leaf_nodes=127,\n",
      "                      min_samples_split=3, random_state=1), 'col_sample': 0.9, 'learning_rate': 0.005, 'minibatch_frac': 0.7000000000000001, 'Dist': <class 'ngboost.distns.poisson.Poisson'>, 'Score': <class 'ngboost.scores.LogScore'>, 'n_estimators': 10000000, 'verbose_eval': 100, 'random_state': 13}\n"
     ]
    },
    {
     "name": "stdout",
     "output_type": "stream",
     "text": [
      "\r",
      "  2%|▉                                            | 2/100 [03:49<2:59:01, 109.60s/trial, best loss: 2.4544150570363765]"
     ]
    },
    {
     "name": "stderr",
     "output_type": "stream",
     "text": [
      "2021-07-30 09:47:42 INFO     build_posterior_wrapper took 0.002000 seconds\n",
      "2021-07-30 09:47:42 INFO     TPE using 2/2 trials with best loss 2.454415\n"
     ]
    },
    {
     "name": "stdout",
     "output_type": "stream",
     "text": [
      "{'Base': DecisionTreeRegressor(criterion='friedman_mse', max_leaf_nodes=255,                                           \n",
      "                      min_samples_split=3, random_state=1), 'col_sample': 0.7000000000000001, 'learning_rate': 0.001, 'minibatch_frac': 0.8, 'Dist': <class 'ngboost.distns.poisson.Poisson'>, 'Score': <class 'ngboost.scores.LogScore'>, 'n_estimators': 10000000, 'verbose_eval': 100, 'random_state': 13}\n",
      "[iter 0] loss=6.7165 val_loss=6.7250 scale=1.0000 norm=0.5892                                                          \n",
      "[iter 100] loss=6.0681 val_loss=6.0568 scale=1.0000 norm=0.5392                                                        \n",
      "[iter 200] loss=5.4854 val_loss=5.5006 scale=1.0000 norm=0.4939                                                        \n",
      "[iter 300] loss=4.7853 val_loss=4.8004 scale=2.0000 norm=0.8778                                                        \n",
      "[iter 400] loss=4.1275 val_loss=4.1581 scale=2.0000 norm=0.7662                                                        \n",
      "[iter 500] loss=3.6563 val_loss=3.6980 scale=2.0000 norm=0.6774                                                        \n",
      "[iter 600] loss=3.3173 val_loss=3.3675 scale=2.0000 norm=0.6074                                                        \n",
      "[iter 700] loss=3.0637 val_loss=3.1238 scale=2.0000 norm=0.5463                                                        \n",
      "[iter 800] loss=2.8876 val_loss=2.9451 scale=2.0000 norm=0.5011                                                        \n",
      "[iter 900] loss=2.7461 val_loss=2.8138 scale=2.0000 norm=0.4577                                                        \n",
      "[iter 1000] loss=2.6477 val_loss=2.7183 scale=2.0000 norm=0.4289                                                       \n",
      "[iter 1100] loss=2.5759 val_loss=2.6483 scale=2.0000 norm=0.3981                                                       \n",
      "[iter 1200] loss=2.5159 val_loss=2.5968 scale=2.0000 norm=0.3715                                                       \n",
      "[iter 1300] loss=2.4774 val_loss=2.5582 scale=2.0000 norm=0.3538                                                       \n",
      "[iter 1400] loss=2.4469 val_loss=2.5297 scale=2.0000 norm=0.3381                                                       \n",
      "[iter 1500] loss=2.4242 val_loss=2.5089 scale=2.0000 norm=0.3260                                                       \n",
      "[iter 1600] loss=2.4052 val_loss=2.4936 scale=2.0000 norm=0.3158                                                       \n",
      "[iter 1700] loss=2.3934 val_loss=2.4821 scale=2.0000 norm=0.3084                                                       \n",
      "[iter 1800] loss=2.3829 val_loss=2.4739 scale=2.0000 norm=0.3038                                                       \n",
      "[iter 1900] loss=2.3727 val_loss=2.4675 scale=2.0000 norm=0.2976                                                       \n",
      "[iter 2000] loss=2.3647 val_loss=2.4629 scale=2.0000 norm=0.2933                                                       \n",
      "[iter 2100] loss=2.3627 val_loss=2.4597 scale=2.0000 norm=0.2920                                                       \n",
      "[iter 2200] loss=2.3578 val_loss=2.4570 scale=2.0000 norm=0.2888                                                       \n",
      "[iter 2300] loss=2.3541 val_loss=2.4550 scale=2.0000 norm=0.2863                                                       \n",
      "[iter 2400] loss=2.3456 val_loss=2.4535 scale=2.0000 norm=0.2845                                                       \n",
      "[iter 2500] loss=2.3480 val_loss=2.4525 scale=2.0000 norm=0.2841                                                       \n",
      "[iter 2600] loss=2.3439 val_loss=2.4518 scale=2.0000 norm=0.2830                                                       \n",
      "== Early stopping achieved.                                                                                            \n",
      "== Best iteration / VAL2658 (val_loss=2.4516)                                                                          \n",
      "  2%|▉                                            | 2/100 [10:21<2:59:01, 109.60s/trial, best loss: 2.4544150570363765]"
     ]
    },
    {
     "name": "stderr",
     "output_type": "stream",
     "text": [
      "2021-07-30 09:54:14 INFO     {'Base': DecisionTreeRegressor(criterion='friedman_mse', max_leaf_nodes=255,\n",
      "                      min_samples_split=3, random_state=1), 'col_sample': 0.7000000000000001, 'learning_rate': 0.001, 'minibatch_frac': 0.8, 'Dist': <class 'ngboost.distns.poisson.Poisson'>, 'Score': <class 'ngboost.scores.LogScore'>, 'n_estimators': 10000000, 'verbose_eval': 100, 'random_state': 13}\n"
     ]
    },
    {
     "name": "stdout",
     "output_type": "stream",
     "text": [
      "\r",
      "  3%|█▎                                           | 3/100 [10:22<6:26:14, 238.91s/trial, best loss: 2.4515918942758494]"
     ]
    },
    {
     "name": "stderr",
     "output_type": "stream",
     "text": [
      "2021-07-30 09:54:14 INFO     build_posterior_wrapper took 0.002991 seconds\n",
      "2021-07-30 09:54:14 INFO     TPE using 3/3 trials with best loss 2.451592\n"
     ]
    },
    {
     "name": "stdout",
     "output_type": "stream",
     "text": [
      "{'Base': DecisionTreeRegressor(criterion='friedman_mse', max_leaf_nodes=63,                                            \n",
      "                      min_samples_split=3, random_state=1), 'col_sample': 0.7000000000000001, 'learning_rate': 0.001, 'minibatch_frac': 0.9, 'Dist': <class 'ngboost.distns.poisson.Poisson'>, 'Score': <class 'ngboost.scores.LogScore'>, 'n_estimators': 10000000, 'verbose_eval': 100, 'random_state': 13}\n",
      "[iter 0] loss=6.7218 val_loss=6.7251 scale=1.0000 norm=0.5895                                                          \n",
      "[iter 100] loss=6.0712 val_loss=6.0627 scale=1.0000 norm=0.5391                                                        \n",
      "[iter 200] loss=5.5050 val_loss=5.5068 scale=1.0000 norm=0.4955                                                        \n",
      "[iter 300] loss=4.7921 val_loss=4.8016 scale=2.0000 norm=0.8774                                                        \n",
      "[iter 400] loss=4.1556 val_loss=4.1666 scale=2.0000 norm=0.7697                                                        \n",
      "[iter 500] loss=3.6877 val_loss=3.7120 scale=2.0000 norm=0.6827                                                        \n",
      "[iter 600] loss=3.3605 val_loss=3.3851 scale=2.0000 norm=0.6154                                                        \n",
      "[iter 700] loss=3.1135 val_loss=3.1438 scale=2.0000 norm=0.5594                                                        \n",
      "[iter 800] loss=2.9368 val_loss=2.9664 scale=2.0000 norm=0.5142                                                        \n",
      "[iter 900] loss=2.8006 val_loss=2.8355 scale=2.0000 norm=0.4754                                                        \n",
      "[iter 1000] loss=2.7037 val_loss=2.7400 scale=2.0000 norm=0.4468                                                       \n",
      "[iter 1100] loss=2.6328 val_loss=2.6700 scale=2.0000 norm=0.4208                                                       \n",
      "[iter 1200] loss=2.5761 val_loss=2.6183 scale=2.0000 norm=0.3988                                                       \n",
      "[iter 1300] loss=2.5382 val_loss=2.5793 scale=2.0000 norm=0.3840                                                       \n",
      "[iter 1400] loss=2.5094 val_loss=2.5508 scale=2.0000 norm=0.3709                                                       \n",
      "[iter 1500] loss=2.4882 val_loss=2.5297 scale=2.0000 norm=0.3617                                                       \n",
      "[iter 1600] loss=2.4720 val_loss=2.5142 scale=1.0000 norm=0.1770                                                       \n",
      "[iter 1700] loss=2.4617 val_loss=2.5024 scale=2.0000 norm=0.3493                                                       \n",
      "[iter 1800] loss=2.4489 val_loss=2.4936 scale=2.0000 norm=0.3455                                                       \n",
      "[iter 1900] loss=2.4429 val_loss=2.4872 scale=2.0000 norm=0.3433                                                       \n",
      "[iter 2000] loss=2.4353 val_loss=2.4824 scale=2.0000 norm=0.3409                                                       \n",
      "[iter 2100] loss=2.4325 val_loss=2.4788 scale=2.0000 norm=0.3401                                                       \n",
      "[iter 2200] loss=2.4304 val_loss=2.4758 scale=2.0000 norm=0.3390                                                       \n",
      "[iter 2300] loss=2.4268 val_loss=2.4737 scale=2.0000 norm=0.3374                                                       \n",
      "[iter 2400] loss=2.4218 val_loss=2.4720 scale=2.0000 norm=0.3375                                                       \n",
      "[iter 2500] loss=2.4245 val_loss=2.4707 scale=1.0000 norm=0.1690                                                       \n",
      "[iter 2600] loss=2.4204 val_loss=2.4696 scale=1.0000 norm=0.1683                                                       \n",
      "[iter 2700] loss=2.4203 val_loss=2.4687 scale=1.0000 norm=0.1683                                                       \n",
      "[iter 2800] loss=2.4177 val_loss=2.4680 scale=1.0000 norm=0.1684                                                       \n",
      "[iter 2900] loss=2.4178 val_loss=2.4674 scale=1.0000 norm=0.1682                                                       \n",
      "[iter 3000] loss=2.4180 val_loss=2.4668 scale=1.0000 norm=0.1678                                                       \n",
      "[iter 3100] loss=2.4159 val_loss=2.4664 scale=1.0000 norm=0.1680                                                       \n",
      "[iter 3200] loss=2.4160 val_loss=2.4660 scale=2.0000 norm=0.3347                                                       \n",
      "[iter 3300] loss=2.4147 val_loss=2.4657 scale=1.0000 norm=0.1679                                                       \n",
      "[iter 3400] loss=2.4144 val_loss=2.4655 scale=1.0000 norm=0.1679                                                       \n",
      "== Early stopping achieved.                                                                                            \n",
      "== Best iteration / VAL3472 (val_loss=2.4653)                                                                          \n",
      "  3%|█▎                                           | 3/100 [18:26<6:26:14, 238.91s/trial, best loss: 2.4515918942758494]"
     ]
    },
    {
     "name": "stderr",
     "output_type": "stream",
     "text": [
      "2021-07-30 10:02:19 INFO     {'Base': DecisionTreeRegressor(criterion='friedman_mse', max_leaf_nodes=63,\n",
      "                      min_samples_split=3, random_state=1), 'col_sample': 0.7000000000000001, 'learning_rate': 0.001, 'minibatch_frac': 0.9, 'Dist': <class 'ngboost.distns.poisson.Poisson'>, 'Score': <class 'ngboost.scores.LogScore'>, 'n_estimators': 10000000, 'verbose_eval': 100, 'random_state': 13}\n"
     ]
    },
    {
     "name": "stdout",
     "output_type": "stream",
     "text": [
      "\r",
      "  4%|█▊                                           | 4/100 [18:26<8:57:17, 335.81s/trial, best loss: 2.4515918942758494]"
     ]
    },
    {
     "name": "stderr",
     "output_type": "stream",
     "text": [
      "2021-07-30 10:02:19 INFO     build_posterior_wrapper took 0.001998 seconds\n",
      "2021-07-30 10:02:19 INFO     TPE using 4/4 trials with best loss 2.451592\n"
     ]
    },
    {
     "name": "stdout",
     "output_type": "stream",
     "text": [
      "{'Base': DecisionTreeRegressor(criterion='friedman_mse', max_leaf_nodes=255,                                           \n",
      "                      min_samples_split=3, random_state=1), 'col_sample': 0.7000000000000001, 'learning_rate': 0.007, 'minibatch_frac': 0.7000000000000001, 'Dist': <class 'ngboost.distns.poisson.Poisson'>, 'Score': <class 'ngboost.scores.LogScore'>, 'n_estimators': 10000000, 'verbose_eval': 100, 'random_state': 13}\n",
      "[iter 0] loss=6.7087 val_loss=6.6812 scale=1.0000 norm=0.5893                                                          \n",
      "[iter 100] loss=3.0772 val_loss=3.1171 scale=2.0000 norm=0.5503                                                        \n",
      "[iter 200] loss=2.4467 val_loss=2.5268 scale=2.0000 norm=0.3388                                                        \n",
      "[iter 300] loss=2.3606 val_loss=2.4596 scale=2.0000 norm=0.2926                                                        \n",
      "[iter 400] loss=2.3425 val_loss=2.4513 scale=2.0000 norm=0.2780                                                        \n",
      "== Early stopping achieved.                                                                                            \n",
      "== Best iteration / VAL417 (val_loss=2.4511)                                                                           \n",
      "  4%|█▊                                           | 4/100 [19:24<8:57:17, 335.81s/trial, best loss: 2.4515918942758494]"
     ]
    },
    {
     "name": "stderr",
     "output_type": "stream",
     "text": [
      "2021-07-30 10:03:17 INFO     {'Base': DecisionTreeRegressor(criterion='friedman_mse', max_leaf_nodes=255,\n",
      "                      min_samples_split=3, random_state=1), 'col_sample': 0.7000000000000001, 'learning_rate': 0.007, 'minibatch_frac': 0.7000000000000001, 'Dist': <class 'ngboost.distns.poisson.Poisson'>, 'Score': <class 'ngboost.scores.LogScore'>, 'n_estimators': 10000000, 'verbose_eval': 100, 'random_state': 13}\n"
     ]
    },
    {
     "name": "stdout",
     "output_type": "stream",
     "text": [
      "\r",
      "  5%|██▎                                          | 5/100 [19:24<6:13:05, 235.64s/trial, best loss: 2.4511423638584877]"
     ]
    },
    {
     "name": "stderr",
     "output_type": "stream",
     "text": [
      "2021-07-30 10:03:17 INFO     build_posterior_wrapper took 0.000997 seconds\n",
      "2021-07-30 10:03:17 INFO     TPE using 5/5 trials with best loss 2.451142\n"
     ]
    },
    {
     "name": "stdout",
     "output_type": "stream",
     "text": [
      "{'Base': DecisionTreeRegressor(criterion='friedman_mse', max_leaf_nodes=127,                                           \n",
      "                      min_samples_split=3, random_state=1), 'col_sample': 0.6000000000000001, 'learning_rate': 0.007, 'minibatch_frac': 0.9, 'Dist': <class 'ngboost.distns.poisson.Poisson'>, 'Score': <class 'ngboost.scores.LogScore'>, 'n_estimators': 10000000, 'verbose_eval': 100, 'random_state': 13}\n",
      "[iter 0] loss=6.7218 val_loss=6.6828 scale=1.0000 norm=0.5895                                                          \n",
      "[iter 100] loss=3.1200 val_loss=3.1484 scale=2.0000 norm=0.5602                                                        \n",
      "[iter 200] loss=2.4930 val_loss=2.5519 scale=2.0000 norm=0.3630                                                        \n",
      "[iter 300] loss=2.4050 val_loss=2.4756 scale=1.0000 norm=0.1609                                                        \n",
      "[iter 400] loss=2.3868 val_loss=2.4641 scale=2.0000 norm=0.3149                                                        \n",
      "== Early stopping achieved.                                                                                            \n",
      "== Best iteration / VAL451 (val_loss=2.4626)                                                                           \n",
      "  5%|██▎                                          | 5/100 [20:27<6:13:05, 235.64s/trial, best loss: 2.4511423638584877]"
     ]
    },
    {
     "name": "stderr",
     "output_type": "stream",
     "text": [
      "2021-07-30 10:04:20 INFO     {'Base': DecisionTreeRegressor(criterion='friedman_mse', max_leaf_nodes=127,\n",
      "                      min_samples_split=3, random_state=1), 'col_sample': 0.6000000000000001, 'learning_rate': 0.007, 'minibatch_frac': 0.9, 'Dist': <class 'ngboost.distns.poisson.Poisson'>, 'Score': <class 'ngboost.scores.LogScore'>, 'n_estimators': 10000000, 'verbose_eval': 100, 'random_state': 13}\n"
     ]
    },
    {
     "name": "stdout",
     "output_type": "stream",
     "text": [
      "\r",
      "  6%|██▋                                          | 6/100 [20:27<4:37:22, 177.04s/trial, best loss: 2.4511423638584877]"
     ]
    },
    {
     "name": "stderr",
     "output_type": "stream",
     "text": [
      "2021-07-30 10:04:20 INFO     build_posterior_wrapper took 0.002033 seconds\n",
      "2021-07-30 10:04:20 INFO     TPE using 6/6 trials with best loss 2.451142\n"
     ]
    },
    {
     "name": "stdout",
     "output_type": "stream",
     "text": [
      "{'Base': DecisionTreeRegressor(criterion='friedman_mse', max_leaf_nodes=63,                                            \n",
      "                      min_samples_split=3, random_state=1), 'col_sample': 0.5, 'learning_rate': 0.004, 'minibatch_frac': 0.8, 'Dist': <class 'ngboost.distns.poisson.Poisson'>, 'Score': <class 'ngboost.scores.LogScore'>, 'n_estimators': 10000000, 'verbose_eval': 100, 'random_state': 13}\n",
      "[iter 0] loss=6.7165 val_loss=6.7046 scale=1.0000 norm=0.5892                                                          \n",
      "[iter 100] loss=4.2166 val_loss=4.2091 scale=2.0000 norm=0.7809                                                        \n",
      "[iter 200] loss=3.0084 val_loss=3.0406 scale=2.0000 norm=0.5318                                                        \n",
      "[iter 300] loss=2.6283 val_loss=2.6727 scale=2.0000 norm=0.4209                                                        \n",
      "[iter 400] loss=2.4985 val_loss=2.5441 scale=2.0000 norm=0.3683                                                        \n",
      "[iter 500] loss=2.4525 val_loss=2.5019 scale=2.0000 norm=0.3489                                                        \n",
      "[iter 600] loss=2.4320 val_loss=2.4874 scale=2.0000 norm=0.3427                                                        \n",
      "[iter 700] loss=2.4276 val_loss=2.4802 scale=0.5000 norm=0.0850                                                        \n",
      "[iter 800] loss=2.4224 val_loss=2.4762 scale=2.0000 norm=0.3407                                                        \n",
      "[iter 900] loss=2.4196 val_loss=2.4738 scale=2.0000 norm=0.3388                                                        \n",
      "[iter 1000] loss=2.4109 val_loss=2.4726 scale=2.0000 norm=0.3408                                                       \n",
      "== Early stopping achieved.                                                                                            \n",
      "== Best iteration / VAL1075 (val_loss=2.4720)                                                                          \n",
      "  6%|██▋                                          | 6/100 [22:12<4:37:22, 177.04s/trial, best loss: 2.4511423638584877]"
     ]
    },
    {
     "name": "stderr",
     "output_type": "stream",
     "text": [
      "2021-07-30 10:06:05 INFO     {'Base': DecisionTreeRegressor(criterion='friedman_mse', max_leaf_nodes=63,\n",
      "                      min_samples_split=3, random_state=1), 'col_sample': 0.5, 'learning_rate': 0.004, 'minibatch_frac': 0.8, 'Dist': <class 'ngboost.distns.poisson.Poisson'>, 'Score': <class 'ngboost.scores.LogScore'>, 'n_estimators': 10000000, 'verbose_eval': 100, 'random_state': 13}\n"
     ]
    },
    {
     "name": "stdout",
     "output_type": "stream",
     "text": [
      "\r",
      "  7%|███▏                                         | 7/100 [22:12<3:57:48, 153.42s/trial, best loss: 2.4511423638584877]"
     ]
    },
    {
     "name": "stderr",
     "output_type": "stream",
     "text": [
      "2021-07-30 10:06:05 INFO     build_posterior_wrapper took 0.002012 seconds\n",
      "2021-07-30 10:06:05 INFO     TPE using 7/7 trials with best loss 2.451142\n"
     ]
    },
    {
     "name": "stdout",
     "output_type": "stream",
     "text": [
      "{'Base': DecisionTreeRegressor(criterion='friedman_mse', max_leaf_nodes=255,                                           \n",
      "                      min_samples_split=3, random_state=1), 'col_sample': 0.7000000000000001, 'learning_rate': 0.009000000000000001, 'minibatch_frac': 0.9, 'Dist': <class 'ngboost.distns.poisson.Poisson'>, 'Score': <class 'ngboost.scores.LogScore'>, 'n_estimators': 10000000, 'verbose_eval': 100, 'random_state': 13}\n",
      "[iter 0] loss=6.7218 val_loss=6.6664 scale=1.0000 norm=0.5895                                                          \n",
      "[iter 100] loss=2.7443 val_loss=2.8006 scale=2.0000 norm=0.4576                                                        \n",
      "[iter 200] loss=2.3810 val_loss=2.4721 scale=2.0000 norm=0.3024                                                        \n",
      "[iter 300] loss=2.3454 val_loss=2.4530 scale=1.0000 norm=0.1408                                                        \n",
      "== Early stopping achieved.                                                                                            \n",
      "== Best iteration / VAL299 (val_loss=2.4529)                                                                           \n",
      "  7%|███▏                                         | 7/100 [23:07<3:57:48, 153.42s/trial, best loss: 2.4511423638584877]"
     ]
    },
    {
     "name": "stderr",
     "output_type": "stream",
     "text": [
      "2021-07-30 10:07:00 INFO     {'Base': DecisionTreeRegressor(criterion='friedman_mse', max_leaf_nodes=255,\n",
      "                      min_samples_split=3, random_state=1), 'col_sample': 0.7000000000000001, 'learning_rate': 0.009000000000000001, 'minibatch_frac': 0.9, 'Dist': <class 'ngboost.distns.poisson.Poisson'>, 'Score': <class 'ngboost.scores.LogScore'>, 'n_estimators': 10000000, 'verbose_eval': 100, 'random_state': 13}\n"
     ]
    },
    {
     "name": "stdout",
     "output_type": "stream",
     "text": [
      "\r",
      "  8%|███▌                                         | 8/100 [23:07<3:07:05, 122.01s/trial, best loss: 2.4511423638584877]"
     ]
    },
    {
     "name": "stderr",
     "output_type": "stream",
     "text": [
      "2021-07-30 10:07:00 INFO     build_posterior_wrapper took 0.000995 seconds\n",
      "2021-07-30 10:07:00 INFO     TPE using 8/8 trials with best loss 2.451142\n"
     ]
    },
    {
     "name": "stdout",
     "output_type": "stream",
     "text": [
      "{'Base': DecisionTreeRegressor(criterion='friedman_mse', max_leaf_nodes=63,                                            \n",
      "                      min_samples_split=3, random_state=1), 'col_sample': 1.0, 'learning_rate': 0.006, 'minibatch_frac': 0.7000000000000001, 'Dist': <class 'ngboost.distns.poisson.Poisson'>, 'Score': <class 'ngboost.scores.LogScore'>, 'n_estimators': 10000000, 'verbose_eval': 100, 'random_state': 13}\n",
      "[iter 0] loss=6.7087 val_loss=6.6878 scale=1.0000 norm=0.5893                                                          \n",
      "[iter 100] loss=3.3439 val_loss=3.3452 scale=2.0000 norm=0.6157                                                        \n",
      "[iter 200] loss=2.5679 val_loss=2.5991 scale=2.0000 norm=0.3943                                                        \n",
      "[iter 300] loss=2.4479 val_loss=2.4860 scale=2.0000 norm=0.3462                                                        \n",
      "[iter 400] loss=2.4294 val_loss=2.4688 scale=1.0000 norm=0.1676                                                        \n",
      "[iter 500] loss=2.4151 val_loss=2.4647 scale=1.0000 norm=0.1696                                                        \n",
      "[iter 600] loss=2.4131 val_loss=2.4635 scale=2.0000 norm=0.3378                                                        \n",
      "== Early stopping achieved.                                                                                            \n",
      "== Best iteration / VAL592 (val_loss=2.4634)                                                                           \n",
      "  8%|███▌                                         | 8/100 [24:35<3:07:05, 122.01s/trial, best loss: 2.4511423638584877]"
     ]
    },
    {
     "name": "stderr",
     "output_type": "stream",
     "text": [
      "2021-07-30 10:08:28 INFO     {'Base': DecisionTreeRegressor(criterion='friedman_mse', max_leaf_nodes=63,\n",
      "                      min_samples_split=3, random_state=1), 'col_sample': 1.0, 'learning_rate': 0.006, 'minibatch_frac': 0.7000000000000001, 'Dist': <class 'ngboost.distns.poisson.Poisson'>, 'Score': <class 'ngboost.scores.LogScore'>, 'n_estimators': 10000000, 'verbose_eval': 100, 'random_state': 13}\n"
     ]
    },
    {
     "name": "stdout",
     "output_type": "stream",
     "text": [
      "\r",
      "  9%|████                                         | 9/100 [24:35<2:49:07, 111.52s/trial, best loss: 2.4511423638584877]"
     ]
    },
    {
     "name": "stderr",
     "output_type": "stream",
     "text": [
      "2021-07-30 10:08:28 INFO     build_posterior_wrapper took 0.001997 seconds\n",
      "2021-07-30 10:08:28 INFO     TPE using 9/9 trials with best loss 2.451142\n"
     ]
    },
    {
     "name": "stdout",
     "output_type": "stream",
     "text": [
      "{'Base': DecisionTreeRegressor(criterion='friedman_mse', max_leaf_nodes=63,                                            \n",
      "                      min_samples_split=3, random_state=1), 'col_sample': 0.8, 'learning_rate': 0.003, 'minibatch_frac': 0.6000000000000001, 'Dist': <class 'ngboost.distns.poisson.Poisson'>, 'Score': <class 'ngboost.scores.LogScore'>, 'n_estimators': 10000000, 'verbose_eval': 100, 'random_state': 13}\n",
      "[iter 0] loss=6.6922 val_loss=6.7107 scale=1.0000 norm=0.5882                                                          \n",
      "[iter 100] loss=4.8202 val_loss=4.7932 scale=2.0000 norm=0.8818                                                        \n",
      "[iter 200] loss=3.3526 val_loss=3.3720 scale=2.0000 norm=0.6129                                                        \n",
      "[iter 300] loss=2.7982 val_loss=2.8298 scale=2.0000 norm=0.4769                                                        \n",
      "[iter 400] loss=2.5731 val_loss=2.6106 scale=2.0000 norm=0.4004                                                        \n",
      "[iter 500] loss=2.4800 val_loss=2.5242 scale=2.0000 norm=0.3579                                                        \n",
      "[iter 600] loss=2.4460 val_loss=2.4903 scale=2.0000 norm=0.3431                                                        \n",
      "[iter 700] loss=2.4298 val_loss=2.4753 scale=2.0000 norm=0.3350                                                        \n",
      "[iter 800] loss=2.4224 val_loss=2.4688 scale=2.0000 norm=0.3366                                                        \n",
      "[iter 900] loss=2.4171 val_loss=2.4657 scale=1.0000 norm=0.1681                                                        \n",
      "[iter 1000] loss=2.4109 val_loss=2.4645 scale=2.0000 norm=0.3395                                                       \n",
      "[iter 1100] loss=2.4147 val_loss=2.4637 scale=1.0000 norm=0.1690                                                       \n",
      "== Early stopping achieved.                                                                                            \n",
      "== Best iteration / VAL1102 (val_loss=2.4637)                                                                          \n",
      "  9%|████                                         | 9/100 [26:33<2:49:07, 111.52s/trial, best loss: 2.4511423638584877]"
     ]
    },
    {
     "name": "stderr",
     "output_type": "stream",
     "text": [
      "2021-07-30 10:10:26 INFO     {'Base': DecisionTreeRegressor(criterion='friedman_mse', max_leaf_nodes=63,\n",
      "                      min_samples_split=3, random_state=1), 'col_sample': 0.8, 'learning_rate': 0.003, 'minibatch_frac': 0.6000000000000001, 'Dist': <class 'ngboost.distns.poisson.Poisson'>, 'Score': <class 'ngboost.scores.LogScore'>, 'n_estimators': 10000000, 'verbose_eval': 100, 'random_state': 13}\n"
     ]
    },
    {
     "name": "stdout",
     "output_type": "stream",
     "text": [
      "\r",
      " 10%|████▍                                       | 10/100 [26:33<2:50:08, 113.43s/trial, best loss: 2.4511423638584877]"
     ]
    },
    {
     "name": "stderr",
     "output_type": "stream",
     "text": [
      "2021-07-30 10:10:26 INFO     build_posterior_wrapper took 0.002004 seconds\n",
      "2021-07-30 10:10:26 INFO     TPE using 10/10 trials with best loss 2.451142\n"
     ]
    },
    {
     "name": "stdout",
     "output_type": "stream",
     "text": [
      "{'Base': DecisionTreeRegressor(criterion='friedman_mse', max_leaf_nodes=63,                                            \n",
      "                      min_samples_split=3, random_state=1), 'col_sample': 0.9, 'learning_rate': 0.005, 'minibatch_frac': 0.8, 'Dist': <class 'ngboost.distns.poisson.Poisson'>, 'Score': <class 'ngboost.scores.LogScore'>, 'n_estimators': 10000000, 'verbose_eval': 100, 'random_state': 13}\n",
      "[iter 0] loss=6.7165 val_loss=6.6961 scale=1.0000 norm=0.5892                                                          \n",
      "[iter 100] loss=3.6948 val_loss=3.6891 scale=2.0000 norm=0.6855                                                        \n",
      "[iter 200] loss=2.6914 val_loss=2.7214 scale=2.0000 norm=0.4408                                                        \n",
      "[iter 300] loss=2.4790 val_loss=2.5186 scale=2.0000 norm=0.3585                                                        \n",
      "[iter 400] loss=2.4340 val_loss=2.4759 scale=2.0000 norm=0.3386                                                        \n",
      "[iter 500] loss=2.4214 val_loss=2.4666 scale=1.0000 norm=0.1684                                                        \n",
      "[iter 600] loss=2.4118 val_loss=2.4637 scale=1.0000 norm=0.1674                                                        \n",
      "== Early stopping achieved.                                                                                            \n",
      "== Best iteration / VAL661 (val_loss=2.4629)                                                                           \n",
      " 10%|████▍                                       | 10/100 [28:17<2:50:08, 113.43s/trial, best loss: 2.4511423638584877]"
     ]
    },
    {
     "name": "stderr",
     "output_type": "stream",
     "text": [
      "2021-07-30 10:12:10 INFO     {'Base': DecisionTreeRegressor(criterion='friedman_mse', max_leaf_nodes=63,\n",
      "                      min_samples_split=3, random_state=1), 'col_sample': 0.9, 'learning_rate': 0.005, 'minibatch_frac': 0.8, 'Dist': <class 'ngboost.distns.poisson.Poisson'>, 'Score': <class 'ngboost.scores.LogScore'>, 'n_estimators': 10000000, 'verbose_eval': 100, 'random_state': 13}\n"
     ]
    },
    {
     "name": "stdout",
     "output_type": "stream",
     "text": [
      "\r",
      " 11%|████▊                                       | 11/100 [28:17<2:44:11, 110.69s/trial, best loss: 2.4511423638584877]"
     ]
    },
    {
     "name": "stderr",
     "output_type": "stream",
     "text": [
      "2021-07-30 10:12:10 INFO     build_posterior_wrapper took 0.000999 seconds\n",
      "2021-07-30 10:12:10 INFO     TPE using 11/11 trials with best loss 2.451142\n"
     ]
    },
    {
     "name": "stdout",
     "output_type": "stream",
     "text": [
      "{'Base': DecisionTreeRegressor(criterion='friedman_mse', max_leaf_nodes=255,                                           \n",
      "                      min_samples_split=3, random_state=1), 'col_sample': 0.8, 'learning_rate': 0.001, 'minibatch_frac': 0.6000000000000001, 'Dist': <class 'ngboost.distns.poisson.Poisson'>, 'Score': <class 'ngboost.scores.LogScore'>, 'n_estimators': 10000000, 'verbose_eval': 100, 'random_state': 13}\n",
      "[iter 0] loss=6.6922 val_loss=6.7250 scale=1.0000 norm=0.5882                                                          \n",
      "[iter 100] loss=6.0707 val_loss=6.0540 scale=1.0000 norm=0.5387                                                        \n",
      "[iter 200] loss=5.4868 val_loss=5.4965 scale=1.0000 norm=0.4945                                                        \n",
      "[iter 300] loss=4.8107 val_loss=4.8114 scale=2.0000 norm=0.8829                                                        \n",
      "[iter 400] loss=4.1539 val_loss=4.1624 scale=2.0000 norm=0.7714                                                        \n",
      "[iter 500] loss=3.6542 val_loss=3.6981 scale=2.0000 norm=0.6773                                                        \n",
      "[iter 600] loss=3.3187 val_loss=3.3640 scale=2.0000 norm=0.6078                                                        \n",
      "[iter 700] loss=3.0535 val_loss=3.1183 scale=2.0000 norm=0.5423                                                        \n",
      "[iter 800] loss=2.8846 val_loss=2.9389 scale=2.0000 norm=0.4994                                                        \n",
      "[iter 900] loss=2.7429 val_loss=2.8077 scale=2.0000 norm=0.4577                                                        \n",
      "[iter 1000] loss=2.6438 val_loss=2.7123 scale=2.0000 norm=0.4282                                                       \n",
      "[iter 1100] loss=2.5745 val_loss=2.6414 scale=2.0000 norm=0.4000                                                       \n",
      "[iter 1200] loss=2.5108 val_loss=2.5898 scale=2.0000 norm=0.3674                                                       \n",
      "[iter 1300] loss=2.4729 val_loss=2.5518 scale=2.0000 norm=0.3548                                                       \n",
      "[iter 1400] loss=2.4408 val_loss=2.5243 scale=2.0000 norm=0.3374                                                       \n",
      "[iter 1500] loss=2.4218 val_loss=2.5041 scale=2.0000 norm=0.3222                                                       \n",
      "[iter 1600] loss=2.4030 val_loss=2.4891 scale=2.0000 norm=0.3125                                                       \n",
      "[iter 1700] loss=2.3857 val_loss=2.4782 scale=2.0000 norm=0.3067                                                       \n",
      "[iter 1800] loss=2.3780 val_loss=2.4703 scale=2.0000 norm=0.3015                                                       \n",
      "[iter 1900] loss=2.3734 val_loss=2.4644 scale=2.0000 norm=0.2945                                                       \n",
      "[iter 2000] loss=2.3617 val_loss=2.4601 scale=2.0000 norm=0.2912                                                       \n",
      "[iter 2100] loss=2.3557 val_loss=2.4570 scale=2.0000 norm=0.2890                                                       \n",
      "[iter 2200] loss=2.3560 val_loss=2.4548 scale=2.0000 norm=0.2879                                                       \n",
      "[iter 2300] loss=2.3498 val_loss=2.4531 scale=2.0000 norm=0.2842                                                       \n",
      "[iter 2400] loss=2.3408 val_loss=2.4518 scale=2.0000 norm=0.2832                                                       \n",
      "[iter 2500] loss=2.3443 val_loss=2.4511 scale=2.0000 norm=0.2804                                                       \n",
      "[iter 2600] loss=2.3442 val_loss=2.4505 scale=2.0000 norm=0.2776                                                       \n",
      "== Early stopping achieved.                                                                                            \n",
      "== Best iteration / VAL2632 (val_loss=2.4503)                                                                          \n",
      " 11%|████▊                                       | 11/100 [34:50<2:44:11, 110.69s/trial, best loss: 2.4511423638584877]"
     ]
    },
    {
     "name": "stderr",
     "output_type": "stream",
     "text": [
      "2021-07-30 10:18:43 INFO     {'Base': DecisionTreeRegressor(criterion='friedman_mse', max_leaf_nodes=255,\n",
      "                      min_samples_split=3, random_state=1), 'col_sample': 0.8, 'learning_rate': 0.001, 'minibatch_frac': 0.6000000000000001, 'Dist': <class 'ngboost.distns.poisson.Poisson'>, 'Score': <class 'ngboost.scores.LogScore'>, 'n_estimators': 10000000, 'verbose_eval': 100, 'random_state': 13}\n"
     ]
    },
    {
     "name": "stdout",
     "output_type": "stream",
     "text": [
      "\r",
      " 12%|█████▎                                      | 12/100 [34:50<4:48:15, 196.54s/trial, best loss: 2.4502692663136036]"
     ]
    },
    {
     "name": "stderr",
     "output_type": "stream",
     "text": [
      "2021-07-30 10:18:43 INFO     build_posterior_wrapper took 0.002002 seconds\n",
      "2021-07-30 10:18:43 INFO     TPE using 12/12 trials with best loss 2.450269\n"
     ]
    },
    {
     "name": "stdout",
     "output_type": "stream",
     "text": [
      "{'Base': DecisionTreeRegressor(criterion='friedman_mse', max_leaf_nodes=127,                                           \n",
      "                      min_samples_split=3, random_state=1), 'col_sample': 0.6000000000000001, 'learning_rate': 0.009000000000000001, 'minibatch_frac': 0.5, 'Dist': <class 'ngboost.distns.poisson.Poisson'>, 'Score': <class 'ngboost.scores.LogScore'>, 'n_estimators': 10000000, 'verbose_eval': 100, 'random_state': 13}\n",
      "[iter 0] loss=6.6714 val_loss=6.6691 scale=1.0000 norm=0.5876                                                          \n",
      "[iter 100] loss=2.8015 val_loss=2.8377 scale=2.0000 norm=0.4797                                                        \n",
      "[iter 200] loss=2.4285 val_loss=2.4939 scale=2.0000 norm=0.3286                                                        \n",
      "[iter 300] loss=2.3892 val_loss=2.4654 scale=1.0000 norm=0.1585                                                        \n",
      "[iter 400] loss=2.3738 val_loss=2.4625 scale=2.0000 norm=0.3118                                                        \n",
      "== Early stopping achieved.                                                                                            \n",
      "== Best iteration / VAL415 (val_loss=2.4621)                                                                           \n",
      " 12%|█████▎                                      | 12/100 [35:25<4:48:15, 196.54s/trial, best loss: 2.4502692663136036]"
     ]
    },
    {
     "name": "stderr",
     "output_type": "stream",
     "text": [
      "2021-07-30 10:19:18 INFO     {'Base': DecisionTreeRegressor(criterion='friedman_mse', max_leaf_nodes=127,\n",
      "                      min_samples_split=3, random_state=1), 'col_sample': 0.6000000000000001, 'learning_rate': 0.009000000000000001, 'minibatch_frac': 0.5, 'Dist': <class 'ngboost.distns.poisson.Poisson'>, 'Score': <class 'ngboost.scores.LogScore'>, 'n_estimators': 10000000, 'verbose_eval': 100, 'random_state': 13}\n"
     ]
    },
    {
     "name": "stdout",
     "output_type": "stream",
     "text": [
      "\r",
      " 13%|█████▋                                      | 13/100 [35:25<3:34:04, 147.64s/trial, best loss: 2.4502692663136036]"
     ]
    },
    {
     "name": "stderr",
     "output_type": "stream",
     "text": [
      "2021-07-30 10:19:18 INFO     build_posterior_wrapper took 0.001992 seconds\n",
      "2021-07-30 10:19:18 INFO     TPE using 13/13 trials with best loss 2.450269\n"
     ]
    },
    {
     "name": "stdout",
     "output_type": "stream",
     "text": [
      "{'Base': DecisionTreeRegressor(criterion='friedman_mse', max_leaf_nodes=255,                                           \n",
      "                      min_samples_split=3, random_state=1), 'col_sample': 0.5, 'learning_rate': 0.002, 'minibatch_frac': 0.5, 'Dist': <class 'ngboost.distns.poisson.Poisson'>, 'Score': <class 'ngboost.scores.LogScore'>, 'n_estimators': 10000000, 'verbose_eval': 100, 'random_state': 13}\n",
      "[iter 0] loss=6.6714 val_loss=6.7181 scale=1.0000 norm=0.5876                                                          \n",
      "[iter 100] loss=5.5205 val_loss=5.4998 scale=1.0000 norm=0.4971                                                        \n",
      "[iter 200] loss=4.1737 val_loss=4.2239 scale=2.0000 norm=0.7730                                                        \n",
      "[iter 300] loss=3.3902 val_loss=3.4492 scale=2.0000 norm=0.6235                                                        \n",
      "[iter 400] loss=2.9453 val_loss=3.0125 scale=2.0000 norm=0.5183                                                        \n",
      "[iter 500] loss=2.6902 val_loss=2.7784 scale=2.0000 norm=0.4391                                                        \n",
      "[iter 600] loss=2.5634 val_loss=2.6509 scale=2.0000 norm=0.3915                                                        \n",
      "[iter 700] loss=2.4788 val_loss=2.5760 scale=1.0000 norm=0.1764                                                        \n",
      "[iter 800] loss=2.4357 val_loss=2.5317 scale=2.0000 norm=0.3328                                                        \n",
      "[iter 900] loss=2.4019 val_loss=2.5057 scale=2.0000 norm=0.3154                                                        \n",
      "[iter 1000] loss=2.3806 val_loss=2.4911 scale=2.0000 norm=0.3099                                                       \n",
      "[iter 1100] loss=2.3750 val_loss=2.4820 scale=1.0000 norm=0.1509                                                       \n",
      "[iter 1200] loss=2.3650 val_loss=2.4762 scale=2.0000 norm=0.2915                                                       \n",
      "[iter 1300] loss=2.3550 val_loss=2.4723 scale=2.0000 norm=0.2939                                                       \n",
      "[iter 1400] loss=2.3494 val_loss=2.4696 scale=2.0000 norm=0.2862                                                       \n",
      "[iter 1500] loss=2.3536 val_loss=2.4679 scale=2.0000 norm=0.2816                                                       \n",
      "[iter 1600] loss=2.3470 val_loss=2.4669 scale=2.0000 norm=0.2792                                                       \n",
      "== Early stopping achieved.                                                                                            \n",
      "== Best iteration / VAL1599 (val_loss=2.4669)                                                                          \n",
      " 13%|█████▋                                      | 13/100 [37:39<3:34:04, 147.64s/trial, best loss: 2.4502692663136036]"
     ]
    },
    {
     "name": "stderr",
     "output_type": "stream",
     "text": [
      "2021-07-30 10:21:32 INFO     {'Base': DecisionTreeRegressor(criterion='friedman_mse', max_leaf_nodes=255,\n",
      "                      min_samples_split=3, random_state=1), 'col_sample': 0.5, 'learning_rate': 0.002, 'minibatch_frac': 0.5, 'Dist': <class 'ngboost.distns.poisson.Poisson'>, 'Score': <class 'ngboost.scores.LogScore'>, 'n_estimators': 10000000, 'verbose_eval': 100, 'random_state': 13}\n"
     ]
    },
    {
     "name": "stdout",
     "output_type": "stream",
     "text": [
      "\r",
      " 14%|██████▏                                     | 14/100 [37:39<3:25:26, 143.33s/trial, best loss: 2.4502692663136036]"
     ]
    },
    {
     "name": "stderr",
     "output_type": "stream",
     "text": [
      "2021-07-30 10:21:32 INFO     build_posterior_wrapper took 0.003002 seconds\n",
      "2021-07-30 10:21:32 INFO     TPE using 14/14 trials with best loss 2.450269\n"
     ]
    },
    {
     "name": "stdout",
     "output_type": "stream",
     "text": [
      "{'Base': DecisionTreeRegressor(criterion='friedman_mse', max_leaf_nodes=63,                                            \n",
      "                      min_samples_split=3, random_state=1), 'col_sample': 0.7000000000000001, 'learning_rate': 0.004, 'minibatch_frac': 0.9, 'Dist': <class 'ngboost.distns.poisson.Poisson'>, 'Score': <class 'ngboost.scores.LogScore'>, 'n_estimators': 10000000, 'verbose_eval': 100, 'random_state': 13}\n",
      "[iter 0] loss=6.7218 val_loss=6.7035 scale=1.0000 norm=0.5895                                                          \n",
      "[iter 100] loss=4.1574 val_loss=4.1505 scale=2.0000 norm=0.7699                                                        \n",
      "[iter 200] loss=2.9311 val_loss=2.9598 scale=2.0000 norm=0.5125                                                        \n",
      "[iter 300] loss=2.5775 val_loss=2.6182 scale=2.0000 norm=0.3999                                                        \n",
      "[iter 400] loss=2.4690 val_loss=2.5121 scale=2.0000 norm=0.3545                                                        \n",
      "[iter 500] loss=2.4351 val_loss=2.4811 scale=2.0000 norm=0.3403                                                        \n",
      "[iter 600] loss=2.4238 val_loss=2.4717 scale=2.0000 norm=0.3375                                                        \n",
      "[iter 700] loss=2.4177 val_loss=2.4677 scale=1.0000 norm=0.1681                                                        \n",
      "[iter 800] loss=2.4157 val_loss=2.4658 scale=2.0000 norm=0.3363                                                        \n",
      "[iter 900] loss=2.4143 val_loss=2.4649 scale=2.0000 norm=0.3364                                                        \n",
      "== Early stopping achieved.                                                                                            \n",
      "== Best iteration / VAL914 (val_loss=2.4648)                                                                           \n",
      " 14%|██████▏                                     | 14/100 [39:45<3:25:26, 143.33s/trial, best loss: 2.4502692663136036]"
     ]
    },
    {
     "name": "stderr",
     "output_type": "stream",
     "text": [
      "2021-07-30 10:23:38 INFO     {'Base': DecisionTreeRegressor(criterion='friedman_mse', max_leaf_nodes=63,\n",
      "                      min_samples_split=3, random_state=1), 'col_sample': 0.7000000000000001, 'learning_rate': 0.004, 'minibatch_frac': 0.9, 'Dist': <class 'ngboost.distns.poisson.Poisson'>, 'Score': <class 'ngboost.scores.LogScore'>, 'n_estimators': 10000000, 'verbose_eval': 100, 'random_state': 13}\n"
     ]
    },
    {
     "name": "stdout",
     "output_type": "stream",
     "text": [
      "\r",
      " 15%|██████▌                                     | 15/100 [39:45<3:15:45, 138.18s/trial, best loss: 2.4502692663136036]"
     ]
    },
    {
     "name": "stderr",
     "output_type": "stream",
     "text": [
      "2021-07-30 10:23:38 INFO     build_posterior_wrapper took 0.000998 seconds\n",
      "2021-07-30 10:23:38 INFO     TPE using 15/15 trials with best loss 2.450269\n"
     ]
    },
    {
     "name": "stdout",
     "output_type": "stream",
     "text": [
      "{'Base': DecisionTreeRegressor(criterion='friedman_mse', max_leaf_nodes=127,                                           \n",
      "                      min_samples_split=3, random_state=1), 'col_sample': 0.7000000000000001, 'learning_rate': 0.008, 'minibatch_frac': 0.6000000000000001, 'Dist': <class 'ngboost.distns.poisson.Poisson'>, 'Score': <class 'ngboost.scores.LogScore'>, 'n_estimators': 10000000, 'verbose_eval': 100, 'random_state': 13}\n",
      "[iter 0] loss=6.6922 val_loss=6.6744 scale=1.0000 norm=0.5882                                                          \n",
      "[iter 100] loss=2.9126 val_loss=2.9389 scale=2.0000 norm=0.5081                                                        \n",
      "[iter 200] loss=2.4428 val_loss=2.5009 scale=2.0000 norm=0.3371                                                        \n",
      "[iter 300] loss=2.3901 val_loss=2.4612 scale=2.0000 norm=0.3178                                                        \n",
      "== Early stopping achieved.                                                                                            \n",
      "== Best iteration / VAL385 (val_loss=2.4564)                                                                           \n",
      " 15%|██████▌                                     | 15/100 [40:25<3:15:45, 138.18s/trial, best loss: 2.4502692663136036]"
     ]
    },
    {
     "name": "stderr",
     "output_type": "stream",
     "text": [
      "2021-07-30 10:24:18 INFO     {'Base': DecisionTreeRegressor(criterion='friedman_mse', max_leaf_nodes=127,\n",
      "                      min_samples_split=3, random_state=1), 'col_sample': 0.7000000000000001, 'learning_rate': 0.008, 'minibatch_frac': 0.6000000000000001, 'Dist': <class 'ngboost.distns.poisson.Poisson'>, 'Score': <class 'ngboost.scores.LogScore'>, 'n_estimators': 10000000, 'verbose_eval': 100, 'random_state': 13}\n"
     ]
    },
    {
     "name": "stdout",
     "output_type": "stream",
     "text": [
      "\r",
      " 16%|███████                                     | 16/100 [40:25<2:32:12, 108.72s/trial, best loss: 2.4502692663136036]"
     ]
    },
    {
     "name": "stderr",
     "output_type": "stream",
     "text": [
      "2021-07-30 10:24:18 INFO     build_posterior_wrapper took 0.002002 seconds\n",
      "2021-07-30 10:24:18 INFO     TPE using 16/16 trials with best loss 2.450269\n"
     ]
    },
    {
     "name": "stdout",
     "output_type": "stream",
     "text": [
      "{'Base': DecisionTreeRegressor(criterion='friedman_mse', max_leaf_nodes=255,                                           \n",
      "                      min_samples_split=3, random_state=1), 'col_sample': 0.6000000000000001, 'learning_rate': 0.004, 'minibatch_frac': 1.0, 'Dist': <class 'ngboost.distns.poisson.Poisson'>, 'Score': <class 'ngboost.scores.LogScore'>, 'n_estimators': 10000000, 'verbose_eval': 100, 'random_state': 13}\n",
      "[iter 0] loss=6.7289 val_loss=6.7033 scale=1.0000 norm=0.5897                                                          \n",
      "[iter 100] loss=4.1532 val_loss=4.1787 scale=2.0000 norm=0.7696                                                        \n",
      "[iter 200] loss=2.9052 val_loss=2.9704 scale=2.0000 norm=0.5050                                                        \n",
      "[iter 300] loss=2.5345 val_loss=2.6155 scale=2.0000 norm=0.3808                                                        \n",
      "[iter 400] loss=2.4146 val_loss=2.5057 scale=2.0000 norm=0.3226                                                        \n",
      "[iter 500] loss=2.3736 val_loss=2.4723 scale=2.0000 norm=0.2990                                                        \n",
      "[iter 600] loss=2.3569 val_loss=2.4613 scale=2.0000 norm=0.2888                                                        \n",
      "[iter 700] loss=2.3484 val_loss=2.4578 scale=1.0000 norm=0.1417                                                        \n",
      "== Early stopping achieved.                                                                                            \n",
      "== Best iteration / VAL711 (val_loss=2.4578)                                                                           \n",
      " 16%|███████                                     | 16/100 [42:16<2:32:12, 108.72s/trial, best loss: 2.4502692663136036]"
     ]
    },
    {
     "name": "stderr",
     "output_type": "stream",
     "text": [
      "2021-07-30 10:26:08 INFO     {'Base': DecisionTreeRegressor(criterion='friedman_mse', max_leaf_nodes=255,\n",
      "                      min_samples_split=3, random_state=1), 'col_sample': 0.6000000000000001, 'learning_rate': 0.004, 'minibatch_frac': 1.0, 'Dist': <class 'ngboost.distns.poisson.Poisson'>, 'Score': <class 'ngboost.scores.LogScore'>, 'n_estimators': 10000000, 'verbose_eval': 100, 'random_state': 13}\n"
     ]
    },
    {
     "name": "stdout",
     "output_type": "stream",
     "text": [
      "\r",
      " 17%|███████▍                                    | 17/100 [42:16<2:31:03, 109.19s/trial, best loss: 2.4502692663136036]"
     ]
    },
    {
     "name": "stderr",
     "output_type": "stream",
     "text": [
      "2021-07-30 10:26:08 INFO     build_posterior_wrapper took 0.002035 seconds\n",
      "2021-07-30 10:26:08 INFO     TPE using 17/17 trials with best loss 2.450269\n"
     ]
    },
    {
     "name": "stdout",
     "output_type": "stream",
     "text": [
      "{'Base': DecisionTreeRegressor(criterion='friedman_mse', max_leaf_nodes=63,                                            \n",
      "                      min_samples_split=3, random_state=1), 'col_sample': 1.0, 'learning_rate': 0.009000000000000001, 'minibatch_frac': 0.8, 'Dist': <class 'ngboost.distns.poisson.Poisson'>, 'Score': <class 'ngboost.scores.LogScore'>, 'n_estimators': 10000000, 'verbose_eval': 100, 'random_state': 13}\n",
      "[iter 0] loss=6.7165 val_loss=6.6658 scale=1.0000 norm=0.5892                                                          \n",
      "[iter 100] loss=2.7864 val_loss=2.8080 scale=2.0000 norm=0.4739                                                        \n",
      "[iter 200] loss=2.4469 val_loss=2.4867 scale=2.0000 norm=0.3450                                                        \n",
      "[iter 300] loss=2.4215 val_loss=2.4670 scale=1.0000 norm=0.1698                                                        \n",
      "== Early stopping achieved.                                                                                            \n",
      "== Best iteration / VAL359 (val_loss=2.4651)                                                                           \n",
      " 17%|███████▍                                    | 17/100 [43:12<2:31:03, 109.19s/trial, best loss: 2.4502692663136036]"
     ]
    },
    {
     "name": "stderr",
     "output_type": "stream",
     "text": [
      "2021-07-30 10:27:05 INFO     {'Base': DecisionTreeRegressor(criterion='friedman_mse', max_leaf_nodes=63,\n",
      "                      min_samples_split=3, random_state=1), 'col_sample': 1.0, 'learning_rate': 0.009000000000000001, 'minibatch_frac': 0.8, 'Dist': <class 'ngboost.distns.poisson.Poisson'>, 'Score': <class 'ngboost.scores.LogScore'>, 'n_estimators': 10000000, 'verbose_eval': 100, 'random_state': 13}\n"
     ]
    },
    {
     "name": "stdout",
     "output_type": "stream",
     "text": [
      "\r",
      " 18%|████████                                     | 18/100 [43:12<2:07:27, 93.27s/trial, best loss: 2.4502692663136036]"
     ]
    },
    {
     "name": "stderr",
     "output_type": "stream",
     "text": [
      "2021-07-30 10:27:05 INFO     build_posterior_wrapper took 0.001037 seconds\n",
      "2021-07-30 10:27:05 INFO     TPE using 18/18 trials with best loss 2.450269\n"
     ]
    },
    {
     "name": "stdout",
     "output_type": "stream",
     "text": [
      "{'Base': DecisionTreeRegressor(criterion='friedman_mse', max_leaf_nodes=255,                                           \n",
      "                      min_samples_split=3, random_state=1), 'col_sample': 0.8, 'learning_rate': 0.009000000000000001, 'minibatch_frac': 0.5, 'Dist': <class 'ngboost.distns.poisson.Poisson'>, 'Score': <class 'ngboost.scores.LogScore'>, 'n_estimators': 10000000, 'verbose_eval': 100, 'random_state': 13}\n",
      "[iter 0] loss=6.6714 val_loss=6.6669 scale=1.0000 norm=0.5876                                                          \n",
      "[iter 100] loss=2.7503 val_loss=2.8011 scale=2.0000 norm=0.4645                                                        \n",
      "[iter 200] loss=2.3807 val_loss=2.4721 scale=2.0000 norm=0.2971                                                        \n",
      "[iter 300] loss=2.3407 val_loss=2.4531 scale=2.0000 norm=0.2783                                                        \n",
      "== Early stopping achieved.                                                                                            \n",
      "== Best iteration / VAL320 (val_loss=2.4524)                                                                           \n",
      " 18%|████████                                     | 18/100 [43:48<2:07:27, 93.27s/trial, best loss: 2.4502692663136036]"
     ]
    },
    {
     "name": "stderr",
     "output_type": "stream",
     "text": [
      "2021-07-30 10:27:40 INFO     {'Base': DecisionTreeRegressor(criterion='friedman_mse', max_leaf_nodes=255,\n",
      "                      min_samples_split=3, random_state=1), 'col_sample': 0.8, 'learning_rate': 0.009000000000000001, 'minibatch_frac': 0.5, 'Dist': <class 'ngboost.distns.poisson.Poisson'>, 'Score': <class 'ngboost.scores.LogScore'>, 'n_estimators': 10000000, 'verbose_eval': 100, 'random_state': 13}\n"
     ]
    },
    {
     "name": "stdout",
     "output_type": "stream",
     "text": [
      "\r",
      " 19%|████████▌                                    | 19/100 [43:48<1:42:34, 75.99s/trial, best loss: 2.4502692663136036]"
     ]
    },
    {
     "name": "stderr",
     "output_type": "stream",
     "text": [
      "2021-07-30 10:27:40 INFO     build_posterior_wrapper took 0.002001 seconds\n",
      "2021-07-30 10:27:40 INFO     TPE using 19/19 trials with best loss 2.450269\n"
     ]
    },
    {
     "name": "stdout",
     "output_type": "stream",
     "text": [
      "{'Base': DecisionTreeRegressor(criterion='friedman_mse', max_leaf_nodes=255,                                           \n",
      "                      min_samples_split=3, random_state=1), 'col_sample': 0.9, 'learning_rate': 0.009000000000000001, 'minibatch_frac': 0.8, 'Dist': <class 'ngboost.distns.poisson.Poisson'>, 'Score': <class 'ngboost.scores.LogScore'>, 'n_estimators': 10000000, 'verbose_eval': 100, 'random_state': 13}\n",
      "[iter 0] loss=6.7165 val_loss=6.6663 scale=1.0000 norm=0.5892                                                          \n",
      " 19%|████████▌                                    | 19/100 [43:48<1:42:34, 75.99s/trial, best loss: 2.4502692663136036]"
     ]
    }
   ],
   "source": [
    "# Arrival \n",
    "\n",
    "TRIALS = Trials()\n",
    "logger.info(\"Start parameter optimization...\")\n",
    "\n",
    "\n",
    "with warnings.catch_warnings():\n",
    "    warnings.simplefilter(\"ignore\")\n",
    "    best = fmin(fn=objective_a,\n",
    "                space=space,\n",
    "                algo=tpe.suggest,\n",
    "                max_evals=100,\n",
    "                trials=TRIALS)\n",
    "logger.info(\"...done\")"
   ]
  },
  {
   "cell_type": "code",
   "execution_count": null,
   "id": "f000ada0",
   "metadata": {
    "ExecuteTime": {
     "start_time": "2021-07-30T00:43:53.687Z"
    }
   },
   "outputs": [],
   "source": [
    "best_params = space_eval(space, best)\n",
    "best_params"
   ]
  },
  {
   "cell_type": "code",
   "execution_count": null,
   "id": "61eeaade",
   "metadata": {
    "ExecuteTime": {
     "end_time": "2021-07-28T02:39:44.613937Z",
     "start_time": "2021-07-27T22:37:27.639958Z"
    }
   },
   "outputs": [],
   "source": [
    "# Departure \n",
    "\n",
    "TRIALS = Trials()\n",
    "logger.info(\"Start parameter optimization...\")\n",
    "\n",
    "\n",
    "with warnings.catch_warnings():\n",
    "    warnings.simplefilter(\"ignore\")\n",
    "    best = fmin(fn=objective_a,\n",
    "                space=space,\n",
    "                algo=tpe.suggest,\n",
    "                max_evals=100,\n",
    "                trials=TRIALS)\n",
    "logger.info(\"...done\")"
   ]
  },
  {
   "cell_type": "code",
   "execution_count": null,
   "id": "9ca9932c",
   "metadata": {
    "ExecuteTime": {
     "end_time": "2021-07-28T02:42:00.984772Z",
     "start_time": "2021-07-28T02:42:00.961548Z"
    }
   },
   "outputs": [],
   "source": [
    "best_params = space_eval(space, best)\n",
    "best_params"
   ]
  },
  {
   "cell_type": "markdown",
   "id": "d1fc4e39",
   "metadata": {},
   "source": [
    "## NGBoost"
   ]
  },
  {
   "cell_type": "code",
   "execution_count": 10,
   "id": "439b3d6f",
   "metadata": {
    "ExecuteTime": {
     "end_time": "2021-07-30T00:27:37.255783Z",
     "start_time": "2021-07-30T00:22:17.080052Z"
    }
   },
   "outputs": [
    {
     "name": "stdout",
     "output_type": "stream",
     "text": [
      "[iter 0] loss=6.7214 val_loss=6.6999 scale=1.0000 norm=0.5887\n",
      "[iter 100] loss=6.0261 val_loss=6.0370 scale=1.0000 norm=0.5356\n",
      "[iter 200] loss=5.4899 val_loss=5.4825 scale=1.0000 norm=0.4945\n",
      "[iter 300] loss=4.8122 val_loss=4.7953 scale=2.0000 norm=0.8819\n",
      "[iter 400] loss=4.1541 val_loss=4.1550 scale=2.0000 norm=0.7719\n",
      "[iter 500] loss=3.6778 val_loss=3.6929 scale=2.0000 norm=0.6812\n",
      "[iter 600] loss=3.3415 val_loss=3.3565 scale=2.0000 norm=0.6136\n",
      "[iter 700] loss=3.0975 val_loss=3.1126 scale=2.0000 norm=0.5583\n",
      "[iter 800] loss=2.9043 val_loss=2.9329 scale=2.0000 norm=0.5065\n",
      "[iter 900] loss=2.7716 val_loss=2.8013 scale=2.0000 norm=0.4674\n",
      "[iter 1000] loss=2.6719 val_loss=2.7048 scale=2.0000 norm=0.4324\n",
      "[iter 1100] loss=2.5962 val_loss=2.6341 scale=2.0000 norm=0.4057\n",
      "[iter 1200] loss=2.5419 val_loss=2.5824 scale=2.0000 norm=0.3861\n",
      "[iter 1300] loss=2.5032 val_loss=2.5449 scale=2.0000 norm=0.3647\n",
      "[iter 1400] loss=2.4749 val_loss=2.5176 scale=2.0000 norm=0.3525\n",
      "[iter 1500] loss=2.4505 val_loss=2.4979 scale=2.0000 norm=0.3441\n",
      "[iter 1600] loss=2.4373 val_loss=2.4831 scale=2.0000 norm=0.3343\n",
      "[iter 1700] loss=2.4219 val_loss=2.4723 scale=2.0000 norm=0.3285\n",
      "[iter 1800] loss=2.4103 val_loss=2.4648 scale=2.0000 norm=0.3224\n",
      "[iter 1900] loss=2.4068 val_loss=2.4592 scale=2.0000 norm=0.3189\n",
      "[iter 2000] loss=2.4005 val_loss=2.4551 scale=2.0000 norm=0.3176\n",
      "[iter 2100] loss=2.3911 val_loss=2.4523 scale=2.0000 norm=0.3172\n",
      "[iter 2200] loss=2.3888 val_loss=2.4503 scale=2.0000 norm=0.3148\n",
      "[iter 2300] loss=2.3901 val_loss=2.4489 scale=2.0000 norm=0.3118\n",
      "== Early stopping achieved.\n",
      "== Best iteration / VAL2359 (val_loss=2.4484)\n"
     ]
    },
    {
     "data": {
      "text/plain": [
       "NGBRegressor(Base=DecisionTreeRegressor(criterion='friedman_mse',\n",
       "                                        max_leaf_nodes=127, min_samples_split=3,\n",
       "                                        random_state=1),\n",
       "             Dist=<class 'ngboost.distns.poisson.Poisson'>, col_sample=0.8,\n",
       "             learning_rate=0.001, minibatch_frac=0.8, n_estimators=10000000,\n",
       "             random_state=RandomState(MT19937) at 0x1E0B159AA40, tol=1e-05)"
      ]
     },
     "execution_count": 10,
     "metadata": {},
     "output_type": "execute_result"
    }
   ],
   "source": [
    "# Arrival\n",
    "\n",
    "tree_learner = DecisionTreeRegressor(criterion = \"friedman_mse\",                 # “mse”, “friedman_mse”, “mae”, “poisson”\n",
    "                                     min_samples_split = 3,             # The minimum number of samples required to split an internal node\n",
    "                                     min_samples_leaf = 1,              # The minimum number of samples required to be at a leaf node\n",
    "                                     min_weight_fraction_leaf = 0.0,    # The minimum weighted fraction of the sum total of weights required to be at a leaf node\n",
    "                                     max_depth = None,                  # The maximum depth of the tree\n",
    "                                     max_leaf_nodes = 127,              # Grow a tree with 'max_leaf_nodes' in best-first fashion\n",
    "                                     splitter = \"best\",                 # The strategy used to choose the split at each node\n",
    "                                     random_state = seed)\n",
    "\n",
    "####################################################  Poisson -> NOrmal ######################################\n",
    "ngb_arrival = NGBRegressor(Dist = Poisson,               # A distribution from ngboost.distns : Normal, LogNormal, Exponential...\n",
    "                           Score = MLE,            # rule to compare probabilistic predictions P̂ to the observed data y, from ngboost.scores : LogScore, CRPScore...\n",
    "                           Base = tree_learner,         # base learner to use in the boosting algorithm\n",
    "                           natural_gradient = True,     # logical flag indicating whether the natural gradient should be used\n",
    "                           verbose = True,\n",
    "                           n_estimators = 10000000, \n",
    "                           learning_rate = 0.001,\n",
    "                           minibatch_frac = 0.8,        # the percent subsample of rows to use in each boosting iteration\n",
    "                           col_sample = 0.8,            \n",
    "                           tol = 1e-5,                  # numerical tolerance to be used in optimization\n",
    "                           random_state = 13)\n",
    "\n",
    "ngb_arrival.fit(X_train_a, y_train_a,\n",
    "                X_val = X_val_a,\n",
    "                Y_val = y_val_a,\n",
    "                sample_weight = None,                   # Weights of training data\n",
    "                val_sample_weight = None,               # Weights of eval data\n",
    "                train_loss_monitor = None,              # custom score or set of scores to track on the training set during training\n",
    "                val_loss_monitor = None,                # custom score or set of scores to track on the validation set during training\n",
    "                early_stopping_rounds = 2)"
   ]
  },
  {
   "cell_type": "code",
   "execution_count": null,
   "id": "d55ad61f",
   "metadata": {
    "ExecuteTime": {
     "end_time": "2021-07-26T05:28:13.761809Z",
     "start_time": "2021-07-26T05:24:57.398709Z"
    }
   },
   "outputs": [],
   "source": [
    "# Departure\n",
    "\n",
    "tree_learner = DecisionTreeRegressor(criterion = \"friedman_mse\",                 # “mse”, “friedman_mse”, “mae”, “poisson”\n",
    "                                     min_samples_split = 3,             # The minimum number of samples required to split an internal node\n",
    "                                     min_samples_leaf = 1,              # The minimum number of samples required to be at a leaf node\n",
    "                                     min_weight_fraction_leaf = 0.0,    # The minimum weighted fraction of the sum total of weights required to be at a leaf node\n",
    "                                     max_depth = None,                  # The maximum depth of the tree\n",
    "                                     max_leaf_nodes = 127,              # Grow a tree with 'max_leaf_nodes' in best-first fashion\n",
    "                                     splitter = \"best\",                 # The strategy used to choose the split at each node\n",
    "                                     random_state = seed)\n",
    "\n",
    "\n",
    "ngb_departure = NGBRegressor(Dist = Normal,               # A distribution from ngboost.distns : Normal, LogNormal, Exponential...\n",
    "                             Score = MLE,            # rule to compare probabilistic predictions P̂ to the observed data y, from ngboost.scores : LogScore, CRPScore...\n",
    "                             Base = tree_learner,         # base learner to use in the boosting algorithm\n",
    "                             natural_gradient = True,     # logical flag indicating whether the natural gradient should be used\n",
    "                             verbose = True,\n",
    "                             n_estimators = 10000000, \n",
    "                             learning_rate = 0.001,\n",
    "                             minibatch_frac = 0.8,        # the percent subsample of rows to use in each boosting iteration\n",
    "                             col_sample = 0.8,            \n",
    "                             tol = 1e-5,                  # numerical tolerance to be used in optimization\n",
    "                             random_state = 13)\n",
    "\n",
    "\n",
    "ngb_departure.fit(X_train_d, y_train_d,\n",
    "                X_val = X_val_d,\n",
    "                Y_val = y_val_d,\n",
    "                sample_weight = None,                   # Weights of training data\n",
    "                val_sample_weight = None,               # Weights of eval data\n",
    "                train_loss_monitor = None,              # custom score or set of scores to track on the training set during training\n",
    "                val_loss_monitor = None,                # custom score or set of scores to track on the validation set during training\n",
    "                early_stopping_rounds = 10)"
   ]
  },
  {
   "cell_type": "code",
   "execution_count": 11,
   "id": "4a784943",
   "metadata": {
    "ExecuteTime": {
     "end_time": "2021-07-30T00:28:14.870445Z",
     "start_time": "2021-07-30T00:27:47.964951Z"
    },
    "collapsed": true
   },
   "outputs": [
    {
     "ename": "ValueError",
     "evalue": "Input contains NaN, infinity or a value too large for dtype('float64').",
     "output_type": "error",
     "traceback": [
      "\u001b[1;31m---------------------------------------------------------------------------\u001b[0m",
      "\u001b[1;31mValueError\u001b[0m                                Traceback (most recent call last)",
      "\u001b[1;32m<ipython-input-11-a3e577f5189f>\u001b[0m in \u001b[0;36m<module>\u001b[1;34m\u001b[0m\n\u001b[0;32m      1\u001b[0m \u001b[1;31m# Arrival\u001b[0m\u001b[1;33m\u001b[0m\u001b[1;33m\u001b[0m\u001b[1;33m\u001b[0m\u001b[0m\n\u001b[0;32m      2\u001b[0m \u001b[1;33m\u001b[0m\u001b[0m\n\u001b[1;32m----> 3\u001b[1;33m \u001b[0mprint\u001b[0m\u001b[1;33m(\u001b[0m\u001b[1;34m\"Train set RMSE : \"\u001b[0m \u001b[1;33m,\u001b[0m \u001b[0mnp\u001b[0m\u001b[1;33m.\u001b[0m\u001b[0msqrt\u001b[0m\u001b[1;33m(\u001b[0m\u001b[0mmean_squared_error\u001b[0m\u001b[1;33m(\u001b[0m\u001b[0my_train_a\u001b[0m\u001b[1;33m,\u001b[0m \u001b[0mngb_arrival\u001b[0m\u001b[1;33m.\u001b[0m\u001b[0mpred_dist\u001b[0m\u001b[1;33m(\u001b[0m\u001b[0mX_train_a\u001b[0m\u001b[1;33m)\u001b[0m\u001b[1;33m.\u001b[0m\u001b[0mloc\u001b[0m\u001b[1;33m)\u001b[0m\u001b[1;33m)\u001b[0m\u001b[1;33m)\u001b[0m\u001b[1;33m\u001b[0m\u001b[1;33m\u001b[0m\u001b[0m\n\u001b[0m\u001b[0;32m      4\u001b[0m \u001b[0mprint\u001b[0m\u001b[1;33m(\u001b[0m\u001b[1;34m\"Test set RMSE : \"\u001b[0m \u001b[1;33m,\u001b[0m \u001b[0mnp\u001b[0m\u001b[1;33m.\u001b[0m\u001b[0msqrt\u001b[0m\u001b[1;33m(\u001b[0m\u001b[0mmean_squared_error\u001b[0m\u001b[1;33m(\u001b[0m\u001b[0my_test_a\u001b[0m\u001b[1;33m,\u001b[0m \u001b[0mngb_arrival\u001b[0m\u001b[1;33m.\u001b[0m\u001b[0mpred_dist\u001b[0m\u001b[1;33m(\u001b[0m\u001b[0mX_test_a\u001b[0m\u001b[1;33m)\u001b[0m\u001b[1;33m.\u001b[0m\u001b[0mloc\u001b[0m\u001b[1;33m)\u001b[0m\u001b[1;33m)\u001b[0m\u001b[1;33m)\u001b[0m\u001b[1;33m\u001b[0m\u001b[1;33m\u001b[0m\u001b[0m\n\u001b[0;32m      5\u001b[0m \u001b[1;33m\u001b[0m\u001b[0m\n",
      "\u001b[1;32m~\\anaconda3\\envs\\py01\\lib\\site-packages\\sklearn\\utils\\validation.py\u001b[0m in \u001b[0;36minner_f\u001b[1;34m(*args, **kwargs)\u001b[0m\n\u001b[0;32m     61\u001b[0m             \u001b[0mextra_args\u001b[0m \u001b[1;33m=\u001b[0m \u001b[0mlen\u001b[0m\u001b[1;33m(\u001b[0m\u001b[0margs\u001b[0m\u001b[1;33m)\u001b[0m \u001b[1;33m-\u001b[0m \u001b[0mlen\u001b[0m\u001b[1;33m(\u001b[0m\u001b[0mall_args\u001b[0m\u001b[1;33m)\u001b[0m\u001b[1;33m\u001b[0m\u001b[1;33m\u001b[0m\u001b[0m\n\u001b[0;32m     62\u001b[0m             \u001b[1;32mif\u001b[0m \u001b[0mextra_args\u001b[0m \u001b[1;33m<=\u001b[0m \u001b[1;36m0\u001b[0m\u001b[1;33m:\u001b[0m\u001b[1;33m\u001b[0m\u001b[1;33m\u001b[0m\u001b[0m\n\u001b[1;32m---> 63\u001b[1;33m                 \u001b[1;32mreturn\u001b[0m \u001b[0mf\u001b[0m\u001b[1;33m(\u001b[0m\u001b[1;33m*\u001b[0m\u001b[0margs\u001b[0m\u001b[1;33m,\u001b[0m \u001b[1;33m**\u001b[0m\u001b[0mkwargs\u001b[0m\u001b[1;33m)\u001b[0m\u001b[1;33m\u001b[0m\u001b[1;33m\u001b[0m\u001b[0m\n\u001b[0m\u001b[0;32m     64\u001b[0m \u001b[1;33m\u001b[0m\u001b[0m\n\u001b[0;32m     65\u001b[0m             \u001b[1;31m# extra_args > 0\u001b[0m\u001b[1;33m\u001b[0m\u001b[1;33m\u001b[0m\u001b[1;33m\u001b[0m\u001b[0m\n",
      "\u001b[1;32m~\\anaconda3\\envs\\py01\\lib\\site-packages\\sklearn\\metrics\\_regression.py\u001b[0m in \u001b[0;36mmean_squared_error\u001b[1;34m(y_true, y_pred, sample_weight, multioutput, squared)\u001b[0m\n\u001b[0;32m    333\u001b[0m     \u001b[1;36m0.825\u001b[0m\u001b[1;33m...\u001b[0m\u001b[1;33m\u001b[0m\u001b[1;33m\u001b[0m\u001b[0m\n\u001b[0;32m    334\u001b[0m     \"\"\"\n\u001b[1;32m--> 335\u001b[1;33m     y_type, y_true, y_pred, multioutput = _check_reg_targets(\n\u001b[0m\u001b[0;32m    336\u001b[0m         y_true, y_pred, multioutput)\n\u001b[0;32m    337\u001b[0m     \u001b[0mcheck_consistent_length\u001b[0m\u001b[1;33m(\u001b[0m\u001b[0my_true\u001b[0m\u001b[1;33m,\u001b[0m \u001b[0my_pred\u001b[0m\u001b[1;33m,\u001b[0m \u001b[0msample_weight\u001b[0m\u001b[1;33m)\u001b[0m\u001b[1;33m\u001b[0m\u001b[1;33m\u001b[0m\u001b[0m\n",
      "\u001b[1;32m~\\anaconda3\\envs\\py01\\lib\\site-packages\\sklearn\\metrics\\_regression.py\u001b[0m in \u001b[0;36m_check_reg_targets\u001b[1;34m(y_true, y_pred, multioutput, dtype)\u001b[0m\n\u001b[0;32m     88\u001b[0m     \u001b[0mcheck_consistent_length\u001b[0m\u001b[1;33m(\u001b[0m\u001b[0my_true\u001b[0m\u001b[1;33m,\u001b[0m \u001b[0my_pred\u001b[0m\u001b[1;33m)\u001b[0m\u001b[1;33m\u001b[0m\u001b[1;33m\u001b[0m\u001b[0m\n\u001b[0;32m     89\u001b[0m     \u001b[0my_true\u001b[0m \u001b[1;33m=\u001b[0m \u001b[0mcheck_array\u001b[0m\u001b[1;33m(\u001b[0m\u001b[0my_true\u001b[0m\u001b[1;33m,\u001b[0m \u001b[0mensure_2d\u001b[0m\u001b[1;33m=\u001b[0m\u001b[1;32mFalse\u001b[0m\u001b[1;33m,\u001b[0m \u001b[0mdtype\u001b[0m\u001b[1;33m=\u001b[0m\u001b[0mdtype\u001b[0m\u001b[1;33m)\u001b[0m\u001b[1;33m\u001b[0m\u001b[1;33m\u001b[0m\u001b[0m\n\u001b[1;32m---> 90\u001b[1;33m     \u001b[0my_pred\u001b[0m \u001b[1;33m=\u001b[0m \u001b[0mcheck_array\u001b[0m\u001b[1;33m(\u001b[0m\u001b[0my_pred\u001b[0m\u001b[1;33m,\u001b[0m \u001b[0mensure_2d\u001b[0m\u001b[1;33m=\u001b[0m\u001b[1;32mFalse\u001b[0m\u001b[1;33m,\u001b[0m \u001b[0mdtype\u001b[0m\u001b[1;33m=\u001b[0m\u001b[0mdtype\u001b[0m\u001b[1;33m)\u001b[0m\u001b[1;33m\u001b[0m\u001b[1;33m\u001b[0m\u001b[0m\n\u001b[0m\u001b[0;32m     91\u001b[0m \u001b[1;33m\u001b[0m\u001b[0m\n\u001b[0;32m     92\u001b[0m     \u001b[1;32mif\u001b[0m \u001b[0my_true\u001b[0m\u001b[1;33m.\u001b[0m\u001b[0mndim\u001b[0m \u001b[1;33m==\u001b[0m \u001b[1;36m1\u001b[0m\u001b[1;33m:\u001b[0m\u001b[1;33m\u001b[0m\u001b[1;33m\u001b[0m\u001b[0m\n",
      "\u001b[1;32m~\\anaconda3\\envs\\py01\\lib\\site-packages\\sklearn\\utils\\validation.py\u001b[0m in \u001b[0;36minner_f\u001b[1;34m(*args, **kwargs)\u001b[0m\n\u001b[0;32m     61\u001b[0m             \u001b[0mextra_args\u001b[0m \u001b[1;33m=\u001b[0m \u001b[0mlen\u001b[0m\u001b[1;33m(\u001b[0m\u001b[0margs\u001b[0m\u001b[1;33m)\u001b[0m \u001b[1;33m-\u001b[0m \u001b[0mlen\u001b[0m\u001b[1;33m(\u001b[0m\u001b[0mall_args\u001b[0m\u001b[1;33m)\u001b[0m\u001b[1;33m\u001b[0m\u001b[1;33m\u001b[0m\u001b[0m\n\u001b[0;32m     62\u001b[0m             \u001b[1;32mif\u001b[0m \u001b[0mextra_args\u001b[0m \u001b[1;33m<=\u001b[0m \u001b[1;36m0\u001b[0m\u001b[1;33m:\u001b[0m\u001b[1;33m\u001b[0m\u001b[1;33m\u001b[0m\u001b[0m\n\u001b[1;32m---> 63\u001b[1;33m                 \u001b[1;32mreturn\u001b[0m \u001b[0mf\u001b[0m\u001b[1;33m(\u001b[0m\u001b[1;33m*\u001b[0m\u001b[0margs\u001b[0m\u001b[1;33m,\u001b[0m \u001b[1;33m**\u001b[0m\u001b[0mkwargs\u001b[0m\u001b[1;33m)\u001b[0m\u001b[1;33m\u001b[0m\u001b[1;33m\u001b[0m\u001b[0m\n\u001b[0m\u001b[0;32m     64\u001b[0m \u001b[1;33m\u001b[0m\u001b[0m\n\u001b[0;32m     65\u001b[0m             \u001b[1;31m# extra_args > 0\u001b[0m\u001b[1;33m\u001b[0m\u001b[1;33m\u001b[0m\u001b[1;33m\u001b[0m\u001b[0m\n",
      "\u001b[1;32m~\\anaconda3\\envs\\py01\\lib\\site-packages\\sklearn\\utils\\validation.py\u001b[0m in \u001b[0;36mcheck_array\u001b[1;34m(array, accept_sparse, accept_large_sparse, dtype, order, copy, force_all_finite, ensure_2d, allow_nd, ensure_min_samples, ensure_min_features, estimator)\u001b[0m\n\u001b[0;32m    718\u001b[0m \u001b[1;33m\u001b[0m\u001b[0m\n\u001b[0;32m    719\u001b[0m         \u001b[1;32mif\u001b[0m \u001b[0mforce_all_finite\u001b[0m\u001b[1;33m:\u001b[0m\u001b[1;33m\u001b[0m\u001b[1;33m\u001b[0m\u001b[0m\n\u001b[1;32m--> 720\u001b[1;33m             _assert_all_finite(array,\n\u001b[0m\u001b[0;32m    721\u001b[0m                                allow_nan=force_all_finite == 'allow-nan')\n\u001b[0;32m    722\u001b[0m \u001b[1;33m\u001b[0m\u001b[0m\n",
      "\u001b[1;32m~\\anaconda3\\envs\\py01\\lib\\site-packages\\sklearn\\utils\\validation.py\u001b[0m in \u001b[0;36m_assert_all_finite\u001b[1;34m(X, allow_nan, msg_dtype)\u001b[0m\n\u001b[0;32m    101\u001b[0m                 not allow_nan and not np.isfinite(X).all()):\n\u001b[0;32m    102\u001b[0m             \u001b[0mtype_err\u001b[0m \u001b[1;33m=\u001b[0m \u001b[1;34m'infinity'\u001b[0m \u001b[1;32mif\u001b[0m \u001b[0mallow_nan\u001b[0m \u001b[1;32melse\u001b[0m \u001b[1;34m'NaN, infinity'\u001b[0m\u001b[1;33m\u001b[0m\u001b[1;33m\u001b[0m\u001b[0m\n\u001b[1;32m--> 103\u001b[1;33m             raise ValueError(\n\u001b[0m\u001b[0;32m    104\u001b[0m                     \u001b[0mmsg_err\u001b[0m\u001b[1;33m.\u001b[0m\u001b[0mformat\u001b[0m\u001b[1;33m\u001b[0m\u001b[1;33m\u001b[0m\u001b[0m\n\u001b[0;32m    105\u001b[0m                     (type_err,\n",
      "\u001b[1;31mValueError\u001b[0m: Input contains NaN, infinity or a value too large for dtype('float64')."
     ]
    }
   ],
   "source": [
    "# Arrival\n",
    "\n",
    "print(\"Train set RMSE : \" , np.sqrt(mean_squared_error(y_train_a, ngb_arrival.pred_dist(X_train_a).loc)))\n",
    "print(\"Test set RMSE : \" , np.sqrt(mean_squared_error(y_test_a, ngb_arrival.pred_dist(X_test_a).loc)))\n",
    "\n",
    "print(\"Train set R^2 : \" , r2_score(y_train_a, ngb_arrival.pred_dist(X_train_a).loc))\n",
    "print(\"Test set R^2 : \" , r2_score(y_test_a, ngb_arrival.pred_dist(X_test_a).loc))"
   ]
  },
  {
   "cell_type": "code",
   "execution_count": null,
   "id": "14b14166",
   "metadata": {
    "ExecuteTime": {
     "end_time": "2021-07-26T05:28:53.538733Z",
     "start_time": "2021-07-26T05:28:33.129891Z"
    }
   },
   "outputs": [],
   "source": [
    "# Departure\n",
    "\n",
    "print(\"Train set RMSE : \" , np.sqrt(mean_squared_error(y_train_d, ngb_departure.pred_dist(X_train_d).loc)))\n",
    "print(\"Test set RMSE : \" , np.sqrt(mean_squared_error(y_test_d, ngb_departure.pred_dist(X_test_d).loc)))\n",
    "\n",
    "print(\"Train set R^2 : \" , r2_score(y_train_d, ngb_departure.pred_dist(X_train_d).loc))\n",
    "print(\"Test set R^2 : \" , r2_score(y_test_d, ngb_departure.pred_dist(X_test_d).loc))"
   ]
  },
  {
   "cell_type": "code",
   "execution_count": null,
   "id": "9e159385",
   "metadata": {
    "ExecuteTime": {
     "end_time": "2021-07-29T05:39:20.651733Z",
     "start_time": "2021-07-29T05:38:57.060973Z"
    }
   },
   "outputs": [],
   "source": [
    "y_a_pred = ngb_arrival.pred_dist(X_a)\n",
    "predictions = pd.DataFrame(y_a_pred.loc, columns=['Predictions'])\n",
    "predictions_sd = pd.DataFrame(y_a_pred.scale, columns=['Standard Deviation'])\n",
    "predictions_upper = pd.DataFrame(y_a_pred.dist.interval(0.95)[1], columns=['95% Predictions_upper'])    # 95% prediction interval\n",
    "predictions_lower = pd.DataFrame(y_a_pred.dist.interval(0.95)[0], columns=['95% Predictions_lower'])\n",
    "Actual_AAR = pd.DataFrame({'Actual AAR':y_a})\n",
    "Date = pd.date_range(start='1/1/2019', end='12/31/2019 23:00', freq = '1H')\n",
    "\n",
    "prediction =  pd.concat([pd.DataFrame({'Date':Date}), Actual_AAR, predictions, predictions_sd, \n",
    "                         predictions_upper, predictions_lower], axis = 1)"
   ]
  },
  {
   "cell_type": "code",
   "execution_count": 26,
   "id": "232134b0",
   "metadata": {
    "ExecuteTime": {
     "end_time": "2021-07-30T00:36:54.174211Z",
     "start_time": "2021-07-30T00:36:54.166177Z"
    }
   },
   "outputs": [],
   "source": [
    "def plot_result(prediction, start=0, end=10):   \n",
    "\n",
    "    fig, ax = plt.subplots(figsize=(22, 10))\n",
    "    plt.fill_between(prediction['Date'][start:end], prediction['95% Predictions_lower'][start:end],  prediction['95% Predictions_upper'][start:end], \n",
    "                     label = '95% Prediction Interval', color='gray', alpha=0.5)\n",
    "    plt.plot(prediction['Date'][start:end], prediction['Predictions'][start:end], label = 'Predictions', lw=2)\n",
    "    plt.scatter(prediction['Date'][start:end], prediction['Predictions'][start:end], lw=3)\n",
    "    plt.scatter(prediction['Date'][start:end], prediction['Actual AAR'][start:end], label = 'Actual AAR', color='r', lw=3)\n",
    "\n",
    "    ax.legend(fontsize = 15)\n",
    "    #plt.title('Hourly Power Consumption Actual vs. Predicted Values with Prediction Intervals')\n",
    "    plt.xlabel('Time')\n",
    "    plt.ylabel('Arrivals per hour')\n",
    "    plt.show()"
   ]
  },
  {
   "cell_type": "code",
   "execution_count": 28,
   "id": "f21152d9",
   "metadata": {
    "ExecuteTime": {
     "end_time": "2021-07-30T00:37:04.172555Z",
     "start_time": "2021-07-30T00:37:03.933518Z"
    }
   },
   "outputs": [
    {
     "data": {
      "image/png": "[encoded data removed]",
      "text/plain": [
       "<Figure size 1584x720 with 1 Axes>"
      ]
     },
     "metadata": {},
     "output_type": "display_data"
    }
   ],
   "source": [
    "plot_result(prediction, start = 8230, end = 8250)"
   ]
  },
  {
   "cell_type": "code",
   "execution_count": null,
   "id": "9cd241a1",
   "metadata": {},
   "outputs": [],
   "source": []
  },
  {
   "cell_type": "code",
   "execution_count": null,
   "id": "4a9e5e16",
   "metadata": {},
   "outputs": [],
   "source": []
  },
  {
   "cell_type": "code",
   "execution_count": null,
   "id": "9fe50bd8",
   "metadata": {},
   "outputs": [],
   "source": []
  },
  {
   "cell_type": "code",
   "execution_count": null,
   "id": "53e21330",
   "metadata": {},
   "outputs": [],
   "source": []
  },
  {
   "cell_type": "markdown",
   "id": "4b423fc3",
   "metadata": {},
   "source": [
    "# NGBoost - example"
   ]
  },
  {
   "cell_type": "markdown",
   "id": "75a8a268",
   "metadata": {},
   "source": [
    "## NGBoost"
   ]
  },
  {
   "cell_type": "code",
   "execution_count": null,
   "id": "635e08c1",
   "metadata": {
    "ExecuteTime": {
     "end_time": "2021-07-14T11:25:42.621308Z",
     "start_time": "2021-07-14T11:25:42.591003Z"
    }
   },
   "outputs": [],
   "source": [
    "X, Y = load_boston(True)\n",
    "X_train, X_test, Y_train, Y_test = train_test_split(X, Y, test_size=0.2)"
   ]
  },
  {
   "cell_type": "code",
   "execution_count": null,
   "id": "370f60c8",
   "metadata": {
    "ExecuteTime": {
     "end_time": "2021-07-14T13:13:17.860090Z",
     "start_time": "2021-07-14T13:13:17.783899Z"
    }
   },
   "outputs": [],
   "source": [
    "# prediction\n",
    "Y_preds = ngb.predict(X_test)"
   ]
  },
  {
   "cell_type": "code",
   "execution_count": null,
   "id": "e8f98b50",
   "metadata": {
    "ExecuteTime": {
     "end_time": "2021-07-14T13:13:53.299599Z",
     "start_time": "2021-07-14T13:13:53.284600Z"
    }
   },
   "outputs": [],
   "source": [
    "# estimated distributional parameters at a set of point\n",
    "Y_dists = ngb.pred_dist(X_test)\n",
    "\n",
    "Y_dists[0:5].params    \n",
    "\n",
    "# loc : mean\n",
    "# scale : standard deviation"
   ]
  },
  {
   "cell_type": "code",
   "execution_count": null,
   "id": "0b15ecec",
   "metadata": {
    "ExecuteTime": {
     "end_time": "2021-07-14T11:25:59.538442Z",
     "start_time": "2021-07-14T11:25:59.526411Z"
    }
   },
   "outputs": [],
   "source": [
    "# test Mean Squared Error\n",
    "test_MSE = mean_squared_error(Y_preds, Y_test)\n",
    "print('Test MSE', test_MSE)\n",
    "\n",
    "# test Negative Log Likelihood\n",
    "test_NLL = -Y_dists.logpdf(Y_test).mean()\n",
    "print('Test NLL', test_NLL)"
   ]
  },
  {
   "cell_type": "markdown",
   "id": "65258c05",
   "metadata": {},
   "source": [
    "## Survival Regression"
   ]
  },
  {
   "cell_type": "code",
   "execution_count": null,
   "id": "d91f86cf",
   "metadata": {},
   "outputs": [],
   "source": [
    "import numpy as np\n",
    "from ngboost import NGBSurvival\n",
    "from ngboost.distns import LogNormal"
   ]
  },
  {
   "cell_type": "code",
   "execution_count": null,
   "id": "000b121c",
   "metadata": {},
   "outputs": [],
   "source": []
  },
  {
   "cell_type": "code",
   "execution_count": null,
   "id": "159c16eb",
   "metadata": {},
   "outputs": [],
   "source": []
  },
  {
   "cell_type": "code",
   "execution_count": null,
   "id": "b673d0a9",
   "metadata": {},
   "outputs": [],
   "source": []
  },
  {
   "cell_type": "code",
   "execution_count": null,
   "id": "7c768413",
   "metadata": {},
   "outputs": [],
   "source": []
  },
  {
   "cell_type": "code",
   "execution_count": null,
   "id": "3b651557",
   "metadata": {},
   "outputs": [],
   "source": []
  },
  {
   "cell_type": "code",
   "execution_count": null,
   "id": "23c4eabf",
   "metadata": {},
   "outputs": [],
   "source": []
  },
  {
   "cell_type": "code",
   "execution_count": null,
   "id": "a15917e8",
   "metadata": {},
   "outputs": [],
   "source": []
  },
  {
   "cell_type": "markdown",
   "id": "a0d591c9",
   "metadata": {},
   "source": [
    "# Distribution Estimator"
   ]
  },
  {
   "cell_type": "code",
   "execution_count": null,
   "id": "c51debc4",
   "metadata": {},
   "outputs": [],
   "source": []
  }
 ],
 "metadata": {
  "kernelspec": {
   "display_name": "Python 3",
   "language": "python",
   "name": "python3"
  },
  "language_info": {
   "codemirror_mode": {
    "name": "ipython",
    "version": 3
   },
   "file_extension": ".py",
   "mimetype": "text/x-python",
   "name": "python",
   "nbconvert_exporter": "python",
   "pygments_lexer": "ipython3",
   "version": "3.8.10"
  },
  "toc": {
   "base_numbering": 1,
   "nav_menu": {},
   "number_sections": true,
   "sideBar": true,
   "skip_h1_title": false,
   "title_cell": "Table of Contents",
   "title_sidebar": "Contents",
   "toc_cell": false,
   "toc_position": {
    "height": "calc(100% - 180px)",
    "left": "10px",
    "top": "150px",
    "width": "214.475px"
   },
   "toc_section_display": true,
   "toc_window_display": true
  },
  "varInspector": {
   "cols": {
    "lenName": 16,
    "lenType": 16,
    "lenVar": 40
   },
   "kernels_config": {
    "python": {
     "delete_cmd_postfix": "",
     "delete_cmd_prefix": "del ",
     "library": "var_list.py",
     "varRefreshCmd": "print(var_dic_list())"
    },
    "r": {
     "delete_cmd_postfix": ") ",
     "delete_cmd_prefix": "rm(",
     "library": "var_list.r",
     "varRefreshCmd": "cat(var_dic_list()) "
    }
   },
   "types_to_exclude": [
    "module",
    "function",
    "builtin_function_or_method",
    "instance",
    "_Feature"
   ],
   "window_display": false
  }
 },
 "nbformat": 4,
 "nbformat_minor": 5
}
