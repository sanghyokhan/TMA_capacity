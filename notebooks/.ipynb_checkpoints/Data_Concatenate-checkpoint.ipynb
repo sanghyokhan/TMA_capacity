{
 "cells": [
  {
   "cell_type": "code",
   "execution_count": 1,
   "id": "643a132f",
   "metadata": {
    "ExecuteTime": {
     "end_time": "2021-07-24T04:39:33.758976Z",
     "start_time": "2021-07-24T04:39:33.010025Z"
    }
   },
   "outputs": [],
   "source": [
    "import numpy as np\n",
    "import pandas as pd\n",
    "import datetime\n",
    "import warnings"
   ]
  },
  {
   "cell_type": "code",
   "execution_count": 2,
   "id": "1d9a5905",
   "metadata": {
    "ExecuteTime": {
     "end_time": "2021-07-24T04:39:33.774975Z",
     "start_time": "2021-07-24T04:39:33.760978Z"
    }
   },
   "outputs": [],
   "source": [
    "# options\n",
    "pd.set_option('max_columns',100)\n",
    "warnings.simplefilter('ignore')"
   ]
  },
  {
   "cell_type": "code",
   "execution_count": 3,
   "id": "bd203a96",
   "metadata": {
    "ExecuteTime": {
     "end_time": "2021-07-24T04:39:34.159092Z",
     "start_time": "2021-07-24T04:39:33.776981Z"
    }
   },
   "outputs": [],
   "source": [
    "# Load Data\n",
    "\n",
    "#Arr_data = pd.DataFrame(pd.read_csv('C:\\\\Users\\\\user\\\\proj\\\\Terminal_Capacity\\\\Data\\\\ACMD\\\\IIS_Arr.dat'))\n",
    "#Dep_data = pd.DataFrame(pd.read_csv('C:\\\\Users\\\\user\\\\proj\\\\Terminal_Capacity\\\\Data\\\\ACMD\\\\IIS_Dep.dat'))\n",
    "Wx_2019 = pd.concat([pd.read_csv('..\\\\data\\\\Weather\\\\RKSI_air_stcs2019%02d.csv' %(i)) for i in range(1,13)], ignore_index=True)\n",
    "Wx_2018 = pd.concat([pd.read_csv('..\\\\data\\\\Weather\\\\RKSI_air_stcs2018%02d.csv' %(i)) for i in range(1,13)], ignore_index=True)\n",
    "\n",
    "taf_2019 = pd.read_csv('..\\\\data\\\\Weather\\\\TAF_data.csv') \n",
    "taf_2018 = pd.read_csv('..\\\\data\\\\Weather\\\\TAF_data_2018.csv') \n",
    "\n",
    "WINTEMP_Osan_2019 = pd.DataFrame(pd.read_csv('..\\\\data\\\\WINTEMP\\\\UPPER_SONDE_47122_STD_2019_2019_2020.csv'))\n",
    "WINTEMP_Osan_2018 = pd.DataFrame(pd.read_csv('..\\\\data\\\\WINTEMP\\\\UPPER_SONDE_47122_STD_2018_2018_2019.csv'))\n",
    "\n",
    "\n",
    "#types = {'WDIR': int, 'WSPD': int, 'WG' : int, 'VIS' : int, 'WC' : str, \n",
    "#         'CLA_1LYR':str, 'BASE_1LYR':int, 'CLA_2LYR':str, 'BASE_2LYR':int, 'CLA_3LYR':str, 'BASE_3LYR':int}"
   ]
  },
  {
   "cell_type": "code",
   "execution_count": 4,
   "id": "2ecf5c42",
   "metadata": {
    "ExecuteTime": {
     "end_time": "2021-07-24T04:39:34.190984Z",
     "start_time": "2021-07-24T04:39:34.165982Z"
    }
   },
   "outputs": [],
   "source": [
    "Wx =  pd.concat([Wx_2018, Wx_2019]).reset_index()\n",
    "Wx = Wx.drop('index', axis=1)                        "
   ]
  },
  {
   "cell_type": "code",
   "execution_count": 5,
   "id": "58352832",
   "metadata": {
    "ExecuteTime": {
     "end_time": "2021-07-24T04:39:34.239015Z",
     "start_time": "2021-07-24T04:39:34.192980Z"
    }
   },
   "outputs": [],
   "source": [
    "taf =  pd.concat([taf_2018, taf_2019])\n",
    "# taf = taf.drop('Unnamed: 0', axis=1)   "
   ]
  },
  {
   "cell_type": "code",
   "execution_count": 6,
   "id": "8939d78c",
   "metadata": {
    "ExecuteTime": {
     "end_time": "2021-07-24T04:39:34.255094Z",
     "start_time": "2021-07-24T04:39:34.244986Z"
    }
   },
   "outputs": [],
   "source": [
    "WINTEMP_Osan = pd.concat([WINTEMP_Osan_2018, WINTEMP_Osan_2019])"
   ]
  },
  {
   "cell_type": "markdown",
   "id": "815ea146",
   "metadata": {},
   "source": [
    "***\n",
    "***\n",
    "***"
   ]
  },
  {
   "cell_type": "markdown",
   "id": "d0d44f75",
   "metadata": {},
   "source": [
    "# Data Processing\n"
   ]
  },
  {
   "cell_type": "markdown",
   "id": "e2fe4043",
   "metadata": {},
   "source": [
    "## Time"
   ]
  },
  {
   "cell_type": "code",
   "execution_count": 7,
   "id": "40ef5716",
   "metadata": {
    "ExecuteTime": {
     "end_time": "2021-07-24T04:39:35.949245Z",
     "start_time": "2021-07-24T04:39:34.255979Z"
    }
   },
   "outputs": [],
   "source": [
    "# 24h -> 00h conversion\n",
    "def twentyfour_to_zero(date):                                             \n",
    "    if date[8:10] == '24':\n",
    "        return pd.to_datetime(date[:-2], format = '%Y%m%d') + pd.Timedelta(days=1)   # +1d 00h \n",
    "    else:\n",
    "        return pd.to_datetime(date, format = '%Y%m%d%H')\n",
    "\n",
    "\n",
    "Wx.TM = Wx.TM.astype(str)                        # Wx.TM : int -> string\n",
    "Wx.TM = Wx.TM.apply(twentyfour_to_zero)  "
   ]
  },
  {
   "cell_type": "code",
   "execution_count": 8,
   "id": "348b55f1",
   "metadata": {
    "ExecuteTime": {
     "end_time": "2021-07-24T04:39:35.979899Z",
     "start_time": "2021-07-24T04:39:35.952203Z"
    }
   },
   "outputs": [],
   "source": [
    "# Day name of the week \n",
    "DayName = Wx['TM'].dt.day_name()               \n",
    "DayName = (DayName.replace('Monday', '1').replace('Tuesday', '2').replace('Wednesday', '3')\n",
    "           .replace('Thursday', '4').replace('Friday', '5').replace('Saturday', '6').replace('Sunday', '7'))\n",
    "DayName = pd.DataFrame({'DayName' : DayName}).reset_index().iloc[:,1]"
   ]
  },
  {
   "cell_type": "code",
   "execution_count": 9,
   "id": "ca76ea34",
   "metadata": {
    "ExecuteTime": {
     "end_time": "2021-07-24T04:39:36.010286Z",
     "start_time": "2021-07-24T04:39:35.981878Z"
    }
   },
   "outputs": [],
   "source": [
    "# Divide time\n",
    "year = Wx.TM.dt.year.reset_index().iloc[:,1]       # 항목별로 추출 -> Timestamp type X\n",
    "month = Wx.TM.dt.month.reset_index().iloc[:,1]\n",
    "day = Wx.TM.dt.day.reset_index().iloc[:,1]\n",
    "hour = Wx.TM.dt.hour.reset_index().iloc[:,1]"
   ]
  },
  {
   "cell_type": "code",
   "execution_count": 10,
   "id": "c1d3f0d9",
   "metadata": {
    "ExecuteTime": {
     "end_time": "2021-07-24T04:39:36.025635Z",
     "start_time": "2021-07-24T04:39:36.011284Z"
    }
   },
   "outputs": [],
   "source": [
    "# Time Concatenate\n",
    "Time = pd.DataFrame({'year' : year, 'month' : month, 'day' : day, 'hour' : hour, 'DayName' : DayName})"
   ]
  },
  {
   "cell_type": "markdown",
   "id": "8ef365f1",
   "metadata": {},
   "source": [
    "***\n",
    "## TAF"
   ]
  },
  {
   "cell_type": "code",
   "execution_count": 11,
   "id": "d0abbf2e",
   "metadata": {
    "ExecuteTime": {
     "end_time": "2021-07-24T04:39:36.153666Z",
     "start_time": "2021-07-24T04:39:36.027646Z"
    }
   },
   "outputs": [],
   "source": [
    "# fill NaN\n",
    "taf = taf.fillna({'WDIR': 0, 'WSPD': 0, 'WG' : 0, 'VIS' : 9999, 'WC' : 0, \n",
    "            'CLA_1LYR':0, 'BASE_1LYR':400, 'CLA_2LYR':0, 'BASE_2LYR':400, 'CLA_3LYR':0, 'BASE_3LYR':400})\n",
    "taf = taf.rename(columns = {'Unnamed: 0' : 'Time'})\n",
    "taf['Time'] = pd.to_datetime(taf['Time'])\n",
    "taf['issue_time'] = pd.to_datetime(taf['issue_time'])"
   ]
  },
  {
   "cell_type": "code",
   "execution_count": 12,
   "id": "54fcdd2f",
   "metadata": {
    "ExecuteTime": {
     "end_time": "2021-07-24T04:39:36.629644Z",
     "start_time": "2021-07-24T04:39:36.154643Z"
    }
   },
   "outputs": [],
   "source": [
    "# Same criteria\n",
    "taf = taf.replace('FEW', 2)\n",
    "taf = taf.replace('SCT', 4)\n",
    "taf = taf.replace('BKN', 7)\n",
    "taf = taf.replace('OVC', 8)\n",
    "\n",
    "taf = taf.replace('FC', 10)   #  10 - Tornado                   \n",
    "taf = taf.replace('VA', 10)\n",
    "taf = taf.replace('TS', 9)    #   9 - TS                      \n",
    "taf = taf.replace('SQ', 8)    #   8 - Squall                  \n",
    "taf = taf.replace('PL', 7)    #   7 - Snow                      \n",
    "taf = taf.replace('SN', 7)\n",
    "taf = taf.replace('SG', 7)\n",
    "taf = taf.replace('GR', 6)    #   6 - Freezing~, Heavy rain     \n",
    "taf = taf.replace('GS', 6)\n",
    "taf = taf.replace('IC', 6)\n",
    "taf = taf.replace('RA', 5)    #   5 - Rain                      \n",
    "taf = taf.replace('FG', 4)    #   4 - Fog                       \n",
    "taf = taf.replace('DZ', 3)    #   3 - Drizzle, Haze, Duststorm  \n",
    "taf = taf.replace('BR', 3)\n",
    "taf = taf.replace('DS', 3)\n",
    "taf = taf.replace('SS', 3)\n",
    "taf = taf.replace('HZ', 3)\n",
    "taf = taf.replace('SA', 3)\n",
    "taf = taf.replace('DU', 3)    #   2 - others                    \n",
    "taf = taf.replace('FU', 3)    #   1 - Nothing                      \n",
    "\n",
    "taf.BASE_1LYR = taf.BASE_1LYR.replace('0', 400)\n",
    "taf.BASE_2LYR = taf.BASE_2LYR.replace('0', 400)\n",
    "taf.BASE_3LYR = taf.BASE_3LYR.replace('0', 400)"
   ]
  },
  {
   "cell_type": "code",
   "execution_count": 13,
   "id": "4dc0b46e",
   "metadata": {
    "ExecuteTime": {
     "end_time": "2021-07-24T04:39:36.677212Z",
     "start_time": "2021-07-24T04:39:36.631643Z"
    }
   },
   "outputs": [],
   "source": [
    "# TAF Dataframe initialize\n",
    "TAF_6 = pd.DataFrame([], \n",
    "                   columns = ['WDIR_t6', 'WSPD_t6', 'WG_t6', 'VIS_t6', 'WC_t6', 'CLA_1LYR_t6', 'BASE_1LYR_t6',\n",
    "                              'CLA_2LYR_t6', 'BASE_2LYR_t6','CLA_3LYR_t6', 'BASE_3LYR_t6',], index = Wx.TM)\n",
    "TAF_12 = pd.DataFrame([], \n",
    "                   columns = ['WDIR_t12', 'WSPD_t12', 'WG_t12', 'VIS_t12', 'WC_t12', 'CLA_1LYR_t12', 'BASE_1LYR_t12',\n",
    "                              'CLA_2LYR_t12', 'BASE_2LYR_t12','CLA_3LYR_t12', 'BASE_3LYR_t12',], index = Wx.TM)\n",
    "TAF_18 = pd.DataFrame([], \n",
    "                   columns = ['WDIR_t18', 'WSPD_t18', 'WG_t18', 'VIS_t18', 'WC_t18', 'CLA_1LYR_t18', 'BASE_1LYR_t18',\n",
    "                              'CLA_2LYR_t18', 'BASE_2LYR_t18','CLA_3LYR_t18', 'BASE_3LYR_t18',], index = Wx.TM)\n",
    "TAF_24 = pd.DataFrame([], \n",
    "                   columns = ['WDIR_t24', 'WSPD_t24', 'WG_t24', 'VIS_t24', 'WC_t24', 'CLA_1LYR_t24', 'BASE_1LYR_t24',\n",
    "                              'CLA_2LYR_t24', 'BASE_2LYR_t24','CLA_3LYR_t24', 'BASE_3LYR_t24',], index = Wx.TM)"
   ]
  },
  {
   "cell_type": "code",
   "execution_count": 14,
   "id": "fb3b15d9",
   "metadata": {
    "ExecuteTime": {
     "end_time": "2021-07-24T04:42:24.389181Z",
     "start_time": "2021-07-24T04:39:36.678169Z"
    }
   },
   "outputs": [],
   "source": [
    "taf_sort = taf.sort_values('Time')\n",
    "\n",
    "for i in range(len(Wx)):\n",
    "    temp_date = datetime.datetime(2018,1,1,0,0) + datetime.timedelta(hours = i)   \n",
    "    temp_taf_date = taf_sort[taf_sort['Time'] == temp_date].reset_index()  \n",
    "    total_taf_eachdate = temp_taf_date.drop('index',1).drop('Time',1).sort_values('issue_time').reset_index().drop('index',1)\n",
    "\n",
    "    # 6시간 전 예보\n",
    "    taf_6 = total_taf_eachdate[(total_taf_eachdate['issue_time'] < temp_date) \n",
    "                               & (total_taf_eachdate['issue_time'] >= temp_date - datetime.timedelta(hours=6))][0:1].drop('issue_time',1)\n",
    "    if taf_6.empty:\n",
    "        TAF_6[temp_date:temp_date] = TAF_6[temp_date:temp_date]\n",
    "    else:\n",
    "        TAF_6[temp_date:temp_date] = taf_6\n",
    "\n",
    "    # 12시간 전 예보\n",
    "    taf_12 = total_taf_eachdate[(total_taf_eachdate['issue_time'] < temp_date - datetime.timedelta(hours=6)) \n",
    "                                & (total_taf_eachdate['issue_time'] >= temp_date - datetime.timedelta(hours=12))][0:1].drop('issue_time',1)\n",
    "    if taf_12.empty:\n",
    "        TAF_12[temp_date:temp_date] = TAF_12[temp_date:temp_date]\n",
    "    else:\n",
    "        TAF_12[temp_date:temp_date] = taf_12\n",
    "\n",
    "    # 18시간 전 예보\n",
    "    taf_18 = total_taf_eachdate[(total_taf_eachdate['issue_time'] < temp_date - datetime.timedelta(hours=12)) \n",
    "                                & (total_taf_eachdate['issue_time'] >= temp_date - datetime.timedelta(hours=18))][0:1].drop('issue_time',1)\n",
    "    if taf_18.empty:\n",
    "        TAF_18[temp_date:temp_date] = TAF_18[temp_date:temp_date]\n",
    "    else:\n",
    "        TAF_18[temp_date:temp_date] = taf_18\n",
    "\n",
    "    # 24시간 전 예보\n",
    "    taf_24 = total_taf_eachdate[(total_taf_eachdate['issue_time'] < temp_date - datetime.timedelta(hours=18)) \n",
    "                                & (total_taf_eachdate['issue_time'] >= temp_date - datetime.timedelta(hours=24))][0:1].drop('issue_time',1)\n",
    "    if taf_24.empty:\n",
    "        TAF_24[temp_date:temp_date] = TAF_24[temp_date:temp_date]\n",
    "    else:\n",
    "        TAF_24[temp_date:temp_date] = taf_24\n",
    "        \n",
    "        \n",
    "TAF_6 = TAF_6.fillna({'WDIR_t6': 0, 'WSPD_t6': 0, 'WG_t6' : 0, 'VIS_t6' : 9999, 'WC_t6' : 0, \n",
    "                      'CLA_1LYR_t6':0, 'BASE_1LYR_t6':400, 'CLA_2LYR_t6':0, 'BASE_2LYR_t6':400,\n",
    "                      'CLA_3LYR_t6':0, 'BASE_3LYR_t6':400})\n",
    "TAF_12 = TAF_12.fillna({'WDIR_t12': 0, 'WSPD_t12': 0, 'WG_t12' : 0, 'VIS_t12' : 9999, 'WC_t12' : 0, \n",
    "                        'CLA_1LYR_t12':0, 'BASE_1LYR_t12':400, 'CLA_2LYR_t12':0, 'BASE_2LYR_t12':400,\n",
    "                        'CLA_3LYR_t12':0, 'BASE_3LYR_t12':400})\n",
    "TAF_18 = TAF_18.fillna({'WDIR_t18': 0, 'WSPD_t18': 0, 'WG_t18' : 0, 'VIS_t18' : 9999, 'WC_t18' : 0, \n",
    "                        'CLA_1LYR_t18':0, 'BASE_1LYR_t18':400, 'CLA_2LYR_t18':0, 'BASE_2LYR_t18':400,\n",
    "                        'CLA_3LYR_t18':0, 'BASE_3LYR_t18':400})\n",
    "TAF_24 = TAF_24.fillna({'WDIR_t24': 0, 'WSPD_t24': 0, 'WG_t24' : 0, 'VIS_t24' : 9999, 'WC_t24' : 0, \n",
    "                        'CLA_1LYR_t24':0, 'BASE_1LYR_t24':400, 'CLA_2LYR_t24':0, 'BASE_2LYR_t24':400,\n",
    "                        'CLA_3LYR_t24':0, 'BASE_3LYR_t24':400})\n",
    "    \n",
    "TAF_6 = TAF_6.reset_index().drop('TM',1)\n",
    "TAF_12 = TAF_12.reset_index().drop('TM',1)\n",
    "TAF_18 = TAF_18.reset_index().drop('TM',1)\n",
    "TAF_24 = TAF_24.reset_index().drop('TM',1)"
   ]
  },
  {
   "cell_type": "markdown",
   "id": "f5a317e2",
   "metadata": {},
   "source": [
    "***\n",
    "## METAR"
   ]
  },
  {
   "cell_type": "code",
   "execution_count": 15,
   "id": "8f40a6fd",
   "metadata": {
    "ExecuteTime": {
     "end_time": "2021-07-24T04:42:24.497281Z",
     "start_time": "2021-07-24T04:42:24.390983Z"
    }
   },
   "outputs": [],
   "source": [
    "# Present Weather code\n",
    "\n",
    "# <Wx> Present weather (code 4677)\n",
    "#\n",
    "#  00-49 : No Precipitation at the station at the time of the observation\n",
    "#  00-19 : No precipitation, fog, ice fog (except for 11 and 12), duststorm, \n",
    "#          sandstorm, drifting or blowing snow at the station* at the time of \n",
    "#          observation or, except for 09 and 17, during the preceding hour\n",
    "#  20-29 : Precipitation, fog, ice fog or thunderstorm at the station during\n",
    "#          the preceding hour but not at the time of observation\n",
    "#  30-39 : Duststorm, sandstorm, drifting or blowing snow\n",
    "#  40-49 : Fog or ice fog at the time of observation\n",
    "#  50-59 : Drizzle\n",
    "#  60-69 : Rain\n",
    "#  70-79 : Solid precipitation not in showers\n",
    "#  80-99 : Showery precipitation, or precipitation with current \n",
    "#          or recent thunderstorm\n",
    "\n",
    "# Order of severity (Code 4677)\n",
    "#  10 - Tornado                   (19)\n",
    "#   9 - TS                        (13, 17, 91-99)\n",
    "#   8 - Squall                    (18)\n",
    "#   7 - Snow                      (70-78, 83-90) \n",
    "#   6 - Freezing~, Heavy rain     (56-57, 66-69, 79)\n",
    "#   5 - Rain                      (58-59, 60-65, 80-82) \n",
    "#   4 - Fog                       (40-49)\n",
    "#   3 - Drizzle, Haze, Duststorm  (5, 10, 30-39, 50-55)\n",
    "#   2 - others                    (0-4, 6-9, 11-12, 14-16)\n",
    "#   1 - Nothing                   (NaN)\n",
    "#                                 (20번대는 제외)\n",
    "\n",
    "def present_weather(weather):\n",
    "    if weather == 19:\n",
    "        weather = 10\n",
    "    elif weather == 13 or weather == 17 or weather in range(91,100):\n",
    "        weather = 9\n",
    "    elif weather == 18:\n",
    "        weather = 8\n",
    "    elif weather in range(70, 79) or weather in range(83,91):\n",
    "        weather = 7\n",
    "    elif weather in range(56, 58) or weather in range(66,70) or weather == 79:\n",
    "        weather = 6\n",
    "    elif weather in range(58, 60) or weather in range(60,66) or weather in range(80-83):\n",
    "        weather = 5\n",
    "    elif weather in range(40, 50):\n",
    "        weather = 4\n",
    "    elif weather == 5 or weather == 10 or weather in range(30, 40) or weather in range(50,56):\n",
    "        weather = 3\n",
    "    elif weather in range(0,5) or weather in range(6,10) or weather in range(11, 13) or weather in range(14,17):\n",
    "        weather = 2        \n",
    "    else:\n",
    "        weather = 1\n",
    "    return weather\n",
    "\n",
    "Wx['WC'] = Wx['WC'].apply(present_weather)"
   ]
  },
  {
   "cell_type": "code",
   "execution_count": 16,
   "id": "8fac17dd",
   "metadata": {
    "ExecuteTime": {
     "end_time": "2021-07-24T04:42:24.513276Z",
     "start_time": "2021-07-24T04:42:24.499989Z"
    }
   },
   "outputs": [],
   "source": [
    "# Fill NA/NaN\n",
    "Wx = Wx.fillna({'WS_GST' : 0, 'RVR1' : 1000, 'RVR2' : 1000, 'RVR3' : 1000, 'RN' : 0,\n",
    "                'BASE_1LYR' : 400, 'BASE_2LYR' : 400, 'BASE_3LYR' : 400,'BASE_4LYR' : 400,\n",
    "                'CLA_1LYR' : 0,'CLA_2LYR' : 0,'CLA_3LYR' : 0,'CLA_4LYR' : 0})"
   ]
  },
  {
   "cell_type": "code",
   "execution_count": 17,
   "id": "de97b92d",
   "metadata": {
    "ExecuteTime": {
     "end_time": "2021-07-24T04:42:24.529135Z",
     "start_time": "2021-07-24T04:42:24.515018Z"
    }
   },
   "outputs": [],
   "source": [
    "# Mean RVR\n",
    "RVR = Wx.loc[:,'RVR1':'RVR3'].min(axis=1)\n",
    "RVR = pd.DataFrame({'RVR':RVR})\n",
    "Wx = Wx.join(RVR)"
   ]
  },
  {
   "cell_type": "code",
   "execution_count": 18,
   "id": "81cae3c6",
   "metadata": {
    "ExecuteTime": {
     "end_time": "2021-07-24T04:42:24.560281Z",
     "start_time": "2021-07-24T04:42:24.529983Z"
    }
   },
   "outputs": [],
   "source": [
    "# Remove useless column\n",
    "Wx = Wx.drop('CLF_1LYR', axis=1)                        \n",
    "Wx = Wx.drop('CLF_2LYR', axis=1) \n",
    "Wx = Wx.drop('CLF_3LYR', axis=1)                        \n",
    "Wx = Wx.drop('CLF_4LYR', axis=1)\n",
    "Wx = Wx.drop('RVR1', axis=1)                        \n",
    "Wx = Wx.drop('RVR2', axis=1)                        \n",
    "Wx = Wx.drop('RVR3', axis=1)\n",
    "Wx = Wx.drop('RVR4', axis=1)                        \n",
    "Wx = Wx.drop('TM', axis=1)                        # datetime 버리기\n",
    "METAR = Wx"
   ]
  },
  {
   "cell_type": "markdown",
   "id": "2955442a",
   "metadata": {},
   "source": [
    "***\n",
    "## Airport Condition / Previous Airpot Condition"
   ]
  },
  {
   "cell_type": "code",
   "execution_count": 19,
   "id": "25500f20",
   "metadata": {
    "ExecuteTime": {
     "end_time": "2021-07-24T04:42:25.032180Z",
     "start_time": "2021-07-24T04:42:24.561985Z"
    }
   },
   "outputs": [],
   "source": [
    "# Ceiling\n",
    "CIG = np.zeros((len(Wx),1))\n",
    "for i in range(len(Wx)):\n",
    "    if Wx.CLA_1LYR[i] >= 5:\n",
    "        CIG[i] = Wx.BASE_1LYR[i]\n",
    "    elif Wx.CLA_2LYR[i] >= 5:\n",
    "        CIG[i] = Wx.BASE_2LYR[i]\n",
    "    elif Wx.CLA_3LYR[i] >= 5:\n",
    "        CIG[i] = Wx.BASE_3LYR[i]\n",
    "    elif Wx.CLA_4LYR[i] >= 5:\n",
    "        CIG[i] = Wx.BASE_4LYR[i]\n",
    "    else: \n",
    "        CIG[i] = 400"
   ]
  },
  {
   "cell_type": "code",
   "execution_count": 20,
   "id": "982e7f75",
   "metadata": {
    "ExecuteTime": {
     "end_time": "2021-07-24T04:42:25.315795Z",
     "start_time": "2021-07-24T04:42:25.035014Z"
    }
   },
   "outputs": [],
   "source": [
    "# VFR or IFR\n",
    "P_Airp = np.zeros((len(Wx),1))            # VFR = 1 / MVFR = 2 / IFR = 3 / LIFR = 4\n",
    "for i in range(len(Wx)):\n",
    "    if Wx.VIS[i] > 600 and CIG[i] > 30:\n",
    "        P_Airp[i] = 1\n",
    "    elif Wx.VIS[i] >= 480 and Wx.VIS[i] <= 600 or CIG[i] >= 10 and CIG[i] <= 30:\n",
    "        P_Airp[i] = 2\n",
    "    elif Wx.VIS[i] >= 160 and Wx.VIS[i] < 480 or CIG[i] >= 5 and CIG[i] < 30:\n",
    "        P_Airp[i] = 3\n",
    "    else :\n",
    "        P_Airp[i] = 4\n",
    "#    elif Wx.VIS[i] < 160 and CIG[i] < 5:\n",
    "#        P_Airp[i] = 4   "
   ]
  },
  {
   "cell_type": "code",
   "execution_count": 21,
   "id": "aacc79cb",
   "metadata": {
    "ExecuteTime": {
     "end_time": "2021-07-24T04:42:25.331258Z",
     "start_time": "2021-07-24T04:42:25.318488Z"
    }
   },
   "outputs": [],
   "source": [
    "Arpt_cond = P_Airp.flatten()    # Arpt_cond = P_Airp.reshape(8760,)    flatten() : 2차원배열을 1차원으로 만들어 주는 거 (100,1) -> (100,)\n",
    "Arpt_cond = pd.DataFrame({'Arpt_cond' : Arpt_cond})\n",
    "P_Airp = P_Airp.flatten()     # P_Airp = P_Airp.reshape(8760,)\n",
    "P_Airp = np.roll(P_Airp, 1)                  # 맨 처음 data에는 0 넣음\n",
    "P_Airp[0] = 1\n",
    "P_Airp = pd.DataFrame({'P_Airp' : P_Airp})"
   ]
  },
  {
   "cell_type": "markdown",
   "id": "621354ef",
   "metadata": {},
   "source": [
    "***\n",
    "## Actual Arrival Rate (AAR) / Estimate Arrival Demand (EAD)"
   ]
  },
  {
   "cell_type": "code",
   "execution_count": 22,
   "id": "5d7cdc21",
   "metadata": {
    "ExecuteTime": {
     "end_time": "2021-07-24T04:42:50.013096Z",
     "start_time": "2021-07-24T04:42:25.332112Z"
    }
   },
   "outputs": [],
   "source": [
    "EAD = np.zeros(len(Wx))  \n",
    "AAR = np.zeros(len(Wx))\n",
    "\n",
    "start = '2018-01-01'\n",
    "end = '2019-12-31'\n",
    "j = 0\n",
    "\n",
    "datelist = pd.date_range(start, end).astype(str).to_list()\n",
    "\n",
    "for date in datelist:\n",
    "    \n",
    "    Arr_data = pd.read_csv(f'..\\\\data\\\\FOIS\\\\Arrival_{date}.csv', index_col= 0)\n",
    "    Arr_data['Arrival_SCH'] = date + Arr_data['Arrival_SCH']        # 해당 날짜 더하기\n",
    "    Arr_data['Arrival_SCH'] = pd.to_datetime(Arr_data['Arrival_SCH'], format='%Y-%m-%d%H:%M')        # datetime으로 변환\n",
    "    Arr_data['Arrival_ATA'] = date + Arr_data['Arrival_ATA']        # 해당 날짜 더하기\n",
    "    Arr_data['Arrival_ATA'] = pd.to_datetime(Arr_data['Arrival_ATA'], format='%Y-%m-%d%H:%M')        # datetime으로 변환\n",
    "    for i in range(24):\n",
    "        EAD[j] = len(Arr_data[(Arr_data['Arrival_SCH'] >= datetime.datetime.strptime(date, '%Y-%m-%d') + datetime.timedelta(hours = i))\n",
    "                               & (Arr_data['Arrival_SCH'] < datetime.datetime.strptime(date, '%Y-%m-%d') + datetime.timedelta(hours = i+1))])\n",
    "        AAR[j] = len(Arr_data[(Arr_data['Arrival_ATA'] >= datetime.datetime.strptime(date, '%Y-%m-%d') + datetime.timedelta(hours = i))\n",
    "                               & (Arr_data['Arrival_ATA'] < datetime.datetime.strptime(date, '%Y-%m-%d') + datetime.timedelta(hours = i+1))])\n",
    "        j = j+1"
   ]
  },
  {
   "cell_type": "code",
   "execution_count": null,
   "id": "c30c17c1",
   "metadata": {
    "ExecuteTime": {
     "end_time": "2021-07-21T11:10:16.376054Z",
     "start_time": "2021-07-21T11:10:16.365039Z"
    }
   },
   "outputs": [],
   "source": [
    "\"\"\"\n",
    "# ACMD data\n",
    "\n",
    "Arr_data = Arr_data[['SDT','ELDT','ALDT','RWY']]                           # ELDT : 예상착륙시간,  ALDT : 실제착륙시간\n",
    "Arr_data.ELDT = Arr_data.SDT + Arr_data.ELDT                               # SDT에는 연월일, ELDT/ALDT에는 시분이 나오므로 합친 뒤 \n",
    "Arr_data.ELDT = pd.to_datetime(Arr_data.ELDT, format = '%Y-%m-%d%H:%M')    # datetime으로 변환\n",
    "Arr_data.ALDT = Arr_data.SDT + Arr_data.ALDT                               \n",
    "Arr_data.ALDT = pd.to_datetime(Arr_data.ALDT, format = '%Y-%m-%d%H:%M')   \n",
    "\n",
    "\n",
    "EAD2 = np.zeros(len(Wx))  # 위에꺼랑 비교하려고\n",
    "AAR2 = np.zeros(len(Wx))\n",
    "\n",
    "for i in range(len(Wx)):\n",
    "    EAD2[i] = len(Arr_data[(Arr_data.ELDT >= datetime.datetime(2019,1,1,0,0) + datetime.timedelta(hours = i))\n",
    "                          & (Arr_data.ELDT < datetime.datetime(2019,1,1,0,0) + datetime.timedelta(hours = i+1))])\n",
    "    AAR2[i] = len(Arr_data[(Arr_data.ALDT >= datetime.datetime(2019,1,1,0,0) + datetime.timedelta(hours = i))\n",
    "                          & (Arr_data.ALDT < datetime.datetime(2019,1,1,0,0) + datetime.timedelta(hours = i+1))])\n",
    "                           # 결항인 것은 AAR값이 없음 -> (EAD - AAR)에서 NaN은 결항\n",
    "\n",
    "\"\"\""
   ]
  },
  {
   "cell_type": "markdown",
   "id": "0d9fbb06",
   "metadata": {},
   "source": [
    "***\n",
    "## Actual Departure Rate (ADR) / Estimate Departure Demand (EDD)"
   ]
  },
  {
   "cell_type": "code",
   "execution_count": null,
   "id": "c1d4c128",
   "metadata": {
    "ExecuteTime": {
     "end_time": "2021-07-21T11:10:48.298292Z",
     "start_time": "2021-07-21T11:10:16.378055Z"
    }
   },
   "outputs": [],
   "source": [
    "EDD = np.zeros(len(Wx))  \n",
    "ADR = np.zeros(len(Wx))\n",
    "\n",
    "start = '2018-01-01'\n",
    "end = '2019-12-31'\n",
    "j = 0\n",
    "\n",
    "datelist = pd.date_range(start, end).astype(str).to_list()\n",
    "\n",
    "for date in datelist:\n",
    "    \n",
    "    dep_data = pd.read_csv(f'..\\\\data\\\\FOIS\\\\Departure_{date}.csv', index_col= 0)\n",
    "    dep_data['Departure_SCH'] = date + dep_data['Departure_SCH']        # 해당 날짜 더하기\n",
    "    dep_data['Departure_SCH'] = pd.to_datetime(dep_data['Departure_SCH'], format='%Y-%m-%d%H:%M')        # datetime으로 변환\n",
    "    dep_data['Departure_ATD'] = date + dep_data['Departure_ATD']        # 해당 날짜 더하기\n",
    "    dep_data['Departure_ATD'] = pd.to_datetime(dep_data['Departure_ATD'], format='%Y-%m-%d%H:%M')        # datetime으로 변환\n",
    "    for i in range(24):\n",
    "        EDD[j] = len(dep_data[(dep_data['Departure_SCH'] >= datetime.datetime.strptime(date, '%Y-%m-%d') + datetime.timedelta(hours = i))\n",
    "                               & (dep_data['Departure_SCH'] < datetime.datetime.strptime(date, '%Y-%m-%d') + datetime.timedelta(hours = i+1))])\n",
    "        ADR[j] = len(dep_data[(dep_data['Departure_ATD'] >= datetime.datetime.strptime(date, '%Y-%m-%d') + datetime.timedelta(hours = i))\n",
    "                               & (dep_data['Departure_ATD'] < datetime.datetime.strptime(date, '%Y-%m-%d') + datetime.timedelta(hours = i+1))])\n",
    "        j = j+1"
   ]
  },
  {
   "cell_type": "code",
   "execution_count": null,
   "id": "51730f1c",
   "metadata": {
    "ExecuteTime": {
     "end_time": "2021-07-21T11:10:48.313326Z",
     "start_time": "2021-07-21T11:10:48.300299Z"
    }
   },
   "outputs": [],
   "source": [
    "\"\"\"\n",
    "# EOBT / AOBT : Pushback Time\n",
    "# EROT / AROT : Ramp Out Time\n",
    "# EXOT / AXOT : Taxi Out Time (Ramp to RWY time)\n",
    "# ETOT / ATOT : Takeoff Time (ETOT = EOBT or VTT + EXOT)       \n",
    "# (* EPIT / APIT, EPOT / APOT : Deicing in, out time )\n",
    "\n",
    "\n",
    "# EXOT, AXOT 사용해서 Ground Control의 혼잡도 표현 가능??  ->  AXOT - EXOT 로 표현하면 되나? \n",
    "# ETOT 가 flight plan의 scheduled time이 아닌가??         ->  \n",
    "\n",
    "\n",
    "\n",
    "Arr_data = Arr_data[['SDT','ELDT','ALDT','RWY']]                           # ELDT : 예상착륙시간,  ALDT : 실제착륙시간\n",
    "Arr_data.ELDT = Arr_data.SDT + Arr_data.ELDT                               # SDT에는 연월일, ELDT/ALDT에는 시분이 나오므로 합친 뒤 \n",
    "Arr_data.ELDT = pd.to_datetime(Arr_data.ELDT, format = '%Y-%m-%d%H:%M')    # datetime으로 변환\n",
    "Arr_data.ALDT = Arr_data.SDT + Arr_data.ALDT                               \n",
    "Arr_data.ALDT = pd.to_datetime(Arr_data.ALDT, format = '%Y-%m-%d%H:%M')   \n",
    "\n",
    "\n",
    "EAD = np.zeros(len(Wx))\n",
    "AAR = np.zeros(len(Wx))\n",
    "\n",
    "for i in range(len(Wx)):\n",
    "    EAD[i] = len(Arr_data[(Arr_data.ELDT >= datetime.datetime(2019,1,1,0,0) + datetime.timedelta(hours = i))\n",
    "                          & (Arr_data.ELDT < datetime.datetime(2019,1,1,0,0) + datetime.timedelta(hours = i+1))])\n",
    "    AAR[i] = len(Arr_data[(Arr_data.ALDT >= datetime.datetime(2019,1,1,0,0) + datetime.timedelta(hours = i))\n",
    "                          & (Arr_data.ALDT < datetime.datetime(2019,1,1,0,0) + datetime.timedelta(hours = i+1))])\n",
    "                           # 결항인 것은 AAR값이 없음 -> (EAD - AAR)에서 NaN은 결항\n",
    "                           \n",
    "\"\"\""
   ]
  },
  {
   "cell_type": "markdown",
   "id": "de50ef4e",
   "metadata": {},
   "source": [
    "***\n",
    "## Previous hour's AAR / ADR"
   ]
  },
  {
   "cell_type": "code",
   "execution_count": null,
   "id": "63d2b16a",
   "metadata": {
    "ExecuteTime": {
     "end_time": "2021-07-21T11:10:48.328406Z",
     "start_time": "2021-07-21T11:10:48.316294Z"
    }
   },
   "outputs": [],
   "source": [
    "# Previous AAR\n",
    "P_AAR = np.roll(AAR,1)                  # 맨 처음 data에는 0 넣음\n",
    "P_AAR[0] = 0\n",
    "P_AAR = pd.DataFrame({'P_AAR' : P_AAR})\n",
    "\n",
    "# Previous ADR\n",
    "P_ADR = np.roll(ADR,1)\n",
    "P_ADR[0] = 0\n",
    "P_ADR = pd.DataFrame({'P_ADR' : P_ADR})"
   ]
  },
  {
   "cell_type": "markdown",
   "id": "e36a3672",
   "metadata": {},
   "source": [
    "***\n",
    "## Wind/Temp"
   ]
  },
  {
   "cell_type": "code",
   "execution_count": null,
   "id": "33cde604",
   "metadata": {
    "ExecuteTime": {
     "end_time": "2021-07-21T11:10:56.100317Z",
     "start_time": "2021-07-21T11:10:48.330409Z"
    }
   },
   "outputs": [],
   "source": [
    "WINTEMP_Osan['Time'] = pd.to_datetime(WINTEMP_Osan['Time'], format='%d/%m/%Y %H:%M', infer_datetime_format=True)\n",
    "WINTEMP_Osan_app_alt = WINTEMP_Osan[WINTEMP_Osan['Pressure'] > 300]\n",
    "WINTEMP_Osan_app_alt = WINTEMP_Osan_app_alt.fillna(0)\n",
    "\n",
    "WINTEMP = pd.DataFrame()\n",
    "\n",
    "for i in range(0,6765,6):\n",
    "    wintemp = WINTEMP_Osan_app_alt[i:i+6]\n",
    "    data = pd.DataFrame(pd.concat([wintemp['WD'],wintemp['WS']], axis = 0)).reset_index().drop('index', axis=1).T\n",
    "    WINTEMP = WINTEMP.append(pd.concat([data]*6))\n",
    "\n",
    "for i in range(6765,len(WINTEMP_Osan_app_alt),6):   # 10월 10일 부터 2번씩 관측함\n",
    "    wintemp = WINTEMP_Osan_app_alt[i:i+6]\n",
    "    data = pd.DataFrame(pd.concat([wintemp['WD'],wintemp['WS']], axis = 0)).reset_index().drop('index', axis=1).T\n",
    "    WINTEMP = WINTEMP.append(pd.concat([data]*12))\n",
    "WINTEMP = WINTEMP.reset_index(drop=True)\n",
    "WINTEMP = WINTEMP.rename(columns ={0:'WD_400',1:'WD_500',2:'WD_700',3:'WD_850',4:'WD_925',5:'WD_1000',\n",
    "                                   6:'WS_400',7:'WS_500',8:'WS_700',9:'WS_850',10:'WS_925',11:'WS_1000' } )\n",
    "WINTEMP = WINTEMP.fillna(0)"
   ]
  },
  {
   "cell_type": "markdown",
   "id": "7dca54ba",
   "metadata": {},
   "source": [
    "***"
   ]
  },
  {
   "cell_type": "markdown",
   "id": "bd5c0f8f",
   "metadata": {},
   "source": [
    "## Remainder"
   ]
  },
  {
   "cell_type": "code",
   "execution_count": null,
   "id": "5a04b68e",
   "metadata": {
    "ExecuteTime": {
     "end_time": "2021-07-21T06:28:00.142400Z",
     "start_time": "2021-07-21T06:28:00.131366Z"
    }
   },
   "outputs": [],
   "source": [
    "# remainder = previos hour's demand - previous hour's actual AAR \n",
    "arrival_remainder = EAD - AAR\n",
    "arrival_remainder = np.roll(arrival_remainder,1)  \n",
    "arrival_remainder[0] = 0\n",
    "arrival_remainder = pd.DataFrame({'Arrival_remainder' : arrival_remainder})\n",
    "departure_remainder = EDD - ADR\n",
    "departure_remainder = np.roll(departure_remainder,1)  \n",
    "departure_remainder[0] = 0\n",
    "departure_remainder = pd.DataFrame({'Departure_remainder' : departure_remainder})"
   ]
  },
  {
   "cell_type": "code",
   "execution_count": null,
   "id": "d638ebdc",
   "metadata": {
    "ExecuteTime": {
     "end_time": "2021-07-21T06:41:44.494695Z",
     "start_time": "2021-07-21T06:40:42.705868Z"
    }
   },
   "outputs": [],
   "source": [
    "# 캔슬된 수 구하기\n",
    "\n",
    "#fois_arrival = pd.read_excel('.\\\\FOIS\\\\RKSI_19_20_arrival.xlsx')\n",
    "#fois_departure = pd.read_excel('.\\\\FOIS\\\\RKSI_19_20_departure.xlsx')\n",
    "\n",
    "#######################################################################################\n",
    "fois_arrival_2019 = pd.read_excel('..\\\\data\\\\FOIS\\\\RKSI_19_20_arrival.xlsx')\n",
    "fois_departure_2019 = pd.read_excel('..\\\\data\\\\FOIS\\\\RKSI_19_20_departure.xlsx')\n",
    "fois_arrival_2018 = pd.read_excel('..\\\\data\\\\FOIS\\\\RKSI_19_20_arrival.xlsx')\n",
    "fois_departure_2018 = pd.read_excel('..\\\\data\\\\FOIS\\\\RKSI_19_20_departure.xlsx')\n",
    "\n",
    "fois_arrival = pd.concat([fois_arrival_2018, fois_arrival_2019])\n",
    "fois_departure = pd.concat([fois_departure_2018, fois_departure_2019])\n",
    "#######################################################################################\n",
    "\n",
    "\n",
    "fois_arrival['Time'] = pd.to_datetime(fois_arrival['STA_DATE'].astype(str) + fois_arrival['STA'].astype(str).str.zfill(4), \n",
    "                                      format = '%Y%m%d%H%M') #STA를 4자리로 만들고 합친 뒤, datetime으로 바꿈\n",
    "fois_arrival = fois_arrival.drop('STA_DATE', axis=1)\n",
    "fois_arrival = fois_arrival.drop('STA', axis=1)\n",
    "\n",
    "fois_departure['Time'] = pd.to_datetime(fois_departure['SCH_DATE'].astype(str) + fois_departure['SCH_TIME'].astype(str).str.zfill(4), \n",
    "                                        format = '%Y%m%d%H%M') #STA를 4자리로 만들고 합친 뒤, datetime으로 바꿈\n",
    "fois_departure = fois_departure.drop('SCH_DATE', axis=1)\n",
    "fois_departure = fois_departure.drop('SCH_TIME', axis=1)\n",
    "\n",
    "# fois_departure['DEP_STATUS'].value_counts()   # DEP, DLA, CNL, DIV\n",
    "# fois_arrival['ARR_STATUS'].value_counts()     # DEP, DLA, CNL, DIV, LND"
   ]
  },
  {
   "cell_type": "code",
   "execution_count": null,
   "id": "d4c25c4f",
   "metadata": {
    "ExecuteTime": {
     "end_time": "2021-07-21T06:43:23.267451Z",
     "start_time": "2021-07-21T06:41:48.517777Z"
    }
   },
   "outputs": [],
   "source": [
    "cnl_a = np.zeros(len(Wx))\n",
    "cnl_d = np.zeros(len(Wx))\n",
    "\n",
    "for i in range(len(Wx)):\n",
    "    time = datetime.datetime(2018,1,1) + datetime.timedelta(hours = i+1)\n",
    "    # 해당되는 시간으로 나눔\n",
    "    temp_a = fois_arrival[(fois_arrival['Time'] < time) & (fois_arrival['Time'] >= time-datetime.timedelta(hours=1))] \n",
    "    temp_d = fois_departure[(fois_departure['Time'] < time) & (fois_departure['Time'] >= time-datetime.timedelta(hours=1))]\n",
    "    # 해당 시간에서 캔슬 수 카운트\n",
    "    cnl_a[i] = sum((temp_a['ARR_STATUS'] == 'CNL')|(temp_a['ARR_STATUS'] == 'DIV'))      \n",
    "    cnl_d[i] = sum((temp_d['DEP_STATUS'] == 'CNL'))"
   ]
  },
  {
   "cell_type": "code",
   "execution_count": null,
   "id": "a7c47d9e",
   "metadata": {
    "ExecuteTime": {
     "end_time": "2021-07-21T06:43:26.612291Z",
     "start_time": "2021-07-21T06:43:26.599140Z"
    }
   },
   "outputs": [],
   "source": [
    "# 캔슬 수 빼기\n",
    "arrival_remainder['Arrival_remainder'] = arrival_remainder['Arrival_remainder'] - cnl_a\n",
    "departure_remainder['Departure_remainder'] = departure_remainder['Departure_remainder'] - cnl_d"
   ]
  },
  {
   "cell_type": "code",
   "execution_count": null,
   "id": "fabc2c31",
   "metadata": {
    "ExecuteTime": {
     "end_time": "2021-07-21T06:43:29.834671Z",
     "start_time": "2021-07-21T06:43:29.821512Z"
    }
   },
   "outputs": [],
   "source": [
    "# 0보다 작은 수 나온거면 0으로 바꿈\n",
    "arrival_remainder[arrival_remainder < 0] = 0\n",
    "departure_remainder[departure_remainder < 0] = 0"
   ]
  },
  {
   "cell_type": "markdown",
   "id": "0c69a3b3",
   "metadata": {},
   "source": [
    "***\n",
    "***\n",
    "***"
   ]
  },
  {
   "cell_type": "markdown",
   "id": "1447f41c",
   "metadata": {},
   "source": [
    "\n",
    "# Data Concatenate\n"
   ]
  },
  {
   "cell_type": "code",
   "execution_count": null,
   "id": "70b4b158",
   "metadata": {
    "ExecuteTime": {
     "end_time": "2021-07-09T08:23:09.257404Z",
     "start_time": "2021-07-09T08:23:09.198268Z"
    }
   },
   "outputs": [],
   "source": [
    "# Data Concatenate\n",
    "Data = pd.DataFrame({'AAR':AAR, 'EAD':EAD, 'ADR':ADR, 'EDD':EDD})\n",
    "Data = Data.join(Time)\n",
    "Data = Data.join(Arpt_cond)\n",
    "Data = Data.join(P_Airp)\n",
    "Data = Data.join(P_AAR)\n",
    "Data = Data.join(P_ADR)\n",
    "Data = Data.join(arrival_remainder)\n",
    "Data = Data.join(departure_remainder)\n",
    "Data = Data.join(WINTEMP)\n",
    "Data = Data.join(METAR)\n",
    "Data = Data.join(TAF_6)\n",
    "Data = Data.join(TAF_12)\n",
    "Data = Data.join(TAF_18)\n",
    "Data = Data.join(TAF_24)"
   ]
  },
  {
   "cell_type": "code",
   "execution_count": null,
   "id": "6817f181",
   "metadata": {
    "ExecuteTime": {
     "end_time": "2021-07-09T08:23:09.432869Z",
     "start_time": "2021-07-09T08:23:09.259349Z"
    }
   },
   "outputs": [],
   "source": [
    "pd.options.display.max_columns = None\n",
    "Data[6000:6010]"
   ]
  },
  {
   "cell_type": "code",
   "execution_count": null,
   "id": "8f376c92",
   "metadata": {
    "ExecuteTime": {
     "end_time": "2021-07-08T14:42:19.756788Z",
     "start_time": "2021-07-08T14:42:19.351720Z"
    }
   },
   "outputs": [],
   "source": [
    "Data.to_csv('..\\\\data\\\\data_raw.csv')"
   ]
  },
  {
   "cell_type": "code",
   "execution_count": null,
   "id": "79c3c0b8",
   "metadata": {},
   "outputs": [],
   "source": []
  }
 ],
 "metadata": {
  "kernelspec": {
   "display_name": "Python 3",
   "language": "python",
   "name": "python3"
  },
  "language_info": {
   "codemirror_mode": {
    "name": "ipython",
    "version": 3
   },
   "file_extension": ".py",
   "mimetype": "text/x-python",
   "name": "python",
   "nbconvert_exporter": "python",
   "pygments_lexer": "ipython3",
   "version": "3.8.10"
  },
  "toc": {
   "base_numbering": 1,
   "nav_menu": {},
   "number_sections": true,
   "sideBar": true,
   "skip_h1_title": false,
   "title_cell": "Table of Contents",
   "title_sidebar": "Contents",
   "toc_cell": false,
   "toc_position": {
    "height": "calc(100% - 180px)",
    "left": "10px",
    "top": "150px",
    "width": "304.475px"
   },
   "toc_section_display": true,
   "toc_window_display": true
  },
  "varInspector": {
   "cols": {
    "lenName": 16,
    "lenType": 16,
    "lenVar": 40
   },
   "kernels_config": {
    "python": {
     "delete_cmd_postfix": "",
     "delete_cmd_prefix": "del ",
     "library": "var_list.py",
     "varRefreshCmd": "print(var_dic_list())"
    },
    "r": {
     "delete_cmd_postfix": ") ",
     "delete_cmd_prefix": "rm(",
     "library": "var_list.r",
     "varRefreshCmd": "cat(var_dic_list()) "
    }
   },
   "position": {
    "height": "459px",
    "left": "1550px",
    "right": "20px",
    "top": "120px",
    "width": "350px"
   },
   "types_to_exclude": [
    "module",
    "function",
    "builtin_function_or_method",
    "instance",
    "_Feature"
   ],
   "window_display": false
  }
 },
 "nbformat": 4,
 "nbformat_minor": 5
}
