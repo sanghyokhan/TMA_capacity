{
 "cells": [
  {
   "cell_type": "code",
   "execution_count": null,
   "id": "60652344",
   "metadata": {
    "ExecuteTime": {
     "end_time": "2021-09-27T06:26:13.386708Z",
     "start_time": "2021-09-27T06:26:11.208416Z"
    }
   },
   "outputs": [],
   "source": [
    "import joblib\n",
    "import numpy as np\n",
    "import pandas as pd\n",
    "import matplotlib.pyplot as plt\n",
    "import seaborn as sns\n",
    "from lightgbm import LGBMRegressor, plot_metric   \n",
    "from pathlib import Path\n",
    "from sklearn.metrics import mean_squared_error, r2_score\n",
    "from sklearn.model_selection import train_test_split, KFold"
   ]
  },
  {
   "cell_type": "code",
   "execution_count": null,
   "id": "df428154",
   "metadata": {
    "ExecuteTime": {
     "end_time": "2021-09-27T06:26:18.308312Z",
     "start_time": "2021-09-27T06:26:17.651094Z"
    }
   },
   "outputs": [],
   "source": [
    "# load data\n",
    "Data = pd.read_csv('test_data.csv', index_col=0)\n",
    "label_arrival = pd.read_csv('test_data_label_arrival.csv', index_col=0)\n",
    "label_departure = pd.read_csv('test_data_label_departure.csv', index_col=0)\n",
    "\n",
    "lgbr_a = joblib.load('.//lgbr_a.pkl')\n",
    "lgbr_d = joblib.load('.//lgbr_d.pkl')"
   ]
  },
  {
   "cell_type": "code",
   "execution_count": null,
   "id": "546a7a5d",
   "metadata": {
    "ExecuteTime": {
     "end_time": "2021-07-08T09:29:57.129972Z",
     "start_time": "2021-07-08T09:29:48.322955Z"
    }
   },
   "outputs": [],
   "source": [
    "# test\n",
    "print(f'RMSE : {np.sqrt(mean_squared_error(label_arrival, lgbr_a.predict(Data))):.4f}')\n",
    "print(f'R^2 : {r2_score(label_arrival, lgbr_a.predict(Data)) * 100:.4f}')\n",
    "\n",
    "print(f'RMSE : {np.sqrt(mean_squared_error(label_departure, lgbr_d.predict(Data))):.4f}')\n",
    "print(f'R^2 : {r2_score(label_departure, lgbr_d.predict(Data)) * 100:.4f}')"
   ]
  },
  {
   "cell_type": "code",
   "execution_count": null,
   "id": "9ee4575a",
   "metadata": {},
   "outputs": [],
   "source": []
  },
  {
   "cell_type": "code",
   "execution_count": null,
   "id": "b76b8240",
   "metadata": {},
   "outputs": [],
   "source": [
    "def Test(Data_raw, ops='arrival', start=0, end = 10):        # ops : arrival , departure\n",
    "    if ops == 'arrival':\n",
    "        Data_raw = Data_raw.drop('ADR', axis=1)\n",
    "        datelist = pd.DataFrame(pd.date_range('2019-01-01', '2019-12-31 23:00', freq = '1h'))\n",
    "        test_result = pd.DataFrame({'Date' : datelist[start:end][0],\n",
    "                                    'EAD' : Data_raw['EAD'][start:end],\n",
    "                                    'Actual AAR' : Data_raw['AAR'][start:end], \n",
    "                                    'Predicted AAR' : reg_arrival.predict(Data_raw.drop('AAR', axis=1)[start:end]), \n",
    "                                    'Difference' : reg_arrival.predict(Data_raw.drop('AAR', axis=1)[start:end]) - Data_raw['AAR'][start:end]})\n",
    "    elif ops == 'departure':\n",
    "        Data_raw = Data_raw.drop('AAR', axis=1)        \n",
    "        datelist = pd.DataFrame(pd.date_range('2019-01-01', '2019-12-31 23:00', freq = '1h'))\n",
    "        test_result = pd.DataFrame({'Date' : datelist[start:end][0],\n",
    "                                    'EDD' : Data_raw['EDD'][start:end],\n",
    "                                    'Actual ADR' : Data_raw['ADR'][start:end], \n",
    "                                    'Predicted ADR' : reg_departure.predict(Data_raw.drop('ADR', axis=1)[start:end]), \n",
    "                                    'Difference' : reg_departure.predict(Data_raw.drop('ADR', axis=1)[start:end]) - Data_raw['ADR'][start:end]})\n",
    "        \n",
    "    return test_result"
   ]
  },
  {
   "cell_type": "markdown",
   "id": "ad6a63be",
   "metadata": {},
   "source": [
    "<sklearn.metrics> <br>\n",
    "\n",
    "* regression <br>\n",
    "mean_squared_error, mean_absolute_error, r2_score <br><br>\n",
    "\n",
    "* classification <br>\n",
    "log_loss, roc_auc_score, accuracy_score, confusion_matrix <br>"
   ]
  },
  {
   "cell_type": "code",
   "execution_count": null,
   "id": "bf79e74a",
   "metadata": {},
   "outputs": [],
   "source": []
  }
 ],
 "metadata": {
  "kernelspec": {
   "display_name": "Python 3",
   "language": "python",
   "name": "python3"
  },
  "language_info": {
   "codemirror_mode": {
    "name": "ipython",
    "version": 3
   },
   "file_extension": ".py",
   "mimetype": "text/x-python",
   "name": "python",
   "nbconvert_exporter": "python",
   "pygments_lexer": "ipython3",
   "version": "3.8.10"
  },
  "toc": {
   "base_numbering": 1,
   "nav_menu": {},
   "number_sections": true,
   "sideBar": true,
   "skip_h1_title": false,
   "title_cell": "Table of Contents",
   "title_sidebar": "Contents",
   "toc_cell": false,
   "toc_position": {},
   "toc_section_display": true,
   "toc_window_display": false
  },
  "varInspector": {
   "cols": {
    "lenName": 16,
    "lenType": 16,
    "lenVar": 40
   },
   "kernels_config": {
    "python": {
     "delete_cmd_postfix": "",
     "delete_cmd_prefix": "del ",
     "library": "var_list.py",
     "varRefreshCmd": "print(var_dic_list())"
    },
    "r": {
     "delete_cmd_postfix": ") ",
     "delete_cmd_prefix": "rm(",
     "library": "var_list.r",
     "varRefreshCmd": "cat(var_dic_list()) "
    }
   },
   "types_to_exclude": [
    "module",
    "function",
    "builtin_function_or_method",
    "instance",
    "_Feature"
   ],
   "window_display": false
  }
 },
 "nbformat": 4,
 "nbformat_minor": 5
}
