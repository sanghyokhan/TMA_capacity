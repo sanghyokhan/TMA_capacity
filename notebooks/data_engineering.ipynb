{
 "cells": [
  {
   "cell_type": "code",
   "execution_count": 1,
   "id": "f324c44d",
   "metadata": {
    "ExecuteTime": {
     "end_time": "2021-07-25T05:57:07.396494Z",
     "start_time": "2021-07-25T05:57:03.220252Z"
    }
   },
   "outputs": [],
   "source": [
    "import numpy as np\n",
    "import pandas as pd\n",
    "import matplotlib.pyplot as plt\n",
    "import seaborn as sns\n",
    "import warnings\n",
    "import scipy.stats as stats\n",
    "from pathlib import Path\n",
    "from sklearn.preprocessing import OrdinalEncoder\n",
    "from sklearn.model_selection import train_test_split, KFold"
   ]
  },
  {
   "cell_type": "code",
   "execution_count": 2,
   "id": "2925ea21",
   "metadata": {
    "ExecuteTime": {
     "end_time": "2021-07-25T05:57:07.459272Z",
     "start_time": "2021-07-25T05:57:07.447246Z"
    }
   },
   "outputs": [],
   "source": [
    "# options\n",
    "pd.set_option('max_columns',100)\n",
    "plt.style.use('fivethirtyeight')\n",
    "warnings.simplefilter('ignore')\n",
    "seed = 1"
   ]
  },
  {
   "cell_type": "code",
   "execution_count": 3,
   "id": "3126ab78",
   "metadata": {
    "ExecuteTime": {
     "end_time": "2021-07-25T05:57:07.760180Z",
     "start_time": "2021-07-25T05:57:07.509790Z"
    }
   },
   "outputs": [],
   "source": [
    "# Data dirctory\n",
    "data_dir = Path('../data/')\n",
    "data_file = data_dir / 'data_raw.csv'\n",
    "\n",
    "# Data\n",
    "# 0:AAR / 1:EAD / 2:ADR / 3:EDD는 고정  , 나머지는 순서 상관 없음\n",
    "Data = pd.read_csv(data_file, index_col=0)"
   ]
  },
  {
   "cell_type": "code",
   "execution_count": null,
   "id": "8b4e3079",
   "metadata": {
    "ExecuteTime": {
     "end_time": "2021-07-24T14:11:33.557327Z",
     "start_time": "2021-07-24T14:11:33.430813Z"
    }
   },
   "outputs": [],
   "source": [
    "Data"
   ]
  },
  {
   "cell_type": "markdown",
   "id": "b74923c1",
   "metadata": {},
   "source": [
    "# Continuous Variables"
   ]
  },
  {
   "cell_type": "code",
   "execution_count": null,
   "id": "c074610f",
   "metadata": {
    "ExecuteTime": {
     "end_time": "2021-07-16T06:11:17.961984Z",
     "start_time": "2021-07-16T06:11:14.011037Z"
    },
    "scrolled": false
   },
   "outputs": [],
   "source": [
    "y = Data['AAR']\n",
    "plt.figure(1); plt.title('Johnson SU')\n",
    "sns.distplot(y, kde=False, fit=stats.johnsonsu)\n",
    "plt.figure(2); plt.title('Normal')\n",
    "sns.distplot(y, kde=False, fit=stats.norm)\n",
    "plt.figure(3); plt.title('Log Normal')\n",
    "sns.distplot(y, kde=False, fit=stats.lognorm)\n",
    "plt.figure(4); plt.title('Exponential')\n",
    "sns.distplot(y, kde=False, fit=stats.expon)\n",
    "plt.figure(5); plt.title('Laplace')\n",
    "sns.distplot(y, kde=False, fit=stats.laplace)\n",
    "#plt.figure(6); plt.title('Poisson ')\n",
    "#sns.distplot(y, kde=False, fit=stats.poisson)\n",
    "plt.figure(7); plt.title('t')\n",
    "sns.distplot(y, kde=False, fit=stats.t)\n"
   ]
  },
  {
   "cell_type": "code",
   "execution_count": null,
   "id": "68aa65b3",
   "metadata": {
    "ExecuteTime": {
     "end_time": "2021-07-16T06:17:41.738936Z",
     "start_time": "2021-07-16T06:17:41.711880Z"
    }
   },
   "outputs": [],
   "source": [
    "Data.info()"
   ]
  },
  {
   "cell_type": "code",
   "execution_count": null,
   "id": "3e460813",
   "metadata": {
    "ExecuteTime": {
     "end_time": "2021-07-16T06:17:50.477565Z",
     "start_time": "2021-07-16T06:17:50.229538Z"
    }
   },
   "outputs": [],
   "source": [
    "Data.describe()"
   ]
  },
  {
   "cell_type": "code",
   "execution_count": null,
   "id": "75c79781",
   "metadata": {
    "ExecuteTime": {
     "end_time": "2021-07-16T06:18:11.487118Z",
     "start_time": "2021-07-16T06:18:11.309614Z"
    }
   },
   "outputs": [],
   "source": [
    "Data['AAR'].hist(bins = 50)"
   ]
  },
  {
   "cell_type": "code",
   "execution_count": null,
   "id": "109c0602",
   "metadata": {
    "ExecuteTime": {
     "end_time": "2021-07-16T06:18:14.235244Z",
     "start_time": "2021-07-16T06:18:14.215268Z"
    }
   },
   "outputs": [],
   "source": [
    "Data['AAR'].quantile(np.arange(0, 1, .01))"
   ]
  },
  {
   "cell_type": "code",
   "execution_count": null,
   "id": "66d7a934",
   "metadata": {
    "ExecuteTime": {
     "end_time": "2021-07-16T06:18:16.961173Z",
     "start_time": "2021-07-16T06:18:16.776311Z"
    }
   },
   "outputs": [],
   "source": [
    "Data.groupby('AAR').mean()"
   ]
  },
  {
   "cell_type": "code",
   "execution_count": null,
   "id": "dcdf6a27",
   "metadata": {
    "ExecuteTime": {
     "end_time": "2021-07-16T06:18:22.434508Z",
     "start_time": "2021-07-16T06:18:22.428535Z"
    }
   },
   "outputs": [],
   "source": [
    "target_col = 'AAR'\n",
    "pred_col = 'ADR'\n",
    "num_cols = [x for x in Data.columns if Data[x].dtype in [np.int64, np.float64] and x != target_col]\n",
    "print(num_cols)"
   ]
  },
  {
   "cell_type": "code",
   "execution_count": null,
   "id": "72bb194a",
   "metadata": {},
   "outputs": [],
   "source": [
    "df.box_off_num.hist(bins=50)\n"
   ]
  },
  {
   "cell_type": "code",
   "execution_count": null,
   "id": "a911bf36",
   "metadata": {},
   "outputs": [],
   "source": [
    "sns.pairplot(data=df, vars=num_cols + [target_col], size=5)\n"
   ]
  },
  {
   "cell_type": "code",
   "execution_count": null,
   "id": "dfe0af42",
   "metadata": {
    "ExecuteTime": {
     "end_time": "2021-07-16T07:30:03.215548Z",
     "start_time": "2021-07-16T07:30:02.216270Z"
    },
    "scrolled": false
   },
   "outputs": [],
   "source": [
    "Data.corr().style.background_gradient()\n"
   ]
  },
  {
   "cell_type": "code",
   "execution_count": null,
   "id": "564915a3",
   "metadata": {},
   "outputs": [],
   "source": [
    "sns.pairplot(data=df, vars=[pred_col, target_col], size=4, plot_kws={'alpha': .5})\n"
   ]
  },
  {
   "cell_type": "code",
   "execution_count": null,
   "id": "eeaf599e",
   "metadata": {},
   "outputs": [],
   "source": [
    "sns.pairplot(trn.sample(n=10000), vars=['u', 'dered_u'], hue='class', size=5)\n"
   ]
  },
  {
   "cell_type": "code",
   "execution_count": null,
   "id": "ff7a881e",
   "metadata": {},
   "outputs": [],
   "source": [
    "Data['WS_over20'] = 0\n",
    "Data['WS_over20'][Data['WSPD']>20] =1"
   ]
  },
  {
   "cell_type": "markdown",
   "id": "27a2a95b",
   "metadata": {},
   "source": [
    "# Categorical Variables"
   ]
  },
  {
   "cell_type": "code",
   "execution_count": null,
   "id": "2e3a2a74",
   "metadata": {
    "ExecuteTime": {
     "end_time": "2021-07-12T03:34:19.456500Z",
     "start_time": "2021-07-12T03:34:19.431889Z"
    }
   },
   "outputs": [],
   "source": [
    "Data['AAR'].value_counts()"
   ]
  },
  {
   "cell_type": "code",
   "execution_count": null,
   "id": "206f0c1b",
   "metadata": {},
   "outputs": [],
   "source": [
    "\n",
    "# label, Oridinal Encoding = 각 category를 정수로 변환하는 것\n",
    "Data_cat = Data.copy()\n",
    "oe = OrdinalEncoder()\n",
    "Data_cat[cat_cols] = oe.fit_transform(Data[cat_cols])\n",
    "\n",
    "# nominal - categorical variables 사이에 상하관계가 X\n",
    "# ordinal - 상하관계, 순서가 O\n",
    "\n",
    "\n",
    "# Decision tree이외의 algo는 one-hot encoding을 해야함!!\n",
    "# pd.get_dummies\n",
    "# from sklearn.preprocessing import OneHotEncoder"
   ]
  },
  {
   "cell_type": "code",
   "execution_count": null,
   "id": "4a1b3742",
   "metadata": {},
   "outputs": [],
   "source": [
    "# Target Encoding\n",
    "# 각 category를 해당 cateory 안의 요소들의 label의 평균값으로 변환\n",
    "# -> overfitting에 취약 -> CV, smoothing과 같이 사용\n",
    "\n",
    "# Data[['원하는 column', '타켓 칼럼 = AAR, ADR']].groupby('원하는 column').transform('mean')\n",
    "\n",
    "Data[['원하는 column', '타켓 칼럼 = AAR, ADR']].groupby('원하는 column').transform('mean')"
   ]
  },
  {
   "cell_type": "code",
   "execution_count": null,
   "id": "13b7cb9e",
   "metadata": {},
   "outputs": [],
   "source": [
    "# Frequency Encoding\n",
    "# 각 category를 요소들의 빈도로 변환\n",
    "\n",
    "# pd.DataFrame(Data['원하는 column']].value_counts())\n",
    "# Data.groupby('원하는 column')[['타겟 칼럼']].transform('count')"
   ]
  },
  {
   "cell_type": "code",
   "execution_count": null,
   "id": "7a3a01ea",
   "metadata": {},
   "outputs": [],
   "source": [
    "# Hashing Trick\n",
    "# 각각의 범주를 Hash 함수에 적용한 값으로 변환 \n",
    "\n",
    "# from sklearn.feature_extraction import FeatureHasher\n",
    "# fh = FeatureHasher()\n",
    "# X = hstack([Data[num_cols]] + [fh.fit_transform(df[col]) for col in cat_cols])"
   ]
  },
  {
   "cell_type": "code",
   "execution_count": null,
   "id": "f73677b7",
   "metadata": {},
   "outputs": [],
   "source": []
  },
  {
   "cell_type": "code",
   "execution_count": null,
   "id": "ef255543",
   "metadata": {},
   "outputs": [],
   "source": []
  },
  {
   "cell_type": "code",
   "execution_count": null,
   "id": "e01ca119",
   "metadata": {},
   "outputs": [],
   "source": []
  },
  {
   "cell_type": "markdown",
   "id": "9853529a",
   "metadata": {},
   "source": [
    "Prepare data\n",
    "\n",
    "1. Checking for NaN values and removing constant features in the training data\n",
    "2. Removing duplicated columns\n",
    "3. Drop Sparse Data\n",
    "\n",
    "Add Features<br>\n",
    "1. Sumzeros and Sumvalues \n",
    "2. Other Aggregates\n",
    "3. K-Means \n",
    "4. PCA : Principal component analysis \n",
    "\n"
   ]
  },
  {
   "cell_type": "code",
   "execution_count": null,
   "id": "41eab12a",
   "metadata": {},
   "outputs": [],
   "source": [
    "# Feature Scaling\n",
    "\n",
    "# decision tree류의 알고리즘은 Scaling(standardization, normalization)이 큰 의미 X\n",
    "\n",
    "\n",
    "\"\"\"\n",
    "from sklearn.preprocessing import StandardScaler, MinMaxScaler\n",
    "scaler = StandardScaler()\n",
    "X = scaler.fit_transform(df[num_cols])\n",
    "lr = LinearRegression()\n",
    "lr.fit(X, np.log1p(df[target_col]))\n",
    "df[pred_col] = np.expm1(lr.predict(X))\n",
    "\n",
    "scaler = MinMaxScaler()\n",
    "X = scaler.fit_transform(df[num_cols])\n",
    "lr = LinearRegression()\n",
    "lr.fit(X, np.log1p(df[target_col]))\n",
    "df[pred_col] = np.expm1(lr.predict(X))\n",
    "\"\"\""
   ]
  },
  {
   "cell_type": "code",
   "execution_count": null,
   "id": "2cfa3856",
   "metadata": {},
   "outputs": [],
   "source": [
    "#Binning\n",
    "\n",
    "#어떤 feature를 n개의 그룹으로 나누고, 그것을 새로운 categorical data로 넣는 것\n",
    "\n",
    "\"\"\"\n",
    "df['time_bin'] = pd.qcut(df['time'], 4, labels=False)\n",
    "sns.pairplot(data=df, vars=['time', 'time_bin'], size=4, plot_kws={'alpha': .5})\n",
    "\n",
    "\n",
    "X = pd.concat([df[num_cols], pd.get_dummies(pd.qcut(df['time'], 4, labels=False))], axis=1)    \n",
    "# get_dummies 는 one-hot encoding해주는 것(decision tree 계열을 안 하는게 보통 더 좋은 결과를 냄)\n",
    "\n",
    "lr = LinearRegression()\n",
    "lr.fit(X, np.log1p(df[target_col]))\n",
    "df[pred_col] = np.expm1(lr.predict(X))\n",
    "\"\"\""
   ]
  },
  {
   "cell_type": "code",
   "execution_count": null,
   "id": "8a841b2e",
   "metadata": {},
   "outputs": [],
   "source": [
    "# Polynomial Regression\n",
    "\n",
    "# 연속적인 몇개의 feature들을 조합해서 새로운 feature를 만드는 것 (overfitting 위험 O)\n",
    "\n",
    "\"\"\"\n",
    "from sklearn.preprocessing import PolynomialFeatures\n",
    "poly = PolynomialFeatures(2)        # 2차(x^2, x1 * x2 등) 까지만 만들겠다\n",
    "X = poly.fit_transform(df[num_cols])\n",
    "\n",
    "lr = LinearRegression()\n",
    "lr.fit(X, np.log1p(df[target_col]))\n",
    "df[pred_col] = np.expm1(lr.predict(X))\n",
    "\"\"\""
   ]
  },
  {
   "cell_type": "code",
   "execution_count": null,
   "id": "6e7e2b10",
   "metadata": {},
   "outputs": [],
   "source": [
    "# Checking for NaN values and removing constant features in the training data\n",
    "# Removing duplicated columns\n",
    "# Drop Sparse Data\n",
    "\n",
    "### Add Features\n",
    "# Sumzeros and Sumvalues\n",
    "# Other Aggregates\n",
    "# K-Means\n",
    "# PCA : Principal component analysis\n",
    "\n"
   ]
  },
  {
   "cell_type": "markdown",
   "id": "c5a5f156",
   "metadata": {},
   "source": [
    "# Save"
   ]
  },
  {
   "cell_type": "code",
   "execution_count": 4,
   "id": "dd6c8339",
   "metadata": {
    "ExecuteTime": {
     "end_time": "2021-07-25T05:57:10.048374Z",
     "start_time": "2021-07-25T05:57:09.987684Z"
    }
   },
   "outputs": [],
   "source": [
    "# 필요없는 것을 버리기\n",
    "Data_temp = Data.drop('TMP', axis=1)\n",
    "Data_temp = Data_temp.drop('TD', axis=1)\n",
    "Data_temp = Data_temp.drop('HM', axis=1)\n",
    "Data_temp = Data_temp.drop('PS', axis=1)\n",
    "Data_temp = Data_temp.drop('PA', axis=1)\n",
    "\n",
    "#고층바람 너무 높은 고도는 뺴자 \n",
    "Data_temp = Data_temp.drop('WD_400', axis=1)\n",
    "Data_temp = Data_temp.drop('WD_500', axis=1)\n",
    "Data_temp = Data_temp.drop('WD_700', axis=1)\n",
    "Data_temp = Data_temp.drop('WS_400', axis=1)\n",
    "Data_temp = Data_temp.drop('WS_500', axis=1)\n",
    "Data_temp = Data_temp.drop('WS_700', axis=1)"
   ]
  },
  {
   "cell_type": "code",
   "execution_count": 5,
   "id": "c397e781",
   "metadata": {
    "ExecuteTime": {
     "end_time": "2021-07-25T05:57:10.787811Z",
     "start_time": "2021-07-25T05:57:10.680780Z"
    }
   },
   "outputs": [],
   "source": [
    "# drop TAF\n",
    "for i in range(6,30,6):\n",
    "    Data_temp = Data_temp.drop(f'WDIR_t{i}', axis=1)\n",
    "    Data_temp = Data_temp.drop(f'WSPD_t{i}', axis=1)\n",
    "    Data_temp = Data_temp.drop(f'WG_t{i}', axis=1)\n",
    "    Data_temp = Data_temp.drop(f'VIS_t{i}', axis=1)\n",
    "    Data_temp = Data_temp.drop(f'WC_t{i}', axis=1)\n",
    "    Data_temp = Data_temp.drop(f'CLA_1LYR_t{i}', axis=1)\n",
    "    Data_temp = Data_temp.drop(f'BASE_1LYR_t{i}', axis=1)\n",
    "    Data_temp = Data_temp.drop(f'CLA_2LYR_t{i}', axis=1)\n",
    "    Data_temp = Data_temp.drop(f'BASE_2LYR_t{i}', axis=1)\n",
    "    Data_temp = Data_temp.drop(f'CLA_3LYR_t{i}', axis=1)\n",
    "    Data_temp = Data_temp.drop(f'BASE_3LYR_t{i}', axis=1)"
   ]
  },
  {
   "cell_type": "code",
   "execution_count": 6,
   "id": "fef4ec4e",
   "metadata": {
    "ExecuteTime": {
     "end_time": "2021-07-25T05:57:11.466742Z",
     "start_time": "2021-07-25T05:57:11.267689Z"
    }
   },
   "outputs": [],
   "source": [
    "# 각 시간에 맞는 TAF로 나누기\n",
    "taf6 = [12,18,24]\n",
    "taf12 = [6,18,24]\n",
    "taf18 = [6,12,24]\n",
    "taf24 = [6,12,18]\n",
    "    \n",
    "# 각 시간에 맞는 taf 넣기\n",
    "data_taf = {}\n",
    "for i in range(6,30,6):\n",
    "    data_taf[f'Data_{i}'] = Data_temp    \n",
    "    data_taf[f'Data_{i}'] = data_taf[f'Data_{i}'].join(Data[f'WDIR_t{i}'])\n",
    "    data_taf[f'Data_{i}'] = data_taf[f'Data_{i}'].join(Data[f'WSPD_t{i}'])\n",
    "    data_taf[f'Data_{i}'] = data_taf[f'Data_{i}'].join(Data[f'WG_t{i}'])\n",
    "    data_taf[f'Data_{i}'] = data_taf[f'Data_{i}'].join(Data[f'VIS_t{i}'])\n",
    "    data_taf[f'Data_{i}'] = data_taf[f'Data_{i}'].join(Data[f'WC_t{i}'])\n",
    "    data_taf[f'Data_{i}'] = data_taf[f'Data_{i}'].join(Data[f'CLA_1LYR_t{i}'])\n",
    "    data_taf[f'Data_{i}'] = data_taf[f'Data_{i}'].join(Data[f'BASE_1LYR_t{i}'])\n",
    "    data_taf[f'Data_{i}'] = data_taf[f'Data_{i}'].join(Data[f'CLA_2LYR_t{i}'])\n",
    "    data_taf[f'Data_{i}'] = data_taf[f'Data_{i}'].join(Data[f'BASE_2LYR_t{i}'])\n",
    "    data_taf[f'Data_{i}'] = data_taf[f'Data_{i}'].join(Data[f'CLA_3LYR_t{i}'])\n",
    "    data_taf[f'Data_{i}'] = data_taf[f'Data_{i}'].join(Data[f'BASE_3LYR_t{i}'])\n",
    "    \n",
    "Data_6 = data_taf['Data_6']\n",
    "Data_12 = data_taf['Data_12']\n",
    "Data_18 = data_taf['Data_18']\n",
    "Data_24 = data_taf['Data_24']"
   ]
  },
  {
   "cell_type": "code",
   "execution_count": 7,
   "id": "6ae6c818",
   "metadata": {
    "ExecuteTime": {
     "end_time": "2021-07-25T05:57:15.893626Z",
     "start_time": "2021-07-25T05:57:13.384092Z"
    }
   },
   "outputs": [],
   "source": [
    "# save total data for Jupyter notebook\n",
    "Data.to_csv('..\\\\data\\\\data.csv')\n",
    "Data_6.to_csv('..\\\\data\\\\data_6.csv')\n",
    "Data_12.to_csv('..\\\\data\\\\data_12.csv')\n",
    "Data_18.to_csv('..\\\\data\\\\data_18.csv')\n",
    "Data_24.to_csv('..\\\\data\\\\data_24.csv')"
   ]
  },
  {
   "cell_type": "code",
   "execution_count": 8,
   "id": "06071d5f",
   "metadata": {
    "ExecuteTime": {
     "end_time": "2021-07-25T05:57:17.909459Z",
     "start_time": "2021-07-25T05:57:17.878457Z"
    }
   },
   "outputs": [],
   "source": [
    "# save data for .py\n",
    "\n",
    "column_name_a = ['taf', 'label', 'EAD', 'EDD', 'year', 'month', 'day', 'hour', 'DayName', 'Arpt_cond',\n",
    "               'P_Airp', 'P_AAR', 'P_ADR', 'Arrival_remainder', 'Departure_remainder',\n",
    "               'WD_850', 'WD_925', 'WD_1000', 'WS_850', 'WS_925', 'WS_1000',\n",
    "               'WD', 'WSPD', 'WS_GST', 'VIS', 'WC', 'RN', \n",
    "               'CA_TOT', 'CLA_1LYR', 'BASE_1LYR','CLA_2LYR', 'BASE_2LYR', 'CLA_3LYR', 'BASE_3LYR', 'CLA_4LYR','BASE_4LYR', 'RVR',\n",
    "               'WDIR_t', 'WSPD_t', 'WG_t', 'VIS_t', 'WC_t',\n",
    "               'CLA_1LYR_t', 'BASE_1LYR_t', 'CLA_2LYR_t', 'BASE_2LYR_t', 'CLA_3LYR_t', 'BASE_3LYR_t']\n",
    "column_name_d = ['taf', 'EAD', 'label', 'EDD', 'year', 'month', 'day', 'hour', 'DayName', 'Arpt_cond',\n",
    "               'P_Airp', 'P_AAR', 'P_ADR', 'Arrival_remainder', 'Departure_remainder',\n",
    "               'WD_850', 'WD_925', 'WD_1000', 'WS_850', 'WS_925', 'WS_1000',\n",
    "               'WD', 'WSPD', 'WS_GST', 'VIS', 'WC', 'RN', \n",
    "               'CA_TOT', 'CLA_1LYR', 'BASE_1LYR','CLA_2LYR', 'BASE_2LYR', 'CLA_3LYR', 'BASE_3LYR', 'CLA_4LYR','BASE_4LYR', 'RVR',\n",
    "               'WDIR_t', 'WSPD_t', 'WG_t', 'VIS_t', 'WC_t',\n",
    "               'CLA_1LYR_t', 'BASE_1LYR_t', 'CLA_2LYR_t', 'BASE_2LYR_t', 'CLA_3LYR_t', 'BASE_3LYR_t']\n",
    "arrival_train = pd.DataFrame([], columns = column_name_a)\n",
    "arrival_test = pd.DataFrame([], columns = column_name_a)\n",
    "departure_train = pd.DataFrame([], columns = column_name_d)\n",
    "departure_test = pd.DataFrame([], columns = column_name_d)"
   ]
  },
  {
   "cell_type": "code",
   "execution_count": 9,
   "id": "fd4a5590",
   "metadata": {
    "ExecuteTime": {
     "end_time": "2021-07-25T05:57:20.555437Z",
     "start_time": "2021-07-25T05:57:19.622153Z"
    }
   },
   "outputs": [],
   "source": [
    "for i in range(6,30,6):\n",
    "\n",
    "    data_name = 'Data_' + str(i) + '.csv'            \n",
    "    data_file = data_dir / data_name\n",
    "    Data_raw = pd.read_csv(data_file, index_col=0)\n",
    "    Data_m = pd.read_csv(data_file, index_col=0)\n",
    "    Data_d = Data_m.drop('AAR', axis=1)\n",
    "    Data_a = Data_m.drop('ADR', axis=1)\n",
    "\n",
    "    # Arrival\n",
    "    train_a = Data_a\n",
    "    train_a.rename(columns = {'AAR' : 'label'}, inplace = True)\n",
    "\n",
    "    # Departure\n",
    "    train_d = Data_d\n",
    "    train_d.rename(columns = {'ADR' : 'label'}, inplace = True)\n",
    "\n",
    "    # temp dataframe\n",
    "    temp_train_a = pd.DataFrame({'taf' : i * np.ones(len(train_a))}).join(train_a)\n",
    "    temp_train_a.columns = column_name_a\n",
    "    temp_train_d = pd.DataFrame({'taf' : i * np.ones(len(train_d))}).join(train_d)\n",
    "    temp_train_d.columns = column_name_d\n",
    "\n",
    "\n",
    "    # append\n",
    "    arrival_train = arrival_train.append(temp_train_a)\n",
    "    departure_train = departure_train.append(temp_train_d)"
   ]
  },
  {
   "cell_type": "code",
   "execution_count": 10,
   "id": "ab519458",
   "metadata": {
    "ExecuteTime": {
     "end_time": "2021-07-25T05:57:27.824565Z",
     "start_time": "2021-07-25T05:57:23.849850Z"
    }
   },
   "outputs": [],
   "source": [
    "# Save\n",
    "arrival_train.reset_index(drop=True).to_csv('..\\\\input\\\\arrival_train.csv')\n",
    "departure_train.reset_index(drop=True).to_csv('..\\\\input\\\\departure_train.csv')"
   ]
  },
  {
   "cell_type": "code",
   "execution_count": null,
   "id": "7fb3297a",
   "metadata": {},
   "outputs": [],
   "source": []
  },
  {
   "cell_type": "code",
   "execution_count": null,
   "id": "0c58294d",
   "metadata": {},
   "outputs": [],
   "source": []
  }
 ],
 "metadata": {
  "kernelspec": {
   "display_name": "Python 3",
   "language": "python",
   "name": "python3"
  },
  "language_info": {
   "codemirror_mode": {
    "name": "ipython",
    "version": 3
   },
   "file_extension": ".py",
   "mimetype": "text/x-python",
   "name": "python",
   "nbconvert_exporter": "python",
   "pygments_lexer": "ipython3",
   "version": "3.8.10"
  },
  "toc": {
   "base_numbering": 1,
   "nav_menu": {},
   "number_sections": true,
   "sideBar": true,
   "skip_h1_title": false,
   "title_cell": "Table of Contents",
   "title_sidebar": "Contents",
   "toc_cell": false,
   "toc_position": {
    "height": "calc(100% - 180px)",
    "left": "10px",
    "top": "150px",
    "width": "184.475px"
   },
   "toc_section_display": true,
   "toc_window_display": true
  },
  "varInspector": {
   "cols": {
    "lenName": 16,
    "lenType": 16,
    "lenVar": 40
   },
   "kernels_config": {
    "python": {
     "delete_cmd_postfix": "",
     "delete_cmd_prefix": "del ",
     "library": "var_list.py",
     "varRefreshCmd": "print(var_dic_list())"
    },
    "r": {
     "delete_cmd_postfix": ") ",
     "delete_cmd_prefix": "rm(",
     "library": "var_list.r",
     "varRefreshCmd": "cat(var_dic_list()) "
    }
   },
   "types_to_exclude": [
    "module",
    "function",
    "builtin_function_or_method",
    "instance",
    "_Feature"
   ],
   "window_display": false
  }
 },
 "nbformat": 4,
 "nbformat_minor": 5
}
