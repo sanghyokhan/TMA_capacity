{
 "cells": [
  {
   "cell_type": "code",
   "execution_count": 15,
   "id": "b942d22e",
   "metadata": {
    "ExecuteTime": {
     "end_time": "2021-07-29T06:45:08.997633Z",
     "start_time": "2021-07-29T06:45:08.991720Z"
    }
   },
   "outputs": [],
   "source": [
    "import pandas as pd\n",
    "import numpy as np"
   ]
  },
  {
   "cell_type": "code",
   "execution_count": 9,
   "id": "e03a00b1",
   "metadata": {
    "ExecuteTime": {
     "end_time": "2021-07-29T06:44:00.419985Z",
     "start_time": "2021-07-29T06:43:59.783441Z"
    }
   },
   "outputs": [],
   "source": [
    "#데이터 불러오기\n",
    "data_arrival_raw = pd.read_csv('../input/arrival_train.csv', index_col = 0)\n",
    "data_arrival_raw = data_arrival_raw[data_arrival_raw['taf'] == 6].reset_index(drop = True)\n",
    "data_arrival_raw = data_arrival_raw.drop('taf', axis = 1)\n",
    "\n",
    "data_departure_raw = pd.read_csv('../input/departure_train.csv', index_col = 0)\n",
    "data_departure_raw = data_departure_raw[data_departure_raw['taf'] == 6].reset_index(drop = True)\n",
    "data_departure_raw = data_departure_raw.drop('taf', axis = 1)"
   ]
  },
  {
   "cell_type": "code",
   "execution_count": 16,
   "id": "70981dbc",
   "metadata": {
    "ExecuteTime": {
     "end_time": "2021-07-29T06:45:33.930719Z",
     "start_time": "2021-07-29T06:45:33.911692Z"
    }
   },
   "outputs": [
    {
     "data": {
      "text/plain": [
       "array([[124.88577137,  49.88594837],\n",
       "       [ 49.88594837, 154.43837915]])"
      ]
     },
     "execution_count": 16,
     "metadata": {},
     "output_type": "execute_result"
    }
   ],
   "source": [
    "# covariance\n",
    "np.cov(data_arrival_raw['label'].values, data_departure_raw['label'].values)"
   ]
  },
  {
   "cell_type": "code",
   "execution_count": 17,
   "id": "f5925ffb",
   "metadata": {
    "ExecuteTime": {
     "end_time": "2021-07-29T07:04:31.133623Z",
     "start_time": "2021-07-29T07:04:31.118291Z"
    }
   },
   "outputs": [
    {
     "data": {
      "text/plain": [
       "22.70884703196347"
      ]
     },
     "execution_count": 17,
     "metadata": {},
     "output_type": "execute_result"
    }
   ],
   "source": [
    "np.mean(data_arrival_raw['label'].values) "
   ]
  },
  {
   "cell_type": "code",
   "execution_count": 29,
   "id": "1f718ce6",
   "metadata": {
    "ExecuteTime": {
     "end_time": "2021-07-29T07:16:35.758389Z",
     "start_time": "2021-07-29T07:16:35.737133Z"
    }
   },
   "outputs": [],
   "source": [
    "a_raw = pd.read_csv('../src/a.csv', index_col = 0)\n",
    "d_raw = pd.read_csv('../src/d.csv', index_col = 0)"
   ]
  },
  {
   "cell_type": "code",
   "execution_count": 56,
   "id": "83c8784d",
   "metadata": {
    "ExecuteTime": {
     "end_time": "2021-07-29T07:25:36.277675Z",
     "start_time": "2021-07-29T07:25:36.265971Z"
    }
   },
   "outputs": [],
   "source": [
    "a = 10\n",
    "d = 15"
   ]
  },
  {
   "cell_type": "code",
   "execution_count": 30,
   "id": "285d39f4",
   "metadata": {
    "ExecuteTime": {
     "end_time": "2021-07-29T07:16:36.369825Z",
     "start_time": "2021-07-29T07:16:36.341808Z"
    }
   },
   "outputs": [
    {
     "data": {
      "text/html": [
       "<div>\n",
       "<style scoped>\n",
       "    .dataframe tbody tr th:only-of-type {\n",
       "        vertical-align: middle;\n",
       "    }\n",
       "\n",
       "    .dataframe tbody tr th {\n",
       "        vertical-align: top;\n",
       "    }\n",
       "\n",
       "    .dataframe thead th {\n",
       "        text-align: right;\n",
       "    }\n",
       "</style>\n",
       "<table border=\"1\" class=\"dataframe\">\n",
       "  <thead>\n",
       "    <tr style=\"text-align: right;\">\n",
       "      <th></th>\n",
       "      <th>Predictions</th>\n",
       "      <th>Standard Deviation</th>\n",
       "      <th>95% Predictions_upper</th>\n",
       "      <th>95% Predictions_lower</th>\n",
       "    </tr>\n",
       "  </thead>\n",
       "  <tbody>\n",
       "    <tr>\n",
       "      <th>0</th>\n",
       "      <td>13.899440</td>\n",
       "      <td>3.502884</td>\n",
       "      <td>20.764967</td>\n",
       "      <td>7.033913</td>\n",
       "    </tr>\n",
       "    <tr>\n",
       "      <th>1</th>\n",
       "      <td>14.031320</td>\n",
       "      <td>3.491613</td>\n",
       "      <td>20.874755</td>\n",
       "      <td>7.187885</td>\n",
       "    </tr>\n",
       "    <tr>\n",
       "      <th>2</th>\n",
       "      <td>14.688028</td>\n",
       "      <td>3.374428</td>\n",
       "      <td>21.301785</td>\n",
       "      <td>8.074272</td>\n",
       "    </tr>\n",
       "    <tr>\n",
       "      <th>3</th>\n",
       "      <td>15.331044</td>\n",
       "      <td>3.267951</td>\n",
       "      <td>21.736110</td>\n",
       "      <td>8.925978</td>\n",
       "    </tr>\n",
       "    <tr>\n",
       "      <th>4</th>\n",
       "      <td>15.900002</td>\n",
       "      <td>3.223750</td>\n",
       "      <td>22.218436</td>\n",
       "      <td>9.581567</td>\n",
       "    </tr>\n",
       "    <tr>\n",
       "      <th>...</th>\n",
       "      <td>...</td>\n",
       "      <td>...</td>\n",
       "      <td>...</td>\n",
       "      <td>...</td>\n",
       "    </tr>\n",
       "    <tr>\n",
       "      <th>76</th>\n",
       "      <td>41.287997</td>\n",
       "      <td>3.070170</td>\n",
       "      <td>47.305420</td>\n",
       "      <td>35.270574</td>\n",
       "    </tr>\n",
       "    <tr>\n",
       "      <th>77</th>\n",
       "      <td>41.287997</td>\n",
       "      <td>3.070170</td>\n",
       "      <td>47.305420</td>\n",
       "      <td>35.270574</td>\n",
       "    </tr>\n",
       "    <tr>\n",
       "      <th>78</th>\n",
       "      <td>41.287997</td>\n",
       "      <td>3.070170</td>\n",
       "      <td>47.305420</td>\n",
       "      <td>35.270574</td>\n",
       "    </tr>\n",
       "    <tr>\n",
       "      <th>79</th>\n",
       "      <td>41.287997</td>\n",
       "      <td>3.070170</td>\n",
       "      <td>47.305420</td>\n",
       "      <td>35.270574</td>\n",
       "    </tr>\n",
       "    <tr>\n",
       "      <th>80</th>\n",
       "      <td>41.287997</td>\n",
       "      <td>3.070170</td>\n",
       "      <td>47.305420</td>\n",
       "      <td>35.270574</td>\n",
       "    </tr>\n",
       "  </tbody>\n",
       "</table>\n",
       "<p>81 rows × 4 columns</p>\n",
       "</div>"
      ],
      "text/plain": [
       "    Predictions  Standard Deviation  95% Predictions_upper  \\\n",
       "0     13.899440            3.502884              20.764967   \n",
       "1     14.031320            3.491613              20.874755   \n",
       "2     14.688028            3.374428              21.301785   \n",
       "3     15.331044            3.267951              21.736110   \n",
       "4     15.900002            3.223750              22.218436   \n",
       "..          ...                 ...                    ...   \n",
       "76    41.287997            3.070170              47.305420   \n",
       "77    41.287997            3.070170              47.305420   \n",
       "78    41.287997            3.070170              47.305420   \n",
       "79    41.287997            3.070170              47.305420   \n",
       "80    41.287997            3.070170              47.305420   \n",
       "\n",
       "    95% Predictions_lower  \n",
       "0                7.033913  \n",
       "1                7.187885  \n",
       "2                8.074272  \n",
       "3                8.925978  \n",
       "4                9.581567  \n",
       "..                    ...  \n",
       "76              35.270574  \n",
       "77              35.270574  \n",
       "78              35.270574  \n",
       "79              35.270574  \n",
       "80              35.270574  \n",
       "\n",
       "[81 rows x 4 columns]"
      ]
     },
     "execution_count": 30,
     "metadata": {},
     "output_type": "execute_result"
    }
   ],
   "source": [
    "a_raw"
   ]
  },
  {
   "cell_type": "code",
   "execution_count": 46,
   "id": "7979b255",
   "metadata": {
    "ExecuteTime": {
     "end_time": "2021-07-29T07:22:27.579009Z",
     "start_time": "2021-07-29T07:22:27.556793Z"
    }
   },
   "outputs": [
    {
     "data": {
      "text/plain": [
       "20.765092994043968"
      ]
     },
     "execution_count": 46,
     "metadata": {},
     "output_type": "execute_result"
    }
   ],
   "source": [
    "a_raw['Predictions'][0] + a_raw['Standard Deviation'][0]*1.96"
   ]
  },
  {
   "cell_type": "code",
   "execution_count": 61,
   "id": "68660871",
   "metadata": {
    "ExecuteTime": {
     "end_time": "2021-07-29T07:26:00.849944Z",
     "start_time": "2021-07-29T07:26:00.839427Z"
    }
   },
   "outputs": [
    {
     "data": {
      "text/plain": [
       "0     350.288417\n",
       "1     349.161255\n",
       "2     337.442763\n",
       "3     326.795083\n",
       "4     322.375042\n",
       "         ...    \n",
       "76    307.017021\n",
       "77    307.017021\n",
       "78    307.017021\n",
       "79    307.017021\n",
       "80    307.017021\n",
       "Name: Standard Deviation, Length: 81, dtype: float64"
      ]
     },
     "execution_count": 61,
     "metadata": {},
     "output_type": "execute_result"
    }
   ],
   "source": [
    "(a ** 2)*a_raw['Standard Deviation'] + (b**2)*d_raw['Standard Deviation'] + 2*a*b()"
   ]
  },
  {
   "cell_type": "code",
   "execution_count": 68,
   "id": "37bb6851",
   "metadata": {
    "ExecuteTime": {
     "end_time": "2021-07-29T07:28:07.033552Z",
     "start_time": "2021-07-29T07:28:07.023559Z"
    }
   },
   "outputs": [
    {
     "data": {
      "text/plain": [
       "array([[0.07373589, 0.0146465 ],\n",
       "       [0.0146465 , 0.03174382]])"
      ]
     },
     "execution_count": 68,
     "metadata": {},
     "output_type": "execute_result"
    }
   ],
   "source": [
    "np.cov(a_raw['Standard Deviation'], d_raw['Standard Deviation'])"
   ]
  },
  {
   "cell_type": "code",
   "execution_count": 76,
   "id": "d62140f6",
   "metadata": {
    "ExecuteTime": {
     "end_time": "2021-07-29T08:11:15.934752Z",
     "start_time": "2021-07-29T08:11:15.927782Z"
    }
   },
   "outputs": [],
   "source": [
    "def covar(a, b, a_raw, d_raw):\n",
    "    a_ = a/(a+b)\n",
    "    b_ = b/(a+b)\n",
    "    xx = (a_ **2)*a_raw['Standard Deviation'] + (b_**2)*d_raw['Standard Deviation'] # 둘 사이에 covariance는 어카지???\n",
    "    return xx"
   ]
  },
  {
   "cell_type": "code",
   "execution_count": 77,
   "id": "03589eb4",
   "metadata": {
    "ExecuteTime": {
     "end_time": "2021-07-29T08:11:17.925816Z",
     "start_time": "2021-07-29T08:11:17.908199Z"
    }
   },
   "outputs": [],
   "source": [
    "xx = covar(a, d, a_raw, d_raw)"
   ]
  },
  {
   "cell_type": "code",
   "execution_count": 88,
   "id": "5f4ea292",
   "metadata": {
    "ExecuteTime": {
     "end_time": "2021-07-29T08:31:06.548927Z",
     "start_time": "2021-07-29T08:31:06.529339Z"
    }
   },
   "outputs": [],
   "source": [
    "a_ = a/(a+d)\n",
    "b_ = d/(a+d)\n",
    "xx = (a_ **2)*a_raw['Standard Deviation'] + (b_**2)*d_raw['Standard Deviation'] # 둘 사이에 covariance는 어카지???"
   ]
  },
  {
   "cell_type": "code",
   "execution_count": 94,
   "id": "4e7dec89",
   "metadata": {
    "ExecuteTime": {
     "end_time": "2021-07-29T08:32:34.582021Z",
     "start_time": "2021-07-29T08:32:34.576020Z"
    }
   },
   "outputs": [],
   "source": [
    "aaa = pd.DataFrame(xx)"
   ]
  }
 ],
 "metadata": {
  "kernelspec": {
   "display_name": "Python 3",
   "language": "python",
   "name": "python3"
  },
  "language_info": {
   "codemirror_mode": {
    "name": "ipython",
    "version": 3
   },
   "file_extension": ".py",
   "mimetype": "text/x-python",
   "name": "python",
   "nbconvert_exporter": "python",
   "pygments_lexer": "ipython3",
   "version": "3.8.10"
  },
  "toc": {
   "base_numbering": 1,
   "nav_menu": {},
   "number_sections": true,
   "sideBar": true,
   "skip_h1_title": false,
   "title_cell": "Table of Contents",
   "title_sidebar": "Contents",
   "toc_cell": false,
   "toc_position": {},
   "toc_section_display": true,
   "toc_window_display": false
  },
  "varInspector": {
   "cols": {
    "lenName": 16,
    "lenType": 16,
    "lenVar": 40
   },
   "kernels_config": {
    "python": {
     "delete_cmd_postfix": "",
     "delete_cmd_prefix": "del ",
     "library": "var_list.py",
     "varRefreshCmd": "print(var_dic_list())"
    },
    "r": {
     "delete_cmd_postfix": ") ",
     "delete_cmd_prefix": "rm(",
     "library": "var_list.r",
     "varRefreshCmd": "cat(var_dic_list()) "
    }
   },
   "types_to_exclude": [
    "module",
    "function",
    "builtin_function_or_method",
    "instance",
    "_Feature"
   ],
   "window_display": false
  }
 },
 "nbformat": 4,
 "nbformat_minor": 5
}
