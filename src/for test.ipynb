{
 "cells": [
  {
   "cell_type": "code",
   "execution_count": 1,
   "id": "8944fa7b",
   "metadata": {
    "ExecuteTime": {
     "end_time": "2021-07-25T07:04:06.607928Z",
     "start_time": "2021-07-25T07:04:01.052483Z"
    }
   },
   "outputs": [],
   "source": [
    "import os\n",
    "import joblib\n",
    "import argparse\n",
    "import numpy as np\n",
    "import pandas as pd\n",
    "from sklearn.model_selection import train_test_split\n",
    "from sklearn.metrics import mean_squared_error, r2_score\n",
    "\n",
    "import config\n",
    "import models\n",
    "#import optuna.integration.lightgbm as lgb          \n",
    "#import matplotlib.pyplot as plt\n",
    "#import seaborn as sns"
   ]
  },
  {
   "cell_type": "code",
   "execution_count": null,
   "id": "634ac9b7",
   "metadata": {
    "ExecuteTime": {
     "end_time": "2021-07-24T14:12:13.117001Z",
     "start_time": "2021-07-24T14:12:12.930724Z"
    }
   },
   "outputs": [],
   "source": [
    "\n",
    "\"\"\" Arrival \"\"\"\n",
    "# 1st hour prediction with actual previous hour's AAR\n",
    "# load selected prediction time data\n",
    "train_data_arrival_raw = pd.read_csv( os.path.join(config.input_dir, 'arrival_train.csv'), index_col = 0)\n",
    "train_data_arrival = train_data_arrival_raw[train_data_arrival_raw['taf'] == 6].reset_index(drop = True)            # 맨 처음은 6시간 taf 쓰기\n",
    "train_data_arrival = train_data_arrival.drop('taf', axis = 1)"
   ]
  },
  {
   "cell_type": "code",
   "execution_count": null,
   "id": "c5e1989f",
   "metadata": {
    "ExecuteTime": {
     "end_time": "2021-07-24T14:12:13.677130Z",
     "start_time": "2021-07-24T14:12:13.630180Z"
    }
   },
   "outputs": [],
   "source": [
    "time = 2\n",
    "train_data_arrival"
   ]
  },
  {
   "cell_type": "code",
   "execution_count": null,
   "id": "2e2cf962",
   "metadata": {},
   "outputs": [],
   "source": []
  },
  {
   "cell_type": "code",
   "execution_count": null,
   "id": "23998933",
   "metadata": {},
   "outputs": [],
   "source": []
  }
 ],
 "metadata": {
  "kernelspec": {
   "display_name": "Python 3",
   "language": "python",
   "name": "python3"
  },
  "language_info": {
   "codemirror_mode": {
    "name": "ipython",
    "version": 3
   },
   "file_extension": ".py",
   "mimetype": "text/x-python",
   "name": "python",
   "nbconvert_exporter": "python",
   "pygments_lexer": "ipython3",
   "version": "3.8.10"
  },
  "toc": {
   "base_numbering": 1,
   "nav_menu": {},
   "number_sections": true,
   "sideBar": true,
   "skip_h1_title": false,
   "title_cell": "Table of Contents",
   "title_sidebar": "Contents",
   "toc_cell": false,
   "toc_position": {},
   "toc_section_display": true,
   "toc_window_display": false
  },
  "varInspector": {
   "cols": {
    "lenName": 16,
    "lenType": 16,
    "lenVar": 40
   },
   "kernels_config": {
    "python": {
     "delete_cmd_postfix": "",
     "delete_cmd_prefix": "del ",
     "library": "var_list.py",
     "varRefreshCmd": "print(var_dic_list())"
    },
    "r": {
     "delete_cmd_postfix": ") ",
     "delete_cmd_prefix": "rm(",
     "library": "var_list.r",
     "varRefreshCmd": "cat(var_dic_list()) "
    }
   },
   "types_to_exclude": [
    "module",
    "function",
    "builtin_function_or_method",
    "instance",
    "_Feature"
   ],
   "window_display": false
  }
 },
 "nbformat": 4,
 "nbformat_minor": 5
}
